{
 "cells": [
  {
   "cell_type": "code",
   "execution_count": 3,
   "metadata": {},
   "outputs": [
    {
     "name": "stderr",
     "output_type": "stream",
     "text": [
      "[nltk_data] Downloading package stopwords to\n",
      "[nltk_data]     C:\\Users\\manal\\AppData\\Roaming\\nltk_data...\n",
      "[nltk_data]   Package stopwords is already up-to-date!\n"
     ]
    }
   ],
   "source": [
    "import os\n",
    "import math\n",
    "from math import ceil\n",
    "\n",
    "import re\n",
    "import random\n",
    "import time\n",
    "import json\n",
    "\n",
    "from tqdm import tqdm_notebook\n",
    "from collections import Counter, defaultdict\n",
    "from operator import itemgetter\n",
    "import matplotlib.pyplot as plt\n",
    "\n",
    "import pandas as pd\n",
    "import numpy as np\n",
    "\n",
    "import requests\n",
    "from bs4 import BeautifulSoup as BS\n",
    "\n",
    "import selenium\n",
    "from selenium import webdriver\n",
    "from selenium.webdriver.common.keys import Keys\n",
    "\n",
    "import pymorphy2\n",
    "\n",
    "import nltk\n",
    "from nltk.corpus import stopwords\n",
    "nltk.download(\"stopwords\")\n",
    "stopwords = set(stopwords.words('russian'))\n",
    "\n",
    "import scipy\n",
    "from scipy.cluster import hierarchy\n",
    "from scipy.cluster.hierarchy import dendrogram, linkage\n",
    "\n",
    "from sklearn.feature_extraction.text import CountVectorizer\n",
    "from sklearn.cluster import AgglomerativeClustering as agg_clustering\n",
    "\n",
    "pd.options.display.max_columns = 50"
   ]
  },
  {
   "cell_type": "markdown",
   "metadata": {},
   "source": [
    "## Word frequency"
   ]
  },
  {
   "cell_type": "code",
   "execution_count": 4,
   "metadata": {},
   "outputs": [],
   "source": [
    "# media_outlets = dict({'media':[files]})"
   ]
  },
  {
   "cell_type": "code",
   "execution_count": 2,
   "metadata": {},
   "outputs": [],
   "source": [
    "def count_frequencies(text, media):\n",
    "\n",
    "    words = re.split(r'\\W+', text)\n",
    "\n",
    "    words_counter = Counter(words)\n",
    "\n",
    "    vocab = defaultdict(int)\n",
    "    morph = pymorphy2.MorphAnalyzer()\n",
    "    for i in tqdm_notebook(dict(words_counter).keys()):\n",
    "        if i and i not in stopwords:\n",
    "            m = morph.parse(i)[0]\n",
    "            if m.tag.POS not in ['PREP', 'CONJ', 'PRCL', 'INTJ', 'NPRO']:\n",
    "                vocab[m.normal_form] += words_counter[i]\n",
    "    \n",
    "    unique_words = []\n",
    "    for j in dict(vocab):\n",
    "        i = re.sub(r'ё', 'е', j)\n",
    "        if i in freq.index:\n",
    "            vocab[j] *= 1000000/len(words)\n",
    "            vocab[j] = round(vocab[j]/freq.loc[i, 'Freq(ipm)'])\n",
    "        else:\n",
    "            unique_words.append(i)\n",
    "\n",
    "    frequencies = pd.DataFrame(sorted(dict(vocab).items(), key=lambda x: x[1], reverse=True))\n",
    "    frequencies.to_csv(f'{media}_freq_full.csv')\n",
    "    frequencies[:100].to_csv(f'{media}_freq_top.csv')\n",
    "    \n",
    "    with open(f'{media}_unique_words.txt', 'w', encoding = 'utf-8') as f:\n",
    "        f.write(', '.join(set(unique_words)))"
   ]
  },
  {
   "cell_type": "code",
   "execution_count": 125,
   "metadata": {
    "scrolled": true
   },
   "outputs": [
    {
     "data": {
      "application/vnd.jupyter.widget-view+json": {
       "model_id": "a259b37df7064b7aacf7943abc615afc",
       "version_major": 2,
       "version_minor": 0
      },
      "text/plain": [
       "HBox(children=(IntProgress(value=0, max=1), HTML(value='')))"
      ]
     },
     "metadata": {},
     "output_type": "display_data"
    },
    {
     "data": {
      "application/vnd.jupyter.widget-view+json": {
       "model_id": "9ad0188b54dc4c3f91bb904678d4864d",
       "version_major": 2,
       "version_minor": 0
      },
      "text/plain": [
       "HBox(children=(IntProgress(value=0, max=217442), HTML(value='')))"
      ]
     },
     "metadata": {},
     "output_type": "display_data"
    },
    {
     "name": "stdout",
     "output_type": "stream",
     "text": [
      "\n",
      "\n"
     ]
    }
   ],
   "source": [
    "freq = pd.read_csv('freqrnc2011.csv', sep='\\t', index_col='Lemma')\n",
    "freq = freq.groupby(level=0).sum()\n",
    "\n",
    "for media in tqdm_notebook(media_outlets.keys()):\n",
    "    text = []\n",
    "    for file in media_outlets[media]:\n",
    "        df = pd.read_csv(file)\n",
    "        text.append(' '.join(df[df.Text.notnull()].Text))\n",
    "    text = ' '.join(text).replace('\\n', ' ')\n",
    "    with open (f'{media}_text.txt', 'w', encoding='utf-8') as f:\n",
    "        f.write(text)\n",
    "    count_frequencies(text, media)"
   ]
  },
  {
   "cell_type": "code",
   "execution_count": 126,
   "metadata": {},
   "outputs": [
    {
     "data": {
      "application/vnd.jupyter.widget-view+json": {
       "model_id": "82511edf794840e9bf2f444db4c106f6",
       "version_major": 2,
       "version_minor": 0
      },
      "text/plain": [
       "HBox(children=(IntProgress(value=0, max=1), HTML(value='')))"
      ]
     },
     "metadata": {},
     "output_type": "display_data"
    },
    {
     "name": "stdout",
     "output_type": "stream",
     "text": [
      "\n"
     ]
    }
   ],
   "source": [
    "l = [file for file in os.listdir() if 'freq_full' in file][:-1]\n",
    "for file in tqdm_notebook(l):\n",
    "    df = pd.read_csv(file)\n",
    "    df[(df['0'].notnull())&(df['0'].str.isalpha())].to_csv(file.split('.')[0]+'_words.'+file.split('.')[1])"
   ]
  },
  {
   "cell_type": "code",
   "execution_count": 23,
   "metadata": {
    "scrolled": true
   },
   "outputs": [
    {
     "name": "stdout",
     "output_type": "stream",
     "text": [
      "144387 aif_freq_full_words.csv\n",
      "7175 autonews_freq_full_words.csv\n",
      "60814 championat_freq_full_words.csv\n",
      "257604 commers_freq_full_words.csv\n",
      "111751 echo_freq_full_words.csv\n",
      "24220 express_freq_full_words.csv\n",
      "193428 gazeta_freq_full_words.csv\n",
      "54130 govorit_freq_full_words.csv\n",
      "34486 indicator_freq_full_words.csv\n",
      "104997 interfax_freq_full_words.csv\n",
      "173204 iz_freq_full_words.csv\n",
      "281972 kp_freq_full_words.csv\n",
      "138905 lenta_freq_full_words.csv\n",
      "44792 mediazona_freq_full_words.csv\n",
      "93113 meduza_freq_full_words.csv\n",
      "119435 mk_freq_full_words.csv\n",
      "34927 motor_freq_full_words.csv\n",
      "73891 novaya_freq_full_words.csv\n",
      "34064 nplus1_freq_full_words.csv\n",
      "88609 ntv_freq_full_words.csv\n",
      "30299 postnauka_freq_full_words.csv\n",
      "17721 radiovesti_freq_full_words.csv\n",
      "94115 rbk_freq_full_words.csv\n",
      "28879 review_freq_full_words.csv\n",
      "193729 ria_freq_full_words.csv\n",
      "240188 rosgazeta_freq_full_words.csv\n",
      "108803 rt_freq_full_words.csv\n",
      "88514 sports_freq_full_words.csv\n",
      "108392 svoboda_freq_full_words.csv\n",
      "194560 tass_freq_full_words.csv\n",
      "27846 thebell_freq_full_words.csv\n",
      "59722 tv1_freq_full_words.csv\n",
      "60295 tvrain_freq_full_words.csv\n",
      "87947 vedomosti_freq_full_words.csv\n",
      "42164 zarulem_freq_full_words.csv\n"
     ]
    }
   ],
   "source": [
    "l = [file for file in os.listdir() if 'freq_full_words' in file]\n",
    "for file in l[:-1]:\n",
    "    df = pd.read_csv(file)\n",
    "    print(len(df), file)"
   ]
  },
  {
   "cell_type": "code",
   "execution_count": 80,
   "metadata": {
    "scrolled": true
   },
   "outputs": [
    {
     "data": {
      "application/vnd.jupyter.widget-view+json": {
       "model_id": "b1f205234afc4f5fb716cbe9597ce2cf",
       "version_major": 2,
       "version_minor": 0
      },
      "text/plain": [
       "HBox(children=(IntProgress(value=0, max=37), HTML(value='')))"
      ]
     },
     "metadata": {},
     "output_type": "display_data"
    },
    {
     "name": "stdout",
     "output_type": "stream",
     "text": [
      "\n"
     ]
    }
   ],
   "source": [
    "keywords = set()\n",
    "l = [file for file in os.listdir() if 'freq_full_words' in file]\n",
    "for file in tqdm_notebook(l):\n",
    "    df = pd.read_csv(file)\n",
    "    keywords.update(list(df[(df['0'].notnull())&(df['0'].str.isalpha())&(df['0'].str.len()>1)]['0'][:1000]))"
   ]
  },
  {
   "cell_type": "code",
   "execution_count": 81,
   "metadata": {},
   "outputs": [
    {
     "data": {
      "text/plain": [
       "9098"
      ]
     },
     "execution_count": 81,
     "metadata": {},
     "output_type": "execute_result"
    }
   ],
   "source": [
    "len(keywords)"
   ]
  },
  {
   "cell_type": "code",
   "execution_count": 82,
   "metadata": {
    "scrolled": true
   },
   "outputs": [],
   "source": [
    "with open('keywords.txt', 'w', encoding='utf-8') as f:\n",
    "    f.write(' '.join(keywords))"
   ]
  },
  {
   "cell_type": "code",
   "execution_count": null,
   "metadata": {},
   "outputs": [],
   "source": []
  },
  {
   "cell_type": "code",
   "execution_count": 10,
   "metadata": {},
   "outputs": [],
   "source": [
    "with open('keywords.txt', encoding='utf-8') as f:\n",
    "    keywords = f.read().split()"
   ]
  },
  {
   "cell_type": "code",
   "execution_count": 12,
   "metadata": {},
   "outputs": [],
   "source": [
    "w = pd.DataFrame(keywords)\n",
    "for file in [file for file in os.listdir() if file.endswith('words.csv')]:\n",
    "    media = file.split('_')[0]\n",
    "    df = pd.read_csv(file)\n",
    "    if 'Unnamed: 0.1' in df.columns:\n",
    "        df.drop(['Unnamed: 0.1'], axis=1, inplace=True)\n",
    "    if 'Unnamed: 0' in df.columns:\n",
    "        df.drop(['Unnamed: 0'], axis=1, inplace=True)\n",
    "    try:\n",
    "        w = w.merge(df, how='left', left_on=0, right_on='0').drop(['0'], axis=1).rename(columns={'1':media})\n",
    "    except KeyError:\n",
    "        print(file) "
   ]
  },
  {
   "cell_type": "code",
   "execution_count": 13,
   "metadata": {},
   "outputs": [
    {
     "data": {
      "text/html": [
       "<div>\n",
       "<style scoped>\n",
       "    .dataframe tbody tr th:only-of-type {\n",
       "        vertical-align: middle;\n",
       "    }\n",
       "\n",
       "    .dataframe tbody tr th {\n",
       "        vertical-align: top;\n",
       "    }\n",
       "\n",
       "    .dataframe thead th {\n",
       "        text-align: right;\n",
       "    }\n",
       "</style>\n",
       "<table border=\"1\" class=\"dataframe\">\n",
       "  <thead>\n",
       "    <tr style=\"text-align: right;\">\n",
       "      <th></th>\n",
       "      <th>word</th>\n",
       "      <th>aif</th>\n",
       "      <th>autonews</th>\n",
       "      <th>championat</th>\n",
       "      <th>commers</th>\n",
       "      <th>echo</th>\n",
       "      <th>express</th>\n",
       "      <th>fontanka</th>\n",
       "      <th>gazeta</th>\n",
       "      <th>govorit</th>\n",
       "      <th>indicator</th>\n",
       "      <th>interfax</th>\n",
       "      <th>iz</th>\n",
       "      <th>kp</th>\n",
       "      <th>lenta</th>\n",
       "      <th>mediazona</th>\n",
       "      <th>meduza</th>\n",
       "      <th>mk</th>\n",
       "      <th>moscow</th>\n",
       "      <th>motor</th>\n",
       "      <th>novaya</th>\n",
       "      <th>nplus1</th>\n",
       "      <th>ntv</th>\n",
       "      <th>postnauka</th>\n",
       "      <th>radiovesti</th>\n",
       "      <th>rbk</th>\n",
       "      <th>review</th>\n",
       "      <th>ria</th>\n",
       "      <th>rosgazeta</th>\n",
       "      <th>rt</th>\n",
       "      <th>sports</th>\n",
       "      <th>svoboda</th>\n",
       "      <th>tass</th>\n",
       "      <th>thebell</th>\n",
       "      <th>tv1</th>\n",
       "      <th>tvrain</th>\n",
       "      <th>vedomosti</th>\n",
       "      <th>zarulem</th>\n",
       "      <th>zvezda</th>\n",
       "      <th>sum</th>\n",
       "    </tr>\n",
       "  </thead>\n",
       "  <tbody>\n",
       "    <tr>\n",
       "      <td>2921</td>\n",
       "      <td>россия</td>\n",
       "      <td>42962.0</td>\n",
       "      <td>689.0</td>\n",
       "      <td>20195.0</td>\n",
       "      <td>138490.0</td>\n",
       "      <td>41943.0</td>\n",
       "      <td>1862.0</td>\n",
       "      <td>23491.0</td>\n",
       "      <td>147930.0</td>\n",
       "      <td>11087.0</td>\n",
       "      <td>942.0</td>\n",
       "      <td>81030.0</td>\n",
       "      <td>104119.0</td>\n",
       "      <td>147271.0</td>\n",
       "      <td>70298.0</td>\n",
       "      <td>3652.0</td>\n",
       "      <td>13755.0</td>\n",
       "      <td>29404.0</td>\n",
       "      <td>27710.0</td>\n",
       "      <td>2250.0</td>\n",
       "      <td>18944.0</td>\n",
       "      <td>102.0</td>\n",
       "      <td>16143.0</td>\n",
       "      <td>342.0</td>\n",
       "      <td>2989.0</td>\n",
       "      <td>51573.0</td>\n",
       "      <td>1551.0</td>\n",
       "      <td>183671.0</td>\n",
       "      <td>89231.0</td>\n",
       "      <td>97741.0</td>\n",
       "      <td>25071.0</td>\n",
       "      <td>35139.0</td>\n",
       "      <td>148394.0</td>\n",
       "      <td>3491.0</td>\n",
       "      <td>19640.0</td>\n",
       "      <td>13759.0</td>\n",
       "      <td>29762.0</td>\n",
       "      <td>2884.0</td>\n",
       "      <td>28987.0</td>\n",
       "      <td>1678494.0</td>\n",
       "    </tr>\n",
       "    <tr>\n",
       "      <td>1292</td>\n",
       "      <td>москва</td>\n",
       "      <td>21780.0</td>\n",
       "      <td>418.0</td>\n",
       "      <td>2120.0</td>\n",
       "      <td>48521.0</td>\n",
       "      <td>28997.0</td>\n",
       "      <td>287.0</td>\n",
       "      <td>7451.0</td>\n",
       "      <td>40861.0</td>\n",
       "      <td>10186.0</td>\n",
       "      <td>414.0</td>\n",
       "      <td>144391.0</td>\n",
       "      <td>42676.0</td>\n",
       "      <td>56821.0</td>\n",
       "      <td>21291.0</td>\n",
       "      <td>4148.0</td>\n",
       "      <td>7877.0</td>\n",
       "      <td>14797.0</td>\n",
       "      <td>91887.0</td>\n",
       "      <td>304.0</td>\n",
       "      <td>11557.0</td>\n",
       "      <td>30.0</td>\n",
       "      <td>8228.0</td>\n",
       "      <td>83.0</td>\n",
       "      <td>1136.0</td>\n",
       "      <td>21391.0</td>\n",
       "      <td>251.0</td>\n",
       "      <td>165737.0</td>\n",
       "      <td>33759.0</td>\n",
       "      <td>29424.0</td>\n",
       "      <td>2916.0</td>\n",
       "      <td>13147.0</td>\n",
       "      <td>110933.0</td>\n",
       "      <td>886.0</td>\n",
       "      <td>8129.0</td>\n",
       "      <td>7671.0</td>\n",
       "      <td>10913.0</td>\n",
       "      <td>1088.0</td>\n",
       "      <td>10868.0</td>\n",
       "      <td>983374.0</td>\n",
       "    </tr>\n",
       "    <tr>\n",
       "      <td>6581</td>\n",
       "      <td>сша</td>\n",
       "      <td>21617.0</td>\n",
       "      <td>33.0</td>\n",
       "      <td>2824.0</td>\n",
       "      <td>44911.0</td>\n",
       "      <td>15954.0</td>\n",
       "      <td>138.0</td>\n",
       "      <td>8044.0</td>\n",
       "      <td>70006.0</td>\n",
       "      <td>3649.0</td>\n",
       "      <td>523.0</td>\n",
       "      <td>66737.0</td>\n",
       "      <td>48031.0</td>\n",
       "      <td>29369.0</td>\n",
       "      <td>27246.0</td>\n",
       "      <td>401.0</td>\n",
       "      <td>5125.0</td>\n",
       "      <td>12322.0</td>\n",
       "      <td>750.0</td>\n",
       "      <td>684.0</td>\n",
       "      <td>5172.0</td>\n",
       "      <td>309.0</td>\n",
       "      <td>8665.0</td>\n",
       "      <td>95.0</td>\n",
       "      <td>1187.0</td>\n",
       "      <td>23982.0</td>\n",
       "      <td>378.0</td>\n",
       "      <td>93653.0</td>\n",
       "      <td>32931.0</td>\n",
       "      <td>51271.0</td>\n",
       "      <td>3594.0</td>\n",
       "      <td>10356.0</td>\n",
       "      <td>84425.0</td>\n",
       "      <td>1848.0</td>\n",
       "      <td>5900.0</td>\n",
       "      <td>4168.0</td>\n",
       "      <td>11688.0</td>\n",
       "      <td>426.0</td>\n",
       "      <td>13688.0</td>\n",
       "      <td>712100.0</td>\n",
       "    </tr>\n",
       "    <tr>\n",
       "      <td>4715</td>\n",
       "      <td>рф</td>\n",
       "      <td>24664.0</td>\n",
       "      <td>79.0</td>\n",
       "      <td>233.0</td>\n",
       "      <td>61633.0</td>\n",
       "      <td>4304.0</td>\n",
       "      <td>87.0</td>\n",
       "      <td>7776.0</td>\n",
       "      <td>20996.0</td>\n",
       "      <td>1314.0</td>\n",
       "      <td>182.0</td>\n",
       "      <td>68179.0</td>\n",
       "      <td>27135.0</td>\n",
       "      <td>34177.0</td>\n",
       "      <td>3149.0</td>\n",
       "      <td>248.0</td>\n",
       "      <td>2001.0</td>\n",
       "      <td>7950.0</td>\n",
       "      <td>21806.0</td>\n",
       "      <td>27.0</td>\n",
       "      <td>3251.0</td>\n",
       "      <td>4.0</td>\n",
       "      <td>5600.0</td>\n",
       "      <td>5.0</td>\n",
       "      <td>235.0</td>\n",
       "      <td>5191.0</td>\n",
       "      <td>25.0</td>\n",
       "      <td>85555.0</td>\n",
       "      <td>32521.0</td>\n",
       "      <td>8618.0</td>\n",
       "      <td>517.0</td>\n",
       "      <td>1618.0</td>\n",
       "      <td>105358.0</td>\n",
       "      <td>142.0</td>\n",
       "      <td>3027.0</td>\n",
       "      <td>850.0</td>\n",
       "      <td>1352.0</td>\n",
       "      <td>598.0</td>\n",
       "      <td>16896.0</td>\n",
       "      <td>557303.0</td>\n",
       "    </tr>\n",
       "    <tr>\n",
       "      <td>4058</td>\n",
       "      <td>украина</td>\n",
       "      <td>20274.0</td>\n",
       "      <td>3.0</td>\n",
       "      <td>826.0</td>\n",
       "      <td>21698.0</td>\n",
       "      <td>10744.0</td>\n",
       "      <td>47.0</td>\n",
       "      <td>6064.0</td>\n",
       "      <td>65122.0</td>\n",
       "      <td>3160.0</td>\n",
       "      <td>15.0</td>\n",
       "      <td>29738.0</td>\n",
       "      <td>42387.0</td>\n",
       "      <td>31066.0</td>\n",
       "      <td>30871.0</td>\n",
       "      <td>362.0</td>\n",
       "      <td>2250.0</td>\n",
       "      <td>12923.0</td>\n",
       "      <td>396.0</td>\n",
       "      <td>13.0</td>\n",
       "      <td>4824.0</td>\n",
       "      <td>15.0</td>\n",
       "      <td>6798.0</td>\n",
       "      <td>5.0</td>\n",
       "      <td>999.0</td>\n",
       "      <td>19693.0</td>\n",
       "      <td>16.0</td>\n",
       "      <td>83757.0</td>\n",
       "      <td>14760.0</td>\n",
       "      <td>46813.0</td>\n",
       "      <td>1141.0</td>\n",
       "      <td>13454.0</td>\n",
       "      <td>40769.0</td>\n",
       "      <td>589.0</td>\n",
       "      <td>6500.0</td>\n",
       "      <td>3337.0</td>\n",
       "      <td>4796.0</td>\n",
       "      <td>36.0</td>\n",
       "      <td>13379.0</td>\n",
       "      <td>539640.0</td>\n",
       "    </tr>\n",
       "    <tr>\n",
       "      <td>1875</td>\n",
       "      <td>риа</td>\n",
       "      <td>13695.0</td>\n",
       "      <td>20.0</td>\n",
       "      <td>314.0</td>\n",
       "      <td>5995.0</td>\n",
       "      <td>2073.0</td>\n",
       "      <td>168.0</td>\n",
       "      <td>1495.0</td>\n",
       "      <td>24668.0</td>\n",
       "      <td>9167.0</td>\n",
       "      <td>8.0</td>\n",
       "      <td>186.0</td>\n",
       "      <td>15279.0</td>\n",
       "      <td>3383.0</td>\n",
       "      <td>6593.0</td>\n",
       "      <td>553.0</td>\n",
       "      <td>501.0</td>\n",
       "      <td>962.0</td>\n",
       "      <td>9.0</td>\n",
       "      <td>23.0</td>\n",
       "      <td>902.0</td>\n",
       "      <td>0.0</td>\n",
       "      <td>3148.0</td>\n",
       "      <td>0.0</td>\n",
       "      <td>286.0</td>\n",
       "      <td>5451.0</td>\n",
       "      <td>3.0</td>\n",
       "      <td>257531.0</td>\n",
       "      <td>6736.0</td>\n",
       "      <td>14313.0</td>\n",
       "      <td>151.0</td>\n",
       "      <td>438.0</td>\n",
       "      <td>259.0</td>\n",
       "      <td>57.0</td>\n",
       "      <td>184.0</td>\n",
       "      <td>1155.0</td>\n",
       "      <td>1048.0</td>\n",
       "      <td>85.0</td>\n",
       "      <td>2863.0</td>\n",
       "      <td>379702.0</td>\n",
       "    </tr>\n",
       "    <tr>\n",
       "      <td>2517</td>\n",
       "      <td>путин</td>\n",
       "      <td>11465.0</td>\n",
       "      <td>20.0</td>\n",
       "      <td>261.0</td>\n",
       "      <td>21581.0</td>\n",
       "      <td>14088.0</td>\n",
       "      <td>16.0</td>\n",
       "      <td>7135.0</td>\n",
       "      <td>31094.0</td>\n",
       "      <td>2882.0</td>\n",
       "      <td>39.0</td>\n",
       "      <td>17122.0</td>\n",
       "      <td>20520.0</td>\n",
       "      <td>19704.0</td>\n",
       "      <td>12528.0</td>\n",
       "      <td>1375.0</td>\n",
       "      <td>3663.0</td>\n",
       "      <td>10167.0</td>\n",
       "      <td>1828.0</td>\n",
       "      <td>21.0</td>\n",
       "      <td>4716.0</td>\n",
       "      <td>0.0</td>\n",
       "      <td>6800.0</td>\n",
       "      <td>0.0</td>\n",
       "      <td>1870.0</td>\n",
       "      <td>13832.0</td>\n",
       "      <td>7.0</td>\n",
       "      <td>42139.0</td>\n",
       "      <td>14400.0</td>\n",
       "      <td>16298.0</td>\n",
       "      <td>485.0</td>\n",
       "      <td>13612.0</td>\n",
       "      <td>26704.0</td>\n",
       "      <td>1174.0</td>\n",
       "      <td>11051.0</td>\n",
       "      <td>5224.0</td>\n",
       "      <td>8092.0</td>\n",
       "      <td>81.0</td>\n",
       "      <td>9145.0</td>\n",
       "      <td>351139.0</td>\n",
       "    </tr>\n",
       "    <tr>\n",
       "      <td>763</td>\n",
       "      <td>тасс</td>\n",
       "      <td>9187.0</td>\n",
       "      <td>30.0</td>\n",
       "      <td>494.0</td>\n",
       "      <td>6900.0</td>\n",
       "      <td>4944.0</td>\n",
       "      <td>173.0</td>\n",
       "      <td>1401.0</td>\n",
       "      <td>15580.0</td>\n",
       "      <td>5008.0</td>\n",
       "      <td>37.0</td>\n",
       "      <td>42.0</td>\n",
       "      <td>13596.0</td>\n",
       "      <td>5621.0</td>\n",
       "      <td>6864.0</td>\n",
       "      <td>1004.0</td>\n",
       "      <td>1669.0</td>\n",
       "      <td>715.0</td>\n",
       "      <td>20.0</td>\n",
       "      <td>21.0</td>\n",
       "      <td>1221.0</td>\n",
       "      <td>2.0</td>\n",
       "      <td>3071.0</td>\n",
       "      <td>1.0</td>\n",
       "      <td>464.0</td>\n",
       "      <td>6153.0</td>\n",
       "      <td>3.0</td>\n",
       "      <td>90.0</td>\n",
       "      <td>7210.0</td>\n",
       "      <td>7310.0</td>\n",
       "      <td>215.0</td>\n",
       "      <td>643.0</td>\n",
       "      <td>217919.0</td>\n",
       "      <td>107.0</td>\n",
       "      <td>157.0</td>\n",
       "      <td>2094.0</td>\n",
       "      <td>1528.0</td>\n",
       "      <td>64.0</td>\n",
       "      <td>1545.0</td>\n",
       "      <td>323103.0</td>\n",
       "    </tr>\n",
       "    <tr>\n",
       "      <td>6042</td>\n",
       "      <td>трамп</td>\n",
       "      <td>7737.0</td>\n",
       "      <td>0.0</td>\n",
       "      <td>67.0</td>\n",
       "      <td>13269.0</td>\n",
       "      <td>8067.0</td>\n",
       "      <td>9.0</td>\n",
       "      <td>2936.0</td>\n",
       "      <td>33160.0</td>\n",
       "      <td>1422.0</td>\n",
       "      <td>8.0</td>\n",
       "      <td>21781.0</td>\n",
       "      <td>17122.0</td>\n",
       "      <td>11025.0</td>\n",
       "      <td>8426.0</td>\n",
       "      <td>32.0</td>\n",
       "      <td>2726.0</td>\n",
       "      <td>6045.0</td>\n",
       "      <td>5.0</td>\n",
       "      <td>12.0</td>\n",
       "      <td>2658.0</td>\n",
       "      <td>1.0</td>\n",
       "      <td>5336.0</td>\n",
       "      <td>11.0</td>\n",
       "      <td>484.0</td>\n",
       "      <td>10118.0</td>\n",
       "      <td>3.0</td>\n",
       "      <td>25936.0</td>\n",
       "      <td>10068.0</td>\n",
       "      <td>19320.0</td>\n",
       "      <td>275.0</td>\n",
       "      <td>7998.0</td>\n",
       "      <td>27371.0</td>\n",
       "      <td>780.0</td>\n",
       "      <td>3522.0</td>\n",
       "      <td>2017.0</td>\n",
       "      <td>4028.0</td>\n",
       "      <td>28.0</td>\n",
       "      <td>4121.0</td>\n",
       "      <td>257924.0</td>\n",
       "    </tr>\n",
       "    <tr>\n",
       "      <td>4122</td>\n",
       "      <td>ru</td>\n",
       "      <td>3011.0</td>\n",
       "      <td>44.0</td>\n",
       "      <td>254.0</td>\n",
       "      <td>9183.0</td>\n",
       "      <td>1191.0</td>\n",
       "      <td>29.0</td>\n",
       "      <td>1516.0</td>\n",
       "      <td>27691.0</td>\n",
       "      <td>966.0</td>\n",
       "      <td>711.0</td>\n",
       "      <td>101184.0</td>\n",
       "      <td>5284.0</td>\n",
       "      <td>38357.0</td>\n",
       "      <td>1948.0</td>\n",
       "      <td>675.0</td>\n",
       "      <td>771.0</td>\n",
       "      <td>848.0</td>\n",
       "      <td>1697.0</td>\n",
       "      <td>30.0</td>\n",
       "      <td>504.0</td>\n",
       "      <td>1.0</td>\n",
       "      <td>1151.0</td>\n",
       "      <td>7.0</td>\n",
       "      <td>2.0</td>\n",
       "      <td>1913.0</td>\n",
       "      <td>12.0</td>\n",
       "      <td>7794.0</td>\n",
       "      <td>2905.0</td>\n",
       "      <td>7279.0</td>\n",
       "      <td>3514.0</td>\n",
       "      <td>393.0</td>\n",
       "      <td>2037.0</td>\n",
       "      <td>243.0</td>\n",
       "      <td>198.0</td>\n",
       "      <td>777.0</td>\n",
       "      <td>1508.0</td>\n",
       "      <td>457.0</td>\n",
       "      <td>458.0</td>\n",
       "      <td>226543.0</td>\n",
       "    </tr>\n",
       "    <tr>\n",
       "      <td>92</td>\n",
       "      <td>петербург</td>\n",
       "      <td>3173.0</td>\n",
       "      <td>47.0</td>\n",
       "      <td>1072.0</td>\n",
       "      <td>29423.0</td>\n",
       "      <td>5469.0</td>\n",
       "      <td>164.0</td>\n",
       "      <td>26773.0</td>\n",
       "      <td>6910.0</td>\n",
       "      <td>1164.0</td>\n",
       "      <td>168.0</td>\n",
       "      <td>8872.0</td>\n",
       "      <td>8275.0</td>\n",
       "      <td>35250.0</td>\n",
       "      <td>3997.0</td>\n",
       "      <td>1385.0</td>\n",
       "      <td>2021.0</td>\n",
       "      <td>1964.0</td>\n",
       "      <td>2018.0</td>\n",
       "      <td>102.0</td>\n",
       "      <td>3667.0</td>\n",
       "      <td>13.0</td>\n",
       "      <td>3185.0</td>\n",
       "      <td>27.0</td>\n",
       "      <td>237.0</td>\n",
       "      <td>4691.0</td>\n",
       "      <td>84.0</td>\n",
       "      <td>15376.0</td>\n",
       "      <td>14067.0</td>\n",
       "      <td>4821.0</td>\n",
       "      <td>1516.0</td>\n",
       "      <td>2786.0</td>\n",
       "      <td>27217.0</td>\n",
       "      <td>154.0</td>\n",
       "      <td>2498.0</td>\n",
       "      <td>1921.0</td>\n",
       "      <td>2870.0</td>\n",
       "      <td>371.0</td>\n",
       "      <td>2384.0</td>\n",
       "      <td>226132.0</td>\n",
       "    </tr>\n",
       "    <tr>\n",
       "      <td>3901</td>\n",
       "      <td>китай</td>\n",
       "      <td>5576.0</td>\n",
       "      <td>85.0</td>\n",
       "      <td>975.0</td>\n",
       "      <td>15503.0</td>\n",
       "      <td>3864.0</td>\n",
       "      <td>107.0</td>\n",
       "      <td>2538.0</td>\n",
       "      <td>12162.0</td>\n",
       "      <td>1204.0</td>\n",
       "      <td>144.0</td>\n",
       "      <td>18923.0</td>\n",
       "      <td>12119.0</td>\n",
       "      <td>13962.0</td>\n",
       "      <td>6736.0</td>\n",
       "      <td>170.0</td>\n",
       "      <td>1578.0</td>\n",
       "      <td>4027.0</td>\n",
       "      <td>2441.0</td>\n",
       "      <td>344.0</td>\n",
       "      <td>2052.0</td>\n",
       "      <td>131.0</td>\n",
       "      <td>2581.0</td>\n",
       "      <td>41.0</td>\n",
       "      <td>356.0</td>\n",
       "      <td>5044.0</td>\n",
       "      <td>511.0</td>\n",
       "      <td>32682.0</td>\n",
       "      <td>15070.0</td>\n",
       "      <td>10096.0</td>\n",
       "      <td>1910.0</td>\n",
       "      <td>3119.0</td>\n",
       "      <td>22019.0</td>\n",
       "      <td>460.0</td>\n",
       "      <td>2646.0</td>\n",
       "      <td>1109.0</td>\n",
       "      <td>4644.0</td>\n",
       "      <td>342.0</td>\n",
       "      <td>2785.0</td>\n",
       "      <td>210056.0</td>\n",
       "    </tr>\n",
       "    <tr>\n",
       "      <td>6</td>\n",
       "      <td>зеленский</td>\n",
       "      <td>7810.0</td>\n",
       "      <td>0.0</td>\n",
       "      <td>45.0</td>\n",
       "      <td>8030.0</td>\n",
       "      <td>4265.0</td>\n",
       "      <td>0.0</td>\n",
       "      <td>2374.0</td>\n",
       "      <td>28155.0</td>\n",
       "      <td>1225.0</td>\n",
       "      <td>0.0</td>\n",
       "      <td>7954.0</td>\n",
       "      <td>13864.0</td>\n",
       "      <td>13146.0</td>\n",
       "      <td>11370.0</td>\n",
       "      <td>10.0</td>\n",
       "      <td>1582.0</td>\n",
       "      <td>7562.0</td>\n",
       "      <td>10.0</td>\n",
       "      <td>0.0</td>\n",
       "      <td>1927.0</td>\n",
       "      <td>0.0</td>\n",
       "      <td>4071.0</td>\n",
       "      <td>0.0</td>\n",
       "      <td>355.0</td>\n",
       "      <td>8161.0</td>\n",
       "      <td>0.0</td>\n",
       "      <td>23525.0</td>\n",
       "      <td>4628.0</td>\n",
       "      <td>15772.0</td>\n",
       "      <td>25.0</td>\n",
       "      <td>4701.0</td>\n",
       "      <td>10734.0</td>\n",
       "      <td>302.0</td>\n",
       "      <td>3074.0</td>\n",
       "      <td>1662.0</td>\n",
       "      <td>2796.0</td>\n",
       "      <td>3.0</td>\n",
       "      <td>4671.0</td>\n",
       "      <td>193809.0</td>\n",
       "    </tr>\n",
       "    <tr>\n",
       "      <td>6850</td>\n",
       "      <td>сми</td>\n",
       "      <td>6525.0</td>\n",
       "      <td>6.0</td>\n",
       "      <td>564.0</td>\n",
       "      <td>10988.0</td>\n",
       "      <td>4629.0</td>\n",
       "      <td>193.0</td>\n",
       "      <td>3895.0</td>\n",
       "      <td>16633.0</td>\n",
       "      <td>2658.0</td>\n",
       "      <td>57.0</td>\n",
       "      <td>14459.0</td>\n",
       "      <td>8766.0</td>\n",
       "      <td>10023.0</td>\n",
       "      <td>3451.0</td>\n",
       "      <td>388.0</td>\n",
       "      <td>1727.0</td>\n",
       "      <td>4914.0</td>\n",
       "      <td>3697.0</td>\n",
       "      <td>83.0</td>\n",
       "      <td>3195.0</td>\n",
       "      <td>6.0</td>\n",
       "      <td>2476.0</td>\n",
       "      <td>20.0</td>\n",
       "      <td>208.0</td>\n",
       "      <td>5258.0</td>\n",
       "      <td>13.0</td>\n",
       "      <td>25033.0</td>\n",
       "      <td>7624.0</td>\n",
       "      <td>8289.0</td>\n",
       "      <td>600.0</td>\n",
       "      <td>2963.0</td>\n",
       "      <td>15584.0</td>\n",
       "      <td>246.0</td>\n",
       "      <td>1081.0</td>\n",
       "      <td>1315.0</td>\n",
       "      <td>1751.0</td>\n",
       "      <td>74.0</td>\n",
       "      <td>3167.0</td>\n",
       "      <td>172559.0</td>\n",
       "    </tr>\n",
       "    <tr>\n",
       "      <td>1976</td>\n",
       "      <td>европа</td>\n",
       "      <td>4917.0</td>\n",
       "      <td>51.0</td>\n",
       "      <td>4415.0</td>\n",
       "      <td>12440.0</td>\n",
       "      <td>3736.0</td>\n",
       "      <td>669.0</td>\n",
       "      <td>2204.0</td>\n",
       "      <td>18232.0</td>\n",
       "      <td>724.0</td>\n",
       "      <td>133.0</td>\n",
       "      <td>7903.0</td>\n",
       "      <td>11080.0</td>\n",
       "      <td>11950.0</td>\n",
       "      <td>5943.0</td>\n",
       "      <td>140.0</td>\n",
       "      <td>1053.0</td>\n",
       "      <td>2522.0</td>\n",
       "      <td>798.0</td>\n",
       "      <td>462.0</td>\n",
       "      <td>1708.0</td>\n",
       "      <td>142.0</td>\n",
       "      <td>1860.0</td>\n",
       "      <td>158.0</td>\n",
       "      <td>164.0</td>\n",
       "      <td>3354.0</td>\n",
       "      <td>623.0</td>\n",
       "      <td>15247.0</td>\n",
       "      <td>10622.0</td>\n",
       "      <td>9267.0</td>\n",
       "      <td>6945.0</td>\n",
       "      <td>3553.0</td>\n",
       "      <td>11640.0</td>\n",
       "      <td>238.0</td>\n",
       "      <td>2598.0</td>\n",
       "      <td>596.0</td>\n",
       "      <td>2816.0</td>\n",
       "      <td>408.0</td>\n",
       "      <td>2280.0</td>\n",
       "      <td>163591.0</td>\n",
       "    </tr>\n",
       "  </tbody>\n",
       "</table>\n",
       "</div>"
      ],
      "text/plain": [
       "           word      aif  autonews  championat   commers     echo  express  \\\n",
       "2921     россия  42962.0     689.0     20195.0  138490.0  41943.0   1862.0   \n",
       "1292     москва  21780.0     418.0      2120.0   48521.0  28997.0    287.0   \n",
       "6581        сша  21617.0      33.0      2824.0   44911.0  15954.0    138.0   \n",
       "4715         рф  24664.0      79.0       233.0   61633.0   4304.0     87.0   \n",
       "4058    украина  20274.0       3.0       826.0   21698.0  10744.0     47.0   \n",
       "1875        риа  13695.0      20.0       314.0    5995.0   2073.0    168.0   \n",
       "2517      путин  11465.0      20.0       261.0   21581.0  14088.0     16.0   \n",
       "763        тасс   9187.0      30.0       494.0    6900.0   4944.0    173.0   \n",
       "6042      трамп   7737.0       0.0        67.0   13269.0   8067.0      9.0   \n",
       "4122         ru   3011.0      44.0       254.0    9183.0   1191.0     29.0   \n",
       "92    петербург   3173.0      47.0      1072.0   29423.0   5469.0    164.0   \n",
       "3901      китай   5576.0      85.0       975.0   15503.0   3864.0    107.0   \n",
       "6     зеленский   7810.0       0.0        45.0    8030.0   4265.0      0.0   \n",
       "6850        сми   6525.0       6.0       564.0   10988.0   4629.0    193.0   \n",
       "1976     европа   4917.0      51.0      4415.0   12440.0   3736.0    669.0   \n",
       "\n",
       "      fontanka    gazeta  govorit  indicator  interfax        iz        kp  \\\n",
       "2921   23491.0  147930.0  11087.0      942.0   81030.0  104119.0  147271.0   \n",
       "1292    7451.0   40861.0  10186.0      414.0  144391.0   42676.0   56821.0   \n",
       "6581    8044.0   70006.0   3649.0      523.0   66737.0   48031.0   29369.0   \n",
       "4715    7776.0   20996.0   1314.0      182.0   68179.0   27135.0   34177.0   \n",
       "4058    6064.0   65122.0   3160.0       15.0   29738.0   42387.0   31066.0   \n",
       "1875    1495.0   24668.0   9167.0        8.0     186.0   15279.0    3383.0   \n",
       "2517    7135.0   31094.0   2882.0       39.0   17122.0   20520.0   19704.0   \n",
       "763     1401.0   15580.0   5008.0       37.0      42.0   13596.0    5621.0   \n",
       "6042    2936.0   33160.0   1422.0        8.0   21781.0   17122.0   11025.0   \n",
       "4122    1516.0   27691.0    966.0      711.0  101184.0    5284.0   38357.0   \n",
       "92     26773.0    6910.0   1164.0      168.0    8872.0    8275.0   35250.0   \n",
       "3901    2538.0   12162.0   1204.0      144.0   18923.0   12119.0   13962.0   \n",
       "6       2374.0   28155.0   1225.0        0.0    7954.0   13864.0   13146.0   \n",
       "6850    3895.0   16633.0   2658.0       57.0   14459.0    8766.0   10023.0   \n",
       "1976    2204.0   18232.0    724.0      133.0    7903.0   11080.0   11950.0   \n",
       "\n",
       "        lenta  mediazona   meduza       mk   moscow   motor   novaya  nplus1  \\\n",
       "2921  70298.0     3652.0  13755.0  29404.0  27710.0  2250.0  18944.0   102.0   \n",
       "1292  21291.0     4148.0   7877.0  14797.0  91887.0   304.0  11557.0    30.0   \n",
       "6581  27246.0      401.0   5125.0  12322.0    750.0   684.0   5172.0   309.0   \n",
       "4715   3149.0      248.0   2001.0   7950.0  21806.0    27.0   3251.0     4.0   \n",
       "4058  30871.0      362.0   2250.0  12923.0    396.0    13.0   4824.0    15.0   \n",
       "1875   6593.0      553.0    501.0    962.0      9.0    23.0    902.0     0.0   \n",
       "2517  12528.0     1375.0   3663.0  10167.0   1828.0    21.0   4716.0     0.0   \n",
       "763    6864.0     1004.0   1669.0    715.0     20.0    21.0   1221.0     2.0   \n",
       "6042   8426.0       32.0   2726.0   6045.0      5.0    12.0   2658.0     1.0   \n",
       "4122   1948.0      675.0    771.0    848.0   1697.0    30.0    504.0     1.0   \n",
       "92     3997.0     1385.0   2021.0   1964.0   2018.0   102.0   3667.0    13.0   \n",
       "3901   6736.0      170.0   1578.0   4027.0   2441.0   344.0   2052.0   131.0   \n",
       "6     11370.0       10.0   1582.0   7562.0     10.0     0.0   1927.0     0.0   \n",
       "6850   3451.0      388.0   1727.0   4914.0   3697.0    83.0   3195.0     6.0   \n",
       "1976   5943.0      140.0   1053.0   2522.0    798.0   462.0   1708.0   142.0   \n",
       "\n",
       "          ntv  postnauka  radiovesti      rbk  review       ria  rosgazeta  \\\n",
       "2921  16143.0      342.0      2989.0  51573.0  1551.0  183671.0    89231.0   \n",
       "1292   8228.0       83.0      1136.0  21391.0   251.0  165737.0    33759.0   \n",
       "6581   8665.0       95.0      1187.0  23982.0   378.0   93653.0    32931.0   \n",
       "4715   5600.0        5.0       235.0   5191.0    25.0   85555.0    32521.0   \n",
       "4058   6798.0        5.0       999.0  19693.0    16.0   83757.0    14760.0   \n",
       "1875   3148.0        0.0       286.0   5451.0     3.0  257531.0     6736.0   \n",
       "2517   6800.0        0.0      1870.0  13832.0     7.0   42139.0    14400.0   \n",
       "763    3071.0        1.0       464.0   6153.0     3.0      90.0     7210.0   \n",
       "6042   5336.0       11.0       484.0  10118.0     3.0   25936.0    10068.0   \n",
       "4122   1151.0        7.0         2.0   1913.0    12.0    7794.0     2905.0   \n",
       "92     3185.0       27.0       237.0   4691.0    84.0   15376.0    14067.0   \n",
       "3901   2581.0       41.0       356.0   5044.0   511.0   32682.0    15070.0   \n",
       "6      4071.0        0.0       355.0   8161.0     0.0   23525.0     4628.0   \n",
       "6850   2476.0       20.0       208.0   5258.0    13.0   25033.0     7624.0   \n",
       "1976   1860.0      158.0       164.0   3354.0   623.0   15247.0    10622.0   \n",
       "\n",
       "           rt   sports  svoboda      tass  thebell      tv1   tvrain  \\\n",
       "2921  97741.0  25071.0  35139.0  148394.0   3491.0  19640.0  13759.0   \n",
       "1292  29424.0   2916.0  13147.0  110933.0    886.0   8129.0   7671.0   \n",
       "6581  51271.0   3594.0  10356.0   84425.0   1848.0   5900.0   4168.0   \n",
       "4715   8618.0    517.0   1618.0  105358.0    142.0   3027.0    850.0   \n",
       "4058  46813.0   1141.0  13454.0   40769.0    589.0   6500.0   3337.0   \n",
       "1875  14313.0    151.0    438.0     259.0     57.0    184.0   1155.0   \n",
       "2517  16298.0    485.0  13612.0   26704.0   1174.0  11051.0   5224.0   \n",
       "763    7310.0    215.0    643.0  217919.0    107.0    157.0   2094.0   \n",
       "6042  19320.0    275.0   7998.0   27371.0    780.0   3522.0   2017.0   \n",
       "4122   7279.0   3514.0    393.0    2037.0    243.0    198.0    777.0   \n",
       "92     4821.0   1516.0   2786.0   27217.0    154.0   2498.0   1921.0   \n",
       "3901  10096.0   1910.0   3119.0   22019.0    460.0   2646.0   1109.0   \n",
       "6     15772.0     25.0   4701.0   10734.0    302.0   3074.0   1662.0   \n",
       "6850   8289.0    600.0   2963.0   15584.0    246.0   1081.0   1315.0   \n",
       "1976   9267.0   6945.0   3553.0   11640.0    238.0   2598.0    596.0   \n",
       "\n",
       "      vedomosti  zarulem   zvezda        sum  \n",
       "2921    29762.0   2884.0  28987.0  1678494.0  \n",
       "1292    10913.0   1088.0  10868.0   983374.0  \n",
       "6581    11688.0    426.0  13688.0   712100.0  \n",
       "4715     1352.0    598.0  16896.0   557303.0  \n",
       "4058     4796.0     36.0  13379.0   539640.0  \n",
       "1875     1048.0     85.0   2863.0   379702.0  \n",
       "2517     8092.0     81.0   9145.0   351139.0  \n",
       "763      1528.0     64.0   1545.0   323103.0  \n",
       "6042     4028.0     28.0   4121.0   257924.0  \n",
       "4122     1508.0    457.0    458.0   226543.0  \n",
       "92       2870.0    371.0   2384.0   226132.0  \n",
       "3901     4644.0    342.0   2785.0   210056.0  \n",
       "6        2796.0      3.0   4671.0   193809.0  \n",
       "6850     1751.0     74.0   3167.0   172559.0  \n",
       "1976     2816.0    408.0   2280.0   163591.0  "
      ]
     },
     "execution_count": 13,
     "metadata": {},
     "output_type": "execute_result"
    }
   ],
   "source": [
    "w = w.fillna(0)\n",
    "w['sum'] = w.sum(axis=1)\n",
    "# w.sort_values('sum', ascending=False).to_csv('keywords_top1000.csv')\n",
    "w = w.sort_values('sum', ascending=False).rename(columns={0:'word'})\n",
    "m = pymorphy2.MorphAnalyzer()\n",
    "w[['Name' not in m.parse(e)[0].tag for e in w['word']]].head(15)"
   ]
  },
  {
   "cell_type": "code",
   "execution_count": 139,
   "metadata": {},
   "outputs": [
    {
     "data": {
      "text/html": [
       "<div>\n",
       "<style scoped>\n",
       "    .dataframe tbody tr th:only-of-type {\n",
       "        vertical-align: middle;\n",
       "    }\n",
       "\n",
       "    .dataframe tbody tr th {\n",
       "        vertical-align: top;\n",
       "    }\n",
       "\n",
       "    .dataframe thead th {\n",
       "        text-align: right;\n",
       "    }\n",
       "</style>\n",
       "<table border=\"1\" class=\"dataframe\">\n",
       "  <thead>\n",
       "    <tr style=\"text-align: right;\">\n",
       "      <th></th>\n",
       "      <th>0</th>\n",
       "      <th>aif</th>\n",
       "      <th>autonews</th>\n",
       "      <th>championat</th>\n",
       "      <th>commers</th>\n",
       "      <th>echo</th>\n",
       "      <th>express</th>\n",
       "      <th>fontanka</th>\n",
       "      <th>gazeta</th>\n",
       "      <th>govorit</th>\n",
       "      <th>indicator</th>\n",
       "      <th>interfax</th>\n",
       "      <th>iz</th>\n",
       "      <th>kp</th>\n",
       "      <th>lenta</th>\n",
       "      <th>mediazona</th>\n",
       "      <th>meduza</th>\n",
       "      <th>mk</th>\n",
       "      <th>moscow</th>\n",
       "      <th>motor</th>\n",
       "      <th>novaya</th>\n",
       "      <th>nplus1</th>\n",
       "      <th>ntv</th>\n",
       "      <th>postnauka</th>\n",
       "      <th>radiovesti</th>\n",
       "      <th>rbk</th>\n",
       "      <th>review</th>\n",
       "      <th>ria</th>\n",
       "      <th>rosgazeta</th>\n",
       "      <th>rt</th>\n",
       "      <th>sports</th>\n",
       "      <th>svoboda</th>\n",
       "      <th>tass</th>\n",
       "      <th>thebell</th>\n",
       "      <th>tv1</th>\n",
       "      <th>tvrain</th>\n",
       "      <th>vedomosti</th>\n",
       "      <th>zarulem</th>\n",
       "      <th>zvezda</th>\n",
       "      <th>sum</th>\n",
       "    </tr>\n",
       "  </thead>\n",
       "  <tbody>\n",
       "    <tr>\n",
       "      <td>0</td>\n",
       "      <td>россия</td>\n",
       "      <td>42962.0</td>\n",
       "      <td>689.0</td>\n",
       "      <td>20195.0</td>\n",
       "      <td>138490.0</td>\n",
       "      <td>41943.0</td>\n",
       "      <td>1862.0</td>\n",
       "      <td>23491.0</td>\n",
       "      <td>147930.0</td>\n",
       "      <td>11087.0</td>\n",
       "      <td>942.0</td>\n",
       "      <td>81030.0</td>\n",
       "      <td>104119.0</td>\n",
       "      <td>147271.0</td>\n",
       "      <td>70298.0</td>\n",
       "      <td>3652.0</td>\n",
       "      <td>13755.0</td>\n",
       "      <td>29404.0</td>\n",
       "      <td>27710.0</td>\n",
       "      <td>2250.0</td>\n",
       "      <td>18944.0</td>\n",
       "      <td>102.0</td>\n",
       "      <td>16143.0</td>\n",
       "      <td>342.0</td>\n",
       "      <td>2989.0</td>\n",
       "      <td>51573.0</td>\n",
       "      <td>1551.0</td>\n",
       "      <td>183671.0</td>\n",
       "      <td>89231.0</td>\n",
       "      <td>97741.0</td>\n",
       "      <td>25071.0</td>\n",
       "      <td>35139.0</td>\n",
       "      <td>148394.0</td>\n",
       "      <td>3491.0</td>\n",
       "      <td>19640.0</td>\n",
       "      <td>13759.0</td>\n",
       "      <td>29762.0</td>\n",
       "      <td>2884.0</td>\n",
       "      <td>28987.0</td>\n",
       "      <td>1678494.0</td>\n",
       "    </tr>\n",
       "    <tr>\n",
       "      <td>1</td>\n",
       "      <td>москва</td>\n",
       "      <td>21780.0</td>\n",
       "      <td>418.0</td>\n",
       "      <td>2120.0</td>\n",
       "      <td>48521.0</td>\n",
       "      <td>28997.0</td>\n",
       "      <td>287.0</td>\n",
       "      <td>7451.0</td>\n",
       "      <td>40861.0</td>\n",
       "      <td>10186.0</td>\n",
       "      <td>414.0</td>\n",
       "      <td>144391.0</td>\n",
       "      <td>42676.0</td>\n",
       "      <td>56821.0</td>\n",
       "      <td>21291.0</td>\n",
       "      <td>4148.0</td>\n",
       "      <td>7877.0</td>\n",
       "      <td>14797.0</td>\n",
       "      <td>91887.0</td>\n",
       "      <td>304.0</td>\n",
       "      <td>11557.0</td>\n",
       "      <td>30.0</td>\n",
       "      <td>8228.0</td>\n",
       "      <td>83.0</td>\n",
       "      <td>1136.0</td>\n",
       "      <td>21391.0</td>\n",
       "      <td>251.0</td>\n",
       "      <td>165737.0</td>\n",
       "      <td>33759.0</td>\n",
       "      <td>29424.0</td>\n",
       "      <td>2916.0</td>\n",
       "      <td>13147.0</td>\n",
       "      <td>110933.0</td>\n",
       "      <td>886.0</td>\n",
       "      <td>8129.0</td>\n",
       "      <td>7671.0</td>\n",
       "      <td>10913.0</td>\n",
       "      <td>1088.0</td>\n",
       "      <td>10868.0</td>\n",
       "      <td>983374.0</td>\n",
       "    </tr>\n",
       "    <tr>\n",
       "      <td>2</td>\n",
       "      <td>сша</td>\n",
       "      <td>21617.0</td>\n",
       "      <td>33.0</td>\n",
       "      <td>2824.0</td>\n",
       "      <td>44911.0</td>\n",
       "      <td>15954.0</td>\n",
       "      <td>138.0</td>\n",
       "      <td>8044.0</td>\n",
       "      <td>70006.0</td>\n",
       "      <td>3649.0</td>\n",
       "      <td>523.0</td>\n",
       "      <td>66737.0</td>\n",
       "      <td>48031.0</td>\n",
       "      <td>29369.0</td>\n",
       "      <td>27246.0</td>\n",
       "      <td>401.0</td>\n",
       "      <td>5125.0</td>\n",
       "      <td>12322.0</td>\n",
       "      <td>750.0</td>\n",
       "      <td>684.0</td>\n",
       "      <td>5172.0</td>\n",
       "      <td>309.0</td>\n",
       "      <td>8665.0</td>\n",
       "      <td>95.0</td>\n",
       "      <td>1187.0</td>\n",
       "      <td>23982.0</td>\n",
       "      <td>378.0</td>\n",
       "      <td>93653.0</td>\n",
       "      <td>32931.0</td>\n",
       "      <td>51271.0</td>\n",
       "      <td>3594.0</td>\n",
       "      <td>10356.0</td>\n",
       "      <td>84425.0</td>\n",
       "      <td>1848.0</td>\n",
       "      <td>5900.0</td>\n",
       "      <td>4168.0</td>\n",
       "      <td>11688.0</td>\n",
       "      <td>426.0</td>\n",
       "      <td>13688.0</td>\n",
       "      <td>712100.0</td>\n",
       "    </tr>\n",
       "    <tr>\n",
       "      <td>3</td>\n",
       "      <td>рф</td>\n",
       "      <td>24664.0</td>\n",
       "      <td>79.0</td>\n",
       "      <td>233.0</td>\n",
       "      <td>61633.0</td>\n",
       "      <td>4304.0</td>\n",
       "      <td>87.0</td>\n",
       "      <td>7776.0</td>\n",
       "      <td>20996.0</td>\n",
       "      <td>1314.0</td>\n",
       "      <td>182.0</td>\n",
       "      <td>68179.0</td>\n",
       "      <td>27135.0</td>\n",
       "      <td>34177.0</td>\n",
       "      <td>3149.0</td>\n",
       "      <td>248.0</td>\n",
       "      <td>2001.0</td>\n",
       "      <td>7950.0</td>\n",
       "      <td>21806.0</td>\n",
       "      <td>27.0</td>\n",
       "      <td>3251.0</td>\n",
       "      <td>4.0</td>\n",
       "      <td>5600.0</td>\n",
       "      <td>5.0</td>\n",
       "      <td>235.0</td>\n",
       "      <td>5191.0</td>\n",
       "      <td>25.0</td>\n",
       "      <td>85555.0</td>\n",
       "      <td>32521.0</td>\n",
       "      <td>8618.0</td>\n",
       "      <td>517.0</td>\n",
       "      <td>1618.0</td>\n",
       "      <td>105358.0</td>\n",
       "      <td>142.0</td>\n",
       "      <td>3027.0</td>\n",
       "      <td>850.0</td>\n",
       "      <td>1352.0</td>\n",
       "      <td>598.0</td>\n",
       "      <td>16896.0</td>\n",
       "      <td>557303.0</td>\n",
       "    </tr>\n",
       "    <tr>\n",
       "      <td>4</td>\n",
       "      <td>украина</td>\n",
       "      <td>20274.0</td>\n",
       "      <td>3.0</td>\n",
       "      <td>826.0</td>\n",
       "      <td>21698.0</td>\n",
       "      <td>10744.0</td>\n",
       "      <td>47.0</td>\n",
       "      <td>6064.0</td>\n",
       "      <td>65122.0</td>\n",
       "      <td>3160.0</td>\n",
       "      <td>15.0</td>\n",
       "      <td>29738.0</td>\n",
       "      <td>42387.0</td>\n",
       "      <td>31066.0</td>\n",
       "      <td>30871.0</td>\n",
       "      <td>362.0</td>\n",
       "      <td>2250.0</td>\n",
       "      <td>12923.0</td>\n",
       "      <td>396.0</td>\n",
       "      <td>13.0</td>\n",
       "      <td>4824.0</td>\n",
       "      <td>15.0</td>\n",
       "      <td>6798.0</td>\n",
       "      <td>5.0</td>\n",
       "      <td>999.0</td>\n",
       "      <td>19693.0</td>\n",
       "      <td>16.0</td>\n",
       "      <td>83757.0</td>\n",
       "      <td>14760.0</td>\n",
       "      <td>46813.0</td>\n",
       "      <td>1141.0</td>\n",
       "      <td>13454.0</td>\n",
       "      <td>40769.0</td>\n",
       "      <td>589.0</td>\n",
       "      <td>6500.0</td>\n",
       "      <td>3337.0</td>\n",
       "      <td>4796.0</td>\n",
       "      <td>36.0</td>\n",
       "      <td>13379.0</td>\n",
       "      <td>539640.0</td>\n",
       "    </tr>\n",
       "    <tr>\n",
       "      <td>...</td>\n",
       "      <td>...</td>\n",
       "      <td>...</td>\n",
       "      <td>...</td>\n",
       "      <td>...</td>\n",
       "      <td>...</td>\n",
       "      <td>...</td>\n",
       "      <td>...</td>\n",
       "      <td>...</td>\n",
       "      <td>...</td>\n",
       "      <td>...</td>\n",
       "      <td>...</td>\n",
       "      <td>...</td>\n",
       "      <td>...</td>\n",
       "      <td>...</td>\n",
       "      <td>...</td>\n",
       "      <td>...</td>\n",
       "      <td>...</td>\n",
       "      <td>...</td>\n",
       "      <td>...</td>\n",
       "      <td>...</td>\n",
       "      <td>...</td>\n",
       "      <td>...</td>\n",
       "      <td>...</td>\n",
       "      <td>...</td>\n",
       "      <td>...</td>\n",
       "      <td>...</td>\n",
       "      <td>...</td>\n",
       "      <td>...</td>\n",
       "      <td>...</td>\n",
       "      <td>...</td>\n",
       "      <td>...</td>\n",
       "      <td>...</td>\n",
       "      <td>...</td>\n",
       "      <td>...</td>\n",
       "      <td>...</td>\n",
       "      <td>...</td>\n",
       "      <td>...</td>\n",
       "      <td>...</td>\n",
       "      <td>...</td>\n",
       "      <td>...</td>\n",
       "    </tr>\n",
       "    <tr>\n",
       "      <td>9093</td>\n",
       "      <td>надбровье</td>\n",
       "      <td>0.0</td>\n",
       "      <td>0.0</td>\n",
       "      <td>0.0</td>\n",
       "      <td>0.0</td>\n",
       "      <td>0.0</td>\n",
       "      <td>0.0</td>\n",
       "      <td>0.0</td>\n",
       "      <td>0.0</td>\n",
       "      <td>0.0</td>\n",
       "      <td>0.0</td>\n",
       "      <td>0.0</td>\n",
       "      <td>0.0</td>\n",
       "      <td>0.0</td>\n",
       "      <td>0.0</td>\n",
       "      <td>0.0</td>\n",
       "      <td>0.0</td>\n",
       "      <td>0.0</td>\n",
       "      <td>0.0</td>\n",
       "      <td>0.0</td>\n",
       "      <td>0.0</td>\n",
       "      <td>0.0</td>\n",
       "      <td>0.0</td>\n",
       "      <td>15.0</td>\n",
       "      <td>0.0</td>\n",
       "      <td>0.0</td>\n",
       "      <td>0.0</td>\n",
       "      <td>0.0</td>\n",
       "      <td>0.0</td>\n",
       "      <td>0.0</td>\n",
       "      <td>0.0</td>\n",
       "      <td>0.0</td>\n",
       "      <td>0.0</td>\n",
       "      <td>0.0</td>\n",
       "      <td>0.0</td>\n",
       "      <td>0.0</td>\n",
       "      <td>0.0</td>\n",
       "      <td>0.0</td>\n",
       "      <td>0.0</td>\n",
       "      <td>15.0</td>\n",
       "    </tr>\n",
       "    <tr>\n",
       "      <td>9094</td>\n",
       "      <td>фрейдсон</td>\n",
       "      <td>0.0</td>\n",
       "      <td>0.0</td>\n",
       "      <td>0.0</td>\n",
       "      <td>0.0</td>\n",
       "      <td>0.0</td>\n",
       "      <td>0.0</td>\n",
       "      <td>0.0</td>\n",
       "      <td>0.0</td>\n",
       "      <td>0.0</td>\n",
       "      <td>0.0</td>\n",
       "      <td>0.0</td>\n",
       "      <td>0.0</td>\n",
       "      <td>0.0</td>\n",
       "      <td>0.0</td>\n",
       "      <td>0.0</td>\n",
       "      <td>0.0</td>\n",
       "      <td>0.0</td>\n",
       "      <td>0.0</td>\n",
       "      <td>0.0</td>\n",
       "      <td>0.0</td>\n",
       "      <td>0.0</td>\n",
       "      <td>0.0</td>\n",
       "      <td>15.0</td>\n",
       "      <td>0.0</td>\n",
       "      <td>0.0</td>\n",
       "      <td>0.0</td>\n",
       "      <td>0.0</td>\n",
       "      <td>0.0</td>\n",
       "      <td>0.0</td>\n",
       "      <td>0.0</td>\n",
       "      <td>0.0</td>\n",
       "      <td>0.0</td>\n",
       "      <td>0.0</td>\n",
       "      <td>0.0</td>\n",
       "      <td>0.0</td>\n",
       "      <td>0.0</td>\n",
       "      <td>0.0</td>\n",
       "      <td>0.0</td>\n",
       "      <td>15.0</td>\n",
       "    </tr>\n",
       "    <tr>\n",
       "      <td>9095</td>\n",
       "      <td>славянофил</td>\n",
       "      <td>0.0</td>\n",
       "      <td>0.0</td>\n",
       "      <td>0.0</td>\n",
       "      <td>0.0</td>\n",
       "      <td>0.0</td>\n",
       "      <td>0.0</td>\n",
       "      <td>0.0</td>\n",
       "      <td>0.0</td>\n",
       "      <td>0.0</td>\n",
       "      <td>0.0</td>\n",
       "      <td>0.0</td>\n",
       "      <td>0.0</td>\n",
       "      <td>0.0</td>\n",
       "      <td>0.0</td>\n",
       "      <td>0.0</td>\n",
       "      <td>0.0</td>\n",
       "      <td>0.0</td>\n",
       "      <td>0.0</td>\n",
       "      <td>0.0</td>\n",
       "      <td>0.0</td>\n",
       "      <td>0.0</td>\n",
       "      <td>0.0</td>\n",
       "      <td>15.0</td>\n",
       "      <td>0.0</td>\n",
       "      <td>0.0</td>\n",
       "      <td>0.0</td>\n",
       "      <td>0.0</td>\n",
       "      <td>0.0</td>\n",
       "      <td>0.0</td>\n",
       "      <td>0.0</td>\n",
       "      <td>0.0</td>\n",
       "      <td>0.0</td>\n",
       "      <td>0.0</td>\n",
       "      <td>0.0</td>\n",
       "      <td>0.0</td>\n",
       "      <td>0.0</td>\n",
       "      <td>0.0</td>\n",
       "      <td>0.0</td>\n",
       "      <td>15.0</td>\n",
       "    </tr>\n",
       "    <tr>\n",
       "      <td>9096</td>\n",
       "      <td>обтяжка</td>\n",
       "      <td>0.0</td>\n",
       "      <td>12.0</td>\n",
       "      <td>0.0</td>\n",
       "      <td>0.0</td>\n",
       "      <td>0.0</td>\n",
       "      <td>0.0</td>\n",
       "      <td>0.0</td>\n",
       "      <td>0.0</td>\n",
       "      <td>0.0</td>\n",
       "      <td>0.0</td>\n",
       "      <td>0.0</td>\n",
       "      <td>0.0</td>\n",
       "      <td>0.0</td>\n",
       "      <td>0.0</td>\n",
       "      <td>0.0</td>\n",
       "      <td>0.0</td>\n",
       "      <td>0.0</td>\n",
       "      <td>0.0</td>\n",
       "      <td>0.0</td>\n",
       "      <td>0.0</td>\n",
       "      <td>0.0</td>\n",
       "      <td>0.0</td>\n",
       "      <td>0.0</td>\n",
       "      <td>0.0</td>\n",
       "      <td>0.0</td>\n",
       "      <td>0.0</td>\n",
       "      <td>0.0</td>\n",
       "      <td>0.0</td>\n",
       "      <td>0.0</td>\n",
       "      <td>0.0</td>\n",
       "      <td>0.0</td>\n",
       "      <td>0.0</td>\n",
       "      <td>0.0</td>\n",
       "      <td>0.0</td>\n",
       "      <td>0.0</td>\n",
       "      <td>0.0</td>\n",
       "      <td>1.0</td>\n",
       "      <td>0.0</td>\n",
       "      <td>13.0</td>\n",
       "    </tr>\n",
       "    <tr>\n",
       "      <td>9097</td>\n",
       "      <td>тютчевский</td>\n",
       "      <td>0.0</td>\n",
       "      <td>11.0</td>\n",
       "      <td>0.0</td>\n",
       "      <td>0.0</td>\n",
       "      <td>0.0</td>\n",
       "      <td>0.0</td>\n",
       "      <td>0.0</td>\n",
       "      <td>0.0</td>\n",
       "      <td>0.0</td>\n",
       "      <td>0.0</td>\n",
       "      <td>0.0</td>\n",
       "      <td>0.0</td>\n",
       "      <td>0.0</td>\n",
       "      <td>0.0</td>\n",
       "      <td>0.0</td>\n",
       "      <td>0.0</td>\n",
       "      <td>0.0</td>\n",
       "      <td>0.0</td>\n",
       "      <td>0.0</td>\n",
       "      <td>0.0</td>\n",
       "      <td>0.0</td>\n",
       "      <td>0.0</td>\n",
       "      <td>0.0</td>\n",
       "      <td>0.0</td>\n",
       "      <td>0.0</td>\n",
       "      <td>0.0</td>\n",
       "      <td>0.0</td>\n",
       "      <td>0.0</td>\n",
       "      <td>0.0</td>\n",
       "      <td>0.0</td>\n",
       "      <td>0.0</td>\n",
       "      <td>0.0</td>\n",
       "      <td>0.0</td>\n",
       "      <td>0.0</td>\n",
       "      <td>0.0</td>\n",
       "      <td>0.0</td>\n",
       "      <td>0.0</td>\n",
       "      <td>0.0</td>\n",
       "      <td>11.0</td>\n",
       "    </tr>\n",
       "  </tbody>\n",
       "</table>\n",
       "<p>9098 rows × 40 columns</p>\n",
       "</div>"
      ],
      "text/plain": [
       "               0      aif  autonews  championat   commers     echo  express  \\\n",
       "0         россия  42962.0     689.0     20195.0  138490.0  41943.0   1862.0   \n",
       "1         москва  21780.0     418.0      2120.0   48521.0  28997.0    287.0   \n",
       "2            сша  21617.0      33.0      2824.0   44911.0  15954.0    138.0   \n",
       "3             рф  24664.0      79.0       233.0   61633.0   4304.0     87.0   \n",
       "4        украина  20274.0       3.0       826.0   21698.0  10744.0     47.0   \n",
       "...          ...      ...       ...         ...       ...      ...      ...   \n",
       "9093   надбровье      0.0       0.0         0.0       0.0      0.0      0.0   \n",
       "9094    фрейдсон      0.0       0.0         0.0       0.0      0.0      0.0   \n",
       "9095  славянофил      0.0       0.0         0.0       0.0      0.0      0.0   \n",
       "9096     обтяжка      0.0      12.0         0.0       0.0      0.0      0.0   \n",
       "9097  тютчевский      0.0      11.0         0.0       0.0      0.0      0.0   \n",
       "\n",
       "      fontanka    gazeta  govorit  indicator  interfax        iz        kp  \\\n",
       "0      23491.0  147930.0  11087.0      942.0   81030.0  104119.0  147271.0   \n",
       "1       7451.0   40861.0  10186.0      414.0  144391.0   42676.0   56821.0   \n",
       "2       8044.0   70006.0   3649.0      523.0   66737.0   48031.0   29369.0   \n",
       "3       7776.0   20996.0   1314.0      182.0   68179.0   27135.0   34177.0   \n",
       "4       6064.0   65122.0   3160.0       15.0   29738.0   42387.0   31066.0   \n",
       "...        ...       ...      ...        ...       ...       ...       ...   \n",
       "9093       0.0       0.0      0.0        0.0       0.0       0.0       0.0   \n",
       "9094       0.0       0.0      0.0        0.0       0.0       0.0       0.0   \n",
       "9095       0.0       0.0      0.0        0.0       0.0       0.0       0.0   \n",
       "9096       0.0       0.0      0.0        0.0       0.0       0.0       0.0   \n",
       "9097       0.0       0.0      0.0        0.0       0.0       0.0       0.0   \n",
       "\n",
       "        lenta  mediazona   meduza       mk   moscow   motor   novaya  nplus1  \\\n",
       "0     70298.0     3652.0  13755.0  29404.0  27710.0  2250.0  18944.0   102.0   \n",
       "1     21291.0     4148.0   7877.0  14797.0  91887.0   304.0  11557.0    30.0   \n",
       "2     27246.0      401.0   5125.0  12322.0    750.0   684.0   5172.0   309.0   \n",
       "3      3149.0      248.0   2001.0   7950.0  21806.0    27.0   3251.0     4.0   \n",
       "4     30871.0      362.0   2250.0  12923.0    396.0    13.0   4824.0    15.0   \n",
       "...       ...        ...      ...      ...      ...     ...      ...     ...   \n",
       "9093      0.0        0.0      0.0      0.0      0.0     0.0      0.0     0.0   \n",
       "9094      0.0        0.0      0.0      0.0      0.0     0.0      0.0     0.0   \n",
       "9095      0.0        0.0      0.0      0.0      0.0     0.0      0.0     0.0   \n",
       "9096      0.0        0.0      0.0      0.0      0.0     0.0      0.0     0.0   \n",
       "9097      0.0        0.0      0.0      0.0      0.0     0.0      0.0     0.0   \n",
       "\n",
       "          ntv  postnauka  radiovesti      rbk  review       ria  rosgazeta  \\\n",
       "0     16143.0      342.0      2989.0  51573.0  1551.0  183671.0    89231.0   \n",
       "1      8228.0       83.0      1136.0  21391.0   251.0  165737.0    33759.0   \n",
       "2      8665.0       95.0      1187.0  23982.0   378.0   93653.0    32931.0   \n",
       "3      5600.0        5.0       235.0   5191.0    25.0   85555.0    32521.0   \n",
       "4      6798.0        5.0       999.0  19693.0    16.0   83757.0    14760.0   \n",
       "...       ...        ...         ...      ...     ...       ...        ...   \n",
       "9093      0.0       15.0         0.0      0.0     0.0       0.0        0.0   \n",
       "9094      0.0       15.0         0.0      0.0     0.0       0.0        0.0   \n",
       "9095      0.0       15.0         0.0      0.0     0.0       0.0        0.0   \n",
       "9096      0.0        0.0         0.0      0.0     0.0       0.0        0.0   \n",
       "9097      0.0        0.0         0.0      0.0     0.0       0.0        0.0   \n",
       "\n",
       "           rt   sports  svoboda      tass  thebell      tv1   tvrain  \\\n",
       "0     97741.0  25071.0  35139.0  148394.0   3491.0  19640.0  13759.0   \n",
       "1     29424.0   2916.0  13147.0  110933.0    886.0   8129.0   7671.0   \n",
       "2     51271.0   3594.0  10356.0   84425.0   1848.0   5900.0   4168.0   \n",
       "3      8618.0    517.0   1618.0  105358.0    142.0   3027.0    850.0   \n",
       "4     46813.0   1141.0  13454.0   40769.0    589.0   6500.0   3337.0   \n",
       "...       ...      ...      ...       ...      ...      ...      ...   \n",
       "9093      0.0      0.0      0.0       0.0      0.0      0.0      0.0   \n",
       "9094      0.0      0.0      0.0       0.0      0.0      0.0      0.0   \n",
       "9095      0.0      0.0      0.0       0.0      0.0      0.0      0.0   \n",
       "9096      0.0      0.0      0.0       0.0      0.0      0.0      0.0   \n",
       "9097      0.0      0.0      0.0       0.0      0.0      0.0      0.0   \n",
       "\n",
       "      vedomosti  zarulem   zvezda        sum  \n",
       "0       29762.0   2884.0  28987.0  1678494.0  \n",
       "1       10913.0   1088.0  10868.0   983374.0  \n",
       "2       11688.0    426.0  13688.0   712100.0  \n",
       "3        1352.0    598.0  16896.0   557303.0  \n",
       "4        4796.0     36.0  13379.0   539640.0  \n",
       "...         ...      ...      ...        ...  \n",
       "9093        0.0      0.0      0.0       15.0  \n",
       "9094        0.0      0.0      0.0       15.0  \n",
       "9095        0.0      0.0      0.0       15.0  \n",
       "9096        0.0      1.0      0.0       13.0  \n",
       "9097        0.0      0.0      0.0       11.0  \n",
       "\n",
       "[9098 rows x 40 columns]"
      ]
     },
     "execution_count": 139,
     "metadata": {},
     "output_type": "execute_result"
    }
   ],
   "source": [
    "df = pd.read_csv('keywords_top1000.csv')\n",
    "df = df.drop(['Unnamed: 0'], axis=1)\n",
    "df"
   ]
  },
  {
   "cell_type": "code",
   "execution_count": 140,
   "metadata": {},
   "outputs": [],
   "source": [
    "for media in df.columns[1:-1]:\n",
    "    df = df.sort_values(media, ascending=False)\n",
    "    df[media]/=df[media].iloc[0]"
   ]
  },
  {
   "cell_type": "code",
   "execution_count": 141,
   "metadata": {},
   "outputs": [
    {
     "data": {
      "text/html": [
       "<div>\n",
       "<style scoped>\n",
       "    .dataframe tbody tr th:only-of-type {\n",
       "        vertical-align: middle;\n",
       "    }\n",
       "\n",
       "    .dataframe tbody tr th {\n",
       "        vertical-align: top;\n",
       "    }\n",
       "\n",
       "    .dataframe thead th {\n",
       "        text-align: right;\n",
       "    }\n",
       "</style>\n",
       "<table border=\"1\" class=\"dataframe\">\n",
       "  <thead>\n",
       "    <tr style=\"text-align: right;\">\n",
       "      <th></th>\n",
       "      <th>0</th>\n",
       "      <th>aif</th>\n",
       "      <th>autonews</th>\n",
       "      <th>championat</th>\n",
       "      <th>commers</th>\n",
       "      <th>echo</th>\n",
       "      <th>express</th>\n",
       "      <th>fontanka</th>\n",
       "      <th>gazeta</th>\n",
       "      <th>govorit</th>\n",
       "      <th>indicator</th>\n",
       "      <th>interfax</th>\n",
       "      <th>iz</th>\n",
       "      <th>kp</th>\n",
       "      <th>lenta</th>\n",
       "      <th>mediazona</th>\n",
       "      <th>meduza</th>\n",
       "      <th>mk</th>\n",
       "      <th>moscow</th>\n",
       "      <th>motor</th>\n",
       "      <th>novaya</th>\n",
       "      <th>nplus1</th>\n",
       "      <th>ntv</th>\n",
       "      <th>postnauka</th>\n",
       "      <th>radiovesti</th>\n",
       "      <th>rbk</th>\n",
       "      <th>review</th>\n",
       "      <th>ria</th>\n",
       "      <th>rosgazeta</th>\n",
       "      <th>rt</th>\n",
       "      <th>sports</th>\n",
       "      <th>svoboda</th>\n",
       "      <th>tass</th>\n",
       "      <th>thebell</th>\n",
       "      <th>tv1</th>\n",
       "      <th>tvrain</th>\n",
       "      <th>vedomosti</th>\n",
       "      <th>zarulem</th>\n",
       "      <th>zvezda</th>\n",
       "      <th>sum</th>\n",
       "    </tr>\n",
       "  </thead>\n",
       "  <tbody>\n",
       "    <tr>\n",
       "      <td>0</td>\n",
       "      <td>россия</td>\n",
       "      <td>1.000000</td>\n",
       "      <td>0.491792</td>\n",
       "      <td>1.000000</td>\n",
       "      <td>1.000000</td>\n",
       "      <td>1.000000</td>\n",
       "      <td>1.000000</td>\n",
       "      <td>0.877414</td>\n",
       "      <td>1.000000</td>\n",
       "      <td>1.000000</td>\n",
       "      <td>1.000000</td>\n",
       "      <td>0.561185</td>\n",
       "      <td>1.000000</td>\n",
       "      <td>1.000000</td>\n",
       "      <td>1.000000</td>\n",
       "      <td>0.620772</td>\n",
       "      <td>1.000000</td>\n",
       "      <td>1.000000</td>\n",
       "      <td>0.301566</td>\n",
       "      <td>0.590706</td>\n",
       "      <td>1.000000</td>\n",
       "      <td>0.139918</td>\n",
       "      <td>1.000000</td>\n",
       "      <td>0.450000</td>\n",
       "      <td>1.000000</td>\n",
       "      <td>1.000000</td>\n",
       "      <td>0.591533</td>\n",
       "      <td>0.713200</td>\n",
       "      <td>1.000000</td>\n",
       "      <td>1.000000</td>\n",
       "      <td>1.000000</td>\n",
       "      <td>1.000000</td>\n",
       "      <td>0.680959</td>\n",
       "      <td>1.000000</td>\n",
       "      <td>1.000000</td>\n",
       "      <td>1.000000</td>\n",
       "      <td>1.000000</td>\n",
       "      <td>1.000000</td>\n",
       "      <td>1.000000</td>\n",
       "      <td>1678494.0</td>\n",
       "    </tr>\n",
       "    <tr>\n",
       "      <td>3</td>\n",
       "      <td>рф</td>\n",
       "      <td>0.574089</td>\n",
       "      <td>0.056388</td>\n",
       "      <td>0.011538</td>\n",
       "      <td>0.445036</td>\n",
       "      <td>0.102615</td>\n",
       "      <td>0.046724</td>\n",
       "      <td>0.290442</td>\n",
       "      <td>0.141932</td>\n",
       "      <td>0.118517</td>\n",
       "      <td>0.193206</td>\n",
       "      <td>0.472183</td>\n",
       "      <td>0.260615</td>\n",
       "      <td>0.232069</td>\n",
       "      <td>0.044795</td>\n",
       "      <td>0.042155</td>\n",
       "      <td>0.145474</td>\n",
       "      <td>0.270371</td>\n",
       "      <td>0.237313</td>\n",
       "      <td>0.007088</td>\n",
       "      <td>0.171611</td>\n",
       "      <td>0.005487</td>\n",
       "      <td>0.346900</td>\n",
       "      <td>0.006579</td>\n",
       "      <td>0.078622</td>\n",
       "      <td>0.100653</td>\n",
       "      <td>0.009535</td>\n",
       "      <td>0.332212</td>\n",
       "      <td>0.364459</td>\n",
       "      <td>0.088172</td>\n",
       "      <td>0.020621</td>\n",
       "      <td>0.046046</td>\n",
       "      <td>0.483473</td>\n",
       "      <td>0.040676</td>\n",
       "      <td>0.154124</td>\n",
       "      <td>0.061778</td>\n",
       "      <td>0.045427</td>\n",
       "      <td>0.207351</td>\n",
       "      <td>0.582882</td>\n",
       "      <td>557303.0</td>\n",
       "    </tr>\n",
       "    <tr>\n",
       "      <td>2</td>\n",
       "      <td>сша</td>\n",
       "      <td>0.503166</td>\n",
       "      <td>0.023555</td>\n",
       "      <td>0.139837</td>\n",
       "      <td>0.324291</td>\n",
       "      <td>0.380373</td>\n",
       "      <td>0.074114</td>\n",
       "      <td>0.300452</td>\n",
       "      <td>0.473237</td>\n",
       "      <td>0.329124</td>\n",
       "      <td>0.555202</td>\n",
       "      <td>0.462196</td>\n",
       "      <td>0.461309</td>\n",
       "      <td>0.199421</td>\n",
       "      <td>0.387579</td>\n",
       "      <td>0.068163</td>\n",
       "      <td>0.372592</td>\n",
       "      <td>0.419059</td>\n",
       "      <td>0.008162</td>\n",
       "      <td>0.179575</td>\n",
       "      <td>0.273015</td>\n",
       "      <td>0.423868</td>\n",
       "      <td>0.536765</td>\n",
       "      <td>0.125000</td>\n",
       "      <td>0.397123</td>\n",
       "      <td>0.465011</td>\n",
       "      <td>0.144165</td>\n",
       "      <td>0.363657</td>\n",
       "      <td>0.369053</td>\n",
       "      <td>0.524560</td>\n",
       "      <td>0.143353</td>\n",
       "      <td>0.294715</td>\n",
       "      <td>0.387415</td>\n",
       "      <td>0.529361</td>\n",
       "      <td>0.300407</td>\n",
       "      <td>0.302929</td>\n",
       "      <td>0.392716</td>\n",
       "      <td>0.147712</td>\n",
       "      <td>0.472212</td>\n",
       "      <td>712100.0</td>\n",
       "    </tr>\n",
       "    <tr>\n",
       "      <td>4</td>\n",
       "      <td>украина</td>\n",
       "      <td>0.471905</td>\n",
       "      <td>0.002141</td>\n",
       "      <td>0.040901</td>\n",
       "      <td>0.156676</td>\n",
       "      <td>0.256157</td>\n",
       "      <td>0.025242</td>\n",
       "      <td>0.226497</td>\n",
       "      <td>0.440222</td>\n",
       "      <td>0.285018</td>\n",
       "      <td>0.015924</td>\n",
       "      <td>0.205955</td>\n",
       "      <td>0.407101</td>\n",
       "      <td>0.210944</td>\n",
       "      <td>0.439145</td>\n",
       "      <td>0.061533</td>\n",
       "      <td>0.163577</td>\n",
       "      <td>0.439498</td>\n",
       "      <td>0.004310</td>\n",
       "      <td>0.003413</td>\n",
       "      <td>0.254645</td>\n",
       "      <td>0.020576</td>\n",
       "      <td>0.421111</td>\n",
       "      <td>0.006579</td>\n",
       "      <td>0.334225</td>\n",
       "      <td>0.381847</td>\n",
       "      <td>0.006102</td>\n",
       "      <td>0.325231</td>\n",
       "      <td>0.165413</td>\n",
       "      <td>0.478949</td>\n",
       "      <td>0.045511</td>\n",
       "      <td>0.382879</td>\n",
       "      <td>0.187083</td>\n",
       "      <td>0.168720</td>\n",
       "      <td>0.330957</td>\n",
       "      <td>0.242532</td>\n",
       "      <td>0.161145</td>\n",
       "      <td>0.012483</td>\n",
       "      <td>0.461552</td>\n",
       "      <td>539640.0</td>\n",
       "    </tr>\n",
       "    <tr>\n",
       "      <td>1</td>\n",
       "      <td>москва</td>\n",
       "      <td>0.506960</td>\n",
       "      <td>0.298358</td>\n",
       "      <td>0.104976</td>\n",
       "      <td>0.350357</td>\n",
       "      <td>0.691343</td>\n",
       "      <td>0.154135</td>\n",
       "      <td>0.278303</td>\n",
       "      <td>0.276218</td>\n",
       "      <td>0.918734</td>\n",
       "      <td>0.439490</td>\n",
       "      <td>1.000000</td>\n",
       "      <td>0.409877</td>\n",
       "      <td>0.385826</td>\n",
       "      <td>0.302868</td>\n",
       "      <td>0.705082</td>\n",
       "      <td>0.572664</td>\n",
       "      <td>0.503231</td>\n",
       "      <td>1.000000</td>\n",
       "      <td>0.079811</td>\n",
       "      <td>0.610061</td>\n",
       "      <td>0.041152</td>\n",
       "      <td>0.509695</td>\n",
       "      <td>0.109211</td>\n",
       "      <td>0.380060</td>\n",
       "      <td>0.414771</td>\n",
       "      <td>0.095728</td>\n",
       "      <td>0.643561</td>\n",
       "      <td>0.378333</td>\n",
       "      <td>0.301041</td>\n",
       "      <td>0.116310</td>\n",
       "      <td>0.374143</td>\n",
       "      <td>0.509056</td>\n",
       "      <td>0.253795</td>\n",
       "      <td>0.413900</td>\n",
       "      <td>0.557526</td>\n",
       "      <td>0.366676</td>\n",
       "      <td>0.377254</td>\n",
       "      <td>0.374927</td>\n",
       "      <td>983374.0</td>\n",
       "    </tr>\n",
       "    <tr>\n",
       "      <td>...</td>\n",
       "      <td>...</td>\n",
       "      <td>...</td>\n",
       "      <td>...</td>\n",
       "      <td>...</td>\n",
       "      <td>...</td>\n",
       "      <td>...</td>\n",
       "      <td>...</td>\n",
       "      <td>...</td>\n",
       "      <td>...</td>\n",
       "      <td>...</td>\n",
       "      <td>...</td>\n",
       "      <td>...</td>\n",
       "      <td>...</td>\n",
       "      <td>...</td>\n",
       "      <td>...</td>\n",
       "      <td>...</td>\n",
       "      <td>...</td>\n",
       "      <td>...</td>\n",
       "      <td>...</td>\n",
       "      <td>...</td>\n",
       "      <td>...</td>\n",
       "      <td>...</td>\n",
       "      <td>...</td>\n",
       "      <td>...</td>\n",
       "      <td>...</td>\n",
       "      <td>...</td>\n",
       "      <td>...</td>\n",
       "      <td>...</td>\n",
       "      <td>...</td>\n",
       "      <td>...</td>\n",
       "      <td>...</td>\n",
       "      <td>...</td>\n",
       "      <td>...</td>\n",
       "      <td>...</td>\n",
       "      <td>...</td>\n",
       "      <td>...</td>\n",
       "      <td>...</td>\n",
       "      <td>...</td>\n",
       "      <td>...</td>\n",
       "      <td>...</td>\n",
       "    </tr>\n",
       "    <tr>\n",
       "      <td>2658</td>\n",
       "      <td>погб</td>\n",
       "      <td>0.000303</td>\n",
       "      <td>0.000000</td>\n",
       "      <td>0.003466</td>\n",
       "      <td>0.000224</td>\n",
       "      <td>0.000072</td>\n",
       "      <td>0.024168</td>\n",
       "      <td>0.000000</td>\n",
       "      <td>0.004806</td>\n",
       "      <td>0.000000</td>\n",
       "      <td>0.000000</td>\n",
       "      <td>0.000000</td>\n",
       "      <td>0.000365</td>\n",
       "      <td>0.000482</td>\n",
       "      <td>0.001778</td>\n",
       "      <td>0.000000</td>\n",
       "      <td>0.000000</td>\n",
       "      <td>0.000000</td>\n",
       "      <td>0.000000</td>\n",
       "      <td>0.000263</td>\n",
       "      <td>0.000000</td>\n",
       "      <td>0.000000</td>\n",
       "      <td>0.000000</td>\n",
       "      <td>0.000000</td>\n",
       "      <td>0.000000</td>\n",
       "      <td>0.000000</td>\n",
       "      <td>0.000000</td>\n",
       "      <td>0.000000</td>\n",
       "      <td>0.000213</td>\n",
       "      <td>0.000010</td>\n",
       "      <td>0.035340</td>\n",
       "      <td>0.000000</td>\n",
       "      <td>0.000000</td>\n",
       "      <td>0.000000</td>\n",
       "      <td>0.000000</td>\n",
       "      <td>0.000000</td>\n",
       "      <td>0.000000</td>\n",
       "      <td>0.000000</td>\n",
       "      <td>0.000000</td>\n",
       "      <td>2014.0</td>\n",
       "    </tr>\n",
       "    <tr>\n",
       "      <td>8550</td>\n",
       "      <td>поведенческий</td>\n",
       "      <td>0.000023</td>\n",
       "      <td>0.000000</td>\n",
       "      <td>0.000000</td>\n",
       "      <td>0.000007</td>\n",
       "      <td>0.000024</td>\n",
       "      <td>0.000000</td>\n",
       "      <td>0.000000</td>\n",
       "      <td>0.000000</td>\n",
       "      <td>0.000000</td>\n",
       "      <td>0.008493</td>\n",
       "      <td>0.000000</td>\n",
       "      <td>0.000010</td>\n",
       "      <td>0.000000</td>\n",
       "      <td>0.000000</td>\n",
       "      <td>0.000000</td>\n",
       "      <td>0.000073</td>\n",
       "      <td>0.000034</td>\n",
       "      <td>0.000000</td>\n",
       "      <td>0.000263</td>\n",
       "      <td>0.000000</td>\n",
       "      <td>0.021948</td>\n",
       "      <td>0.000000</td>\n",
       "      <td>0.028947</td>\n",
       "      <td>0.000000</td>\n",
       "      <td>0.000000</td>\n",
       "      <td>0.000000</td>\n",
       "      <td>0.000000</td>\n",
       "      <td>0.000011</td>\n",
       "      <td>0.000000</td>\n",
       "      <td>0.000000</td>\n",
       "      <td>0.000028</td>\n",
       "      <td>0.000000</td>\n",
       "      <td>0.000000</td>\n",
       "      <td>0.000000</td>\n",
       "      <td>0.000000</td>\n",
       "      <td>0.000034</td>\n",
       "      <td>0.000000</td>\n",
       "      <td>0.000000</td>\n",
       "      <td>56.0</td>\n",
       "    </tr>\n",
       "    <tr>\n",
       "      <td>3933</td>\n",
       "      <td>макдоналдс</td>\n",
       "      <td>0.000349</td>\n",
       "      <td>0.000000</td>\n",
       "      <td>0.000050</td>\n",
       "      <td>0.000657</td>\n",
       "      <td>0.000453</td>\n",
       "      <td>0.000000</td>\n",
       "      <td>0.001569</td>\n",
       "      <td>0.000162</td>\n",
       "      <td>0.000180</td>\n",
       "      <td>0.000000</td>\n",
       "      <td>0.000097</td>\n",
       "      <td>0.000211</td>\n",
       "      <td>0.000890</td>\n",
       "      <td>0.002945</td>\n",
       "      <td>0.000340</td>\n",
       "      <td>0.002254</td>\n",
       "      <td>0.000476</td>\n",
       "      <td>0.000044</td>\n",
       "      <td>0.000000</td>\n",
       "      <td>0.000845</td>\n",
       "      <td>0.001372</td>\n",
       "      <td>0.001239</td>\n",
       "      <td>0.001316</td>\n",
       "      <td>0.000000</td>\n",
       "      <td>0.000911</td>\n",
       "      <td>0.001144</td>\n",
       "      <td>0.000179</td>\n",
       "      <td>0.001289</td>\n",
       "      <td>0.000000</td>\n",
       "      <td>0.000439</td>\n",
       "      <td>0.000484</td>\n",
       "      <td>0.000179</td>\n",
       "      <td>0.000859</td>\n",
       "      <td>0.000102</td>\n",
       "      <td>0.001526</td>\n",
       "      <td>0.000638</td>\n",
       "      <td>0.000000</td>\n",
       "      <td>0.000000</td>\n",
       "      <td>980.0</td>\n",
       "    </tr>\n",
       "    <tr>\n",
       "      <td>5290</td>\n",
       "      <td>spar</td>\n",
       "      <td>0.000000</td>\n",
       "      <td>0.000000</td>\n",
       "      <td>0.000000</td>\n",
       "      <td>0.001206</td>\n",
       "      <td>0.000024</td>\n",
       "      <td>0.000000</td>\n",
       "      <td>0.004482</td>\n",
       "      <td>0.000000</td>\n",
       "      <td>0.000180</td>\n",
       "      <td>0.000000</td>\n",
       "      <td>0.000000</td>\n",
       "      <td>0.000077</td>\n",
       "      <td>0.000428</td>\n",
       "      <td>0.000028</td>\n",
       "      <td>0.000000</td>\n",
       "      <td>0.000654</td>\n",
       "      <td>0.000000</td>\n",
       "      <td>0.000000</td>\n",
       "      <td>0.000263</td>\n",
       "      <td>0.000000</td>\n",
       "      <td>0.000000</td>\n",
       "      <td>0.000000</td>\n",
       "      <td>0.000000</td>\n",
       "      <td>0.000000</td>\n",
       "      <td>0.000271</td>\n",
       "      <td>0.000000</td>\n",
       "      <td>0.000004</td>\n",
       "      <td>0.000022</td>\n",
       "      <td>0.000000</td>\n",
       "      <td>0.000000</td>\n",
       "      <td>0.000000</td>\n",
       "      <td>0.000046</td>\n",
       "      <td>0.000000</td>\n",
       "      <td>0.000000</td>\n",
       "      <td>0.000363</td>\n",
       "      <td>0.000638</td>\n",
       "      <td>0.000000</td>\n",
       "      <td>0.000000</td>\n",
       "      <td>424.0</td>\n",
       "    </tr>\n",
       "    <tr>\n",
       "      <td>5282</td>\n",
       "      <td>петтис</td>\n",
       "      <td>0.000000</td>\n",
       "      <td>0.000000</td>\n",
       "      <td>0.007923</td>\n",
       "      <td>0.000014</td>\n",
       "      <td>0.000000</td>\n",
       "      <td>0.003222</td>\n",
       "      <td>0.000037</td>\n",
       "      <td>0.000683</td>\n",
       "      <td>0.000000</td>\n",
       "      <td>0.000000</td>\n",
       "      <td>0.000000</td>\n",
       "      <td>0.000058</td>\n",
       "      <td>0.000014</td>\n",
       "      <td>0.000156</td>\n",
       "      <td>0.000000</td>\n",
       "      <td>0.000000</td>\n",
       "      <td>0.000000</td>\n",
       "      <td>0.000000</td>\n",
       "      <td>0.000000</td>\n",
       "      <td>0.000000</td>\n",
       "      <td>0.000000</td>\n",
       "      <td>0.000000</td>\n",
       "      <td>0.000000</td>\n",
       "      <td>0.000000</td>\n",
       "      <td>0.000000</td>\n",
       "      <td>0.000000</td>\n",
       "      <td>0.000000</td>\n",
       "      <td>0.000067</td>\n",
       "      <td>0.000031</td>\n",
       "      <td>0.005066</td>\n",
       "      <td>0.000000</td>\n",
       "      <td>0.000000</td>\n",
       "      <td>0.000000</td>\n",
       "      <td>0.000000</td>\n",
       "      <td>0.000073</td>\n",
       "      <td>0.000000</td>\n",
       "      <td>0.000000</td>\n",
       "      <td>0.000000</td>\n",
       "      <td>426.0</td>\n",
       "    </tr>\n",
       "  </tbody>\n",
       "</table>\n",
       "<p>9098 rows × 40 columns</p>\n",
       "</div>"
      ],
      "text/plain": [
       "                  0       aif  autonews  championat   commers      echo  \\\n",
       "0            россия  1.000000  0.491792    1.000000  1.000000  1.000000   \n",
       "3                рф  0.574089  0.056388    0.011538  0.445036  0.102615   \n",
       "2               сша  0.503166  0.023555    0.139837  0.324291  0.380373   \n",
       "4           украина  0.471905  0.002141    0.040901  0.156676  0.256157   \n",
       "1            москва  0.506960  0.298358    0.104976  0.350357  0.691343   \n",
       "...             ...       ...       ...         ...       ...       ...   \n",
       "2658           погб  0.000303  0.000000    0.003466  0.000224  0.000072   \n",
       "8550  поведенческий  0.000023  0.000000    0.000000  0.000007  0.000024   \n",
       "3933     макдоналдс  0.000349  0.000000    0.000050  0.000657  0.000453   \n",
       "5290           spar  0.000000  0.000000    0.000000  0.001206  0.000024   \n",
       "5282         петтис  0.000000  0.000000    0.007923  0.000014  0.000000   \n",
       "\n",
       "       express  fontanka    gazeta   govorit  indicator  interfax        iz  \\\n",
       "0     1.000000  0.877414  1.000000  1.000000   1.000000  0.561185  1.000000   \n",
       "3     0.046724  0.290442  0.141932  0.118517   0.193206  0.472183  0.260615   \n",
       "2     0.074114  0.300452  0.473237  0.329124   0.555202  0.462196  0.461309   \n",
       "4     0.025242  0.226497  0.440222  0.285018   0.015924  0.205955  0.407101   \n",
       "1     0.154135  0.278303  0.276218  0.918734   0.439490  1.000000  0.409877   \n",
       "...        ...       ...       ...       ...        ...       ...       ...   \n",
       "2658  0.024168  0.000000  0.004806  0.000000   0.000000  0.000000  0.000365   \n",
       "8550  0.000000  0.000000  0.000000  0.000000   0.008493  0.000000  0.000010   \n",
       "3933  0.000000  0.001569  0.000162  0.000180   0.000000  0.000097  0.000211   \n",
       "5290  0.000000  0.004482  0.000000  0.000180   0.000000  0.000000  0.000077   \n",
       "5282  0.003222  0.000037  0.000683  0.000000   0.000000  0.000000  0.000058   \n",
       "\n",
       "            kp     lenta  mediazona    meduza        mk    moscow     motor  \\\n",
       "0     1.000000  1.000000   0.620772  1.000000  1.000000  0.301566  0.590706   \n",
       "3     0.232069  0.044795   0.042155  0.145474  0.270371  0.237313  0.007088   \n",
       "2     0.199421  0.387579   0.068163  0.372592  0.419059  0.008162  0.179575   \n",
       "4     0.210944  0.439145   0.061533  0.163577  0.439498  0.004310  0.003413   \n",
       "1     0.385826  0.302868   0.705082  0.572664  0.503231  1.000000  0.079811   \n",
       "...        ...       ...        ...       ...       ...       ...       ...   \n",
       "2658  0.000482  0.001778   0.000000  0.000000  0.000000  0.000000  0.000263   \n",
       "8550  0.000000  0.000000   0.000000  0.000073  0.000034  0.000000  0.000263   \n",
       "3933  0.000890  0.002945   0.000340  0.002254  0.000476  0.000044  0.000000   \n",
       "5290  0.000428  0.000028   0.000000  0.000654  0.000000  0.000000  0.000263   \n",
       "5282  0.000014  0.000156   0.000000  0.000000  0.000000  0.000000  0.000000   \n",
       "\n",
       "        novaya    nplus1       ntv  postnauka  radiovesti       rbk    review  \\\n",
       "0     1.000000  0.139918  1.000000   0.450000    1.000000  1.000000  0.591533   \n",
       "3     0.171611  0.005487  0.346900   0.006579    0.078622  0.100653  0.009535   \n",
       "2     0.273015  0.423868  0.536765   0.125000    0.397123  0.465011  0.144165   \n",
       "4     0.254645  0.020576  0.421111   0.006579    0.334225  0.381847  0.006102   \n",
       "1     0.610061  0.041152  0.509695   0.109211    0.380060  0.414771  0.095728   \n",
       "...        ...       ...       ...        ...         ...       ...       ...   \n",
       "2658  0.000000  0.000000  0.000000   0.000000    0.000000  0.000000  0.000000   \n",
       "8550  0.000000  0.021948  0.000000   0.028947    0.000000  0.000000  0.000000   \n",
       "3933  0.000845  0.001372  0.001239   0.001316    0.000000  0.000911  0.001144   \n",
       "5290  0.000000  0.000000  0.000000   0.000000    0.000000  0.000271  0.000000   \n",
       "5282  0.000000  0.000000  0.000000   0.000000    0.000000  0.000000  0.000000   \n",
       "\n",
       "           ria  rosgazeta        rt    sports   svoboda      tass   thebell  \\\n",
       "0     0.713200   1.000000  1.000000  1.000000  1.000000  0.680959  1.000000   \n",
       "3     0.332212   0.364459  0.088172  0.020621  0.046046  0.483473  0.040676   \n",
       "2     0.363657   0.369053  0.524560  0.143353  0.294715  0.387415  0.529361   \n",
       "4     0.325231   0.165413  0.478949  0.045511  0.382879  0.187083  0.168720   \n",
       "1     0.643561   0.378333  0.301041  0.116310  0.374143  0.509056  0.253795   \n",
       "...        ...        ...       ...       ...       ...       ...       ...   \n",
       "2658  0.000000   0.000213  0.000010  0.035340  0.000000  0.000000  0.000000   \n",
       "8550  0.000000   0.000011  0.000000  0.000000  0.000028  0.000000  0.000000   \n",
       "3933  0.000179   0.001289  0.000000  0.000439  0.000484  0.000179  0.000859   \n",
       "5290  0.000004   0.000022  0.000000  0.000000  0.000000  0.000046  0.000000   \n",
       "5282  0.000000   0.000067  0.000031  0.005066  0.000000  0.000000  0.000000   \n",
       "\n",
       "           tv1    tvrain  vedomosti   zarulem    zvezda        sum  \n",
       "0     1.000000  1.000000   1.000000  1.000000  1.000000  1678494.0  \n",
       "3     0.154124  0.061778   0.045427  0.207351  0.582882   557303.0  \n",
       "2     0.300407  0.302929   0.392716  0.147712  0.472212   712100.0  \n",
       "4     0.330957  0.242532   0.161145  0.012483  0.461552   539640.0  \n",
       "1     0.413900  0.557526   0.366676  0.377254  0.374927   983374.0  \n",
       "...        ...       ...        ...       ...       ...        ...  \n",
       "2658  0.000000  0.000000   0.000000  0.000000  0.000000     2014.0  \n",
       "8550  0.000000  0.000000   0.000034  0.000000  0.000000       56.0  \n",
       "3933  0.000102  0.001526   0.000638  0.000000  0.000000      980.0  \n",
       "5290  0.000000  0.000363   0.000638  0.000000  0.000000      424.0  \n",
       "5282  0.000000  0.000073   0.000000  0.000000  0.000000      426.0  \n",
       "\n",
       "[9098 rows x 40 columns]"
      ]
     },
     "execution_count": 141,
     "metadata": {},
     "output_type": "execute_result"
    }
   ],
   "source": [
    "df"
   ]
  },
  {
   "cell_type": "code",
   "execution_count": 142,
   "metadata": {},
   "outputs": [
    {
     "data": {
      "text/plain": [
       "array([[1.00000000e+00, 5.74088730e-01, 5.03165588e-01, ...,\n",
       "        3.49145757e-04, 0.00000000e+00, 0.00000000e+00],\n",
       "       [4.91791577e-01, 5.63882941e-02, 2.35546039e-02, ...,\n",
       "        0.00000000e+00, 0.00000000e+00, 0.00000000e+00],\n",
       "       [1.00000000e+00, 1.15375093e-02, 1.39836593e-01, ...,\n",
       "        4.95172072e-05, 0.00000000e+00, 7.92275316e-03],\n",
       "       ...,\n",
       "       [1.00000000e+00, 4.54270546e-02, 3.92715543e-01, ...,\n",
       "        6.38397957e-04, 6.38397957e-04, 0.00000000e+00],\n",
       "       [1.00000000e+00, 2.07350902e-01, 1.47711512e-01, ...,\n",
       "        0.00000000e+00, 0.00000000e+00, 0.00000000e+00],\n",
       "       [1.00000000e+00, 5.82881982e-01, 4.72211681e-01, ...,\n",
       "        0.00000000e+00, 0.00000000e+00, 0.00000000e+00]])"
      ]
     },
     "execution_count": 142,
     "metadata": {},
     "output_type": "execute_result"
    }
   ],
   "source": [
    "X = df.iloc[:, 1:-1].values.T\n",
    "X"
   ]
  },
  {
   "cell_type": "code",
   "execution_count": 147,
   "metadata": {},
   "outputs": [
    {
     "data": {
      "image/png": "[encoded data removed]",
      "text/plain": [
       "<Figure size 1224x1008 with 1 Axes>"
      ]
     },
     "metadata": {
      "needs_background": "light"
     },
     "output_type": "display_data"
    }
   ],
   "source": [
    "fig = plt.figure(figsize=(17, 14))\n",
    "dendrogram = scipy.cluster.hierarchy.dendrogram(scipy.cluster.hierarchy.linkage(X, method='ward'), \n",
    "                                                orientation='right')\n",
    "plt.tick_params(labelsize=16, axis='y', labelrotation=0)\n",
    "plt.tick_params(labelsize=16, axis='x')\n",
    "loc, lab = plt.yticks()\n",
    "# l = {index:i for index, i in enumerate(df.columns[1:-1])}\n",
    "l = {index:i for index, i in enumerate(media_list)}\n",
    "labels_old = [i.get_text() for i in lab]\n",
    "labels_new = [l[int(i)] for i in labels_old]\n",
    "# print(labels_old, labels_new)\n",
    "plt.yticks(loc, labels=labels_new);\n",
    "plt.xticks([]);"
   ]
  },
  {
   "cell_type": "code",
   "execution_count": null,
   "metadata": {},
   "outputs": [],
   "source": []
  },
  {
   "cell_type": "markdown",
   "metadata": {},
   "source": [
    "## Quotations"
   ]
  },
  {
   "cell_type": "code",
   "execution_count": 103,
   "metadata": {},
   "outputs": [],
   "source": [
    "def find_people(list_of_quotes, lang, sign):\n",
    "    people = []\n",
    "    morph = pymorphy2.MorphAnalyzer()\n",
    "    \n",
    "    if lang == 'en' and sign == 'hyphen':\n",
    "        for quote in tqdm_notebook(list_of_quotes):\n",
    "            quote = re.sub(r'\".*\"', r'\"...\"', quote)\n",
    "            try:\n",
    "                if not quote.endswith('\"'):\n",
    "                    author = re.findall(r'\\b[А-Я]\\w+\\b', re.findall(r'\", - .*', quote)[0])\n",
    "                if quote.endswith('\"') or not author:\n",
    "                    author = re.findall(r'\\b[А-Я]\\w+\\b', re.findall(r'.* \"', quote)[0])\n",
    "                for word in author:\n",
    "                    m = morph.parse(word)[0]\n",
    "                    if m.tag.animacy=='anim' and 'Name' not in m.tag:\n",
    "                        people.append(m.normal_form.capitalize())\n",
    "            except IndexError:\n",
    "                pass\n",
    "    \n",
    "    elif lang == 'ru' and sign == 'hyphen':\n",
    "        for quote in tqdm_notebook(list_of_quotes):\n",
    "            quote = re.sub(r'«.*»', r'«...»', quote)\n",
    "            try:\n",
    "                if not quote.endswith('»'):\n",
    "                    author = re.findall(r'\\b[А-Я]\\w+\\b', re.findall(r'», - .*', quote)[0])\n",
    "                if quote.endswith('»') or not author:\n",
    "                    author = re.findall(r'\\b[А-Я]\\w+\\b', re.findall(r'.* «', quote)[0])\n",
    "                for word in author:\n",
    "                    m = morph.parse(word)[0]\n",
    "                    if m.tag.animacy=='anim' and 'Name' not in m.tag:\n",
    "                        people.append(m.normal_form.capitalize())\n",
    "            except IndexError:\n",
    "                pass\n",
    "    \n",
    "    elif lang == 'ru' and sign == 'dash':\n",
    "        for quote in tqdm_notebook(list_of_quotes):\n",
    "            quote = re.sub(r'«.*»', r'«...»', quote)\n",
    "            try:\n",
    "                if not quote.endswith('»'):\n",
    "                    author = re.findall(r'\\b[А-Я]\\w+\\b', re.findall(r'», — .*', quote)[0])\n",
    "                if quote.endswith('»') or not author:\n",
    "                    author = re.findall(r'\\b[А-Я]\\w+\\b', re.findall(r'.* «', quote)[0])\n",
    "                for word in author:\n",
    "                    m = morph.parse(word)[0]\n",
    "                    if m.tag.animacy=='anim' and 'Name' not in m.tag:\n",
    "                        people.append(m.normal_form.capitalize())\n",
    "                    \n",
    "            except IndexError:\n",
    "                pass    \n",
    "\n",
    "    return people"
   ]
  },
  {
   "cell_type": "code",
   "execution_count": 169,
   "metadata": {},
   "outputs": [
    {
     "data": {
      "text/plain": [
       "198414"
      ]
     },
     "execution_count": 169,
     "metadata": {},
     "output_type": "execute_result"
    }
   ],
   "source": [
    "with open('tass_text.txt', encoding='utf-8') as f:\n",
    "    tass_text = f.read()\n",
    "    \n",
    "tass_find = re.findall(r'[^\\.]*\\. \"[^\"]*\", - [^\\.]*', tass_text) + re.findall(r'[^\\.]*: \"[^\"]*\"', tass_text)\n",
    "len(tass_find, '\"', '-')"
   ]
  },
  {
   "cell_type": "code",
   "execution_count": 182,
   "metadata": {
    "scrolled": true
   },
   "outputs": [
    {
     "data": {
      "text/plain": [
       "[('Путин', 3007),\n",
       " ('Медведев', 1483),\n",
       " ('Лавров', 1206),\n",
       " ('Глава', 1002),\n",
       " ('Президент', 849),\n",
       " ('Володин', 658),\n",
       " ('Захаров', 571),\n",
       " ('Матвиенко', 514),\n",
       " ('Никитин', 459),\n",
       " ('Министр', 448),\n",
       " ('Кузнецов', 446),\n",
       " ('Иванов', 423),\n",
       " ('Собянин', 393),\n",
       " ('Лукашенко', 377),\n",
       " ('Слуцкий', 365),\n",
       " ('Волк', 349),\n",
       " ('Васильев', 347),\n",
       " ('Представитель', 330),\n",
       " ('Шойгу', 315),\n",
       " ('Порошенко', 315),\n",
       " ('Орешкин', 315),\n",
       " ('Косачев', 289),\n",
       " ('Морозов', 268),\n",
       " ('Премьер', 264),\n",
       " ('Рябок', 260),\n",
       " ('Орлов', 260),\n",
       " ('Голиков', 245),\n",
       " ('Столтенберг', 238),\n",
       " ('Антонов', 238),\n",
       " ('Председатель', 233),\n",
       " ('Макаров', 233),\n",
       " ('Рогозин', 228),\n",
       " ('Меркель', 224),\n",
       " ('Титов', 223),\n",
       " ('Петренко', 218),\n",
       " ('Губернатор', 212),\n",
       " ('Петров', 209),\n",
       " ('Попов', 209),\n",
       " ('Якушев', 193),\n",
       " ('Памфилов', 188),\n",
       " ('Патрушев', 187),\n",
       " ('Хуснуллин', 186),\n",
       " ('Сотрудник', 184),\n",
       " ('Толстой', 183),\n",
       " ('Осипов', 178),\n",
       " ('Волков', 177),\n",
       " ('Медведчук', 175),\n",
       " ('Мишустин', 172),\n",
       " ('Козак', 170),\n",
       " ('Греф', 159)]"
      ]
     },
     "execution_count": 182,
     "metadata": {},
     "output_type": "execute_result"
    }
   ],
   "source": [
    "Counter(find_people_en_hyphen(tass_find)).most_common(50)"
   ]
  },
  {
   "cell_type": "code",
   "execution_count": 64,
   "metadata": {},
   "outputs": [],
   "source": [
    "def find_quotes(file, lang, sign):\n",
    "    with open(file, encoding='utf-8') as f:\n",
    "        text = f.read()\n",
    "        \n",
    "    if lang == 'en' and sign == 'hyphen':\n",
    "        quotes = re.findall(r'[^\\.]*\\. \"[^\"]*\", - [^\\.]*', text) + re.findall(r'[^\\.]*: \"[^\"]*\"', text)\n",
    "    elif lang == 'ru' and sign == 'hyphen':\n",
    "        quotes = re.findall(r'[^\\.]*\\. «[^»]*», - [^\\.]*', text) + re.findall(r'[^\\.]*: «[^»]*»', text)\n",
    "    elif lang == 'ru' and sign == 'dash':\n",
    "        quotes = re.findall(r'[^\\.]*\\. «[^»]*», — [^\\.]*', text) + re.findall(r'[^\\.]*: «[^»]*»', text)\n",
    "        \n",
    "    print(len(quotes))\n",
    "    return quotes"
   ]
  },
  {
   "cell_type": "code",
   "execution_count": 84,
   "metadata": {},
   "outputs": [
    {
     "data": {
      "application/vnd.jupyter.widget-view+json": {
       "model_id": "e0b8987036b147d4b1f3aed7e4c2a2a3",
       "version_major": 2,
       "version_minor": 0
      },
      "text/plain": [
       "HBox(children=(IntProgress(value=0, max=37), HTML(value='')))"
      ]
     },
     "metadata": {},
     "output_type": "display_data"
    },
    {
     "name": "stdout",
     "output_type": "stream",
     "text": [
      "aif_text.txt ru dash\n",
      "19619\n",
      "aif_text.txt en hyphen\n",
      "104\n",
      "aif_text.txt ru hyphen\n",
      "20672\n",
      "autonews_text.txt ru dash\n",
      "148\n",
      "autonews_text.txt en hyphen\n",
      "0\n",
      "autonews_text.txt ru hyphen\n",
      "5\n",
      "championat_text.txt ru dash\n",
      "8694\n",
      "championat_text.txt en hyphen\n",
      "2\n",
      "championat_text.txt ru hyphen\n",
      "3072\n",
      "commers_text.txt ru dash\n",
      "40681\n",
      "commers_text.txt en hyphen\n",
      "1138\n",
      "commers_text.txt ru hyphen\n",
      "38578\n",
      "echo_text.txt ru dash\n",
      "12206\n",
      "echo_text.txt en hyphen\n",
      "5\n",
      "echo_text.txt ru hyphen\n",
      "7637\n",
      "express_text.txt ru dash\n",
      "2482\n",
      "express_text.txt en hyphen\n",
      "0\n",
      "express_text.txt ru hyphen\n",
      "2417\n",
      "fontanka_text.txt ru dash\n",
      "8453\n",
      "fontanka_text.txt en hyphen\n",
      "430\n",
      "fontanka_text.txt ru hyphen\n",
      "5309\n",
      "gazeta_text.txt ru dash\n",
      "114603\n",
      "gazeta_text.txt en hyphen\n",
      "132\n",
      "gazeta_text.txt ru hyphen\n",
      "13025\n",
      "govorit_text.txt ru dash\n",
      "7521\n",
      "govorit_text.txt en hyphen\n",
      "57\n",
      "govorit_text.txt ru hyphen\n",
      "1333\n",
      "indicator_text.txt ru dash\n",
      "776\n",
      "indicator_text.txt en hyphen\n",
      "3\n",
      "indicator_text.txt ru hyphen\n",
      "199\n",
      "interfax_text.txt ru dash\n",
      "6\n",
      "interfax_text.txt en hyphen\n",
      "93796\n",
      "interfax_text.txt ru hyphen\n",
      "48\n",
      "iz_text.txt ru dash\n",
      "57411\n",
      "iz_text.txt en hyphen\n",
      "14\n",
      "iz_text.txt ru hyphen\n",
      "6831\n",
      "kp_text.txt ru dash\n",
      "42735\n",
      "kp_text.txt en hyphen\n",
      "19222\n",
      "kp_text.txt ru hyphen\n",
      "52800\n",
      "lenta_text.txt ru dash\n",
      "51218\n",
      "lenta_text.txt en hyphen\n",
      "904\n",
      "lenta_text.txt ru hyphen\n",
      "4433\n",
      "mediazona_text.txt ru dash\n",
      "6968\n",
      "mediazona_text.txt en hyphen\n",
      "622\n",
      "mediazona_text.txt ru hyphen\n",
      "2349\n",
      "meduza_text.txt ru dash\n",
      "11405\n",
      "meduza_text.txt en hyphen\n",
      "1\n",
      "meduza_text.txt ru hyphen\n",
      "5293\n",
      "mk_text.txt ru dash\n",
      "14048\n",
      "mk_text.txt en hyphen\n",
      "11746\n",
      "mk_text.txt ru hyphen\n",
      "14248\n",
      "motor_text.txt ru dash\n",
      "250\n",
      "motor_text.txt en hyphen\n",
      "2\n",
      "motor_text.txt ru hyphen\n",
      "201\n",
      "novaya_text.txt ru dash\n",
      "19104\n",
      "novaya_text.txt en hyphen\n",
      "81\n",
      "novaya_text.txt ru hyphen\n",
      "10813\n",
      "nplus1_text.txt ru dash\n",
      "182\n",
      "nplus1_text.txt en hyphen\n",
      "0\n",
      "nplus1_text.txt ru hyphen\n",
      "59\n",
      "ntv_text.txt ru dash\n",
      "24285\n",
      "ntv_text.txt en hyphen\n",
      "1\n",
      "ntv_text.txt ru hyphen\n",
      "24285\n",
      "postnauka_text.txt ru dash\n",
      "591\n",
      "postnauka_text.txt en hyphen\n",
      "0\n",
      "postnauka_text.txt ru hyphen\n",
      "575\n",
      "radiovesti_text.txt ru dash\n",
      "28\n",
      "radiovesti_text.txt en hyphen\n",
      "6\n",
      "radiovesti_text.txt ru hyphen\n",
      "28\n",
      "rbk_text.txt ru dash\n",
      "39949\n",
      "rbk_text.txt en hyphen\n",
      "9\n",
      "rbk_text.txt ru hyphen\n",
      "2317\n",
      "review_text.txt ru dash\n",
      "154\n",
      "review_text.txt en hyphen\n",
      "0\n",
      "review_text.txt ru hyphen\n",
      "140\n",
      "ria_text.txt ru dash\n",
      "2\n",
      "ria_text.txt en hyphen\n",
      "145111\n",
      "ria_text.txt ru hyphen\n",
      "13\n",
      "rosgazeta_text.txt ru dash\n",
      "25\n",
      "rosgazeta_text.txt en hyphen\n",
      "70118\n",
      "rosgazeta_text.txt ru hyphen\n",
      "31\n",
      "rt_text.txt ru dash\n",
      "91906\n",
      "rt_text.txt en hyphen\n",
      "23\n",
      "rt_text.txt ru hyphen\n",
      "3141\n",
      "sports_text.txt ru dash\n",
      "47779\n",
      "sports_text.txt en hyphen\n",
      "4\n",
      "sports_text.txt ru hyphen\n",
      "47442\n",
      "svoboda_text.txt ru dash\n",
      "853\n",
      "svoboda_text.txt en hyphen\n",
      "9737\n",
      "svoboda_text.txt ru hyphen\n",
      "838\n",
      "tass_text.txt ru dash\n",
      "38\n",
      "tass_text.txt en hyphen\n",
      "198414\n",
      "tass_text.txt ru hyphen\n",
      "29\n",
      "thebell_text.txt ru dash\n",
      "1261\n",
      "thebell_text.txt en hyphen\n",
      "0\n",
      "thebell_text.txt ru hyphen\n",
      "481\n",
      "tv1_text.txt ru dash\n",
      "22035\n",
      "tv1_text.txt en hyphen\n",
      "406\n",
      "tv1_text.txt ru hyphen\n",
      "6172\n",
      "tvrain_text.txt ru dash\n",
      "5837\n",
      "tvrain_text.txt en hyphen\n",
      "13\n",
      "tvrain_text.txt ru hyphen\n",
      "1475\n",
      "vedomosti_text.txt ru dash\n",
      "8778\n",
      "vedomosti_text.txt en hyphen\n",
      "30\n",
      "vedomosti_text.txt ru hyphen\n",
      "8258\n",
      "zarulem_text.txt ru dash\n",
      "655\n",
      "zarulem_text.txt en hyphen\n",
      "0\n",
      "zarulem_text.txt ru hyphen\n",
      "475\n",
      "zvezda_text.txt ru dash\n",
      "1154\n",
      "zvezda_text.txt en hyphen\n",
      "545\n",
      "zvezda_text.txt ru hyphen\n",
      "31753\n",
      "\n"
     ]
    }
   ],
   "source": [
    "trials = dict()\n",
    "for file in tqdm_notebook([file for file in os.listdir() if file.endswith('text.txt')][:-1]):\n",
    "    media = file.split('_')[0]\n",
    "    trials[media] = []\n",
    "    try:\n",
    "        print(file, 'ru', 'dash')\n",
    "        quotes_temp = find_quotes(file, 'ru', 'dash')\n",
    "        trials[media].append(quotes_temp)\n",
    "    except (AttributeError, IndexError):\n",
    "        print(error)\n",
    "    try:   \n",
    "        print(file, 'en','hyphen')\n",
    "        quotes_temp = find_quotes(file, 'en','hyphen')\n",
    "        trials[media].append(quotes_temp)\n",
    "    except (AttributeError, IndexError):\n",
    "        print(error)\n",
    "    try:    \n",
    "        print(file, 'ru', 'hyphen')\n",
    "        quotes_temp = find_quotes(file, 'ru', 'hyphen')\n",
    "        trials[media].append(quotes_temp)\n",
    "    except (AttributeError, IndexError):\n",
    "        print(error)\n",
    "        \n",
    "    with open('trials.json', 'w', encoding='utf-8') as f:\n",
    "        json.dump(trials, f)"
   ]
  },
  {
   "cell_type": "code",
   "execution_count": 114,
   "metadata": {},
   "outputs": [
    {
     "data": {
      "application/vnd.jupyter.widget-view+json": {
       "model_id": "bc1fd8c727d74464830a71c6546aaea1",
       "version_major": 2,
       "version_minor": 0
      },
      "text/plain": [
       "HBox(children=(IntProgress(value=0, max=37), HTML(value='')))"
      ]
     },
     "metadata": {},
     "output_type": "display_data"
    },
    {
     "data": {
      "application/vnd.jupyter.widget-view+json": {
       "model_id": "236ebba3fb3f4909ae124947f4081aef",
       "version_major": 2,
       "version_minor": 0
      },
      "text/plain": [
       "HBox(children=(IntProgress(value=0, max=19619), HTML(value='')))"
      ]
     },
     "metadata": {},
     "output_type": "display_data"
    },
    {
     "name": "stdout",
     "output_type": "stream",
     "text": [
      "\n",
      "aif 7933\n"
     ]
    },
    {
     "data": {
      "application/vnd.jupyter.widget-view+json": {
       "model_id": "2e9e0a31cf1d47549822be7212bdaa88",
       "version_major": 2,
       "version_minor": 0
      },
      "text/plain": [
       "HBox(children=(IntProgress(value=0, max=104), HTML(value='')))"
      ]
     },
     "metadata": {},
     "output_type": "display_data"
    },
    {
     "name": "stdout",
     "output_type": "stream",
     "text": [
      "\n",
      "aif 7966\n"
     ]
    },
    {
     "data": {
      "application/vnd.jupyter.widget-view+json": {
       "model_id": "f656d33a442b4bc9bb8fd4eab60bb7e6",
       "version_major": 2,
       "version_minor": 0
      },
      "text/plain": [
       "HBox(children=(IntProgress(value=0, max=20672), HTML(value='')))"
      ]
     },
     "metadata": {},
     "output_type": "display_data"
    },
    {
     "name": "stdout",
     "output_type": "stream",
     "text": [
      "\n",
      "aif 16328\n"
     ]
    },
    {
     "data": {
      "application/vnd.jupyter.widget-view+json": {
       "model_id": "b2a18de8f7b54869a745faa0b12f1123",
       "version_major": 2,
       "version_minor": 0
      },
      "text/plain": [
       "HBox(children=(IntProgress(value=0, max=148), HTML(value='')))"
      ]
     },
     "metadata": {},
     "output_type": "display_data"
    },
    {
     "name": "stdout",
     "output_type": "stream",
     "text": [
      "\n",
      "autonews 26\n"
     ]
    },
    {
     "data": {
      "application/vnd.jupyter.widget-view+json": {
       "model_id": "d82a2a3f14744f53a1012df2f0d497cd",
       "version_major": 2,
       "version_minor": 0
      },
      "text/plain": [
       "HBox(children=(IntProgress(value=0, max=5), HTML(value='')))"
      ]
     },
     "metadata": {},
     "output_type": "display_data"
    },
    {
     "name": "stdout",
     "output_type": "stream",
     "text": [
      "\n",
      "autonews 26\n"
     ]
    },
    {
     "data": {
      "application/vnd.jupyter.widget-view+json": {
       "model_id": "7087e998684c4d488d2b761f7b0d1a28",
       "version_major": 2,
       "version_minor": 0
      },
      "text/plain": [
       "HBox(children=(IntProgress(value=0, max=8694), HTML(value='')))"
      ]
     },
     "metadata": {},
     "output_type": "display_data"
    },
    {
     "name": "stdout",
     "output_type": "stream",
     "text": [
      "\n",
      "championat 3503\n"
     ]
    },
    {
     "data": {
      "application/vnd.jupyter.widget-view+json": {
       "model_id": "3f91232d22bc4129832ec68d7cdb786a",
       "version_major": 2,
       "version_minor": 0
      },
      "text/plain": [
       "HBox(children=(IntProgress(value=0, max=2), HTML(value='')))"
      ]
     },
     "metadata": {},
     "output_type": "display_data"
    },
    {
     "name": "stdout",
     "output_type": "stream",
     "text": [
      "\n",
      "championat 3503\n"
     ]
    },
    {
     "data": {
      "application/vnd.jupyter.widget-view+json": {
       "model_id": "d47fe08502064b12a7f6b43c1e7cb316",
       "version_major": 2,
       "version_minor": 0
      },
      "text/plain": [
       "HBox(children=(IntProgress(value=0, max=3072), HTML(value='')))"
      ]
     },
     "metadata": {},
     "output_type": "display_data"
    },
    {
     "name": "stdout",
     "output_type": "stream",
     "text": [
      "\n",
      "championat 4054\n"
     ]
    },
    {
     "data": {
      "application/vnd.jupyter.widget-view+json": {
       "model_id": "6e348c57b59143ebacb1052646e5ca1e",
       "version_major": 2,
       "version_minor": 0
      },
      "text/plain": [
       "HBox(children=(IntProgress(value=0, max=40681), HTML(value='')))"
      ]
     },
     "metadata": {},
     "output_type": "display_data"
    },
    {
     "name": "stdout",
     "output_type": "stream",
     "text": [
      "\n",
      "commers 18569\n"
     ]
    },
    {
     "data": {
      "application/vnd.jupyter.widget-view+json": {
       "model_id": "e1ab6d030aaf4327bbb95f921241ee2b",
       "version_major": 2,
       "version_minor": 0
      },
      "text/plain": [
       "HBox(children=(IntProgress(value=0, max=1138), HTML(value='')))"
      ]
     },
     "metadata": {},
     "output_type": "display_data"
    },
    {
     "name": "stdout",
     "output_type": "stream",
     "text": [
      "\n",
      "commers 18869\n"
     ]
    },
    {
     "data": {
      "application/vnd.jupyter.widget-view+json": {
       "model_id": "ea0f3b6af1b0444fbc26484961ec4649",
       "version_major": 2,
       "version_minor": 0
      },
      "text/plain": [
       "HBox(children=(IntProgress(value=0, max=38578), HTML(value='')))"
      ]
     },
     "metadata": {},
     "output_type": "display_data"
    },
    {
     "name": "stdout",
     "output_type": "stream",
     "text": [
      "\n",
      "commers 36396\n"
     ]
    },
    {
     "data": {
      "application/vnd.jupyter.widget-view+json": {
       "model_id": "4cd24be74f654c88834dab8847422b9e",
       "version_major": 2,
       "version_minor": 0
      },
      "text/plain": [
       "HBox(children=(IntProgress(value=0, max=12206), HTML(value='')))"
      ]
     },
     "metadata": {},
     "output_type": "display_data"
    },
    {
     "name": "stdout",
     "output_type": "stream",
     "text": [
      "\n",
      "echo 3806\n"
     ]
    },
    {
     "data": {
      "application/vnd.jupyter.widget-view+json": {
       "model_id": "1b176f6ba04649d6be8441f05aaa91de",
       "version_major": 2,
       "version_minor": 0
      },
      "text/plain": [
       "HBox(children=(IntProgress(value=0, max=5), HTML(value='')))"
      ]
     },
     "metadata": {},
     "output_type": "display_data"
    },
    {
     "name": "stdout",
     "output_type": "stream",
     "text": [
      "\n",
      "echo 3807\n"
     ]
    },
    {
     "data": {
      "application/vnd.jupyter.widget-view+json": {
       "model_id": "319fd8c42cca46639ce245240a5b3fd1",
       "version_major": 2,
       "version_minor": 0
      },
      "text/plain": [
       "HBox(children=(IntProgress(value=0, max=7637), HTML(value='')))"
      ]
     },
     "metadata": {},
     "output_type": "display_data"
    },
    {
     "name": "stdout",
     "output_type": "stream",
     "text": [
      "\n",
      "echo 6036\n"
     ]
    },
    {
     "data": {
      "application/vnd.jupyter.widget-view+json": {
       "model_id": "df0c7053f8684854bc4d8873f6d2970e",
       "version_major": 2,
       "version_minor": 0
      },
      "text/plain": [
       "HBox(children=(IntProgress(value=0, max=2482), HTML(value='')))"
      ]
     },
     "metadata": {},
     "output_type": "display_data"
    },
    {
     "name": "stdout",
     "output_type": "stream",
     "text": [
      "\n",
      "express 1390\n"
     ]
    },
    {
     "data": {
      "application/vnd.jupyter.widget-view+json": {
       "model_id": "7f337579dab04b429bcc3fd36cb2b41b",
       "version_major": 2,
       "version_minor": 0
      },
      "text/plain": [
       "HBox(children=(IntProgress(value=0, max=2417), HTML(value='')))"
      ]
     },
     "metadata": {},
     "output_type": "display_data"
    },
    {
     "name": "stdout",
     "output_type": "stream",
     "text": [
      "\n",
      "express 2751\n"
     ]
    },
    {
     "data": {
      "application/vnd.jupyter.widget-view+json": {
       "model_id": "d327b8485bfc453d9081eb7708b2aa41",
       "version_major": 2,
       "version_minor": 0
      },
      "text/plain": [
       "HBox(children=(IntProgress(value=0, max=8453), HTML(value='')))"
      ]
     },
     "metadata": {},
     "output_type": "display_data"
    },
    {
     "name": "stdout",
     "output_type": "stream",
     "text": [
      "\n",
      "fontanka 2502\n"
     ]
    },
    {
     "data": {
      "application/vnd.jupyter.widget-view+json": {
       "model_id": "8849176dd13f4688854d56239a1144bd",
       "version_major": 2,
       "version_minor": 0
      },
      "text/plain": [
       "HBox(children=(IntProgress(value=0, max=430), HTML(value='')))"
      ]
     },
     "metadata": {},
     "output_type": "display_data"
    },
    {
     "name": "stdout",
     "output_type": "stream",
     "text": [
      "\n",
      "fontanka 2620\n"
     ]
    },
    {
     "data": {
      "application/vnd.jupyter.widget-view+json": {
       "model_id": "21f0e1b23c0f48b2a110f8e512b280d5",
       "version_major": 2,
       "version_minor": 0
      },
      "text/plain": [
       "HBox(children=(IntProgress(value=0, max=5309), HTML(value='')))"
      ]
     },
     "metadata": {},
     "output_type": "display_data"
    },
    {
     "name": "stdout",
     "output_type": "stream",
     "text": [
      "\n",
      "fontanka 4029\n"
     ]
    },
    {
     "data": {
      "application/vnd.jupyter.widget-view+json": {
       "model_id": "000d117130024105a65018f10ea1663d",
       "version_major": 2,
       "version_minor": 0
      },
      "text/plain": [
       "HBox(children=(IntProgress(value=0, max=114603), HTML(value='')))"
      ]
     },
     "metadata": {},
     "output_type": "display_data"
    },
    {
     "name": "stdout",
     "output_type": "stream",
     "text": [
      "\n",
      "gazeta 44585\n"
     ]
    },
    {
     "data": {
      "application/vnd.jupyter.widget-view+json": {
       "model_id": "b60344d909344742a2db3f773c22cc58",
       "version_major": 2,
       "version_minor": 0
      },
      "text/plain": [
       "HBox(children=(IntProgress(value=0, max=132), HTML(value='')))"
      ]
     },
     "metadata": {},
     "output_type": "display_data"
    },
    {
     "name": "stdout",
     "output_type": "stream",
     "text": [
      "\n",
      "gazeta 44600\n"
     ]
    },
    {
     "data": {
      "application/vnd.jupyter.widget-view+json": {
       "model_id": "50a6d21707d540f2834ee5ac3a7982f8",
       "version_major": 2,
       "version_minor": 0
      },
      "text/plain": [
       "HBox(children=(IntProgress(value=0, max=13025), HTML(value='')))"
      ]
     },
     "metadata": {},
     "output_type": "display_data"
    },
    {
     "name": "stdout",
     "output_type": "stream",
     "text": [
      "\n",
      "gazeta 48321\n"
     ]
    },
    {
     "data": {
      "application/vnd.jupyter.widget-view+json": {
       "model_id": "776f8850f5e54eec830bc5bf5714d37a",
       "version_major": 2,
       "version_minor": 0
      },
      "text/plain": [
       "HBox(children=(IntProgress(value=0, max=7521), HTML(value='')))"
      ]
     },
     "metadata": {},
     "output_type": "display_data"
    },
    {
     "name": "stdout",
     "output_type": "stream",
     "text": [
      "\n",
      "govorit 3348\n"
     ]
    },
    {
     "data": {
      "application/vnd.jupyter.widget-view+json": {
       "model_id": "d2a8d2fb1580481186243e6cbdc829c2",
       "version_major": 2,
       "version_minor": 0
      },
      "text/plain": [
       "HBox(children=(IntProgress(value=0, max=57), HTML(value='')))"
      ]
     },
     "metadata": {},
     "output_type": "display_data"
    },
    {
     "name": "stdout",
     "output_type": "stream",
     "text": [
      "\n",
      "govorit 3362\n"
     ]
    },
    {
     "data": {
      "application/vnd.jupyter.widget-view+json": {
       "model_id": "e9b928906885432babe05c2319209e9c",
       "version_major": 2,
       "version_minor": 0
      },
      "text/plain": [
       "HBox(children=(IntProgress(value=0, max=1333), HTML(value='')))"
      ]
     },
     "metadata": {},
     "output_type": "display_data"
    },
    {
     "name": "stdout",
     "output_type": "stream",
     "text": [
      "\n",
      "govorit 3917\n"
     ]
    },
    {
     "data": {
      "application/vnd.jupyter.widget-view+json": {
       "model_id": "6b970acdd48a460fa605319bfb33d55b",
       "version_major": 2,
       "version_minor": 0
      },
      "text/plain": [
       "HBox(children=(IntProgress(value=0, max=776), HTML(value='')))"
      ]
     },
     "metadata": {},
     "output_type": "display_data"
    },
    {
     "name": "stdout",
     "output_type": "stream",
     "text": [
      "\n",
      "indicator 266\n"
     ]
    },
    {
     "data": {
      "application/vnd.jupyter.widget-view+json": {
       "model_id": "8862c25f9ed34318b93c9033d7dce576",
       "version_major": 2,
       "version_minor": 0
      },
      "text/plain": [
       "HBox(children=(IntProgress(value=0, max=3), HTML(value='')))"
      ]
     },
     "metadata": {},
     "output_type": "display_data"
    },
    {
     "name": "stdout",
     "output_type": "stream",
     "text": [
      "\n",
      "indicator 267\n"
     ]
    },
    {
     "data": {
      "application/vnd.jupyter.widget-view+json": {
       "model_id": "d16c46f5e2a24ec1bea00b9d7db5db67",
       "version_major": 2,
       "version_minor": 0
      },
      "text/plain": [
       "HBox(children=(IntProgress(value=0, max=199), HTML(value='')))"
      ]
     },
     "metadata": {},
     "output_type": "display_data"
    },
    {
     "name": "stdout",
     "output_type": "stream",
     "text": [
      "\n",
      "indicator 303\n"
     ]
    },
    {
     "data": {
      "application/vnd.jupyter.widget-view+json": {
       "model_id": "11db5731b2604f2aa1bb6c4d8ffdad94",
       "version_major": 2,
       "version_minor": 0
      },
      "text/plain": [
       "HBox(children=(IntProgress(value=0, max=6), HTML(value='')))"
      ]
     },
     "metadata": {},
     "output_type": "display_data"
    },
    {
     "name": "stdout",
     "output_type": "stream",
     "text": [
      "\n",
      "interfax 2\n"
     ]
    },
    {
     "data": {
      "application/vnd.jupyter.widget-view+json": {
       "model_id": "a18a8e43530c44d9b0e57a3b053beb26",
       "version_major": 2,
       "version_minor": 0
      },
      "text/plain": [
       "HBox(children=(IntProgress(value=0, max=93796), HTML(value='')))"
      ]
     },
     "metadata": {},
     "output_type": "display_data"
    },
    {
     "name": "stdout",
     "output_type": "stream",
     "text": [
      "\n",
      "interfax 32551\n"
     ]
    },
    {
     "data": {
      "application/vnd.jupyter.widget-view+json": {
       "model_id": "72be2134f2d14f498b600f5338b4c540",
       "version_major": 2,
       "version_minor": 0
      },
      "text/plain": [
       "HBox(children=(IntProgress(value=0, max=48), HTML(value='')))"
      ]
     },
     "metadata": {},
     "output_type": "display_data"
    },
    {
     "name": "stdout",
     "output_type": "stream",
     "text": [
      "\n",
      "interfax 32581\n"
     ]
    },
    {
     "data": {
      "application/vnd.jupyter.widget-view+json": {
       "model_id": "7598ef68b0e2499d96ae9ea29fffb75e",
       "version_major": 2,
       "version_minor": 0
      },
      "text/plain": [
       "HBox(children=(IntProgress(value=0, max=57411), HTML(value='')))"
      ]
     },
     "metadata": {},
     "output_type": "display_data"
    },
    {
     "name": "stdout",
     "output_type": "stream",
     "text": [
      "\n",
      "iz 16970\n"
     ]
    },
    {
     "data": {
      "application/vnd.jupyter.widget-view+json": {
       "model_id": "613b284dbbb74fcb8fe3ebdeb8c42c14",
       "version_major": 2,
       "version_minor": 0
      },
      "text/plain": [
       "HBox(children=(IntProgress(value=0, max=14), HTML(value='')))"
      ]
     },
     "metadata": {},
     "output_type": "display_data"
    },
    {
     "name": "stdout",
     "output_type": "stream",
     "text": [
      "\n",
      "iz 16970\n"
     ]
    },
    {
     "data": {
      "application/vnd.jupyter.widget-view+json": {
       "model_id": "6010784de3ec4ae7871115a82de8ad32",
       "version_major": 2,
       "version_minor": 0
      },
      "text/plain": [
       "HBox(children=(IntProgress(value=0, max=6831), HTML(value='')))"
      ]
     },
     "metadata": {},
     "output_type": "display_data"
    },
    {
     "name": "stdout",
     "output_type": "stream",
     "text": [
      "\n",
      "iz 18422\n"
     ]
    },
    {
     "data": {
      "application/vnd.jupyter.widget-view+json": {
       "model_id": "a2792f69d3b3491388a10ff663836e31",
       "version_major": 2,
       "version_minor": 0
      },
      "text/plain": [
       "HBox(children=(IntProgress(value=0, max=42735), HTML(value='')))"
      ]
     },
     "metadata": {},
     "output_type": "display_data"
    },
    {
     "name": "stdout",
     "output_type": "stream",
     "text": [
      "\n",
      "kp 14311\n"
     ]
    },
    {
     "data": {
      "application/vnd.jupyter.widget-view+json": {
       "model_id": "4b58f845e8c14a55bf91720595133db1",
       "version_major": 2,
       "version_minor": 0
      },
      "text/plain": [
       "HBox(children=(IntProgress(value=0, max=19222), HTML(value='')))"
      ]
     },
     "metadata": {},
     "output_type": "display_data"
    },
    {
     "name": "stdout",
     "output_type": "stream",
     "text": [
      "\n",
      "kp 21468\n"
     ]
    },
    {
     "data": {
      "application/vnd.jupyter.widget-view+json": {
       "model_id": "54921b1a8bcb4c7caa521c7c19c3779f",
       "version_major": 2,
       "version_minor": 0
      },
      "text/plain": [
       "HBox(children=(IntProgress(value=0, max=52800), HTML(value='')))"
      ]
     },
     "metadata": {},
     "output_type": "display_data"
    },
    {
     "name": "stdout",
     "output_type": "stream",
     "text": [
      "\n",
      "kp 39182\n"
     ]
    },
    {
     "data": {
      "application/vnd.jupyter.widget-view+json": {
       "model_id": "fd95868c73eb4136a741220d916403fd",
       "version_major": 2,
       "version_minor": 0
      },
      "text/plain": [
       "HBox(children=(IntProgress(value=0, max=51218), HTML(value='')))"
      ]
     },
     "metadata": {},
     "output_type": "display_data"
    },
    {
     "name": "stdout",
     "output_type": "stream",
     "text": [
      "\n",
      "lenta 17487\n"
     ]
    },
    {
     "data": {
      "application/vnd.jupyter.widget-view+json": {
       "model_id": "f6266e241fbf4e45a32b14fbe10d429d",
       "version_major": 2,
       "version_minor": 0
      },
      "text/plain": [
       "HBox(children=(IntProgress(value=0, max=904), HTML(value='')))"
      ]
     },
     "metadata": {},
     "output_type": "display_data"
    },
    {
     "name": "stdout",
     "output_type": "stream",
     "text": [
      "\n",
      "lenta 17574\n"
     ]
    },
    {
     "data": {
      "application/vnd.jupyter.widget-view+json": {
       "model_id": "548cc6ab6b804c0cb316411bde603709",
       "version_major": 2,
       "version_minor": 0
      },
      "text/plain": [
       "HBox(children=(IntProgress(value=0, max=4433), HTML(value='')))"
      ]
     },
     "metadata": {},
     "output_type": "display_data"
    },
    {
     "name": "stdout",
     "output_type": "stream",
     "text": [
      "\n",
      "lenta 18790\n"
     ]
    },
    {
     "data": {
      "application/vnd.jupyter.widget-view+json": {
       "model_id": "8273614316ea469787347cfe81375004",
       "version_major": 2,
       "version_minor": 0
      },
      "text/plain": [
       "HBox(children=(IntProgress(value=0, max=6968), HTML(value='')))"
      ]
     },
     "metadata": {},
     "output_type": "display_data"
    },
    {
     "name": "stdout",
     "output_type": "stream",
     "text": [
      "\n",
      "mediazona 3079\n"
     ]
    },
    {
     "data": {
      "application/vnd.jupyter.widget-view+json": {
       "model_id": "4b551b2334994589bfc9b230b8ca8620",
       "version_major": 2,
       "version_minor": 0
      },
      "text/plain": [
       "HBox(children=(IntProgress(value=0, max=622), HTML(value='')))"
      ]
     },
     "metadata": {},
     "output_type": "display_data"
    },
    {
     "name": "stdout",
     "output_type": "stream",
     "text": [
      "\n",
      "mediazona 3162\n"
     ]
    },
    {
     "data": {
      "application/vnd.jupyter.widget-view+json": {
       "model_id": "934dcbb58b5f4a8182f14a843dd73334",
       "version_major": 2,
       "version_minor": 0
      },
      "text/plain": [
       "HBox(children=(IntProgress(value=0, max=2349), HTML(value='')))"
      ]
     },
     "metadata": {},
     "output_type": "display_data"
    },
    {
     "name": "stdout",
     "output_type": "stream",
     "text": [
      "\n",
      "mediazona 4085\n"
     ]
    },
    {
     "data": {
      "application/vnd.jupyter.widget-view+json": {
       "model_id": "49b7079d6e1144ccb009dcdf35fc5b1c",
       "version_major": 2,
       "version_minor": 0
      },
      "text/plain": [
       "HBox(children=(IntProgress(value=0, max=11405), HTML(value='')))"
      ]
     },
     "metadata": {},
     "output_type": "display_data"
    },
    {
     "name": "stdout",
     "output_type": "stream",
     "text": [
      "\n",
      "meduza 4210\n"
     ]
    },
    {
     "data": {
      "application/vnd.jupyter.widget-view+json": {
       "model_id": "1dcd0ed54b6b43a2a2f1c676cf132781",
       "version_major": 2,
       "version_minor": 0
      },
      "text/plain": [
       "HBox(children=(IntProgress(value=0, max=1), HTML(value='')))"
      ]
     },
     "metadata": {},
     "output_type": "display_data"
    },
    {
     "name": "stdout",
     "output_type": "stream",
     "text": [
      "\n",
      "meduza 4210\n"
     ]
    },
    {
     "data": {
      "application/vnd.jupyter.widget-view+json": {
       "model_id": "b84064a87f864de88838038dba7a042b",
       "version_major": 2,
       "version_minor": 0
      },
      "text/plain": [
       "HBox(children=(IntProgress(value=0, max=5293), HTML(value='')))"
      ]
     },
     "metadata": {},
     "output_type": "display_data"
    },
    {
     "name": "stdout",
     "output_type": "stream",
     "text": [
      "\n",
      "meduza 5832\n"
     ]
    },
    {
     "data": {
      "application/vnd.jupyter.widget-view+json": {
       "model_id": "b584df2d646e4e44825ee61d44b2ebe7",
       "version_major": 2,
       "version_minor": 0
      },
      "text/plain": [
       "HBox(children=(IntProgress(value=0, max=14048), HTML(value='')))"
      ]
     },
     "metadata": {},
     "output_type": "display_data"
    },
    {
     "name": "stdout",
     "output_type": "stream",
     "text": [
      "\n",
      "mk 5299\n"
     ]
    },
    {
     "data": {
      "application/vnd.jupyter.widget-view+json": {
       "model_id": "1a841ae125624c07b60d0c540da36ef5",
       "version_major": 2,
       "version_minor": 0
      },
      "text/plain": [
       "HBox(children=(IntProgress(value=0, max=11746), HTML(value='')))"
      ]
     },
     "metadata": {},
     "output_type": "display_data"
    },
    {
     "name": "stdout",
     "output_type": "stream",
     "text": [
      "\n",
      "mk 8803\n"
     ]
    },
    {
     "data": {
      "application/vnd.jupyter.widget-view+json": {
       "model_id": "23eaca30be524ea084afdc7fba56c387",
       "version_major": 2,
       "version_minor": 0
      },
      "text/plain": [
       "HBox(children=(IntProgress(value=0, max=14248), HTML(value='')))"
      ]
     },
     "metadata": {},
     "output_type": "display_data"
    },
    {
     "name": "stdout",
     "output_type": "stream",
     "text": [
      "\n",
      "mk 14257\n"
     ]
    },
    {
     "data": {
      "application/vnd.jupyter.widget-view+json": {
       "model_id": "dc55bb4d13a74ecc8a76c29d4be243b9",
       "version_major": 2,
       "version_minor": 0
      },
      "text/plain": [
       "HBox(children=(IntProgress(value=0, max=250), HTML(value='')))"
      ]
     },
     "metadata": {},
     "output_type": "display_data"
    },
    {
     "name": "stdout",
     "output_type": "stream",
     "text": [
      "\n",
      "motor 34\n"
     ]
    },
    {
     "data": {
      "application/vnd.jupyter.widget-view+json": {
       "model_id": "49110a62b44c426c94edd9a5d88d243d",
       "version_major": 2,
       "version_minor": 0
      },
      "text/plain": [
       "HBox(children=(IntProgress(value=0, max=2), HTML(value='')))"
      ]
     },
     "metadata": {},
     "output_type": "display_data"
    },
    {
     "name": "stdout",
     "output_type": "stream",
     "text": [
      "\n",
      "motor 35\n"
     ]
    },
    {
     "data": {
      "application/vnd.jupyter.widget-view+json": {
       "model_id": "280ad382365448fcbd931d117c83bad9",
       "version_major": 2,
       "version_minor": 0
      },
      "text/plain": [
       "HBox(children=(IntProgress(value=0, max=201), HTML(value='')))"
      ]
     },
     "metadata": {},
     "output_type": "display_data"
    },
    {
     "name": "stdout",
     "output_type": "stream",
     "text": [
      "\n",
      "motor 54\n"
     ]
    },
    {
     "data": {
      "application/vnd.jupyter.widget-view+json": {
       "model_id": "7c5794a6324145bab84d21136e7218d9",
       "version_major": 2,
       "version_minor": 0
      },
      "text/plain": [
       "HBox(children=(IntProgress(value=0, max=19104), HTML(value='')))"
      ]
     },
     "metadata": {},
     "output_type": "display_data"
    },
    {
     "name": "stdout",
     "output_type": "stream",
     "text": [
      "\n",
      "novaya 7007\n"
     ]
    },
    {
     "data": {
      "application/vnd.jupyter.widget-view+json": {
       "model_id": "9e1ef44cd0ca49a7a8603c868d180d64",
       "version_major": 2,
       "version_minor": 0
      },
      "text/plain": [
       "HBox(children=(IntProgress(value=0, max=81), HTML(value='')))"
      ]
     },
     "metadata": {},
     "output_type": "display_data"
    },
    {
     "name": "stdout",
     "output_type": "stream",
     "text": [
      "\n",
      "novaya 7014\n"
     ]
    },
    {
     "data": {
      "application/vnd.jupyter.widget-view+json": {
       "model_id": "eae4006b2ff24a328f0b0b44e815d18e",
       "version_major": 2,
       "version_minor": 0
      },
      "text/plain": [
       "HBox(children=(IntProgress(value=0, max=10813), HTML(value='')))"
      ]
     },
     "metadata": {},
     "output_type": "display_data"
    },
    {
     "name": "stdout",
     "output_type": "stream",
     "text": [
      "\n",
      "novaya 10548\n"
     ]
    },
    {
     "data": {
      "application/vnd.jupyter.widget-view+json": {
       "model_id": "185dd2cca9b247768c942600c2773aee",
       "version_major": 2,
       "version_minor": 0
      },
      "text/plain": [
       "HBox(children=(IntProgress(value=0, max=182), HTML(value='')))"
      ]
     },
     "metadata": {},
     "output_type": "display_data"
    },
    {
     "name": "stdout",
     "output_type": "stream",
     "text": [
      "\n",
      "nplus1 55\n"
     ]
    },
    {
     "data": {
      "application/vnd.jupyter.widget-view+json": {
       "model_id": "e228a5d04194411f88f9aaa65c7fb7e5",
       "version_major": 2,
       "version_minor": 0
      },
      "text/plain": [
       "HBox(children=(IntProgress(value=0, max=59), HTML(value='')))"
      ]
     },
     "metadata": {},
     "output_type": "display_data"
    },
    {
     "name": "stdout",
     "output_type": "stream",
     "text": [
      "\n",
      "nplus1 71\n"
     ]
    },
    {
     "data": {
      "application/vnd.jupyter.widget-view+json": {
       "model_id": "f34a5655cb844b07aced6be644009576",
       "version_major": 2,
       "version_minor": 0
      },
      "text/plain": [
       "HBox(children=(IntProgress(value=0, max=24285), HTML(value='')))"
      ]
     },
     "metadata": {},
     "output_type": "display_data"
    },
    {
     "name": "stdout",
     "output_type": "stream",
     "text": [
      "\n",
      "ntv 11882\n"
     ]
    },
    {
     "data": {
      "application/vnd.jupyter.widget-view+json": {
       "model_id": "a028f4c1ec2f4b32b78c7ee19ab7908c",
       "version_major": 2,
       "version_minor": 0
      },
      "text/plain": [
       "HBox(children=(IntProgress(value=0, max=1), HTML(value='')))"
      ]
     },
     "metadata": {},
     "output_type": "display_data"
    },
    {
     "name": "stdout",
     "output_type": "stream",
     "text": [
      "\n",
      "ntv 11882\n"
     ]
    },
    {
     "data": {
      "application/vnd.jupyter.widget-view+json": {
       "model_id": "05dc2f74607f4779914d104d71555cc8",
       "version_major": 2,
       "version_minor": 0
      },
      "text/plain": [
       "HBox(children=(IntProgress(value=0, max=24285), HTML(value='')))"
      ]
     },
     "metadata": {},
     "output_type": "display_data"
    },
    {
     "name": "stdout",
     "output_type": "stream",
     "text": [
      "\n",
      "ntv 23764\n"
     ]
    },
    {
     "data": {
      "application/vnd.jupyter.widget-view+json": {
       "model_id": "cd3a76c6d6b74ca8983417a3c1517644",
       "version_major": 2,
       "version_minor": 0
      },
      "text/plain": [
       "HBox(children=(IntProgress(value=0, max=591), HTML(value='')))"
      ]
     },
     "metadata": {},
     "output_type": "display_data"
    },
    {
     "name": "stdout",
     "output_type": "stream",
     "text": [
      "\n",
      "postnauka 132\n"
     ]
    },
    {
     "data": {
      "application/vnd.jupyter.widget-view+json": {
       "model_id": "46e9fa2e883d4a85b6c734ee3d16f594",
       "version_major": 2,
       "version_minor": 0
      },
      "text/plain": [
       "HBox(children=(IntProgress(value=0, max=575), HTML(value='')))"
      ]
     },
     "metadata": {},
     "output_type": "display_data"
    },
    {
     "name": "stdout",
     "output_type": "stream",
     "text": [
      "\n",
      "postnauka 256\n"
     ]
    },
    {
     "data": {
      "application/vnd.jupyter.widget-view+json": {
       "model_id": "17a2d520c3c0475fabed61e745cd80e6",
       "version_major": 2,
       "version_minor": 0
      },
      "text/plain": [
       "HBox(children=(IntProgress(value=0, max=28), HTML(value='')))"
      ]
     },
     "metadata": {},
     "output_type": "display_data"
    },
    {
     "name": "stdout",
     "output_type": "stream",
     "text": [
      "\n",
      "radiovesti 16\n"
     ]
    },
    {
     "data": {
      "application/vnd.jupyter.widget-view+json": {
       "model_id": "ea0defe21c614b8187a3d87c45d14a36",
       "version_major": 2,
       "version_minor": 0
      },
      "text/plain": [
       "HBox(children=(IntProgress(value=0, max=6), HTML(value='')))"
      ]
     },
     "metadata": {},
     "output_type": "display_data"
    },
    {
     "name": "stdout",
     "output_type": "stream",
     "text": [
      "\n",
      "radiovesti 18\n"
     ]
    },
    {
     "data": {
      "application/vnd.jupyter.widget-view+json": {
       "model_id": "003ffa5e363b4208b12ce672ffdd7805",
       "version_major": 2,
       "version_minor": 0
      },
      "text/plain": [
       "HBox(children=(IntProgress(value=0, max=28), HTML(value='')))"
      ]
     },
     "metadata": {},
     "output_type": "display_data"
    },
    {
     "name": "stdout",
     "output_type": "stream",
     "text": [
      "\n",
      "radiovesti 34\n"
     ]
    },
    {
     "data": {
      "application/vnd.jupyter.widget-view+json": {
       "model_id": "ced4457173b14b168f022d36a09cc5eb",
       "version_major": 2,
       "version_minor": 0
      },
      "text/plain": [
       "HBox(children=(IntProgress(value=0, max=39949), HTML(value='')))"
      ]
     },
     "metadata": {},
     "output_type": "display_data"
    },
    {
     "name": "stdout",
     "output_type": "stream",
     "text": [
      "\n",
      "rbk 14027\n"
     ]
    },
    {
     "data": {
      "application/vnd.jupyter.widget-view+json": {
       "model_id": "ad23acd9c30b4d00873955be20e74361",
       "version_major": 2,
       "version_minor": 0
      },
      "text/plain": [
       "HBox(children=(IntProgress(value=0, max=9), HTML(value='')))"
      ]
     },
     "metadata": {},
     "output_type": "display_data"
    },
    {
     "name": "stdout",
     "output_type": "stream",
     "text": [
      "\n",
      "rbk 14030\n"
     ]
    },
    {
     "data": {
      "application/vnd.jupyter.widget-view+json": {
       "model_id": "ef13761101604c36846e54b5c932be4c",
       "version_major": 2,
       "version_minor": 0
      },
      "text/plain": [
       "HBox(children=(IntProgress(value=0, max=2317), HTML(value='')))"
      ]
     },
     "metadata": {},
     "output_type": "display_data"
    },
    {
     "name": "stdout",
     "output_type": "stream",
     "text": [
      "\n",
      "rbk 14769\n"
     ]
    },
    {
     "data": {
      "application/vnd.jupyter.widget-view+json": {
       "model_id": "d8256cbdaebf466cad9425e1921e4b2e",
       "version_major": 2,
       "version_minor": 0
      },
      "text/plain": [
       "HBox(children=(IntProgress(value=0, max=154), HTML(value='')))"
      ]
     },
     "metadata": {},
     "output_type": "display_data"
    },
    {
     "name": "stdout",
     "output_type": "stream",
     "text": [
      "\n",
      "review 17\n"
     ]
    },
    {
     "data": {
      "application/vnd.jupyter.widget-view+json": {
       "model_id": "ffbe42abe39a41df86d150b6e082cbc2",
       "version_major": 2,
       "version_minor": 0
      },
      "text/plain": [
       "HBox(children=(IntProgress(value=0, max=140), HTML(value='')))"
      ]
     },
     "metadata": {},
     "output_type": "display_data"
    },
    {
     "name": "stdout",
     "output_type": "stream",
     "text": [
      "\n",
      "review 32\n"
     ]
    },
    {
     "data": {
      "application/vnd.jupyter.widget-view+json": {
       "model_id": "f46cbc7be2984aa0b1dd1533213d6d74",
       "version_major": 2,
       "version_minor": 0
      },
      "text/plain": [
       "HBox(children=(IntProgress(value=0, max=2), HTML(value='')))"
      ]
     },
     "metadata": {},
     "output_type": "display_data"
    },
    {
     "name": "stdout",
     "output_type": "stream",
     "text": [
      "\n",
      "ria 1\n"
     ]
    },
    {
     "data": {
      "application/vnd.jupyter.widget-view+json": {
       "model_id": "55b9590b910f42e78e2faeb7dabf4e0a",
       "version_major": 2,
       "version_minor": 0
      },
      "text/plain": [
       "HBox(children=(IntProgress(value=0, max=145111), HTML(value='')))"
      ]
     },
     "metadata": {},
     "output_type": "display_data"
    },
    {
     "name": "stdout",
     "output_type": "stream",
     "text": [
      "\n",
      "ria 54492\n"
     ]
    },
    {
     "data": {
      "application/vnd.jupyter.widget-view+json": {
       "model_id": "751f541ab418426893e65766f5e75afb",
       "version_major": 2,
       "version_minor": 0
      },
      "text/plain": [
       "HBox(children=(IntProgress(value=0, max=13), HTML(value='')))"
      ]
     },
     "metadata": {},
     "output_type": "display_data"
    },
    {
     "name": "stdout",
     "output_type": "stream",
     "text": [
      "\n",
      "ria 54493\n"
     ]
    },
    {
     "data": {
      "application/vnd.jupyter.widget-view+json": {
       "model_id": "8c8f100893c349c28d682cf24c567283",
       "version_major": 2,
       "version_minor": 0
      },
      "text/plain": [
       "HBox(children=(IntProgress(value=0, max=25), HTML(value='')))"
      ]
     },
     "metadata": {},
     "output_type": "display_data"
    },
    {
     "name": "stdout",
     "output_type": "stream",
     "text": [
      "\n",
      "rosgazeta 4\n"
     ]
    },
    {
     "data": {
      "application/vnd.jupyter.widget-view+json": {
       "model_id": "aba4c17a9d7c422da1f9e19b4fe919b3",
       "version_major": 2,
       "version_minor": 0
      },
      "text/plain": [
       "HBox(children=(IntProgress(value=0, max=70118), HTML(value='')))"
      ]
     },
     "metadata": {},
     "output_type": "display_data"
    },
    {
     "name": "stdout",
     "output_type": "stream",
     "text": [
      "\n",
      "rosgazeta 24043\n"
     ]
    },
    {
     "data": {
      "application/vnd.jupyter.widget-view+json": {
       "model_id": "1386bab289b54583973a5e1db2559d27",
       "version_major": 2,
       "version_minor": 0
      },
      "text/plain": [
       "HBox(children=(IntProgress(value=0, max=31), HTML(value='')))"
      ]
     },
     "metadata": {},
     "output_type": "display_data"
    },
    {
     "name": "stdout",
     "output_type": "stream",
     "text": [
      "\n",
      "rosgazeta 24049\n"
     ]
    },
    {
     "data": {
      "application/vnd.jupyter.widget-view+json": {
       "model_id": "7223e264bde244a88c08e6fa350f306e",
       "version_major": 2,
       "version_minor": 0
      },
      "text/plain": [
       "HBox(children=(IntProgress(value=0, max=91906), HTML(value='')))"
      ]
     },
     "metadata": {},
     "output_type": "display_data"
    },
    {
     "name": "stdout",
     "output_type": "stream",
     "text": [
      "\n",
      "rt 26840\n"
     ]
    },
    {
     "data": {
      "application/vnd.jupyter.widget-view+json": {
       "model_id": "9bf2fa1dd7e04790b3f6b760d18ffaa4",
       "version_major": 2,
       "version_minor": 0
      },
      "text/plain": [
       "HBox(children=(IntProgress(value=0, max=23), HTML(value='')))"
      ]
     },
     "metadata": {},
     "output_type": "display_data"
    },
    {
     "name": "stdout",
     "output_type": "stream",
     "text": [
      "\n",
      "rt 26842\n"
     ]
    },
    {
     "data": {
      "application/vnd.jupyter.widget-view+json": {
       "model_id": "b9f396632c6842859acb8a134107ae5d",
       "version_major": 2,
       "version_minor": 0
      },
      "text/plain": [
       "HBox(children=(IntProgress(value=0, max=3141), HTML(value='')))"
      ]
     },
     "metadata": {},
     "output_type": "display_data"
    },
    {
     "name": "stdout",
     "output_type": "stream",
     "text": [
      "\n",
      "rt 27476\n"
     ]
    },
    {
     "data": {
      "application/vnd.jupyter.widget-view+json": {
       "model_id": "8ac5dd0e60bd4dc685653af90c236e42",
       "version_major": 2,
       "version_minor": 0
      },
      "text/plain": [
       "HBox(children=(IntProgress(value=0, max=47779), HTML(value='')))"
      ]
     },
     "metadata": {},
     "output_type": "display_data"
    },
    {
     "name": "stdout",
     "output_type": "stream",
     "text": [
      "\n",
      "sports 24438\n"
     ]
    },
    {
     "data": {
      "application/vnd.jupyter.widget-view+json": {
       "model_id": "e43c14dfae82428394f6f22ebfbfc65d",
       "version_major": 2,
       "version_minor": 0
      },
      "text/plain": [
       "HBox(children=(IntProgress(value=0, max=4), HTML(value='')))"
      ]
     },
     "metadata": {},
     "output_type": "display_data"
    },
    {
     "name": "stdout",
     "output_type": "stream",
     "text": [
      "\n",
      "sports 24438\n"
     ]
    },
    {
     "data": {
      "application/vnd.jupyter.widget-view+json": {
       "model_id": "fcd83ac0aa1245e2b9a92efe2d06d3ed",
       "version_major": 2,
       "version_minor": 0
      },
      "text/plain": [
       "HBox(children=(IntProgress(value=0, max=47442), HTML(value='')))"
      ]
     },
     "metadata": {},
     "output_type": "display_data"
    },
    {
     "name": "stdout",
     "output_type": "stream",
     "text": [
      "\n",
      "sports 48697\n"
     ]
    },
    {
     "data": {
      "application/vnd.jupyter.widget-view+json": {
       "model_id": "e8b8ae51cc724329b98474baada7e854",
       "version_major": 2,
       "version_minor": 0
      },
      "text/plain": [
       "HBox(children=(IntProgress(value=0, max=853), HTML(value='')))"
      ]
     },
     "metadata": {},
     "output_type": "display_data"
    },
    {
     "name": "stdout",
     "output_type": "stream",
     "text": [
      "\n",
      "svoboda 303\n"
     ]
    },
    {
     "data": {
      "application/vnd.jupyter.widget-view+json": {
       "model_id": "3f689660e9154d9ab0271f381bab28e5",
       "version_major": 2,
       "version_minor": 0
      },
      "text/plain": [
       "HBox(children=(IntProgress(value=0, max=9737), HTML(value='')))"
      ]
     },
     "metadata": {},
     "output_type": "display_data"
    },
    {
     "name": "stdout",
     "output_type": "stream",
     "text": [
      "\n",
      "svoboda 3980\n"
     ]
    },
    {
     "data": {
      "application/vnd.jupyter.widget-view+json": {
       "model_id": "6947ebf6e376462a993304643d615852",
       "version_major": 2,
       "version_minor": 0
      },
      "text/plain": [
       "HBox(children=(IntProgress(value=0, max=838), HTML(value='')))"
      ]
     },
     "metadata": {},
     "output_type": "display_data"
    },
    {
     "name": "stdout",
     "output_type": "stream",
     "text": [
      "\n",
      "svoboda 4274\n"
     ]
    },
    {
     "data": {
      "application/vnd.jupyter.widget-view+json": {
       "model_id": "c2effb5000b64571b427a679a61b8dba",
       "version_major": 2,
       "version_minor": 0
      },
      "text/plain": [
       "HBox(children=(IntProgress(value=0, max=38), HTML(value='')))"
      ]
     },
     "metadata": {},
     "output_type": "display_data"
    },
    {
     "name": "stdout",
     "output_type": "stream",
     "text": [
      "\n",
      "tass 18\n"
     ]
    },
    {
     "data": {
      "application/vnd.jupyter.widget-view+json": {
       "model_id": "ea87c0421f4d4e77b67e0b7ca06c7f64",
       "version_major": 2,
       "version_minor": 0
      },
      "text/plain": [
       "HBox(children=(IntProgress(value=0, max=198414), HTML(value='')))"
      ]
     },
     "metadata": {},
     "output_type": "display_data"
    },
    {
     "name": "stdout",
     "output_type": "stream",
     "text": [
      "\n",
      "tass 65985\n"
     ]
    },
    {
     "data": {
      "application/vnd.jupyter.widget-view+json": {
       "model_id": "a7fbefec13a54d4698fefe507f79a1c6",
       "version_major": 2,
       "version_minor": 0
      },
      "text/plain": [
       "HBox(children=(IntProgress(value=0, max=29), HTML(value='')))"
      ]
     },
     "metadata": {},
     "output_type": "display_data"
    },
    {
     "name": "stdout",
     "output_type": "stream",
     "text": [
      "\n",
      "tass 65999\n"
     ]
    },
    {
     "data": {
      "application/vnd.jupyter.widget-view+json": {
       "model_id": "e502547cec9a4b44b8da8582f2766070",
       "version_major": 2,
       "version_minor": 0
      },
      "text/plain": [
       "HBox(children=(IntProgress(value=0, max=1261), HTML(value='')))"
      ]
     },
     "metadata": {},
     "output_type": "display_data"
    },
    {
     "name": "stdout",
     "output_type": "stream",
     "text": [
      "\n",
      "thebell 439\n"
     ]
    },
    {
     "data": {
      "application/vnd.jupyter.widget-view+json": {
       "model_id": "1e42776dc930456c9d89125182feaaba",
       "version_major": 2,
       "version_minor": 0
      },
      "text/plain": [
       "HBox(children=(IntProgress(value=0, max=481), HTML(value='')))"
      ]
     },
     "metadata": {},
     "output_type": "display_data"
    },
    {
     "name": "stdout",
     "output_type": "stream",
     "text": [
      "\n",
      "thebell 571\n"
     ]
    },
    {
     "data": {
      "application/vnd.jupyter.widget-view+json": {
       "model_id": "5ec4918878da472eb6b9071dccef3d1d",
       "version_major": 2,
       "version_minor": 0
      },
      "text/plain": [
       "HBox(children=(IntProgress(value=0, max=22035), HTML(value='')))"
      ]
     },
     "metadata": {},
     "output_type": "display_data"
    },
    {
     "name": "stdout",
     "output_type": "stream",
     "text": [
      "\n",
      "tv1 10575\n"
     ]
    },
    {
     "data": {
      "application/vnd.jupyter.widget-view+json": {
       "model_id": "e00a6fb291a44f2f89315ec8024140ad",
       "version_major": 2,
       "version_minor": 0
      },
      "text/plain": [
       "HBox(children=(IntProgress(value=0, max=406), HTML(value='')))"
      ]
     },
     "metadata": {},
     "output_type": "display_data"
    },
    {
     "name": "stdout",
     "output_type": "stream",
     "text": [
      "\n",
      "tv1 10687\n"
     ]
    },
    {
     "data": {
      "application/vnd.jupyter.widget-view+json": {
       "model_id": "6aabeb53a44f43dd8c69b5c5a0fa5a4b",
       "version_major": 2,
       "version_minor": 0
      },
      "text/plain": [
       "HBox(children=(IntProgress(value=0, max=6172), HTML(value='')))"
      ]
     },
     "metadata": {},
     "output_type": "display_data"
    },
    {
     "name": "stdout",
     "output_type": "stream",
     "text": [
      "\n",
      "tv1 13611\n"
     ]
    },
    {
     "data": {
      "application/vnd.jupyter.widget-view+json": {
       "model_id": "8ee15f7535bb403bb096fb94dee85a33",
       "version_major": 2,
       "version_minor": 0
      },
      "text/plain": [
       "HBox(children=(IntProgress(value=0, max=5837), HTML(value='')))"
      ]
     },
     "metadata": {},
     "output_type": "display_data"
    },
    {
     "name": "stdout",
     "output_type": "stream",
     "text": [
      "\n",
      "tvrain 2451\n"
     ]
    },
    {
     "data": {
      "application/vnd.jupyter.widget-view+json": {
       "model_id": "c9465851117e4f288fab9d9725570a67",
       "version_major": 2,
       "version_minor": 0
      },
      "text/plain": [
       "HBox(children=(IntProgress(value=0, max=13), HTML(value='')))"
      ]
     },
     "metadata": {},
     "output_type": "display_data"
    },
    {
     "name": "stdout",
     "output_type": "stream",
     "text": [
      "\n",
      "tvrain 2456\n"
     ]
    },
    {
     "data": {
      "application/vnd.jupyter.widget-view+json": {
       "model_id": "265e4483425f46dc979721962506e9c1",
       "version_major": 2,
       "version_minor": 0
      },
      "text/plain": [
       "HBox(children=(IntProgress(value=0, max=1475), HTML(value='')))"
      ]
     },
     "metadata": {},
     "output_type": "display_data"
    },
    {
     "name": "stdout",
     "output_type": "stream",
     "text": [
      "\n",
      "tvrain 3020\n"
     ]
    },
    {
     "data": {
      "application/vnd.jupyter.widget-view+json": {
       "model_id": "f1e5d36863d34d1a88e57a8f4e17f87e",
       "version_major": 2,
       "version_minor": 0
      },
      "text/plain": [
       "HBox(children=(IntProgress(value=0, max=8778), HTML(value='')))"
      ]
     },
     "metadata": {},
     "output_type": "display_data"
    },
    {
     "name": "stdout",
     "output_type": "stream",
     "text": [
      "\n",
      "vedomosti 3398\n"
     ]
    },
    {
     "data": {
      "application/vnd.jupyter.widget-view+json": {
       "model_id": "121296cc8d174d24bdb0efa4aaaebe6f",
       "version_major": 2,
       "version_minor": 0
      },
      "text/plain": [
       "HBox(children=(IntProgress(value=0, max=30), HTML(value='')))"
      ]
     },
     "metadata": {},
     "output_type": "display_data"
    },
    {
     "name": "stdout",
     "output_type": "stream",
     "text": [
      "\n",
      "vedomosti 3410\n"
     ]
    },
    {
     "data": {
      "application/vnd.jupyter.widget-view+json": {
       "model_id": "6ca9a378116741898aa4ffb3bb70ad57",
       "version_major": 2,
       "version_minor": 0
      },
      "text/plain": [
       "HBox(children=(IntProgress(value=0, max=8258), HTML(value='')))"
      ]
     },
     "metadata": {},
     "output_type": "display_data"
    },
    {
     "name": "stdout",
     "output_type": "stream",
     "text": [
      "\n",
      "vedomosti 6604\n"
     ]
    },
    {
     "data": {
      "application/vnd.jupyter.widget-view+json": {
       "model_id": "2cc532a9f5ad4f259795aa842bb671ba",
       "version_major": 2,
       "version_minor": 0
      },
      "text/plain": [
       "HBox(children=(IntProgress(value=0, max=655), HTML(value='')))"
      ]
     },
     "metadata": {},
     "output_type": "display_data"
    },
    {
     "name": "stdout",
     "output_type": "stream",
     "text": [
      "\n",
      "zarulem 120\n"
     ]
    },
    {
     "data": {
      "application/vnd.jupyter.widget-view+json": {
       "model_id": "a6f106db68c641b0b1ae098aab43ecb1",
       "version_major": 2,
       "version_minor": 0
      },
      "text/plain": [
       "HBox(children=(IntProgress(value=0, max=475), HTML(value='')))"
      ]
     },
     "metadata": {},
     "output_type": "display_data"
    },
    {
     "name": "stdout",
     "output_type": "stream",
     "text": [
      "\n",
      "zarulem 195\n"
     ]
    },
    {
     "data": {
      "application/vnd.jupyter.widget-view+json": {
       "model_id": "2bbaa238f59946b2802f65df166b71df",
       "version_major": 2,
       "version_minor": 0
      },
      "text/plain": [
       "HBox(children=(IntProgress(value=0, max=1154), HTML(value='')))"
      ]
     },
     "metadata": {},
     "output_type": "display_data"
    },
    {
     "name": "stdout",
     "output_type": "stream",
     "text": [
      "\n",
      "zvezda 329\n"
     ]
    },
    {
     "data": {
      "application/vnd.jupyter.widget-view+json": {
       "model_id": "95b10cc3f20c47048b11538c75129b6e",
       "version_major": 2,
       "version_minor": 0
      },
      "text/plain": [
       "HBox(children=(IntProgress(value=0, max=545), HTML(value='')))"
      ]
     },
     "metadata": {},
     "output_type": "display_data"
    },
    {
     "name": "stdout",
     "output_type": "stream",
     "text": [
      "\n",
      "zvezda 410\n"
     ]
    },
    {
     "data": {
      "application/vnd.jupyter.widget-view+json": {
       "model_id": "c1a57c1dc6ea4730b275c16de6967455",
       "version_major": 2,
       "version_minor": 0
      },
      "text/plain": [
       "HBox(children=(IntProgress(value=0, max=31753), HTML(value='')))"
      ]
     },
     "metadata": {},
     "output_type": "display_data"
    },
    {
     "name": "stdout",
     "output_type": "stream",
     "text": [
      "\n",
      "zvezda 12263\n",
      "\n"
     ]
    }
   ],
   "source": [
    "for media in tqdm_notebook(trials.keys()):\n",
    "    people = []\n",
    "    \n",
    "    people.extend(find_people(trials[media][0], 'ru', 'dash'))\n",
    "    print(media, len(people))\n",
    "    \n",
    "    if trials[media][1]:\n",
    "        people.extend(find_people(trials[media][1], 'en', 'hyphen'))\n",
    "        print(media, len(people))\n",
    "        \n",
    "    people.extend(find_people(trials[media][2], 'ru', 'hyphen'))\n",
    "    print(media, len(people))\n",
    "    \n",
    "    num_of_quotes = len(trials[media][0]) + len(trials[media][1]) + len(trials[media][2])\n",
    "\n",
    "    speakers = dict()\n",
    "    for k,v in dict(Counter(people)).items():\n",
    "        speakers[k] = v/num_of_quotes\n",
    "\n",
    "    result = sorted(speakers.items(), key=lambda x:x[1], reverse=True)\n",
    "    pd.DataFrame(result).to_csv(f'{media}_people.csv', encoding='utf-8')"
   ]
  },
  {
   "cell_type": "code",
   "execution_count": 2,
   "metadata": {},
   "outputs": [
    {
     "data": {
      "text/plain": [
       "1102"
      ]
     },
     "execution_count": 2,
     "metadata": {},
     "output_type": "execute_result"
    }
   ],
   "source": [
    "keyspeakers_set = set()\n",
    "for file in [file for file in os.listdir() if file.endswith('people.csv')]:\n",
    "    df = pd.read_csv(file)\n",
    "    keyspeakers_set.update(list(df['0'][:100]))\n",
    "len(keyspeakers_set)"
   ]
  },
  {
   "cell_type": "code",
   "execution_count": 4,
   "metadata": {},
   "outputs": [],
   "source": [
    "keys = pd.DataFrame(keyspeakers_set)\n",
    "for file in [file for file in os.listdir() if file.endswith('people.csv')]:\n",
    "    media = file.split('_')[0]\n",
    "    df = pd.read_csv(file)\n",
    "    if 'Unnamed: 0' in df.columns:\n",
    "        df.drop(['Unnamed: 0'], axis=1, inplace=True)\n",
    "    try:\n",
    "        keys = keys.merge(df, how='left', left_on=0, right_on='0').drop(['0'], axis=1).rename(columns={'1':media})\n",
    "    except KeyError:\n",
    "        print(file) \n",
    "    \n",
    "keys.to_csv('people_top_100_set.csv')"
   ]
  },
  {
   "cell_type": "code",
   "execution_count": 116,
   "metadata": {},
   "outputs": [
    {
     "data": {
      "text/html": [
       "<div>\n",
       "<style scoped>\n",
       "    .dataframe tbody tr th:only-of-type {\n",
       "        vertical-align: middle;\n",
       "    }\n",
       "\n",
       "    .dataframe tbody tr th {\n",
       "        vertical-align: top;\n",
       "    }\n",
       "\n",
       "    .dataframe thead th {\n",
       "        text-align: right;\n",
       "    }\n",
       "</style>\n",
       "<table border=\"1\" class=\"dataframe\">\n",
       "  <thead>\n",
       "    <tr style=\"text-align: right;\">\n",
       "      <th></th>\n",
       "      <th>person</th>\n",
       "      <th>aif</th>\n",
       "      <th>autonews</th>\n",
       "      <th>championat</th>\n",
       "      <th>commers</th>\n",
       "      <th>echo</th>\n",
       "      <th>express</th>\n",
       "      <th>fontanka</th>\n",
       "      <th>gazeta</th>\n",
       "      <th>govorit</th>\n",
       "      <th>indicator</th>\n",
       "      <th>interfax</th>\n",
       "      <th>iz</th>\n",
       "      <th>kp</th>\n",
       "      <th>lenta</th>\n",
       "      <th>mediazona</th>\n",
       "      <th>meduza</th>\n",
       "      <th>mk</th>\n",
       "      <th>moscow</th>\n",
       "      <th>motor</th>\n",
       "      <th>novaya</th>\n",
       "      <th>nplus1</th>\n",
       "      <th>ntv</th>\n",
       "      <th>postnauka</th>\n",
       "      <th>radiovesti</th>\n",
       "      <th>rbk</th>\n",
       "      <th>review</th>\n",
       "      <th>ria</th>\n",
       "      <th>rosgazeta</th>\n",
       "      <th>rt</th>\n",
       "      <th>sports</th>\n",
       "      <th>svoboda</th>\n",
       "      <th>tass</th>\n",
       "      <th>thebell</th>\n",
       "      <th>tv1</th>\n",
       "      <th>tvrain</th>\n",
       "      <th>vedomosti</th>\n",
       "      <th>zarulem</th>\n",
       "      <th>zvezda</th>\n",
       "      <th>sum</th>\n",
       "    </tr>\n",
       "  </thead>\n",
       "  <tbody>\n",
       "    <tr>\n",
       "      <td>345</td>\n",
       "      <td>Путин</td>\n",
       "      <td>0.012625</td>\n",
       "      <td>0.0</td>\n",
       "      <td>0.001869</td>\n",
       "      <td>0.006232</td>\n",
       "      <td>0.017029</td>\n",
       "      <td>0.000000</td>\n",
       "      <td>0.016700</td>\n",
       "      <td>0.020938</td>\n",
       "      <td>0.038604</td>\n",
       "      <td>0.003067</td>\n",
       "      <td>0.025029</td>\n",
       "      <td>0.016232</td>\n",
       "      <td>0.007363</td>\n",
       "      <td>0.013527</td>\n",
       "      <td>0.007647</td>\n",
       "      <td>0.008743</td>\n",
       "      <td>0.020454</td>\n",
       "      <td>0.001423</td>\n",
       "      <td>0.0</td>\n",
       "      <td>0.009001</td>\n",
       "      <td>0.0</td>\n",
       "      <td>0.050153</td>\n",
       "      <td>0.0</td>\n",
       "      <td>0.016129</td>\n",
       "      <td>0.024317</td>\n",
       "      <td>0.0</td>\n",
       "      <td>0.027383</td>\n",
       "      <td>0.034600</td>\n",
       "      <td>0.017061</td>\n",
       "      <td>0.000903</td>\n",
       "      <td>0.017588</td>\n",
       "      <td>0.015160</td>\n",
       "      <td>0.029851</td>\n",
       "      <td>0.113445</td>\n",
       "      <td>0.033038</td>\n",
       "      <td>0.029357</td>\n",
       "      <td>0.0</td>\n",
       "      <td>0.029415</td>\n",
       "      <td>0.664883</td>\n",
       "    </tr>\n",
       "    <tr>\n",
       "      <td>489</td>\n",
       "      <td>Медведев</td>\n",
       "      <td>0.004654</td>\n",
       "      <td>0.0</td>\n",
       "      <td>0.007308</td>\n",
       "      <td>0.002388</td>\n",
       "      <td>0.002469</td>\n",
       "      <td>0.006124</td>\n",
       "      <td>0.004298</td>\n",
       "      <td>0.007577</td>\n",
       "      <td>0.010885</td>\n",
       "      <td>0.002045</td>\n",
       "      <td>0.007651</td>\n",
       "      <td>0.004186</td>\n",
       "      <td>0.002431</td>\n",
       "      <td>0.004279</td>\n",
       "      <td>0.000101</td>\n",
       "      <td>0.001557</td>\n",
       "      <td>0.004620</td>\n",
       "      <td>0.000289</td>\n",
       "      <td>0.0</td>\n",
       "      <td>0.002267</td>\n",
       "      <td>0.0</td>\n",
       "      <td>0.010582</td>\n",
       "      <td>0.0</td>\n",
       "      <td>0.064516</td>\n",
       "      <td>0.006978</td>\n",
       "      <td>0.0</td>\n",
       "      <td>0.009812</td>\n",
       "      <td>0.012911</td>\n",
       "      <td>0.003724</td>\n",
       "      <td>0.006553</td>\n",
       "      <td>0.005163</td>\n",
       "      <td>0.007472</td>\n",
       "      <td>0.010333</td>\n",
       "      <td>0.024255</td>\n",
       "      <td>0.005324</td>\n",
       "      <td>0.003281</td>\n",
       "      <td>0.0</td>\n",
       "      <td>0.004424</td>\n",
       "      <td>0.250457</td>\n",
       "    </tr>\n",
       "    <tr>\n",
       "      <td>940</td>\n",
       "      <td>Президент</td>\n",
       "      <td>0.007154</td>\n",
       "      <td>0.0</td>\n",
       "      <td>0.003824</td>\n",
       "      <td>0.004329</td>\n",
       "      <td>0.004182</td>\n",
       "      <td>0.006124</td>\n",
       "      <td>0.002396</td>\n",
       "      <td>0.003546</td>\n",
       "      <td>0.004152</td>\n",
       "      <td>0.002045</td>\n",
       "      <td>0.009547</td>\n",
       "      <td>0.004155</td>\n",
       "      <td>0.003468</td>\n",
       "      <td>0.001980</td>\n",
       "      <td>0.001207</td>\n",
       "      <td>0.001677</td>\n",
       "      <td>0.003546</td>\n",
       "      <td>0.000467</td>\n",
       "      <td>0.0</td>\n",
       "      <td>0.003067</td>\n",
       "      <td>0.0</td>\n",
       "      <td>0.000824</td>\n",
       "      <td>0.0</td>\n",
       "      <td>0.000000</td>\n",
       "      <td>0.005582</td>\n",
       "      <td>0.0</td>\n",
       "      <td>0.009068</td>\n",
       "      <td>0.005629</td>\n",
       "      <td>0.001273</td>\n",
       "      <td>0.006374</td>\n",
       "      <td>0.003588</td>\n",
       "      <td>0.004288</td>\n",
       "      <td>0.004592</td>\n",
       "      <td>0.002936</td>\n",
       "      <td>0.006143</td>\n",
       "      <td>0.005625</td>\n",
       "      <td>0.0</td>\n",
       "      <td>0.003587</td>\n",
       "      <td>0.126375</td>\n",
       "    </tr>\n",
       "    <tr>\n",
       "      <td>142</td>\n",
       "      <td>Порошенко</td>\n",
       "      <td>0.004456</td>\n",
       "      <td>0.0</td>\n",
       "      <td>0.000000</td>\n",
       "      <td>0.001144</td>\n",
       "      <td>0.002166</td>\n",
       "      <td>0.000000</td>\n",
       "      <td>0.002607</td>\n",
       "      <td>0.008164</td>\n",
       "      <td>0.005162</td>\n",
       "      <td>0.000000</td>\n",
       "      <td>0.003271</td>\n",
       "      <td>0.004871</td>\n",
       "      <td>0.003730</td>\n",
       "      <td>0.005145</td>\n",
       "      <td>0.000000</td>\n",
       "      <td>0.000599</td>\n",
       "      <td>0.001798</td>\n",
       "      <td>0.000000</td>\n",
       "      <td>0.0</td>\n",
       "      <td>0.001933</td>\n",
       "      <td>0.0</td>\n",
       "      <td>0.008153</td>\n",
       "      <td>0.0</td>\n",
       "      <td>0.032258</td>\n",
       "      <td>0.005464</td>\n",
       "      <td>0.0</td>\n",
       "      <td>0.003776</td>\n",
       "      <td>0.001439</td>\n",
       "      <td>0.006164</td>\n",
       "      <td>0.000000</td>\n",
       "      <td>0.001925</td>\n",
       "      <td>0.001587</td>\n",
       "      <td>0.005166</td>\n",
       "      <td>0.004893</td>\n",
       "      <td>0.001502</td>\n",
       "      <td>0.002871</td>\n",
       "      <td>0.0</td>\n",
       "      <td>0.005321</td>\n",
       "      <td>0.125568</td>\n",
       "    </tr>\n",
       "    <tr>\n",
       "      <td>567</td>\n",
       "      <td>Глава</td>\n",
       "      <td>0.006932</td>\n",
       "      <td>0.0</td>\n",
       "      <td>0.003229</td>\n",
       "      <td>0.007637</td>\n",
       "      <td>0.001713</td>\n",
       "      <td>0.001633</td>\n",
       "      <td>0.004157</td>\n",
       "      <td>0.003820</td>\n",
       "      <td>0.005723</td>\n",
       "      <td>0.000000</td>\n",
       "      <td>0.005125</td>\n",
       "      <td>0.004202</td>\n",
       "      <td>0.003747</td>\n",
       "      <td>0.003890</td>\n",
       "      <td>0.003823</td>\n",
       "      <td>0.003353</td>\n",
       "      <td>0.003546</td>\n",
       "      <td>0.000934</td>\n",
       "      <td>0.0</td>\n",
       "      <td>0.002967</td>\n",
       "      <td>0.0</td>\n",
       "      <td>0.002018</td>\n",
       "      <td>0.0</td>\n",
       "      <td>0.000000</td>\n",
       "      <td>0.006174</td>\n",
       "      <td>0.0</td>\n",
       "      <td>0.005802</td>\n",
       "      <td>0.005301</td>\n",
       "      <td>0.002051</td>\n",
       "      <td>0.003308</td>\n",
       "      <td>0.001750</td>\n",
       "      <td>0.005048</td>\n",
       "      <td>0.001148</td>\n",
       "      <td>0.001328</td>\n",
       "      <td>0.006280</td>\n",
       "      <td>0.000879</td>\n",
       "      <td>0.0</td>\n",
       "      <td>0.003916</td>\n",
       "      <td>0.111435</td>\n",
       "    </tr>\n",
       "    <tr>\n",
       "      <td>...</td>\n",
       "      <td>...</td>\n",
       "      <td>...</td>\n",
       "      <td>...</td>\n",
       "      <td>...</td>\n",
       "      <td>...</td>\n",
       "      <td>...</td>\n",
       "      <td>...</td>\n",
       "      <td>...</td>\n",
       "      <td>...</td>\n",
       "      <td>...</td>\n",
       "      <td>...</td>\n",
       "      <td>...</td>\n",
       "      <td>...</td>\n",
       "      <td>...</td>\n",
       "      <td>...</td>\n",
       "      <td>...</td>\n",
       "      <td>...</td>\n",
       "      <td>...</td>\n",
       "      <td>...</td>\n",
       "      <td>...</td>\n",
       "      <td>...</td>\n",
       "      <td>...</td>\n",
       "      <td>...</td>\n",
       "      <td>...</td>\n",
       "      <td>...</td>\n",
       "      <td>...</td>\n",
       "      <td>...</td>\n",
       "      <td>...</td>\n",
       "      <td>...</td>\n",
       "      <td>...</td>\n",
       "      <td>...</td>\n",
       "      <td>...</td>\n",
       "      <td>...</td>\n",
       "      <td>...</td>\n",
       "      <td>...</td>\n",
       "      <td>...</td>\n",
       "      <td>...</td>\n",
       "      <td>...</td>\n",
       "      <td>...</td>\n",
       "      <td>...</td>\n",
       "    </tr>\n",
       "    <tr>\n",
       "      <td>29</td>\n",
       "      <td>Ризнич</td>\n",
       "      <td>0.000000</td>\n",
       "      <td>0.0</td>\n",
       "      <td>0.000000</td>\n",
       "      <td>0.000000</td>\n",
       "      <td>0.000000</td>\n",
       "      <td>0.000000</td>\n",
       "      <td>0.000000</td>\n",
       "      <td>0.000000</td>\n",
       "      <td>0.000000</td>\n",
       "      <td>0.000000</td>\n",
       "      <td>0.000000</td>\n",
       "      <td>0.000000</td>\n",
       "      <td>0.000000</td>\n",
       "      <td>0.000000</td>\n",
       "      <td>0.000000</td>\n",
       "      <td>0.000000</td>\n",
       "      <td>0.000000</td>\n",
       "      <td>0.000000</td>\n",
       "      <td>0.0</td>\n",
       "      <td>0.000600</td>\n",
       "      <td>0.0</td>\n",
       "      <td>0.000000</td>\n",
       "      <td>0.0</td>\n",
       "      <td>0.000000</td>\n",
       "      <td>0.000000</td>\n",
       "      <td>0.0</td>\n",
       "      <td>0.000000</td>\n",
       "      <td>0.000000</td>\n",
       "      <td>0.000000</td>\n",
       "      <td>0.000000</td>\n",
       "      <td>0.000000</td>\n",
       "      <td>0.000000</td>\n",
       "      <td>0.000000</td>\n",
       "      <td>0.000000</td>\n",
       "      <td>0.000000</td>\n",
       "      <td>0.000000</td>\n",
       "      <td>0.0</td>\n",
       "      <td>0.000000</td>\n",
       "      <td>0.000600</td>\n",
       "    </tr>\n",
       "    <tr>\n",
       "      <td>539</td>\n",
       "      <td>Асафов</td>\n",
       "      <td>0.000025</td>\n",
       "      <td>0.0</td>\n",
       "      <td>0.000000</td>\n",
       "      <td>0.000000</td>\n",
       "      <td>0.000000</td>\n",
       "      <td>0.000000</td>\n",
       "      <td>0.000000</td>\n",
       "      <td>0.000008</td>\n",
       "      <td>0.000000</td>\n",
       "      <td>0.000000</td>\n",
       "      <td>0.000000</td>\n",
       "      <td>0.000000</td>\n",
       "      <td>0.000000</td>\n",
       "      <td>0.000000</td>\n",
       "      <td>0.000000</td>\n",
       "      <td>0.000000</td>\n",
       "      <td>0.000000</td>\n",
       "      <td>0.000000</td>\n",
       "      <td>0.0</td>\n",
       "      <td>0.000000</td>\n",
       "      <td>0.0</td>\n",
       "      <td>0.000000</td>\n",
       "      <td>0.0</td>\n",
       "      <td>0.000000</td>\n",
       "      <td>0.000000</td>\n",
       "      <td>0.0</td>\n",
       "      <td>0.000000</td>\n",
       "      <td>0.000000</td>\n",
       "      <td>0.000463</td>\n",
       "      <td>0.000000</td>\n",
       "      <td>0.000000</td>\n",
       "      <td>0.000000</td>\n",
       "      <td>0.000000</td>\n",
       "      <td>0.000000</td>\n",
       "      <td>0.000000</td>\n",
       "      <td>0.000000</td>\n",
       "      <td>0.0</td>\n",
       "      <td>0.000090</td>\n",
       "      <td>0.000585</td>\n",
       "    </tr>\n",
       "    <tr>\n",
       "      <td>982</td>\n",
       "      <td>Коммунарка</td>\n",
       "      <td>0.000000</td>\n",
       "      <td>0.0</td>\n",
       "      <td>0.000000</td>\n",
       "      <td>0.000000</td>\n",
       "      <td>0.000050</td>\n",
       "      <td>0.000000</td>\n",
       "      <td>0.000000</td>\n",
       "      <td>0.000000</td>\n",
       "      <td>0.000000</td>\n",
       "      <td>0.000000</td>\n",
       "      <td>0.000000</td>\n",
       "      <td>0.000016</td>\n",
       "      <td>0.000000</td>\n",
       "      <td>0.000018</td>\n",
       "      <td>0.000000</td>\n",
       "      <td>0.000000</td>\n",
       "      <td>0.000000</td>\n",
       "      <td>0.000356</td>\n",
       "      <td>0.0</td>\n",
       "      <td>0.000000</td>\n",
       "      <td>0.0</td>\n",
       "      <td>0.000000</td>\n",
       "      <td>0.0</td>\n",
       "      <td>0.000000</td>\n",
       "      <td>0.000000</td>\n",
       "      <td>0.0</td>\n",
       "      <td>0.000007</td>\n",
       "      <td>0.000000</td>\n",
       "      <td>0.000095</td>\n",
       "      <td>0.000000</td>\n",
       "      <td>0.000000</td>\n",
       "      <td>0.000020</td>\n",
       "      <td>0.000000</td>\n",
       "      <td>0.000000</td>\n",
       "      <td>0.000000</td>\n",
       "      <td>0.000000</td>\n",
       "      <td>0.0</td>\n",
       "      <td>0.000000</td>\n",
       "      <td>0.000561</td>\n",
       "    </tr>\n",
       "    <tr>\n",
       "      <td>248</td>\n",
       "      <td>Марьин</td>\n",
       "      <td>0.000000</td>\n",
       "      <td>0.0</td>\n",
       "      <td>0.000000</td>\n",
       "      <td>0.000000</td>\n",
       "      <td>0.000101</td>\n",
       "      <td>0.000000</td>\n",
       "      <td>0.000000</td>\n",
       "      <td>0.000008</td>\n",
       "      <td>0.000000</td>\n",
       "      <td>0.000000</td>\n",
       "      <td>0.000000</td>\n",
       "      <td>0.000000</td>\n",
       "      <td>0.000000</td>\n",
       "      <td>0.000000</td>\n",
       "      <td>0.000000</td>\n",
       "      <td>0.000000</td>\n",
       "      <td>0.000000</td>\n",
       "      <td>0.000334</td>\n",
       "      <td>0.0</td>\n",
       "      <td>0.000000</td>\n",
       "      <td>0.0</td>\n",
       "      <td>0.000000</td>\n",
       "      <td>0.0</td>\n",
       "      <td>0.000000</td>\n",
       "      <td>0.000000</td>\n",
       "      <td>0.0</td>\n",
       "      <td>0.000007</td>\n",
       "      <td>0.000000</td>\n",
       "      <td>0.000000</td>\n",
       "      <td>0.000000</td>\n",
       "      <td>0.000000</td>\n",
       "      <td>0.000005</td>\n",
       "      <td>0.000000</td>\n",
       "      <td>0.000000</td>\n",
       "      <td>0.000000</td>\n",
       "      <td>0.000000</td>\n",
       "      <td>0.0</td>\n",
       "      <td>0.000000</td>\n",
       "      <td>0.000454</td>\n",
       "    </tr>\n",
       "    <tr>\n",
       "      <td>1029</td>\n",
       "      <td>Посаженников</td>\n",
       "      <td>0.000000</td>\n",
       "      <td>0.0</td>\n",
       "      <td>0.000000</td>\n",
       "      <td>0.000000</td>\n",
       "      <td>0.000000</td>\n",
       "      <td>0.000000</td>\n",
       "      <td>0.000000</td>\n",
       "      <td>0.000000</td>\n",
       "      <td>0.000000</td>\n",
       "      <td>0.000000</td>\n",
       "      <td>0.000000</td>\n",
       "      <td>0.000000</td>\n",
       "      <td>0.000000</td>\n",
       "      <td>0.000000</td>\n",
       "      <td>0.000000</td>\n",
       "      <td>0.000000</td>\n",
       "      <td>0.000000</td>\n",
       "      <td>0.000334</td>\n",
       "      <td>0.0</td>\n",
       "      <td>0.000000</td>\n",
       "      <td>0.0</td>\n",
       "      <td>0.000000</td>\n",
       "      <td>0.0</td>\n",
       "      <td>0.000000</td>\n",
       "      <td>0.000000</td>\n",
       "      <td>0.0</td>\n",
       "      <td>0.000014</td>\n",
       "      <td>0.000000</td>\n",
       "      <td>0.000000</td>\n",
       "      <td>0.000000</td>\n",
       "      <td>0.000000</td>\n",
       "      <td>0.000045</td>\n",
       "      <td>0.000000</td>\n",
       "      <td>0.000000</td>\n",
       "      <td>0.000000</td>\n",
       "      <td>0.000000</td>\n",
       "      <td>0.0</td>\n",
       "      <td>0.000000</td>\n",
       "      <td>0.000393</td>\n",
       "    </tr>\n",
       "  </tbody>\n",
       "</table>\n",
       "<p>1102 rows × 40 columns</p>\n",
       "</div>"
      ],
      "text/plain": [
       "            person       aif  autonews  championat   commers      echo  \\\n",
       "345          Путин  0.012625       0.0    0.001869  0.006232  0.017029   \n",
       "489       Медведев  0.004654       0.0    0.007308  0.002388  0.002469   \n",
       "940      Президент  0.007154       0.0    0.003824  0.004329  0.004182   \n",
       "142      Порошенко  0.004456       0.0    0.000000  0.001144  0.002166   \n",
       "567          Глава  0.006932       0.0    0.003229  0.007637  0.001713   \n",
       "...            ...       ...       ...         ...       ...       ...   \n",
       "29          Ризнич  0.000000       0.0    0.000000  0.000000  0.000000   \n",
       "539         Асафов  0.000025       0.0    0.000000  0.000000  0.000000   \n",
       "982     Коммунарка  0.000000       0.0    0.000000  0.000000  0.000050   \n",
       "248         Марьин  0.000000       0.0    0.000000  0.000000  0.000101   \n",
       "1029  Посаженников  0.000000       0.0    0.000000  0.000000  0.000000   \n",
       "\n",
       "       express  fontanka    gazeta   govorit  indicator  interfax        iz  \\\n",
       "345   0.000000  0.016700  0.020938  0.038604   0.003067  0.025029  0.016232   \n",
       "489   0.006124  0.004298  0.007577  0.010885   0.002045  0.007651  0.004186   \n",
       "940   0.006124  0.002396  0.003546  0.004152   0.002045  0.009547  0.004155   \n",
       "142   0.000000  0.002607  0.008164  0.005162   0.000000  0.003271  0.004871   \n",
       "567   0.001633  0.004157  0.003820  0.005723   0.000000  0.005125  0.004202   \n",
       "...        ...       ...       ...       ...        ...       ...       ...   \n",
       "29    0.000000  0.000000  0.000000  0.000000   0.000000  0.000000  0.000000   \n",
       "539   0.000000  0.000000  0.000008  0.000000   0.000000  0.000000  0.000000   \n",
       "982   0.000000  0.000000  0.000000  0.000000   0.000000  0.000000  0.000016   \n",
       "248   0.000000  0.000000  0.000008  0.000000   0.000000  0.000000  0.000000   \n",
       "1029  0.000000  0.000000  0.000000  0.000000   0.000000  0.000000  0.000000   \n",
       "\n",
       "            kp     lenta  mediazona    meduza        mk    moscow  motor  \\\n",
       "345   0.007363  0.013527   0.007647  0.008743  0.020454  0.001423    0.0   \n",
       "489   0.002431  0.004279   0.000101  0.001557  0.004620  0.000289    0.0   \n",
       "940   0.003468  0.001980   0.001207  0.001677  0.003546  0.000467    0.0   \n",
       "142   0.003730  0.005145   0.000000  0.000599  0.001798  0.000000    0.0   \n",
       "567   0.003747  0.003890   0.003823  0.003353  0.003546  0.000934    0.0   \n",
       "...        ...       ...        ...       ...       ...       ...    ...   \n",
       "29    0.000000  0.000000   0.000000  0.000000  0.000000  0.000000    0.0   \n",
       "539   0.000000  0.000000   0.000000  0.000000  0.000000  0.000000    0.0   \n",
       "982   0.000000  0.000018   0.000000  0.000000  0.000000  0.000356    0.0   \n",
       "248   0.000000  0.000000   0.000000  0.000000  0.000000  0.000334    0.0   \n",
       "1029  0.000000  0.000000   0.000000  0.000000  0.000000  0.000334    0.0   \n",
       "\n",
       "        novaya  nplus1       ntv  postnauka  radiovesti       rbk  review  \\\n",
       "345   0.009001     0.0  0.050153        0.0    0.016129  0.024317     0.0   \n",
       "489   0.002267     0.0  0.010582        0.0    0.064516  0.006978     0.0   \n",
       "940   0.003067     0.0  0.000824        0.0    0.000000  0.005582     0.0   \n",
       "142   0.001933     0.0  0.008153        0.0    0.032258  0.005464     0.0   \n",
       "567   0.002967     0.0  0.002018        0.0    0.000000  0.006174     0.0   \n",
       "...        ...     ...       ...        ...         ...       ...     ...   \n",
       "29    0.000600     0.0  0.000000        0.0    0.000000  0.000000     0.0   \n",
       "539   0.000000     0.0  0.000000        0.0    0.000000  0.000000     0.0   \n",
       "982   0.000000     0.0  0.000000        0.0    0.000000  0.000000     0.0   \n",
       "248   0.000000     0.0  0.000000        0.0    0.000000  0.000000     0.0   \n",
       "1029  0.000000     0.0  0.000000        0.0    0.000000  0.000000     0.0   \n",
       "\n",
       "           ria  rosgazeta        rt    sports   svoboda      tass   thebell  \\\n",
       "345   0.027383   0.034600  0.017061  0.000903  0.017588  0.015160  0.029851   \n",
       "489   0.009812   0.012911  0.003724  0.006553  0.005163  0.007472  0.010333   \n",
       "940   0.009068   0.005629  0.001273  0.006374  0.003588  0.004288  0.004592   \n",
       "142   0.003776   0.001439  0.006164  0.000000  0.001925  0.001587  0.005166   \n",
       "567   0.005802   0.005301  0.002051  0.003308  0.001750  0.005048  0.001148   \n",
       "...        ...        ...       ...       ...       ...       ...       ...   \n",
       "29    0.000000   0.000000  0.000000  0.000000  0.000000  0.000000  0.000000   \n",
       "539   0.000000   0.000000  0.000463  0.000000  0.000000  0.000000  0.000000   \n",
       "982   0.000007   0.000000  0.000095  0.000000  0.000000  0.000020  0.000000   \n",
       "248   0.000007   0.000000  0.000000  0.000000  0.000000  0.000005  0.000000   \n",
       "1029  0.000014   0.000000  0.000000  0.000000  0.000000  0.000045  0.000000   \n",
       "\n",
       "           tv1    tvrain  vedomosti  zarulem    zvezda       sum  \n",
       "345   0.113445  0.033038   0.029357      0.0  0.029415  0.664883  \n",
       "489   0.024255  0.005324   0.003281      0.0  0.004424  0.250457  \n",
       "940   0.002936  0.006143   0.005625      0.0  0.003587  0.126375  \n",
       "142   0.004893  0.001502   0.002871      0.0  0.005321  0.125568  \n",
       "567   0.001328  0.006280   0.000879      0.0  0.003916  0.111435  \n",
       "...        ...       ...        ...      ...       ...       ...  \n",
       "29    0.000000  0.000000   0.000000      0.0  0.000000  0.000600  \n",
       "539   0.000000  0.000000   0.000000      0.0  0.000090  0.000585  \n",
       "982   0.000000  0.000000   0.000000      0.0  0.000000  0.000561  \n",
       "248   0.000000  0.000000   0.000000      0.0  0.000000  0.000454  \n",
       "1029  0.000000  0.000000   0.000000      0.0  0.000000  0.000393  \n",
       "\n",
       "[1102 rows x 40 columns]"
      ]
     },
     "execution_count": 116,
     "metadata": {},
     "output_type": "execute_result"
    }
   ],
   "source": [
    "# keys = keys.fillna(0)\n",
    "# keys['sum'] = keys.sum(axis=1)\n",
    "# keys.sort_values('sum', ascending=False).rename(columns={0:'person'}).to_csv('people_top_100_set_sorted.csv')\n",
    "keys.sort_values('sum', ascending=False).rename(columns={0:'person'})"
   ]
  },
  {
   "cell_type": "code",
   "execution_count": null,
   "metadata": {},
   "outputs": [],
   "source": []
  },
  {
   "cell_type": "code",
   "execution_count": 148,
   "metadata": {},
   "outputs": [
    {
     "data": {
      "text/html": [
       "<div>\n",
       "<style scoped>\n",
       "    .dataframe tbody tr th:only-of-type {\n",
       "        vertical-align: middle;\n",
       "    }\n",
       "\n",
       "    .dataframe tbody tr th {\n",
       "        vertical-align: top;\n",
       "    }\n",
       "\n",
       "    .dataframe thead th {\n",
       "        text-align: right;\n",
       "    }\n",
       "</style>\n",
       "<table border=\"1\" class=\"dataframe\">\n",
       "  <thead>\n",
       "    <tr style=\"text-align: right;\">\n",
       "      <th></th>\n",
       "      <th>person</th>\n",
       "      <th>aif</th>\n",
       "      <th>autonews</th>\n",
       "      <th>championat</th>\n",
       "      <th>commers</th>\n",
       "      <th>echo</th>\n",
       "      <th>express</th>\n",
       "      <th>fontanka</th>\n",
       "      <th>gazeta</th>\n",
       "      <th>govorit</th>\n",
       "      <th>indicator</th>\n",
       "      <th>interfax</th>\n",
       "      <th>iz</th>\n",
       "      <th>kp</th>\n",
       "      <th>lenta</th>\n",
       "      <th>mediazona</th>\n",
       "      <th>meduza</th>\n",
       "      <th>mk</th>\n",
       "      <th>moscow</th>\n",
       "      <th>motor</th>\n",
       "      <th>novaya</th>\n",
       "      <th>nplus1</th>\n",
       "      <th>ntv</th>\n",
       "      <th>postnauka</th>\n",
       "      <th>radiovesti</th>\n",
       "      <th>rbk</th>\n",
       "      <th>review</th>\n",
       "      <th>ria</th>\n",
       "      <th>rosgazeta</th>\n",
       "      <th>rt</th>\n",
       "      <th>sports</th>\n",
       "      <th>svoboda</th>\n",
       "      <th>tass</th>\n",
       "      <th>thebell</th>\n",
       "      <th>tv1</th>\n",
       "      <th>tvrain</th>\n",
       "      <th>vedomosti</th>\n",
       "      <th>zarulem</th>\n",
       "      <th>zvezda</th>\n",
       "      <th>sum</th>\n",
       "    </tr>\n",
       "  </thead>\n",
       "  <tbody>\n",
       "    <tr>\n",
       "      <td>0</td>\n",
       "      <td>Путин</td>\n",
       "      <td>0.012625</td>\n",
       "      <td>0.0</td>\n",
       "      <td>0.001869</td>\n",
       "      <td>0.006232</td>\n",
       "      <td>0.017029</td>\n",
       "      <td>0.000000</td>\n",
       "      <td>0.016700</td>\n",
       "      <td>0.020938</td>\n",
       "      <td>0.038604</td>\n",
       "      <td>0.003067</td>\n",
       "      <td>0.025029</td>\n",
       "      <td>0.016232</td>\n",
       "      <td>0.007363</td>\n",
       "      <td>0.013527</td>\n",
       "      <td>0.007647</td>\n",
       "      <td>0.008743</td>\n",
       "      <td>0.020454</td>\n",
       "      <td>0.001423</td>\n",
       "      <td>0.0</td>\n",
       "      <td>0.009001</td>\n",
       "      <td>0.0</td>\n",
       "      <td>0.050153</td>\n",
       "      <td>0.0</td>\n",
       "      <td>0.016129</td>\n",
       "      <td>0.024317</td>\n",
       "      <td>0.0</td>\n",
       "      <td>0.027383</td>\n",
       "      <td>0.034600</td>\n",
       "      <td>0.017061</td>\n",
       "      <td>0.000903</td>\n",
       "      <td>0.017588</td>\n",
       "      <td>0.015160</td>\n",
       "      <td>0.029851</td>\n",
       "      <td>0.113445</td>\n",
       "      <td>0.033038</td>\n",
       "      <td>0.029357</td>\n",
       "      <td>0.0</td>\n",
       "      <td>0.029415</td>\n",
       "      <td>0.664883</td>\n",
       "    </tr>\n",
       "    <tr>\n",
       "      <td>1</td>\n",
       "      <td>Медведев</td>\n",
       "      <td>0.004654</td>\n",
       "      <td>0.0</td>\n",
       "      <td>0.007308</td>\n",
       "      <td>0.002388</td>\n",
       "      <td>0.002469</td>\n",
       "      <td>0.006124</td>\n",
       "      <td>0.004298</td>\n",
       "      <td>0.007577</td>\n",
       "      <td>0.010885</td>\n",
       "      <td>0.002045</td>\n",
       "      <td>0.007651</td>\n",
       "      <td>0.004186</td>\n",
       "      <td>0.002431</td>\n",
       "      <td>0.004279</td>\n",
       "      <td>0.000101</td>\n",
       "      <td>0.001557</td>\n",
       "      <td>0.004620</td>\n",
       "      <td>0.000289</td>\n",
       "      <td>0.0</td>\n",
       "      <td>0.002267</td>\n",
       "      <td>0.0</td>\n",
       "      <td>0.010582</td>\n",
       "      <td>0.0</td>\n",
       "      <td>0.064516</td>\n",
       "      <td>0.006978</td>\n",
       "      <td>0.0</td>\n",
       "      <td>0.009812</td>\n",
       "      <td>0.012911</td>\n",
       "      <td>0.003724</td>\n",
       "      <td>0.006553</td>\n",
       "      <td>0.005163</td>\n",
       "      <td>0.007472</td>\n",
       "      <td>0.010333</td>\n",
       "      <td>0.024255</td>\n",
       "      <td>0.005324</td>\n",
       "      <td>0.003281</td>\n",
       "      <td>0.0</td>\n",
       "      <td>0.004424</td>\n",
       "      <td>0.250457</td>\n",
       "    </tr>\n",
       "    <tr>\n",
       "      <td>2</td>\n",
       "      <td>Президент</td>\n",
       "      <td>0.007154</td>\n",
       "      <td>0.0</td>\n",
       "      <td>0.003824</td>\n",
       "      <td>0.004329</td>\n",
       "      <td>0.004182</td>\n",
       "      <td>0.006124</td>\n",
       "      <td>0.002396</td>\n",
       "      <td>0.003546</td>\n",
       "      <td>0.004152</td>\n",
       "      <td>0.002045</td>\n",
       "      <td>0.009547</td>\n",
       "      <td>0.004155</td>\n",
       "      <td>0.003468</td>\n",
       "      <td>0.001980</td>\n",
       "      <td>0.001207</td>\n",
       "      <td>0.001677</td>\n",
       "      <td>0.003546</td>\n",
       "      <td>0.000467</td>\n",
       "      <td>0.0</td>\n",
       "      <td>0.003067</td>\n",
       "      <td>0.0</td>\n",
       "      <td>0.000824</td>\n",
       "      <td>0.0</td>\n",
       "      <td>0.000000</td>\n",
       "      <td>0.005582</td>\n",
       "      <td>0.0</td>\n",
       "      <td>0.009068</td>\n",
       "      <td>0.005629</td>\n",
       "      <td>0.001273</td>\n",
       "      <td>0.006374</td>\n",
       "      <td>0.003588</td>\n",
       "      <td>0.004288</td>\n",
       "      <td>0.004592</td>\n",
       "      <td>0.002936</td>\n",
       "      <td>0.006143</td>\n",
       "      <td>0.005625</td>\n",
       "      <td>0.0</td>\n",
       "      <td>0.003587</td>\n",
       "      <td>0.126375</td>\n",
       "    </tr>\n",
       "    <tr>\n",
       "      <td>3</td>\n",
       "      <td>Порошенко</td>\n",
       "      <td>0.004456</td>\n",
       "      <td>0.0</td>\n",
       "      <td>0.000000</td>\n",
       "      <td>0.001144</td>\n",
       "      <td>0.002166</td>\n",
       "      <td>0.000000</td>\n",
       "      <td>0.002607</td>\n",
       "      <td>0.008164</td>\n",
       "      <td>0.005162</td>\n",
       "      <td>0.000000</td>\n",
       "      <td>0.003271</td>\n",
       "      <td>0.004871</td>\n",
       "      <td>0.003730</td>\n",
       "      <td>0.005145</td>\n",
       "      <td>0.000000</td>\n",
       "      <td>0.000599</td>\n",
       "      <td>0.001798</td>\n",
       "      <td>0.000000</td>\n",
       "      <td>0.0</td>\n",
       "      <td>0.001933</td>\n",
       "      <td>0.0</td>\n",
       "      <td>0.008153</td>\n",
       "      <td>0.0</td>\n",
       "      <td>0.032258</td>\n",
       "      <td>0.005464</td>\n",
       "      <td>0.0</td>\n",
       "      <td>0.003776</td>\n",
       "      <td>0.001439</td>\n",
       "      <td>0.006164</td>\n",
       "      <td>0.000000</td>\n",
       "      <td>0.001925</td>\n",
       "      <td>0.001587</td>\n",
       "      <td>0.005166</td>\n",
       "      <td>0.004893</td>\n",
       "      <td>0.001502</td>\n",
       "      <td>0.002871</td>\n",
       "      <td>0.0</td>\n",
       "      <td>0.005321</td>\n",
       "      <td>0.125568</td>\n",
       "    </tr>\n",
       "    <tr>\n",
       "      <td>4</td>\n",
       "      <td>Глава</td>\n",
       "      <td>0.006932</td>\n",
       "      <td>0.0</td>\n",
       "      <td>0.003229</td>\n",
       "      <td>0.007637</td>\n",
       "      <td>0.001713</td>\n",
       "      <td>0.001633</td>\n",
       "      <td>0.004157</td>\n",
       "      <td>0.003820</td>\n",
       "      <td>0.005723</td>\n",
       "      <td>0.000000</td>\n",
       "      <td>0.005125</td>\n",
       "      <td>0.004202</td>\n",
       "      <td>0.003747</td>\n",
       "      <td>0.003890</td>\n",
       "      <td>0.003823</td>\n",
       "      <td>0.003353</td>\n",
       "      <td>0.003546</td>\n",
       "      <td>0.000934</td>\n",
       "      <td>0.0</td>\n",
       "      <td>0.002967</td>\n",
       "      <td>0.0</td>\n",
       "      <td>0.002018</td>\n",
       "      <td>0.0</td>\n",
       "      <td>0.000000</td>\n",
       "      <td>0.006174</td>\n",
       "      <td>0.0</td>\n",
       "      <td>0.005802</td>\n",
       "      <td>0.005301</td>\n",
       "      <td>0.002051</td>\n",
       "      <td>0.003308</td>\n",
       "      <td>0.001750</td>\n",
       "      <td>0.005048</td>\n",
       "      <td>0.001148</td>\n",
       "      <td>0.001328</td>\n",
       "      <td>0.006280</td>\n",
       "      <td>0.000879</td>\n",
       "      <td>0.0</td>\n",
       "      <td>0.003916</td>\n",
       "      <td>0.111435</td>\n",
       "    </tr>\n",
       "    <tr>\n",
       "      <td>...</td>\n",
       "      <td>...</td>\n",
       "      <td>...</td>\n",
       "      <td>...</td>\n",
       "      <td>...</td>\n",
       "      <td>...</td>\n",
       "      <td>...</td>\n",
       "      <td>...</td>\n",
       "      <td>...</td>\n",
       "      <td>...</td>\n",
       "      <td>...</td>\n",
       "      <td>...</td>\n",
       "      <td>...</td>\n",
       "      <td>...</td>\n",
       "      <td>...</td>\n",
       "      <td>...</td>\n",
       "      <td>...</td>\n",
       "      <td>...</td>\n",
       "      <td>...</td>\n",
       "      <td>...</td>\n",
       "      <td>...</td>\n",
       "      <td>...</td>\n",
       "      <td>...</td>\n",
       "      <td>...</td>\n",
       "      <td>...</td>\n",
       "      <td>...</td>\n",
       "      <td>...</td>\n",
       "      <td>...</td>\n",
       "      <td>...</td>\n",
       "      <td>...</td>\n",
       "      <td>...</td>\n",
       "      <td>...</td>\n",
       "      <td>...</td>\n",
       "      <td>...</td>\n",
       "      <td>...</td>\n",
       "      <td>...</td>\n",
       "      <td>...</td>\n",
       "      <td>...</td>\n",
       "      <td>...</td>\n",
       "      <td>...</td>\n",
       "      <td>...</td>\n",
       "    </tr>\n",
       "    <tr>\n",
       "      <td>1097</td>\n",
       "      <td>Ризнич</td>\n",
       "      <td>0.000000</td>\n",
       "      <td>0.0</td>\n",
       "      <td>0.000000</td>\n",
       "      <td>0.000000</td>\n",
       "      <td>0.000000</td>\n",
       "      <td>0.000000</td>\n",
       "      <td>0.000000</td>\n",
       "      <td>0.000000</td>\n",
       "      <td>0.000000</td>\n",
       "      <td>0.000000</td>\n",
       "      <td>0.000000</td>\n",
       "      <td>0.000000</td>\n",
       "      <td>0.000000</td>\n",
       "      <td>0.000000</td>\n",
       "      <td>0.000000</td>\n",
       "      <td>0.000000</td>\n",
       "      <td>0.000000</td>\n",
       "      <td>0.000000</td>\n",
       "      <td>0.0</td>\n",
       "      <td>0.000600</td>\n",
       "      <td>0.0</td>\n",
       "      <td>0.000000</td>\n",
       "      <td>0.0</td>\n",
       "      <td>0.000000</td>\n",
       "      <td>0.000000</td>\n",
       "      <td>0.0</td>\n",
       "      <td>0.000000</td>\n",
       "      <td>0.000000</td>\n",
       "      <td>0.000000</td>\n",
       "      <td>0.000000</td>\n",
       "      <td>0.000000</td>\n",
       "      <td>0.000000</td>\n",
       "      <td>0.000000</td>\n",
       "      <td>0.000000</td>\n",
       "      <td>0.000000</td>\n",
       "      <td>0.000000</td>\n",
       "      <td>0.0</td>\n",
       "      <td>0.000000</td>\n",
       "      <td>0.000600</td>\n",
       "    </tr>\n",
       "    <tr>\n",
       "      <td>1098</td>\n",
       "      <td>Асафов</td>\n",
       "      <td>0.000025</td>\n",
       "      <td>0.0</td>\n",
       "      <td>0.000000</td>\n",
       "      <td>0.000000</td>\n",
       "      <td>0.000000</td>\n",
       "      <td>0.000000</td>\n",
       "      <td>0.000000</td>\n",
       "      <td>0.000008</td>\n",
       "      <td>0.000000</td>\n",
       "      <td>0.000000</td>\n",
       "      <td>0.000000</td>\n",
       "      <td>0.000000</td>\n",
       "      <td>0.000000</td>\n",
       "      <td>0.000000</td>\n",
       "      <td>0.000000</td>\n",
       "      <td>0.000000</td>\n",
       "      <td>0.000000</td>\n",
       "      <td>0.000000</td>\n",
       "      <td>0.0</td>\n",
       "      <td>0.000000</td>\n",
       "      <td>0.0</td>\n",
       "      <td>0.000000</td>\n",
       "      <td>0.0</td>\n",
       "      <td>0.000000</td>\n",
       "      <td>0.000000</td>\n",
       "      <td>0.0</td>\n",
       "      <td>0.000000</td>\n",
       "      <td>0.000000</td>\n",
       "      <td>0.000463</td>\n",
       "      <td>0.000000</td>\n",
       "      <td>0.000000</td>\n",
       "      <td>0.000000</td>\n",
       "      <td>0.000000</td>\n",
       "      <td>0.000000</td>\n",
       "      <td>0.000000</td>\n",
       "      <td>0.000000</td>\n",
       "      <td>0.0</td>\n",
       "      <td>0.000090</td>\n",
       "      <td>0.000585</td>\n",
       "    </tr>\n",
       "    <tr>\n",
       "      <td>1099</td>\n",
       "      <td>Коммунарка</td>\n",
       "      <td>0.000000</td>\n",
       "      <td>0.0</td>\n",
       "      <td>0.000000</td>\n",
       "      <td>0.000000</td>\n",
       "      <td>0.000050</td>\n",
       "      <td>0.000000</td>\n",
       "      <td>0.000000</td>\n",
       "      <td>0.000000</td>\n",
       "      <td>0.000000</td>\n",
       "      <td>0.000000</td>\n",
       "      <td>0.000000</td>\n",
       "      <td>0.000016</td>\n",
       "      <td>0.000000</td>\n",
       "      <td>0.000018</td>\n",
       "      <td>0.000000</td>\n",
       "      <td>0.000000</td>\n",
       "      <td>0.000000</td>\n",
       "      <td>0.000356</td>\n",
       "      <td>0.0</td>\n",
       "      <td>0.000000</td>\n",
       "      <td>0.0</td>\n",
       "      <td>0.000000</td>\n",
       "      <td>0.0</td>\n",
       "      <td>0.000000</td>\n",
       "      <td>0.000000</td>\n",
       "      <td>0.0</td>\n",
       "      <td>0.000007</td>\n",
       "      <td>0.000000</td>\n",
       "      <td>0.000095</td>\n",
       "      <td>0.000000</td>\n",
       "      <td>0.000000</td>\n",
       "      <td>0.000020</td>\n",
       "      <td>0.000000</td>\n",
       "      <td>0.000000</td>\n",
       "      <td>0.000000</td>\n",
       "      <td>0.000000</td>\n",
       "      <td>0.0</td>\n",
       "      <td>0.000000</td>\n",
       "      <td>0.000561</td>\n",
       "    </tr>\n",
       "    <tr>\n",
       "      <td>1100</td>\n",
       "      <td>Марьин</td>\n",
       "      <td>0.000000</td>\n",
       "      <td>0.0</td>\n",
       "      <td>0.000000</td>\n",
       "      <td>0.000000</td>\n",
       "      <td>0.000101</td>\n",
       "      <td>0.000000</td>\n",
       "      <td>0.000000</td>\n",
       "      <td>0.000008</td>\n",
       "      <td>0.000000</td>\n",
       "      <td>0.000000</td>\n",
       "      <td>0.000000</td>\n",
       "      <td>0.000000</td>\n",
       "      <td>0.000000</td>\n",
       "      <td>0.000000</td>\n",
       "      <td>0.000000</td>\n",
       "      <td>0.000000</td>\n",
       "      <td>0.000000</td>\n",
       "      <td>0.000334</td>\n",
       "      <td>0.0</td>\n",
       "      <td>0.000000</td>\n",
       "      <td>0.0</td>\n",
       "      <td>0.000000</td>\n",
       "      <td>0.0</td>\n",
       "      <td>0.000000</td>\n",
       "      <td>0.000000</td>\n",
       "      <td>0.0</td>\n",
       "      <td>0.000007</td>\n",
       "      <td>0.000000</td>\n",
       "      <td>0.000000</td>\n",
       "      <td>0.000000</td>\n",
       "      <td>0.000000</td>\n",
       "      <td>0.000005</td>\n",
       "      <td>0.000000</td>\n",
       "      <td>0.000000</td>\n",
       "      <td>0.000000</td>\n",
       "      <td>0.000000</td>\n",
       "      <td>0.0</td>\n",
       "      <td>0.000000</td>\n",
       "      <td>0.000454</td>\n",
       "    </tr>\n",
       "    <tr>\n",
       "      <td>1101</td>\n",
       "      <td>Посаженников</td>\n",
       "      <td>0.000000</td>\n",
       "      <td>0.0</td>\n",
       "      <td>0.000000</td>\n",
       "      <td>0.000000</td>\n",
       "      <td>0.000000</td>\n",
       "      <td>0.000000</td>\n",
       "      <td>0.000000</td>\n",
       "      <td>0.000000</td>\n",
       "      <td>0.000000</td>\n",
       "      <td>0.000000</td>\n",
       "      <td>0.000000</td>\n",
       "      <td>0.000000</td>\n",
       "      <td>0.000000</td>\n",
       "      <td>0.000000</td>\n",
       "      <td>0.000000</td>\n",
       "      <td>0.000000</td>\n",
       "      <td>0.000000</td>\n",
       "      <td>0.000334</td>\n",
       "      <td>0.0</td>\n",
       "      <td>0.000000</td>\n",
       "      <td>0.0</td>\n",
       "      <td>0.000000</td>\n",
       "      <td>0.0</td>\n",
       "      <td>0.000000</td>\n",
       "      <td>0.000000</td>\n",
       "      <td>0.0</td>\n",
       "      <td>0.000014</td>\n",
       "      <td>0.000000</td>\n",
       "      <td>0.000000</td>\n",
       "      <td>0.000000</td>\n",
       "      <td>0.000000</td>\n",
       "      <td>0.000045</td>\n",
       "      <td>0.000000</td>\n",
       "      <td>0.000000</td>\n",
       "      <td>0.000000</td>\n",
       "      <td>0.000000</td>\n",
       "      <td>0.0</td>\n",
       "      <td>0.000000</td>\n",
       "      <td>0.000393</td>\n",
       "    </tr>\n",
       "  </tbody>\n",
       "</table>\n",
       "<p>1102 rows × 40 columns</p>\n",
       "</div>"
      ],
      "text/plain": [
       "            person       aif  autonews  championat   commers      echo  \\\n",
       "0            Путин  0.012625       0.0    0.001869  0.006232  0.017029   \n",
       "1         Медведев  0.004654       0.0    0.007308  0.002388  0.002469   \n",
       "2        Президент  0.007154       0.0    0.003824  0.004329  0.004182   \n",
       "3        Порошенко  0.004456       0.0    0.000000  0.001144  0.002166   \n",
       "4            Глава  0.006932       0.0    0.003229  0.007637  0.001713   \n",
       "...            ...       ...       ...         ...       ...       ...   \n",
       "1097        Ризнич  0.000000       0.0    0.000000  0.000000  0.000000   \n",
       "1098        Асафов  0.000025       0.0    0.000000  0.000000  0.000000   \n",
       "1099    Коммунарка  0.000000       0.0    0.000000  0.000000  0.000050   \n",
       "1100        Марьин  0.000000       0.0    0.000000  0.000000  0.000101   \n",
       "1101  Посаженников  0.000000       0.0    0.000000  0.000000  0.000000   \n",
       "\n",
       "       express  fontanka    gazeta   govorit  indicator  interfax        iz  \\\n",
       "0     0.000000  0.016700  0.020938  0.038604   0.003067  0.025029  0.016232   \n",
       "1     0.006124  0.004298  0.007577  0.010885   0.002045  0.007651  0.004186   \n",
       "2     0.006124  0.002396  0.003546  0.004152   0.002045  0.009547  0.004155   \n",
       "3     0.000000  0.002607  0.008164  0.005162   0.000000  0.003271  0.004871   \n",
       "4     0.001633  0.004157  0.003820  0.005723   0.000000  0.005125  0.004202   \n",
       "...        ...       ...       ...       ...        ...       ...       ...   \n",
       "1097  0.000000  0.000000  0.000000  0.000000   0.000000  0.000000  0.000000   \n",
       "1098  0.000000  0.000000  0.000008  0.000000   0.000000  0.000000  0.000000   \n",
       "1099  0.000000  0.000000  0.000000  0.000000   0.000000  0.000000  0.000016   \n",
       "1100  0.000000  0.000000  0.000008  0.000000   0.000000  0.000000  0.000000   \n",
       "1101  0.000000  0.000000  0.000000  0.000000   0.000000  0.000000  0.000000   \n",
       "\n",
       "            kp     lenta  mediazona    meduza        mk    moscow  motor  \\\n",
       "0     0.007363  0.013527   0.007647  0.008743  0.020454  0.001423    0.0   \n",
       "1     0.002431  0.004279   0.000101  0.001557  0.004620  0.000289    0.0   \n",
       "2     0.003468  0.001980   0.001207  0.001677  0.003546  0.000467    0.0   \n",
       "3     0.003730  0.005145   0.000000  0.000599  0.001798  0.000000    0.0   \n",
       "4     0.003747  0.003890   0.003823  0.003353  0.003546  0.000934    0.0   \n",
       "...        ...       ...        ...       ...       ...       ...    ...   \n",
       "1097  0.000000  0.000000   0.000000  0.000000  0.000000  0.000000    0.0   \n",
       "1098  0.000000  0.000000   0.000000  0.000000  0.000000  0.000000    0.0   \n",
       "1099  0.000000  0.000018   0.000000  0.000000  0.000000  0.000356    0.0   \n",
       "1100  0.000000  0.000000   0.000000  0.000000  0.000000  0.000334    0.0   \n",
       "1101  0.000000  0.000000   0.000000  0.000000  0.000000  0.000334    0.0   \n",
       "\n",
       "        novaya  nplus1       ntv  postnauka  radiovesti       rbk  review  \\\n",
       "0     0.009001     0.0  0.050153        0.0    0.016129  0.024317     0.0   \n",
       "1     0.002267     0.0  0.010582        0.0    0.064516  0.006978     0.0   \n",
       "2     0.003067     0.0  0.000824        0.0    0.000000  0.005582     0.0   \n",
       "3     0.001933     0.0  0.008153        0.0    0.032258  0.005464     0.0   \n",
       "4     0.002967     0.0  0.002018        0.0    0.000000  0.006174     0.0   \n",
       "...        ...     ...       ...        ...         ...       ...     ...   \n",
       "1097  0.000600     0.0  0.000000        0.0    0.000000  0.000000     0.0   \n",
       "1098  0.000000     0.0  0.000000        0.0    0.000000  0.000000     0.0   \n",
       "1099  0.000000     0.0  0.000000        0.0    0.000000  0.000000     0.0   \n",
       "1100  0.000000     0.0  0.000000        0.0    0.000000  0.000000     0.0   \n",
       "1101  0.000000     0.0  0.000000        0.0    0.000000  0.000000     0.0   \n",
       "\n",
       "           ria  rosgazeta        rt    sports   svoboda      tass   thebell  \\\n",
       "0     0.027383   0.034600  0.017061  0.000903  0.017588  0.015160  0.029851   \n",
       "1     0.009812   0.012911  0.003724  0.006553  0.005163  0.007472  0.010333   \n",
       "2     0.009068   0.005629  0.001273  0.006374  0.003588  0.004288  0.004592   \n",
       "3     0.003776   0.001439  0.006164  0.000000  0.001925  0.001587  0.005166   \n",
       "4     0.005802   0.005301  0.002051  0.003308  0.001750  0.005048  0.001148   \n",
       "...        ...        ...       ...       ...       ...       ...       ...   \n",
       "1097  0.000000   0.000000  0.000000  0.000000  0.000000  0.000000  0.000000   \n",
       "1098  0.000000   0.000000  0.000463  0.000000  0.000000  0.000000  0.000000   \n",
       "1099  0.000007   0.000000  0.000095  0.000000  0.000000  0.000020  0.000000   \n",
       "1100  0.000007   0.000000  0.000000  0.000000  0.000000  0.000005  0.000000   \n",
       "1101  0.000014   0.000000  0.000000  0.000000  0.000000  0.000045  0.000000   \n",
       "\n",
       "           tv1    tvrain  vedomosti  zarulem    zvezda       sum  \n",
       "0     0.113445  0.033038   0.029357      0.0  0.029415  0.664883  \n",
       "1     0.024255  0.005324   0.003281      0.0  0.004424  0.250457  \n",
       "2     0.002936  0.006143   0.005625      0.0  0.003587  0.126375  \n",
       "3     0.004893  0.001502   0.002871      0.0  0.005321  0.125568  \n",
       "4     0.001328  0.006280   0.000879      0.0  0.003916  0.111435  \n",
       "...        ...       ...        ...      ...       ...       ...  \n",
       "1097  0.000000  0.000000   0.000000      0.0  0.000000  0.000600  \n",
       "1098  0.000000  0.000000   0.000000      0.0  0.000090  0.000585  \n",
       "1099  0.000000  0.000000   0.000000      0.0  0.000000  0.000561  \n",
       "1100  0.000000  0.000000   0.000000      0.0  0.000000  0.000454  \n",
       "1101  0.000000  0.000000   0.000000      0.0  0.000000  0.000393  \n",
       "\n",
       "[1102 rows x 40 columns]"
      ]
     },
     "execution_count": 148,
     "metadata": {},
     "output_type": "execute_result"
    }
   ],
   "source": [
    "r = pd.read_csv('people_top_100_set_sorted.csv')\n",
    "r.drop(['Unnamed: 0'], axis=1, inplace=True)\n",
    "r"
   ]
  },
  {
   "cell_type": "code",
   "execution_count": 149,
   "metadata": {},
   "outputs": [
    {
     "data": {
      "text/html": [
       "<div>\n",
       "<style scoped>\n",
       "    .dataframe tbody tr th:only-of-type {\n",
       "        vertical-align: middle;\n",
       "    }\n",
       "\n",
       "    .dataframe tbody tr th {\n",
       "        vertical-align: top;\n",
       "    }\n",
       "\n",
       "    .dataframe thead th {\n",
       "        text-align: right;\n",
       "    }\n",
       "</style>\n",
       "<table border=\"1\" class=\"dataframe\">\n",
       "  <thead>\n",
       "    <tr style=\"text-align: right;\">\n",
       "      <th></th>\n",
       "      <th>person</th>\n",
       "      <th>aif</th>\n",
       "      <th>autonews</th>\n",
       "      <th>championat</th>\n",
       "      <th>commers</th>\n",
       "      <th>echo</th>\n",
       "      <th>express</th>\n",
       "      <th>fontanka</th>\n",
       "      <th>gazeta</th>\n",
       "      <th>govorit</th>\n",
       "      <th>indicator</th>\n",
       "      <th>interfax</th>\n",
       "      <th>iz</th>\n",
       "      <th>kp</th>\n",
       "      <th>lenta</th>\n",
       "      <th>mediazona</th>\n",
       "      <th>meduza</th>\n",
       "      <th>mk</th>\n",
       "      <th>moscow</th>\n",
       "      <th>motor</th>\n",
       "      <th>novaya</th>\n",
       "      <th>nplus1</th>\n",
       "      <th>ntv</th>\n",
       "      <th>postnauka</th>\n",
       "      <th>radiovesti</th>\n",
       "      <th>rbk</th>\n",
       "      <th>review</th>\n",
       "      <th>ria</th>\n",
       "      <th>rosgazeta</th>\n",
       "      <th>rt</th>\n",
       "      <th>sports</th>\n",
       "      <th>svoboda</th>\n",
       "      <th>tass</th>\n",
       "      <th>thebell</th>\n",
       "      <th>tv1</th>\n",
       "      <th>tvrain</th>\n",
       "      <th>vedomosti</th>\n",
       "      <th>zarulem</th>\n",
       "      <th>zvezda</th>\n",
       "      <th>sum</th>\n",
       "    </tr>\n",
       "  </thead>\n",
       "  <tbody>\n",
       "    <tr>\n",
       "      <td>0</td>\n",
       "      <td>Путин</td>\n",
       "      <td>1.000000</td>\n",
       "      <td>0.0</td>\n",
       "      <td>0.255814</td>\n",
       "      <td>0.564189</td>\n",
       "      <td>1.000000</td>\n",
       "      <td>0.000000</td>\n",
       "      <td>1.000000</td>\n",
       "      <td>1.000000</td>\n",
       "      <td>1.000000</td>\n",
       "      <td>0.3</td>\n",
       "      <td>1.000000</td>\n",
       "      <td>1.000000</td>\n",
       "      <td>1.000000</td>\n",
       "      <td>1.000000</td>\n",
       "      <td>0.800000</td>\n",
       "      <td>1.000000</td>\n",
       "      <td>1.000000</td>\n",
       "      <td>0.119403</td>\n",
       "      <td>0.0</td>\n",
       "      <td>1.000000</td>\n",
       "      <td>0.0</td>\n",
       "      <td>1.000000</td>\n",
       "      <td>0.0</td>\n",
       "      <td>0.166667</td>\n",
       "      <td>1.000000</td>\n",
       "      <td>0.0</td>\n",
       "      <td>1.000000</td>\n",
       "      <td>1.000000</td>\n",
       "      <td>1.000000</td>\n",
       "      <td>0.080979</td>\n",
       "      <td>1.000000</td>\n",
       "      <td>1.000000</td>\n",
       "      <td>1.000000</td>\n",
       "      <td>1.000000</td>\n",
       "      <td>1.000000</td>\n",
       "      <td>1.000000</td>\n",
       "      <td>0.0</td>\n",
       "      <td>1.000000</td>\n",
       "      <td>0.664883</td>\n",
       "    </tr>\n",
       "    <tr>\n",
       "      <td>1</td>\n",
       "      <td>Медведев</td>\n",
       "      <td>0.368627</td>\n",
       "      <td>0.0</td>\n",
       "      <td>1.000000</td>\n",
       "      <td>0.216216</td>\n",
       "      <td>0.144970</td>\n",
       "      <td>0.625000</td>\n",
       "      <td>0.257384</td>\n",
       "      <td>0.361869</td>\n",
       "      <td>0.281977</td>\n",
       "      <td>0.2</td>\n",
       "      <td>0.305662</td>\n",
       "      <td>0.257910</td>\n",
       "      <td>0.330178</td>\n",
       "      <td>0.316340</td>\n",
       "      <td>0.010526</td>\n",
       "      <td>0.178082</td>\n",
       "      <td>0.225885</td>\n",
       "      <td>0.024254</td>\n",
       "      <td>0.0</td>\n",
       "      <td>0.251852</td>\n",
       "      <td>0.0</td>\n",
       "      <td>0.211002</td>\n",
       "      <td>0.0</td>\n",
       "      <td>0.666667</td>\n",
       "      <td>0.286965</td>\n",
       "      <td>0.0</td>\n",
       "      <td>0.358329</td>\n",
       "      <td>0.373147</td>\n",
       "      <td>0.218249</td>\n",
       "      <td>0.587571</td>\n",
       "      <td>0.293532</td>\n",
       "      <td>0.492855</td>\n",
       "      <td>0.346154</td>\n",
       "      <td>0.213802</td>\n",
       "      <td>0.161157</td>\n",
       "      <td>0.111776</td>\n",
       "      <td>0.0</td>\n",
       "      <td>0.150407</td>\n",
       "      <td>0.250457</td>\n",
       "    </tr>\n",
       "    <tr>\n",
       "      <td>2</td>\n",
       "      <td>Президент</td>\n",
       "      <td>0.566667</td>\n",
       "      <td>0.0</td>\n",
       "      <td>0.523256</td>\n",
       "      <td>0.391892</td>\n",
       "      <td>0.245562</td>\n",
       "      <td>0.625000</td>\n",
       "      <td>0.143460</td>\n",
       "      <td>0.169346</td>\n",
       "      <td>0.107558</td>\n",
       "      <td>0.2</td>\n",
       "      <td>0.381439</td>\n",
       "      <td>0.255992</td>\n",
       "      <td>0.471006</td>\n",
       "      <td>0.146405</td>\n",
       "      <td>0.126316</td>\n",
       "      <td>0.191781</td>\n",
       "      <td>0.173382</td>\n",
       "      <td>0.039179</td>\n",
       "      <td>0.0</td>\n",
       "      <td>0.340741</td>\n",
       "      <td>0.0</td>\n",
       "      <td>0.016420</td>\n",
       "      <td>0.0</td>\n",
       "      <td>0.000000</td>\n",
       "      <td>0.229572</td>\n",
       "      <td>0.0</td>\n",
       "      <td>0.331152</td>\n",
       "      <td>0.162685</td>\n",
       "      <td>0.074599</td>\n",
       "      <td>0.571563</td>\n",
       "      <td>0.203980</td>\n",
       "      <td>0.282818</td>\n",
       "      <td>0.153846</td>\n",
       "      <td>0.025878</td>\n",
       "      <td>0.185950</td>\n",
       "      <td>0.191617</td>\n",
       "      <td>0.0</td>\n",
       "      <td>0.121951</td>\n",
       "      <td>0.126375</td>\n",
       "    </tr>\n",
       "    <tr>\n",
       "      <td>3</td>\n",
       "      <td>Порошенко</td>\n",
       "      <td>0.352941</td>\n",
       "      <td>0.0</td>\n",
       "      <td>0.000000</td>\n",
       "      <td>0.103604</td>\n",
       "      <td>0.127219</td>\n",
       "      <td>0.000000</td>\n",
       "      <td>0.156118</td>\n",
       "      <td>0.389907</td>\n",
       "      <td>0.133721</td>\n",
       "      <td>0.0</td>\n",
       "      <td>0.130694</td>\n",
       "      <td>0.300096</td>\n",
       "      <td>0.506509</td>\n",
       "      <td>0.380392</td>\n",
       "      <td>0.000000</td>\n",
       "      <td>0.068493</td>\n",
       "      <td>0.087912</td>\n",
       "      <td>0.000000</td>\n",
       "      <td>0.0</td>\n",
       "      <td>0.214815</td>\n",
       "      <td>0.0</td>\n",
       "      <td>0.162562</td>\n",
       "      <td>0.0</td>\n",
       "      <td>0.333333</td>\n",
       "      <td>0.224708</td>\n",
       "      <td>0.0</td>\n",
       "      <td>0.137896</td>\n",
       "      <td>0.041598</td>\n",
       "      <td>0.361282</td>\n",
       "      <td>0.000000</td>\n",
       "      <td>0.109453</td>\n",
       "      <td>0.104686</td>\n",
       "      <td>0.173077</td>\n",
       "      <td>0.043130</td>\n",
       "      <td>0.045455</td>\n",
       "      <td>0.097804</td>\n",
       "      <td>0.0</td>\n",
       "      <td>0.180894</td>\n",
       "      <td>0.125568</td>\n",
       "    </tr>\n",
       "    <tr>\n",
       "      <td>4</td>\n",
       "      <td>Глава</td>\n",
       "      <td>0.549020</td>\n",
       "      <td>0.0</td>\n",
       "      <td>0.441860</td>\n",
       "      <td>0.691441</td>\n",
       "      <td>0.100592</td>\n",
       "      <td>0.166667</td>\n",
       "      <td>0.248945</td>\n",
       "      <td>0.182430</td>\n",
       "      <td>0.148256</td>\n",
       "      <td>0.0</td>\n",
       "      <td>0.204768</td>\n",
       "      <td>0.258869</td>\n",
       "      <td>0.508876</td>\n",
       "      <td>0.287582</td>\n",
       "      <td>0.400000</td>\n",
       "      <td>0.383562</td>\n",
       "      <td>0.173382</td>\n",
       "      <td>0.078358</td>\n",
       "      <td>0.0</td>\n",
       "      <td>0.329630</td>\n",
       "      <td>0.0</td>\n",
       "      <td>0.040230</td>\n",
       "      <td>0.0</td>\n",
       "      <td>0.000000</td>\n",
       "      <td>0.253891</td>\n",
       "      <td>0.0</td>\n",
       "      <td>0.211877</td>\n",
       "      <td>0.153213</td>\n",
       "      <td>0.120222</td>\n",
       "      <td>0.296610</td>\n",
       "      <td>0.099502</td>\n",
       "      <td>0.333001</td>\n",
       "      <td>0.038462</td>\n",
       "      <td>0.011707</td>\n",
       "      <td>0.190083</td>\n",
       "      <td>0.029940</td>\n",
       "      <td>0.0</td>\n",
       "      <td>0.133130</td>\n",
       "      <td>0.111435</td>\n",
       "    </tr>\n",
       "    <tr>\n",
       "      <td>...</td>\n",
       "      <td>...</td>\n",
       "      <td>...</td>\n",
       "      <td>...</td>\n",
       "      <td>...</td>\n",
       "      <td>...</td>\n",
       "      <td>...</td>\n",
       "      <td>...</td>\n",
       "      <td>...</td>\n",
       "      <td>...</td>\n",
       "      <td>...</td>\n",
       "      <td>...</td>\n",
       "      <td>...</td>\n",
       "      <td>...</td>\n",
       "      <td>...</td>\n",
       "      <td>...</td>\n",
       "      <td>...</td>\n",
       "      <td>...</td>\n",
       "      <td>...</td>\n",
       "      <td>...</td>\n",
       "      <td>...</td>\n",
       "      <td>...</td>\n",
       "      <td>...</td>\n",
       "      <td>...</td>\n",
       "      <td>...</td>\n",
       "      <td>...</td>\n",
       "      <td>...</td>\n",
       "      <td>...</td>\n",
       "      <td>...</td>\n",
       "      <td>...</td>\n",
       "      <td>...</td>\n",
       "      <td>...</td>\n",
       "      <td>...</td>\n",
       "      <td>...</td>\n",
       "      <td>...</td>\n",
       "      <td>...</td>\n",
       "      <td>...</td>\n",
       "      <td>...</td>\n",
       "      <td>...</td>\n",
       "      <td>...</td>\n",
       "      <td>...</td>\n",
       "    </tr>\n",
       "    <tr>\n",
       "      <td>1097</td>\n",
       "      <td>Ризнич</td>\n",
       "      <td>0.000000</td>\n",
       "      <td>0.0</td>\n",
       "      <td>0.000000</td>\n",
       "      <td>0.000000</td>\n",
       "      <td>0.000000</td>\n",
       "      <td>0.000000</td>\n",
       "      <td>0.000000</td>\n",
       "      <td>0.000000</td>\n",
       "      <td>0.000000</td>\n",
       "      <td>0.0</td>\n",
       "      <td>0.000000</td>\n",
       "      <td>0.000000</td>\n",
       "      <td>0.000000</td>\n",
       "      <td>0.000000</td>\n",
       "      <td>0.000000</td>\n",
       "      <td>0.000000</td>\n",
       "      <td>0.000000</td>\n",
       "      <td>0.000000</td>\n",
       "      <td>0.0</td>\n",
       "      <td>0.066667</td>\n",
       "      <td>0.0</td>\n",
       "      <td>0.000000</td>\n",
       "      <td>0.0</td>\n",
       "      <td>0.000000</td>\n",
       "      <td>0.000000</td>\n",
       "      <td>0.0</td>\n",
       "      <td>0.000000</td>\n",
       "      <td>0.000000</td>\n",
       "      <td>0.000000</td>\n",
       "      <td>0.000000</td>\n",
       "      <td>0.000000</td>\n",
       "      <td>0.000000</td>\n",
       "      <td>0.000000</td>\n",
       "      <td>0.000000</td>\n",
       "      <td>0.000000</td>\n",
       "      <td>0.000000</td>\n",
       "      <td>0.0</td>\n",
       "      <td>0.000000</td>\n",
       "      <td>0.000600</td>\n",
       "    </tr>\n",
       "    <tr>\n",
       "      <td>1098</td>\n",
       "      <td>Асафов</td>\n",
       "      <td>0.001961</td>\n",
       "      <td>0.0</td>\n",
       "      <td>0.000000</td>\n",
       "      <td>0.000000</td>\n",
       "      <td>0.000000</td>\n",
       "      <td>0.000000</td>\n",
       "      <td>0.000000</td>\n",
       "      <td>0.000374</td>\n",
       "      <td>0.000000</td>\n",
       "      <td>0.0</td>\n",
       "      <td>0.000000</td>\n",
       "      <td>0.000000</td>\n",
       "      <td>0.000000</td>\n",
       "      <td>0.000000</td>\n",
       "      <td>0.000000</td>\n",
       "      <td>0.000000</td>\n",
       "      <td>0.000000</td>\n",
       "      <td>0.000000</td>\n",
       "      <td>0.0</td>\n",
       "      <td>0.000000</td>\n",
       "      <td>0.0</td>\n",
       "      <td>0.000000</td>\n",
       "      <td>0.0</td>\n",
       "      <td>0.000000</td>\n",
       "      <td>0.000000</td>\n",
       "      <td>0.0</td>\n",
       "      <td>0.000000</td>\n",
       "      <td>0.000000</td>\n",
       "      <td>0.027127</td>\n",
       "      <td>0.000000</td>\n",
       "      <td>0.000000</td>\n",
       "      <td>0.000000</td>\n",
       "      <td>0.000000</td>\n",
       "      <td>0.000000</td>\n",
       "      <td>0.000000</td>\n",
       "      <td>0.000000</td>\n",
       "      <td>0.0</td>\n",
       "      <td>0.003049</td>\n",
       "      <td>0.000585</td>\n",
       "    </tr>\n",
       "    <tr>\n",
       "      <td>1099</td>\n",
       "      <td>Коммунарка</td>\n",
       "      <td>0.000000</td>\n",
       "      <td>0.0</td>\n",
       "      <td>0.000000</td>\n",
       "      <td>0.000000</td>\n",
       "      <td>0.002959</td>\n",
       "      <td>0.000000</td>\n",
       "      <td>0.000000</td>\n",
       "      <td>0.000000</td>\n",
       "      <td>0.000000</td>\n",
       "      <td>0.0</td>\n",
       "      <td>0.000000</td>\n",
       "      <td>0.000959</td>\n",
       "      <td>0.000000</td>\n",
       "      <td>0.001307</td>\n",
       "      <td>0.000000</td>\n",
       "      <td>0.000000</td>\n",
       "      <td>0.000000</td>\n",
       "      <td>0.029851</td>\n",
       "      <td>0.0</td>\n",
       "      <td>0.000000</td>\n",
       "      <td>0.0</td>\n",
       "      <td>0.000000</td>\n",
       "      <td>0.0</td>\n",
       "      <td>0.000000</td>\n",
       "      <td>0.000000</td>\n",
       "      <td>0.0</td>\n",
       "      <td>0.000252</td>\n",
       "      <td>0.000000</td>\n",
       "      <td>0.005549</td>\n",
       "      <td>0.000000</td>\n",
       "      <td>0.000000</td>\n",
       "      <td>0.001329</td>\n",
       "      <td>0.000000</td>\n",
       "      <td>0.000000</td>\n",
       "      <td>0.000000</td>\n",
       "      <td>0.000000</td>\n",
       "      <td>0.0</td>\n",
       "      <td>0.000000</td>\n",
       "      <td>0.000561</td>\n",
       "    </tr>\n",
       "    <tr>\n",
       "      <td>1100</td>\n",
       "      <td>Марьин</td>\n",
       "      <td>0.000000</td>\n",
       "      <td>0.0</td>\n",
       "      <td>0.000000</td>\n",
       "      <td>0.000000</td>\n",
       "      <td>0.005917</td>\n",
       "      <td>0.000000</td>\n",
       "      <td>0.000000</td>\n",
       "      <td>0.000374</td>\n",
       "      <td>0.000000</td>\n",
       "      <td>0.0</td>\n",
       "      <td>0.000000</td>\n",
       "      <td>0.000000</td>\n",
       "      <td>0.000000</td>\n",
       "      <td>0.000000</td>\n",
       "      <td>0.000000</td>\n",
       "      <td>0.000000</td>\n",
       "      <td>0.000000</td>\n",
       "      <td>0.027985</td>\n",
       "      <td>0.0</td>\n",
       "      <td>0.000000</td>\n",
       "      <td>0.0</td>\n",
       "      <td>0.000000</td>\n",
       "      <td>0.0</td>\n",
       "      <td>0.000000</td>\n",
       "      <td>0.000000</td>\n",
       "      <td>0.0</td>\n",
       "      <td>0.000252</td>\n",
       "      <td>0.000000</td>\n",
       "      <td>0.000000</td>\n",
       "      <td>0.000000</td>\n",
       "      <td>0.000000</td>\n",
       "      <td>0.000332</td>\n",
       "      <td>0.000000</td>\n",
       "      <td>0.000000</td>\n",
       "      <td>0.000000</td>\n",
       "      <td>0.000000</td>\n",
       "      <td>0.0</td>\n",
       "      <td>0.000000</td>\n",
       "      <td>0.000454</td>\n",
       "    </tr>\n",
       "    <tr>\n",
       "      <td>1101</td>\n",
       "      <td>Посаженников</td>\n",
       "      <td>0.000000</td>\n",
       "      <td>0.0</td>\n",
       "      <td>0.000000</td>\n",
       "      <td>0.000000</td>\n",
       "      <td>0.000000</td>\n",
       "      <td>0.000000</td>\n",
       "      <td>0.000000</td>\n",
       "      <td>0.000000</td>\n",
       "      <td>0.000000</td>\n",
       "      <td>0.0</td>\n",
       "      <td>0.000000</td>\n",
       "      <td>0.000000</td>\n",
       "      <td>0.000000</td>\n",
       "      <td>0.000000</td>\n",
       "      <td>0.000000</td>\n",
       "      <td>0.000000</td>\n",
       "      <td>0.000000</td>\n",
       "      <td>0.027985</td>\n",
       "      <td>0.0</td>\n",
       "      <td>0.000000</td>\n",
       "      <td>0.0</td>\n",
       "      <td>0.000000</td>\n",
       "      <td>0.0</td>\n",
       "      <td>0.000000</td>\n",
       "      <td>0.000000</td>\n",
       "      <td>0.0</td>\n",
       "      <td>0.000503</td>\n",
       "      <td>0.000000</td>\n",
       "      <td>0.000000</td>\n",
       "      <td>0.000000</td>\n",
       "      <td>0.000000</td>\n",
       "      <td>0.002991</td>\n",
       "      <td>0.000000</td>\n",
       "      <td>0.000000</td>\n",
       "      <td>0.000000</td>\n",
       "      <td>0.000000</td>\n",
       "      <td>0.0</td>\n",
       "      <td>0.000000</td>\n",
       "      <td>0.000393</td>\n",
       "    </tr>\n",
       "  </tbody>\n",
       "</table>\n",
       "<p>1102 rows × 40 columns</p>\n",
       "</div>"
      ],
      "text/plain": [
       "            person       aif  autonews  championat   commers      echo  \\\n",
       "0            Путин  1.000000       0.0    0.255814  0.564189  1.000000   \n",
       "1         Медведев  0.368627       0.0    1.000000  0.216216  0.144970   \n",
       "2        Президент  0.566667       0.0    0.523256  0.391892  0.245562   \n",
       "3        Порошенко  0.352941       0.0    0.000000  0.103604  0.127219   \n",
       "4            Глава  0.549020       0.0    0.441860  0.691441  0.100592   \n",
       "...            ...       ...       ...         ...       ...       ...   \n",
       "1097        Ризнич  0.000000       0.0    0.000000  0.000000  0.000000   \n",
       "1098        Асафов  0.001961       0.0    0.000000  0.000000  0.000000   \n",
       "1099    Коммунарка  0.000000       0.0    0.000000  0.000000  0.002959   \n",
       "1100        Марьин  0.000000       0.0    0.000000  0.000000  0.005917   \n",
       "1101  Посаженников  0.000000       0.0    0.000000  0.000000  0.000000   \n",
       "\n",
       "       express  fontanka    gazeta   govorit  indicator  interfax        iz  \\\n",
       "0     0.000000  1.000000  1.000000  1.000000        0.3  1.000000  1.000000   \n",
       "1     0.625000  0.257384  0.361869  0.281977        0.2  0.305662  0.257910   \n",
       "2     0.625000  0.143460  0.169346  0.107558        0.2  0.381439  0.255992   \n",
       "3     0.000000  0.156118  0.389907  0.133721        0.0  0.130694  0.300096   \n",
       "4     0.166667  0.248945  0.182430  0.148256        0.0  0.204768  0.258869   \n",
       "...        ...       ...       ...       ...        ...       ...       ...   \n",
       "1097  0.000000  0.000000  0.000000  0.000000        0.0  0.000000  0.000000   \n",
       "1098  0.000000  0.000000  0.000374  0.000000        0.0  0.000000  0.000000   \n",
       "1099  0.000000  0.000000  0.000000  0.000000        0.0  0.000000  0.000959   \n",
       "1100  0.000000  0.000000  0.000374  0.000000        0.0  0.000000  0.000000   \n",
       "1101  0.000000  0.000000  0.000000  0.000000        0.0  0.000000  0.000000   \n",
       "\n",
       "            kp     lenta  mediazona    meduza        mk    moscow  motor  \\\n",
       "0     1.000000  1.000000   0.800000  1.000000  1.000000  0.119403    0.0   \n",
       "1     0.330178  0.316340   0.010526  0.178082  0.225885  0.024254    0.0   \n",
       "2     0.471006  0.146405   0.126316  0.191781  0.173382  0.039179    0.0   \n",
       "3     0.506509  0.380392   0.000000  0.068493  0.087912  0.000000    0.0   \n",
       "4     0.508876  0.287582   0.400000  0.383562  0.173382  0.078358    0.0   \n",
       "...        ...       ...        ...       ...       ...       ...    ...   \n",
       "1097  0.000000  0.000000   0.000000  0.000000  0.000000  0.000000    0.0   \n",
       "1098  0.000000  0.000000   0.000000  0.000000  0.000000  0.000000    0.0   \n",
       "1099  0.000000  0.001307   0.000000  0.000000  0.000000  0.029851    0.0   \n",
       "1100  0.000000  0.000000   0.000000  0.000000  0.000000  0.027985    0.0   \n",
       "1101  0.000000  0.000000   0.000000  0.000000  0.000000  0.027985    0.0   \n",
       "\n",
       "        novaya  nplus1       ntv  postnauka  radiovesti       rbk  review  \\\n",
       "0     1.000000     0.0  1.000000        0.0    0.166667  1.000000     0.0   \n",
       "1     0.251852     0.0  0.211002        0.0    0.666667  0.286965     0.0   \n",
       "2     0.340741     0.0  0.016420        0.0    0.000000  0.229572     0.0   \n",
       "3     0.214815     0.0  0.162562        0.0    0.333333  0.224708     0.0   \n",
       "4     0.329630     0.0  0.040230        0.0    0.000000  0.253891     0.0   \n",
       "...        ...     ...       ...        ...         ...       ...     ...   \n",
       "1097  0.066667     0.0  0.000000        0.0    0.000000  0.000000     0.0   \n",
       "1098  0.000000     0.0  0.000000        0.0    0.000000  0.000000     0.0   \n",
       "1099  0.000000     0.0  0.000000        0.0    0.000000  0.000000     0.0   \n",
       "1100  0.000000     0.0  0.000000        0.0    0.000000  0.000000     0.0   \n",
       "1101  0.000000     0.0  0.000000        0.0    0.000000  0.000000     0.0   \n",
       "\n",
       "           ria  rosgazeta        rt    sports   svoboda      tass   thebell  \\\n",
       "0     1.000000   1.000000  1.000000  0.080979  1.000000  1.000000  1.000000   \n",
       "1     0.358329   0.373147  0.218249  0.587571  0.293532  0.492855  0.346154   \n",
       "2     0.331152   0.162685  0.074599  0.571563  0.203980  0.282818  0.153846   \n",
       "3     0.137896   0.041598  0.361282  0.000000  0.109453  0.104686  0.173077   \n",
       "4     0.211877   0.153213  0.120222  0.296610  0.099502  0.333001  0.038462   \n",
       "...        ...        ...       ...       ...       ...       ...       ...   \n",
       "1097  0.000000   0.000000  0.000000  0.000000  0.000000  0.000000  0.000000   \n",
       "1098  0.000000   0.000000  0.027127  0.000000  0.000000  0.000000  0.000000   \n",
       "1099  0.000252   0.000000  0.005549  0.000000  0.000000  0.001329  0.000000   \n",
       "1100  0.000252   0.000000  0.000000  0.000000  0.000000  0.000332  0.000000   \n",
       "1101  0.000503   0.000000  0.000000  0.000000  0.000000  0.002991  0.000000   \n",
       "\n",
       "           tv1    tvrain  vedomosti  zarulem    zvezda       sum  \n",
       "0     1.000000  1.000000   1.000000      0.0  1.000000  0.664883  \n",
       "1     0.213802  0.161157   0.111776      0.0  0.150407  0.250457  \n",
       "2     0.025878  0.185950   0.191617      0.0  0.121951  0.126375  \n",
       "3     0.043130  0.045455   0.097804      0.0  0.180894  0.125568  \n",
       "4     0.011707  0.190083   0.029940      0.0  0.133130  0.111435  \n",
       "...        ...       ...        ...      ...       ...       ...  \n",
       "1097  0.000000  0.000000   0.000000      0.0  0.000000  0.000600  \n",
       "1098  0.000000  0.000000   0.000000      0.0  0.003049  0.000585  \n",
       "1099  0.000000  0.000000   0.000000      0.0  0.000000  0.000561  \n",
       "1100  0.000000  0.000000   0.000000      0.0  0.000000  0.000454  \n",
       "1101  0.000000  0.000000   0.000000      0.0  0.000000  0.000393  \n",
       "\n",
       "[1102 rows x 40 columns]"
      ]
     },
     "execution_count": 149,
     "metadata": {},
     "output_type": "execute_result"
    }
   ],
   "source": [
    "for media in r.columns[1:-1]:\n",
    "    r = r.sort_values(media, ascending=False)\n",
    "    r[media]/=r[media].iloc[0]\n",
    "r.sort_values('sum', ascending=False)"
   ]
  },
  {
   "cell_type": "code",
   "execution_count": 150,
   "metadata": {},
   "outputs": [
    {
     "data": {
      "text/plain": [
       "Index(['person', 'aif', 'autonews', 'championat', 'commers', 'echo', 'express',\n",
       "       'fontanka', 'gazeta', 'govorit', 'indicator', 'interfax', 'iz', 'kp',\n",
       "       'lenta', 'mediazona', 'meduza', 'mk', 'moscow', 'motor', 'novaya',\n",
       "       'nplus1', 'ntv', 'postnauka', 'radiovesti', 'rbk', 'review', 'ria',\n",
       "       'rosgazeta', 'rt', 'sports', 'svoboda', 'tass', 'thebell', 'tv1',\n",
       "       'tvrain', 'vedomosti', 'zarulem', 'zvezda', 'sum'],\n",
       "      dtype='object')"
      ]
     },
     "execution_count": 150,
     "metadata": {},
     "output_type": "execute_result"
    }
   ],
   "source": [
    "r.columns"
   ]
  },
  {
   "cell_type": "code",
   "execution_count": 151,
   "metadata": {},
   "outputs": [],
   "source": [
    "media_list = ['АиФ', 'Autonews', 'Чемпионат', 'Коммерсант', 'Эхо Москвы', 'Спорт-Экспресс',\n",
    "       'Фонтанка', 'Газета.Ru', 'Говорит Москва', 'Indicator.Ru', 'Интерфакс', 'Известия', 'Комсомольская правда',\n",
    "       'Lenta.Ru', 'Медиазона', 'Meduza', 'Московский Комсомолец', 'Москва24', 'Мотор', 'Новая газета',\n",
    "       'N+1', 'НТВ', 'Постнаука', 'Вести ФМ', 'РБК', 'Авторевю', 'РИА Новости',\n",
    "       'Российская газета', 'RT', 'Sports.ru', 'Радио Свобода', 'ТАСС', 'The Bell', 'Первый канал',\n",
    "       'Дождь', 'Ведомости', 'За рулем', 'Звезда']"
   ]
  },
  {
   "cell_type": "code",
   "execution_count": 152,
   "metadata": {},
   "outputs": [],
   "source": [
    "X = r.iloc[:, 1:-1].values.T"
   ]
  },
  {
   "cell_type": "code",
   "execution_count": 155,
   "metadata": {},
   "outputs": [
    {
     "data": {
      "image/png": "[encoded data removed]",
      "text/plain": [
       "<Figure size 1224x1008 with 1 Axes>"
      ]
     },
     "metadata": {
      "needs_background": "light"
     },
     "output_type": "display_data"
    }
   ],
   "source": [
    "fig = plt.figure(figsize=(17, 14))\n",
    "dendrogram = scipy.cluster.hierarchy.dendrogram(scipy.cluster.hierarchy.linkage(X, method='ward'), \n",
    "                                                orientation='right',\n",
    "                                                distance_sort='ascending')\n",
    "plt.tick_params(labelsize=16, axis='y', labelrotation=0)\n",
    "plt.tick_params(labelsize=16, axis='x')\n",
    "loc, lab = plt.yticks()\n",
    "l = {index:i for index, i in enumerate(media_list)}\n",
    "labels_old = [i.get_text() for i in lab]\n",
    "labels_new = [l[int(i)] for i in labels_old]\n",
    "plt.yticks(loc, labels=labels_new);\n",
    "plt.xticks([]);"
   ]
  },
  {
   "cell_type": "code",
   "execution_count": null,
   "metadata": {},
   "outputs": [],
   "source": []
  },
  {
   "cell_type": "code",
   "execution_count": null,
   "metadata": {},
   "outputs": [],
   "source": []
  },
  {
   "cell_type": "markdown",
   "metadata": {},
   "source": [
    "## Topic Modelling"
   ]
  },
  {
   "cell_type": "code",
   "execution_count": 5,
   "metadata": {},
   "outputs": [
    {
     "data": {
      "application/vnd.jupyter.widget-view+json": {
       "model_id": "4345637610ae43ecb466a29de538a1c8",
       "version_major": 2,
       "version_minor": 0
      },
      "text/plain": [
       "HBox(children=(IntProgress(value=0, max=38), HTML(value='')))"
      ]
     },
     "metadata": {},
     "output_type": "display_data"
    },
    {
     "data": {
      "application/vnd.jupyter.widget-view+json": {
       "model_id": "c15573af85c54bcf95a1d2974760079e",
       "version_major": 2,
       "version_minor": 0
      },
      "text/plain": [
       "HBox(children=(IntProgress(value=0, max=2), HTML(value='')))"
      ]
     },
     "metadata": {},
     "output_type": "display_data"
    },
    {
     "name": "stdout",
     "output_type": "stream",
     "text": [
      "\n"
     ]
    },
    {
     "data": {
      "application/vnd.jupyter.widget-view+json": {
       "model_id": "46b364d9a2c843a1864922bd1796cbfb",
       "version_major": 2,
       "version_minor": 0
      },
      "text/plain": [
       "HBox(children=(IntProgress(value=0, max=3), HTML(value='')))"
      ]
     },
     "metadata": {},
     "output_type": "display_data"
    },
    {
     "name": "stdout",
     "output_type": "stream",
     "text": [
      "\n"
     ]
    },
    {
     "data": {
      "application/vnd.jupyter.widget-view+json": {
       "model_id": "2dc769f50b0d4f7c8013de06ed8ea3c0",
       "version_major": 2,
       "version_minor": 0
      },
      "text/plain": [
       "HBox(children=(IntProgress(value=0, max=2), HTML(value='')))"
      ]
     },
     "metadata": {},
     "output_type": "display_data"
    },
    {
     "name": "stdout",
     "output_type": "stream",
     "text": [
      "\n"
     ]
    },
    {
     "data": {
      "application/vnd.jupyter.widget-view+json": {
       "model_id": "37758dd8823342e89c91a721d59ddd8f",
       "version_major": 2,
       "version_minor": 0
      },
      "text/plain": [
       "HBox(children=(IntProgress(value=0, max=4), HTML(value='')))"
      ]
     },
     "metadata": {},
     "output_type": "display_data"
    },
    {
     "name": "stdout",
     "output_type": "stream",
     "text": [
      "\n"
     ]
    },
    {
     "data": {
      "application/vnd.jupyter.widget-view+json": {
       "model_id": "a1844d3358854075a91de39f2ac73ae8",
       "version_major": 2,
       "version_minor": 0
      },
      "text/plain": [
       "HBox(children=(IntProgress(value=0, max=2), HTML(value='')))"
      ]
     },
     "metadata": {},
     "output_type": "display_data"
    },
    {
     "name": "stdout",
     "output_type": "stream",
     "text": [
      "\n"
     ]
    },
    {
     "data": {
      "application/vnd.jupyter.widget-view+json": {
       "model_id": "848d41717ec2480aaaa7f0ae7052031b",
       "version_major": 2,
       "version_minor": 0
      },
      "text/plain": [
       "HBox(children=(IntProgress(value=0, max=4), HTML(value='')))"
      ]
     },
     "metadata": {},
     "output_type": "display_data"
    },
    {
     "name": "stdout",
     "output_type": "stream",
     "text": [
      "\n"
     ]
    },
    {
     "data": {
      "application/vnd.jupyter.widget-view+json": {
       "model_id": "1b074a4ee6d44ce1953719d0a29f374b",
       "version_major": 2,
       "version_minor": 0
      },
      "text/plain": [
       "HBox(children=(IntProgress(value=0, max=2), HTML(value='')))"
      ]
     },
     "metadata": {},
     "output_type": "display_data"
    },
    {
     "name": "stdout",
     "output_type": "stream",
     "text": [
      "\n"
     ]
    },
    {
     "data": {
      "application/vnd.jupyter.widget-view+json": {
       "model_id": "61ff4b81c4824f9ab3a3472bacba0deb",
       "version_major": 2,
       "version_minor": 0
      },
      "text/plain": [
       "HBox(children=(IntProgress(value=0, max=2), HTML(value='')))"
      ]
     },
     "metadata": {},
     "output_type": "display_data"
    },
    {
     "name": "stdout",
     "output_type": "stream",
     "text": [
      "\n"
     ]
    },
    {
     "data": {
      "application/vnd.jupyter.widget-view+json": {
       "model_id": "57c4f6d6ce8a47ee93118d246d304d24",
       "version_major": 2,
       "version_minor": 0
      },
      "text/plain": [
       "HBox(children=(IntProgress(value=0, max=2), HTML(value='')))"
      ]
     },
     "metadata": {},
     "output_type": "display_data"
    },
    {
     "name": "stdout",
     "output_type": "stream",
     "text": [
      "\n"
     ]
    },
    {
     "data": {
      "application/vnd.jupyter.widget-view+json": {
       "model_id": "46d256b8c9684962a9e488ade78235d3",
       "version_major": 2,
       "version_minor": 0
      },
      "text/plain": [
       "HBox(children=(IntProgress(value=0, max=2), HTML(value='')))"
      ]
     },
     "metadata": {},
     "output_type": "display_data"
    },
    {
     "name": "stdout",
     "output_type": "stream",
     "text": [
      "\n"
     ]
    },
    {
     "data": {
      "application/vnd.jupyter.widget-view+json": {
       "model_id": "6a2b4e86998949399d4dd92daf68f356",
       "version_major": 2,
       "version_minor": 0
      },
      "text/plain": [
       "HBox(children=(IntProgress(value=0, max=2), HTML(value='')))"
      ]
     },
     "metadata": {},
     "output_type": "display_data"
    },
    {
     "name": "stdout",
     "output_type": "stream",
     "text": [
      "\n"
     ]
    },
    {
     "data": {
      "application/vnd.jupyter.widget-view+json": {
       "model_id": "8b3bdea1ab004593b1526f8b9ee2231e",
       "version_major": 2,
       "version_minor": 0
      },
      "text/plain": [
       "HBox(children=(IntProgress(value=0, max=2), HTML(value='')))"
      ]
     },
     "metadata": {},
     "output_type": "display_data"
    },
    {
     "name": "stdout",
     "output_type": "stream",
     "text": [
      "\n"
     ]
    },
    {
     "data": {
      "application/vnd.jupyter.widget-view+json": {
       "model_id": "5f6eb78cb9fc4383b915808446382015",
       "version_major": 2,
       "version_minor": 0
      },
      "text/plain": [
       "HBox(children=(IntProgress(value=0, max=2), HTML(value='')))"
      ]
     },
     "metadata": {},
     "output_type": "display_data"
    },
    {
     "name": "stdout",
     "output_type": "stream",
     "text": [
      "\n"
     ]
    },
    {
     "data": {
      "application/vnd.jupyter.widget-view+json": {
       "model_id": "6da4f76de9be4c89ade10aed1a128c5e",
       "version_major": 2,
       "version_minor": 0
      },
      "text/plain": [
       "HBox(children=(IntProgress(value=0, max=3), HTML(value='')))"
      ]
     },
     "metadata": {},
     "output_type": "display_data"
    },
    {
     "name": "stdout",
     "output_type": "stream",
     "text": [
      "\n"
     ]
    },
    {
     "data": {
      "application/vnd.jupyter.widget-view+json": {
       "model_id": "e3d0a912a39d4e89b817443d372a4760",
       "version_major": 2,
       "version_minor": 0
      },
      "text/plain": [
       "HBox(children=(IntProgress(value=0, max=3), HTML(value='')))"
      ]
     },
     "metadata": {},
     "output_type": "display_data"
    },
    {
     "name": "stdout",
     "output_type": "stream",
     "text": [
      "\n"
     ]
    },
    {
     "data": {
      "application/vnd.jupyter.widget-view+json": {
       "model_id": "9f28fdb4a0e5442fb3200e643c81f67f",
       "version_major": 2,
       "version_minor": 0
      },
      "text/plain": [
       "HBox(children=(IntProgress(value=0, max=3), HTML(value='')))"
      ]
     },
     "metadata": {},
     "output_type": "display_data"
    },
    {
     "name": "stdout",
     "output_type": "stream",
     "text": [
      "\n"
     ]
    },
    {
     "data": {
      "application/vnd.jupyter.widget-view+json": {
       "model_id": "149fee93adad4c1297ab61c42a552072",
       "version_major": 2,
       "version_minor": 0
      },
      "text/plain": [
       "HBox(children=(IntProgress(value=0, max=2), HTML(value='')))"
      ]
     },
     "metadata": {},
     "output_type": "display_data"
    },
    {
     "name": "stdout",
     "output_type": "stream",
     "text": [
      "\n"
     ]
    },
    {
     "data": {
      "application/vnd.jupyter.widget-view+json": {
       "model_id": "71ee7a231fb0436da27e8b7edfea3643",
       "version_major": 2,
       "version_minor": 0
      },
      "text/plain": [
       "HBox(children=(IntProgress(value=0, max=2), HTML(value='')))"
      ]
     },
     "metadata": {},
     "output_type": "display_data"
    },
    {
     "name": "stdout",
     "output_type": "stream",
     "text": [
      "\n"
     ]
    },
    {
     "data": {
      "application/vnd.jupyter.widget-view+json": {
       "model_id": "8c90f4cb6d2c495a94bd9b38c6c8cb6a",
       "version_major": 2,
       "version_minor": 0
      },
      "text/plain": [
       "HBox(children=(IntProgress(value=0, max=2), HTML(value='')))"
      ]
     },
     "metadata": {},
     "output_type": "display_data"
    },
    {
     "name": "stdout",
     "output_type": "stream",
     "text": [
      "\n"
     ]
    },
    {
     "data": {
      "application/vnd.jupyter.widget-view+json": {
       "model_id": "281b610a6bf04a57aeabc743c492233c",
       "version_major": 2,
       "version_minor": 0
      },
      "text/plain": [
       "HBox(children=(IntProgress(value=0, max=2), HTML(value='')))"
      ]
     },
     "metadata": {},
     "output_type": "display_data"
    },
    {
     "name": "stdout",
     "output_type": "stream",
     "text": [
      "\n"
     ]
    },
    {
     "data": {
      "application/vnd.jupyter.widget-view+json": {
       "model_id": "9078ee376f8d4f11ae13d4697cc606bc",
       "version_major": 2,
       "version_minor": 0
      },
      "text/plain": [
       "HBox(children=(IntProgress(value=0, max=1), HTML(value='')))"
      ]
     },
     "metadata": {},
     "output_type": "display_data"
    },
    {
     "name": "stdout",
     "output_type": "stream",
     "text": [
      "\n"
     ]
    },
    {
     "data": {
      "application/vnd.jupyter.widget-view+json": {
       "model_id": "a9c5fe43b5f24bd78bcc2a23f83f6f87",
       "version_major": 2,
       "version_minor": 0
      },
      "text/plain": [
       "HBox(children=(IntProgress(value=0, max=2), HTML(value='')))"
      ]
     },
     "metadata": {},
     "output_type": "display_data"
    },
    {
     "name": "stdout",
     "output_type": "stream",
     "text": [
      "\n"
     ]
    },
    {
     "data": {
      "application/vnd.jupyter.widget-view+json": {
       "model_id": "29d25dce8b03453c874cd61adcaab4df",
       "version_major": 2,
       "version_minor": 0
      },
      "text/plain": [
       "HBox(children=(IntProgress(value=0, max=2), HTML(value='')))"
      ]
     },
     "metadata": {},
     "output_type": "display_data"
    },
    {
     "name": "stdout",
     "output_type": "stream",
     "text": [
      "\n"
     ]
    },
    {
     "data": {
      "application/vnd.jupyter.widget-view+json": {
       "model_id": "0ca0ad2bddb94945a1717492263998f3",
       "version_major": 2,
       "version_minor": 0
      },
      "text/plain": [
       "HBox(children=(IntProgress(value=0, max=1), HTML(value='')))"
      ]
     },
     "metadata": {},
     "output_type": "display_data"
    },
    {
     "name": "stdout",
     "output_type": "stream",
     "text": [
      "\n"
     ]
    },
    {
     "data": {
      "application/vnd.jupyter.widget-view+json": {
       "model_id": "e61ce68eeea54720bf46a949b6a178f6",
       "version_major": 2,
       "version_minor": 0
      },
      "text/plain": [
       "HBox(children=(IntProgress(value=0, max=2), HTML(value='')))"
      ]
     },
     "metadata": {},
     "output_type": "display_data"
    },
    {
     "name": "stdout",
     "output_type": "stream",
     "text": [
      "\n"
     ]
    },
    {
     "data": {
      "application/vnd.jupyter.widget-view+json": {
       "model_id": "368dd58b3e644040b82a168ece035ad6",
       "version_major": 2,
       "version_minor": 0
      },
      "text/plain": [
       "HBox(children=(IntProgress(value=0, max=1), HTML(value='')))"
      ]
     },
     "metadata": {},
     "output_type": "display_data"
    },
    {
     "name": "stdout",
     "output_type": "stream",
     "text": [
      "\n"
     ]
    },
    {
     "data": {
      "application/vnd.jupyter.widget-view+json": {
       "model_id": "d0b454c7afe14f5cba2ce0a52428ad79",
       "version_major": 2,
       "version_minor": 0
      },
      "text/plain": [
       "HBox(children=(IntProgress(value=0, max=1), HTML(value='')))"
      ]
     },
     "metadata": {},
     "output_type": "display_data"
    },
    {
     "name": "stdout",
     "output_type": "stream",
     "text": [
      "\n"
     ]
    },
    {
     "data": {
      "application/vnd.jupyter.widget-view+json": {
       "model_id": "0917777c98bb44cbb7b60f91ec6839a6",
       "version_major": 2,
       "version_minor": 0
      },
      "text/plain": [
       "HBox(children=(IntProgress(value=0, max=1), HTML(value='')))"
      ]
     },
     "metadata": {},
     "output_type": "display_data"
    },
    {
     "name": "stdout",
     "output_type": "stream",
     "text": [
      "\n"
     ]
    },
    {
     "data": {
      "application/vnd.jupyter.widget-view+json": {
       "model_id": "19eae59cebef41e69e6ea32bbbc0432c",
       "version_major": 2,
       "version_minor": 0
      },
      "text/plain": [
       "HBox(children=(IntProgress(value=0, max=3), HTML(value='')))"
      ]
     },
     "metadata": {},
     "output_type": "display_data"
    },
    {
     "name": "stdout",
     "output_type": "stream",
     "text": [
      "\n"
     ]
    },
    {
     "data": {
      "application/vnd.jupyter.widget-view+json": {
       "model_id": "e3a38a3e795b454498dfa07baadd933f",
       "version_major": 2,
       "version_minor": 0
      },
      "text/plain": [
       "HBox(children=(IntProgress(value=0, max=3), HTML(value='')))"
      ]
     },
     "metadata": {},
     "output_type": "display_data"
    },
    {
     "name": "stdout",
     "output_type": "stream",
     "text": [
      "\n"
     ]
    },
    {
     "data": {
      "application/vnd.jupyter.widget-view+json": {
       "model_id": "7da5bc9986bc46c2a7fea81ec0cc82ac",
       "version_major": 2,
       "version_minor": 0
      },
      "text/plain": [
       "HBox(children=(IntProgress(value=0, max=1), HTML(value='')))"
      ]
     },
     "metadata": {},
     "output_type": "display_data"
    },
    {
     "name": "stdout",
     "output_type": "stream",
     "text": [
      "\n"
     ]
    },
    {
     "data": {
      "application/vnd.jupyter.widget-view+json": {
       "model_id": "e10266933dff43929e2969a1351f5f90",
       "version_major": 2,
       "version_minor": 0
      },
      "text/plain": [
       "HBox(children=(IntProgress(value=0, max=1), HTML(value='')))"
      ]
     },
     "metadata": {},
     "output_type": "display_data"
    },
    {
     "name": "stdout",
     "output_type": "stream",
     "text": [
      "\n"
     ]
    },
    {
     "data": {
      "application/vnd.jupyter.widget-view+json": {
       "model_id": "6e54780b531b4ab3855b8f8175446e7d",
       "version_major": 2,
       "version_minor": 0
      },
      "text/plain": [
       "HBox(children=(IntProgress(value=0, max=2), HTML(value='')))"
      ]
     },
     "metadata": {},
     "output_type": "display_data"
    },
    {
     "name": "stdout",
     "output_type": "stream",
     "text": [
      "\n"
     ]
    },
    {
     "data": {
      "application/vnd.jupyter.widget-view+json": {
       "model_id": "57677f653358455fa4c51277bebea47d",
       "version_major": 2,
       "version_minor": 0
      },
      "text/plain": [
       "HBox(children=(IntProgress(value=0, max=14), HTML(value='')))"
      ]
     },
     "metadata": {},
     "output_type": "display_data"
    },
    {
     "name": "stdout",
     "output_type": "stream",
     "text": [
      "\n"
     ]
    },
    {
     "data": {
      "application/vnd.jupyter.widget-view+json": {
       "model_id": "168a1618b8ad4c10b595c779068e9c98",
       "version_major": 2,
       "version_minor": 0
      },
      "text/plain": [
       "HBox(children=(IntProgress(value=0, max=3), HTML(value='')))"
      ]
     },
     "metadata": {},
     "output_type": "display_data"
    },
    {
     "name": "stdout",
     "output_type": "stream",
     "text": [
      "\n"
     ]
    },
    {
     "data": {
      "application/vnd.jupyter.widget-view+json": {
       "model_id": "e7b4dba7bce34dffa704876f1b5210eb",
       "version_major": 2,
       "version_minor": 0
      },
      "text/plain": [
       "HBox(children=(IntProgress(value=0, max=2), HTML(value='')))"
      ]
     },
     "metadata": {},
     "output_type": "display_data"
    },
    {
     "name": "stdout",
     "output_type": "stream",
     "text": [
      "\n"
     ]
    },
    {
     "data": {
      "application/vnd.jupyter.widget-view+json": {
       "model_id": "c80108c085ac4c02b58235043d4cb01f",
       "version_major": 2,
       "version_minor": 0
      },
      "text/plain": [
       "HBox(children=(IntProgress(value=0, max=3), HTML(value='')))"
      ]
     },
     "metadata": {},
     "output_type": "display_data"
    },
    {
     "name": "stdout",
     "output_type": "stream",
     "text": [
      "\n"
     ]
    },
    {
     "data": {
      "application/vnd.jupyter.widget-view+json": {
       "model_id": "e6040fb97ea54baaba7aa1e37cc2b213",
       "version_major": 2,
       "version_minor": 0
      },
      "text/plain": [
       "HBox(children=(IntProgress(value=0, max=2), HTML(value='')))"
      ]
     },
     "metadata": {},
     "output_type": "display_data"
    },
    {
     "name": "stdout",
     "output_type": "stream",
     "text": [
      "\n",
      "\n"
     ]
    },
    {
     "data": {
      "text/plain": [
       "36853"
      ]
     },
     "execution_count": 5,
     "metadata": {},
     "output_type": "execute_result"
    }
   ],
   "source": [
    "for_topics_2 = pd.DataFrame()\n",
    "for media in tqdm_notebook(media_outlets):\n",
    "    size_of_sample = math.floor(1000/len(media_outlets[media]))\n",
    "    for file in tqdm_notebook(media_outlets[media]):\n",
    "        try:\n",
    "            df = pd.read_csv(file)\n",
    "            if size_of_sample > len(df):\n",
    "                size_of_sample = len(df)\n",
    "            sample = random.sample(list(range(len(df))), size_of_sample)\n",
    "            df_100 = df.iloc[sample][['Media', 'Text']]\n",
    "            for_topics_2 = pd.concat([for_topics_2, df_100])\n",
    "        except FileNotFoundError:\n",
    "            print(file)\n",
    "for_topics_2.to_csv('for_topics_2.csv')\n",
    "len(for_topics_2)"
   ]
  },
  {
   "cell_type": "code",
   "execution_count": 73,
   "metadata": {},
   "outputs": [],
   "source": [
    "texts = list(for_topics_2['Text'][for_topics_2['Text'].notna()])"
   ]
  },
  {
   "cell_type": "code",
   "execution_count": 75,
   "metadata": {},
   "outputs": [],
   "source": [
    "vectorizer = CountVectorizer(stop_words = stopwords, max_features = 1000)"
   ]
  },
  {
   "cell_type": "code",
   "execution_count": 76,
   "metadata": {},
   "outputs": [],
   "source": [
    "X_2 = vectorizer.fit_transform(texts)"
   ]
  },
  {
   "cell_type": "code",
   "execution_count": null,
   "metadata": {},
   "outputs": [],
   "source": [
    "clustering = agg_clustering(n_clusters=15).fit(X_2.toarray())"
   ]
  },
  {
   "cell_type": "code",
   "execution_count": null,
   "metadata": {},
   "outputs": [],
   "source": [
    "for_topics_2 = for_topics_2[for_topics_2['Text'].notna()]\n",
    "for_topics_2.to_csv('for_topics_2.csv')"
   ]
  },
  {
   "cell_type": "code",
   "execution_count": 14,
   "metadata": {},
   "outputs": [],
   "source": [
    "for_topics_2 = pd.read_csv('for_topics_2.csv')"
   ]
  },
  {
   "cell_type": "code",
   "execution_count": null,
   "metadata": {},
   "outputs": [],
   "source": [
    "for_topics_2['Label'] = clustering.labels_"
   ]
  },
  {
   "cell_type": "code",
   "execution_count": null,
   "metadata": {},
   "outputs": [],
   "source": [
    "topics_2 = []\n",
    "for media in for_topics_2.Media.unique():\n",
    "    template = {k:0 for k in range(15)}\n",
    "    template.update(dict(for_topics_2[for_topics_2['Media'] == media].groupby('Label')['Label'].count()))\n",
    "    topics_2.append(list(template.values()))"
   ]
  },
  {
   "cell_type": "code",
   "execution_count": 16,
   "metadata": {
    "scrolled": true
   },
   "outputs": [
    {
     "data": {
      "text/html": [
       "<div>\n",
       "<style scoped>\n",
       "    .dataframe tbody tr th:only-of-type {\n",
       "        vertical-align: middle;\n",
       "    }\n",
       "\n",
       "    .dataframe tbody tr th {\n",
       "        vertical-align: top;\n",
       "    }\n",
       "\n",
       "    .dataframe thead th {\n",
       "        text-align: right;\n",
       "    }\n",
       "</style>\n",
       "<table border=\"1\" class=\"dataframe\">\n",
       "  <thead>\n",
       "    <tr style=\"text-align: right;\">\n",
       "      <th></th>\n",
       "      <th>0</th>\n",
       "      <th>1</th>\n",
       "      <th>2</th>\n",
       "      <th>3</th>\n",
       "      <th>4</th>\n",
       "      <th>5</th>\n",
       "      <th>6</th>\n",
       "      <th>7</th>\n",
       "      <th>8</th>\n",
       "      <th>9</th>\n",
       "      <th>10</th>\n",
       "      <th>11</th>\n",
       "      <th>12</th>\n",
       "      <th>13</th>\n",
       "      <th>14</th>\n",
       "    </tr>\n",
       "  </thead>\n",
       "  <tbody>\n",
       "    <tr>\n",
       "      <td>0</td>\n",
       "      <td>0.0</td>\n",
       "      <td>26.0</td>\n",
       "      <td>731.0</td>\n",
       "      <td>109.0</td>\n",
       "      <td>0.0</td>\n",
       "      <td>0.0</td>\n",
       "      <td>59.0</td>\n",
       "      <td>0.0</td>\n",
       "      <td>2.0</td>\n",
       "      <td>0.0</td>\n",
       "      <td>61.0</td>\n",
       "      <td>0.0</td>\n",
       "      <td>5.0</td>\n",
       "      <td>7.0</td>\n",
       "      <td>0.0</td>\n",
       "    </tr>\n",
       "    <tr>\n",
       "      <td>1</td>\n",
       "      <td>2.0</td>\n",
       "      <td>28.0</td>\n",
       "      <td>714.0</td>\n",
       "      <td>104.0</td>\n",
       "      <td>0.0</td>\n",
       "      <td>2.0</td>\n",
       "      <td>20.0</td>\n",
       "      <td>0.0</td>\n",
       "      <td>9.0</td>\n",
       "      <td>0.0</td>\n",
       "      <td>91.0</td>\n",
       "      <td>4.0</td>\n",
       "      <td>8.0</td>\n",
       "      <td>8.0</td>\n",
       "      <td>0.0</td>\n",
       "    </tr>\n",
       "    <tr>\n",
       "      <td>2</td>\n",
       "      <td>0.0</td>\n",
       "      <td>44.0</td>\n",
       "      <td>632.0</td>\n",
       "      <td>83.0</td>\n",
       "      <td>0.0</td>\n",
       "      <td>3.0</td>\n",
       "      <td>40.0</td>\n",
       "      <td>0.0</td>\n",
       "      <td>9.0</td>\n",
       "      <td>0.0</td>\n",
       "      <td>171.0</td>\n",
       "      <td>5.0</td>\n",
       "      <td>6.0</td>\n",
       "      <td>7.0</td>\n",
       "      <td>0.0</td>\n",
       "    </tr>\n",
       "    <tr>\n",
       "      <td>3</td>\n",
       "      <td>0.0</td>\n",
       "      <td>25.0</td>\n",
       "      <td>791.0</td>\n",
       "      <td>107.0</td>\n",
       "      <td>0.0</td>\n",
       "      <td>1.0</td>\n",
       "      <td>27.0</td>\n",
       "      <td>0.0</td>\n",
       "      <td>13.0</td>\n",
       "      <td>0.0</td>\n",
       "      <td>16.0</td>\n",
       "      <td>1.0</td>\n",
       "      <td>4.0</td>\n",
       "      <td>12.0</td>\n",
       "      <td>1.0</td>\n",
       "    </tr>\n",
       "    <tr>\n",
       "      <td>4</td>\n",
       "      <td>0.0</td>\n",
       "      <td>54.0</td>\n",
       "      <td>700.0</td>\n",
       "      <td>96.0</td>\n",
       "      <td>0.0</td>\n",
       "      <td>19.0</td>\n",
       "      <td>29.0</td>\n",
       "      <td>1.0</td>\n",
       "      <td>56.0</td>\n",
       "      <td>0.0</td>\n",
       "      <td>7.0</td>\n",
       "      <td>7.0</td>\n",
       "      <td>18.0</td>\n",
       "      <td>13.0</td>\n",
       "      <td>0.0</td>\n",
       "    </tr>\n",
       "    <tr>\n",
       "      <td>5</td>\n",
       "      <td>0.0</td>\n",
       "      <td>23.0</td>\n",
       "      <td>829.0</td>\n",
       "      <td>86.0</td>\n",
       "      <td>0.0</td>\n",
       "      <td>0.0</td>\n",
       "      <td>27.0</td>\n",
       "      <td>0.0</td>\n",
       "      <td>17.0</td>\n",
       "      <td>0.0</td>\n",
       "      <td>6.0</td>\n",
       "      <td>0.0</td>\n",
       "      <td>2.0</td>\n",
       "      <td>8.0</td>\n",
       "      <td>0.0</td>\n",
       "    </tr>\n",
       "    <tr>\n",
       "      <td>6</td>\n",
       "      <td>0.0</td>\n",
       "      <td>20.0</td>\n",
       "      <td>844.0</td>\n",
       "      <td>58.0</td>\n",
       "      <td>0.0</td>\n",
       "      <td>0.0</td>\n",
       "      <td>45.0</td>\n",
       "      <td>0.0</td>\n",
       "      <td>9.0</td>\n",
       "      <td>0.0</td>\n",
       "      <td>14.0</td>\n",
       "      <td>1.0</td>\n",
       "      <td>3.0</td>\n",
       "      <td>6.0</td>\n",
       "      <td>0.0</td>\n",
       "    </tr>\n",
       "    <tr>\n",
       "      <td>7</td>\n",
       "      <td>0.0</td>\n",
       "      <td>18.0</td>\n",
       "      <td>820.0</td>\n",
       "      <td>82.0</td>\n",
       "      <td>0.0</td>\n",
       "      <td>4.0</td>\n",
       "      <td>30.0</td>\n",
       "      <td>0.0</td>\n",
       "      <td>20.0</td>\n",
       "      <td>0.0</td>\n",
       "      <td>9.0</td>\n",
       "      <td>2.0</td>\n",
       "      <td>2.0</td>\n",
       "      <td>13.0</td>\n",
       "      <td>0.0</td>\n",
       "    </tr>\n",
       "    <tr>\n",
       "      <td>8</td>\n",
       "      <td>0.0</td>\n",
       "      <td>4.0</td>\n",
       "      <td>874.0</td>\n",
       "      <td>24.0</td>\n",
       "      <td>0.0</td>\n",
       "      <td>0.0</td>\n",
       "      <td>47.0</td>\n",
       "      <td>0.0</td>\n",
       "      <td>0.0</td>\n",
       "      <td>0.0</td>\n",
       "      <td>46.0</td>\n",
       "      <td>1.0</td>\n",
       "      <td>1.0</td>\n",
       "      <td>3.0</td>\n",
       "      <td>0.0</td>\n",
       "    </tr>\n",
       "    <tr>\n",
       "      <td>9</td>\n",
       "      <td>0.0</td>\n",
       "      <td>28.0</td>\n",
       "      <td>871.0</td>\n",
       "      <td>23.0</td>\n",
       "      <td>0.0</td>\n",
       "      <td>0.0</td>\n",
       "      <td>55.0</td>\n",
       "      <td>0.0</td>\n",
       "      <td>5.0</td>\n",
       "      <td>0.0</td>\n",
       "      <td>12.0</td>\n",
       "      <td>1.0</td>\n",
       "      <td>2.0</td>\n",
       "      <td>3.0</td>\n",
       "      <td>0.0</td>\n",
       "    </tr>\n",
       "    <tr>\n",
       "      <td>10</td>\n",
       "      <td>0.0</td>\n",
       "      <td>1.0</td>\n",
       "      <td>939.0</td>\n",
       "      <td>23.0</td>\n",
       "      <td>0.0</td>\n",
       "      <td>0.0</td>\n",
       "      <td>24.0</td>\n",
       "      <td>0.0</td>\n",
       "      <td>1.0</td>\n",
       "      <td>0.0</td>\n",
       "      <td>2.0</td>\n",
       "      <td>0.0</td>\n",
       "      <td>2.0</td>\n",
       "      <td>8.0</td>\n",
       "      <td>0.0</td>\n",
       "    </tr>\n",
       "    <tr>\n",
       "      <td>11</td>\n",
       "      <td>0.0</td>\n",
       "      <td>39.0</td>\n",
       "      <td>732.0</td>\n",
       "      <td>100.0</td>\n",
       "      <td>1.0</td>\n",
       "      <td>13.0</td>\n",
       "      <td>46.0</td>\n",
       "      <td>0.0</td>\n",
       "      <td>25.0</td>\n",
       "      <td>0.0</td>\n",
       "      <td>2.0</td>\n",
       "      <td>9.0</td>\n",
       "      <td>24.0</td>\n",
       "      <td>8.0</td>\n",
       "      <td>1.0</td>\n",
       "    </tr>\n",
       "    <tr>\n",
       "      <td>12</td>\n",
       "      <td>0.0</td>\n",
       "      <td>10.0</td>\n",
       "      <td>780.0</td>\n",
       "      <td>163.0</td>\n",
       "      <td>0.0</td>\n",
       "      <td>1.0</td>\n",
       "      <td>19.0</td>\n",
       "      <td>0.0</td>\n",
       "      <td>11.0</td>\n",
       "      <td>0.0</td>\n",
       "      <td>3.0</td>\n",
       "      <td>0.0</td>\n",
       "      <td>7.0</td>\n",
       "      <td>6.0</td>\n",
       "      <td>0.0</td>\n",
       "    </tr>\n",
       "    <tr>\n",
       "      <td>13</td>\n",
       "      <td>0.0</td>\n",
       "      <td>2.0</td>\n",
       "      <td>909.0</td>\n",
       "      <td>62.0</td>\n",
       "      <td>0.0</td>\n",
       "      <td>0.0</td>\n",
       "      <td>21.0</td>\n",
       "      <td>0.0</td>\n",
       "      <td>2.0</td>\n",
       "      <td>0.0</td>\n",
       "      <td>0.0</td>\n",
       "      <td>0.0</td>\n",
       "      <td>0.0</td>\n",
       "      <td>3.0</td>\n",
       "      <td>0.0</td>\n",
       "    </tr>\n",
       "    <tr>\n",
       "      <td>14</td>\n",
       "      <td>0.0</td>\n",
       "      <td>3.0</td>\n",
       "      <td>934.0</td>\n",
       "      <td>27.0</td>\n",
       "      <td>0.0</td>\n",
       "      <td>0.0</td>\n",
       "      <td>26.0</td>\n",
       "      <td>0.0</td>\n",
       "      <td>1.0</td>\n",
       "      <td>0.0</td>\n",
       "      <td>0.0</td>\n",
       "      <td>0.0</td>\n",
       "      <td>0.0</td>\n",
       "      <td>8.0</td>\n",
       "      <td>0.0</td>\n",
       "    </tr>\n",
       "    <tr>\n",
       "      <td>15</td>\n",
       "      <td>0.0</td>\n",
       "      <td>1.0</td>\n",
       "      <td>935.0</td>\n",
       "      <td>31.0</td>\n",
       "      <td>0.0</td>\n",
       "      <td>0.0</td>\n",
       "      <td>21.0</td>\n",
       "      <td>2.0</td>\n",
       "      <td>2.0</td>\n",
       "      <td>0.0</td>\n",
       "      <td>3.0</td>\n",
       "      <td>3.0</td>\n",
       "      <td>0.0</td>\n",
       "      <td>0.0</td>\n",
       "      <td>1.0</td>\n",
       "    </tr>\n",
       "    <tr>\n",
       "      <td>16</td>\n",
       "      <td>0.0</td>\n",
       "      <td>0.0</td>\n",
       "      <td>946.0</td>\n",
       "      <td>33.0</td>\n",
       "      <td>0.0</td>\n",
       "      <td>0.0</td>\n",
       "      <td>12.0</td>\n",
       "      <td>5.0</td>\n",
       "      <td>0.0</td>\n",
       "      <td>0.0</td>\n",
       "      <td>2.0</td>\n",
       "      <td>1.0</td>\n",
       "      <td>0.0</td>\n",
       "      <td>1.0</td>\n",
       "      <td>0.0</td>\n",
       "    </tr>\n",
       "    <tr>\n",
       "      <td>17</td>\n",
       "      <td>1.0</td>\n",
       "      <td>8.0</td>\n",
       "      <td>878.0</td>\n",
       "      <td>67.0</td>\n",
       "      <td>0.0</td>\n",
       "      <td>2.0</td>\n",
       "      <td>24.0</td>\n",
       "      <td>0.0</td>\n",
       "      <td>15.0</td>\n",
       "      <td>0.0</td>\n",
       "      <td>0.0</td>\n",
       "      <td>0.0</td>\n",
       "      <td>5.0</td>\n",
       "      <td>0.0</td>\n",
       "      <td>0.0</td>\n",
       "    </tr>\n",
       "    <tr>\n",
       "      <td>18</td>\n",
       "      <td>0.0</td>\n",
       "      <td>40.0</td>\n",
       "      <td>681.0</td>\n",
       "      <td>51.0</td>\n",
       "      <td>24.0</td>\n",
       "      <td>19.0</td>\n",
       "      <td>60.0</td>\n",
       "      <td>5.0</td>\n",
       "      <td>40.0</td>\n",
       "      <td>10.0</td>\n",
       "      <td>2.0</td>\n",
       "      <td>24.0</td>\n",
       "      <td>17.0</td>\n",
       "      <td>7.0</td>\n",
       "      <td>20.0</td>\n",
       "    </tr>\n",
       "    <tr>\n",
       "      <td>19</td>\n",
       "      <td>0.0</td>\n",
       "      <td>0.0</td>\n",
       "      <td>959.0</td>\n",
       "      <td>4.0</td>\n",
       "      <td>0.0</td>\n",
       "      <td>0.0</td>\n",
       "      <td>35.0</td>\n",
       "      <td>0.0</td>\n",
       "      <td>0.0</td>\n",
       "      <td>0.0</td>\n",
       "      <td>2.0</td>\n",
       "      <td>0.0</td>\n",
       "      <td>0.0</td>\n",
       "      <td>0.0</td>\n",
       "      <td>0.0</td>\n",
       "    </tr>\n",
       "    <tr>\n",
       "      <td>20</td>\n",
       "      <td>0.0</td>\n",
       "      <td>0.0</td>\n",
       "      <td>458.0</td>\n",
       "      <td>2.0</td>\n",
       "      <td>0.0</td>\n",
       "      <td>0.0</td>\n",
       "      <td>0.0</td>\n",
       "      <td>0.0</td>\n",
       "      <td>0.0</td>\n",
       "      <td>0.0</td>\n",
       "      <td>38.0</td>\n",
       "      <td>0.0</td>\n",
       "      <td>0.0</td>\n",
       "      <td>1.0</td>\n",
       "      <td>0.0</td>\n",
       "    </tr>\n",
       "    <tr>\n",
       "      <td>21</td>\n",
       "      <td>0.0</td>\n",
       "      <td>1.0</td>\n",
       "      <td>794.0</td>\n",
       "      <td>96.0</td>\n",
       "      <td>0.0</td>\n",
       "      <td>0.0</td>\n",
       "      <td>3.0</td>\n",
       "      <td>0.0</td>\n",
       "      <td>5.0</td>\n",
       "      <td>0.0</td>\n",
       "      <td>95.0</td>\n",
       "      <td>0.0</td>\n",
       "      <td>0.0</td>\n",
       "      <td>6.0</td>\n",
       "      <td>0.0</td>\n",
       "    </tr>\n",
       "    <tr>\n",
       "      <td>22</td>\n",
       "      <td>0.0</td>\n",
       "      <td>0.0</td>\n",
       "      <td>690.0</td>\n",
       "      <td>31.0</td>\n",
       "      <td>0.0</td>\n",
       "      <td>0.0</td>\n",
       "      <td>0.0</td>\n",
       "      <td>0.0</td>\n",
       "      <td>11.0</td>\n",
       "      <td>0.0</td>\n",
       "      <td>39.0</td>\n",
       "      <td>0.0</td>\n",
       "      <td>0.0</td>\n",
       "      <td>1.0</td>\n",
       "      <td>0.0</td>\n",
       "    </tr>\n",
       "    <tr>\n",
       "      <td>23</td>\n",
       "      <td>0.0</td>\n",
       "      <td>1.0</td>\n",
       "      <td>895.0</td>\n",
       "      <td>100.0</td>\n",
       "      <td>0.0</td>\n",
       "      <td>0.0</td>\n",
       "      <td>2.0</td>\n",
       "      <td>0.0</td>\n",
       "      <td>1.0</td>\n",
       "      <td>0.0</td>\n",
       "      <td>0.0</td>\n",
       "      <td>0.0</td>\n",
       "      <td>0.0</td>\n",
       "      <td>1.0</td>\n",
       "      <td>0.0</td>\n",
       "    </tr>\n",
       "    <tr>\n",
       "      <td>24</td>\n",
       "      <td>0.0</td>\n",
       "      <td>0.0</td>\n",
       "      <td>767.0</td>\n",
       "      <td>215.0</td>\n",
       "      <td>0.0</td>\n",
       "      <td>1.0</td>\n",
       "      <td>1.0</td>\n",
       "      <td>0.0</td>\n",
       "      <td>5.0</td>\n",
       "      <td>0.0</td>\n",
       "      <td>6.0</td>\n",
       "      <td>3.0</td>\n",
       "      <td>2.0</td>\n",
       "      <td>0.0</td>\n",
       "      <td>0.0</td>\n",
       "    </tr>\n",
       "    <tr>\n",
       "      <td>25</td>\n",
       "      <td>0.0</td>\n",
       "      <td>5.0</td>\n",
       "      <td>83.0</td>\n",
       "      <td>42.0</td>\n",
       "      <td>0.0</td>\n",
       "      <td>3.0</td>\n",
       "      <td>0.0</td>\n",
       "      <td>0.0</td>\n",
       "      <td>16.0</td>\n",
       "      <td>0.0</td>\n",
       "      <td>0.0</td>\n",
       "      <td>0.0</td>\n",
       "      <td>2.0</td>\n",
       "      <td>849.0</td>\n",
       "      <td>0.0</td>\n",
       "    </tr>\n",
       "    <tr>\n",
       "      <td>26</td>\n",
       "      <td>0.0</td>\n",
       "      <td>21.0</td>\n",
       "      <td>106.0</td>\n",
       "      <td>90.0</td>\n",
       "      <td>0.0</td>\n",
       "      <td>67.0</td>\n",
       "      <td>0.0</td>\n",
       "      <td>0.0</td>\n",
       "      <td>258.0</td>\n",
       "      <td>0.0</td>\n",
       "      <td>0.0</td>\n",
       "      <td>17.0</td>\n",
       "      <td>7.0</td>\n",
       "      <td>28.0</td>\n",
       "      <td>2.0</td>\n",
       "    </tr>\n",
       "    <tr>\n",
       "      <td>27</td>\n",
       "      <td>0.0</td>\n",
       "      <td>1.0</td>\n",
       "      <td>684.0</td>\n",
       "      <td>61.0</td>\n",
       "      <td>0.0</td>\n",
       "      <td>1.0</td>\n",
       "      <td>0.0</td>\n",
       "      <td>0.0</td>\n",
       "      <td>4.0</td>\n",
       "      <td>0.0</td>\n",
       "      <td>0.0</td>\n",
       "      <td>0.0</td>\n",
       "      <td>0.0</td>\n",
       "      <td>249.0</td>\n",
       "      <td>0.0</td>\n",
       "    </tr>\n",
       "    <tr>\n",
       "      <td>28</td>\n",
       "      <td>1.0</td>\n",
       "      <td>9.0</td>\n",
       "      <td>828.0</td>\n",
       "      <td>40.0</td>\n",
       "      <td>0.0</td>\n",
       "      <td>0.0</td>\n",
       "      <td>60.0</td>\n",
       "      <td>0.0</td>\n",
       "      <td>2.0</td>\n",
       "      <td>0.0</td>\n",
       "      <td>46.0</td>\n",
       "      <td>0.0</td>\n",
       "      <td>6.0</td>\n",
       "      <td>7.0</td>\n",
       "      <td>0.0</td>\n",
       "    </tr>\n",
       "    <tr>\n",
       "      <td>29</td>\n",
       "      <td>0.0</td>\n",
       "      <td>50.0</td>\n",
       "      <td>796.0</td>\n",
       "      <td>79.0</td>\n",
       "      <td>0.0</td>\n",
       "      <td>0.0</td>\n",
       "      <td>42.0</td>\n",
       "      <td>0.0</td>\n",
       "      <td>7.0</td>\n",
       "      <td>0.0</td>\n",
       "      <td>9.0</td>\n",
       "      <td>0.0</td>\n",
       "      <td>8.0</td>\n",
       "      <td>8.0</td>\n",
       "      <td>0.0</td>\n",
       "    </tr>\n",
       "    <tr>\n",
       "      <td>30</td>\n",
       "      <td>0.0</td>\n",
       "      <td>11.0</td>\n",
       "      <td>934.0</td>\n",
       "      <td>19.0</td>\n",
       "      <td>0.0</td>\n",
       "      <td>3.0</td>\n",
       "      <td>2.0</td>\n",
       "      <td>0.0</td>\n",
       "      <td>3.0</td>\n",
       "      <td>0.0</td>\n",
       "      <td>2.0</td>\n",
       "      <td>2.0</td>\n",
       "      <td>22.0</td>\n",
       "      <td>2.0</td>\n",
       "      <td>0.0</td>\n",
       "    </tr>\n",
       "    <tr>\n",
       "      <td>31</td>\n",
       "      <td>0.0</td>\n",
       "      <td>11.0</td>\n",
       "      <td>811.0</td>\n",
       "      <td>59.0</td>\n",
       "      <td>0.0</td>\n",
       "      <td>0.0</td>\n",
       "      <td>54.0</td>\n",
       "      <td>0.0</td>\n",
       "      <td>0.0</td>\n",
       "      <td>0.0</td>\n",
       "      <td>60.0</td>\n",
       "      <td>0.0</td>\n",
       "      <td>2.0</td>\n",
       "      <td>3.0</td>\n",
       "      <td>0.0</td>\n",
       "    </tr>\n",
       "    <tr>\n",
       "      <td>32</td>\n",
       "      <td>0.0</td>\n",
       "      <td>0.0</td>\n",
       "      <td>964.0</td>\n",
       "      <td>19.0</td>\n",
       "      <td>0.0</td>\n",
       "      <td>0.0</td>\n",
       "      <td>1.0</td>\n",
       "      <td>0.0</td>\n",
       "      <td>1.0</td>\n",
       "      <td>0.0</td>\n",
       "      <td>13.0</td>\n",
       "      <td>0.0</td>\n",
       "      <td>0.0</td>\n",
       "      <td>2.0</td>\n",
       "      <td>0.0</td>\n",
       "    </tr>\n",
       "    <tr>\n",
       "      <td>33</td>\n",
       "      <td>0.0</td>\n",
       "      <td>10.0</td>\n",
       "      <td>872.0</td>\n",
       "      <td>40.0</td>\n",
       "      <td>0.0</td>\n",
       "      <td>0.0</td>\n",
       "      <td>47.0</td>\n",
       "      <td>0.0</td>\n",
       "      <td>1.0</td>\n",
       "      <td>0.0</td>\n",
       "      <td>1.0</td>\n",
       "      <td>2.0</td>\n",
       "      <td>5.0</td>\n",
       "      <td>12.0</td>\n",
       "      <td>0.0</td>\n",
       "    </tr>\n",
       "    <tr>\n",
       "      <td>34</td>\n",
       "      <td>0.0</td>\n",
       "      <td>9.0</td>\n",
       "      <td>845.0</td>\n",
       "      <td>93.0</td>\n",
       "      <td>0.0</td>\n",
       "      <td>0.0</td>\n",
       "      <td>12.0</td>\n",
       "      <td>0.0</td>\n",
       "      <td>11.0</td>\n",
       "      <td>0.0</td>\n",
       "      <td>11.0</td>\n",
       "      <td>3.0</td>\n",
       "      <td>4.0</td>\n",
       "      <td>8.0</td>\n",
       "      <td>0.0</td>\n",
       "    </tr>\n",
       "    <tr>\n",
       "      <td>35</td>\n",
       "      <td>0.0</td>\n",
       "      <td>0.0</td>\n",
       "      <td>892.0</td>\n",
       "      <td>106.0</td>\n",
       "      <td>0.0</td>\n",
       "      <td>0.0</td>\n",
       "      <td>0.0</td>\n",
       "      <td>0.0</td>\n",
       "      <td>0.0</td>\n",
       "      <td>0.0</td>\n",
       "      <td>0.0</td>\n",
       "      <td>0.0</td>\n",
       "      <td>1.0</td>\n",
       "      <td>1.0</td>\n",
       "      <td>0.0</td>\n",
       "    </tr>\n",
       "    <tr>\n",
       "      <td>36</td>\n",
       "      <td>0.0</td>\n",
       "      <td>22.0</td>\n",
       "      <td>858.0</td>\n",
       "      <td>52.0</td>\n",
       "      <td>1.0</td>\n",
       "      <td>2.0</td>\n",
       "      <td>21.0</td>\n",
       "      <td>0.0</td>\n",
       "      <td>7.0</td>\n",
       "      <td>0.0</td>\n",
       "      <td>24.0</td>\n",
       "      <td>5.0</td>\n",
       "      <td>1.0</td>\n",
       "      <td>6.0</td>\n",
       "      <td>0.0</td>\n",
       "    </tr>\n",
       "    <tr>\n",
       "      <td>37</td>\n",
       "      <td>0.0</td>\n",
       "      <td>0.0</td>\n",
       "      <td>914.0</td>\n",
       "      <td>58.0</td>\n",
       "      <td>0.0</td>\n",
       "      <td>0.0</td>\n",
       "      <td>0.0</td>\n",
       "      <td>0.0</td>\n",
       "      <td>0.0</td>\n",
       "      <td>0.0</td>\n",
       "      <td>19.0</td>\n",
       "      <td>1.0</td>\n",
       "      <td>0.0</td>\n",
       "      <td>8.0</td>\n",
       "      <td>0.0</td>\n",
       "    </tr>\n",
       "  </tbody>\n",
       "</table>\n",
       "</div>"
      ],
      "text/plain": [
       "      0     1      2      3     4     5     6    7      8     9     10    11  \\\n",
       "0   0.0  26.0  731.0  109.0   0.0   0.0  59.0  0.0    2.0   0.0   61.0   0.0   \n",
       "1   2.0  28.0  714.0  104.0   0.0   2.0  20.0  0.0    9.0   0.0   91.0   4.0   \n",
       "2   0.0  44.0  632.0   83.0   0.0   3.0  40.0  0.0    9.0   0.0  171.0   5.0   \n",
       "3   0.0  25.0  791.0  107.0   0.0   1.0  27.0  0.0   13.0   0.0   16.0   1.0   \n",
       "4   0.0  54.0  700.0   96.0   0.0  19.0  29.0  1.0   56.0   0.0    7.0   7.0   \n",
       "5   0.0  23.0  829.0   86.0   0.0   0.0  27.0  0.0   17.0   0.0    6.0   0.0   \n",
       "6   0.0  20.0  844.0   58.0   0.0   0.0  45.0  0.0    9.0   0.0   14.0   1.0   \n",
       "7   0.0  18.0  820.0   82.0   0.0   4.0  30.0  0.0   20.0   0.0    9.0   2.0   \n",
       "8   0.0   4.0  874.0   24.0   0.0   0.0  47.0  0.0    0.0   0.0   46.0   1.0   \n",
       "9   0.0  28.0  871.0   23.0   0.0   0.0  55.0  0.0    5.0   0.0   12.0   1.0   \n",
       "10  0.0   1.0  939.0   23.0   0.0   0.0  24.0  0.0    1.0   0.0    2.0   0.0   \n",
       "11  0.0  39.0  732.0  100.0   1.0  13.0  46.0  0.0   25.0   0.0    2.0   9.0   \n",
       "12  0.0  10.0  780.0  163.0   0.0   1.0  19.0  0.0   11.0   0.0    3.0   0.0   \n",
       "13  0.0   2.0  909.0   62.0   0.0   0.0  21.0  0.0    2.0   0.0    0.0   0.0   \n",
       "14  0.0   3.0  934.0   27.0   0.0   0.0  26.0  0.0    1.0   0.0    0.0   0.0   \n",
       "15  0.0   1.0  935.0   31.0   0.0   0.0  21.0  2.0    2.0   0.0    3.0   3.0   \n",
       "16  0.0   0.0  946.0   33.0   0.0   0.0  12.0  5.0    0.0   0.0    2.0   1.0   \n",
       "17  1.0   8.0  878.0   67.0   0.0   2.0  24.0  0.0   15.0   0.0    0.0   0.0   \n",
       "18  0.0  40.0  681.0   51.0  24.0  19.0  60.0  5.0   40.0  10.0    2.0  24.0   \n",
       "19  0.0   0.0  959.0    4.0   0.0   0.0  35.0  0.0    0.0   0.0    2.0   0.0   \n",
       "20  0.0   0.0  458.0    2.0   0.0   0.0   0.0  0.0    0.0   0.0   38.0   0.0   \n",
       "21  0.0   1.0  794.0   96.0   0.0   0.0   3.0  0.0    5.0   0.0   95.0   0.0   \n",
       "22  0.0   0.0  690.0   31.0   0.0   0.0   0.0  0.0   11.0   0.0   39.0   0.0   \n",
       "23  0.0   1.0  895.0  100.0   0.0   0.0   2.0  0.0    1.0   0.0    0.0   0.0   \n",
       "24  0.0   0.0  767.0  215.0   0.0   1.0   1.0  0.0    5.0   0.0    6.0   3.0   \n",
       "25  0.0   5.0   83.0   42.0   0.0   3.0   0.0  0.0   16.0   0.0    0.0   0.0   \n",
       "26  0.0  21.0  106.0   90.0   0.0  67.0   0.0  0.0  258.0   0.0    0.0  17.0   \n",
       "27  0.0   1.0  684.0   61.0   0.0   1.0   0.0  0.0    4.0   0.0    0.0   0.0   \n",
       "28  1.0   9.0  828.0   40.0   0.0   0.0  60.0  0.0    2.0   0.0   46.0   0.0   \n",
       "29  0.0  50.0  796.0   79.0   0.0   0.0  42.0  0.0    7.0   0.0    9.0   0.0   \n",
       "30  0.0  11.0  934.0   19.0   0.0   3.0   2.0  0.0    3.0   0.0    2.0   2.0   \n",
       "31  0.0  11.0  811.0   59.0   0.0   0.0  54.0  0.0    0.0   0.0   60.0   0.0   \n",
       "32  0.0   0.0  964.0   19.0   0.0   0.0   1.0  0.0    1.0   0.0   13.0   0.0   \n",
       "33  0.0  10.0  872.0   40.0   0.0   0.0  47.0  0.0    1.0   0.0    1.0   2.0   \n",
       "34  0.0   9.0  845.0   93.0   0.0   0.0  12.0  0.0   11.0   0.0   11.0   3.0   \n",
       "35  0.0   0.0  892.0  106.0   0.0   0.0   0.0  0.0    0.0   0.0    0.0   0.0   \n",
       "36  0.0  22.0  858.0   52.0   1.0   2.0  21.0  0.0    7.0   0.0   24.0   5.0   \n",
       "37  0.0   0.0  914.0   58.0   0.0   0.0   0.0  0.0    0.0   0.0   19.0   1.0   \n",
       "\n",
       "      12     13    14  \n",
       "0    5.0    7.0   0.0  \n",
       "1    8.0    8.0   0.0  \n",
       "2    6.0    7.0   0.0  \n",
       "3    4.0   12.0   1.0  \n",
       "4   18.0   13.0   0.0  \n",
       "5    2.0    8.0   0.0  \n",
       "6    3.0    6.0   0.0  \n",
       "7    2.0   13.0   0.0  \n",
       "8    1.0    3.0   0.0  \n",
       "9    2.0    3.0   0.0  \n",
       "10   2.0    8.0   0.0  \n",
       "11  24.0    8.0   1.0  \n",
       "12   7.0    6.0   0.0  \n",
       "13   0.0    3.0   0.0  \n",
       "14   0.0    8.0   0.0  \n",
       "15   0.0    0.0   1.0  \n",
       "16   0.0    1.0   0.0  \n",
       "17   5.0    0.0   0.0  \n",
       "18  17.0    7.0  20.0  \n",
       "19   0.0    0.0   0.0  \n",
       "20   0.0    1.0   0.0  \n",
       "21   0.0    6.0   0.0  \n",
       "22   0.0    1.0   0.0  \n",
       "23   0.0    1.0   0.0  \n",
       "24   2.0    0.0   0.0  \n",
       "25   2.0  849.0   0.0  \n",
       "26   7.0   28.0   2.0  \n",
       "27   0.0  249.0   0.0  \n",
       "28   6.0    7.0   0.0  \n",
       "29   8.0    8.0   0.0  \n",
       "30  22.0    2.0   0.0  \n",
       "31   2.0    3.0   0.0  \n",
       "32   0.0    2.0   0.0  \n",
       "33   5.0   12.0   0.0  \n",
       "34   4.0    8.0   0.0  \n",
       "35   1.0    1.0   0.0  \n",
       "36   1.0    6.0   0.0  \n",
       "37   0.0    8.0   0.0  "
      ]
     },
     "execution_count": 16,
     "metadata": {},
     "output_type": "execute_result"
    }
   ],
   "source": [
    "topics_2 = pd.read_csv('topics_2_raw.csv')\n",
    "topics_2.drop(['Unnamed: 0'], axis=1, inplace=True)\n",
    "topics_2 = topics_2.astype(float)\n",
    "topics_2"
   ]
  },
  {
   "cell_type": "code",
   "execution_count": 17,
   "metadata": {},
   "outputs": [
    {
     "data": {
      "text/plain": [
       "[[0.0,\n",
       "  26.0,\n",
       "  731.0,\n",
       "  109.0,\n",
       "  0.0,\n",
       "  0.0,\n",
       "  59.0,\n",
       "  0.0,\n",
       "  2.0,\n",
       "  0.0,\n",
       "  61.0,\n",
       "  0.0,\n",
       "  5.0,\n",
       "  7.0,\n",
       "  0.0],\n",
       " [2.0,\n",
       "  28.0,\n",
       "  714.0,\n",
       "  104.0,\n",
       "  0.0,\n",
       "  2.0,\n",
       "  20.0,\n",
       "  0.0,\n",
       "  9.0,\n",
       "  0.0,\n",
       "  91.0,\n",
       "  4.0,\n",
       "  8.0,\n",
       "  8.0,\n",
       "  0.0],\n",
       " [0.0,\n",
       "  44.0,\n",
       "  632.0,\n",
       "  83.0,\n",
       "  0.0,\n",
       "  3.0,\n",
       "  40.0,\n",
       "  0.0,\n",
       "  9.0,\n",
       "  0.0,\n",
       "  171.0,\n",
       "  5.0,\n",
       "  6.0,\n",
       "  7.0,\n",
       "  0.0],\n",
       " [0.0,\n",
       "  25.0,\n",
       "  791.0,\n",
       "  107.0,\n",
       "  0.0,\n",
       "  1.0,\n",
       "  27.0,\n",
       "  0.0,\n",
       "  13.0,\n",
       "  0.0,\n",
       "  16.0,\n",
       "  1.0,\n",
       "  4.0,\n",
       "  12.0,\n",
       "  1.0],\n",
       " [0.0,\n",
       "  54.0,\n",
       "  700.0,\n",
       "  96.0,\n",
       "  0.0,\n",
       "  19.0,\n",
       "  29.0,\n",
       "  1.0,\n",
       "  56.0,\n",
       "  0.0,\n",
       "  7.0,\n",
       "  7.0,\n",
       "  18.0,\n",
       "  13.0,\n",
       "  0.0],\n",
       " [0.0,\n",
       "  23.0,\n",
       "  829.0,\n",
       "  86.0,\n",
       "  0.0,\n",
       "  0.0,\n",
       "  27.0,\n",
       "  0.0,\n",
       "  17.0,\n",
       "  0.0,\n",
       "  6.0,\n",
       "  0.0,\n",
       "  2.0,\n",
       "  8.0,\n",
       "  0.0],\n",
       " [0.0,\n",
       "  20.0,\n",
       "  844.0,\n",
       "  58.0,\n",
       "  0.0,\n",
       "  0.0,\n",
       "  45.0,\n",
       "  0.0,\n",
       "  9.0,\n",
       "  0.0,\n",
       "  14.0,\n",
       "  1.0,\n",
       "  3.0,\n",
       "  6.0,\n",
       "  0.0],\n",
       " [0.0,\n",
       "  18.0,\n",
       "  820.0,\n",
       "  82.0,\n",
       "  0.0,\n",
       "  4.0,\n",
       "  30.0,\n",
       "  0.0,\n",
       "  20.0,\n",
       "  0.0,\n",
       "  9.0,\n",
       "  2.0,\n",
       "  2.0,\n",
       "  13.0,\n",
       "  0.0],\n",
       " [0.0,\n",
       "  4.0,\n",
       "  874.0,\n",
       "  24.0,\n",
       "  0.0,\n",
       "  0.0,\n",
       "  47.0,\n",
       "  0.0,\n",
       "  0.0,\n",
       "  0.0,\n",
       "  46.0,\n",
       "  1.0,\n",
       "  1.0,\n",
       "  3.0,\n",
       "  0.0],\n",
       " [0.0,\n",
       "  28.0,\n",
       "  871.0,\n",
       "  23.0,\n",
       "  0.0,\n",
       "  0.0,\n",
       "  55.0,\n",
       "  0.0,\n",
       "  5.0,\n",
       "  0.0,\n",
       "  12.0,\n",
       "  1.0,\n",
       "  2.0,\n",
       "  3.0,\n",
       "  0.0],\n",
       " [0.0,\n",
       "  1.0,\n",
       "  939.0,\n",
       "  23.0,\n",
       "  0.0,\n",
       "  0.0,\n",
       "  24.0,\n",
       "  0.0,\n",
       "  1.0,\n",
       "  0.0,\n",
       "  2.0,\n",
       "  0.0,\n",
       "  2.0,\n",
       "  8.0,\n",
       "  0.0],\n",
       " [0.0,\n",
       "  39.0,\n",
       "  732.0,\n",
       "  100.0,\n",
       "  1.0,\n",
       "  13.0,\n",
       "  46.0,\n",
       "  0.0,\n",
       "  25.0,\n",
       "  0.0,\n",
       "  2.0,\n",
       "  9.0,\n",
       "  24.0,\n",
       "  8.0,\n",
       "  1.0],\n",
       " [0.0,\n",
       "  10.0,\n",
       "  780.0,\n",
       "  163.0,\n",
       "  0.0,\n",
       "  1.0,\n",
       "  19.0,\n",
       "  0.0,\n",
       "  11.0,\n",
       "  0.0,\n",
       "  3.0,\n",
       "  0.0,\n",
       "  7.0,\n",
       "  6.0,\n",
       "  0.0],\n",
       " [0.0,\n",
       "  2.0,\n",
       "  909.0,\n",
       "  62.0,\n",
       "  0.0,\n",
       "  0.0,\n",
       "  21.0,\n",
       "  0.0,\n",
       "  2.0,\n",
       "  0.0,\n",
       "  0.0,\n",
       "  0.0,\n",
       "  0.0,\n",
       "  3.0,\n",
       "  0.0],\n",
       " [0.0,\n",
       "  3.0,\n",
       "  934.0,\n",
       "  27.0,\n",
       "  0.0,\n",
       "  0.0,\n",
       "  26.0,\n",
       "  0.0,\n",
       "  1.0,\n",
       "  0.0,\n",
       "  0.0,\n",
       "  0.0,\n",
       "  0.0,\n",
       "  8.0,\n",
       "  0.0],\n",
       " [0.0,\n",
       "  1.0,\n",
       "  935.0,\n",
       "  31.0,\n",
       "  0.0,\n",
       "  0.0,\n",
       "  21.0,\n",
       "  2.0,\n",
       "  2.0,\n",
       "  0.0,\n",
       "  3.0,\n",
       "  3.0,\n",
       "  0.0,\n",
       "  0.0,\n",
       "  1.0],\n",
       " [0.0,\n",
       "  0.0,\n",
       "  946.0,\n",
       "  33.0,\n",
       "  0.0,\n",
       "  0.0,\n",
       "  12.0,\n",
       "  5.0,\n",
       "  0.0,\n",
       "  0.0,\n",
       "  2.0,\n",
       "  1.0,\n",
       "  0.0,\n",
       "  1.0,\n",
       "  0.0],\n",
       " [1.0,\n",
       "  8.0,\n",
       "  878.0,\n",
       "  67.0,\n",
       "  0.0,\n",
       "  2.0,\n",
       "  24.0,\n",
       "  0.0,\n",
       "  15.0,\n",
       "  0.0,\n",
       "  0.0,\n",
       "  0.0,\n",
       "  5.0,\n",
       "  0.0,\n",
       "  0.0],\n",
       " [0.0,\n",
       "  40.0,\n",
       "  681.0,\n",
       "  51.0,\n",
       "  24.0,\n",
       "  19.0,\n",
       "  60.0,\n",
       "  5.0,\n",
       "  40.0,\n",
       "  10.0,\n",
       "  2.0,\n",
       "  24.0,\n",
       "  17.0,\n",
       "  7.0,\n",
       "  20.0],\n",
       " [0.0,\n",
       "  0.0,\n",
       "  959.0,\n",
       "  4.0,\n",
       "  0.0,\n",
       "  0.0,\n",
       "  35.0,\n",
       "  0.0,\n",
       "  0.0,\n",
       "  0.0,\n",
       "  2.0,\n",
       "  0.0,\n",
       "  0.0,\n",
       "  0.0,\n",
       "  0.0],\n",
       " [0.0,\n",
       "  0.0,\n",
       "  458.0,\n",
       "  2.0,\n",
       "  0.0,\n",
       "  0.0,\n",
       "  0.0,\n",
       "  0.0,\n",
       "  0.0,\n",
       "  0.0,\n",
       "  38.0,\n",
       "  0.0,\n",
       "  0.0,\n",
       "  1.0,\n",
       "  0.0],\n",
       " [0.0,\n",
       "  1.0,\n",
       "  794.0,\n",
       "  96.0,\n",
       "  0.0,\n",
       "  0.0,\n",
       "  3.0,\n",
       "  0.0,\n",
       "  5.0,\n",
       "  0.0,\n",
       "  95.0,\n",
       "  0.0,\n",
       "  0.0,\n",
       "  6.0,\n",
       "  0.0],\n",
       " [0.0,\n",
       "  0.0,\n",
       "  690.0,\n",
       "  31.0,\n",
       "  0.0,\n",
       "  0.0,\n",
       "  0.0,\n",
       "  0.0,\n",
       "  11.0,\n",
       "  0.0,\n",
       "  39.0,\n",
       "  0.0,\n",
       "  0.0,\n",
       "  1.0,\n",
       "  0.0],\n",
       " [0.0,\n",
       "  1.0,\n",
       "  895.0,\n",
       "  100.0,\n",
       "  0.0,\n",
       "  0.0,\n",
       "  2.0,\n",
       "  0.0,\n",
       "  1.0,\n",
       "  0.0,\n",
       "  0.0,\n",
       "  0.0,\n",
       "  0.0,\n",
       "  1.0,\n",
       "  0.0],\n",
       " [0.0,\n",
       "  0.0,\n",
       "  767.0,\n",
       "  215.0,\n",
       "  0.0,\n",
       "  1.0,\n",
       "  1.0,\n",
       "  0.0,\n",
       "  5.0,\n",
       "  0.0,\n",
       "  6.0,\n",
       "  3.0,\n",
       "  2.0,\n",
       "  0.0,\n",
       "  0.0],\n",
       " [0.0,\n",
       "  5.0,\n",
       "  83.0,\n",
       "  42.0,\n",
       "  0.0,\n",
       "  3.0,\n",
       "  0.0,\n",
       "  0.0,\n",
       "  16.0,\n",
       "  0.0,\n",
       "  0.0,\n",
       "  0.0,\n",
       "  2.0,\n",
       "  849.0,\n",
       "  0.0],\n",
       " [0.0,\n",
       "  21.0,\n",
       "  106.0,\n",
       "  90.0,\n",
       "  0.0,\n",
       "  67.0,\n",
       "  0.0,\n",
       "  0.0,\n",
       "  258.0,\n",
       "  0.0,\n",
       "  0.0,\n",
       "  17.0,\n",
       "  7.0,\n",
       "  28.0,\n",
       "  2.0],\n",
       " [0.0,\n",
       "  1.0,\n",
       "  684.0,\n",
       "  61.0,\n",
       "  0.0,\n",
       "  1.0,\n",
       "  0.0,\n",
       "  0.0,\n",
       "  4.0,\n",
       "  0.0,\n",
       "  0.0,\n",
       "  0.0,\n",
       "  0.0,\n",
       "  249.0,\n",
       "  0.0],\n",
       " [1.0,\n",
       "  9.0,\n",
       "  828.0,\n",
       "  40.0,\n",
       "  0.0,\n",
       "  0.0,\n",
       "  60.0,\n",
       "  0.0,\n",
       "  2.0,\n",
       "  0.0,\n",
       "  46.0,\n",
       "  0.0,\n",
       "  6.0,\n",
       "  7.0,\n",
       "  0.0],\n",
       " [0.0,\n",
       "  50.0,\n",
       "  796.0,\n",
       "  79.0,\n",
       "  0.0,\n",
       "  0.0,\n",
       "  42.0,\n",
       "  0.0,\n",
       "  7.0,\n",
       "  0.0,\n",
       "  9.0,\n",
       "  0.0,\n",
       "  8.0,\n",
       "  8.0,\n",
       "  0.0],\n",
       " [0.0,\n",
       "  11.0,\n",
       "  934.0,\n",
       "  19.0,\n",
       "  0.0,\n",
       "  3.0,\n",
       "  2.0,\n",
       "  0.0,\n",
       "  3.0,\n",
       "  0.0,\n",
       "  2.0,\n",
       "  2.0,\n",
       "  22.0,\n",
       "  2.0,\n",
       "  0.0],\n",
       " [0.0,\n",
       "  11.0,\n",
       "  811.0,\n",
       "  59.0,\n",
       "  0.0,\n",
       "  0.0,\n",
       "  54.0,\n",
       "  0.0,\n",
       "  0.0,\n",
       "  0.0,\n",
       "  60.0,\n",
       "  0.0,\n",
       "  2.0,\n",
       "  3.0,\n",
       "  0.0],\n",
       " [0.0,\n",
       "  0.0,\n",
       "  964.0,\n",
       "  19.0,\n",
       "  0.0,\n",
       "  0.0,\n",
       "  1.0,\n",
       "  0.0,\n",
       "  1.0,\n",
       "  0.0,\n",
       "  13.0,\n",
       "  0.0,\n",
       "  0.0,\n",
       "  2.0,\n",
       "  0.0],\n",
       " [0.0,\n",
       "  10.0,\n",
       "  872.0,\n",
       "  40.0,\n",
       "  0.0,\n",
       "  0.0,\n",
       "  47.0,\n",
       "  0.0,\n",
       "  1.0,\n",
       "  0.0,\n",
       "  1.0,\n",
       "  2.0,\n",
       "  5.0,\n",
       "  12.0,\n",
       "  0.0],\n",
       " [0.0,\n",
       "  9.0,\n",
       "  845.0,\n",
       "  93.0,\n",
       "  0.0,\n",
       "  0.0,\n",
       "  12.0,\n",
       "  0.0,\n",
       "  11.0,\n",
       "  0.0,\n",
       "  11.0,\n",
       "  3.0,\n",
       "  4.0,\n",
       "  8.0,\n",
       "  0.0],\n",
       " [0.0,\n",
       "  0.0,\n",
       "  892.0,\n",
       "  106.0,\n",
       "  0.0,\n",
       "  0.0,\n",
       "  0.0,\n",
       "  0.0,\n",
       "  0.0,\n",
       "  0.0,\n",
       "  0.0,\n",
       "  0.0,\n",
       "  1.0,\n",
       "  1.0,\n",
       "  0.0],\n",
       " [0.0,\n",
       "  22.0,\n",
       "  858.0,\n",
       "  52.0,\n",
       "  1.0,\n",
       "  2.0,\n",
       "  21.0,\n",
       "  0.0,\n",
       "  7.0,\n",
       "  0.0,\n",
       "  24.0,\n",
       "  5.0,\n",
       "  1.0,\n",
       "  6.0,\n",
       "  0.0],\n",
       " [0.0,\n",
       "  0.0,\n",
       "  914.0,\n",
       "  58.0,\n",
       "  0.0,\n",
       "  0.0,\n",
       "  0.0,\n",
       "  0.0,\n",
       "  0.0,\n",
       "  0.0,\n",
       "  19.0,\n",
       "  1.0,\n",
       "  0.0,\n",
       "  8.0,\n",
       "  0.0]]"
      ]
     },
     "execution_count": 17,
     "metadata": {},
     "output_type": "execute_result"
    }
   ],
   "source": [
    "topics_2 = list([list(i) for i in topics_2.values])\n",
    "topics_2"
   ]
  },
  {
   "cell_type": "code",
   "execution_count": 18,
   "metadata": {},
   "outputs": [
    {
     "data": {
      "text/plain": [
       "[array([0.        , 0.03556772, 1.        , 0.14911081, 0.        ,\n",
       "        0.        , 0.08071135, 0.        , 0.00273598, 0.        ,\n",
       "        0.08344733, 0.        , 0.00683995, 0.00957592, 0.        ]),\n",
       " array([0.00280112, 0.03921569, 1.        , 0.14565826, 0.        ,\n",
       "        0.00280112, 0.0280112 , 0.        , 0.01260504, 0.        ,\n",
       "        0.12745098, 0.00560224, 0.01120448, 0.01120448, 0.        ]),\n",
       " array([0.        , 0.06962025, 1.        , 0.13132911, 0.        ,\n",
       "        0.00474684, 0.06329114, 0.        , 0.01424051, 0.        ,\n",
       "        0.27056962, 0.00791139, 0.00949367, 0.01107595, 0.        ]),\n",
       " array([0.        , 0.03160556, 1.        , 0.13527181, 0.        ,\n",
       "        0.00126422, 0.03413401, 0.        , 0.01643489, 0.        ,\n",
       "        0.02022756, 0.00126422, 0.00505689, 0.01517067, 0.00126422]),\n",
       " array([0.        , 0.07714286, 1.        , 0.13714286, 0.        ,\n",
       "        0.02714286, 0.04142857, 0.00142857, 0.08      , 0.        ,\n",
       "        0.01      , 0.01      , 0.02571429, 0.01857143, 0.        ]),\n",
       " array([0.        , 0.02774427, 1.        , 0.10373945, 0.        ,\n",
       "        0.        , 0.03256936, 0.        , 0.02050663, 0.        ,\n",
       "        0.00723764, 0.        , 0.00241255, 0.00965018, 0.        ]),\n",
       " array([0.        , 0.02369668, 1.        , 0.06872038, 0.        ,\n",
       "        0.        , 0.05331754, 0.        , 0.01066351, 0.        ,\n",
       "        0.01658768, 0.00118483, 0.0035545 , 0.007109  , 0.        ]),\n",
       " array([0.        , 0.02195122, 1.        , 0.1       , 0.        ,\n",
       "        0.00487805, 0.03658537, 0.        , 0.02439024, 0.        ,\n",
       "        0.01097561, 0.00243902, 0.00243902, 0.01585366, 0.        ]),\n",
       " array([0.        , 0.00457666, 1.        , 0.02745995, 0.        ,\n",
       "        0.        , 0.05377574, 0.        , 0.        , 0.        ,\n",
       "        0.05263158, 0.00114416, 0.00114416, 0.00343249, 0.        ]),\n",
       " array([0.        , 0.03214696, 1.        , 0.02640643, 0.        ,\n",
       "        0.        , 0.06314581, 0.        , 0.00574053, 0.        ,\n",
       "        0.01377727, 0.00114811, 0.00229621, 0.00344432, 0.        ]),\n",
       " array([0.        , 0.00106496, 1.        , 0.02449414, 0.        ,\n",
       "        0.        , 0.02555911, 0.        , 0.00106496, 0.        ,\n",
       "        0.00212993, 0.        , 0.00212993, 0.0085197 , 0.        ]),\n",
       " array([0.        , 0.05327869, 1.        , 0.13661202, 0.00136612,\n",
       "        0.01775956, 0.06284153, 0.        , 0.03415301, 0.        ,\n",
       "        0.00273224, 0.01229508, 0.03278689, 0.01092896, 0.00136612]),\n",
       " array([0.        , 0.01282051, 1.        , 0.20897436, 0.        ,\n",
       "        0.00128205, 0.02435897, 0.        , 0.01410256, 0.        ,\n",
       "        0.00384615, 0.        , 0.00897436, 0.00769231, 0.        ]),\n",
       " array([0.        , 0.00220022, 1.        , 0.06820682, 0.        ,\n",
       "        0.        , 0.02310231, 0.        , 0.00220022, 0.        ,\n",
       "        0.        , 0.        , 0.        , 0.00330033, 0.        ]),\n",
       " array([0.        , 0.00321199, 1.        , 0.02890792, 0.        ,\n",
       "        0.        , 0.02783726, 0.        , 0.00107066, 0.        ,\n",
       "        0.        , 0.        , 0.        , 0.00856531, 0.        ]),\n",
       " array([0.        , 0.00106952, 1.        , 0.03315508, 0.        ,\n",
       "        0.        , 0.02245989, 0.00213904, 0.00213904, 0.        ,\n",
       "        0.00320856, 0.00320856, 0.        , 0.        , 0.00106952]),\n",
       " array([0.        , 0.        , 1.        , 0.03488372, 0.        ,\n",
       "        0.        , 0.01268499, 0.00528541, 0.        , 0.        ,\n",
       "        0.00211416, 0.00105708, 0.        , 0.00105708, 0.        ]),\n",
       " array([0.00113895, 0.00911162, 1.        , 0.07630979, 0.        ,\n",
       "        0.0022779 , 0.02733485, 0.        , 0.01708428, 0.        ,\n",
       "        0.        , 0.        , 0.00569476, 0.        , 0.        ]),\n",
       " array([0.        , 0.05873715, 1.        , 0.07488987, 0.03524229,\n",
       "        0.02790015, 0.08810573, 0.00734214, 0.05873715, 0.01468429,\n",
       "        0.00293686, 0.03524229, 0.02496329, 0.010279  , 0.02936858]),\n",
       " array([0.        , 0.        , 1.        , 0.00417101, 0.        ,\n",
       "        0.        , 0.03649635, 0.        , 0.        , 0.        ,\n",
       "        0.00208551, 0.        , 0.        , 0.        , 0.        ]),\n",
       " array([0.        , 0.        , 1.        , 0.00436681, 0.        ,\n",
       "        0.        , 0.        , 0.        , 0.        , 0.        ,\n",
       "        0.08296943, 0.        , 0.        , 0.00218341, 0.        ]),\n",
       " array([0.        , 0.00125945, 1.        , 0.1209068 , 0.        ,\n",
       "        0.        , 0.00377834, 0.        , 0.00629723, 0.        ,\n",
       "        0.11964736, 0.        , 0.        , 0.00755668, 0.        ]),\n",
       " array([0.        , 0.        , 1.        , 0.04492754, 0.        ,\n",
       "        0.        , 0.        , 0.        , 0.01594203, 0.        ,\n",
       "        0.05652174, 0.        , 0.        , 0.00144928, 0.        ]),\n",
       " array([0.        , 0.00111732, 1.        , 0.11173184, 0.        ,\n",
       "        0.        , 0.00223464, 0.        , 0.00111732, 0.        ,\n",
       "        0.        , 0.        , 0.        , 0.00111732, 0.        ]),\n",
       " array([0.        , 0.        , 1.        , 0.28031291, 0.        ,\n",
       "        0.00130378, 0.00130378, 0.        , 0.0065189 , 0.        ,\n",
       "        0.00782269, 0.00391134, 0.00260756, 0.        , 0.        ]),\n",
       " array([0.        , 0.00588928, 0.09776207, 0.04946996, 0.        ,\n",
       "        0.00353357, 0.        , 0.        , 0.0188457 , 0.        ,\n",
       "        0.        , 0.        , 0.00235571, 1.        , 0.        ]),\n",
       " array([0.        , 0.08139535, 0.41085271, 0.34883721, 0.        ,\n",
       "        0.25968992, 0.        , 0.        , 1.        , 0.        ,\n",
       "        0.        , 0.06589147, 0.02713178, 0.10852713, 0.00775194]),\n",
       " array([0.        , 0.00146199, 1.        , 0.08918129, 0.        ,\n",
       "        0.00146199, 0.        , 0.        , 0.00584795, 0.        ,\n",
       "        0.        , 0.        , 0.        , 0.36403509, 0.        ]),\n",
       " array([0.00120773, 0.01086957, 1.        , 0.04830918, 0.        ,\n",
       "        0.        , 0.07246377, 0.        , 0.00241546, 0.        ,\n",
       "        0.05555556, 0.        , 0.00724638, 0.00845411, 0.        ]),\n",
       " array([0.        , 0.06281407, 1.        , 0.09924623, 0.        ,\n",
       "        0.        , 0.05276382, 0.        , 0.00879397, 0.        ,\n",
       "        0.01130653, 0.        , 0.01005025, 0.01005025, 0.        ]),\n",
       " array([0.        , 0.0117773 , 1.        , 0.02034261, 0.        ,\n",
       "        0.00321199, 0.00214133, 0.        , 0.00321199, 0.        ,\n",
       "        0.00214133, 0.00214133, 0.0235546 , 0.00214133, 0.        ]),\n",
       " array([0.        , 0.0135635 , 1.        , 0.07274969, 0.        ,\n",
       "        0.        , 0.06658446, 0.        , 0.        , 0.        ,\n",
       "        0.07398274, 0.        , 0.00246609, 0.00369914, 0.        ]),\n",
       " array([0.        , 0.        , 1.        , 0.01970954, 0.        ,\n",
       "        0.        , 0.00103734, 0.        , 0.00103734, 0.        ,\n",
       "        0.01348548, 0.        , 0.        , 0.00207469, 0.        ]),\n",
       " array([0.        , 0.01146789, 1.        , 0.04587156, 0.        ,\n",
       "        0.        , 0.05389908, 0.        , 0.00114679, 0.        ,\n",
       "        0.00114679, 0.00229358, 0.00573394, 0.01376147, 0.        ]),\n",
       " array([0.        , 0.01065089, 1.        , 0.11005917, 0.        ,\n",
       "        0.        , 0.01420118, 0.        , 0.01301775, 0.        ,\n",
       "        0.01301775, 0.0035503 , 0.00473373, 0.00946746, 0.        ]),\n",
       " array([0.        , 0.        , 1.        , 0.11883408, 0.        ,\n",
       "        0.        , 0.        , 0.        , 0.        , 0.        ,\n",
       "        0.        , 0.        , 0.00112108, 0.00112108, 0.        ]),\n",
       " array([0.        , 0.02564103, 1.        , 0.06060606, 0.0011655 ,\n",
       "        0.002331  , 0.02447552, 0.        , 0.00815851, 0.        ,\n",
       "        0.02797203, 0.00582751, 0.0011655 , 0.00699301, 0.        ]),\n",
       " array([0.        , 0.        , 1.        , 0.06345733, 0.        ,\n",
       "        0.        , 0.        , 0.        , 0.        , 0.        ,\n",
       "        0.02078775, 0.00109409, 0.        , 0.00875274, 0.        ])]"
      ]
     },
     "execution_count": 18,
     "metadata": {},
     "output_type": "execute_result"
    }
   ],
   "source": [
    "for indexi, i in enumerate(topics_2):\n",
    "    topics_2[indexi]/=max(i)\n",
    "topics_2"
   ]
  },
  {
   "cell_type": "code",
   "execution_count": 19,
   "metadata": {},
   "outputs": [],
   "source": [
    "media_list = for_topics_2.Media.unique()"
   ]
  },
  {
   "cell_type": "code",
   "execution_count": 20,
   "metadata": {},
   "outputs": [],
   "source": [
    "media_dict = {'tass.ru':'ТАСС', 'kommersant.ru':'Коммерсант', 'vedomosti.ru':'Ведомости', 'rg.ru':'Российская газета',\n",
    "       'novayagazeta.ru':'Новая газета', 'aif.ru':'АиФ', 'izvestiya.ru':'Известия', 'mk.ru':'Московский Комсомолец', 'rbc.ru':'РБК',\n",
    "       'russian.rt.com':'RT', 'lenta.ru':'Lenta.Ru', 'meduza.io':'Meduza', '1tv.ru':'Первый канал', 'ntv.ru':'НТВ',\n",
    "       'tvzvezda.ru':'Звезда', 'tvrain.ru':'Дождь', 'govoritmoskva.ru':'Говорит Москва', 'echo.msk.ru':'Эхо Москвы',\n",
    "       'svoboda.org':'Радио Свобода', 'radiovesti.ru':'Вести ФМ', 'autonews.ru':'Autonews', 'zr.ru':'За рулем',\n",
    "       'autoreview.ru':'Авторевю', 'sport-express.ru':'Спорт-Экспресс', 'championat.ru':'Чемпионат', 'nplus1.ru':'N+1',\n",
    "       'postnauka.ru':'Постнаука', 'indicator.ru':'Indicator.Ru', 'interfax.ru':'Интерфакс', 'gazeta.ru':'Газета.Ru',\n",
    "       'zona.media':'Медиазона', 'thebell.io':'The Bell', 'motor.ru':'Мотор', 'ria.ru':'РИА Новости', 'kp.ru':'Комсомольская правда',\n",
    "       'sports.ru':'Sports.ru', 'fontanka.ru':'Фонтанка', 'mskagency.ru':'Агентство Москва'}"
   ]
  },
  {
   "cell_type": "code",
   "execution_count": 21,
   "metadata": {},
   "outputs": [
    {
     "data": {
      "image/png": "[encoded data removed]",
      "text/plain": [
       "<Figure size 1224x1008 with 1 Axes>"
      ]
     },
     "metadata": {
      "needs_background": "light"
     },
     "output_type": "display_data"
    }
   ],
   "source": [
    "fig = plt.figure(figsize=(17, 14))\n",
    "dendrogram = scipy.cluster.hierarchy.dendrogram(scipy.cluster.hierarchy.linkage(topics_2, method='ward'), \n",
    "                                                orientation='right',\n",
    "                                                distance_sort='ascending')\n",
    "plt.tick_params(labelsize=16, axis='y', labelrotation=0)\n",
    "plt.tick_params(labelsize=16, axis='x')\n",
    "loc, lab = plt.yticks()\n",
    "l = {index:media_dict[i] for index, i in enumerate(media_list)}\n",
    "labels_old = [i.get_text() for i in lab]\n",
    "labels_new = [l[int(i)] for i in labels_old]\n",
    "plt.yticks(loc, labels=labels_new);\n",
    "plt.xticks([]);"
   ]
  },
  {
   "cell_type": "code",
   "execution_count": null,
   "metadata": {},
   "outputs": [],
   "source": []
  },
  {
   "cell_type": "code",
   "execution_count": null,
   "metadata": {},
   "outputs": [],
   "source": []
  }
 ],
 "metadata": {
  "kernelspec": {
   "display_name": "Python 3",
   "language": "python",
   "name": "python3"
  },
  "language_info": {
   "codemirror_mode": {
    "name": "ipython",
    "version": 3
   },
   "file_extension": ".py",
   "mimetype": "text/x-python",
   "name": "python",
   "nbconvert_exporter": "python",
   "pygments_lexer": "ipython3",
   "version": "3.7.4"
  }
 },
 "nbformat": 4,
 "nbformat_minor": 2
}
