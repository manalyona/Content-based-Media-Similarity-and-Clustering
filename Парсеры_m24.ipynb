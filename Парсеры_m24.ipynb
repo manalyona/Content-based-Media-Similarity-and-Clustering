{
 "cells": [
  {
   "cell_type": "code",
   "execution_count": 170,
   "metadata": {},
   "outputs": [],
   "source": [
    "import requests\n",
    "from bs4 import BeautifulSoup as BS\n",
    "import re\n",
    "from math import ceil\n",
    "from tqdm import tqdm_notebook\n",
    "from collections import Counter\n",
    "from collections import defaultdict\n",
    "from operator import itemgetter\n",
    "import pandas as pd\n",
    "import json\n",
    "\n",
    "# import selenium\n",
    "# from selenium import webdriver\n",
    "# from selenium.webdriver.common.keys import Keys\n",
    "import time"
   ]
  },
  {
   "cell_type": "markdown",
   "metadata": {},
   "source": [
    "## M24"
   ]
  },
  {
   "cell_type": "code",
   "execution_count": 29,
   "metadata": {},
   "outputs": [
    {
     "ename": "JSONDecodeError",
     "evalue": "Expecting value: line 1 column 1 (char 0)",
     "output_type": "error",
     "traceback": [
      "\u001b[1;31m---------------------------------------------------------------------------\u001b[0m",
      "\u001b[1;31mJSONDecodeError\u001b[0m                           Traceback (most recent call last)",
      "\u001b[1;32m<ipython-input-29-9ea78139f37d>\u001b[0m in \u001b[0;36m<module>\u001b[1;34m\u001b[0m\n\u001b[0;32m      2\u001b[0m \u001b[0mheaders\u001b[0m \u001b[1;33m=\u001b[0m \u001b[1;33m{\u001b[0m\u001b[1;34m'User-Agent'\u001b[0m\u001b[1;33m:\u001b[0m\u001b[1;34m'Mozilla/5.0 (Windows NT 10.0; Win64; x64; rv:76.0) Gecko/20100101 Firefox/76.0'\u001b[0m\u001b[1;33m}\u001b[0m\u001b[1;33m\u001b[0m\u001b[1;33m\u001b[0m\u001b[0m\n\u001b[0;32m      3\u001b[0m \u001b[0mr\u001b[0m \u001b[1;33m=\u001b[0m \u001b[0mrequests\u001b[0m\u001b[1;33m.\u001b[0m\u001b[0mget\u001b[0m\u001b[1;33m(\u001b[0m\u001b[0mlink\u001b[0m\u001b[1;33m,\u001b[0m \u001b[0mheaders\u001b[0m\u001b[1;33m=\u001b[0m\u001b[0mheaders\u001b[0m\u001b[1;33m)\u001b[0m\u001b[1;33m\u001b[0m\u001b[1;33m\u001b[0m\u001b[0m\n\u001b[1;32m----> 4\u001b[1;33m \u001b[0mr\u001b[0m\u001b[1;33m.\u001b[0m\u001b[0mjson\u001b[0m\u001b[1;33m(\u001b[0m\u001b[1;33m)\u001b[0m\u001b[1;33m\u001b[0m\u001b[1;33m\u001b[0m\u001b[0m\n\u001b[0m",
      "\u001b[1;32m~\\Anaconda3\\lib\\site-packages\\requests\\models.py\u001b[0m in \u001b[0;36mjson\u001b[1;34m(self, **kwargs)\u001b[0m\n\u001b[0;32m    895\u001b[0m                     \u001b[1;31m# used.\u001b[0m\u001b[1;33m\u001b[0m\u001b[1;33m\u001b[0m\u001b[1;33m\u001b[0m\u001b[0m\n\u001b[0;32m    896\u001b[0m                     \u001b[1;32mpass\u001b[0m\u001b[1;33m\u001b[0m\u001b[1;33m\u001b[0m\u001b[0m\n\u001b[1;32m--> 897\u001b[1;33m         \u001b[1;32mreturn\u001b[0m \u001b[0mcomplexjson\u001b[0m\u001b[1;33m.\u001b[0m\u001b[0mloads\u001b[0m\u001b[1;33m(\u001b[0m\u001b[0mself\u001b[0m\u001b[1;33m.\u001b[0m\u001b[0mtext\u001b[0m\u001b[1;33m,\u001b[0m \u001b[1;33m**\u001b[0m\u001b[0mkwargs\u001b[0m\u001b[1;33m)\u001b[0m\u001b[1;33m\u001b[0m\u001b[1;33m\u001b[0m\u001b[0m\n\u001b[0m\u001b[0;32m    898\u001b[0m \u001b[1;33m\u001b[0m\u001b[0m\n\u001b[0;32m    899\u001b[0m     \u001b[1;33m@\u001b[0m\u001b[0mproperty\u001b[0m\u001b[1;33m\u001b[0m\u001b[1;33m\u001b[0m\u001b[0m\n",
      "\u001b[1;32m~\\Anaconda3\\lib\\json\\__init__.py\u001b[0m in \u001b[0;36mloads\u001b[1;34m(s, encoding, cls, object_hook, parse_float, parse_int, parse_constant, object_pairs_hook, **kw)\u001b[0m\n\u001b[0;32m    346\u001b[0m             \u001b[0mparse_int\u001b[0m \u001b[1;32mis\u001b[0m \u001b[1;32mNone\u001b[0m \u001b[1;32mand\u001b[0m \u001b[0mparse_float\u001b[0m \u001b[1;32mis\u001b[0m \u001b[1;32mNone\u001b[0m \u001b[1;32mand\u001b[0m\u001b[1;33m\u001b[0m\u001b[1;33m\u001b[0m\u001b[0m\n\u001b[0;32m    347\u001b[0m             parse_constant is None and object_pairs_hook is None and not kw):\n\u001b[1;32m--> 348\u001b[1;33m         \u001b[1;32mreturn\u001b[0m \u001b[0m_default_decoder\u001b[0m\u001b[1;33m.\u001b[0m\u001b[0mdecode\u001b[0m\u001b[1;33m(\u001b[0m\u001b[0ms\u001b[0m\u001b[1;33m)\u001b[0m\u001b[1;33m\u001b[0m\u001b[1;33m\u001b[0m\u001b[0m\n\u001b[0m\u001b[0;32m    349\u001b[0m     \u001b[1;32mif\u001b[0m \u001b[0mcls\u001b[0m \u001b[1;32mis\u001b[0m \u001b[1;32mNone\u001b[0m\u001b[1;33m:\u001b[0m\u001b[1;33m\u001b[0m\u001b[1;33m\u001b[0m\u001b[0m\n\u001b[0;32m    350\u001b[0m         \u001b[0mcls\u001b[0m \u001b[1;33m=\u001b[0m \u001b[0mJSONDecoder\u001b[0m\u001b[1;33m\u001b[0m\u001b[1;33m\u001b[0m\u001b[0m\n",
      "\u001b[1;32m~\\Anaconda3\\lib\\json\\decoder.py\u001b[0m in \u001b[0;36mdecode\u001b[1;34m(self, s, _w)\u001b[0m\n\u001b[0;32m    335\u001b[0m \u001b[1;33m\u001b[0m\u001b[0m\n\u001b[0;32m    336\u001b[0m         \"\"\"\n\u001b[1;32m--> 337\u001b[1;33m         \u001b[0mobj\u001b[0m\u001b[1;33m,\u001b[0m \u001b[0mend\u001b[0m \u001b[1;33m=\u001b[0m \u001b[0mself\u001b[0m\u001b[1;33m.\u001b[0m\u001b[0mraw_decode\u001b[0m\u001b[1;33m(\u001b[0m\u001b[0ms\u001b[0m\u001b[1;33m,\u001b[0m \u001b[0midx\u001b[0m\u001b[1;33m=\u001b[0m\u001b[0m_w\u001b[0m\u001b[1;33m(\u001b[0m\u001b[0ms\u001b[0m\u001b[1;33m,\u001b[0m \u001b[1;36m0\u001b[0m\u001b[1;33m)\u001b[0m\u001b[1;33m.\u001b[0m\u001b[0mend\u001b[0m\u001b[1;33m(\u001b[0m\u001b[1;33m)\u001b[0m\u001b[1;33m)\u001b[0m\u001b[1;33m\u001b[0m\u001b[1;33m\u001b[0m\u001b[0m\n\u001b[0m\u001b[0;32m    338\u001b[0m         \u001b[0mend\u001b[0m \u001b[1;33m=\u001b[0m \u001b[0m_w\u001b[0m\u001b[1;33m(\u001b[0m\u001b[0ms\u001b[0m\u001b[1;33m,\u001b[0m \u001b[0mend\u001b[0m\u001b[1;33m)\u001b[0m\u001b[1;33m.\u001b[0m\u001b[0mend\u001b[0m\u001b[1;33m(\u001b[0m\u001b[1;33m)\u001b[0m\u001b[1;33m\u001b[0m\u001b[1;33m\u001b[0m\u001b[0m\n\u001b[0;32m    339\u001b[0m         \u001b[1;32mif\u001b[0m \u001b[0mend\u001b[0m \u001b[1;33m!=\u001b[0m \u001b[0mlen\u001b[0m\u001b[1;33m(\u001b[0m\u001b[0ms\u001b[0m\u001b[1;33m)\u001b[0m\u001b[1;33m:\u001b[0m\u001b[1;33m\u001b[0m\u001b[1;33m\u001b[0m\u001b[0m\n",
      "\u001b[1;32m~\\Anaconda3\\lib\\json\\decoder.py\u001b[0m in \u001b[0;36mraw_decode\u001b[1;34m(self, s, idx)\u001b[0m\n\u001b[0;32m    353\u001b[0m             \u001b[0mobj\u001b[0m\u001b[1;33m,\u001b[0m \u001b[0mend\u001b[0m \u001b[1;33m=\u001b[0m \u001b[0mself\u001b[0m\u001b[1;33m.\u001b[0m\u001b[0mscan_once\u001b[0m\u001b[1;33m(\u001b[0m\u001b[0ms\u001b[0m\u001b[1;33m,\u001b[0m \u001b[0midx\u001b[0m\u001b[1;33m)\u001b[0m\u001b[1;33m\u001b[0m\u001b[1;33m\u001b[0m\u001b[0m\n\u001b[0;32m    354\u001b[0m         \u001b[1;32mexcept\u001b[0m \u001b[0mStopIteration\u001b[0m \u001b[1;32mas\u001b[0m \u001b[0merr\u001b[0m\u001b[1;33m:\u001b[0m\u001b[1;33m\u001b[0m\u001b[1;33m\u001b[0m\u001b[0m\n\u001b[1;32m--> 355\u001b[1;33m             \u001b[1;32mraise\u001b[0m \u001b[0mJSONDecodeError\u001b[0m\u001b[1;33m(\u001b[0m\u001b[1;34m\"Expecting value\"\u001b[0m\u001b[1;33m,\u001b[0m \u001b[0ms\u001b[0m\u001b[1;33m,\u001b[0m \u001b[0merr\u001b[0m\u001b[1;33m.\u001b[0m\u001b[0mvalue\u001b[0m\u001b[1;33m)\u001b[0m \u001b[1;32mfrom\u001b[0m \u001b[1;32mNone\u001b[0m\u001b[1;33m\u001b[0m\u001b[1;33m\u001b[0m\u001b[0m\n\u001b[0m\u001b[0;32m    356\u001b[0m         \u001b[1;32mreturn\u001b[0m \u001b[0mobj\u001b[0m\u001b[1;33m,\u001b[0m \u001b[0mend\u001b[0m\u001b[1;33m\u001b[0m\u001b[1;33m\u001b[0m\u001b[0m\n",
      "\u001b[1;31mJSONDecodeError\u001b[0m: Expecting value: line 1 column 1 (char 0)"
     ]
    }
   ],
   "source": [
    "link = 'https://www.m24.ru/news?page=2&ajax=1&date=7.5'\n",
    "headers = {'User-Agent':'Mozilla/5.0 (Windows NT 10.0; Win64; x64; rv:76.0) Gecko/20100101 Firefox/76.0'}\n",
    "r = requests.get(link, headers=headers)\n",
    "r.json()"
   ]
  },
  {
   "cell_type": "code",
   "execution_count": null,
   "metadata": {},
   "outputs": [],
   "source": []
  },
  {
   "cell_type": "code",
   "execution_count": null,
   "metadata": {},
   "outputs": [],
   "source": []
  },
  {
   "cell_type": "markdown",
   "metadata": {},
   "source": [
    "## Sport24"
   ]
  },
  {
   "cell_type": "code",
   "execution_count": 56,
   "metadata": {},
   "outputs": [
    {
     "data": {
      "text/plain": [
       "(59,\n",
       " {'id': 'f2c5aba1-7eba-4691-8bf3-a760b390b86b',\n",
       "  'title': 'Лескано: «Аршавин по\\xa0итогам матча «Ливерпуль»\\xa0— «Арсенал» должен был получить Золотой мяч»',\n",
       "  'type': 'news',\n",
       "  'urn': '2020-04-07-leskano-arshavin-po-itogam-matcha-liverpul---arsenal-dolzhen-byl-poluchit-zolotoy-myach',\n",
       "  'publishDate': 1586272200000,\n",
       "  'leadAnnouncement': [],\n",
       "  'sport': {'id': 'f7d36231-31d5-44d1-9b65-8a1c24d1261d',\n",
       "   'title': 'Футбол',\n",
       "   'name': 'Футбол',\n",
       "   'urn': 'football',\n",
       "   'color': '#08995C',\n",
       "   'sportImage': '/m/c546/851c/dfc4/0b32/c784/6a3f/d597/db35/1280_640_max.jpeg',\n",
       "   'mobileBackground': '/m/12d9/5a4e/25c6/443a/99e5/21ed/274b/3ae3/400_400_max.png',\n",
       "   'image': '/m/1b54/c17c/2a30/02ae/4bd0/f984/0849/fbc8/400_400_max.png'},\n",
       "  'competition': None,\n",
       "  'author': {'firstName': 'Редакция',\n",
       "   'lastName': 'Sport24',\n",
       "   'image': '/m/f77b/7fd8/0867/a432/bae7/dbf6/5da1/44c1/300_300_max.jpeg',\n",
       "   'birthday': None,\n",
       "   'instagramLink': None,\n",
       "   'twitterLink': None,\n",
       "   'id': '86ed37a1-bd11-4a4e-bcc2-380f10dba84a'},\n",
       "  'previewImage': None,\n",
       "  'withVideo': False,\n",
       "  'withAudio': False,\n",
       "  'withGallery': False,\n",
       "  'hideLive': False,\n",
       "  'top': False,\n",
       "  'withTest': False,\n",
       "  'label': None,\n",
       "  'commentsCount': 0,\n",
       "  'link': None,\n",
       "  'status': None,\n",
       "  'data': None,\n",
       "  'videoImage': None,\n",
       "  'meta': {}})"
      ]
     },
     "execution_count": 56,
     "metadata": {},
     "output_type": "execute_result"
    }
   ],
   "source": [
    "link = 'https://api0.sport24.ru/api/8news/news/mainPage/news?limit=200&offset=5810&tab=all'\n",
    "r = requests.get(link)\n",
    "len(r.json()), r.json()[0] "
   ]
  },
  {
   "cell_type": "code",
   "execution_count": 63,
   "metadata": {
    "scrolled": true
   },
   "outputs": [
    {
     "data": {
      "text/plain": [
       "(40,\n",
       " {'id': '73f9fed5-0c52-444e-81fd-70997ab8f9ac',\n",
       "  'title': 'Синицина и\\xa0Кацалапов выиграли танцевальный баттл на\\xa0ЧР! Для России начинается новая эра в\\xa0этом виде',\n",
       "  'type': 'article',\n",
       "  'urn': '2018-12-21-sinitsina-i-katsalapov---chempiony-rossii-v-tantsakh-na-ldu-stepanovabukin---vtoryye-yevdokimovabazin---treti-foto-video-instagram-tvitter',\n",
       "  'publishDate': 1545422400000,\n",
       "  'leadAnnouncement': [['p',\n",
       "    [['Степанова/Букин третий год подряд вторые.']],\n",
       "    {}]],\n",
       "  'sport': {'id': 'fa904cdc-c812-4e82-9b21-35329c609bf8',\n",
       "   'title': 'Другое',\n",
       "   'name': 'Другие виды спорта',\n",
       "   'urn': 'other',\n",
       "   'color': '#566473',\n",
       "   'sportImage': '/m/06af/2dff/98e5/8437/39bc/e5f9/e545/edd5/1280_640_max.jpeg',\n",
       "   'image': '/m/db11/6463/cd6b/5b95/a5d9/ed74/7e8a/b025/400_400_max.png'},\n",
       "  'competition': None,\n",
       "  'author': {'firstName': 'Владимир',\n",
       "   'lastName': 'Афанасьев',\n",
       "   'image': '/m/152d/f645/fbb7/fd24/fdc2/5cb9/5614/c700/300_300_max.jpeg',\n",
       "   'birthday': None,\n",
       "   'instagramLink': None,\n",
       "   'twitterLink': None,\n",
       "   'id': 'bd5703e0-9f73-41f3-aa99-1b38c8d486fe'},\n",
       "  'previewImage': {'id': '5057c1d2-90be-4228-99ab-2b0cc05a3222',\n",
       "   'image': '9bdc/44f9/bf8d/7c0e/db0f/5331/aa19/af23/1600_900.jpeg',\n",
       "   'copyright': 'Александр Мысякин, Sport24',\n",
       "   'description': None,\n",
       "   'mediatekaPhotoUrn': None,\n",
       "   'externalImage': False,\n",
       "   'imageForMobile': None},\n",
       "  'withVideo': False,\n",
       "  'withAudio': False,\n",
       "  'withGallery': False,\n",
       "  'hideLive': False,\n",
       "  'top': False,\n",
       "  'withTest': False,\n",
       "  'label': None,\n",
       "  'commentsCount': 0,\n",
       "  'link': None,\n",
       "  'status': None,\n",
       "  'data': None,\n",
       "  'videoImage': None,\n",
       "  'meta': {'image': '/m/6121/cbef/326a/6692/2716/a205/b33d/e42f/1200_630.png',\n",
       "   'metaTitle': 'Синицина и Кацалапов - чемпионы России в танцах на льду. Степанова/Букин - вторые, Евдокимова/Базин - третьи. Фото, видео, инстаграм, твиттер.',\n",
       "   'description': 'Степанова/Букин третий год подряд вторые.',\n",
       "   'vkImage': '/m/6eb9/6074/4994/f6bc/a186/4031/124e/bd0d/537_240.png',\n",
       "   'title': 'Синицина и\\xa0Кацалапов выиграли танцевальный баттл на\\xa0ЧР! Для России начинается новая эра в\\xa0этом виде'}})"
      ]
     },
     "execution_count": 63,
     "metadata": {},
     "output_type": "execute_result"
    }
   ],
   "source": [
    "link = 'https://api0.sport24.ru/api/8news/news/mainPage/feed?offset=11100&limit=40'\n",
    "r = requests.get(link)\n",
    "len(r.json()), r.json()[0] "
   ]
  },
  {
   "cell_type": "code",
   "execution_count": 76,
   "metadata": {},
   "outputs": [],
   "source": [
    "link = 'https://sport24.ru/search?text=%D1%87%D1%82%D0%BE&page=3'\n",
    "headers = {'User-Agent':'Mozilla/5.0 (Windows NT 10.0; Win64; x64; rv:76.0) Gecko/20100101 Firefox/76.0'}\n",
    "r = requests.get(link, headers=headers)\n",
    "soup = BS(r.text)"
   ]
  },
  {
   "cell_type": "code",
   "execution_count": 77,
   "metadata": {},
   "outputs": [
    {
     "data": {
      "text/plain": [
       "<!DOCTYPE html>\n",
       "<html lang=\"ru\"><head>\n",
       "<meta charset=\"utf-8\" data-react-helmet=\"true\"/><meta content=\"width=device-width, initial-scale=1, maximum-scale=1, minimum-scale=1, user-scalable=no\" data-react-helmet=\"true\" name=\"viewport\"/><meta content=\"u9G2-RbHNa5sNGquexw5ukcZzwyZ2i4AoORmwwYP0B0\" data-react-helmet=\"true\" name=\"google-site-verification\"/><meta content=\"4zMZFhLQ1BuSx-gwwmVw3KxhHJczQFfQDXbUVNNmGGs\" data-react-helmet=\"true\" name=\"google-site-verification\"/><meta content=\"8163fad1b0115728\" data-react-helmet=\"true\" name=\"yandex-verification\"/><meta content=\"ef6768a2e4cc4d2c\" data-react-helmet=\"true\" name=\"yandex-verification\"/><meta content=\"517c3520dc2f1b47\" data-react-helmet=\"true\" name=\"yandex-verification\"/><meta content=\"2d4297732fdbd6af\" data-react-helmet=\"true\" name=\"yandex-verification\"/><meta content=\"26193f81f644da4a\" data-react-helmet=\"true\" name=\"yandex-verification\"/><meta content=\"dd4d5d3003dc071df4fefdc9e156b619\" data-react-helmet=\"true\" name=\"pmail-verification\"/><meta content=\"\" data-react-helmet=\"true\" property=\"og:image\"/><meta content=\"1200\" data-react-helmet=\"true\" property=\"og:image:width\"/><meta content=\"630\" data-react-helmet=\"true\" property=\"og:image:height\"/><meta content=\"summary_large_image\" data-react-helmet=\"true\" name=\"twitter:card\"/><meta content=\"@sport24_ru\" data-react-helmet=\"true\" name=\"twitter:site\"/><meta content=\"\" data-react-helmet=\"true\" name=\"twitter:image\"/><meta content=\"#ffffff\" data-react-helmet=\"true\" name=\"msapplication-TileColor\"/><meta content=\"https://s73937.cdn.ngenix.net/public/src/assets/favicon/mstile-150x150.png\" data-react-helmet=\"true\" name=\"msapplication-TileImage\"/><meta content=\"https://s73937.cdn.ngenix.net/public/src/assets/favicon/mstile-150x150.png\" data-react-helmet=\"true\" name=\"msapplication-square150x150logo\"/><meta content=\"https://s73937.cdn.ngenix.net/public/src/assets/favicon/browserconfig.xml\" data-react-helmet=\"true\" name=\"msapplication-config\"/><meta content=\"https://sport24.ru/search\" data-react-helmet=\"true\" property=\"og:url\"/><meta content=\"Поиск на сайте - Новости спорта Sport24\" data-react-helmet=\"true\" property=\"og:title\"/><meta content=\"Поиск на сайте - Новости спорта Sport24\" data-react-helmet=\"true\" name=\"twitter:title\"/><meta content=\"Поиск на сайте новостей спорта Sport24\" data-react-helmet=\"true\" name=\"description\"/><meta content=\"Поиск на сайте новостей спорта Sport24\" data-react-helmet=\"true\" property=\"og:description\"/><meta content=\"поиск на сайте, новости спорта Sport24\" data-react-helmet=\"true\" name=\"keywords\"/>\n",
       "<link data-react-helmet=\"true\" href=\"https://s73937.cdn.ngenix.net/public/src/assets/favicon/manifest.json\" rel=\"manifest\"/><link data-react-helmet=\"true\" href=\"https://s73937.cdn.ngenix.net/public/src/assets/favicon/favicon.ico\" rel=\"shortcut icon\" type=\"image/x-icon\"/><link data-react-helmet=\"true\" href=\"https://s73937.cdn.ngenix.net/public/src/assets/favicon/32x32.png\" rel=\"shortcut icon\" type=\"image/png\"/><link data-react-helmet=\"true\" href=\"https://s73937.cdn.ngenix.net/public/src/assets/favicon/192x192.png\" rel=\"icon\" sizes=\"192x192\" type=\"image/png\"/><link data-react-helmet=\"true\" href=\"https://s73937.cdn.ngenix.net/public/src/assets/favicon/512x512.png\" rel=\"icon\" sizes=\"512x512\" type=\"image/png\"/><link data-react-helmet=\"true\" href=\"https://s73937.cdn.ngenix.net/public/src/assets/favicon/180x180.png\" rel=\"apple-touch-icon\"/><link data-react-helmet=\"true\" href=\"https://s73937.cdn.ngenix.net/public/src/assets/favicon/180x180.png\" rel=\"apple-touch-icon-precomposed\" sizes=\"192x192\"/><link color=\"black\" data-react-helmet=\"true\" href=\"https://s73937.cdn.ngenix.net/public/src/assets/favicon/safari-pinned-tab.svg\" rel=\"mask-icon\"/><link data-react-helmet=\"true\" href=\"https://www.googletagmanager.com\" rel=\"dns-prefetch\"/><link data-react-helmet=\"true\" href=\"https://static.wi-fi.ru\" rel=\"dns-prefetch\"/><link data-react-helmet=\"true\" href=\"https://cdn01.nativeroll.tv\" rel=\"dns-prefetch\"/><link data-react-helmet=\"true\" href=\"https://counter.yadro.ru\" rel=\"dns-prefetch\"/><link data-react-helmet=\"true\" href=\"https://top-fwz1.mail.ru\" rel=\"dns-prefetch\"/><link data-react-helmet=\"true\" href=\"https://sport24.ru/search\" rel=\"canonical\"/>\n",
       "<title data-react-helmet=\"true\">Поиск на сайте - Новости спорта Sport24</title>\n",
       "<script>window.process = {\"env\":{\"BUILD_DATE\":\"2020-05-06T14:52:52+00:00\",\"IS_BROWSER\":true,\"API_END_POINT\":\"https://api0.sport24.ru\",\"CDN\":\"https://s74794.cdn.ngenix.net\",\"BASE_URL\":\"https://sport24.ru\",\"ASSETS_BASE_URL\":\"https://s73937.cdn.ngenix.net\",\"RENDER_URL\":\"https://api0.sport24.ru/api/sport24/render\",\"LIVE_API_URL\":\"wss://live.sport24.ru/connection/websocket\",\"AMP_BASE_URL\":\"https://amp.sport24.ru\",\"TV_GUIDE_API_END_POINT\":\"https://tv-guide-api.sport24.ru\"}}</script>\n",
       "<script>window.process.env.URL = \"/search?text=%D1%87%D1%82%D0%BE&page=3\"</script><script>(function(w,d,s,l,i){w[l]=w[l]||[];w[l].push({'gtm.start':\n",
       "      new Date().getTime(),event:'gtm.js'});var f=d.getElementsByTagName(s)[0],\n",
       "    j=d.createElement(s),dl=l!='dataLayer'?'&l='+l:'';j.src=\n",
       "    'https://www.googletagmanager.com/gtm.js?id='+i+dl;f.parentNode.insertBefore(j,f);\n",
       "  })(window,document,'script','dataLayer','GTM-K65RXSJ');</script><script>window.ga=window.ga||function(){(ga.q=ga.q||[]).push(arguments)};ga.l=+new Date;\n",
       "    ga(\"create\", \"UA-100282623-3\", \"auto\");\n",
       "    ga(\"set\", \"transport\", \"beacon\");\n",
       "    ga(\"require\", \"displayfeatures\");\n",
       "    ga(\"require\", \"linkid\");\n",
       "    ga(\"set\", \"dimension1\", window.process ? process.env.BUILD_DATE : \"\");\n",
       "    ga(\"set\", \"dimension2\", window.process ? process.env.ENV_NAME : \"\");</script><script async=\"\" src=\"https://www.google-analytics.com/analytics.js\"></script><script>try {\n",
       "      var className = window.localStorage.getItem(\"browser-prefix\");\n",
       "      if (className) {\n",
       "        document.documentElement.className = className;\n",
       "      }\n",
       "    } catch (e) {\n",
       "      console.log('Ошибка переменной \"browser-prefix\" из Local Storage');\n",
       "    }</script><script data-ad-client=\"ca-pub-8447216818130148\" defer=\"defer\" src=\"https://pagead2.googlesyndication.com/pagead/js/adsbygoogle.js\"></script><script defer=\"defer\" src=\"https://s73937.cdn.ngenix.net/public/main.1b1a3fc9a0e1835bb0b4.js\"></script><link href=\"https://s73937.cdn.ngenix.net/public/main.0eafbdb1691f27eac63d.css\" rel=\"stylesheet\"/></head><body><noscript><iframe height=\"0\" src=\"https://www.googletagmanager.com/ns.html?id=GTM-K65RXSJ\" style=\"display:none;visibility:hidden\" width=\"0\"></iframe></noscript><script async=\"\" src=\"https://yastatic.net/pcode/adfox/header-bidding.js\"></script><script crossorigin=\"anonymous\" src=\"https://yastatic.net/pcode/adfox/loader.js\"></script><script>function initLiveInternetCounter() {\n",
       "    new Image().src = \"//counter.yadro.ru/hit?r\"+\n",
       "      escape(document.referrer)+((typeof(screen)==\"undefined\")?\"\":\n",
       "        \";s\"+screen.width+\"*\"+screen.height+\"*\"+(screen.colorDepth?\n",
       "        screen.colorDepth:screen.pixelDepth))+\";u\"+escape(document.URL)+\n",
       "      \";h\"+escape(document.title.substring(0,150))+\n",
       "      \";\"+Math.random();\n",
       "  }\n",
       "  initLiveInternetCounter();</script><script>var ttsmi2_data = { siteid: 47422, count: \"site\" };</script><script defer=\"defer\" src=\"https://target.smi2.ru/client/target.js\"></script><script>(function(w,i){w[i]=w[i]||function(){(w[i].a=w[i].a||[]).push(arguments)};w[i].l=1*new Date();})\n",
       "  (window, \"ym\");\n",
       "\n",
       "  ym(47508568, \"init\", {\n",
       "    defer: true,\n",
       "    clickmap: true,\n",
       "    trackLinks: true,\n",
       "    accurateTrackBounce: true,\n",
       "  });</script><script defer=\"defer\" src=\"https://mc.yandex.ru/metrika/tag.js\"></script><noscript><div><img alt=\"\" src=\"https://mc.yandex.ru/watch/47508568\" style=\"position:absolute; left:-9999px;\"/></div></noscript><script>(function(win, doc, cb){\n",
       "    (win[cb] = win[cb] || []).push(function() {\n",
       "      try {\n",
       "        tnsCounterSport24_ru = new TNS.TnsCounter({\n",
       "          account: \"sport24_ru\",\n",
       "          tmsec: \"sport24_total\",\n",
       "        });\n",
       "      } catch(e) {}\n",
       "    });\n",
       "  })(window, this.document, \"tnscounter_callback\");</script><script defer=\"defer\" src=\"https://www.tns-counter.ru/tcounter.js\"></script><noscript><img alt=\"\" height=\"0\" src=\"//www.tns-counter.ru/V13a****sport24_ru/ru/UTF-8/tmsec=sport24_total/\" width=\"0\"/></noscript><script>(function(w,o){w[o] = w[o] || function(){(w[o].q = w[o].q || []).push(arguments)};})\n",
       "  (window, \"sendsay_push\");\n",
       "\n",
       "  sendsay_push(\"init\", {\n",
       "    v: \"1.0\",\n",
       "    fid: \"project888news\",\n",
       "    app_server_key: \"BF_KKSLFqXcv0AWhqNkZ7CKS1PNnJhLPgA9FKOjbz7J9-ULrEwB6vdO3WUwCSyd2RAbGkPd0iftM-8qKBm5ZKUs\",\n",
       "    backend: \"https://sendsay.ru/backend/push\",\n",
       "    sw: (window.process ? process.env.BASE_URL : \"\") + \"/sendsay_push_sw.js\",\n",
       "    delay: \"300\",\n",
       "  });</script><script defer=\"defer\" src=\"https://image.sendsay.ru/js/push/push.js\"></script><script>_atrk_opts = { atrk_acct:\"84Ggp1IW1d10T3\", domain:\"sport24.ru\", dynamic: true};</script><script defer=\"defer\" src=\"https://d31qbv1cthcecs.cloudfront.net/atrk.js\"></script><noscript><img alt=\"\" height=\"1\" src=\"https://d5nxst8fruw4z.cloudfront.net/atrk.gif?account=84Ggp1IW1d10T3\" style=\"display:none\" width=\"1\"/></noscript><script>new Image().src = \"https://sync.bumlam.com/?src=gp3&cmp=Sport24&act=a01&cid=A2D4FF&r64=\"+window.btoa(document.referrer)+\"&cb=\"+Math.random();</script><script>(function(w){\n",
       "    var wd = w.document;\n",
       "    w._mt_rnd = w._mt_rnd || Math.floor(Math.random() * 1000000);\n",
       "    w._mt_referrer = w._mt_referrer || escape(wd.referrer || '');\n",
       "    try { w._mt_location = w._mt_location || escape(w.top.location.href) }\n",
       "    catch (e) { w._mt_location = escape(w.location.href) }\n",
       "    w._MT_jsLoadDelayed = function(b,c,d){var a=wd.createElement(\"script\");\n",
       "      d&&(a.id=d);a.language=\"javascript\";a.type=\"text/javascript\";a.charset=\"utf-8\";a.async=1;\n",
       "      a.src=b;if(w.ActiveXObject){var e=!1;a.onload=a.onreadystatechange=function(){\n",
       "        if(!e&&(!this.readyState||this.readyState===\"complete\"||this.readyState===\"loaded\"&&\n",
       "          this.nextSibling!=null)){e=true;c&&c();a.onload=a.onreadystatechange=null}}}else\n",
       "        a.onload=c;b=wd.getElementsByTagName(\"script\")[0];b.parentNode.insertBefore(a,b)};\n",
       "    w._MT_jsLoadDelayed('//mediatoday.ru/core/code.js?pid=8815&rid=' + w._mt_rnd + '&rl=' +\n",
       "      w._mt_referrer + '&ll=' + w._mt_location + '&ow=' + w.outerWidth + '&oh=' + w.outerHeight + '&sw=' +\n",
       "      w.screen.width + '&sh=' + w.screen.height + '&pd=' + w.screen.pixelDepth);\n",
       "  })(window)</script><div id=\"app\"><div class=\"l_qn8N\"><header class=\"_1jxiL1\"><div class=\"_2TyXRE\"><div class=\"_2aKQZ6\"><div class=\"UDNH-5\"><a data-event-action=\"click\" data-event-category=\"mobile_sidebar\" data-event-label=\"logo\" href=\"/\"><img alt=\"logo\" src=\"data:image/svg+xml;base64,PHN2ZyB3aWR0aD0iMTY5IiBoZWlnaHQ9IjE3IiB4bWxucz0iaHR0cDovL3d3dy53My5vcmcvMjAwMC9zdmciPgogIDxnIGZpbGwtcnVsZT0ibm9uemVybyIgZmlsbD0ibm9uZSI+CiAgICA8cGF0aCBkPSJNMTY3LjYgMWgtNS45bC0xMS41IDcuN2MtMS4zIDEuMS0xLjUgMS42LTEuNyAyLjZsLS4zIDEuNmgxMS45bC0uOCA0LjFoNS4ybC44LTQuMWgyLjZsLjctMy42SDE2NmwxLjYtOC4zem0tNi44IDguM0gxNTVsNi41LTMuOS0uNyAzLjl6bS0yOSAyLjljLjMtMS4yLjgtMS40IDIuMS0xLjRoNS4xYzQuOCAwIDYuOC0xLjggNi44LTUuNyAwLTMuMS0zLjEtNC4yLTcuOS00LjJoLTguMmwtLjggNC4yaDEwYzEuMiAwIDEuNC4zIDEuNC45IDAgLjgtLjYgMS0yLjEgMWgtMy45Yy02LjUgMC03LjEgMS43LTcuNyA1bC0uOSA0LjhoMTQuNmMxLjggMCAyLjQtLjIgMi45LTIuMWwuNC0xLjloLTEyLjFsLjMtLjZ6IiBmaWxsPSIjRUFCRDAwIi8+CiAgICA8cGF0aCBkPSJNNjYuOCAxaC03LjJjLTQuOSAwLTUuOSAyLjYtNi43IDdsLS42IDMuMWMtMSA0LjggMS4zIDUuOSA1LjEgNS45aDcuMmM0LjkgMCA1LjktMi42IDYuNy03bC42LTMuMUM3MyAyIDcwLjcgMSA2Ni44IDFtLS4zIDYuOWwtLjIgMS4zYy0uNyAzLjUtMS43IDMuNy00IDMuN2gtMS44Yy0yLjMgMC0zLS40LTIuNS0yLjlsLjItMS4zYy43LTMuNSAxLjctMy43IDQtMy43SDY0YzIuMiAwIDMgLjUgMi41IDIuOU00MS45IDFIMjkuMmwtMi42IDEzLjZjLS40IDIuMS4yIDIuMyAxLjYgMi40aDMuMmwuOS00LjVoNC40YzUuMSAwIDkuOC0uNyA5LjgtNy0uMS0yLjUtMS40LTQuNC00LjYtNC41TTM4IDguNWgtNWwuNy0zLjVoNWMxLjEgMCAxLjguNSAxLjggMS40IDAgMS42LTEuMyAyLjEtMi41IDIuMW02MC0zLjRjMC0yLjQtMS4zLTQtNC42LTQuMUg4MC43bC0yLjYgMTMuNmMtLjQgMi4xLjIgMi4zIDEuNiAyLjRoMy4ybDEtNS4yaDVsMS4zIDMuM2MuNyAxLjcgMS40IDEuOSAzLjEgMS45aDMuNGwtMi44LTYuMmMxLjktLjYgNC4xLTIuMiA0LjEtNS43TTg5LjYgOGgtNWwuNi0zaDVjMS4xIDAgMS45LjMgMS45IDEuMiAwIDEuNy0xLjMgMS44LTIuNSAxLjhtMzIuMi03aC0xNi43bC0uMyAxLjhjLS40IDIgLjMgMi40IDIuMyAyLjRoMi45TDEwNy43IDE3aDUuM2wyLjMtMTEuOGg1LjdsLjgtNC4yek0xNCA3LjFIOS43Yy0xLjMgMC0xLjgtLjMtMS44LTEgMC0uOC41LTEgMi40LTFIMTdjMi43IDAgMi45LS41IDMuMi0yLjRsLjMtMS43SDkuOEM2LjQgMSAzLjYgMS4yIDMgNC4ybC0uNSAyLjZDMiA5LjYgNC4zIDExIDcuMiAxMWg0LjNjMS4zIDAgMS44LjMgMS44IDEgMCAuOC0uNSAxLTIuNCAxSDMuNmMtMi4zIDAtMyAuOC0zLjQgMi44TDAgMTdoOS4xYzYuMSAwIDkuNi0uNiA5LjYtNS44IDAtMi42LTEuOC00LjEtNC43LTQuMSIgZmlsbD0iI0ZGRiIvPgogIDwvZz4KPC9zdmc+Cg==\" style=\"margin:auto;width:169px;height:17px\" width=\"132\"/></a></div><div class=\"_1aC5GF\"><svg height=\"18\" viewbox=\"0 0 25 18\" width=\"25\"><path d=\"M25 14v.05C25 16.2 23.2 18 21.05 18H0v-.05C0 15.8 1.8 14 3.95 14H25zm0-7v.05C25 9.2 23.2 11 21.05 11H0v-.05C0 8.8 1.8 7 3.95 7H25zm0-7v.05C25 2.2 23.2 4 21.05 4H0v-.05C0 1.8 1.8 0 3.95 0H25z\" fill=\"#FFF\" fill-rule=\"nonzero\"></path></svg></div></div></div><nav class=\"right-scroll-bar-position Z3JcMS\"><div class=\"_2gGCx0\" data-lg-10=\"1\" data-md-10=\"1\" data-sm-8=\"1\" data-tiny-8=\"1\" data-xl-10=\"1\" data-xs-4=\"1\"><div class=\"_1errZT\" data-lg-10=\"1\" data-md-10=\"1\" data-sm-8=\"1\" data-tiny-8=\"1\" data-xl-10=\"1\" data-xs-4=\"1\"><div class=\"QwmhIB\"><div class=\"_3_A5k2\"><a data-event-action=\"click\" data-event-category=\"desktop_menu\" data-event-label=\"logo\" href=\"/\"><img alt=\"logo\" src=\"data:image/svg+xml;base64,PHN2ZyB3aWR0aD0iMTY5IiBoZWlnaHQ9IjE3IiB4bWxucz0iaHR0cDovL3d3dy53My5vcmcvMjAwMC9zdmciPgogIDxnIGZpbGwtcnVsZT0ibm9uemVybyIgZmlsbD0ibm9uZSI+CiAgICA8cGF0aCBkPSJNMTY3LjYgMWgtNS45bC0xMS41IDcuN2MtMS4zIDEuMS0xLjUgMS42LTEuNyAyLjZsLS4zIDEuNmgxMS45bC0uOCA0LjFoNS4ybC44LTQuMWgyLjZsLjctMy42SDE2NmwxLjYtOC4zem0tNi44IDguM0gxNTVsNi41LTMuOS0uNyAzLjl6bS0yOSAyLjljLjMtMS4yLjgtMS40IDIuMS0xLjRoNS4xYzQuOCAwIDYuOC0xLjggNi44LTUuNyAwLTMuMS0zLjEtNC4yLTcuOS00LjJoLTguMmwtLjggNC4yaDEwYzEuMiAwIDEuNC4zIDEuNC45IDAgLjgtLjYgMS0yLjEgMWgtMy45Yy02LjUgMC03LjEgMS43LTcuNyA1bC0uOSA0LjhoMTQuNmMxLjggMCAyLjQtLjIgMi45LTIuMWwuNC0xLjloLTEyLjFsLjMtLjZ6IiBmaWxsPSIjRUFCRDAwIi8+CiAgICA8cGF0aCBkPSJNNjYuOCAxaC03LjJjLTQuOSAwLTUuOSAyLjYtNi43IDdsLS42IDMuMWMtMSA0LjggMS4zIDUuOSA1LjEgNS45aDcuMmM0LjkgMCA1LjktMi42IDYuNy03bC42LTMuMUM3MyAyIDcwLjcgMSA2Ni44IDFtLS4zIDYuOWwtLjIgMS4zYy0uNyAzLjUtMS43IDMuNy00IDMuN2gtMS44Yy0yLjMgMC0zLS40LTIuNS0yLjlsLjItMS4zYy43LTMuNSAxLjctMy43IDQtMy43SDY0YzIuMiAwIDMgLjUgMi41IDIuOU00MS45IDFIMjkuMmwtMi42IDEzLjZjLS40IDIuMS4yIDIuMyAxLjYgMi40aDMuMmwuOS00LjVoNC40YzUuMSAwIDkuOC0uNyA5LjgtNy0uMS0yLjUtMS40LTQuNC00LjYtNC41TTM4IDguNWgtNWwuNy0zLjVoNWMxLjEgMCAxLjguNSAxLjggMS40IDAgMS42LTEuMyAyLjEtMi41IDIuMW02MC0zLjRjMC0yLjQtMS4zLTQtNC42LTQuMUg4MC43bC0yLjYgMTMuNmMtLjQgMi4xLjIgMi4zIDEuNiAyLjRoMy4ybDEtNS4yaDVsMS4zIDMuM2MuNyAxLjcgMS40IDEuOSAzLjEgMS45aDMuNGwtMi44LTYuMmMxLjktLjYgNC4xLTIuMiA0LjEtNS43TTg5LjYgOGgtNWwuNi0zaDVjMS4xIDAgMS45LjMgMS45IDEuMiAwIDEuNy0xLjMgMS44LTIuNSAxLjhtMzIuMi03aC0xNi43bC0uMyAxLjhjLS40IDIgLjMgMi40IDIuMyAyLjRoMi45TDEwNy43IDE3aDUuM2wyLjMtMTEuOGg1LjdsLjgtNC4yek0xNCA3LjFIOS43Yy0xLjMgMC0xLjgtLjMtMS44LTEgMC0uOC41LTEgMi40LTFIMTdjMi43IDAgMi45LS41IDMuMi0yLjRsLjMtMS43SDkuOEM2LjQgMSAzLjYgMS4yIDMgNC4ybC0uNSAyLjZDMiA5LjYgNC4zIDExIDcuMiAxMWg0LjNjMS4zIDAgMS44LjMgMS44IDEgMCAuOC0uNSAxLTIuNCAxSDMuNmMtMi4zIDAtMyAuOC0zLjQgMi44TDAgMTdoOS4xYzYuMSAwIDkuNi0uNiA5LjYtNS44IDAtMi42LTEuOC00LjEtNC43LTQuMSIgZmlsbD0iI0ZGRiIvPgogIDwvZz4KPC9zdmc+Cg==\" style=\"margin:auto;width:169px;height:17px\" width=\"132\"/></a></div><div class=\"yj6Frg\"><div class=\"_1zzzRS\"><div class=\"_1p-Rag\"><a data-event-action=\"click\" data-event-category=\"desktop_menu\" data-event-label=\"link_undefined\" href=\"/tags/koronavirus\">Коронавирус</a></div><div class=\"kp2K7-\"></div></div><div class=\"_1zzzRS\"><div class=\"_1p-Rag\"><a data-event-action=\"click\" data-event-category=\"desktop_menu\" data-event-label=\"link_football\" href=\"/football\">Футбол</a></div><div class=\"kp2K7-\"></div></div><div class=\"_1zzzRS\"><div class=\"_1p-Rag\"><a data-event-action=\"click\" data-event-category=\"desktop_menu\" data-event-label=\"link_hockey\" href=\"/hockey\">Хоккей</a></div><div class=\"kp2K7-\"></div></div><div class=\"_1zzzRS\"><div class=\"_1p-Rag\"><a data-event-action=\"click\" data-event-category=\"desktop_menu\" data-event-label=\"link_mma\" href=\"/mma\">Бокс и MMA</a></div><div class=\"kp2K7-\"></div></div><div class=\"_1zzzRS\"><div class=\"_1p-Rag\"><a data-event-action=\"click\" data-event-category=\"desktop_menu\" data-event-label=\"link_figureskating\" href=\"/figureskating\">Фигурное катание</a></div><div class=\"kp2K7-\"></div></div><div class=\"_1zzzRS\"><div class=\"_1p-Rag\"><a data-event-action=\"click\" data-event-category=\"desktop_menu\" data-event-label=\"link_betting\" href=\"/betting\">Ставки</a></div><div class=\"kp2K7-\"></div></div><div class=\"_1zzzRS\"><div class=\"_1p-Rag\"><a data-event-action=\"click\" data-event-category=\"desktop_menu\" data-event-label=\"link_rugby\" href=\"/rugby\">Регби</a></div><div class=\"kp2K7-\"></div></div><div class=\"_1zzzRS\"><div class=\"_1p-Rag\"><a data-event-action=\"click\" data-event-category=\"desktop_menu\" data-event-label=\"link_basketballl\" href=\"/zozh\">ЗОЖ</a></div><div class=\"kp2K7-\"></div></div><div class=\"_1zzzRS\"><div class=\"_1p-Rag\"><a data-event-action=\"click\" data-event-category=\"desktop_menu\" data-event-label=\"link_other\" href=\"/other\">Другое</a></div><div class=\"kp2K7-\"></div></div></div><div class=\"llnW7b\"><div class=\"_1zzzRS\"><div class=\"_1p-Rag\"><svg style=\"width:16px;height:16px\" viewbox=\"0 0 16 16\"><path clip-rule=\"evenodd\" d=\"M13 12h2c.6 0 1 .4 1 1v2c0 .6-.4 1-1 1h-2c-.6 0-1-.4-1-1v-2c0-.6.4-1 1-1zm-6 0h2c.6 0 1 .4 1 1v2c0 .6-.4 1-1 1H7c-.6 0-1-.4-1-1v-2c0-.6.4-1 1-1zm-6 0h2c.6 0 1 .4 1 1v2c0 .6-.4 1-1 1H1c-.6 0-1-.4-1-1v-2c0-.6.4-1 1-1zm12-6h2c.6 0 1 .4 1 1v2c0 .6-.4 1-1 1h-2c-.6 0-1-.4-1-1V7c0-.6.4-1 1-1zM7 6h2c.6 0 1 .4 1 1v2c0 .6-.4 1-1 1H7c-.6 0-1-.4-1-1V7c0-.6.4-1 1-1zM1 6h2c.6 0 1 .4 1 1v2c0 .6-.4 1-1 1H1c-.6 0-1-.4-1-1V7c0-.6.4-1 1-1zm12-6h2c.6 0 1 .4 1 1v2c0 .6-.4 1-1 1h-2c-.6 0-1-.4-1-1V1c0-.6.4-1 1-1zM7 0h2c.6 0 1 .4 1 1v2c0 .6-.4 1-1 1H7c-.6 0-1-.4-1-1V1c0-.6.4-1 1-1zM1 0h2c.6 0 1 .4 1 1v2c0 .6-.4 1-1 1H1c-.6 0-1-.4-1-1V1c0-.6.4-1 1-1z\" fill-rule=\"evenodd\"></path></svg></div><div class=\"kp2K7- _3LXB4V _3fxQNq\"></div></div><div class=\"_1zzzRS\"><div class=\"_1p-Rag\"><a href=\"/search\"><svg style=\"width:18px;height:18px\" viewbox=\"-50 14 18 18\"><path d=\"M-32.3 30.2l-3.7-3.7c-.2-.2-.4-.3-.7-.3 1.1-1.3 1.7-2.9 1.7-4.7 0-4-3.4-7.5-7.5-7.5s-7.5 3.4-7.5 7.5 3.4 7.5 7.5 7.5c1.8 0 3.5-.6 4.8-1.7 0 .2.1.5.3.7l3.8 3.7c.2.2.5.3.7.3.2 0 .5-.1.7-.3.3-.5.3-1.1-.1-1.5zM-42.5 27c-3 0-5.5-2.5-5.5-5.5s2.5-5.5 5.5-5.5 5.5 2.5 5.5 5.5-2.5 5.5-5.5 5.5z\"></path></svg></a></div></div><div class=\"_1zzzRS\"><div class=\"_1p-Rag\"><svg style=\"width:19px;height:20px\" viewbox=\"0 0 19 20\"><path d=\"M9.5 2c2 0 3.5 1.7 3.5 4 0 2.8-1.9 5-3.5 5S6 8.8 6 6c0-2.3 1.5-4 3.5-4m0-2C6.4 0 4 2.6 4 6c0 3.7 2.6 7 5.5 7S15 9.8 15 6c0-3.4-2.4-6-5.5-6zM19 19c0-3.2-3.5-5-9.5-5S0 15.8 0 19c0 .6.4 1 1 1s1-.4 1-1c0-2.2 3.9-3 7.5-3s7.5.8 7.5 3c0 .6.4 1 1 1s1-.4 1-1z\"></path></svg></div><div class=\"kp2K7- _3LXB4V _3fxQNq\"></div></div></div></div></div></div></nav></header><div data-slot=\"top-desktop\" id=\"slot-top-desktop\"></div><div data-slot=\"top-mobile\" id=\"slot-top-mobile\"></div><div class=\"_2wsl0S\"><div class=\"_3bFgJP\"><div class=\"_3gZ-ob\"><div class=\"_2gGCx0\" data-lg-10=\"1\" data-md-10=\"1\" data-sm-8=\"1\" data-tiny-8=\"1\" data-xl-10=\"1\" data-xs-4=\"1\"><div class=\"_1errZT\" data-lg-2=\"1\" data-md-2=\"1\" data-sm-2=\"1\" data-tiny-2=\"1\" data-xl-2=\"1\" data-xs-0=\"1\"><div class=\"_3ssI8u\"><a href=\"/\"><img alt=\"Логотип Sport24.ru\" src=\"data:image/svg+xml;base64,PHN2ZyB3aWR0aD0iMTY5IiBoZWlnaHQ9IjE3IiB4bWxucz0iaHR0cDovL3d3dy53My5vcmcvMjAwMC9zdmciPgogIDxnIGZpbGwtcnVsZT0ibm9uemVybyIgZmlsbD0ibm9uZSI+CiAgICA8cGF0aCBkPSJNMTY3LjYgMWgtNS45bC0xMS41IDcuN2MtMS4zIDEuMS0xLjUgMS42LTEuNyAyLjZsLS4zIDEuNmgxMS45bC0uOCA0LjFoNS4ybC44LTQuMWgyLjZsLjctMy42SDE2NmwxLjYtOC4zem0tNi44IDguM0gxNTVsNi41LTMuOS0uNyAzLjl6bS0yOSAyLjljLjMtMS4yLjgtMS40IDIuMS0xLjRoNS4xYzQuOCAwIDYuOC0xLjggNi44LTUuNyAwLTMuMS0zLjEtNC4yLTcuOS00LjJoLTguMmwtLjggNC4yaDEwYzEuMiAwIDEuNC4zIDEuNC45IDAgLjgtLjYgMS0yLjEgMWgtMy45Yy02LjUgMC03LjEgMS43LTcuNyA1bC0uOSA0LjhoMTQuNmMxLjggMCAyLjQtLjIgMi45LTIuMWwuNC0xLjloLTEyLjFsLjMtLjZ6IiBmaWxsPSIjRUFCRDAwIi8+CiAgICA8cGF0aCBkPSJNNjYuOCAxaC03LjJjLTQuOSAwLTUuOSAyLjYtNi43IDdsLS42IDMuMWMtMSA0LjggMS4zIDUuOSA1LjEgNS45aDcuMmM0LjkgMCA1LjktMi42IDYuNy03bC42LTMuMUM3MyAyIDcwLjcgMSA2Ni44IDFtLS4zIDYuOWwtLjIgMS4zYy0uNyAzLjUtMS43IDMuNy00IDMuN2gtMS44Yy0yLjMgMC0zLS40LTIuNS0yLjlsLjItMS4zYy43LTMuNSAxLjctMy43IDQtMy43SDY0YzIuMiAwIDMgLjUgMi41IDIuOU00MS45IDFIMjkuMmwtMi42IDEzLjZjLS40IDIuMS4yIDIuMyAxLjYgMi40aDMuMmwuOS00LjVoNC40YzUuMSAwIDkuOC0uNyA5LjgtNy0uMS0yLjUtMS40LTQuNC00LjYtNC41TTM4IDguNWgtNWwuNy0zLjVoNWMxLjEgMCAxLjguNSAxLjggMS40IDAgMS42LTEuMyAyLjEtMi41IDIuMW02MC0zLjRjMC0yLjQtMS4zLTQtNC42LTQuMUg4MC43bC0yLjYgMTMuNmMtLjQgMi4xLjIgMi4zIDEuNiAyLjRoMy4ybDEtNS4yaDVsMS4zIDMuM2MuNyAxLjcgMS40IDEuOSAzLjEgMS45aDMuNGwtMi44LTYuMmMxLjktLjYgNC4xLTIuMiA0LjEtNS43TTg5LjYgOGgtNWwuNi0zaDVjMS4xIDAgMS45LjMgMS45IDEuMiAwIDEuNy0xLjMgMS44LTIuNSAxLjhtMzIuMi03aC0xNi43bC0uMyAxLjhjLS40IDIgLjMgMi40IDIuMyAyLjRoMi45TDEwNy43IDE3aDUuM2wyLjMtMTEuOGg1LjdsLjgtNC4yek0xNCA3LjFIOS43Yy0xLjMgMC0xLjgtLjMtMS44LTEgMC0uOC41LTEgMi40LTFIMTdjMi43IDAgMi45LS41IDMuMi0yLjRsLjMtMS43SDkuOEM2LjQgMSAzLjYgMS4yIDMgNC4ybC0uNSAyLjZDMiA5LjYgNC4zIDExIDcuMiAxMWg0LjNjMS4zIDAgMS44LjMgMS44IDEgMCAuOC0uNSAxLTIuNCAxSDMuNmMtMi4zIDAtMyAuOC0zLjQgMi44TDAgMTdoOS4xYzYuMSAwIDkuNi0uNiA5LjYtNS44IDAtMi42LTEuOC00LjEtNC43LTQuMSIgZmlsbD0iI0ZGRiIvPgogIDwvZz4KPC9zdmc+Cg==\" style=\"margin:auto;width:169px;height:17px\" width=\"132\"/></a></div></div><div class=\"_1errZT\" data-lg-8=\"1\" data-md-8=\"1\" data-sm-6=\"1\" data-tiny-6=\"1\" data-xl-8=\"1\" data-xs-4=\"1\"><div class=\"_1Lc7vf\"><div class=\"OGEmpm\"><input placeholder=\"Поиск по сайту\" type=\"text\" value=\"что\"/></div><div class=\"_1xzYYM\"><svg height=\"18\" viewbox=\"0 0 18 18\" width=\"18\"><path d=\"M17.7 16.3L10.4 9l7.19-7.18c.4-.4.4-1.01 0-1.42a.98.98 0 0 0-1.42 0L8.99 7.6 1.71.3C1.3-.1.7-.1.39.3-.1.7-.1 1.32.3 1.72l7.29 7.29-7.19 7.18a.98.98 0 0 0 0 1.42c.4.4 1.02.4 1.42 0l7.18-7.19 7.29 7.29c.4.4 1.01.4 1.42 0 .4-.4.4-1.01 0-1.42z\"></path></svg></div></div></div></div></div><div class=\"C5G0GL\"><svg style=\"enable-background:new 0 0 120 80\" viewbox=\"0 0 120 80\" xml:space=\"preserve\"><style type=\"text/css\">\n",
       "  .st0, .st1, .st2, .st3 {\n",
       "      fill:#EABD00;\n",
       "      z-index: 1000;\n",
       "    }\n",
       "    .st0 {\n",
       "      -webkit-animation: line-scale 1s -.4s infinite cubic-bezier(0.11, 0.31, 0.74, 0.95);\n",
       "      animation: line-scale 1s -.4s infinite cubic-bezier(0.11, 0.31, 0.74, 0.95);\n",
       "    }\n",
       "\n",
       "    .st1 {\n",
       "      -webkit-animation: line-scale 1s -.3s infinite cubic-bezier(0.11, 0.31, 0.74, 0.95);\n",
       "      animation: line-scale 1s -.3s infinite cubic-bezier(0.11, 0.31, 0.74, 0.95);\n",
       "    }\n",
       "\n",
       "    .st3 {\n",
       "      -webkit-animation: line-scale 1s -.2s infinite cubic-bezier(0.11, 0.31, 0.74, 0.95);\n",
       "      animation: line-scale 1s -.2s infinite cubic-bezier(0.11, 0.31, 0.74, 0.95);\n",
       "    }\n",
       "\n",
       "    .st2 {\n",
       "      -webkit-animation: line-scale 1s -.1s infinite cubic-bezier(0.11, 0.31, 0.74, 0.95);\n",
       "      animation: line-scale 1s -.1s infinite cubic-bezier(0.11, 0.31, 0.74, 0.95);\n",
       "    }\n",
       "\n",
       "    @keyframes line-scale {\n",
       "      0% {\n",
       "        -webkit-transform-origin: 50% 50%;\n",
       "        transform: matrix(1, 0, 0, 1, 0, 0);\n",
       "      }\n",
       "\n",
       "      50% {\n",
       "        -webkit-transform: scaley(.4);\n",
       "        transform: scaley(.4);\n",
       "        transform: matrix(1, 0, 0.11, .4, 0, 0);\n",
       "        -webkit-transform-origin: 50% 50%;\n",
       "      }\n",
       "\n",
       "      25%, 75% {\n",
       "        transform: matrix(1, 0, 0.05, .7, 0, 0);\n",
       "        -webkit-transform-origin: 50% 50%;\n",
       "      }\n",
       "\n",
       "      37%, 63% {\n",
       "        transform: matrix(1, 0, 0.08, .55, 0, 0);\n",
       "        -webkit-transform-origin: 50% 50%;\n",
       "      }\n",
       "\n",
       "\n",
       "      100% {\n",
       "        -webkit-transform-origin: 50% 50%;\n",
       "\n",
       "        transform: matrix(1, 0, 0, 1, 0, 0);\n",
       "      }\n",
       "    }\n",
       "  </style><path class=\"st0\" d=\"M13.41,80H0L14.71,6.43C15.46,2.69,18.74,0,22.56,0H36L21.29,73.53C20.54,77.29,17.24,80,13.41,80z\"></path><path class=\"st1\" d=\"M41.41,80H28L42.71,6.43C43.46,2.69,46.74,0,50.56,0H64L49.29,73.53C48.54,77.29,45.24,80,41.41,80z\"></path><path class=\"st3\" d=\"M69.41,80H56L70.71,6.43C71.46,2.69,74.74,0,78.56,0H92L77.29,73.53C76.54,77.29,73.24,80,69.41,80z\"></path><path class=\"st2\" d=\"M97.41,80H84L98.71,6.43C99.46,2.69,102.74,0,106.56,0H120l-14.71,73.54C104.54,77.29,101.24,80,97.41,80z\"></path></svg></div></div></div><footer class=\"_2nhzBA\"><div class=\"_2gGCx0\" data-lg-10=\"1\" data-md-10=\"1\" data-sm-8=\"1\" data-tiny-8=\"1\" data-xl-10=\"1\" data-xs-4=\"1\"><div class=\"_1errZT\" data-lg-2=\"1\" data-md-2=\"1\" data-sm-3=\"1\" data-tiny-4=\"1\" data-xl-2=\"1\" data-xs-4=\"1\"><div class=\"_1PrSKp\"><div class=\"_2VOcQ6\"><a data-event-action=\"click\" data-event-category=\"Footer_about\" href=\"/about\">О проекте</a></div><div class=\"_2VOcQ6\"><a data-event-action=\"click\" data-event-category=\"Footer_policy\" href=\"/policy\">О персональных данных</a></div><div class=\"_2VOcQ6\"><a data-event-action=\"click\" data-event-category=\"Footer_faq\" href=\"/faq\">FAQ</a></div><div class=\"_2VOcQ6\"><a data-event-action=\"click\" data-event-category=\"Footer_feedback\" href=\"/feedback\">Обратная связь</a></div></div><div class=\"tTplmI\"><div><span><!--noindex--></span><p>Сетевое издание Спорт24</p><p>Главный редактор: Авакян С.Г.</p><p>Телефон редакции СМИ: <a href=\"tel:+74959811297\">+7 (499) 321-52-13</a></p><p>Размещение рекламы: <a href=\"mailto:reklama@sport24.ru\">reklama@sport24.ru</a></p><p><a href=\"https://s73937.cdn.ngenix.net/public/src/assets/documents/media-kit-Sport24.pdf\">Скачать Медиа-кит</a></p><p>Email редакции СМИ: <a href=\"mailto:info@sport24.ru\">info@sport24.ru</a></p><p>Учредитель: ООО «Спорт24»</p><p>СМИ Зарегистрировано 17.05.2018 года Роскомнадзором за номером Эл № ФС77‑72812</p><span><!--/noindex--></span></div><p>© 2015–<!-- -->2020<!-- --> ООО «Спорт24»</p></div></div><div class=\"_1errZT\" data-lg-6=\"1\" data-md-6=\"1\" data-sm-3=\"1\" data-tiny-4=\"1\" data-xl-6=\"1\" data-xs-4=\"1\"><div class=\"_1_O8Ia\"><div class=\"_3T_bR3\"><a data-event-action=\"click\" data-event-category=\"Footer_youtube\" href=\"https://www.youtube.com/channel/UCvv3Wit_a18sM17CayokObQ?utm_term=footerblock\" rel=\"noopener nofollow\" target=\"_blank\"><svg height=\"17\" width=\"22\"><path d=\"M14.338 8.525L8.693 11.79V5.258l5.645 3.265zm6.94-5.24a2.725 2.725 0 0 0-1.922-1.925c-1.694-.455-8.49-.455-8.49-.455s-6.796 0-8.49.455A2.725 2.725 0 0 0 .453 3.284C0 4.982 0 8.524 0 8.524s0 3.542.454 5.24c.25.936.986 1.674 1.921 1.924 1.695.455 8.49.455 8.49.455s6.797 0 8.491-.455a2.724 2.724 0 0 0 1.922-1.925c.454-1.697.454-5.24.454-5.24s0-3.541-.454-5.239z\"></path></svg></a><a data-event-action=\"click\" data-event-category=\"Footer_facebook\" href=\"https://www.facebook.com/sport24.ru?utm_term=footerblock\" rel=\"noopener nofollow\" target=\"_blank\"><svg height=\"20\" width=\"11\"><path d=\"M9.514 9.53l.68-2.722H6.797v-2.72c0-.823.48-1.361 1.358-1.361h2.037V.005s-1.67-.012-2.716 0C4.843.038 3.402 1.842 3.402 4.087v2.721H.686V9.53h2.716v9.88c.877.18 3.169.01 3.396 0v-9.88h2.716z\"></path></svg></a><a data-event-action=\"click\" data-event-category=\"Footer_vk\" href=\"https://vk.com/sport24_ru?utm_term=footerblock\" rel=\"noopener nofollow\" target=\"_blank\"><svg height=\"13\" width=\"19\"><path d=\"M18.59 1.575c.132-.441 0-.765-.629-.765h-2.08c-.53 0-.773.28-.905.589 0 0-1.058 2.583-2.557 4.26-.485.486-.705.64-.97.64-.132 0-.323-.154-.323-.595V1.575c0-.53-.154-.765-.594-.765h-3.27c-.33 0-.529.245-.529.479 0 .502.75.618.827 2.03v3.07c0 .672-.122.794-.386.794-.705 0-2.42-2.595-3.438-5.563-.2-.577-.4-.81-.931-.81H.725C.13.81.01 1.09.01 1.399c0 .552.706 3.29 3.284 6.91 1.72 2.472 4.141 3.813 6.345 3.813 1.322 0 1.486-.298 1.486-.81v-1.87c0-.595.125-.714.544-.714.309 0 .837.155 2.072 1.347 1.41 1.413 1.643 2.047 2.436 2.047h2.08c.595 0 .892-.298.72-.886-.187-.585-.86-1.435-1.754-2.442-.485-.574-1.212-1.192-1.433-1.5-.308-.398-.22-.575 0-.928 0 0 2.535-3.576 2.8-4.79\"></path></svg></a><a data-event-action=\"click\" data-event-category=\"Footer_ok\" href=\"https://ok.ru/sport24ru?utm_term=footerblock\" rel=\"noopener nofollow\" target=\"_blank\"><svg height=\"20\" width=\"13\"><path d=\"M6.55 9.573c-2.755 0-4.995-2.147-4.995-4.787C1.555 2.147 3.795 0 6.55 0c2.755 0 4.991 2.147 4.991 4.786 0 2.64-2.236 4.787-4.99 4.787zm0-6.838c-1.18 0-2.142.92-2.142 2.051 0 1.131.961 2.052 2.141 2.052 1.178 0 2.138-.92 2.138-2.052 0-1.13-.96-2.05-2.138-2.05zm1.336 10.84a8.66 8.66 0 0 0 3.802-1.542 1.333 1.333 0 0 0 .279-1.914A1.467 1.467 0 0 0 9.97 9.85a5.793 5.793 0 0 1-3.418 1.092c-1.292 0-2.44-.365-3.41-1.081a1.464 1.464 0 0 0-1.999.247 1.326 1.326 0 0 0 .257 1.916 8.305 8.305 0 0 0 3.811 1.556L1.67 16.67a1.329 1.329 0 0 0-.095 1.931 1.47 1.47 0 0 0 2.015.092l2.959-2.623 2.962 2.62c.271.238.618.356.96.356.387 0 .775-.15 1.056-.446.53-.56.486-1.426-.096-1.934l-3.544-3.09z\"></path></svg></a><a data-event-action=\"click\" data-event-category=\"Footer_twi\" href=\"https://twitter.com/sport24_ru?utm_term=footerblock\" rel=\"noopener nofollow\" target=\"_blank\"><svg height=\"17\" width=\"19\"><path d=\"M17.31 4.8c.79-.406 1.406-1.322 1.728-2.164-.783.515-1.364.77-2.16.866 1.045-.65 1.7-1.38 2.16-2.597-.864.677-1.622 1.082-2.766 1.298C15.56 1.442 14.54.905 13.42.905c-2.363 0-3.89 1.463-3.89 3.896 0 .308.054.893.173 1.299C6.448 5.935 3.59 4.612 1.32 1.77.483 3.287.887 5.695 2.616 6.966a3.562 3.562 0 0 1-1.729-.433c.216 1.732 1.647 3.41 3.457 3.897-.73.188-1.462.17-2.16 0 .62 1.406 2.404 2.597 3.889 2.597-1.378 1.217-3.457 1.732-6.05 1.732 1.431 1.054 3.837 1.731 6.05 1.731 7.36 0 11.236-5.177 11.236-11.688z\"></path></svg></a><a data-event-action=\"click\" data-event-category=\"Footer_tgr\" href=\"https://t.me/sport24ru?utm_term=footerblock\" rel=\"noopener nofollow\" target=\"_blank\"><svg height=\"17\" width=\"20\"><path d=\"M6.193 8.67l8.563-5.282c.154-.095.312.113.18.236l-7.067 6.58a1.468 1.468 0 0 0-.454.878l-.24 1.787c-.033.24-.367.263-.433.032l-.926-3.259a.864.864 0 0 1 .377-.971M.389 7.904L4.77 9.543l1.696 5.463c.109.35.536.479.82.247l2.442-1.995a.728.728 0 0 1 .888-.024l4.405 3.203c.303.221.733.055.809-.313L19.057.576a.517.517 0 0 0-.692-.588L.384 6.937c-.444.171-.44.8.005.967\"></path></svg></a><a data-event-action=\"click\" data-event-category=\"Footer_inst\" href=\"https://www.instagram.com/sport24ru/?utm_term=footerblock\" rel=\"noopener nofollow\" target=\"_blank\"><svg height=\"20\" width=\"20\"><path d=\"M16.708 4.44a1.142 1.142 0 1 1-2.283.002 1.142 1.142 0 0 1 2.283-.002m-6.216 8.258a3.172 3.172 0 0 1-3.169-3.174 3.172 3.172 0 0 1 3.17-3.175c1.75 0 3.169 1.422 3.169 3.175a3.172 3.172 0 0 1-3.17 3.174m0-8.065a4.886 4.886 0 0 0-4.882 4.89 4.887 4.887 0 0 0 4.882 4.891 4.886 4.886 0 0 0 4.883-4.89 4.886 4.886 0 0 0-4.883-4.89m0-4.634C7.91 0 7.587.01 6.572.057 5.56.104 4.87.265 4.265.5A4.66 4.66 0 0 0 2.58 1.598a4.67 4.67 0 0 0-1.097 1.687c-.235.606-.396 1.298-.442 2.312C.996 6.613.985 6.937.985 9.524c0 2.586.01 2.91.057 3.926.046 1.014.207 1.706.442 2.312A4.67 4.67 0 0 0 2.58 17.45a4.66 4.66 0 0 0 1.684 1.099c.604.235 1.295.396 2.307.442 1.015.047 1.338.058 3.92.058s2.906-.011 3.92-.058c1.012-.046 1.703-.207 2.308-.442a4.66 4.66 0 0 0 1.684-1.099 4.67 4.67 0 0 0 1.097-1.687c.235-.606.396-1.298.442-2.312.046-1.015.057-1.34.057-3.926 0-2.587-.011-2.911-.057-3.927-.046-1.014-.207-1.706-.442-2.312a4.67 4.67 0 0 0-1.097-1.687A4.66 4.66 0 0 0 16.72.5c-.605-.235-1.296-.396-2.308-.443C13.398.011 13.074 0 10.492 0m0 1.716c2.539 0 2.84.01 3.842.056.927.042 1.43.197 1.766.327.443.173.76.38 1.093.713.333.333.539.65.711 1.095.13.336.285.84.327 1.768.046 1.005.056 1.306.056 3.849s-.01 2.844-.056 3.848c-.042.929-.197 1.433-.327 1.769a2.95 2.95 0 0 1-.711 1.095c-.333.333-.65.54-1.093.712-.335.13-.839.286-1.766.328-1.002.046-1.303.056-3.842.056-2.538 0-2.84-.01-3.841-.056-.927-.042-1.43-.197-1.766-.328a2.945 2.945 0 0 1-1.093-.712 2.952 2.952 0 0 1-.711-1.095c-.13-.336-.285-.84-.328-1.769-.045-1.004-.055-1.305-.055-3.848s.01-2.844.055-3.849c.043-.928.197-1.432.328-1.768.172-.445.378-.762.71-1.095.334-.333.65-.54 1.094-.713.335-.13.839-.285 1.765-.327 1.003-.046 1.304-.056 3.842-.056\"></path></svg></a></div></div></div><div class=\"_1errZT\" data-lg-2=\"1\" data-md-2=\"1\" data-sm-2=\"1\" data-tiny-8=\"1\" data-xl-2=\"1\" data-xs-4=\"1\"><div class=\"_3Ohjk4\"><a href=\"https://www.sportradar.com/digital/\" rel=\"noopener nofollow\" target=\"_blank\"><svg viewbox=\"0 0 627 60\"><path d=\"M137.8 36.5h5.3v1.7c0 4.2 2.2 5.9 8.1 5.9h12.3c8.6 0 11.3-.3 11.3-5.4v-.3c0-3.3-.9-5.1-7.8-5.1h-17.7c-8.1 0-11.1-2.6-11.1-9.1v-2c0-5.5 3.1-8.6 17.3-8.6h8.8c12.9 0 14.7 3.7 14.7 8.5v1.8h-5.3v-.3c0-5.2-3.5-5.3-9.7-5.3h-10c-8.2 0-10 .8-10 4.7v1.3c0 2.8.9 4.4 6.9 4.4h15.2c8.6 0 14.5.9 14.5 10.1v.1c0 9.5-8.8 9.9-15.8 9.9h-10.5c-8.5 0-16.4 0-16.4-10.2v-2.1zM188.3 14.2h5.3v5.4h.1c1.7-4.1 6.3-5.9 11.4-5.9h11c8.1 0 15.7 2.6 15.7 14.3v6c0 11-4.9 14.7-16.7 14.7h-10.9c-6.1 0-8.8-1.5-10-5.1h-.1V60h-5.7V14.2zm37.8 13.9c0-6.6-2.1-9.7-10.2-9.7h-11.4c-7.5 0-10.4 3.9-10.4 9.8v6.5c0 8.1 5.1 9.5 11.1 9.5h10.2c6.7 0 10.7-1.5 10.7-9.3v-6.8M304.6 14.2h5.3v4.9h.1c2.1-4.4 6.5-5.5 10.4-5.5h5.4c10.7 0 14.3 3.5 14.3 11.8v4.1h-5.3V28c0-8.4-1.7-9.7-11.9-9.7h-3.5c-6.1 0-9 3.9-9 8.3v21.6h-5.7v-34zM351.8 18.9h-7.5v-4.7h7.5V6.1h5.7v8.1h22.8v4.7h-22.8v16.9c0 6.3 2.2 8.3 8.5 8.3h1.8c7.6 0 8.8-1.6 8.8-8.7v-2.5h4.7v3.7c0 6.8-.7 12.2-13.1 12.2h-3.1c-10.7 0-13.3-5.2-13.3-10.7V18.9M388.6 14.2h12v6.5h.1c1.5-5.4 6.7-7 12.5-7 9.3 0 13 4 13 13.4 0 .9-.1 1.8-.1 3H415c0-4.3-1-6.4-6.1-6.4-4.4 0-7.5 1.7-7.5 5.7v18.8h-12.8v-34M430.9 36.3c0-9.3 6.4-9.8 18.8-9.8 7 0 10.9.2 13.3 2.7v-3c0-3.3-1-4.5-6-4.5h-7.5c-3.7 0-4.8.3-4.9 2.7h-12.4c0-9.2 4.5-10.7 15.3-10.7h14.9c8.8 0 13.5 4.2 13.5 12.2v22.3h-12.1v-3.9c-3.5 3.7-4.9 4.4-11.3 4.4h-8.7C436 48.8 431 47 431 39v-2.7zm22.8 4.5c8.8 0 9.6-1.3 9.6-3.6 0-2.5-.7-3.5-7.8-3.5h-5.7c-5.4 0-6.5 1.2-6.5 4 0 2.2 1.7 3.1 6.7 3.1h3.7M482.3 28.2c0-8.7 2-14.5 18.2-14.5h3.8c5.3 0 10.7 1.5 11.5 6.8h.1V0h12.8v48.3h-12V42h-.1c-1.4 4.2-4.6 6.8-12.3 6.8h-3.7c-16.2 0-18.2-5.8-18.2-14.5v-6.1zm12.5 5.1c0 3.8.6 5.9 6.7 5.9h7.5c5.1 0 7.7-1.1 7.7-6.3v-3.3c0-5.1-2.7-6.3-7.7-6.3h-7.5c-6.1 0-6.7 2.1-6.7 5.9v4.1M535.9 36.3c0-9.3 6.4-9.8 18.8-9.8 7 0 10.9.2 13.3 2.7v-3c0-3.3-1-4.5-6-4.5h-7.5c-3.7 0-4.8.3-4.9 2.7h-12.5c0-9.2 4.5-10.7 15.3-10.7h14.9c8.8 0 13.5 4.2 13.5 12.2v22.3h-12.1v-3.9c-3.5 3.7-4.9 4.4-11.3 4.4h-8.7c-7.8.1-12.8-1.7-12.8-9.7v-2.7m22.8 4.5c8.8 0 9.6-1.3 9.6-3.6 0-2.5-.7-3.5-7.8-3.5h-5.7c-5.4 0-6.5 1.2-6.5 4 0 2.2 1.7 3.1 6.7 3.1h3.7M589 14.2h12v6.5h.1c1.5-5.4 6.7-7 12.5-7 9.3 0 13 4 13 13.4 0 .9-.1 1.8-.1 3h-11.1c0-4.3-1-6.4-6.1-6.4-4.4 0-7.5 1.7-7.5 5.7v18.8H589v-34M273.7 18.3H262c-6.7 0-11.3 1.5-11.3 9.5v6.8c0 7.9 4.7 9.5 11.3 9.5h11.7c6.7 0 11.3-1.5 11.3-9.5v-6.8c0-8-4.6-9.5-11.3-9.5\"></path><path d=\"M273.1 8.7h-10.5c-13.9 0-24.1 3.3-24.1 17.7V36c0 14.3 10.1 17.7 24.1 17.7h10.5c13.9 0 24.1-3.3 24.1-17.7v-9.6c-.1-14.3-10.2-17.7-24.1-17.7m17.7 26.2c0 11.2-7.9 13.8-18.8 13.8h-8.2c-10.9 0-18.8-2.6-18.8-13.8v-7.5c0-11.2 7.9-13.8 18.8-13.8h8.2c10.9 0 18.8 2.6 18.8 13.8v7.5M0 38.8c0-2.8.7-5.1 2-6.9 1.3-1.7 3.1-2.6 5.3-2.6 2 0 3.5.7 4.8 2.1v-9.5h4.2v26.2h-3.8l-.2-1.9c-1.2 1.5-2.9 2.3-5 2.3-2.2 0-3.9-.9-5.3-2.6-1.3-1.7-2-4.1-2-7.1m4.2.4c0 1.9.4 3.3 1.1 4.4.7 1.1 1.8 1.6 3.1 1.6 1.7 0 2.9-.8 3.7-2.3V35c-.8-1.5-2-2.2-3.7-2.2-1.3 0-2.4.5-3.1 1.6-.8 1-1.1 2.6-1.1 4.8M32.3 48.2c-.2-.4-.3-.9-.5-1.7-1.3 1.4-2.9 2.1-4.9 2.1-1.9 0-3.4-.5-4.5-1.6-1.2-1.1-1.8-2.4-1.8-3.9 0-2 .7-3.5 2.2-4.5 1.5-1.1 3.6-1.6 6.3-1.6h2.5v-1.2c0-1-.3-1.7-.8-2.3-.5-.6-1.4-.9-2.4-.9-.9 0-1.7.2-2.3.7-.6.5-.9 1.1-.9 1.8h-4.1c0-1 .3-2 1-2.8.7-.9 1.6-1.6 2.7-2.1 1.2-.5 2.4-.8 3.9-.8 2.2 0 3.9.5 5.2 1.6 1.3 1.1 1.9 2.6 2 4.6v8.3c0 1.7.2 3 .7 4v.3h-4.3m-4.6-3c.8 0 1.6-.2 2.3-.6.7-.4 1.3-.9 1.6-1.6v-3.5h-2.2c-1.5 0-2.7.3-3.5.8-.8.5-1.2 1.3-1.2 2.3 0 .8.3 1.4.8 1.9.6.5 1.4.7 2.2.7M46.1 25.2v4.5h3.3v3.1h-3.3v10.3c0 .7.1 1.2.4 1.5.3.3.8.5 1.5.5.5 0 1-.1 1.5-.2v3.2c-.9.3-1.9.4-2.7.4-3.2 0-4.8-1.8-4.8-5.3V32.7h-3v-3.1h3v-4.5h4.1zM64.3 48.2c-.2-.4-.3-.9-.5-1.7-1.3 1.4-2.9 2.1-4.9 2.1-1.9 0-3.4-.5-4.5-1.6-1.2-1.1-1.8-2.4-1.8-3.9 0-2 .7-3.5 2.2-4.5 1.5-1.1 3.6-1.6 6.3-1.6h2.5v-1.2c0-1-.3-1.7-.8-2.3-.5-.6-1.4-.9-2.4-.9-.9 0-1.7.2-2.3.7-.6.5-.9 1.1-.9 1.8H53c0-1 .3-2 1-2.8.7-.9 1.6-1.6 2.7-2.1 1.2-.5 2.4-.8 3.9-.8 2.2 0 3.9.5 5.2 1.6 1.3 1.1 1.9 2.6 2 4.6v8.3c0 1.7.2 3 .7 4v.3h-4.2m-4.6-3c.8 0 1.6-.2 2.3-.6.7-.4 1.3-.9 1.6-1.6v-3.5h-2.2c-1.5 0-2.7.3-3.5.8-.8.5-1.2 1.3-1.2 2.3 0 .8.3 1.4.8 1.9.6.5 1.3.7 2.2.7M98.5 39.1c0 2.9-.6 5.2-1.9 6.9-1.3 1.7-3 2.5-5.3 2.5-2.2 0-3.9-.8-5.1-2.3l-.2 2h-3.8V22h4.2v9.5c1.2-1.4 2.8-2.1 4.8-2.1 2.3 0 4 .8 5.3 2.5 1.3 1.7 1.9 4 1.9 7v.2zm-4.1-.3c0-2-.4-3.5-1.1-4.5-.7-1-1.7-1.5-3.1-1.5-1.8 0-3.1.8-3.8 2.4v7.6c.7 1.6 2 2.4 3.8 2.4 1.3 0 2.3-.5 3-1.5.7-1 1.1-2.4 1.1-4.4v-.5zM109 42.2l3.8-12.5h4.4L109.9 51c-1.1 3.1-3 4.7-5.7 4.7-.6 0-1.3-.1-2-.3v-3.2l.8.1c1 0 1.8-.2 2.4-.6.5-.4.9-1 1.3-1.9l.6-1.6-6.5-18.4h4.5l3.7 12.4\"></path></svg></a></div><div class=\"_3B1uQp\"><svg height=\"35\" viewbox=\"0 0 100.495 100.346\" width=\"35\"><g fill=\"#B4B4B5\"><path d=\"M30.875 27.215h-6.918c-2.659 0-4.028.456-4.028 2.66v2.508c0 2.205 1.369 2.66 4.028 2.66h1.597c.988 0 1.443.533 1.443 2.053v32.84c0 2.661.457 4.029 2.662 4.029h2.583c2.205 0 2.662-1.368 2.662-4.029V29.875c0-2.204-1.369-2.66-4.029-2.66z\"></path><path d=\"M78.297 4.409C75.333 1.521 71.608 0 67.123 0H33.371c-4.485 0-8.286 1.521-11.174 4.409L4.332 22.197C1.521 25.01 0 28.734 0 32.84v34.283c0 4.713 1.597 8.362 4.789 11.479l16.952 16.951c3.344 3.345 7.068 4.865 11.858 4.789h33.296c4.637 0 8.438-1.369 11.858-4.789l16.952-16.951c3.116-3.117 4.789-6.843 4.789-11.479V32.84c0-4.105-1.521-7.83-4.333-10.643L78.297 4.409zm15.585 40.137c0 1.141-.533 1.748-1.597 1.748h-5.093v-3.572c0-2.66-.381-4.028-2.661-4.028H82.25c-2.279 0-2.66 1.368-2.66 4.028v3.572h-3.572c-2.66 0-4.029.381-4.029 2.661v2.433c0 2.28 1.369 2.661 4.029 2.661h3.572v3.572c0 2.66.381 4.028 2.66 4.028h2.281c2.28 0 2.661-1.368 2.661-4.028v-3.572h5.093c.988 0 1.521.532 1.597 1.52v11.555c0 2.812-.837 4.94-2.813 6.842l-16.952 16.95c-1.978 1.977-4.182 2.89-6.917 2.89H33.295c-2.736 0-4.94-.913-6.917-2.89L9.427 73.965c-1.977-1.977-2.891-4.029-2.813-6.842V33.6c0-2.812.913-5.246 2.966-7.298L26.834 8.817c1.749-1.747 3.953-2.28 6.461-2.28H67.2c2.508 0 4.712.533 6.461 2.28l17.256 17.484c1.976 2.052 2.965 4.485 2.965 7.298v10.947z\"></path><path d=\"M63.93 49.716c4.257-3.116 4.333-6.31 4.333-8.895v-2.584c-.456-8.591-3.344-11.859-13.303-11.859-9.957 0-12.846 3.269-13.303 11.859v2.584c0 2.585.076 5.778 4.333 8.895-5.093 1.976-5.473 6.31-5.473 12.01 0 8.438 2.964 12.619 14.442 12.848 11.479-.229 14.444-4.409 14.444-12.848.001-5.701-.379-10.035-5.473-12.01zm-8.97-16.345c4.182 0 5.854 1.521 5.854 6.614 0 4.94-1.673 6.614-5.854 6.614-4.18 0-5.853-1.674-5.853-6.614 0-5.093 1.673-6.614 5.853-6.614zm0 33.98c-4.864 0-6.613-1.899-6.613-6.689 0-4.789 1.749-6.993 6.613-6.993 4.865 0 6.614 2.204 6.614 6.993s-1.749 6.689-6.614 6.689z\"></path></g></svg>Для лиц старше 18 лет</div></div></div></footer></div><div data-slot=\"top-menu-gift\" id=\"slot-top-menu-gift\"></div></div>\n",
       "<script>window.__siteconfig__ = JSON.parse('{\"menu\":[{\"title\":\"Коронавирус\",\"url\":\"/tags/koronavirus\"},{\"title\":\"Футбол\",\"url\":\"/football\",\"image\":\"football\",\"rubric\":[{\"title\":\"РПЛ\",\"sport\":\"football\",\"tournament\":\"rpl\",\"icon\":\"/m/fab0/a9d5/ed42/1968/0758/bbaf/944f/f668/60_60.png\"},{\"title\":\"ФНЛ\",\"sport\":\"football\",\"tournament\":\"fnl\",\"icon\":\"/m/a71e/e439/d001/a763/64b0/0fa3/3658/cf39/60_60.png\"},{\"title\":\"Кубок России\",\"sport\":\"football\",\"tournament\":\"russia-cup\",\"icon\":\"/m/edbd/84a2/6255/3d89/ca11/75dc/5970/5c1b/60_60.png\"},{\"title\":\"Бундеслига\",\"sport\":\"football\",\"tournament\":\"bundesliga\",\"icon\":\"/m/20c1/3295/f689/b7a8/626f/ba0e/e354/e08b/60_60.png\"},{\"title\":\"АПЛ\",\"sport\":\"football\",\"tournament\":\"epl\",\"icon\":\"/m/a89a/1761/77d7/139d/04ac/45a5/b526/4d78/60_60.png\"},{\"title\":\"Ла Лига\",\"sport\":\"football\",\"tournament\":\"primera-division\",\"icon\":\"/m/2bac/587a/003a/4e11/ac5a/23f3/2a12/9c99/60_60.png\"},{\"title\":\"Серия А\",\"sport\":\"football\",\"tournament\":\"seria-a\",\"icon\":\"/m/7bc7/f758/9743/f7d1/de3b/890c/4ed6/60bb/60_60.png\"},{\"title\":\"Лига 1\",\"sport\":\"football\",\"tournament\":\"league-1\",\"icon\":\"/m/eecb/3d4c/0436/0d5a/1f9f/bddd/537f/c02c/60_60.png\"},{\"title\":\"Лига чемпионов\",\"sport\":\"football\",\"tournament\":\"uefa-champions-league\",\"icon\":\"/m/837a/7dd5/3db2/c9f7/4afd/a240/ebf0/799d/60_60.png\"},{\"title\":\"Лига Европы\",\"sport\":\"football\",\"tournament\":\"uefa-europa-league\",\"icon\":\"/m/d853/143f/1335/2ab9/c5b1/75d5/f31a/a255/60_60.png\"},{\"title\":\"Чемпионат Европы\",\"sport\":\"football\",\"tournament\":\"uefa-championship\",\"icon\":\"/m/01b7/3b63/0bf2/8934/d2aa/8a17/4131/5fd2/60_60.png\"},{\"title\":\"Квалификация ЧЕ-2020\",\"sport\":\"football\",\"tournament\":\"uefa-european-championship-qualifications\",\"icon\":\"/m/064d/dc32/3db7/8c2e/5b8a/294b/f9d6/ffe9/60_60.png\"},{\"title\":\"Чемпионат мира\",\"sport\":\"football\",\"tournament\":\"worldcup\",\"icon\":\"/m/617f/fb03/edb0/8865/7a0d/4424/ee13/6a72/60_60.png\"},{\"title\":\"Лига наций\",\"sport\":\"football\",\"tournament\":\"uefa-nations-league\",\"icon\":\"/m/6ff5/764c/e344/f82e/b1df/ae0d/a270/3ad8/60_60.png\"}]},{\"title\":\"Хоккей\",\"url\":\"/hockey\",\"image\":\"hockey\",\"rubric\":[{\"title\":\"КХЛ\",\"sport\":\"hockey\",\"tournament\":\"khl\",\"item\":\"review\",\"icon\":\"/m/1a63/d82e/a6ec/cbff/ce2d/0e52/da10/d4a2/60_60.png\"},{\"title\":\"НХЛ\",\"sport\":\"hockey\",\"tournament\":\"nhl\",\"icon\":\"/m/62ff/51d5/788b/0941/3f3c/f10e/9d0a/9ff4/60_60.png\"},{\"title\":\"ЧМ по хоккею\",\"sport\":\"hockey\",\"tournament\":\"ihwc\",\"icon\":\"/m/1ab9/c0be/8f72/2cdd/e4f1/612c/e6c8/0a3b/60_60.png\"},{\"title\":\"Еврохоккейтур\",\"sport\":\"hockey\",\"tournament\":\"eurohockeytour\",\"icon\":\"/m/7146/9312/5ec3/0369/7766/edcf/44cb/b8a2/60_60.png\"},{\"title\":\"ЧМ по хоккею U20\",\"sport\":\"hockey\",\"tournament\":\"whcu20\",\"icon\":\"/m/6c93/9142/37ca/2dbd/235e/a0f1/d366/d6c0/60_60.png\"},{\"title\":\"Матч звезд КХЛ\",\"sport\":\"hockey\",\"tournament\":\"all-star-game-khl\",\"item\":\"review\",\"icon\":\"/m/7286/7b05/71f0/19c2/52a1/3018/3357/e439/60_60.png\"},{\"title\":\"Матч звезд НХЛ\",\"sport\":\"hockey\",\"tournament\":\"all-star-game-nhl\",\"icon\":\"/m/dec4/9a9f/b8a1/93e2/02cd/dc22/f070/5512/60_60.png\"}]},{\"title\":\"Бокс и MMA\",\"url\":\"/mma\",\"image\":\"mma\"},{\"title\":\"Фигурное катание\",\"url\":\"/figureskating\",\"image\":\"figureskating\"},{\"title\":\"Ставки\",\"url\":\"/betting\",\"image\":\"betting\"},{\"title\":\"Регби\",\"url\":\"/rugby\",\"image\":\"rugby\",\"rubric\":[{\"title\":\"Континентальная клубная регбийная лига\",\"sport\":\"rugby\",\"tournament\":\"continental-club-rugby-league\",\"icon\":\"/m/bc70/8a22/3afa/78f0/b543/35c0/494f/66e3/60_60.png\"},{\"title\":\"Премьер-лига\",\"sport\":\"rugby\",\"tournament\":\"rugby-premier-league\",\"icon\":\"/m/eed9/1db6/882a/7051/5747/5762/c5fa/5860/60_60.png\"},{\"title\":\"Кубок России по регби\",\"sport\":\"rugby\",\"tournament\":\"rugby-russia-cup\",\"icon\":\"/m/eed9/1db6/882a/7051/5747/5762/c5fa/5860/60_60.png\"},{\"title\":\"Премьер-лига-7\",\"sport\":\"rugby\",\"tournament\":\"rugby-seven-premier-league\",\"icon\":\"/m/eed9/1db6/882a/7051/5747/5762/c5fa/5860/60_60.png\"},{\"title\":\"Кубок России по регби-7\",\"sport\":\"rugby\",\"tournament\":\"rugby-seven-russia-cup\",\"icon\":\"/m/eed9/1db6/882a/7051/5747/5762/c5fa/5860/60_60.png\"},{\"title\":\"Чемпионат мира по регби (м)\",\"sport\":\"rugby\",\"tournament\":\"rugby-world-cup-man\",\"icon\":\"/m/48da/7dde/beda/ca8e/1895/8a77/5d5f/695e/60_60.png\"},{\"title\":\"Кубок наций (м)\",\"sport\":\"rugby\",\"tournament\":\"cup_nations_world_rugby\",\"icon\":\"/m/4b1e/e93d/9ecd/3671/d228/4c80/2330/15a3/60_60.png\"},{\"title\":\"Чемпионат Европы по регби (м)\",\"sport\":\"rugby\",\"tournament\":\"rugby-europe-championship-man\",\"icon\":\"/m/2e37/d610/e3cf/0218/1fe1/db5b/9fa1/a73c/60_60.png\"},{\"title\":\"Чемпионат Европы по регби (ж)\",\"sport\":\"rugby\",\"tournament\":\"rugby-europe-championship-woman\",\"icon\":\"/m/b29a/35a8/7e65/0781/0c64/2a3b/c5e5/89ff/60_60.png\"},{\"title\":\"Мировая серия по регби-7 (ж)\",\"sport\":\"rugby\",\"tournament\":\"world-rugby-sevens-series-woman\",\"icon\":\"/m/71df/6f54/4869/39dc/2c20/2b33/3dcf/730b/60_60.png\"}]},{\"title\":\"ЗОЖ\",\"url\":\"/zozh\",\"image\":\"basketballl\"},{\"title\":\"Другое\",\"url\":\"/other\",\"image\":\"other\",\"rubric\":[{\"title\":\"Биатлон\",\"url\":\"/biathlon\",\"image\":\"biathlon\"},{\"title\":\"Ставки\",\"sport\":\"betting\"},{\"title\":\"Автоспорт\",\"sport\":\"auto\"},{\"title\":\"Гольф\",\"sport\":\"golf\"},{\"title\":\"Легкая атлетика\",\"sport\":\"athletics\"},{\"title\":\"Теннис\",\"sport\":\"tennis\"},{\"title\":\"Баскетбол\",\"sport\":\"basketball\"},{\"title\":\"Скачки\",\"sport\":\"skachki\"},{\"title\":\"Киберспорт\",\"sport\":\"cybersport\"},{\"title\":\"Олимпиада\",\"sport\":\"olympics-2018\"},{\"title\":\"Команда Sport24\",\"sport\":\"developers\"}]}],\"mobileMenu\":[{\"title\":\"Коронавирус\",\"url\":\"/tags/koronavirus\"},{\"title\":\"Футбол\",\"url\":\"/football\",\"image\":\"football\",\"rubric\":[{\"title\":\"РПЛ\",\"sport\":\"football\",\"tournament\":\"rpl\",\"icon\":\"/m/fab0/a9d5/ed42/1968/0758/bbaf/944f/f668/60_60.png\"},{\"title\":\"ФНЛ\",\"sport\":\"football\",\"tournament\":\"fnl\",\"icon\":\"/m/a71e/e439/d001/a763/64b0/0fa3/3658/cf39/60_60.png\"},{\"title\":\"Кубок России\",\"sport\":\"football\",\"tournament\":\"russia-cup\",\"icon\":\"/m/edbd/84a2/6255/3d89/ca11/75dc/5970/5c1b/60_60.png\"},{\"title\":\"Бундеслига\",\"sport\":\"football\",\"tournament\":\"bundesliga\",\"icon\":\"/m/20c1/3295/f689/b7a8/626f/ba0e/e354/e08b/60_60.png\"},{\"title\":\"АПЛ\",\"sport\":\"football\",\"tournament\":\"epl\",\"icon\":\"/m/a89a/1761/77d7/139d/04ac/45a5/b526/4d78/60_60.png\"},{\"title\":\"Ла Лига\",\"sport\":\"football\",\"tournament\":\"primera-division\",\"icon\":\"/m/2bac/587a/003a/4e11/ac5a/23f3/2a12/9c99/60_60.png\"},{\"title\":\"Серия А\",\"sport\":\"football\",\"tournament\":\"seria-a\",\"icon\":\"/m/7bc7/f758/9743/f7d1/de3b/890c/4ed6/60bb/60_60.png\"},{\"title\":\"Лига 1\",\"sport\":\"football\",\"tournament\":\"league-1\",\"icon\":\"/m/eecb/3d4c/0436/0d5a/1f9f/bddd/537f/c02c/60_60.png\"},{\"title\":\"Лига чемпионов\",\"sport\":\"football\",\"tournament\":\"uefa-champions-league\",\"icon\":\"/m/837a/7dd5/3db2/c9f7/4afd/a240/ebf0/799d/60_60.png\"},{\"title\":\"Лига Европы\",\"sport\":\"football\",\"tournament\":\"uefa-europa-league\",\"icon\":\"/m/d853/143f/1335/2ab9/c5b1/75d5/f31a/a255/60_60.png\"},{\"title\":\"Чемпионат Европы\",\"sport\":\"football\",\"tournament\":\"uefa-championship\",\"icon\":\"/m/01b7/3b63/0bf2/8934/d2aa/8a17/4131/5fd2/60_60.png\"},{\"title\":\"Квалификация ЧЕ-2020\",\"sport\":\"football\",\"tournament\":\"uefa-european-championship-qualifications\",\"icon\":\"/m/064d/dc32/3db7/8c2e/5b8a/294b/f9d6/ffe9/60_60.png\"},{\"title\":\"Чемпионат мира\",\"sport\":\"football\",\"tournament\":\"worldcup\",\"icon\":\"/m/617f/fb03/edb0/8865/7a0d/4424/ee13/6a72/60_60.png\"},{\"title\":\"Лига наций\",\"sport\":\"football\",\"tournament\":\"uefa-nations-league\",\"icon\":\"/m/6ff5/764c/e344/f82e/b1df/ae0d/a270/3ad8/60_60.png\"}]},{\"title\":\"Хоккей\",\"url\":\"/hockey\",\"image\":\"hockey\",\"rubric\":[{\"title\":\"КХЛ\",\"sport\":\"hockey\",\"tournament\":\"khl\",\"icon\":\"/m/1a63/d82e/a6ec/cbff/ce2d/0e52/da10/d4a2/60_60.png\"},{\"title\":\"НХЛ\",\"sport\":\"hockey\",\"tournament\":\"nhl\",\"icon\":\"/m/62ff/51d5/788b/0941/3f3c/f10e/9d0a/9ff4/60_60.png\"},{\"title\":\"ЧМ по хоккею\",\"sport\":\"hockey\",\"tournament\":\"ihwc\",\"icon\":\"/m/1ab9/c0be/8f72/2cdd/e4f1/612c/e6c8/0a3b/60_60.png\"},{\"title\":\"Еврохоккейтур\",\"sport\":\"hockey\",\"tournament\":\"eurohockeytour\",\"icon\":\"/m/7146/9312/5ec3/0369/7766/edcf/44cb/b8a2/60_60.png\"},{\"title\":\"ЧМ по хоккею U20\",\"sport\":\"hockey\",\"tournament\":\"whcu20\",\"icon\":\"/m/6c93/9142/37ca/2dbd/235e/a0f1/d366/d6c0/60_60.png\"},{\"title\":\"Матч звезд КХЛ\",\"sport\":\"hockey\",\"tournament\":\"all-star-game-khl\",\"icon\":\"/m/7286/7b05/71f0/19c2/52a1/3018/3357/e439/60_60.png\"},{\"title\":\"Матч звезд НХЛ\",\"sport\":\"hockey\",\"tournament\":\"all-star-game-nhl\",\"icon\":\"/m/dec4/9a9f/b8a1/93e2/02cd/dc22/f070/5512/60_60.png\"}]},{\"title\":\"Бокс и MMA\",\"url\":\"/mma\",\"image\":\"mma\"},{\"title\":\"Фигурное катание\",\"url\":\"/figureskating\",\"image\":\"figureskating\"},{\"title\":\"Биатлон\",\"url\":\"/biathlon\",\"image\":\"biathlon\"},{\"title\":\"Ставки\",\"url\":\"/betting\",\"image\":\"betting\"},{\"title\":\"ЗОЖ\",\"url\":\"/zozh\",\"image\":\"basketballl\"},{\"title\":\"Сторис\",\"url\":\"/tags/stories\"},{\"title\":\"Теннис\",\"url\":\"/tennis\",\"image\":\"cybersport\"},{\"title\":\"Регби\",\"url\":\"/rugby\",\"image\":\"rugby\"},{\"title\":\"Баскетбол\",\"url\":\"/basketball\",\"image\":\"cybersport\"},{\"title\":\"Автоспорт\",\"url\":\"/auto\",\"image\":\"other\"},{\"title\":\"Киберспорт\",\"url\":\"/cybersport\",\"image\":\"cybersport\"},{\"title\":\"Гольф\",\"url\":\"/golf\",\"image\":\"basketballl\"},{\"title\":\"Другое\",\"url\":\"/other\",\"image\":\"other\"},{\"title\":\"Спорт на ТВ\",\"url\":\"/tv\",\"image\":\"other\"},{\"title\":\"Фото\",\"url\":\"/photo\",\"image\":\"other\"}],\"topMenu\":[{\"title\":\"Фото\",\"name\":\"Photo\"},{\"title\":\"Подкасты\",\"name\":\"Video\"},{\"title\":\"Тесты\",\"name\":\"Tests\"},{\"title\":\"Подписка\",\"name\":\"Subscribe\"}],\"footer\":{\"links\":[{\"title\":\"О проекте\",\"url\":\"/about\"},{\"title\":\"О персональных данных\",\"url\":\"/policy\"},{\"title\":\"FAQ\",\"url\":\"/faq\"},{\"title\":\"Обратная связь\",\"url\":\"/feedback\"}]},\"smi2\":{\"url\":\"https://smi2.ru/data/js/92351.js\"},\"socialBanners\":[{\"enable\":true,\"type\":1,\"link\":\"https://twitter.com/sport24_ru/\",\"text\":\"Подписывайтесь на нас в Twitter и будьте в курсе всех спортивных новостей\",\"image\":\"b7cc/630c/924d/409d/4716/3a8f/b33a/9b44/1115_252.png\",\"gaEvent\":\"SocialBannerInArticle\",\"gaEventLabel\":\"1\"},{\"enable\":true,\"type\":1,\"link\":\"https://news.yandex.ru/index.html?from=rubric&favid=254154508\",\"text\":\"Подписывайтесь на нас в Яндекс.Новости и будьте в курсе всех спортивных новостей\",\"image\":\"4469/1d28/6ef6/59ba/0fa0/a38b/5245/7bf7/1115_252.png\",\"gaEvent\":\"SocialBannerInArticle\",\"gaEventLabel\":\"2\"},{\"enable\":true,\"type\":1,\"link\":\"https://www.youtube.com/channel/UCvv3Wit_a18sM17CayokObQ?sub_confirmation=1\",\"text\":\"Подписывайтесь на нас в Youtube и будьте в курсе всех спортивных новостей\",\"image\":\"0a68/2c87/d548/8299/3c34/6196/ce92/62c7/1115_252.png\",\"gaEvent\":\"SocialBannerInArticle\",\"gaEventLabel\":\"3\"},{\"enable\":true,\"type\":1,\"link\":\"https://vk.com/sport24_ru\",\"text\":\"Подписывайтесь на нас в VK и будьте в курсе всех спортивных новостей\",\"image\":\"106d/2378/b29b/6802/7fca/cbd5/4fcb/aa07/1115_252.png\",\"gaEvent\":\"SocialBannerInArticle\",\"gaEventLabel\":\"4\"},{\"enable\":true,\"type\":1,\"link\":\"https://tele.click/sport24ru\",\"text\":\"Подписывайтесь на нас в Telegram и будьте в курсе всех спортивных новостей\",\"image\":\"cd56/67c7/7075/a7ba/9b14/0548/6d22/dc7e/1115_252.png\",\"gaEvent\":\"SocialBannerInArticle\",\"gaEventLabel\":\"5\"},{\"enable\":true,\"type\":1,\"link\":\"http://ok.ru/sport24ru\",\"text\":\"Подписывайтесь на нас в OK и будьте в курсе всех спортивных новостей\",\"image\":\"1287/6ea4/aba0/1a40/e349/6f20/3c74/6826/1115_252.png\",\"gaEvent\":\"SocialBannerInArticle\",\"gaEventLabel\":\"6\"},{\"enable\":true,\"type\":1,\"link\":\"https://instagram.com/sport24ru/\",\"text\":\"Подписывайтесь на нас в Instagram и будьте в курсе всех спортивных новостей\",\"image\":\"c3cf/1bf5/bcef/90d6/03ba/6556/c542/1872/1115_252.png\",\"gaEvent\":\"SocialBannerInArticle\",\"gaEventLabel\":\"7\"},{\"enable\":true,\"type\":1,\"link\":\"https://www.facebook.com/sport24ru/\",\"text\":\"Подписывайтесь на нас в Facebook и будьте в курсе всех спортивных новостей\",\"image\":\"3237/bfe8/1f19/c41c/138f/c29d/b50c/1a54/1115_252.png\",\"gaEvent\":\"SocialBannerInArticle\",\"gaEventLabel\":\"8\"}],\"seo\":[{\"url\":\"/search\",\"title\":\"Поиск на сайте - Новости спорта Sport24\",\"description\":\"Поиск на сайте новостей спорта Sport24\",\"keywords\":\"поиск на сайте, новости спорта Sport24\"},{\"url\":\"/\",\"title\":\"Новости спорта - футбол, баскетбол, теннис, киберспорт на sport24 \",\"description\":\"Фото, видео, онлайн трансляции, самые свежие новости всех видов спорта сегодня. Аналитика, интервью, блоги. Расписание матчей, результаты, статистика.\",\"keywords\":\"новости спорта, Sport24\"},{\"url\":\"/teams/:team/calendar\",\"title\":\"{title} - турнирная таблица, календарь, расписание игр команды, когда и где играют в 2019 2020\",\"description\":\" {title} - календарь, расписание матчей в турнирах и лигах на сегодня, на месяц, на сезон, онлайн трансляции матчей команды {title}.\",\"keywords\":\"турнирная таблица {title}\"},{\"url\":\"/teams/:team/players\",\"title\":\"{title} - состав команды в сезоне 2019 2020 - нападающие, защитники, бомбардиры, новички\",\"description\":\"Состав команды {title} на сезон 2019/20 - переходы, трансферы, изменения в составе, кто играет\",\"keywords\":\"игроки {title}, состав {title}\"},{\"url\":\"/teams/:team/statistics\",\"title\":\"{title} - статистика по годам и лигам, турнирная история команды\",\"description\":\"Как сыграла команда {title} в сезоне 2019/20, голы, поражения, победы, какое место заняла, статистика команды, турнирная история, сколько игр за сезон\",\"keywords\":\"статистика {title}, турнирная история {title}\"},{\"url\":\"/teams/:team/materials\",\"title\":\"{title} - фото 2020, видео, новости команды, свежая информация, подборки, интервью с игроками\",\"description\":\"{title} - новости на сегодня, статьи, фото 2020, все факты и слухи на Sport24.ru\",\"keywords\":\"статьи {title}, интервью {title}, новости команды\"},{\"url\":\"/teams/:team\",\"title\":\"{title} - состав, новости команды на сегодня, матчи, статистика, расписание игр в сезоне 2019 2020, прямые трансляции онлайн\",\"description\":\"Последние новости команды {title} онлайн - слухи, фото, трансферы, игроки - защитники, вратарь, нападающие. Видео, интервью и статистика 2020. Онлайн-трансляции, репортажи и многое другое на Sport24.ru\",\"keywords\":\"{title}\"},{\"url\":\"/players/:player/calendar\",\"title\":\"{title} - где и за какие команды играет в сезоне, в каких турнирах и когда, календарь и расписание матчей на сезон\",\"description\":\"В каких командах играет игрок {title} в этом году, календарь и расписание турниров и матчей игрока\",\"keywords\":\"{title}\"},{\"url\":\"/players/:player/statistics\",\"title\":\"{title} - статистика в сезоне. Количество голов, пасов, желтые карточки, красные карточки, турнирная история и все мачти\",\"description\":\"Турнирная история, количество забитых голов, какие когда карточки получал, туры лиг, статистика по матчам за все время\",\"keywords\":\"{title}\"},{\"url\":\"/players/:player/materials\",\"title\":\"{title} -все интересные материалы об игроке, интервью, фото 2020, эксклюзивы, события из жизни, новости, факты, видео\",\"description\":\"Подборка всех материалов об игроке по имени {title}. Последние новости и иинтересные статьи.\",\"keywords\":\"{title}\"},{\"url\":\"/players/:player\",\"title\":\"{title} - где играет, биография, фото, интервью 2020, лучшие голы, статистика\",\"description\":\"Последние новости из жизни игрока {title}. В какой команде играет, инстаграм, личная жизнь, интервью и статистика 2020. \",\"keywords\":\"{title}\"},{\"url\":\"/tags/chempionat-mira-figurnoe-katanie\",\"title\":\"Чемпионат мира по фигурному катанию 2020 – расписание, женщины и мужчины – смотреть онлайн последние новости на Sport24.ru\",\"description\":\"Чемпионат мира по фигурному катанию 2020 – читать последние новости и смотреть трансляции онлайн на Sport24! Расписание, женщины и мужчины\"},{\"url\":\"/tags/koronavirus\",\"title\":\"{title} - статистика, последние новости, спортивные события на Sport24.ru\",\"description\":\"Статистика распространения Коронавируса COVID-19 в России и мире. Следите за событиями на Sport24.ru\"},{\"url\":\"/tags/:tag\",\"title\":\"{title} - подборка новостей по теме. Фото, видео, интервью 2020, события на Sport24.ru\",\"description\":\"Последние спортивные новости по теме {title}. Статистика, онлайн трансляции, репортажи и многое другое на Sport24.ru\",\"keywords\":\"{title}\"},{\"url\":\"/zozh\",\"title\":\"ЗОЖ: все про здоровый образ жизни на Sport24.ru\",\"description\":\"Правильное питание, избавиться от лишнего веса, как начать заниматься спортом, какой спорт лучше, режиме и распорядок дня, как быть продуктивным, заниматься ли фитнесом, как начать ходить в тренажерный зал, йога, силовые тренировки, кроссфит - на sport24.ru\",\"keywords\":\"зож, новости спорта Sport24.ru\",\"newsTitle\":\"Новости ЗОЖ\"},{\"url\":\"/football\",\"title\":\"Новости футбола России и мира сегодня - футбольные новости онлайн на Sport24.ru\",\"description\":\"У нас можно читать новости о футболе каждый день. Новости клубов, интервью игроков, интересные факты и события - главные футбольные новости сегодня, завтра и всегда. Мировой и Европеский футбол. У нас есть все про футбол - спорт на sport24.\",\"keywords\":\"футбол, новости спорта Sport24.ru\",\"newsTitle\":\"Новости футбола\"},{\"url\":\"/leagues/rpl\",\"title\":\"РПЛ (РФПЛ), Российская Премьер-Лига 2019/2020- расписание, турнирная таблица, календарь. Вся информация о РПЛ на Sport24.ru\",\"description\":\"РПЛ (РФПЛ), Российская Премьер-Лига 2019/20 - когда начнется, команды, турнирная таблица, матчи, кто играет, трансферы. Новости онлайн, интервью, турнирная таблица. Вся актуальная информация на Sport24.ru\",\"keywords\":\"РПЛ, РФПЛ, Российская Премьер-Лига\"},{\"url\":\"/leagues/kubok-mira-po-biatlonu\",\"title\":\"Кубок мира по биатлону 2019-2020 - расписание, календарь, трансляции, последние новости\",\"description\":\"Кубок мира по биатлону 2019-2020 - расписание и календарь, этапы гонок (мужчины и женщины), последние новости и онлайн-трансляции на Sport24.ru\"},{\"url\":\"/leagues/:league(/review/:season)\",\"title\":\"{tournament} - расписание, турнирная таблица, календарь. Вся информация о {tournament} на Sport24.ru\",\"description\":\"{tournament} - когда начнется, команды, турнирная таблица, матчи, кто играет, трансферы. Новости онлайн, интервью, турнирная таблица. Вся актуальная информация на Sport24.ru\",\"keywords\":\"{tournament}\"},{\"url\":\"/leagues/rpl/teams\",\"title\":\"РПЛ (РФПЛ), Российская Премьер-Лига 2019/2020 – какие команды играют, состав команд - защитники, нападающие, вратари на Sport24.ru\",\"description\":\"РПЛ (РФПЛ), Российская Премьер-Лига 2019/20 - кто играет, составы команд сезона, кто на вылет и другие новости на Sport24.ru\",\"keywords\":\"РПЛ, РФПЛ, Российская Премьер-Лига, турнирная таблица, расписание матчей\"},{\"url\":\"/leagues/:league/teams(/:season)\",\"title\":\"{tournament} – какие команды играют, состав команд - защитники, нападающие, вратари на Sport24.ru\",\"description\":\"{tournament} - кто играет, составы команд сезона, кто на вылет и другие новости на Sport24.ru\",\"keywords\":\"{tournament}, турнирная таблица, расписание матчей\"},{\"url\":\"/leagues/:league/calendar(/:season)\",\"title\":\"Турнирная таблица {tournament} – расписание матчей, календарь игр\",\"description\":\"{tournament} - таблицы, итоги матчей, кто играет, расписание игр, когда какой матч, результаты, счет, кто победил\",\"keywords\":\"{tournament}, турнирная таблица, расписание матчей\"},{\"url\":\"/leagues/:league/materials(/:season)\",\"title\":\"Последние новости про турнир {tournament} – интервью, статьи, итоги матчей, кто чемпион\",\"description\":\"{tournament} - все последние новости онлайн сегодня, обзоры, лучшие моменты \",\"keywords\":\"{tournament}, новости\"},{\"url\":\"/leagues/:league/transfers(/:season)\",\"title\":\"Трансферы {tournament} – таблица переходов на Sport24.ru\",\"description\":\"{tournament} - переходы, трансферы, последние новости, сезон 2019 2020\",\"keywords\":\"{tournament}, трансферы\"},{\"url\":\"/leagues/:league/statistics(/:season)\",\"title\":\"Статистика {tournament} – лучшие бомбардиры, статистика по карточкам, матчам, командам\",\"description\":\"Статистика {tournament} -матчи, команды, желтые и красные карточки, матчи, обзор статистики \",\"keywords\":\"{tournament}, статистика\"},{\"url\":\"/articles/teams/:team\",\"title\":\"Статьи {title} сегодня: статистика матчей, последние новости на сегодня за 1 час-новостное издание о российском футболе sport24.ru\",\"description\":\"{tournament}: новости на сегодня за 1 час - результаты матчей, последние новости, обзоры прошедших игр. Футбол на sport24.\",\"keywords\":\"Новости {tournament}, новости, сегодня, новости спорта Sport24.ru\"},{\"url\":\"/teams/fk-manchester-yunayted\",\"title\":\"ФК Манчестер Юнайтед (Manchester United)- последние новости, состав и трансферы 2018. Футбольный клуб МЮ: новости команды на сегодня, фото и видео на Sport24.ru\",\"description\":\"ФК Манчестер Юнайтед - результаты матчей, последние новости, обзоры прошедших игр. Футбол на sport24.\",\"keywords\":\"ФК Манчестер Юнайтед, новости, сегодня, новости спорта Sport24\"},{\"url\":\"/hockey/teams/dinamo_mn\",\"title\":\"Хоккейный клуб Динамо Минск - Информация о команде - Состав - Ближайшие матчи - Новости хоккей Sport24\",\"description\":\"Хоккейный клуб Динамо Минск - результаты матчей, последние новости, обзоры прошедших игр. Футбол на sport24.\",\"keywords\":\"Хоккейный клуб Динамо Минск, новости, сегодня, новости спорта Sport24\"},{\"url\":\"/players/daniil-kvyat\",\"title\":\"Даниил Квят - последние новости формулы 1, фото, видео, интервью 2018 Квята на Sport24\",\"description\":\"Даниил Квят - результаты гонок, последние новости, обзоры прошедших гонок. Футбол на sport24.\",\"keywords\":\"Даниил Квят, новости, сегодня, новости спорта Sport24\"},{\"url\":\"/hockey\",\"title\":\"Хоккей сегодня, главные новости хоккея России и мира - Sport24\",\"description\":\"Все о хоккее - новости хоккейных чемпионатов России и Мира. Результаты, аналитика, анонс предстоящих матчей. Новоти хоккея на спортивном портале Sport24.ru\",\"keywords\":\"хоккей, новости спорта Sport24\",\"newsTitle\":\"Новости хоккея\"},{\"url\":\"/biathlon\",\"title\":\"Новости биатлона на сегодня, результаты, рейтинг и новости биатлонных чемпионатов - Sport24\",\"description\":\"Последние новости биатлона - новости на сегодня. Результаты чемпионатов. Всё о биатлоне - sport24.ru.\",\"keywords\":\"биатлон, новости спорта Sport24\",\"newsTitle\":\"Новости биатлона\"},{\"url\":\"/other/cybersport\",\"title\":\"Киберспорт - The International 2020 - главный турнир по Dota 2. Новости, трансляция онлайн на Cybersport на Sport24.ru\",\"description\":\"Новости киберспорта (cybersport). The International 2020 - прямая трансляция из Шанхая, итоги отборочного, команды участники, рейтинг команд, призовой фонд, Virtus.pro на Интернейшнл. Прогнозы, распределенние prize pull, изменения фонда и другая информация на портале sport24.\",\"keywords\":\"Киберспорт, новости спорта sport24, International 2020\",\"newsTitle\":\"Новости киберспорта\"},{\"url\":\"/other/skachki\",\"title\":\"Лошадиные скачки - смотреть трансляцию онлайн, новости конного спорта на Sport24.ru\",\"description\":\"Где и как сделать ставки на конный спорт в 2020, прогноз ставок, новости, видео, трансляции, лайфхаки, правила ставок на скачки на лошадях.\",\"keywords\":\"скачки, конный спорт, новости онлайн\",\"newsTitle\":\"Новости конного спорта\"},{\"url\":\"/other/auto\",\"title\":\"Формула 1 - смотреть трансляцию онлайн, новости автоспорта на Sport24.ru\",\"description\":\"Новости Формулы 1, Гран-при Сочи, трансляции, результаты, календарь.\",\"keywords\":\"формула 1, гран при сочи, автоспорт, новости формулы 1\",\"newsTitle\":\"Новости автоспорта и Формулы 1\"},{\"url\":\"/other/tennis\",\"title\":\"Новости тенниса на сегодня, результаты, рейтинг и новости теннисных чемпионатов -Sport24\",\"description\":\"Последние новости большого тенниса - новости мирового тенниса на сегодня. Результаты чемпионатов. Всё о теннисе - Sport24.ru.\",\"keywords\":\"теннис, новости спорта Sport24.ru\",\"newsTitle\":\"Новости тенниса\"},{\"url\":\"/mma\",\"title\":\"Новости MMA(ММА) и UFC (ЮФС) - бои без правил, свежие новости на сегодня смешанных единоборств MMA и UFC на sport24 новости от экспертов\",\"description\":\"Новости единоборств MMA и боёв без правил. Последние новости организации UFC. Интервью экспертов, результаты боёв. Всё о MMA на портале sport24.\",\"keywords\":\"MMA, новости спорта Sport24\",\"newsTitle\":\"Новости бокса и ММА\"},{\"url\":\"/other/basketball\",\"title\":\"Баскетбол - последние новости баскетбола России и мира, трансферы, результаты на сегодня, фото\",\"description\":\"Все последние баскетбольные новости России и мира, обзоры прошедших матчей, аналитика, статьи и интервью. Всё о баскетболе на sport24.\",\"keywords\":\"баскетбол, новости спорта Sport24\",\"newsTitle\":\"Новости баскетбола\"},{\"url\":\"/other/betting\",\"title\":\"Ставки - новости, результаты, видео. Ставки на Sport24.ru\",\"description\":\"Все ставки, аналитика, статьи и интервью. Всё о ставках на sport24.\",\"keywords\":\"Ставки, новости спорта Sport24\"},{\"url\":\"/betting\",\"title\":\"Ставки - новости, результаты, видео. Ставки на Sport24.ru\",\"description\":\"Все ставки, аналитика, статьи и интервью. Всё о ставках на sport24.\",\"keywords\":\"Ставки, новости спорта Sport24\"},{\"url\":\"/about\",\"title\":\"О проекте - Новости спорта Sport24\",\"description\":\"Информация о проекте «Новости спорта sport24»\",\"keywords\":\"о проекте, новости спорта Sport24\"},{\"url\":\"/feedback\",\"title\":\"Обратная связь - Новости спорта Sport24\",\"description\":\"Связаться с нами - Обратная связь - Новости спорта Sport24\",\"keywords\":\"обратная связь, новости спорта Sport24\"},{\"url\":\"/faq\",\"title\":\"Часто задаваемые вопросы - Новости спорта Sport24\",\"description\":\"Часто задаваемые вопросы о проекте «Новости спорта sport24»\",\"keywords\":\"о проекте, новости спорта sport24\"},{\"url\":\"/tests\",\"title\":\"Тесты про спорт - Проверьте свои знания - Новости спорта Sport24\",\"description\":\"Тесты про спорт - Проверьте свои знания в занимательных тестах - Новости спорта Sport24\",\"keywords\":\"тесты, спорт, новости спорта sport24\"},{\"url\":\"/olympics-2018\",\"title\":\"Олимпиада 2018 Пхенчхан – расписание, новости, медальный зачет зимних Олимпийских игр – Sport24\",\"description\":\"Зимние Олимпийские игры 2018 года, Пхенчхан, Южная Корея – календарь и результаты, новости, онлайн-трансляции, медальные зачёты, статистика, выступление сборной России. Олимпиада 2018\",\"keywords\":\"олимпийские игры, Пхенчхан, Южная Корея\"},{\"url\":\"/comments/rules\",\"title\":\"Правила комментирования\",\"description\":\"Правила комментирования\",\"keywords\":\"правила, комментарии\"},{\"url\":\"/auth/restore/*\",\"title\":\"Восстановление пароля\",\"description\":\"Восстановление пароля\",\"keywords\":\"пароль, восстановление\"},{\"url\":\"/auth/confirm/*\",\"title\":\"Подтверждение регистрации\",\"description\":\"Подтверждение регистрации\",\"keywords\":\"регистрация, подтверждение\"},{\"url\":\"/auth/agreement\",\"title\":\"Публичная оферта\",\"description\":\"Публичная оферта\",\"keywords\":\"публичная, оферта\"},{\"url\":\"/subscribe/agreement\",\"title\":\"Оферта подписки\",\"description\":\"Оферта подписки\",\"keywords\":\"оферта, подписка\"},{\"url\":\"/transfers\",\"title\":\"Трансферы 2020. Межсезонье. Зимнее трансферное окно 2019/20. - Чемпионат России по футболу (РПЛ), европейский футбол. Все переходы футболистов на Sport24.ru\",\"description\":\"Трансферы 2020. Когда закрывается зимнее трансферное окно 2019/20. - РФПЛ, Премьер-Лига, Серия А, Ла Лига, Лига 1, Бундеслига. Все переходы футболистов на Sport24.ru\"},{\"url\":\"/photo\",\"title\":\"Спортивные фото. Альбомы спорт фотографий на Sport24.ru\",\"description\":\"Спортивные события в фотографиях. Лучшие футбольные, хоккейные и другие фото\",\"keywords\":\"фото, новости спорта sport24\"},{\"url\":\"/photo/other/:urn\",\"title\":\"Спортивные фото. Альбомы спорт фотографий на Sport24.ru\",\"description\":\"Спортивные события в фотографиях. Лучшие футбольные, хоккейные и другие фото\",\"keywords\":\"фото, новости спорта sport24\"},{\"url\":\"/photo/:sport/:urn\",\"title\":\"{title} - Спортивные фото. Альбомы спорт фотографий на Sport24.ru\",\"description\":\"{sport} - Спортивные события в фотографиях. Лучшие футбольные, хоккейные и другие фото\",\"keywords\":\"{sport}, фото, новости спорта sport24\"},{\"url\":\"/video/:sport/:urn\",\"title\":\"{title} - Видео - Новости спорта Sport24\",\"description\":\"{sport} - Видео - Аналитика событий - Новости спорта Sport24\",\"keywords\":\"{sport}, видео, новости спорта sport24\"},{\"url\":\"/video\",\"title\":\"Видео - Новости спорта Sport24\",\"description\":\"Видео - Аналитика событий - Новости спорта Sport24\",\"keywords\":\"видео, новости спорта sport24\"},{\"url\":\"/video/stories\",\"title\":\"Спортивные видео-сюжеты - смотреть онлайн на Sport24.ru\",\"description\":\"Смотреть спортивные видео-сюжеты онлайн на сайте Sport24.ru! Самые актуальные новости спорта.\"},{\"url\":\"/video/broadcast\",\"title\":\"Спортивные трансляции - смотреть онлайн на Sport24.ru\",\"description\":\"Смотреть спортивные трансляции онлайн на сайте Sport24.ru! Самые актуальные новости спорта.\"},{\"url\":\"/video/highlight\",\"title\":\"Хайлайты - смотреть онлайн на Sport24.ru\",\"description\":\"Смотреть хайлайты онлайн на сайте Sport24.ru! Самые актуальные новости спорта.\"},{\"url\":\"/video/:program\",\"title\":\"Видео - Новости спорта Sport24\",\"description\":\"Видео - Аналитика событий - Новости спорта Sport24\",\"keywords\":\"видео, новости спорта sport24\"},{\"url\":\"/audio(/:sport)\",\"title\":\"Слушать спортивные подкасты. Аудио-ролики о спортивных мероприятиях на Sport24.ru\",\"description\":\"Спортивные подкасты от Sport24. Свежие спортивные новости - Аналитика, интервью, фото, видео, статистика, блоги - Новости спорта Sport24\",\"keywords\":\"аудио, новости спорта sport24\"},{\"url\":\"/tv\",\"title\":\"Программа передач. Спорт на ТВ - телепрограмма\",\"description\":\"Телеканалы Матч ТВ, Наш спорт, Боец, Арена, Наш футбол, Матч Премьер - расписание трансляций. Календарь спортивных программ на телевидении\",\"keywords\":\"тв, новости спорта sport24\"},{\"url\":\"/tv/:program/:urn\",\"title\":\"Анонс трансляции. Спорт на ТВ - телепрограмма\",\"description\":\"Телеканалы Матч ТВ, Наш спорт, Боец, Арена, Наш футбол, Матч Премьер - анонс трансляции. Описание\",\"keywords\":\"аудио, новости спорта sport24\"},{\"url\":\"/news/:sport/:urn\",\"title\":\"{title} - {date} - Sport24\",\"ogTitle\":\"{title}\",\"description\":\"{description}\",\"keywords\":\"{title}, {date}, новости спорта sport24\"},{\"url\":\"/live/:sport/:urn\",\"title\":\"{title} - {date} - Live-трансляция - Sport24\",\"description\":\"{title} - онлайн, трансляция, live - Sport24\",\"keywords\":\"{title}, {date}, онлайн, трансляция, live, новости спорта sport24\"},{\"url\":\"/other\",\"title\":\"Новости других видов спорта на сегодня, результаты, рейтинг и новости чемпионатов - Sport24\",\"description\":\"Последние новости других видов спорта - новости на сегодня. Результаты чемпионатов. Всё о других видах спорта - sport24.ru.\",\"keywords\":\"новости спорта sport24\",\"newsTitle\":\"Новости других видов спорта\"},{\"url\":\"/other/biathlon\",\"title\":\"Новости биатлона на сегодня, результаты, рейтинг и новости биатлонных чемпионатов - Sport24\",\"description\":\"Последние новости биатлона - новости на сегодня. Результаты чемпионатов. Всё о биатлоне - sport24.ru.\",\"keywords\":\"биатлон, новости спорта sport24\",\"newsTitle\":\"Новости биатлона\"},{\"url\":\"/other/athletics\",\"title\":\"Новости легкой атлетики на сегодня, результаты, рейтинг и новости легкоатлетических чемпионатов - Sport24\",\"description\":\"Последние новости легкой атлетики - новости на сегодня. Результаты чемпионатов. Всё о легкой атлетике - sport24.ru.\",\"keywords\":\"легкая атлетика, новости спорта sport24\",\"newsTitle\":\"Новости легкой атлетики\"},{\"url\":\"/other/olympics-2018\",\"title\":\"Новости Олимпиады 2018 на сегодня, результаты, рейтинг и новости Олимпийских игр - Sport24\",\"description\":\"Последние новости Олимпиады - новости на сегодня. Результаты чемпионатов. Всё об Олимпиаде - sport24.ru.\",\"keywords\":\"Олимпиада, олимпийские игры, новости спорта sport24\",\"newsTitle\":\"Новости Олимпиады\"},{\"url\":\"/other/rugby\",\"title\":\"Новости регби на сегодня, результаты, рейтинг и новости чемпионатов по регби - Sport24\",\"description\":\"Последние новости регби - новости на сегодня. Результаты чемпионатов. Всё о  регби - sport24.ru.\",\"keywords\":\"регби, новости спорта sport24\",\"newsTitle\":\"Новости регби\"},{\"url\":\"/rugby\",\"title\":\"Новости регби на сегодня, результаты, рейтинг и новости чемпионатов по регби - sport24\",\"description\":\"Последние новости регби - новости на сегодня. Результаты чемпионатов. Всё о  регби - sport24.ru.\",\"keywords\":\"регби, новости спорта sport24\",\"newsTitle\":\"Новости регби\"},{\"url\":\"/golf\",\"title\":\"Новости гольфа на сегодня, результаты, рейтинг и новости чемпионатов по гольфу - Sport24\",\"description\":\"Последние новости гольфа - новости на сегодня. Результаты чемпионатов. Всё о  гольфе - sport24.ru.\",\"keywords\":\"гольф, новости спорта sport24\",\"newsTitle\":\"Новости гольфа\"},{\"url\":\"/tennis\",\"title\":\"Новости тенниса на сегодня, результаты, рейтинг и новости чемпионатов по теннису - Sport24\",\"description\":\"Последние новости тенниса - новости на сегодня. Результаты чемпионатов. Всё о теннисе - sport24.ru.\",\"keywords\":\"теннис, новости спорта sport24\",\"newsTitle\":\"Новости тенниса\"},{\"url\":\"/figureskating\",\"title\":\"Новости фигурного катания на сегодня, результаты, рейтинг и новости чемпионатов по фигурному катанию - Sport24\",\"description\":\"Последние новости фигурного катания - новости на сегодня. Результаты чемпионатов. Всё о фигурном катании - sport24.ru.\",\"keywords\":\"фигурное катание, новости спорта sport24\",\"newsTitle\":\"Новости фигурного катания\"},{\"url\":\"/other/developers\",\"title\":\"Новости разработки портала Sport24\",\"description\":\"Последние новости разработки - Sport24.ru\",\"keywords\":\"разработка, новости спорта sport24\",\"newsTitle\":\"Новости разработки\"},{\"url\":\"/user/*\",\"title\":\"Профиль пользователя Sport24.ru\",\"description\":\"Пользователський профиль на Sport24.ru\",\"keywords\":\"профиль, пользователь, новости спорта sport24\",\"newsTitle\":\"Профиль пользователя\"},{\"url\":\"/articles/:sport\",\"title\":\"{sport}: Статьи - Новости, результаты матчей, турнирная таблица, ставки - Новости спорта Sport24\",\"description\":\"{sport} - Статьи - Свежие новости - Результаты матчей, турнирная таблица - Ставки на спорт - Новости спорта Sport24\",\"keywords\":\"{sport}, Статьи, новости, ставки, турнирная таблица, результаты матчей, новости спорта sport24\"},{\"url\":\"/mobile-news/:sport\",\"description\":\"{sport} - Свежие новости - Результаты матчей, турнирная таблица - Ставки на спорт - Новости спорта Sport24\",\"keywords\":\"{sport}, новости, ставки, турнирная таблица, результаты матчей, новости спорта sport24\",\"title\":\"{sport} - Новости, результаты матчей, турнирная таблица, ставки - Новости спорта Sport24\"},{\"url\":\"/mobile-news/:sport/*\",\"description\":\"{sport} :{tournament} - Свежие новости - Результаты матчей, турнирная таблица - Ставки на спорт - Новости спорта Sport24\",\"keywords\":\"{sport}, {tournament}, новости, ставки, турнирная таблица, результаты матчей, новости спорта sport24\",\"title\":\"{sport}: {tournament} - Новости, результаты матчей, турнирная таблица, ставки - Новости спорта Sport24\"},{\"url\":\"/leagues/:league/match/:match\",\"title\":\"{home} - {away} матч {date} - Результаты, счет матча, {tournament} 2019-2020 - Новости спорта Sport24\",\"description\":\"Матч {home} - {away} {date} - Результаты и статистика - Составы команд - Новости спорта Sport24\",\"keywords\":\"матч {home} - {away} {date}, {sport}, результаты, статистика, новости спорта sport24\"},{\"url\":\"/leagues/:league/match/:match/roster\",\"title\":\"Состав команд {home} - {away} на матч {date} - {tournament} 2019-2020 - Новости спорта Sport24\",\"description\":\"Составы команд на матче {home} - {away} {date} - кто играет - читайте на Sport24.ru\",\"keywords\":\"матч {home} - {away} {date}, {sport}, результаты, статистика, новости спорта sport24\"},{\"url\":\"/leagues/:league/match/:match/materials\",\"title\":\"Последние новости матча {home} - {away} {date} - {tournament} 2019-2020 - Новости спорта Sport24\",\"description\":\"Все материалы о матче {home} - {away} {date} - читайте последние новости на Sport24.ru\",\"keywords\":\"матч {home} - {away} {date}, {sport}, результаты, статистика, новости спорта sport24\"},{\"url\":\"/leagues/:league/match/:match/broadcast\",\"title\":\"Смотреть матч онлайн {home} - {away} {date} - прямая текстовая трансляция матча {tournament} 2019-2020 - Новости спорта Sport24\",\"description\":\"Смотреть матч онлайн {home} - {away} {date} - на Sport24\",\"keywords\":\"матч {home} - {away} {date}, {sport}, результаты, статистика, новости спорта sport24\"},{\"url\":\"/leagues/:league/match/:match/text-online\",\"title\":\"Текстовая трансляция матча {home} - {away} {date} - читать онлайн на Sport24.ru\",\"description\":\"Полная текстовая трансляция матча {home} - {away} {date} - {tournament} 2019-2020 - читать онлайн на Sport24.ru\"},{\"url\":\"/leagues/:league/match/:match/statistics\",\"title\":\"Статистика матча {home} - {away} {date} - {tournament} 2019-2020 - Новости спорта Sport24\",\"description\":\"Матч {home} - {away} {date} - Результаты и статистика - Составы команд - Новости спорта Sport24\",\"keywords\":\"матч {home} - {away} {date}, {sport}, результаты, статистика, новости спорта sport24\"},{\"url\":\"/policy\"},{\"url\":\"/oferta-complete\"},{\"url\":\"/agreement\"},{\"url\":\"/matches\",\"title\":\"Расписание матчей - Вчера, Сегодня, Завтра - на Sport24\",\"description\":\"Расписание матчей - Вчера, Сегодня, Завтра - читайте на Sport24\"},{\"url\":\"/matches/*\"},{\"url\":\"/:sport\",\"title\":\"{sport} - Новости, фото, видео, статистика, таблицы, трансферы, онлайн - Sport24\",\"description\":\"{sport} - Новости, фото, видео, статистика, трансферы, онлайн - Новости спорта Sport24\",\"keywords\":\"{sport}, новости, сегодня, новости спорта sport24\"}]}')</script>\n",
       "<script>window.__model__ = JSON.parse('null')</script></body></html>"
      ]
     },
     "execution_count": 77,
     "metadata": {},
     "output_type": "execute_result"
    }
   ],
   "source": [
    "soup"
   ]
  },
  {
   "cell_type": "code",
   "execution_count": 74,
   "metadata": {},
   "outputs": [],
   "source": [
    "browser = webdriver.Chrome('C:\\\\Users\\\\manal\\\\chromedriver')\n",
    "browser.set_window_size(980, 924)\n",
    "browser.get(link)\n",
    "soup = BeautifulSoup(browser.page_source)"
   ]
  },
  {
   "cell_type": "code",
   "execution_count": 75,
   "metadata": {},
   "outputs": [
    {
     "data": {
      "text/plain": [
       "<html class=\"html--mobile\" data-react-helmet=\"lang\" lang=\"ru\"><head>\n",
       "<meta charset=\"utf-8\" data-react-helmet=\"true\"/><meta content=\"width=device-width, initial-scale=1, maximum-scale=1, minimum-scale=1, user-scalable=no\" data-react-helmet=\"true\" name=\"viewport\"/><meta content=\"u9G2-RbHNa5sNGquexw5ukcZzwyZ2i4AoORmwwYP0B0\" data-react-helmet=\"true\" name=\"google-site-verification\"/><meta content=\"4zMZFhLQ1BuSx-gwwmVw3KxhHJczQFfQDXbUVNNmGGs\" data-react-helmet=\"true\" name=\"google-site-verification\"/><meta content=\"8163fad1b0115728\" data-react-helmet=\"true\" name=\"yandex-verification\"/><meta content=\"ef6768a2e4cc4d2c\" data-react-helmet=\"true\" name=\"yandex-verification\"/><meta content=\"517c3520dc2f1b47\" data-react-helmet=\"true\" name=\"yandex-verification\"/><meta content=\"2d4297732fdbd6af\" data-react-helmet=\"true\" name=\"yandex-verification\"/><meta content=\"26193f81f644da4a\" data-react-helmet=\"true\" name=\"yandex-verification\"/><meta content=\"dd4d5d3003dc071df4fefdc9e156b619\" data-react-helmet=\"true\" name=\"pmail-verification\"/><meta content=\"\" data-react-helmet=\"true\" property=\"og:image\"/><meta content=\"1200\" data-react-helmet=\"true\" property=\"og:image:width\"/><meta content=\"630\" data-react-helmet=\"true\" property=\"og:image:height\"/><meta content=\"summary_large_image\" data-react-helmet=\"true\" name=\"twitter:card\"/><meta content=\"@sport24_ru\" data-react-helmet=\"true\" name=\"twitter:site\"/><meta content=\"\" data-react-helmet=\"true\" name=\"twitter:image\"/><meta content=\"#ffffff\" data-react-helmet=\"true\" name=\"msapplication-TileColor\"/><meta content=\"https://s73937.cdn.ngenix.net/public/src/assets/favicon/mstile-150x150.png\" data-react-helmet=\"true\" name=\"msapplication-TileImage\"/><meta content=\"https://s73937.cdn.ngenix.net/public/src/assets/favicon/mstile-150x150.png\" data-react-helmet=\"true\" name=\"msapplication-square150x150logo\"/><meta content=\"https://s73937.cdn.ngenix.net/public/src/assets/favicon/browserconfig.xml\" data-react-helmet=\"true\" name=\"msapplication-config\"/><meta content=\"https://sport24.ru/search\" data-react-helmet=\"true\" property=\"og:url\"/><meta content=\"Поиск на сайте - Новости спорта Sport24\" data-react-helmet=\"true\" property=\"og:title\"/><meta content=\"Поиск на сайте - Новости спорта Sport24\" data-react-helmet=\"true\" name=\"twitter:title\"/><meta content=\"Поиск на сайте новостей спорта Sport24\" data-react-helmet=\"true\" name=\"description\"/><meta content=\"Поиск на сайте новостей спорта Sport24\" data-react-helmet=\"true\" property=\"og:description\"/><meta content=\"поиск на сайте, новости спорта Sport24\" data-react-helmet=\"true\" name=\"keywords\"/>\n",
       "<link data-react-helmet=\"true\" href=\"https://s73937.cdn.ngenix.net/public/src/assets/favicon/manifest.json\" rel=\"manifest\"/><link data-react-helmet=\"true\" href=\"https://s73937.cdn.ngenix.net/public/src/assets/favicon/favicon.ico\" rel=\"shortcut icon\" type=\"image/x-icon\"/><link data-react-helmet=\"true\" href=\"https://s73937.cdn.ngenix.net/public/src/assets/favicon/32x32.png\" rel=\"shortcut icon\" type=\"image/png\"/><link data-react-helmet=\"true\" href=\"https://s73937.cdn.ngenix.net/public/src/assets/favicon/192x192.png\" rel=\"icon\" sizes=\"192x192\" type=\"image/png\"/><link data-react-helmet=\"true\" href=\"https://s73937.cdn.ngenix.net/public/src/assets/favicon/512x512.png\" rel=\"icon\" sizes=\"512x512\" type=\"image/png\"/><link data-react-helmet=\"true\" href=\"https://s73937.cdn.ngenix.net/public/src/assets/favicon/180x180.png\" rel=\"apple-touch-icon\"/><link data-react-helmet=\"true\" href=\"https://s73937.cdn.ngenix.net/public/src/assets/favicon/180x180.png\" rel=\"apple-touch-icon-precomposed\" sizes=\"192x192\"/><link color=\"black\" data-react-helmet=\"true\" href=\"https://s73937.cdn.ngenix.net/public/src/assets/favicon/safari-pinned-tab.svg\" rel=\"mask-icon\"/><link data-react-helmet=\"true\" href=\"https://www.googletagmanager.com\" rel=\"dns-prefetch\"/><link data-react-helmet=\"true\" href=\"https://static.wi-fi.ru\" rel=\"dns-prefetch\"/><link data-react-helmet=\"true\" href=\"https://cdn01.nativeroll.tv\" rel=\"dns-prefetch\"/><link data-react-helmet=\"true\" href=\"https://counter.yadro.ru\" rel=\"dns-prefetch\"/><link data-react-helmet=\"true\" href=\"https://top-fwz1.mail.ru\" rel=\"dns-prefetch\"/><link data-react-helmet=\"true\" href=\"https://sport24.ru/search\" rel=\"canonical\"/>\n",
       "<title>Поиск на сайте - Новости спорта Sport24</title>\n",
       "<script id=\"topmailru-code\" src=\"https://top-fwz1.mail.ru/js/code.js\"></script><script src=\"https://cdn01.nativeroll.tv/js/seedr-player.min.js\"></script><script async=\"\" src=\"https://stat.media/sm.js\" type=\"text/javascript\"></script><script id=\"google_shimpl\" src=\"https://pagead2.googlesyndication.com/pagead/js/r20200505/r20190131/show_ads_impl_fy2019.js\"></script><script async=\"\" charset=\"utf-8\" src=\"//mediatoday.ru/core/code.js?pid=8815&amp;rid=460052&amp;rl=&amp;ll=https%3A//sport24.ru/search%3Ftext%3D%25D1%2587%25D1%2582%25D0%25BE%26page%3D3&amp;ow=980&amp;oh=880&amp;sw=1536&amp;sh=864&amp;pd=24\" type=\"text/javascript\"></script><script async=\"\" src=\"https://www.google-analytics.com/plugins/ua/linkid.js\" type=\"text/javascript\"></script><script src=\"https://www.googletagmanager.com/gtm.js?id=GTM-K65RXSJ\"></script><script>window.process = {\"env\":{\"BUILD_DATE\":\"2020-05-06T14:52:52+00:00\",\"IS_BROWSER\":true,\"API_END_POINT\":\"https://api0.sport24.ru\",\"CDN\":\"https://s74794.cdn.ngenix.net\",\"BASE_URL\":\"https://sport24.ru\",\"ASSETS_BASE_URL\":\"https://s73937.cdn.ngenix.net\",\"RENDER_URL\":\"https://api0.sport24.ru/api/sport24/render\",\"LIVE_API_URL\":\"wss://live.sport24.ru/connection/websocket\",\"AMP_BASE_URL\":\"https://amp.sport24.ru\",\"TV_GUIDE_API_END_POINT\":\"https://tv-guide-api.sport24.ru\"}}</script>\n",
       "<script>window.process.env.URL = \"/search?text=%D1%87%D1%82%D0%BE&page=3\"</script><script>(function(w,d,s,l,i){w[l]=w[l]||[];w[l].push({'gtm.start':\n",
       "      new Date().getTime(),event:'gtm.js'});var f=d.getElementsByTagName(s)[0],\n",
       "    j=d.createElement(s),dl=l!='dataLayer'?'&l='+l:'';j.src=\n",
       "    'https://www.googletagmanager.com/gtm.js?id='+i+dl;f.parentNode.insertBefore(j,f);\n",
       "  })(window,document,'script','dataLayer','GTM-K65RXSJ');</script><script>window.ga=window.ga||function(){(ga.q=ga.q||[]).push(arguments)};ga.l=+new Date;\n",
       "    ga(\"create\", \"UA-100282623-3\", \"auto\");\n",
       "    ga(\"set\", \"transport\", \"beacon\");\n",
       "    ga(\"require\", \"displayfeatures\");\n",
       "    ga(\"require\", \"linkid\");\n",
       "    ga(\"set\", \"dimension1\", window.process ? process.env.BUILD_DATE : \"\");\n",
       "    ga(\"set\", \"dimension2\", window.process ? process.env.ENV_NAME : \"\");</script><script async=\"\" src=\"https://www.google-analytics.com/analytics.js\"></script><script>try {\n",
       "      var className = window.localStorage.getItem(\"browser-prefix\");\n",
       "      if (className) {\n",
       "        document.documentElement.className = className;\n",
       "      }\n",
       "    } catch (e) {\n",
       "      console.log('Ошибка переменной \"browser-prefix\" из Local Storage');\n",
       "    }</script><script data-ad-client=\"ca-pub-8447216818130148\" data-checked-head=\"true\" defer=\"defer\" src=\"https://pagead2.googlesyndication.com/pagead/js/adsbygoogle.js\"></script><script defer=\"defer\" src=\"https://s73937.cdn.ngenix.net/public/main.1b1a3fc9a0e1835bb0b4.js\"></script><link href=\"https://s73937.cdn.ngenix.net/public/main.0eafbdb1691f27eac63d.css\" rel=\"stylesheet\"/><link as=\"script\" href=\"https://yastatic.net/pcode-bundles/0.1698/banner_direct/banner_direct.js\" rel=\"preload\"/><link as=\"script\" href=\"https://an.yandex.ru/system/context.js\" rel=\"preload\"/><link href=\"https://ads.adfox.ru\" rel=\"preconnect\"/><link as=\"script\" href=\"https://adservice.google.ru/adsid/integrator.js?domain=sport24.ru\" rel=\"preload\"/><script src=\"https://adservice.google.ru/adsid/integrator.js?domain=sport24.ru\" type=\"text/javascript\"></script><link as=\"script\" href=\"https://adservice.google.com/adsid/integrator.js?domain=sport24.ru\" rel=\"preload\"/><script src=\"https://adservice.google.com/adsid/integrator.js?domain=sport24.ru\" type=\"text/javascript\"></script></head><body class=\"loading\"><noscript><iframe height=\"0\" src=\"https://www.googletagmanager.com/ns.html?id=GTM-K65RXSJ\" style=\"display:none;visibility:hidden\" width=\"0\"></iframe></noscript><script async=\"\" src=\"https://yastatic.net/pcode/adfox/header-bidding.js\"></script><script crossorigin=\"anonymous\" src=\"https://yastatic.net/pcode/adfox/loader.js\"></script><script>function initLiveInternetCounter() {\n",
       "    new Image().src = \"//counter.yadro.ru/hit?r\"+\n",
       "      escape(document.referrer)+((typeof(screen)==\"undefined\")?\"\":\n",
       "        \";s\"+screen.width+\"*\"+screen.height+\"*\"+(screen.colorDepth?\n",
       "        screen.colorDepth:screen.pixelDepth))+\";u\"+escape(document.URL)+\n",
       "      \";h\"+escape(document.title.substring(0,150))+\n",
       "      \";\"+Math.random();\n",
       "  }\n",
       "  initLiveInternetCounter();</script><script>var ttsmi2_data = { siteid: 47422, count: \"site\" };</script><script defer=\"defer\" src=\"https://target.smi2.ru/client/target.js\"></script><script>(function(w,i){w[i]=w[i]||function(){(w[i].a=w[i].a||[]).push(arguments)};w[i].l=1*new Date();})\n",
       "  (window, \"ym\");\n",
       "\n",
       "  ym(47508568, \"init\", {\n",
       "    defer: true,\n",
       "    clickmap: true,\n",
       "    trackLinks: true,\n",
       "    accurateTrackBounce: true,\n",
       "  });</script><script defer=\"defer\" src=\"https://mc.yandex.ru/metrika/tag.js\"></script><noscript><div><img alt=\"\" src=\"https://mc.yandex.ru/watch/47508568\" style=\"position:absolute; left:-9999px;\"/></div></noscript><script>(function(win, doc, cb){\n",
       "    (win[cb] = win[cb] || []).push(function() {\n",
       "      try {\n",
       "        tnsCounterSport24_ru = new TNS.TnsCounter({\n",
       "          account: \"sport24_ru\",\n",
       "          tmsec: \"sport24_total\",\n",
       "        });\n",
       "      } catch(e) {}\n",
       "    });\n",
       "  })(window, this.document, \"tnscounter_callback\");</script><script defer=\"defer\" src=\"https://www.tns-counter.ru/tcounter.js\"></script><noscript><img alt=\"\" height=\"0\" src=\"//www.tns-counter.ru/V13a****sport24_ru/ru/UTF-8/tmsec=sport24_total/\" width=\"0\"/></noscript><script>(function(w,o){w[o] = w[o] || function(){(w[o].q = w[o].q || []).push(arguments)};})\n",
       "  (window, \"sendsay_push\");\n",
       "\n",
       "  sendsay_push(\"init\", {\n",
       "    v: \"1.0\",\n",
       "    fid: \"project888news\",\n",
       "    app_server_key: \"BF_KKSLFqXcv0AWhqNkZ7CKS1PNnJhLPgA9FKOjbz7J9-ULrEwB6vdO3WUwCSyd2RAbGkPd0iftM-8qKBm5ZKUs\",\n",
       "    backend: \"https://sendsay.ru/backend/push\",\n",
       "    sw: (window.process ? process.env.BASE_URL : \"\") + \"/sendsay_push_sw.js\",\n",
       "    delay: \"300\",\n",
       "  });</script><script defer=\"defer\" src=\"https://image.sendsay.ru/js/push/push.js\"></script><script>_atrk_opts = { atrk_acct:\"84Ggp1IW1d10T3\", domain:\"sport24.ru\", dynamic: true};</script><script defer=\"defer\" src=\"https://d31qbv1cthcecs.cloudfront.net/atrk.js\"></script><noscript><img alt=\"\" height=\"1\" src=\"https://d5nxst8fruw4z.cloudfront.net/atrk.gif?account=84Ggp1IW1d10T3\" style=\"display:none\" width=\"1\"/></noscript><script>new Image().src = \"https://sync.bumlam.com/?src=gp3&cmp=Sport24&act=a01&cid=A2D4FF&r64=\"+window.btoa(document.referrer)+\"&cb=\"+Math.random();</script><script>(function(w){\n",
       "    var wd = w.document;\n",
       "    w._mt_rnd = w._mt_rnd || Math.floor(Math.random() * 1000000);\n",
       "    w._mt_referrer = w._mt_referrer || escape(wd.referrer || '');\n",
       "    try { w._mt_location = w._mt_location || escape(w.top.location.href) }\n",
       "    catch (e) { w._mt_location = escape(w.location.href) }\n",
       "    w._MT_jsLoadDelayed = function(b,c,d){var a=wd.createElement(\"script\");\n",
       "      d&&(a.id=d);a.language=\"javascript\";a.type=\"text/javascript\";a.charset=\"utf-8\";a.async=1;\n",
       "      a.src=b;if(w.ActiveXObject){var e=!1;a.onload=a.onreadystatechange=function(){\n",
       "        if(!e&&(!this.readyState||this.readyState===\"complete\"||this.readyState===\"loaded\"&&\n",
       "          this.nextSibling!=null)){e=true;c&&c();a.onload=a.onreadystatechange=null}}}else\n",
       "        a.onload=c;b=wd.getElementsByTagName(\"script\")[0];b.parentNode.insertBefore(a,b)};\n",
       "    w._MT_jsLoadDelayed('//mediatoday.ru/core/code.js?pid=8815&rid=' + w._mt_rnd + '&rl=' +\n",
       "      w._mt_referrer + '&ll=' + w._mt_location + '&ow=' + w.outerWidth + '&oh=' + w.outerHeight + '&sw=' +\n",
       "      w.screen.width + '&sh=' + w.screen.height + '&pd=' + w.screen.pixelDepth);\n",
       "  })(window)</script><div id=\"app\"><div class=\"l_qn8N\"><header class=\"_1jxiL1\"><div class=\"_2TyXRE\"><div class=\"_2aKQZ6\"><div class=\"UDNH-5\"><a data-event-action=\"click\" data-event-category=\"mobile_sidebar\" data-event-label=\"logo\" href=\"/\"><img alt=\"logo\" src=\"data:image/svg+xml;base64,PHN2ZyB3aWR0aD0iMTY5IiBoZWlnaHQ9IjE3IiB4bWxucz0iaHR0cDovL3d3dy53My5vcmcvMjAwMC9zdmciPgogIDxnIGZpbGwtcnVsZT0ibm9uemVybyIgZmlsbD0ibm9uZSI+CiAgICA8cGF0aCBkPSJNMTY3LjYgMWgtNS45bC0xMS41IDcuN2MtMS4zIDEuMS0xLjUgMS42LTEuNyAyLjZsLS4zIDEuNmgxMS45bC0uOCA0LjFoNS4ybC44LTQuMWgyLjZsLjctMy42SDE2NmwxLjYtOC4zem0tNi44IDguM0gxNTVsNi41LTMuOS0uNyAzLjl6bS0yOSAyLjljLjMtMS4yLjgtMS40IDIuMS0xLjRoNS4xYzQuOCAwIDYuOC0xLjggNi44LTUuNyAwLTMuMS0zLjEtNC4yLTcuOS00LjJoLTguMmwtLjggNC4yaDEwYzEuMiAwIDEuNC4zIDEuNC45IDAgLjgtLjYgMS0yLjEgMWgtMy45Yy02LjUgMC03LjEgMS43LTcuNyA1bC0uOSA0LjhoMTQuNmMxLjggMCAyLjQtLjIgMi45LTIuMWwuNC0xLjloLTEyLjFsLjMtLjZ6IiBmaWxsPSIjRUFCRDAwIi8+CiAgICA8cGF0aCBkPSJNNjYuOCAxaC03LjJjLTQuOSAwLTUuOSAyLjYtNi43IDdsLS42IDMuMWMtMSA0LjggMS4zIDUuOSA1LjEgNS45aDcuMmM0LjkgMCA1LjktMi42IDYuNy03bC42LTMuMUM3MyAyIDcwLjcgMSA2Ni44IDFtLS4zIDYuOWwtLjIgMS4zYy0uNyAzLjUtMS43IDMuNy00IDMuN2gtMS44Yy0yLjMgMC0zLS40LTIuNS0yLjlsLjItMS4zYy43LTMuNSAxLjctMy43IDQtMy43SDY0YzIuMiAwIDMgLjUgMi41IDIuOU00MS45IDFIMjkuMmwtMi42IDEzLjZjLS40IDIuMS4yIDIuMyAxLjYgMi40aDMuMmwuOS00LjVoNC40YzUuMSAwIDkuOC0uNyA5LjgtNy0uMS0yLjUtMS40LTQuNC00LjYtNC41TTM4IDguNWgtNWwuNy0zLjVoNWMxLjEgMCAxLjguNSAxLjggMS40IDAgMS42LTEuMyAyLjEtMi41IDIuMW02MC0zLjRjMC0yLjQtMS4zLTQtNC42LTQuMUg4MC43bC0yLjYgMTMuNmMtLjQgMi4xLjIgMi4zIDEuNiAyLjRoMy4ybDEtNS4yaDVsMS4zIDMuM2MuNyAxLjcgMS40IDEuOSAzLjEgMS45aDMuNGwtMi44LTYuMmMxLjktLjYgNC4xLTIuMiA0LjEtNS43TTg5LjYgOGgtNWwuNi0zaDVjMS4xIDAgMS45LjMgMS45IDEuMiAwIDEuNy0xLjMgMS44LTIuNSAxLjhtMzIuMi03aC0xNi43bC0uMyAxLjhjLS40IDIgLjMgMi40IDIuMyAyLjRoMi45TDEwNy43IDE3aDUuM2wyLjMtMTEuOGg1LjdsLjgtNC4yek0xNCA3LjFIOS43Yy0xLjMgMC0xLjgtLjMtMS44LTEgMC0uOC41LTEgMi40LTFIMTdjMi43IDAgMi45LS41IDMuMi0yLjRsLjMtMS43SDkuOEM2LjQgMSAzLjYgMS4yIDMgNC4ybC0uNSAyLjZDMiA5LjYgNC4zIDExIDcuMiAxMWg0LjNjMS4zIDAgMS44LjMgMS44IDEgMCAuOC0uNSAxLTIuNCAxSDMuNmMtMi4zIDAtMyAuOC0zLjQgMi44TDAgMTdoOS4xYzYuMSAwIDkuNi0uNiA5LjYtNS44IDAtMi42LTEuOC00LjEtNC43LTQuMSIgZmlsbD0iI0ZGRiIvPgogIDwvZz4KPC9zdmc+Cg==\" style=\"margin:auto;width:169px;height:17px\" width=\"132\"/></a></div><div class=\"g9pZrJ\"></div><div class=\"_1aC5GF\"><svg height=\"18\" viewbox=\"0 0 25 18\" width=\"25\"><path d=\"M25 14v.05C25 16.2 23.2 18 21.05 18H0v-.05C0 15.8 1.8 14 3.95 14H25zm0-7v.05C25 9.2 23.2 11 21.05 11H0v-.05C0 8.8 1.8 7 3.95 7H25zm0-7v.05C25 2.2 23.2 4 21.05 4H0v-.05C0 1.8 1.8 0 3.95 0H25z\" fill=\"#FFF\" fill-rule=\"nonzero\"></path></svg></div></div></div></header><div data-slot=\"top-desktop\" data-state=\"inited\" id=\"slot-top-desktop\"></div><div data-slot=\"top-mobile\" data-state=\"inited\" id=\"slot-top-mobile\"></div><div class=\"_2wsl0S\"><div class=\"_3bFgJP\"><div class=\"_3gZ-ob\"><div class=\"_2gGCx0\" data-lg-10=\"1\" data-md-10=\"1\" data-sm-8=\"1\" data-tiny-8=\"1\" data-xl-10=\"1\" data-xs-4=\"1\"><div class=\"_1errZT\" data-lg-2=\"1\" data-md-2=\"1\" data-sm-2=\"1\" data-tiny-2=\"1\" data-xl-2=\"1\" data-xs-0=\"1\"><div class=\"_3ssI8u\"><a href=\"/\"><img alt=\"Логотип Sport24.ru\" src=\"data:image/svg+xml;base64,PHN2ZyB3aWR0aD0iMTY5IiBoZWlnaHQ9IjE3IiB4bWxucz0iaHR0cDovL3d3dy53My5vcmcvMjAwMC9zdmciPgogIDxnIGZpbGwtcnVsZT0ibm9uemVybyIgZmlsbD0ibm9uZSI+CiAgICA8cGF0aCBkPSJNMTY3LjYgMWgtNS45bC0xMS41IDcuN2MtMS4zIDEuMS0xLjUgMS42LTEuNyAyLjZsLS4zIDEuNmgxMS45bC0uOCA0LjFoNS4ybC44LTQuMWgyLjZsLjctMy42SDE2NmwxLjYtOC4zem0tNi44IDguM0gxNTVsNi41LTMuOS0uNyAzLjl6bS0yOSAyLjljLjMtMS4yLjgtMS40IDIuMS0xLjRoNS4xYzQuOCAwIDYuOC0xLjggNi44LTUuNyAwLTMuMS0zLjEtNC4yLTcuOS00LjJoLTguMmwtLjggNC4yaDEwYzEuMiAwIDEuNC4zIDEuNC45IDAgLjgtLjYgMS0yLjEgMWgtMy45Yy02LjUgMC03LjEgMS43LTcuNyA1bC0uOSA0LjhoMTQuNmMxLjggMCAyLjQtLjIgMi45LTIuMWwuNC0xLjloLTEyLjFsLjMtLjZ6IiBmaWxsPSIjRUFCRDAwIi8+CiAgICA8cGF0aCBkPSJNNjYuOCAxaC03LjJjLTQuOSAwLTUuOSAyLjYtNi43IDdsLS42IDMuMWMtMSA0LjggMS4zIDUuOSA1LjEgNS45aDcuMmM0LjkgMCA1LjktMi42IDYuNy03bC42LTMuMUM3MyAyIDcwLjcgMSA2Ni44IDFtLS4zIDYuOWwtLjIgMS4zYy0uNyAzLjUtMS43IDMuNy00IDMuN2gtMS44Yy0yLjMgMC0zLS40LTIuNS0yLjlsLjItMS4zYy43LTMuNSAxLjctMy43IDQtMy43SDY0YzIuMiAwIDMgLjUgMi41IDIuOU00MS45IDFIMjkuMmwtMi42IDEzLjZjLS40IDIuMS4yIDIuMyAxLjYgMi40aDMuMmwuOS00LjVoNC40YzUuMSAwIDkuOC0uNyA5LjgtNy0uMS0yLjUtMS40LTQuNC00LjYtNC41TTM4IDguNWgtNWwuNy0zLjVoNWMxLjEgMCAxLjguNSAxLjggMS40IDAgMS42LTEuMyAyLjEtMi41IDIuMW02MC0zLjRjMC0yLjQtMS4zLTQtNC42LTQuMUg4MC43bC0yLjYgMTMuNmMtLjQgMi4xLjIgMi4zIDEuNiAyLjRoMy4ybDEtNS4yaDVsMS4zIDMuM2MuNyAxLjcgMS40IDEuOSAzLjEgMS45aDMuNGwtMi44LTYuMmMxLjktLjYgNC4xLTIuMiA0LjEtNS43TTg5LjYgOGgtNWwuNi0zaDVjMS4xIDAgMS45LjMgMS45IDEuMiAwIDEuNy0xLjMgMS44LTIuNSAxLjhtMzIuMi03aC0xNi43bC0uMyAxLjhjLS40IDIgLjMgMi40IDIuMyAyLjRoMi45TDEwNy43IDE3aDUuM2wyLjMtMTEuOGg1LjdsLjgtNC4yek0xNCA3LjFIOS43Yy0xLjMgMC0xLjgtLjMtMS44LTEgMC0uOC41LTEgMi40LTFIMTdjMi43IDAgMi45LS41IDMuMi0yLjRsLjMtMS43SDkuOEM2LjQgMSAzLjYgMS4yIDMgNC4ybC0uNSAyLjZDMiA5LjYgNC4zIDExIDcuMiAxMWg0LjNjMS4zIDAgMS44LjMgMS44IDEgMCAuOC0uNSAxLTIuNCAxSDMuNmMtMi4zIDAtMyAuOC0zLjQgMi44TDAgMTdoOS4xYzYuMSAwIDkuNi0uNiA5LjYtNS44IDAtMi42LTEuOC00LjEtNC43LTQuMSIgZmlsbD0iI0ZGRiIvPgogIDwvZz4KPC9zdmc+Cg==\" style=\"margin: auto; width: 169px; height: 17px;\" width=\"132\"/></a></div></div><div class=\"_1errZT\" data-lg-8=\"1\" data-md-8=\"1\" data-sm-6=\"1\" data-tiny-6=\"1\" data-xl-8=\"1\" data-xs-4=\"1\"><div class=\"_1Lc7vf\"><div class=\"OGEmpm\"><input placeholder=\"Поиск по сайту\" type=\"text\" value=\"что\"/></div><div class=\"_1xzYYM\"><svg height=\"18\" viewbox=\"0 0 18 18\" width=\"18\"><path d=\"M17.7 16.3L10.4 9l7.19-7.18c.4-.4.4-1.01 0-1.42a.98.98 0 0 0-1.42 0L8.99 7.6 1.71.3C1.3-.1.7-.1.39.3-.1.7-.1 1.32.3 1.72l7.29 7.29-7.19 7.18a.98.98 0 0 0 0 1.42c.4.4 1.02.4 1.42 0l7.18-7.19 7.29 7.29c.4.4 1.01.4 1.42 0 .4-.4.4-1.01 0-1.42z\"></path></svg></div></div></div></div></div><div class=\"_3J7Tsa eS57og\"><div class=\"_2gGCx0\" data-lg-10=\"1\" data-md-10=\"1\" data-sm-8=\"1\" data-tiny-8=\"1\" data-xl-10=\"1\" data-xs-4=\"1\"><div class=\"_1errZT\" data-lg-2=\"1\" data-md-2=\"1\" data-sm-0=\"1\" data-tiny-0=\"1\" data-xl-2=\"1\" data-xs-0=\"1\"></div><div class=\"_1errZT\" data-lg-6=\"1\" data-md-6=\"1\" data-sm-6=\"1\" data-tiny-5=\"1\" data-xl-6=\"1\" data-xs-4=\"1\"><div style=\"margin-bottom: 1rem;\"><div class=\"_6Po73-\"><div class=\"q3EnV_\"><div class=\"_2CGARZ\"><div class=\"_2gN6ht rFYXVh\">Все материалы <sup>119562</sup></div><div class=\"_2gN6ht\">Новости <sup>102316</sup></div><div class=\"_2gN6ht\">Статьи <sup>16894</sup></div><div class=\"_2gN6ht\">Live <sup>15</sup></div><div class=\"_2gN6ht\">Фото <sup>73</sup></div><div class=\"_2gN6ht\">Видео <sup>264</sup></div></div></div></div></div><div class=\"_36OrQE\"><div style=\"margin-bottom: 1.25rem;\"><div class=\"_3V-5GB\"><a class=\"_37kegf\" href=\"/news/other/2020-05-07-tuktamysheva-soglasna-snyatsya-v-otkrovennoy-fotosessii-naprimer-v-kakom-to-krasivom-nizhnem-belye\"><img alt=\"Туктамышева готова сняться в откровенной фотосессии для журнала: «Например, в красивом нижнем белье»\" loading=\"lazy\" src=\"https://s74794.cdn.ngenix.net/m/15f6/c0c1/df75/595f/70b1/5c62/1c50/3719/160_160_max.jpeg\" srcset=\"https://s74794.cdn.ngenix.net/m/15f6/c0c1/df75/595f/70b1/5c62/1c50/3719/400_400_max.jpeg 2x\"/></a><div class=\"ny_qAd\"><a class=\"E0tkWH\" href=\"/news/other/2020-05-07-tuktamysheva-soglasna-snyatsya-v-otkrovennoy-fotosessii-naprimer-v-kakom-to-krasivom-nizhnem-belye\"><span>Туктамышева готова сняться в откровенной фотосессии для журнала: «Например, в красивом нижнем белье»</span></a><div class=\"_EfrfC\"></div><div class=\"_2OosqJ\"><a href=\"/other\" sport=\"other\" style=\"color: rgb(86, 100, 115);\">Другое</a>11:06</div></div></div><div class=\"_3V-5GB\"><a class=\"_37kegf\" href=\"/news/hockey/2020-05-07-morozov-na-kubok-gagarina-v-ravnoy-stepeni-pretendovali-8-komand-kkhl-soblyula-sportivnyy-printsip\"></a><div class=\"ny_qAd\"><a class=\"E0tkWH\" href=\"/news/hockey/2020-05-07-morozov-na-kubok-gagarina-v-ravnoy-stepeni-pretendovali-8-komand-kkhl-soblyula-sportivnyy-printsip\"><span>Морозов: «На Кубок Гагарина в равной степени претендовали 8 команд. КХЛ соблюла спортивный принцип»</span></a><div class=\"_EfrfC\"></div><div class=\"_2OosqJ\"><a href=\"/hockey\" sport=\"hockey\" style=\"color: rgb(34, 132, 230);\">Хоккей</a>10:59</div></div></div><div class=\"_3V-5GB\"><a class=\"_37kegf\" href=\"/news/other/2020-05-07-tuktamysheva-o-konkurentsii-s-gruppoy-tutberidze-nuzhno-byt-geniyem-chtoby-seychas-byt-na-vysshey-stupeni-pyedestala\"><img alt=\"Туктамышева о конкуренции с группой Тутберидзе: «Нужно быть гением, чтобы сейчас быть на высшей ступени пьедестала»\" loading=\"lazy\" src=\"https://s74794.cdn.ngenix.net/m/faf2/ce01/3aa6/e389/c33b/bece/5c2d/d716/160_160_max.jpeg\" srcset=\"https://s74794.cdn.ngenix.net/m/faf2/ce01/3aa6/e389/c33b/bece/5c2d/d716/400_400_max.jpeg 2x\"/></a><div class=\"ny_qAd\"><a class=\"E0tkWH\" href=\"/news/other/2020-05-07-tuktamysheva-o-konkurentsii-s-gruppoy-tutberidze-nuzhno-byt-geniyem-chtoby-seychas-byt-na-vysshey-stupeni-pyedestala\"><span>Туктамышева о конкуренции с группой Тутберидзе: «Нужно быть гением, чтобы сейчас быть на высшей ступени пьедестала»</span></a><div class=\"_EfrfC\"></div><div class=\"_2OosqJ\"><a href=\"/other\" sport=\"other\" style=\"color: rgb(86, 100, 115);\">Другое</a>10:53</div></div></div><div class=\"_3V-5GB\"><a class=\"_37kegf\" href=\"/news/hockey/2020-05-07-syn-larionova-yesli-by-moy-otets-stal-glavnym-trenerom-to-polnostyu-navsegda-by-pomenyal-khokkey\"></a><div class=\"ny_qAd\"><a class=\"E0tkWH\" href=\"/news/hockey/2020-05-07-syn-larionova-yesli-by-moy-otets-stal-glavnym-trenerom-to-polnostyu-navsegda-by-pomenyal-khokkey\"><span>Сын Ларионова: «Если бы мой отец стал главным тренером, то полностью навсегда бы поменял хоккей»</span></a><div class=\"_EfrfC\"></div><div class=\"_2OosqJ\"><a href=\"/hockey\" sport=\"hockey\" style=\"color: rgb(34, 132, 230);\">Хоккей</a>10:48</div></div></div><div class=\"_3V-5GB\"><a class=\"_37kegf\" href=\"/news/other/2020-05-07-yevgeniy-plyushchenko-intervyu-o-perekhode-aleksandry-trusovoy-i-sergeya-rozanova\"><img alt=\"Плющенко: «Откажусь почти от всех шоу и выступлений, буду работать с Трусовой 24 на 7»\" loading=\"lazy\" src=\"https://s74794.cdn.ngenix.net/m/0424/57aa/8086/0fdc/dd9e/4d89/e072/69a8/160_160_max.jpeg\" srcset=\"https://s74794.cdn.ngenix.net/m/0424/57aa/8086/0fdc/dd9e/4d89/e072/69a8/400_400_max.jpeg 2x\"/></a><div class=\"ny_qAd\"><a class=\"E0tkWH\" href=\"/news/other/2020-05-07-yevgeniy-plyushchenko-intervyu-o-perekhode-aleksandry-trusovoy-i-sergeya-rozanova\"><span>Плющенко: «Откажусь почти от всех шоу и выступлений, буду работать с Трусовой 24 на 7»</span></a><div class=\"_EfrfC\"><p><span>Интервью о бомбе в мире фигурного катания.</span></p></div><div class=\"_2OosqJ\"><a href=\"/other\" sport=\"other\" style=\"color: rgb(86, 100, 115);\">Другое</a>10:40</div></div></div><div class=\"_3V-5GB\"><a class=\"_37kegf\" href=\"/news/hockey/2020-05-07-kkhl-utverdila-raspredeleniye-mest-po-itogam-sezona-chempiona-ne-budet\"><img alt=\"КХЛ утвердила распределение мест по итогам сезона. Чемпиона не будет, полуфиналисты конференций займут 1-8 место\" loading=\"lazy\" src=\"https://s74794.cdn.ngenix.net/m/abcf/21de/6bf2/b77f/afdc/1b08/ff5d/102e/160_160_max.jpeg\" srcset=\"https://s74794.cdn.ngenix.net/m/abcf/21de/6bf2/b77f/afdc/1b08/ff5d/102e/400_400_max.jpeg 2x\"/></a><div class=\"ny_qAd\"><a class=\"E0tkWH\" href=\"/news/hockey/2020-05-07-kkhl-utverdila-raspredeleniye-mest-po-itogam-sezona-chempiona-ne-budet\"><span>КХЛ утвердила распределение мест по итогам сезона. Чемпиона не будет, полуфиналисты конференций займут 1-8 место</span></a><div class=\"_EfrfC\"></div><div class=\"_2OosqJ\"><a href=\"/hockey\" sport=\"hockey\" style=\"color: rgb(34, 132, 230);\">Хоккей</a>10:33</div></div></div><div class=\"_3V-5GB\"><a class=\"_37kegf\" href=\"/news/other/2020-05-07-kakiye-sudy-kogda-mir-rushitsya-zhulin-prizval-wada-zabyt-istoriyu-s-rossiyskim-dopingom\"><img alt=\"«Какие суды, когда мир рушится?!» Жулин призвал WADA забыть историю с российским допингом\" loading=\"lazy\" src=\"https://s74794.cdn.ngenix.net/m/2dbc/b872/7e62/d50b/4f65/3116/6c80/9f33/160_160_max.jpeg\" srcset=\"https://s74794.cdn.ngenix.net/m/2dbc/b872/7e62/d50b/4f65/3116/6c80/9f33/400_400_max.jpeg 2x\"/></a><div class=\"ny_qAd\"><a class=\"E0tkWH\" href=\"/news/other/2020-05-07-kakiye-sudy-kogda-mir-rushitsya-zhulin-prizval-wada-zabyt-istoriyu-s-rossiyskim-dopingom\"><span>«Какие суды, когда мир рушится?!» Жулин призвал WADA забыть историю с российским допингом</span></a><div class=\"_EfrfC\"></div><div class=\"_2OosqJ\"><a href=\"/other\" sport=\"other\" style=\"color: rgb(86, 100, 115);\">Другое</a>10:19</div></div></div><div class=\"_3V-5GB\"><a class=\"_37kegf\" href=\"/news/other/2020-05-07-rudkovskaya-net-slov-daunenok-autist-zhirnyy-ochkarik-yest-lyudi-samyye-raznyye\"><img alt=\"Рудковская: «Нет слов «дауненок», «аутист», «жирный», «очкарик». Есть люди, самые разные»\" loading=\"lazy\" src=\"https://s74794.cdn.ngenix.net/m/6fea/0f8f/0927/3d4f/7393/1bbe/0f3d/33c6/160_160_max.jpeg\" srcset=\"https://s74794.cdn.ngenix.net/m/6fea/0f8f/0927/3d4f/7393/1bbe/0f3d/33c6/400_400_max.jpeg 2x\"/></a><div class=\"ny_qAd\"><a class=\"E0tkWH\" href=\"/news/other/2020-05-07-rudkovskaya-net-slov-daunenok-autist-zhirnyy-ochkarik-yest-lyudi-samyye-raznyye\"><span>Рудковская: «Нет слов «дауненок», «аутист», «жирный», «очкарик». Есть люди, самые разные»</span></a><div class=\"_EfrfC\"></div><div class=\"_2OosqJ\"><a href=\"/other\" sport=\"other\" style=\"color: rgb(86, 100, 115);\">Другое</a>10:02</div></div></div><div class=\"_3V-5GB\"><a class=\"_37kegf\" href=\"/news/football/2020-05-07-novosti-koronavirusa-uyefa-sostavlyayet-daty-matchey-ligi-chempionov-apl-mozhet-zavershitsya-dosrochno\"><img alt=\"УЕФА составляет новый календарь ЛЧ, сезон в АПЛ под угрозой завершения. Главные карантинные новости футбола\" loading=\"lazy\" src=\"https://s74794.cdn.ngenix.net/m/dca9/cf98/f92d/e642/7df7/ba24/1a0b/1afc/160_160_max.jpeg\" srcset=\"https://s74794.cdn.ngenix.net/m/dca9/cf98/f92d/e642/7df7/ba24/1a0b/1afc/400_400_max.jpeg 2x\"/></a><div class=\"ny_qAd\"><a class=\"E0tkWH\" href=\"/news/football/2020-05-07-novosti-koronavirusa-uyefa-sostavlyayet-daty-matchey-ligi-chempionov-apl-mozhet-zavershitsya-dosrochno\"><span>УЕФА составляет новый календарь ЛЧ, сезон в АПЛ под угрозой завершения. Главные карантинные новости футбола</span></a><div class=\"_EfrfC\"><p><span>Главное к этому часу.</span></p></div><div class=\"_2OosqJ\"><a href=\"/football\" sport=\"football\" style=\"color: rgb(8, 153, 92);\">Футбол</a>10:00</div></div></div><div class=\"_3V-5GB\"><a class=\"_37kegf\" href=\"/news/hockey/2020-05-07-final-olimpiyskikh-igr-v-alberville-sng-kanada-video-zolotoy-gol-boldina-v-alberville-video\"><img alt=\"Исторический гол русского хоккеиста Болдина в финале ОИ-92. Его шайба в падении стала золотой для сборной СНГ\" loading=\"lazy\" src=\"https://s74794.cdn.ngenix.net/m/38bd/cd4a/d9b4/4945/d4e2/3f1b/4ac5/2793/160_160_max.jpeg\" srcset=\"https://s74794.cdn.ngenix.net/m/38bd/cd4a/d9b4/4945/d4e2/3f1b/4ac5/2793/400_400_max.jpeg 2x\"/></a><div class=\"ny_qAd\"><a class=\"E0tkWH\" href=\"/news/hockey/2020-05-07-final-olimpiyskikh-igr-v-alberville-sng-kanada-video-zolotoy-gol-boldina-v-alberville-video\"><span>Исторический гол русского хоккеиста Болдина в финале ОИ-92. Его шайба в падении стала золотой для сборной СНГ</span></a><div class=\"_EfrfC\"><p><span>Первая и единственная победа этой команды. </span></p></div><div class=\"_2OosqJ\"><a href=\"/hockey\" sport=\"hockey\" style=\"color: rgb(34, 132, 230);\">Хоккей</a>10:00</div></div></div><div class=\"_3V-5GB\"><a class=\"_37kegf\" href=\"/news/hockey/2020-05-07-v-klubakh-vkhl-iz-za-pandemii-koronavirusa-sokratili-zarplaty-na-tret\"></a><div class=\"ny_qAd\"><a class=\"E0tkWH\" href=\"/news/hockey/2020-05-07-v-klubakh-vkhl-iz-za-pandemii-koronavirusa-sokratili-zarplaty-na-tret\"><span>В клубах ВХЛ из-за пандемии коронавируса сократили зарплаты на треть</span></a><div class=\"_EfrfC\"></div><div class=\"_2OosqJ\"><a href=\"/hockey\" sport=\"hockey\" style=\"color: rgb(34, 132, 230);\">Хоккей</a>09:43</div></div></div><div class=\"_3V-5GB\"><a class=\"_37kegf\" href=\"/news/other/2020-05-07-tuktamysheva-vyskazalas-o-rasstavanii-s-lazukinym\"><img alt=\"Туктамышева высказалась о расставании с фигуристом Лазукиным\" loading=\"lazy\" src=\"https://s74794.cdn.ngenix.net/m/0104/4a77/86c1/045b/310b/face/5dfc/8566/160_160_max.jpeg\" srcset=\"https://s74794.cdn.ngenix.net/m/0104/4a77/86c1/045b/310b/face/5dfc/8566/400_400_max.jpeg 2x\"/></a><div class=\"ny_qAd\"><a class=\"E0tkWH\" href=\"/news/other/2020-05-07-tuktamysheva-vyskazalas-o-rasstavanii-s-lazukinym\"><span>Туктамышева высказалась о расставании с фигуристом Лазукиным</span></a><div class=\"_EfrfC\"></div><div class=\"_2OosqJ\"><a href=\"/other\" sport=\"other\" style=\"color: rgb(86, 100, 115);\">Другое</a>09:30</div></div></div><div class=\"_3V-5GB\"><a class=\"_37kegf\" href=\"/news/other/2020-05-07-veronika-zhilina---perekhod-ot-tutberidze-k-plyushchenko\"><img alt=\"Делает два четверных и покоряла «Ледниковый период». 11-летняя Вероника Жилина также ушла от Тутберидзе к Плющенко\" loading=\"lazy\" src=\"https://s74794.cdn.ngenix.net/m/f3ac/291f/ccef/72f0/6b3e/3699/ea74/7812/160_160_max.jpeg\" srcset=\"https://s74794.cdn.ngenix.net/m/f3ac/291f/ccef/72f0/6b3e/3699/ea74/7812/400_400_max.jpeg 2x\"/></a><div class=\"ny_qAd\"><a class=\"E0tkWH\" href=\"/news/other/2020-05-07-veronika-zhilina---perekhod-ot-tutberidze-k-plyushchenko\"><span>Делает два четверных и покоряла «Ледниковый период». 11-летняя Вероника Жилина также ушла от Тутберидзе к Плющенко</span></a><div class=\"_EfrfC\"><p><span>Уже в пять лет она стала мемом. </span></p></div><div class=\"_2OosqJ\"><a href=\"/other\" sport=\"other\" style=\"color: rgb(86, 100, 115);\">Другое</a>09:10</div></div></div><div class=\"_3V-5GB\"><a class=\"_37kegf\" href=\"/news/football/2020-05-07-errera-ya-ne-planiroval-pokidat-manchester-yunayted\"></a><div class=\"ny_qAd\"><a class=\"E0tkWH\" href=\"/news/football/2020-05-07-errera-ya-ne-planiroval-pokidat-manchester-yunayted\"><span>Эррера: «Я не планировал покидать «Манчестер Юнайтед»</span></a><div class=\"_EfrfC\"></div><div class=\"_2OosqJ\"><a href=\"/football\" sport=\"football\" style=\"color: rgb(8, 153, 92);\">Футбол</a>08:28</div></div></div><div class=\"_3V-5GB\"><a class=\"_37kegf\" href=\"/news/football/2020-05-07-eks-igrok-romy-nainggolan-vykhodil-iz-razdevalki-i-kuril-s-pomoshchnikom-glavnogo-trenera\"></a><div class=\"ny_qAd\"><a class=\"E0tkWH\" href=\"/news/football/2020-05-07-eks-igrok-romy-nainggolan-vykhodil-iz-razdevalki-i-kuril-s-pomoshchnikom-glavnogo-trenera\"><span>Экс-игрок «Ромы»: «Наингголан выходил из раздевалки и курил с помощником главного тренера»</span></a><div class=\"_EfrfC\"></div><div class=\"_2OosqJ\"><a href=\"/football\" sport=\"football\" style=\"color: rgb(8, 153, 92);\">Футбол</a>08:07</div></div></div><div class=\"_3V-5GB\"><a class=\"_37kegf\" href=\"/news/football/2020-05-07-barselona-byla-by-dostoynym-chempionom-fabregas-otvetil-kurtua\"></a><div class=\"ny_qAd\"><a class=\"E0tkWH\" href=\"/news/football/2020-05-07-barselona-byla-by-dostoynym-chempionom-fabregas-otvetil-kurtua\"><span>«Барселона» была бы достойным чемпионом». Фабрегас ответил Куртуа</span></a><div class=\"_EfrfC\"></div><div class=\"_2OosqJ\"><a href=\"/football\" sport=\"football\" style=\"color: rgb(8, 153, 92);\">Футбол</a>07:42</div></div></div><div class=\"_3V-5GB\"><a class=\"_37kegf\" href=\"/news/football/2020-05-07-niderlandy-obyavili-ob-oslablenii-karantina-eredivizi-mozhet-rasschityvat-na-polnotsennyy-sezon-202021\"></a><div class=\"ny_qAd\"><a class=\"E0tkWH\" href=\"/news/football/2020-05-07-niderlandy-obyavili-ob-oslablenii-karantina-eredivizi-mozhet-rasschityvat-na-polnotsennyy-sezon-202021\"><span>Нидерланды объявили об ослаблении карантина. Эредивизи может рассчитывать на полноценный сезон-2020/21</span></a><div class=\"_EfrfC\"></div><div class=\"_2OosqJ\"><a href=\"/football\" sport=\"football\" style=\"color: rgb(8, 153, 92);\">Футбол</a>06:43</div></div></div><div class=\"_3V-5GB\"><a class=\"_37kegf\" href=\"/news/football/2020-05-07-perekhod-eks-forvarda-lokomotiva-niasse-v-everton-voshel-v-top-50-khudshikh-transferov-v-istorii-apl\"></a><div class=\"ny_qAd\"><a class=\"E0tkWH\" href=\"/news/football/2020-05-07-perekhod-eks-forvarda-lokomotiva-niasse-v-everton-voshel-v-top-50-khudshikh-transferov-v-istorii-apl\"><span>Переход Ниассе из «Локомотива» в «Эвертон» вошел в топ-50 худших трансферов в истории АПЛ</span></a><div class=\"_EfrfC\"></div><div class=\"_2OosqJ\"><a href=\"/football\" sport=\"football\" style=\"color: rgb(8, 153, 92);\">Футбол</a>06:29</div></div></div><div class=\"_3V-5GB\"><a class=\"_37kegf\" href=\"/news/other/2020-05-07-kvyat-rossiya--po-prezhnemu-vazhnaya-chast-menya\"></a><div class=\"ny_qAd\"><a class=\"E0tkWH\" href=\"/news/other/2020-05-07-kvyat-rossiya--po-prezhnemu-vazhnaya-chast-menya\"><span>Квят: «Россия — по-прежнему важная часть меня»</span></a><div class=\"_EfrfC\"></div><div class=\"_2OosqJ\"><a href=\"/other\" sport=\"other\" style=\"color: rgb(86, 100, 115);\">Другое</a>05:58</div></div></div><div class=\"_3V-5GB\"><a class=\"_37kegf\" href=\"/news/football/2020-05-07-pszh-pozhertvoval-100-tysyach-yevro-dlya-organizatsii-po-borbe-s-golodom\"></a><div class=\"ny_qAd\"><a class=\"E0tkWH\" href=\"/news/football/2020-05-07-pszh-pozhertvoval-100-tysyach-yevro-dlya-organizatsii-po-borbe-s-golodom\"><span>«ПСЖ» пожертвовал 100 тысяч евро для организации по борьбе с голодом</span></a><div class=\"_EfrfC\"></div><div class=\"_2OosqJ\"><a href=\"/football\" sport=\"football\" style=\"color: rgb(8, 153, 92);\">Футбол</a>05:22</div></div></div></div><div class=\"_1rjrva\"><div class=\"_1nCK1G\"><div class=\"_3zPXZQ\">В начало</div><div class=\"_29TQZw\">1</div><div class=\"_29TQZw\">2</div><div class=\"_29TQZw _3alx3n\">3</div><div class=\"_29TQZw\">4</div><div class=\"_29TQZw\">5</div><div class=\"_3zPXZQ\">дальше</div></div></div></div></div><div class=\"_1errZT\" data-lg-2=\"1\" data-md-2=\"1\" data-sm-2=\"1\" data-tiny-3=\"1\" data-xl-2=\"1\" data-xs-0=\"1\"><div class=\"kyDLdu\"></div><div class=\"kyDLdu\"></div><div class=\"kyDLdu\"></div><div class=\"kyDLdu\"></div></div></div></div></div></div><footer class=\"_2nhzBA\"><div class=\"_2gGCx0\" data-lg-10=\"1\" data-md-10=\"1\" data-sm-8=\"1\" data-tiny-8=\"1\" data-xl-10=\"1\" data-xs-4=\"1\"><div class=\"_1errZT\" data-lg-2=\"1\" data-md-2=\"1\" data-sm-3=\"1\" data-tiny-4=\"1\" data-xl-2=\"1\" data-xs-4=\"1\"><div class=\"_1PrSKp\"><div class=\"_2VOcQ6\"><a data-event-action=\"click\" data-event-category=\"Footer_about\" href=\"/about\">О проекте</a></div><div class=\"_2VOcQ6\"><a data-event-action=\"click\" data-event-category=\"Footer_policy\" href=\"/policy\">О персональных данных</a></div><div class=\"_2VOcQ6\"><a data-event-action=\"click\" data-event-category=\"Footer_faq\" href=\"/faq\">FAQ</a></div><div class=\"_2VOcQ6\"><a data-event-action=\"click\" data-event-category=\"Footer_feedback\" href=\"/feedback\">Обратная связь</a></div></div><div class=\"tTplmI\"><div><span><!--noindex--></span><p>Сетевое издание Спорт24</p><p>Главный редактор: Авакян С.Г.</p><p>Телефон редакции СМИ: <a href=\"tel:+74959811297\">+7 (499) 321-52-13</a></p><p>Размещение рекламы: <a href=\"mailto:reklama@sport24.ru\">reklama@sport24.ru</a></p><p><a href=\"https://s73937.cdn.ngenix.net/public/src/assets/documents/media-kit-Sport24.pdf\">Скачать Медиа-кит</a></p><p>Email редакции СМИ: <a href=\"mailto:info@sport24.ru\">info@sport24.ru</a></p><p>Учредитель: ООО «Спорт24»</p><p>СМИ Зарегистрировано 17.05.2018 года Роскомнадзором за номером Эл № ФС77‑72812</p><span><!--/noindex--></span></div><p>© 2015–<!-- -->2020<!-- --> ООО «Спорт24»</p></div></div><div class=\"_1errZT\" data-lg-6=\"1\" data-md-6=\"1\" data-sm-3=\"1\" data-tiny-4=\"1\" data-xl-6=\"1\" data-xs-4=\"1\"><div class=\"_1_O8Ia\"><div class=\"_3T_bR3\"><a data-event-action=\"click\" data-event-category=\"Footer_youtube\" href=\"https://www.youtube.com/channel/UCvv3Wit_a18sM17CayokObQ?utm_term=footerblock\" rel=\"noopener nofollow\" target=\"_blank\"><svg height=\"17\" width=\"22\"><path d=\"M14.338 8.525L8.693 11.79V5.258l5.645 3.265zm6.94-5.24a2.725 2.725 0 0 0-1.922-1.925c-1.694-.455-8.49-.455-8.49-.455s-6.796 0-8.49.455A2.725 2.725 0 0 0 .453 3.284C0 4.982 0 8.524 0 8.524s0 3.542.454 5.24c.25.936.986 1.674 1.921 1.924 1.695.455 8.49.455 8.49.455s6.797 0 8.491-.455a2.724 2.724 0 0 0 1.922-1.925c.454-1.697.454-5.24.454-5.24s0-3.541-.454-5.239z\"></path></svg></a><a data-event-action=\"click\" data-event-category=\"Footer_facebook\" href=\"https://www.facebook.com/sport24.ru?utm_term=footerblock\" rel=\"noopener nofollow\" target=\"_blank\"><svg height=\"20\" width=\"11\"><path d=\"M9.514 9.53l.68-2.722H6.797v-2.72c0-.823.48-1.361 1.358-1.361h2.037V.005s-1.67-.012-2.716 0C4.843.038 3.402 1.842 3.402 4.087v2.721H.686V9.53h2.716v9.88c.877.18 3.169.01 3.396 0v-9.88h2.716z\"></path></svg></a><a data-event-action=\"click\" data-event-category=\"Footer_vk\" href=\"https://vk.com/sport24_ru?utm_term=footerblock\" rel=\"noopener nofollow\" target=\"_blank\"><svg height=\"13\" width=\"19\"><path d=\"M18.59 1.575c.132-.441 0-.765-.629-.765h-2.08c-.53 0-.773.28-.905.589 0 0-1.058 2.583-2.557 4.26-.485.486-.705.64-.97.64-.132 0-.323-.154-.323-.595V1.575c0-.53-.154-.765-.594-.765h-3.27c-.33 0-.529.245-.529.479 0 .502.75.618.827 2.03v3.07c0 .672-.122.794-.386.794-.705 0-2.42-2.595-3.438-5.563-.2-.577-.4-.81-.931-.81H.725C.13.81.01 1.09.01 1.399c0 .552.706 3.29 3.284 6.91 1.72 2.472 4.141 3.813 6.345 3.813 1.322 0 1.486-.298 1.486-.81v-1.87c0-.595.125-.714.544-.714.309 0 .837.155 2.072 1.347 1.41 1.413 1.643 2.047 2.436 2.047h2.08c.595 0 .892-.298.72-.886-.187-.585-.86-1.435-1.754-2.442-.485-.574-1.212-1.192-1.433-1.5-.308-.398-.22-.575 0-.928 0 0 2.535-3.576 2.8-4.79\"></path></svg></a><a data-event-action=\"click\" data-event-category=\"Footer_ok\" href=\"https://ok.ru/sport24ru?utm_term=footerblock\" rel=\"noopener nofollow\" target=\"_blank\"><svg height=\"20\" width=\"13\"><path d=\"M6.55 9.573c-2.755 0-4.995-2.147-4.995-4.787C1.555 2.147 3.795 0 6.55 0c2.755 0 4.991 2.147 4.991 4.786 0 2.64-2.236 4.787-4.99 4.787zm0-6.838c-1.18 0-2.142.92-2.142 2.051 0 1.131.961 2.052 2.141 2.052 1.178 0 2.138-.92 2.138-2.052 0-1.13-.96-2.05-2.138-2.05zm1.336 10.84a8.66 8.66 0 0 0 3.802-1.542 1.333 1.333 0 0 0 .279-1.914A1.467 1.467 0 0 0 9.97 9.85a5.793 5.793 0 0 1-3.418 1.092c-1.292 0-2.44-.365-3.41-1.081a1.464 1.464 0 0 0-1.999.247 1.326 1.326 0 0 0 .257 1.916 8.305 8.305 0 0 0 3.811 1.556L1.67 16.67a1.329 1.329 0 0 0-.095 1.931 1.47 1.47 0 0 0 2.015.092l2.959-2.623 2.962 2.62c.271.238.618.356.96.356.387 0 .775-.15 1.056-.446.53-.56.486-1.426-.096-1.934l-3.544-3.09z\"></path></svg></a><a data-event-action=\"click\" data-event-category=\"Footer_twi\" href=\"https://twitter.com/sport24_ru?utm_term=footerblock\" rel=\"noopener nofollow\" target=\"_blank\"><svg height=\"17\" width=\"19\"><path d=\"M17.31 4.8c.79-.406 1.406-1.322 1.728-2.164-.783.515-1.364.77-2.16.866 1.045-.65 1.7-1.38 2.16-2.597-.864.677-1.622 1.082-2.766 1.298C15.56 1.442 14.54.905 13.42.905c-2.363 0-3.89 1.463-3.89 3.896 0 .308.054.893.173 1.299C6.448 5.935 3.59 4.612 1.32 1.77.483 3.287.887 5.695 2.616 6.966a3.562 3.562 0 0 1-1.729-.433c.216 1.732 1.647 3.41 3.457 3.897-.73.188-1.462.17-2.16 0 .62 1.406 2.404 2.597 3.889 2.597-1.378 1.217-3.457 1.732-6.05 1.732 1.431 1.054 3.837 1.731 6.05 1.731 7.36 0 11.236-5.177 11.236-11.688z\"></path></svg></a><a data-event-action=\"click\" data-event-category=\"Footer_tgr\" href=\"https://t.me/sport24ru?utm_term=footerblock\" rel=\"noopener nofollow\" target=\"_blank\"><svg height=\"17\" width=\"20\"><path d=\"M6.193 8.67l8.563-5.282c.154-.095.312.113.18.236l-7.067 6.58a1.468 1.468 0 0 0-.454.878l-.24 1.787c-.033.24-.367.263-.433.032l-.926-3.259a.864.864 0 0 1 .377-.971M.389 7.904L4.77 9.543l1.696 5.463c.109.35.536.479.82.247l2.442-1.995a.728.728 0 0 1 .888-.024l4.405 3.203c.303.221.733.055.809-.313L19.057.576a.517.517 0 0 0-.692-.588L.384 6.937c-.444.171-.44.8.005.967\"></path></svg></a><a data-event-action=\"click\" data-event-category=\"Footer_inst\" href=\"https://www.instagram.com/sport24ru/?utm_term=footerblock\" rel=\"noopener nofollow\" target=\"_blank\"><svg height=\"20\" width=\"20\"><path d=\"M16.708 4.44a1.142 1.142 0 1 1-2.283.002 1.142 1.142 0 0 1 2.283-.002m-6.216 8.258a3.172 3.172 0 0 1-3.169-3.174 3.172 3.172 0 0 1 3.17-3.175c1.75 0 3.169 1.422 3.169 3.175a3.172 3.172 0 0 1-3.17 3.174m0-8.065a4.886 4.886 0 0 0-4.882 4.89 4.887 4.887 0 0 0 4.882 4.891 4.886 4.886 0 0 0 4.883-4.89 4.886 4.886 0 0 0-4.883-4.89m0-4.634C7.91 0 7.587.01 6.572.057 5.56.104 4.87.265 4.265.5A4.66 4.66 0 0 0 2.58 1.598a4.67 4.67 0 0 0-1.097 1.687c-.235.606-.396 1.298-.442 2.312C.996 6.613.985 6.937.985 9.524c0 2.586.01 2.91.057 3.926.046 1.014.207 1.706.442 2.312A4.67 4.67 0 0 0 2.58 17.45a4.66 4.66 0 0 0 1.684 1.099c.604.235 1.295.396 2.307.442 1.015.047 1.338.058 3.92.058s2.906-.011 3.92-.058c1.012-.046 1.703-.207 2.308-.442a4.66 4.66 0 0 0 1.684-1.099 4.67 4.67 0 0 0 1.097-1.687c.235-.606.396-1.298.442-2.312.046-1.015.057-1.34.057-3.926 0-2.587-.011-2.911-.057-3.927-.046-1.014-.207-1.706-.442-2.312a4.67 4.67 0 0 0-1.097-1.687A4.66 4.66 0 0 0 16.72.5c-.605-.235-1.296-.396-2.308-.443C13.398.011 13.074 0 10.492 0m0 1.716c2.539 0 2.84.01 3.842.056.927.042 1.43.197 1.766.327.443.173.76.38 1.093.713.333.333.539.65.711 1.095.13.336.285.84.327 1.768.046 1.005.056 1.306.056 3.849s-.01 2.844-.056 3.848c-.042.929-.197 1.433-.327 1.769a2.95 2.95 0 0 1-.711 1.095c-.333.333-.65.54-1.093.712-.335.13-.839.286-1.766.328-1.002.046-1.303.056-3.842.056-2.538 0-2.84-.01-3.841-.056-.927-.042-1.43-.197-1.766-.328a2.945 2.945 0 0 1-1.093-.712 2.952 2.952 0 0 1-.711-1.095c-.13-.336-.285-.84-.328-1.769-.045-1.004-.055-1.305-.055-3.848s.01-2.844.055-3.849c.043-.928.197-1.432.328-1.768.172-.445.378-.762.71-1.095.334-.333.65-.54 1.094-.713.335-.13.839-.285 1.765-.327 1.003-.046 1.304-.056 3.842-.056\"></path></svg></a></div></div></div><div class=\"_1errZT\" data-lg-2=\"1\" data-md-2=\"1\" data-sm-2=\"1\" data-tiny-8=\"1\" data-xl-2=\"1\" data-xs-4=\"1\"><div class=\"_3Ohjk4\"><a href=\"https://www.sportradar.com/digital/\" rel=\"noopener nofollow\" target=\"_blank\"><svg viewbox=\"0 0 627 60\"><path d=\"M137.8 36.5h5.3v1.7c0 4.2 2.2 5.9 8.1 5.9h12.3c8.6 0 11.3-.3 11.3-5.4v-.3c0-3.3-.9-5.1-7.8-5.1h-17.7c-8.1 0-11.1-2.6-11.1-9.1v-2c0-5.5 3.1-8.6 17.3-8.6h8.8c12.9 0 14.7 3.7 14.7 8.5v1.8h-5.3v-.3c0-5.2-3.5-5.3-9.7-5.3h-10c-8.2 0-10 .8-10 4.7v1.3c0 2.8.9 4.4 6.9 4.4h15.2c8.6 0 14.5.9 14.5 10.1v.1c0 9.5-8.8 9.9-15.8 9.9h-10.5c-8.5 0-16.4 0-16.4-10.2v-2.1zM188.3 14.2h5.3v5.4h.1c1.7-4.1 6.3-5.9 11.4-5.9h11c8.1 0 15.7 2.6 15.7 14.3v6c0 11-4.9 14.7-16.7 14.7h-10.9c-6.1 0-8.8-1.5-10-5.1h-.1V60h-5.7V14.2zm37.8 13.9c0-6.6-2.1-9.7-10.2-9.7h-11.4c-7.5 0-10.4 3.9-10.4 9.8v6.5c0 8.1 5.1 9.5 11.1 9.5h10.2c6.7 0 10.7-1.5 10.7-9.3v-6.8M304.6 14.2h5.3v4.9h.1c2.1-4.4 6.5-5.5 10.4-5.5h5.4c10.7 0 14.3 3.5 14.3 11.8v4.1h-5.3V28c0-8.4-1.7-9.7-11.9-9.7h-3.5c-6.1 0-9 3.9-9 8.3v21.6h-5.7v-34zM351.8 18.9h-7.5v-4.7h7.5V6.1h5.7v8.1h22.8v4.7h-22.8v16.9c0 6.3 2.2 8.3 8.5 8.3h1.8c7.6 0 8.8-1.6 8.8-8.7v-2.5h4.7v3.7c0 6.8-.7 12.2-13.1 12.2h-3.1c-10.7 0-13.3-5.2-13.3-10.7V18.9M388.6 14.2h12v6.5h.1c1.5-5.4 6.7-7 12.5-7 9.3 0 13 4 13 13.4 0 .9-.1 1.8-.1 3H415c0-4.3-1-6.4-6.1-6.4-4.4 0-7.5 1.7-7.5 5.7v18.8h-12.8v-34M430.9 36.3c0-9.3 6.4-9.8 18.8-9.8 7 0 10.9.2 13.3 2.7v-3c0-3.3-1-4.5-6-4.5h-7.5c-3.7 0-4.8.3-4.9 2.7h-12.4c0-9.2 4.5-10.7 15.3-10.7h14.9c8.8 0 13.5 4.2 13.5 12.2v22.3h-12.1v-3.9c-3.5 3.7-4.9 4.4-11.3 4.4h-8.7C436 48.8 431 47 431 39v-2.7zm22.8 4.5c8.8 0 9.6-1.3 9.6-3.6 0-2.5-.7-3.5-7.8-3.5h-5.7c-5.4 0-6.5 1.2-6.5 4 0 2.2 1.7 3.1 6.7 3.1h3.7M482.3 28.2c0-8.7 2-14.5 18.2-14.5h3.8c5.3 0 10.7 1.5 11.5 6.8h.1V0h12.8v48.3h-12V42h-.1c-1.4 4.2-4.6 6.8-12.3 6.8h-3.7c-16.2 0-18.2-5.8-18.2-14.5v-6.1zm12.5 5.1c0 3.8.6 5.9 6.7 5.9h7.5c5.1 0 7.7-1.1 7.7-6.3v-3.3c0-5.1-2.7-6.3-7.7-6.3h-7.5c-6.1 0-6.7 2.1-6.7 5.9v4.1M535.9 36.3c0-9.3 6.4-9.8 18.8-9.8 7 0 10.9.2 13.3 2.7v-3c0-3.3-1-4.5-6-4.5h-7.5c-3.7 0-4.8.3-4.9 2.7h-12.5c0-9.2 4.5-10.7 15.3-10.7h14.9c8.8 0 13.5 4.2 13.5 12.2v22.3h-12.1v-3.9c-3.5 3.7-4.9 4.4-11.3 4.4h-8.7c-7.8.1-12.8-1.7-12.8-9.7v-2.7m22.8 4.5c8.8 0 9.6-1.3 9.6-3.6 0-2.5-.7-3.5-7.8-3.5h-5.7c-5.4 0-6.5 1.2-6.5 4 0 2.2 1.7 3.1 6.7 3.1h3.7M589 14.2h12v6.5h.1c1.5-5.4 6.7-7 12.5-7 9.3 0 13 4 13 13.4 0 .9-.1 1.8-.1 3h-11.1c0-4.3-1-6.4-6.1-6.4-4.4 0-7.5 1.7-7.5 5.7v18.8H589v-34M273.7 18.3H262c-6.7 0-11.3 1.5-11.3 9.5v6.8c0 7.9 4.7 9.5 11.3 9.5h11.7c6.7 0 11.3-1.5 11.3-9.5v-6.8c0-8-4.6-9.5-11.3-9.5\"></path><path d=\"M273.1 8.7h-10.5c-13.9 0-24.1 3.3-24.1 17.7V36c0 14.3 10.1 17.7 24.1 17.7h10.5c13.9 0 24.1-3.3 24.1-17.7v-9.6c-.1-14.3-10.2-17.7-24.1-17.7m17.7 26.2c0 11.2-7.9 13.8-18.8 13.8h-8.2c-10.9 0-18.8-2.6-18.8-13.8v-7.5c0-11.2 7.9-13.8 18.8-13.8h8.2c10.9 0 18.8 2.6 18.8 13.8v7.5M0 38.8c0-2.8.7-5.1 2-6.9 1.3-1.7 3.1-2.6 5.3-2.6 2 0 3.5.7 4.8 2.1v-9.5h4.2v26.2h-3.8l-.2-1.9c-1.2 1.5-2.9 2.3-5 2.3-2.2 0-3.9-.9-5.3-2.6-1.3-1.7-2-4.1-2-7.1m4.2.4c0 1.9.4 3.3 1.1 4.4.7 1.1 1.8 1.6 3.1 1.6 1.7 0 2.9-.8 3.7-2.3V35c-.8-1.5-2-2.2-3.7-2.2-1.3 0-2.4.5-3.1 1.6-.8 1-1.1 2.6-1.1 4.8M32.3 48.2c-.2-.4-.3-.9-.5-1.7-1.3 1.4-2.9 2.1-4.9 2.1-1.9 0-3.4-.5-4.5-1.6-1.2-1.1-1.8-2.4-1.8-3.9 0-2 .7-3.5 2.2-4.5 1.5-1.1 3.6-1.6 6.3-1.6h2.5v-1.2c0-1-.3-1.7-.8-2.3-.5-.6-1.4-.9-2.4-.9-.9 0-1.7.2-2.3.7-.6.5-.9 1.1-.9 1.8h-4.1c0-1 .3-2 1-2.8.7-.9 1.6-1.6 2.7-2.1 1.2-.5 2.4-.8 3.9-.8 2.2 0 3.9.5 5.2 1.6 1.3 1.1 1.9 2.6 2 4.6v8.3c0 1.7.2 3 .7 4v.3h-4.3m-4.6-3c.8 0 1.6-.2 2.3-.6.7-.4 1.3-.9 1.6-1.6v-3.5h-2.2c-1.5 0-2.7.3-3.5.8-.8.5-1.2 1.3-1.2 2.3 0 .8.3 1.4.8 1.9.6.5 1.4.7 2.2.7M46.1 25.2v4.5h3.3v3.1h-3.3v10.3c0 .7.1 1.2.4 1.5.3.3.8.5 1.5.5.5 0 1-.1 1.5-.2v3.2c-.9.3-1.9.4-2.7.4-3.2 0-4.8-1.8-4.8-5.3V32.7h-3v-3.1h3v-4.5h4.1zM64.3 48.2c-.2-.4-.3-.9-.5-1.7-1.3 1.4-2.9 2.1-4.9 2.1-1.9 0-3.4-.5-4.5-1.6-1.2-1.1-1.8-2.4-1.8-3.9 0-2 .7-3.5 2.2-4.5 1.5-1.1 3.6-1.6 6.3-1.6h2.5v-1.2c0-1-.3-1.7-.8-2.3-.5-.6-1.4-.9-2.4-.9-.9 0-1.7.2-2.3.7-.6.5-.9 1.1-.9 1.8H53c0-1 .3-2 1-2.8.7-.9 1.6-1.6 2.7-2.1 1.2-.5 2.4-.8 3.9-.8 2.2 0 3.9.5 5.2 1.6 1.3 1.1 1.9 2.6 2 4.6v8.3c0 1.7.2 3 .7 4v.3h-4.2m-4.6-3c.8 0 1.6-.2 2.3-.6.7-.4 1.3-.9 1.6-1.6v-3.5h-2.2c-1.5 0-2.7.3-3.5.8-.8.5-1.2 1.3-1.2 2.3 0 .8.3 1.4.8 1.9.6.5 1.3.7 2.2.7M98.5 39.1c0 2.9-.6 5.2-1.9 6.9-1.3 1.7-3 2.5-5.3 2.5-2.2 0-3.9-.8-5.1-2.3l-.2 2h-3.8V22h4.2v9.5c1.2-1.4 2.8-2.1 4.8-2.1 2.3 0 4 .8 5.3 2.5 1.3 1.7 1.9 4 1.9 7v.2zm-4.1-.3c0-2-.4-3.5-1.1-4.5-.7-1-1.7-1.5-3.1-1.5-1.8 0-3.1.8-3.8 2.4v7.6c.7 1.6 2 2.4 3.8 2.4 1.3 0 2.3-.5 3-1.5.7-1 1.1-2.4 1.1-4.4v-.5zM109 42.2l3.8-12.5h4.4L109.9 51c-1.1 3.1-3 4.7-5.7 4.7-.6 0-1.3-.1-2-.3v-3.2l.8.1c1 0 1.8-.2 2.4-.6.5-.4.9-1 1.3-1.9l.6-1.6-6.5-18.4h4.5l3.7 12.4\"></path></svg></a></div><div class=\"_3B1uQp\"><svg height=\"35\" viewbox=\"0 0 100.495 100.346\" width=\"35\"><g fill=\"#B4B4B5\"><path d=\"M30.875 27.215h-6.918c-2.659 0-4.028.456-4.028 2.66v2.508c0 2.205 1.369 2.66 4.028 2.66h1.597c.988 0 1.443.533 1.443 2.053v32.84c0 2.661.457 4.029 2.662 4.029h2.583c2.205 0 2.662-1.368 2.662-4.029V29.875c0-2.204-1.369-2.66-4.029-2.66z\"></path><path d=\"M78.297 4.409C75.333 1.521 71.608 0 67.123 0H33.371c-4.485 0-8.286 1.521-11.174 4.409L4.332 22.197C1.521 25.01 0 28.734 0 32.84v34.283c0 4.713 1.597 8.362 4.789 11.479l16.952 16.951c3.344 3.345 7.068 4.865 11.858 4.789h33.296c4.637 0 8.438-1.369 11.858-4.789l16.952-16.951c3.116-3.117 4.789-6.843 4.789-11.479V32.84c0-4.105-1.521-7.83-4.333-10.643L78.297 4.409zm15.585 40.137c0 1.141-.533 1.748-1.597 1.748h-5.093v-3.572c0-2.66-.381-4.028-2.661-4.028H82.25c-2.279 0-2.66 1.368-2.66 4.028v3.572h-3.572c-2.66 0-4.029.381-4.029 2.661v2.433c0 2.28 1.369 2.661 4.029 2.661h3.572v3.572c0 2.66.381 4.028 2.66 4.028h2.281c2.28 0 2.661-1.368 2.661-4.028v-3.572h5.093c.988 0 1.521.532 1.597 1.52v11.555c0 2.812-.837 4.94-2.813 6.842l-16.952 16.95c-1.978 1.977-4.182 2.89-6.917 2.89H33.295c-2.736 0-4.94-.913-6.917-2.89L9.427 73.965c-1.977-1.977-2.891-4.029-2.813-6.842V33.6c0-2.812.913-5.246 2.966-7.298L26.834 8.817c1.749-1.747 3.953-2.28 6.461-2.28H67.2c2.508 0 4.712.533 6.461 2.28l17.256 17.484c1.976 2.052 2.965 4.485 2.965 7.298v10.947z\"></path><path d=\"M63.93 49.716c4.257-3.116 4.333-6.31 4.333-8.895v-2.584c-.456-8.591-3.344-11.859-13.303-11.859-9.957 0-12.846 3.269-13.303 11.859v2.584c0 2.585.076 5.778 4.333 8.895-5.093 1.976-5.473 6.31-5.473 12.01 0 8.438 2.964 12.619 14.442 12.848 11.479-.229 14.444-4.409 14.444-12.848.001-5.701-.379-10.035-5.473-12.01zm-8.97-16.345c4.182 0 5.854 1.521 5.854 6.614 0 4.94-1.673 6.614-5.854 6.614-4.18 0-5.853-1.674-5.853-6.614 0-5.093 1.673-6.614 5.853-6.614zm0 33.98c-4.864 0-6.613-1.899-6.613-6.689 0-4.789 1.749-6.993 6.613-6.993 4.865 0 6.614 2.204 6.614 6.993s-1.749 6.689-6.614 6.689z\"></path></g></svg>Для лиц старше 18 лет</div></div></div></footer></div><div data-slot=\"top-menu-gift\" data-state=\"inited\" id=\"slot-top-menu-gift\"></div></div>\n",
       "<script>window.__siteconfig__ = JSON.parse('{\"menu\":[{\"title\":\"Коронавирус\",\"url\":\"/tags/koronavirus\"},{\"title\":\"Футбол\",\"url\":\"/football\",\"image\":\"football\",\"rubric\":[{\"title\":\"РПЛ\",\"sport\":\"football\",\"tournament\":\"rpl\",\"icon\":\"/m/fab0/a9d5/ed42/1968/0758/bbaf/944f/f668/60_60.png\"},{\"title\":\"ФНЛ\",\"sport\":\"football\",\"tournament\":\"fnl\",\"icon\":\"/m/a71e/e439/d001/a763/64b0/0fa3/3658/cf39/60_60.png\"},{\"title\":\"Кубок России\",\"sport\":\"football\",\"tournament\":\"russia-cup\",\"icon\":\"/m/edbd/84a2/6255/3d89/ca11/75dc/5970/5c1b/60_60.png\"},{\"title\":\"Бундеслига\",\"sport\":\"football\",\"tournament\":\"bundesliga\",\"icon\":\"/m/20c1/3295/f689/b7a8/626f/ba0e/e354/e08b/60_60.png\"},{\"title\":\"АПЛ\",\"sport\":\"football\",\"tournament\":\"epl\",\"icon\":\"/m/a89a/1761/77d7/139d/04ac/45a5/b526/4d78/60_60.png\"},{\"title\":\"Ла Лига\",\"sport\":\"football\",\"tournament\":\"primera-division\",\"icon\":\"/m/2bac/587a/003a/4e11/ac5a/23f3/2a12/9c99/60_60.png\"},{\"title\":\"Серия А\",\"sport\":\"football\",\"tournament\":\"seria-a\",\"icon\":\"/m/7bc7/f758/9743/f7d1/de3b/890c/4ed6/60bb/60_60.png\"},{\"title\":\"Лига 1\",\"sport\":\"football\",\"tournament\":\"league-1\",\"icon\":\"/m/eecb/3d4c/0436/0d5a/1f9f/bddd/537f/c02c/60_60.png\"},{\"title\":\"Лига чемпионов\",\"sport\":\"football\",\"tournament\":\"uefa-champions-league\",\"icon\":\"/m/837a/7dd5/3db2/c9f7/4afd/a240/ebf0/799d/60_60.png\"},{\"title\":\"Лига Европы\",\"sport\":\"football\",\"tournament\":\"uefa-europa-league\",\"icon\":\"/m/d853/143f/1335/2ab9/c5b1/75d5/f31a/a255/60_60.png\"},{\"title\":\"Чемпионат Европы\",\"sport\":\"football\",\"tournament\":\"uefa-championship\",\"icon\":\"/m/01b7/3b63/0bf2/8934/d2aa/8a17/4131/5fd2/60_60.png\"},{\"title\":\"Квалификация ЧЕ-2020\",\"sport\":\"football\",\"tournament\":\"uefa-european-championship-qualifications\",\"icon\":\"/m/064d/dc32/3db7/8c2e/5b8a/294b/f9d6/ffe9/60_60.png\"},{\"title\":\"Чемпионат мира\",\"sport\":\"football\",\"tournament\":\"worldcup\",\"icon\":\"/m/617f/fb03/edb0/8865/7a0d/4424/ee13/6a72/60_60.png\"},{\"title\":\"Лига наций\",\"sport\":\"football\",\"tournament\":\"uefa-nations-league\",\"icon\":\"/m/6ff5/764c/e344/f82e/b1df/ae0d/a270/3ad8/60_60.png\"}]},{\"title\":\"Хоккей\",\"url\":\"/hockey\",\"image\":\"hockey\",\"rubric\":[{\"title\":\"КХЛ\",\"sport\":\"hockey\",\"tournament\":\"khl\",\"item\":\"review\",\"icon\":\"/m/1a63/d82e/a6ec/cbff/ce2d/0e52/da10/d4a2/60_60.png\"},{\"title\":\"НХЛ\",\"sport\":\"hockey\",\"tournament\":\"nhl\",\"icon\":\"/m/62ff/51d5/788b/0941/3f3c/f10e/9d0a/9ff4/60_60.png\"},{\"title\":\"ЧМ по хоккею\",\"sport\":\"hockey\",\"tournament\":\"ihwc\",\"icon\":\"/m/1ab9/c0be/8f72/2cdd/e4f1/612c/e6c8/0a3b/60_60.png\"},{\"title\":\"Еврохоккейтур\",\"sport\":\"hockey\",\"tournament\":\"eurohockeytour\",\"icon\":\"/m/7146/9312/5ec3/0369/7766/edcf/44cb/b8a2/60_60.png\"},{\"title\":\"ЧМ по хоккею U20\",\"sport\":\"hockey\",\"tournament\":\"whcu20\",\"icon\":\"/m/6c93/9142/37ca/2dbd/235e/a0f1/d366/d6c0/60_60.png\"},{\"title\":\"Матч звезд КХЛ\",\"sport\":\"hockey\",\"tournament\":\"all-star-game-khl\",\"item\":\"review\",\"icon\":\"/m/7286/7b05/71f0/19c2/52a1/3018/3357/e439/60_60.png\"},{\"title\":\"Матч звезд НХЛ\",\"sport\":\"hockey\",\"tournament\":\"all-star-game-nhl\",\"icon\":\"/m/dec4/9a9f/b8a1/93e2/02cd/dc22/f070/5512/60_60.png\"}]},{\"title\":\"Бокс и MMA\",\"url\":\"/mma\",\"image\":\"mma\"},{\"title\":\"Фигурное катание\",\"url\":\"/figureskating\",\"image\":\"figureskating\"},{\"title\":\"Ставки\",\"url\":\"/betting\",\"image\":\"betting\"},{\"title\":\"Регби\",\"url\":\"/rugby\",\"image\":\"rugby\",\"rubric\":[{\"title\":\"Континентальная клубная регбийная лига\",\"sport\":\"rugby\",\"tournament\":\"continental-club-rugby-league\",\"icon\":\"/m/bc70/8a22/3afa/78f0/b543/35c0/494f/66e3/60_60.png\"},{\"title\":\"Премьер-лига\",\"sport\":\"rugby\",\"tournament\":\"rugby-premier-league\",\"icon\":\"/m/eed9/1db6/882a/7051/5747/5762/c5fa/5860/60_60.png\"},{\"title\":\"Кубок России по регби\",\"sport\":\"rugby\",\"tournament\":\"rugby-russia-cup\",\"icon\":\"/m/eed9/1db6/882a/7051/5747/5762/c5fa/5860/60_60.png\"},{\"title\":\"Премьер-лига-7\",\"sport\":\"rugby\",\"tournament\":\"rugby-seven-premier-league\",\"icon\":\"/m/eed9/1db6/882a/7051/5747/5762/c5fa/5860/60_60.png\"},{\"title\":\"Кубок России по регби-7\",\"sport\":\"rugby\",\"tournament\":\"rugby-seven-russia-cup\",\"icon\":\"/m/eed9/1db6/882a/7051/5747/5762/c5fa/5860/60_60.png\"},{\"title\":\"Чемпионат мира по регби (м)\",\"sport\":\"rugby\",\"tournament\":\"rugby-world-cup-man\",\"icon\":\"/m/48da/7dde/beda/ca8e/1895/8a77/5d5f/695e/60_60.png\"},{\"title\":\"Кубок наций (м)\",\"sport\":\"rugby\",\"tournament\":\"cup_nations_world_rugby\",\"icon\":\"/m/4b1e/e93d/9ecd/3671/d228/4c80/2330/15a3/60_60.png\"},{\"title\":\"Чемпионат Европы по регби (м)\",\"sport\":\"rugby\",\"tournament\":\"rugby-europe-championship-man\",\"icon\":\"/m/2e37/d610/e3cf/0218/1fe1/db5b/9fa1/a73c/60_60.png\"},{\"title\":\"Чемпионат Европы по регби (ж)\",\"sport\":\"rugby\",\"tournament\":\"rugby-europe-championship-woman\",\"icon\":\"/m/b29a/35a8/7e65/0781/0c64/2a3b/c5e5/89ff/60_60.png\"},{\"title\":\"Мировая серия по регби-7 (ж)\",\"sport\":\"rugby\",\"tournament\":\"world-rugby-sevens-series-woman\",\"icon\":\"/m/71df/6f54/4869/39dc/2c20/2b33/3dcf/730b/60_60.png\"}]},{\"title\":\"ЗОЖ\",\"url\":\"/zozh\",\"image\":\"basketballl\"},{\"title\":\"Другое\",\"url\":\"/other\",\"image\":\"other\",\"rubric\":[{\"title\":\"Биатлон\",\"url\":\"/biathlon\",\"image\":\"biathlon\"},{\"title\":\"Ставки\",\"sport\":\"betting\"},{\"title\":\"Автоспорт\",\"sport\":\"auto\"},{\"title\":\"Гольф\",\"sport\":\"golf\"},{\"title\":\"Легкая атлетика\",\"sport\":\"athletics\"},{\"title\":\"Теннис\",\"sport\":\"tennis\"},{\"title\":\"Баскетбол\",\"sport\":\"basketball\"},{\"title\":\"Скачки\",\"sport\":\"skachki\"},{\"title\":\"Киберспорт\",\"sport\":\"cybersport\"},{\"title\":\"Олимпиада\",\"sport\":\"olympics-2018\"},{\"title\":\"Команда Sport24\",\"sport\":\"developers\"}]}],\"mobileMenu\":[{\"title\":\"Коронавирус\",\"url\":\"/tags/koronavirus\"},{\"title\":\"Футбол\",\"url\":\"/football\",\"image\":\"football\",\"rubric\":[{\"title\":\"РПЛ\",\"sport\":\"football\",\"tournament\":\"rpl\",\"icon\":\"/m/fab0/a9d5/ed42/1968/0758/bbaf/944f/f668/60_60.png\"},{\"title\":\"ФНЛ\",\"sport\":\"football\",\"tournament\":\"fnl\",\"icon\":\"/m/a71e/e439/d001/a763/64b0/0fa3/3658/cf39/60_60.png\"},{\"title\":\"Кубок России\",\"sport\":\"football\",\"tournament\":\"russia-cup\",\"icon\":\"/m/edbd/84a2/6255/3d89/ca11/75dc/5970/5c1b/60_60.png\"},{\"title\":\"Бундеслига\",\"sport\":\"football\",\"tournament\":\"bundesliga\",\"icon\":\"/m/20c1/3295/f689/b7a8/626f/ba0e/e354/e08b/60_60.png\"},{\"title\":\"АПЛ\",\"sport\":\"football\",\"tournament\":\"epl\",\"icon\":\"/m/a89a/1761/77d7/139d/04ac/45a5/b526/4d78/60_60.png\"},{\"title\":\"Ла Лига\",\"sport\":\"football\",\"tournament\":\"primera-division\",\"icon\":\"/m/2bac/587a/003a/4e11/ac5a/23f3/2a12/9c99/60_60.png\"},{\"title\":\"Серия А\",\"sport\":\"football\",\"tournament\":\"seria-a\",\"icon\":\"/m/7bc7/f758/9743/f7d1/de3b/890c/4ed6/60bb/60_60.png\"},{\"title\":\"Лига 1\",\"sport\":\"football\",\"tournament\":\"league-1\",\"icon\":\"/m/eecb/3d4c/0436/0d5a/1f9f/bddd/537f/c02c/60_60.png\"},{\"title\":\"Лига чемпионов\",\"sport\":\"football\",\"tournament\":\"uefa-champions-league\",\"icon\":\"/m/837a/7dd5/3db2/c9f7/4afd/a240/ebf0/799d/60_60.png\"},{\"title\":\"Лига Европы\",\"sport\":\"football\",\"tournament\":\"uefa-europa-league\",\"icon\":\"/m/d853/143f/1335/2ab9/c5b1/75d5/f31a/a255/60_60.png\"},{\"title\":\"Чемпионат Европы\",\"sport\":\"football\",\"tournament\":\"uefa-championship\",\"icon\":\"/m/01b7/3b63/0bf2/8934/d2aa/8a17/4131/5fd2/60_60.png\"},{\"title\":\"Квалификация ЧЕ-2020\",\"sport\":\"football\",\"tournament\":\"uefa-european-championship-qualifications\",\"icon\":\"/m/064d/dc32/3db7/8c2e/5b8a/294b/f9d6/ffe9/60_60.png\"},{\"title\":\"Чемпионат мира\",\"sport\":\"football\",\"tournament\":\"worldcup\",\"icon\":\"/m/617f/fb03/edb0/8865/7a0d/4424/ee13/6a72/60_60.png\"},{\"title\":\"Лига наций\",\"sport\":\"football\",\"tournament\":\"uefa-nations-league\",\"icon\":\"/m/6ff5/764c/e344/f82e/b1df/ae0d/a270/3ad8/60_60.png\"}]},{\"title\":\"Хоккей\",\"url\":\"/hockey\",\"image\":\"hockey\",\"rubric\":[{\"title\":\"КХЛ\",\"sport\":\"hockey\",\"tournament\":\"khl\",\"icon\":\"/m/1a63/d82e/a6ec/cbff/ce2d/0e52/da10/d4a2/60_60.png\"},{\"title\":\"НХЛ\",\"sport\":\"hockey\",\"tournament\":\"nhl\",\"icon\":\"/m/62ff/51d5/788b/0941/3f3c/f10e/9d0a/9ff4/60_60.png\"},{\"title\":\"ЧМ по хоккею\",\"sport\":\"hockey\",\"tournament\":\"ihwc\",\"icon\":\"/m/1ab9/c0be/8f72/2cdd/e4f1/612c/e6c8/0a3b/60_60.png\"},{\"title\":\"Еврохоккейтур\",\"sport\":\"hockey\",\"tournament\":\"eurohockeytour\",\"icon\":\"/m/7146/9312/5ec3/0369/7766/edcf/44cb/b8a2/60_60.png\"},{\"title\":\"ЧМ по хоккею U20\",\"sport\":\"hockey\",\"tournament\":\"whcu20\",\"icon\":\"/m/6c93/9142/37ca/2dbd/235e/a0f1/d366/d6c0/60_60.png\"},{\"title\":\"Матч звезд КХЛ\",\"sport\":\"hockey\",\"tournament\":\"all-star-game-khl\",\"icon\":\"/m/7286/7b05/71f0/19c2/52a1/3018/3357/e439/60_60.png\"},{\"title\":\"Матч звезд НХЛ\",\"sport\":\"hockey\",\"tournament\":\"all-star-game-nhl\",\"icon\":\"/m/dec4/9a9f/b8a1/93e2/02cd/dc22/f070/5512/60_60.png\"}]},{\"title\":\"Бокс и MMA\",\"url\":\"/mma\",\"image\":\"mma\"},{\"title\":\"Фигурное катание\",\"url\":\"/figureskating\",\"image\":\"figureskating\"},{\"title\":\"Биатлон\",\"url\":\"/biathlon\",\"image\":\"biathlon\"},{\"title\":\"Ставки\",\"url\":\"/betting\",\"image\":\"betting\"},{\"title\":\"ЗОЖ\",\"url\":\"/zozh\",\"image\":\"basketballl\"},{\"title\":\"Сторис\",\"url\":\"/tags/stories\"},{\"title\":\"Теннис\",\"url\":\"/tennis\",\"image\":\"cybersport\"},{\"title\":\"Регби\",\"url\":\"/rugby\",\"image\":\"rugby\"},{\"title\":\"Баскетбол\",\"url\":\"/basketball\",\"image\":\"cybersport\"},{\"title\":\"Автоспорт\",\"url\":\"/auto\",\"image\":\"other\"},{\"title\":\"Киберспорт\",\"url\":\"/cybersport\",\"image\":\"cybersport\"},{\"title\":\"Гольф\",\"url\":\"/golf\",\"image\":\"basketballl\"},{\"title\":\"Другое\",\"url\":\"/other\",\"image\":\"other\"},{\"title\":\"Спорт на ТВ\",\"url\":\"/tv\",\"image\":\"other\"},{\"title\":\"Фото\",\"url\":\"/photo\",\"image\":\"other\"}],\"topMenu\":[{\"title\":\"Фото\",\"name\":\"Photo\"},{\"title\":\"Подкасты\",\"name\":\"Video\"},{\"title\":\"Тесты\",\"name\":\"Tests\"},{\"title\":\"Подписка\",\"name\":\"Subscribe\"}],\"footer\":{\"links\":[{\"title\":\"О проекте\",\"url\":\"/about\"},{\"title\":\"О персональных данных\",\"url\":\"/policy\"},{\"title\":\"FAQ\",\"url\":\"/faq\"},{\"title\":\"Обратная связь\",\"url\":\"/feedback\"}]},\"smi2\":{\"url\":\"https://smi2.ru/data/js/92351.js\"},\"socialBanners\":[{\"enable\":true,\"type\":1,\"link\":\"https://twitter.com/sport24_ru/\",\"text\":\"Подписывайтесь на нас в Twitter и будьте в курсе всех спортивных новостей\",\"image\":\"b7cc/630c/924d/409d/4716/3a8f/b33a/9b44/1115_252.png\",\"gaEvent\":\"SocialBannerInArticle\",\"gaEventLabel\":\"1\"},{\"enable\":true,\"type\":1,\"link\":\"https://news.yandex.ru/index.html?from=rubric&favid=254154508\",\"text\":\"Подписывайтесь на нас в Яндекс.Новости и будьте в курсе всех спортивных новостей\",\"image\":\"4469/1d28/6ef6/59ba/0fa0/a38b/5245/7bf7/1115_252.png\",\"gaEvent\":\"SocialBannerInArticle\",\"gaEventLabel\":\"2\"},{\"enable\":true,\"type\":1,\"link\":\"https://www.youtube.com/channel/UCvv3Wit_a18sM17CayokObQ?sub_confirmation=1\",\"text\":\"Подписывайтесь на нас в Youtube и будьте в курсе всех спортивных новостей\",\"image\":\"0a68/2c87/d548/8299/3c34/6196/ce92/62c7/1115_252.png\",\"gaEvent\":\"SocialBannerInArticle\",\"gaEventLabel\":\"3\"},{\"enable\":true,\"type\":1,\"link\":\"https://vk.com/sport24_ru\",\"text\":\"Подписывайтесь на нас в VK и будьте в курсе всех спортивных новостей\",\"image\":\"106d/2378/b29b/6802/7fca/cbd5/4fcb/aa07/1115_252.png\",\"gaEvent\":\"SocialBannerInArticle\",\"gaEventLabel\":\"4\"},{\"enable\":true,\"type\":1,\"link\":\"https://tele.click/sport24ru\",\"text\":\"Подписывайтесь на нас в Telegram и будьте в курсе всех спортивных новостей\",\"image\":\"cd56/67c7/7075/a7ba/9b14/0548/6d22/dc7e/1115_252.png\",\"gaEvent\":\"SocialBannerInArticle\",\"gaEventLabel\":\"5\"},{\"enable\":true,\"type\":1,\"link\":\"http://ok.ru/sport24ru\",\"text\":\"Подписывайтесь на нас в OK и будьте в курсе всех спортивных новостей\",\"image\":\"1287/6ea4/aba0/1a40/e349/6f20/3c74/6826/1115_252.png\",\"gaEvent\":\"SocialBannerInArticle\",\"gaEventLabel\":\"6\"},{\"enable\":true,\"type\":1,\"link\":\"https://instagram.com/sport24ru/\",\"text\":\"Подписывайтесь на нас в Instagram и будьте в курсе всех спортивных новостей\",\"image\":\"c3cf/1bf5/bcef/90d6/03ba/6556/c542/1872/1115_252.png\",\"gaEvent\":\"SocialBannerInArticle\",\"gaEventLabel\":\"7\"},{\"enable\":true,\"type\":1,\"link\":\"https://www.facebook.com/sport24ru/\",\"text\":\"Подписывайтесь на нас в Facebook и будьте в курсе всех спортивных новостей\",\"image\":\"3237/bfe8/1f19/c41c/138f/c29d/b50c/1a54/1115_252.png\",\"gaEvent\":\"SocialBannerInArticle\",\"gaEventLabel\":\"8\"}],\"seo\":[{\"url\":\"/search\",\"title\":\"Поиск на сайте - Новости спорта Sport24\",\"description\":\"Поиск на сайте новостей спорта Sport24\",\"keywords\":\"поиск на сайте, новости спорта Sport24\"},{\"url\":\"/\",\"title\":\"Новости спорта - футбол, баскетбол, теннис, киберспорт на sport24 \",\"description\":\"Фото, видео, онлайн трансляции, самые свежие новости всех видов спорта сегодня. Аналитика, интервью, блоги. Расписание матчей, результаты, статистика.\",\"keywords\":\"новости спорта, Sport24\"},{\"url\":\"/teams/:team/calendar\",\"title\":\"{title} - турнирная таблица, календарь, расписание игр команды, когда и где играют в 2019 2020\",\"description\":\" {title} - календарь, расписание матчей в турнирах и лигах на сегодня, на месяц, на сезон, онлайн трансляции матчей команды {title}.\",\"keywords\":\"турнирная таблица {title}\"},{\"url\":\"/teams/:team/players\",\"title\":\"{title} - состав команды в сезоне 2019 2020 - нападающие, защитники, бомбардиры, новички\",\"description\":\"Состав команды {title} на сезон 2019/20 - переходы, трансферы, изменения в составе, кто играет\",\"keywords\":\"игроки {title}, состав {title}\"},{\"url\":\"/teams/:team/statistics\",\"title\":\"{title} - статистика по годам и лигам, турнирная история команды\",\"description\":\"Как сыграла команда {title} в сезоне 2019/20, голы, поражения, победы, какое место заняла, статистика команды, турнирная история, сколько игр за сезон\",\"keywords\":\"статистика {title}, турнирная история {title}\"},{\"url\":\"/teams/:team/materials\",\"title\":\"{title} - фото 2020, видео, новости команды, свежая информация, подборки, интервью с игроками\",\"description\":\"{title} - новости на сегодня, статьи, фото 2020, все факты и слухи на Sport24.ru\",\"keywords\":\"статьи {title}, интервью {title}, новости команды\"},{\"url\":\"/teams/:team\",\"title\":\"{title} - состав, новости команды на сегодня, матчи, статистика, расписание игр в сезоне 2019 2020, прямые трансляции онлайн\",\"description\":\"Последние новости команды {title} онлайн - слухи, фото, трансферы, игроки - защитники, вратарь, нападающие. Видео, интервью и статистика 2020. Онлайн-трансляции, репортажи и многое другое на Sport24.ru\",\"keywords\":\"{title}\"},{\"url\":\"/players/:player/calendar\",\"title\":\"{title} - где и за какие команды играет в сезоне, в каких турнирах и когда, календарь и расписание матчей на сезон\",\"description\":\"В каких командах играет игрок {title} в этом году, календарь и расписание турниров и матчей игрока\",\"keywords\":\"{title}\"},{\"url\":\"/players/:player/statistics\",\"title\":\"{title} - статистика в сезоне. Количество голов, пасов, желтые карточки, красные карточки, турнирная история и все мачти\",\"description\":\"Турнирная история, количество забитых голов, какие когда карточки получал, туры лиг, статистика по матчам за все время\",\"keywords\":\"{title}\"},{\"url\":\"/players/:player/materials\",\"title\":\"{title} -все интересные материалы об игроке, интервью, фото 2020, эксклюзивы, события из жизни, новости, факты, видео\",\"description\":\"Подборка всех материалов об игроке по имени {title}. Последние новости и иинтересные статьи.\",\"keywords\":\"{title}\"},{\"url\":\"/players/:player\",\"title\":\"{title} - где играет, биография, фото, интервью 2020, лучшие голы, статистика\",\"description\":\"Последние новости из жизни игрока {title}. В какой команде играет, инстаграм, личная жизнь, интервью и статистика 2020. \",\"keywords\":\"{title}\"},{\"url\":\"/tags/chempionat-mira-figurnoe-katanie\",\"title\":\"Чемпионат мира по фигурному катанию 2020 – расписание, женщины и мужчины – смотреть онлайн последние новости на Sport24.ru\",\"description\":\"Чемпионат мира по фигурному катанию 2020 – читать последние новости и смотреть трансляции онлайн на Sport24! Расписание, женщины и мужчины\"},{\"url\":\"/tags/koronavirus\",\"title\":\"{title} - статистика, последние новости, спортивные события на Sport24.ru\",\"description\":\"Статистика распространения Коронавируса COVID-19 в России и мире. Следите за событиями на Sport24.ru\"},{\"url\":\"/tags/:tag\",\"title\":\"{title} - подборка новостей по теме. Фото, видео, интервью 2020, события на Sport24.ru\",\"description\":\"Последние спортивные новости по теме {title}. Статистика, онлайн трансляции, репортажи и многое другое на Sport24.ru\",\"keywords\":\"{title}\"},{\"url\":\"/zozh\",\"title\":\"ЗОЖ: все про здоровый образ жизни на Sport24.ru\",\"description\":\"Правильное питание, избавиться от лишнего веса, как начать заниматься спортом, какой спорт лучше, режиме и распорядок дня, как быть продуктивным, заниматься ли фитнесом, как начать ходить в тренажерный зал, йога, силовые тренировки, кроссфит - на sport24.ru\",\"keywords\":\"зож, новости спорта Sport24.ru\",\"newsTitle\":\"Новости ЗОЖ\"},{\"url\":\"/football\",\"title\":\"Новости футбола России и мира сегодня - футбольные новости онлайн на Sport24.ru\",\"description\":\"У нас можно читать новости о футболе каждый день. Новости клубов, интервью игроков, интересные факты и события - главные футбольные новости сегодня, завтра и всегда. Мировой и Европеский футбол. У нас есть все про футбол - спорт на sport24.\",\"keywords\":\"футбол, новости спорта Sport24.ru\",\"newsTitle\":\"Новости футбола\"},{\"url\":\"/leagues/rpl\",\"title\":\"РПЛ (РФПЛ), Российская Премьер-Лига 2019/2020- расписание, турнирная таблица, календарь. Вся информация о РПЛ на Sport24.ru\",\"description\":\"РПЛ (РФПЛ), Российская Премьер-Лига 2019/20 - когда начнется, команды, турнирная таблица, матчи, кто играет, трансферы. Новости онлайн, интервью, турнирная таблица. Вся актуальная информация на Sport24.ru\",\"keywords\":\"РПЛ, РФПЛ, Российская Премьер-Лига\"},{\"url\":\"/leagues/kubok-mira-po-biatlonu\",\"title\":\"Кубок мира по биатлону 2019-2020 - расписание, календарь, трансляции, последние новости\",\"description\":\"Кубок мира по биатлону 2019-2020 - расписание и календарь, этапы гонок (мужчины и женщины), последние новости и онлайн-трансляции на Sport24.ru\"},{\"url\":\"/leagues/:league(/review/:season)\",\"title\":\"{tournament} - расписание, турнирная таблица, календарь. Вся информация о {tournament} на Sport24.ru\",\"description\":\"{tournament} - когда начнется, команды, турнирная таблица, матчи, кто играет, трансферы. Новости онлайн, интервью, турнирная таблица. Вся актуальная информация на Sport24.ru\",\"keywords\":\"{tournament}\"},{\"url\":\"/leagues/rpl/teams\",\"title\":\"РПЛ (РФПЛ), Российская Премьер-Лига 2019/2020 – какие команды играют, состав команд - защитники, нападающие, вратари на Sport24.ru\",\"description\":\"РПЛ (РФПЛ), Российская Премьер-Лига 2019/20 - кто играет, составы команд сезона, кто на вылет и другие новости на Sport24.ru\",\"keywords\":\"РПЛ, РФПЛ, Российская Премьер-Лига, турнирная таблица, расписание матчей\"},{\"url\":\"/leagues/:league/teams(/:season)\",\"title\":\"{tournament} – какие команды играют, состав команд - защитники, нападающие, вратари на Sport24.ru\",\"description\":\"{tournament} - кто играет, составы команд сезона, кто на вылет и другие новости на Sport24.ru\",\"keywords\":\"{tournament}, турнирная таблица, расписание матчей\"},{\"url\":\"/leagues/:league/calendar(/:season)\",\"title\":\"Турнирная таблица {tournament} – расписание матчей, календарь игр\",\"description\":\"{tournament} - таблицы, итоги матчей, кто играет, расписание игр, когда какой матч, результаты, счет, кто победил\",\"keywords\":\"{tournament}, турнирная таблица, расписание матчей\"},{\"url\":\"/leagues/:league/materials(/:season)\",\"title\":\"Последние новости про турнир {tournament} – интервью, статьи, итоги матчей, кто чемпион\",\"description\":\"{tournament} - все последние новости онлайн сегодня, обзоры, лучшие моменты \",\"keywords\":\"{tournament}, новости\"},{\"url\":\"/leagues/:league/transfers(/:season)\",\"title\":\"Трансферы {tournament} – таблица переходов на Sport24.ru\",\"description\":\"{tournament} - переходы, трансферы, последние новости, сезон 2019 2020\",\"keywords\":\"{tournament}, трансферы\"},{\"url\":\"/leagues/:league/statistics(/:season)\",\"title\":\"Статистика {tournament} – лучшие бомбардиры, статистика по карточкам, матчам, командам\",\"description\":\"Статистика {tournament} -матчи, команды, желтые и красные карточки, матчи, обзор статистики \",\"keywords\":\"{tournament}, статистика\"},{\"url\":\"/articles/teams/:team\",\"title\":\"Статьи {title} сегодня: статистика матчей, последние новости на сегодня за 1 час-новостное издание о российском футболе sport24.ru\",\"description\":\"{tournament}: новости на сегодня за 1 час - результаты матчей, последние новости, обзоры прошедших игр. Футбол на sport24.\",\"keywords\":\"Новости {tournament}, новости, сегодня, новости спорта Sport24.ru\"},{\"url\":\"/teams/fk-manchester-yunayted\",\"title\":\"ФК Манчестер Юнайтед (Manchester United)- последние новости, состав и трансферы 2018. Футбольный клуб МЮ: новости команды на сегодня, фото и видео на Sport24.ru\",\"description\":\"ФК Манчестер Юнайтед - результаты матчей, последние новости, обзоры прошедших игр. Футбол на sport24.\",\"keywords\":\"ФК Манчестер Юнайтед, новости, сегодня, новости спорта Sport24\"},{\"url\":\"/hockey/teams/dinamo_mn\",\"title\":\"Хоккейный клуб Динамо Минск - Информация о команде - Состав - Ближайшие матчи - Новости хоккей Sport24\",\"description\":\"Хоккейный клуб Динамо Минск - результаты матчей, последние новости, обзоры прошедших игр. Футбол на sport24.\",\"keywords\":\"Хоккейный клуб Динамо Минск, новости, сегодня, новости спорта Sport24\"},{\"url\":\"/players/daniil-kvyat\",\"title\":\"Даниил Квят - последние новости формулы 1, фото, видео, интервью 2018 Квята на Sport24\",\"description\":\"Даниил Квят - результаты гонок, последние новости, обзоры прошедших гонок. Футбол на sport24.\",\"keywords\":\"Даниил Квят, новости, сегодня, новости спорта Sport24\"},{\"url\":\"/hockey\",\"title\":\"Хоккей сегодня, главные новости хоккея России и мира - Sport24\",\"description\":\"Все о хоккее - новости хоккейных чемпионатов России и Мира. Результаты, аналитика, анонс предстоящих матчей. Новоти хоккея на спортивном портале Sport24.ru\",\"keywords\":\"хоккей, новости спорта Sport24\",\"newsTitle\":\"Новости хоккея\"},{\"url\":\"/biathlon\",\"title\":\"Новости биатлона на сегодня, результаты, рейтинг и новости биатлонных чемпионатов - Sport24\",\"description\":\"Последние новости биатлона - новости на сегодня. Результаты чемпионатов. Всё о биатлоне - sport24.ru.\",\"keywords\":\"биатлон, новости спорта Sport24\",\"newsTitle\":\"Новости биатлона\"},{\"url\":\"/other/cybersport\",\"title\":\"Киберспорт - The International 2020 - главный турнир по Dota 2. Новости, трансляция онлайн на Cybersport на Sport24.ru\",\"description\":\"Новости киберспорта (cybersport). The International 2020 - прямая трансляция из Шанхая, итоги отборочного, команды участники, рейтинг команд, призовой фонд, Virtus.pro на Интернейшнл. Прогнозы, распределенние prize pull, изменения фонда и другая информация на портале sport24.\",\"keywords\":\"Киберспорт, новости спорта sport24, International 2020\",\"newsTitle\":\"Новости киберспорта\"},{\"url\":\"/other/skachki\",\"title\":\"Лошадиные скачки - смотреть трансляцию онлайн, новости конного спорта на Sport24.ru\",\"description\":\"Где и как сделать ставки на конный спорт в 2020, прогноз ставок, новости, видео, трансляции, лайфхаки, правила ставок на скачки на лошадях.\",\"keywords\":\"скачки, конный спорт, новости онлайн\",\"newsTitle\":\"Новости конного спорта\"},{\"url\":\"/other/auto\",\"title\":\"Формула 1 - смотреть трансляцию онлайн, новости автоспорта на Sport24.ru\",\"description\":\"Новости Формулы 1, Гран-при Сочи, трансляции, результаты, календарь.\",\"keywords\":\"формула 1, гран при сочи, автоспорт, новости формулы 1\",\"newsTitle\":\"Новости автоспорта и Формулы 1\"},{\"url\":\"/other/tennis\",\"title\":\"Новости тенниса на сегодня, результаты, рейтинг и новости теннисных чемпионатов -Sport24\",\"description\":\"Последние новости большого тенниса - новости мирового тенниса на сегодня. Результаты чемпионатов. Всё о теннисе - Sport24.ru.\",\"keywords\":\"теннис, новости спорта Sport24.ru\",\"newsTitle\":\"Новости тенниса\"},{\"url\":\"/mma\",\"title\":\"Новости MMA(ММА) и UFC (ЮФС) - бои без правил, свежие новости на сегодня смешанных единоборств MMA и UFC на sport24 новости от экспертов\",\"description\":\"Новости единоборств MMA и боёв без правил. Последние новости организации UFC. Интервью экспертов, результаты боёв. Всё о MMA на портале sport24.\",\"keywords\":\"MMA, новости спорта Sport24\",\"newsTitle\":\"Новости бокса и ММА\"},{\"url\":\"/other/basketball\",\"title\":\"Баскетбол - последние новости баскетбола России и мира, трансферы, результаты на сегодня, фото\",\"description\":\"Все последние баскетбольные новости России и мира, обзоры прошедших матчей, аналитика, статьи и интервью. Всё о баскетболе на sport24.\",\"keywords\":\"баскетбол, новости спорта Sport24\",\"newsTitle\":\"Новости баскетбола\"},{\"url\":\"/other/betting\",\"title\":\"Ставки - новости, результаты, видео. Ставки на Sport24.ru\",\"description\":\"Все ставки, аналитика, статьи и интервью. Всё о ставках на sport24.\",\"keywords\":\"Ставки, новости спорта Sport24\"},{\"url\":\"/betting\",\"title\":\"Ставки - новости, результаты, видео. Ставки на Sport24.ru\",\"description\":\"Все ставки, аналитика, статьи и интервью. Всё о ставках на sport24.\",\"keywords\":\"Ставки, новости спорта Sport24\"},{\"url\":\"/about\",\"title\":\"О проекте - Новости спорта Sport24\",\"description\":\"Информация о проекте «Новости спорта sport24»\",\"keywords\":\"о проекте, новости спорта Sport24\"},{\"url\":\"/feedback\",\"title\":\"Обратная связь - Новости спорта Sport24\",\"description\":\"Связаться с нами - Обратная связь - Новости спорта Sport24\",\"keywords\":\"обратная связь, новости спорта Sport24\"},{\"url\":\"/faq\",\"title\":\"Часто задаваемые вопросы - Новости спорта Sport24\",\"description\":\"Часто задаваемые вопросы о проекте «Новости спорта sport24»\",\"keywords\":\"о проекте, новости спорта sport24\"},{\"url\":\"/tests\",\"title\":\"Тесты про спорт - Проверьте свои знания - Новости спорта Sport24\",\"description\":\"Тесты про спорт - Проверьте свои знания в занимательных тестах - Новости спорта Sport24\",\"keywords\":\"тесты, спорт, новости спорта sport24\"},{\"url\":\"/olympics-2018\",\"title\":\"Олимпиада 2018 Пхенчхан – расписание, новости, медальный зачет зимних Олимпийских игр – Sport24\",\"description\":\"Зимние Олимпийские игры 2018 года, Пхенчхан, Южная Корея – календарь и результаты, новости, онлайн-трансляции, медальные зачёты, статистика, выступление сборной России. Олимпиада 2018\",\"keywords\":\"олимпийские игры, Пхенчхан, Южная Корея\"},{\"url\":\"/comments/rules\",\"title\":\"Правила комментирования\",\"description\":\"Правила комментирования\",\"keywords\":\"правила, комментарии\"},{\"url\":\"/auth/restore/*\",\"title\":\"Восстановление пароля\",\"description\":\"Восстановление пароля\",\"keywords\":\"пароль, восстановление\"},{\"url\":\"/auth/confirm/*\",\"title\":\"Подтверждение регистрации\",\"description\":\"Подтверждение регистрации\",\"keywords\":\"регистрация, подтверждение\"},{\"url\":\"/auth/agreement\",\"title\":\"Публичная оферта\",\"description\":\"Публичная оферта\",\"keywords\":\"публичная, оферта\"},{\"url\":\"/subscribe/agreement\",\"title\":\"Оферта подписки\",\"description\":\"Оферта подписки\",\"keywords\":\"оферта, подписка\"},{\"url\":\"/transfers\",\"title\":\"Трансферы 2020. Межсезонье. Зимнее трансферное окно 2019/20. - Чемпионат России по футболу (РПЛ), европейский футбол. Все переходы футболистов на Sport24.ru\",\"description\":\"Трансферы 2020. Когда закрывается зимнее трансферное окно 2019/20. - РФПЛ, Премьер-Лига, Серия А, Ла Лига, Лига 1, Бундеслига. Все переходы футболистов на Sport24.ru\"},{\"url\":\"/photo\",\"title\":\"Спортивные фото. Альбомы спорт фотографий на Sport24.ru\",\"description\":\"Спортивные события в фотографиях. Лучшие футбольные, хоккейные и другие фото\",\"keywords\":\"фото, новости спорта sport24\"},{\"url\":\"/photo/other/:urn\",\"title\":\"Спортивные фото. Альбомы спорт фотографий на Sport24.ru\",\"description\":\"Спортивные события в фотографиях. Лучшие футбольные, хоккейные и другие фото\",\"keywords\":\"фото, новости спорта sport24\"},{\"url\":\"/photo/:sport/:urn\",\"title\":\"{title} - Спортивные фото. Альбомы спорт фотографий на Sport24.ru\",\"description\":\"{sport} - Спортивные события в фотографиях. Лучшие футбольные, хоккейные и другие фото\",\"keywords\":\"{sport}, фото, новости спорта sport24\"},{\"url\":\"/video/:sport/:urn\",\"title\":\"{title} - Видео - Новости спорта Sport24\",\"description\":\"{sport} - Видео - Аналитика событий - Новости спорта Sport24\",\"keywords\":\"{sport}, видео, новости спорта sport24\"},{\"url\":\"/video\",\"title\":\"Видео - Новости спорта Sport24\",\"description\":\"Видео - Аналитика событий - Новости спорта Sport24\",\"keywords\":\"видео, новости спорта sport24\"},{\"url\":\"/video/stories\",\"title\":\"Спортивные видео-сюжеты - смотреть онлайн на Sport24.ru\",\"description\":\"Смотреть спортивные видео-сюжеты онлайн на сайте Sport24.ru! Самые актуальные новости спорта.\"},{\"url\":\"/video/broadcast\",\"title\":\"Спортивные трансляции - смотреть онлайн на Sport24.ru\",\"description\":\"Смотреть спортивные трансляции онлайн на сайте Sport24.ru! Самые актуальные новости спорта.\"},{\"url\":\"/video/highlight\",\"title\":\"Хайлайты - смотреть онлайн на Sport24.ru\",\"description\":\"Смотреть хайлайты онлайн на сайте Sport24.ru! Самые актуальные новости спорта.\"},{\"url\":\"/video/:program\",\"title\":\"Видео - Новости спорта Sport24\",\"description\":\"Видео - Аналитика событий - Новости спорта Sport24\",\"keywords\":\"видео, новости спорта sport24\"},{\"url\":\"/audio(/:sport)\",\"title\":\"Слушать спортивные подкасты. Аудио-ролики о спортивных мероприятиях на Sport24.ru\",\"description\":\"Спортивные подкасты от Sport24. Свежие спортивные новости - Аналитика, интервью, фото, видео, статистика, блоги - Новости спорта Sport24\",\"keywords\":\"аудио, новости спорта sport24\"},{\"url\":\"/tv\",\"title\":\"Программа передач. Спорт на ТВ - телепрограмма\",\"description\":\"Телеканалы Матч ТВ, Наш спорт, Боец, Арена, Наш футбол, Матч Премьер - расписание трансляций. Календарь спортивных программ на телевидении\",\"keywords\":\"тв, новости спорта sport24\"},{\"url\":\"/tv/:program/:urn\",\"title\":\"Анонс трансляции. Спорт на ТВ - телепрограмма\",\"description\":\"Телеканалы Матч ТВ, Наш спорт, Боец, Арена, Наш футбол, Матч Премьер - анонс трансляции. Описание\",\"keywords\":\"аудио, новости спорта sport24\"},{\"url\":\"/news/:sport/:urn\",\"title\":\"{title} - {date} - Sport24\",\"ogTitle\":\"{title}\",\"description\":\"{description}\",\"keywords\":\"{title}, {date}, новости спорта sport24\"},{\"url\":\"/live/:sport/:urn\",\"title\":\"{title} - {date} - Live-трансляция - Sport24\",\"description\":\"{title} - онлайн, трансляция, live - Sport24\",\"keywords\":\"{title}, {date}, онлайн, трансляция, live, новости спорта sport24\"},{\"url\":\"/other\",\"title\":\"Новости других видов спорта на сегодня, результаты, рейтинг и новости чемпионатов - Sport24\",\"description\":\"Последние новости других видов спорта - новости на сегодня. Результаты чемпионатов. Всё о других видах спорта - sport24.ru.\",\"keywords\":\"новости спорта sport24\",\"newsTitle\":\"Новости других видов спорта\"},{\"url\":\"/other/biathlon\",\"title\":\"Новости биатлона на сегодня, результаты, рейтинг и новости биатлонных чемпионатов - Sport24\",\"description\":\"Последние новости биатлона - новости на сегодня. Результаты чемпионатов. Всё о биатлоне - sport24.ru.\",\"keywords\":\"биатлон, новости спорта sport24\",\"newsTitle\":\"Новости биатлона\"},{\"url\":\"/other/athletics\",\"title\":\"Новости легкой атлетики на сегодня, результаты, рейтинг и новости легкоатлетических чемпионатов - Sport24\",\"description\":\"Последние новости легкой атлетики - новости на сегодня. Результаты чемпионатов. Всё о легкой атлетике - sport24.ru.\",\"keywords\":\"легкая атлетика, новости спорта sport24\",\"newsTitle\":\"Новости легкой атлетики\"},{\"url\":\"/other/olympics-2018\",\"title\":\"Новости Олимпиады 2018 на сегодня, результаты, рейтинг и новости Олимпийских игр - Sport24\",\"description\":\"Последние новости Олимпиады - новости на сегодня. Результаты чемпионатов. Всё об Олимпиаде - sport24.ru.\",\"keywords\":\"Олимпиада, олимпийские игры, новости спорта sport24\",\"newsTitle\":\"Новости Олимпиады\"},{\"url\":\"/other/rugby\",\"title\":\"Новости регби на сегодня, результаты, рейтинг и новости чемпионатов по регби - Sport24\",\"description\":\"Последние новости регби - новости на сегодня. Результаты чемпионатов. Всё о  регби - sport24.ru.\",\"keywords\":\"регби, новости спорта sport24\",\"newsTitle\":\"Новости регби\"},{\"url\":\"/rugby\",\"title\":\"Новости регби на сегодня, результаты, рейтинг и новости чемпионатов по регби - sport24\",\"description\":\"Последние новости регби - новости на сегодня. Результаты чемпионатов. Всё о  регби - sport24.ru.\",\"keywords\":\"регби, новости спорта sport24\",\"newsTitle\":\"Новости регби\"},{\"url\":\"/golf\",\"title\":\"Новости гольфа на сегодня, результаты, рейтинг и новости чемпионатов по гольфу - Sport24\",\"description\":\"Последние новости гольфа - новости на сегодня. Результаты чемпионатов. Всё о  гольфе - sport24.ru.\",\"keywords\":\"гольф, новости спорта sport24\",\"newsTitle\":\"Новости гольфа\"},{\"url\":\"/tennis\",\"title\":\"Новости тенниса на сегодня, результаты, рейтинг и новости чемпионатов по теннису - Sport24\",\"description\":\"Последние новости тенниса - новости на сегодня. Результаты чемпионатов. Всё о теннисе - sport24.ru.\",\"keywords\":\"теннис, новости спорта sport24\",\"newsTitle\":\"Новости тенниса\"},{\"url\":\"/figureskating\",\"title\":\"Новости фигурного катания на сегодня, результаты, рейтинг и новости чемпионатов по фигурному катанию - Sport24\",\"description\":\"Последние новости фигурного катания - новости на сегодня. Результаты чемпионатов. Всё о фигурном катании - sport24.ru.\",\"keywords\":\"фигурное катание, новости спорта sport24\",\"newsTitle\":\"Новости фигурного катания\"},{\"url\":\"/other/developers\",\"title\":\"Новости разработки портала Sport24\",\"description\":\"Последние новости разработки - Sport24.ru\",\"keywords\":\"разработка, новости спорта sport24\",\"newsTitle\":\"Новости разработки\"},{\"url\":\"/user/*\",\"title\":\"Профиль пользователя Sport24.ru\",\"description\":\"Пользователський профиль на Sport24.ru\",\"keywords\":\"профиль, пользователь, новости спорта sport24\",\"newsTitle\":\"Профиль пользователя\"},{\"url\":\"/articles/:sport\",\"title\":\"{sport}: Статьи - Новости, результаты матчей, турнирная таблица, ставки - Новости спорта Sport24\",\"description\":\"{sport} - Статьи - Свежие новости - Результаты матчей, турнирная таблица - Ставки на спорт - Новости спорта Sport24\",\"keywords\":\"{sport}, Статьи, новости, ставки, турнирная таблица, результаты матчей, новости спорта sport24\"},{\"url\":\"/mobile-news/:sport\",\"description\":\"{sport} - Свежие новости - Результаты матчей, турнирная таблица - Ставки на спорт - Новости спорта Sport24\",\"keywords\":\"{sport}, новости, ставки, турнирная таблица, результаты матчей, новости спорта sport24\",\"title\":\"{sport} - Новости, результаты матчей, турнирная таблица, ставки - Новости спорта Sport24\"},{\"url\":\"/mobile-news/:sport/*\",\"description\":\"{sport} :{tournament} - Свежие новости - Результаты матчей, турнирная таблица - Ставки на спорт - Новости спорта Sport24\",\"keywords\":\"{sport}, {tournament}, новости, ставки, турнирная таблица, результаты матчей, новости спорта sport24\",\"title\":\"{sport}: {tournament} - Новости, результаты матчей, турнирная таблица, ставки - Новости спорта Sport24\"},{\"url\":\"/leagues/:league/match/:match\",\"title\":\"{home} - {away} матч {date} - Результаты, счет матча, {tournament} 2019-2020 - Новости спорта Sport24\",\"description\":\"Матч {home} - {away} {date} - Результаты и статистика - Составы команд - Новости спорта Sport24\",\"keywords\":\"матч {home} - {away} {date}, {sport}, результаты, статистика, новости спорта sport24\"},{\"url\":\"/leagues/:league/match/:match/roster\",\"title\":\"Состав команд {home} - {away} на матч {date} - {tournament} 2019-2020 - Новости спорта Sport24\",\"description\":\"Составы команд на матче {home} - {away} {date} - кто играет - читайте на Sport24.ru\",\"keywords\":\"матч {home} - {away} {date}, {sport}, результаты, статистика, новости спорта sport24\"},{\"url\":\"/leagues/:league/match/:match/materials\",\"title\":\"Последние новости матча {home} - {away} {date} - {tournament} 2019-2020 - Новости спорта Sport24\",\"description\":\"Все материалы о матче {home} - {away} {date} - читайте последние новости на Sport24.ru\",\"keywords\":\"матч {home} - {away} {date}, {sport}, результаты, статистика, новости спорта sport24\"},{\"url\":\"/leagues/:league/match/:match/broadcast\",\"title\":\"Смотреть матч онлайн {home} - {away} {date} - прямая текстовая трансляция матча {tournament} 2019-2020 - Новости спорта Sport24\",\"description\":\"Смотреть матч онлайн {home} - {away} {date} - на Sport24\",\"keywords\":\"матч {home} - {away} {date}, {sport}, результаты, статистика, новости спорта sport24\"},{\"url\":\"/leagues/:league/match/:match/text-online\",\"title\":\"Текстовая трансляция матча {home} - {away} {date} - читать онлайн на Sport24.ru\",\"description\":\"Полная текстовая трансляция матча {home} - {away} {date} - {tournament} 2019-2020 - читать онлайн на Sport24.ru\"},{\"url\":\"/leagues/:league/match/:match/statistics\",\"title\":\"Статистика матча {home} - {away} {date} - {tournament} 2019-2020 - Новости спорта Sport24\",\"description\":\"Матч {home} - {away} {date} - Результаты и статистика - Составы команд - Новости спорта Sport24\",\"keywords\":\"матч {home} - {away} {date}, {sport}, результаты, статистика, новости спорта sport24\"},{\"url\":\"/policy\"},{\"url\":\"/oferta-complete\"},{\"url\":\"/agreement\"},{\"url\":\"/matches\",\"title\":\"Расписание матчей - Вчера, Сегодня, Завтра - на Sport24\",\"description\":\"Расписание матчей - Вчера, Сегодня, Завтра - читайте на Sport24\"},{\"url\":\"/matches/*\"},{\"url\":\"/:sport\",\"title\":\"{sport} - Новости, фото, видео, статистика, таблицы, трансферы, онлайн - Sport24\",\"description\":\"{sport} - Новости, фото, видео, статистика, трансферы, онлайн - Новости спорта Sport24\",\"keywords\":\"{sport}, новости, сегодня, новости спорта sport24\"}]}')</script>\n",
       "<script>window.__model__ = JSON.parse('null')</script><ins class=\"adsbygoogle adsbygoogle-noablate\" data-adsbygoogle-status=\"done\" style=\"display: none !important;\"><ins id=\"aswift_0_expand\" style=\"display:inline-table;border:none;height:0px;margin:0;padding:0;position:relative;visibility:visible;width:0px;background-color:transparent;\"><ins id=\"aswift_0_anchor\" style=\"display:block;border:none;height:0px;margin:0;padding:0;position:relative;visibility:visible;width:0px;background-color:transparent;\"></ins></ins></ins><iframe aria-hidden=\"true\" frameborder=\"0\" name=\"ym-native-frame\" style=\"opacity: 0 !important; width: 0px !important; height: 0px !important; position: absolute !important; left: 100% !important; bottom: 100% !important; border: 0px !important;\" title=\"ym-native-frame\"></iframe><script id=\"\" type=\"text/javascript\">(function(a,d,e,g,h,f,b,c){b=d.createElement(e);b.src=g;c=d.getElementsByTagName(e)[0];c.parentNode.insertBefore(b,c);a[f]=[];a[h]=function(){a[f].push(Array.prototype.slice.apply(arguments))}})(window,document,\"script\",(\"https:\"===document.location.protocol?\"https:\":\"http:\")+\"//cdn01.nativeroll.tv/js/seedr-player.min.js\",\"SeedrPlayer\",\"seedrInit\");</script>\n",
       "<div id=\"fullscreen-banner\">\n",
       "<div class=\"image\">\n",
       "<div id=\"adfox_fullscreen_desktop\"></div>\n",
       "<div id=\"adfox_fullscreen_mobile\"></div>\n",
       "</div>\n",
       "</div>\n",
       "<script id=\"\" type=\"text/javascript\">(function(){function c(a){d.querySelector(\".timer i\").innerText=a;0>=a?e():setTimeout(function(){c(a-1)},1E3)}function h(){console.log(\"!!! showFullscreenBanner\",arguments);if(b.querySelector(\"#adfox_fullscreen_desktop \\x3e *, #adfox_fullscreen_mobile \\x3e *\")&&!f){f=!0;var a=document.createElement(\"div\");a.innerHTML+='\\x3cdiv class\\x3d\"info top\"\\x3e\\x3cspan class\\x3d\"timer\"\\x3e\\u0414\\u043e \\u0437\\u0430\\u043a\\u0440\\u044b\\u0442\\u0438\\u044f \\u043e\\u0441\\u0442\\u0430\\u043b\\u043e\\u0441\\u044c: \\x3ci\\x3e'+\n",
       "g+'\\x3c/i\\x3e\\x3c/span\\x3e\\x3cspan class\\x3d\"close\"\\x3e\\u00d7\\x3c/span\\x3e\\x3c/div\\x3e';a.innerHTML+='\\x3cdiv class\\x3d\"info bottom\"\\x3e\\x3cspan\\x3e18+\\x3c/span\\x3e\\x3cspan\\x3e\\u0440\\u0435\\u043a\\u043b\\u0430\\u043c\\u0430\\x3c/span\\x3e\\x3c/div\\x3e';setTimeout(function(){console.log(\"!!! showFullscreenBanner begin timeout\");d.appendChild(a);b.querySelector(\".close\").addEventListener(\"click\",e);document.documentElement.classList.add(\"fullscreen-banner-visible\");b.classList.add(\"visible\");c(g);console.log(\"!!! showFullscreenBanner end timeout\")},\n",
       "1E3)}}function e(){b.classList.remove(\"visible\");document.documentElement.classList.remove(\"fullscreen-banner-visible\")}var f=!1,g=10,b=document.getElementById(\"fullscreen-banner\"),d=b.querySelector(\".image\");window.showFullscreenBanner=h})();</script>\n",
       "<script id=\"\" type=\"text/javascript\">(function(a,b){a[b]=a[b]||[];a[b].push([{ownerId:google_tag_manager[\"GTM-K65RXSJ\"].macro(1),containerId:\"adfox_fullscreen_desktop\",params:{pp:\"g\",ps:\"csaf\",p2:\"ggid\"},onRender:showFullscreenBanner,onStub:function(){dataLayer.push({event:\"\\u2248fullscreen error\"})},onError:function(){dataLayer.push({event:\"\\u2248fullscreen error\"})}},[\"desktop\"],{tabletWidth:1023,phoneWidth:480,isAutoReloads:!1}])})(window,\"adfoxAsyncParamsAdaptive\");</script>\n",
       "<script id=\"\" type=\"text/javascript\">setTimeout(function(){(function(a,b){a[b]=a[b]||[];a[b].push([{ownerId:google_tag_manager[\"GTM-K65RXSJ\"].macro(2),containerId:\"adfox_fullscreen_mobile\",params:{pp:\"g\",ps:\"csaf\",p2:\"gghn\"},onRender:showFullscreenBanner,onStub:function(){dataLayer.push({event:\"\\u2248fullscreen error\"})},onError:function(){dataLayer.push({event:\"\\u2248fullscreen error\"})}},[\"tablet\",\"phone\"],{tabletWidth:1023,phoneWidth:480,isAutoReloads:!1}])})(window,\"adfoxAsyncParamsAdaptive\")},1E3);</script>\n",
       "<script id=\"\" type=\"text/javascript\">var adfoxBiddersMap={myTarget:\"791539\",betweenDigital:\"813654\",criteo:\"739918\",rtbhouse:\"856599\",getintent:\"827941\",adriver:\"831182\",buzzoola:\"962407\",alfasense:\"1051228\"},adUnits=[];window.YaHeaderBiddingSettings={biddersMap:adfoxBiddersMap,adUnits:adUnits,timeout:1E3};</script>\n",
       "<script id=\"\" src=\"//static.wi-fi.ru/mtt/banners/libs/1.4.3/all.js\" type=\"text/javascript\"></script><script id=\"\" type=\"text/javascript\">if(!window.safari){var script=document.createElement(\"script\");script.src=\"https://moevideo.biz/embed/js/mvpt.min.js\";document.body.appendChild(script)};</script><script src=\"https://moevideo.biz/embed/js/mvpt.min.js\"></script>\n",
       "<script id=\"\" src=\"//zen.yandex.ru/widget-loader\" type=\"text/javascript\"></script><script id=\"\" src=\"https://pagead2.googlesyndication.com/pagead/js/adsbygoogle.js\" type=\"text/javascript\"></script><script id=\"\" type=\"text/javascript\">(function(){console.debug(\"slot-top-desktop\",1);var a=document.getElementById(\"slot-top-desktop\");a&&(console.debug(\"slot-top-desktop\",2),\"inited\"===a.dataset.state?(window.Ya&&Ya.adfoxCode&&Ya.adfoxCode.reload&&(console.debug(\"slot-top-desktop\",3),Ya.adfoxCode.reload(a.id)),console.debug(\"slot-top-desktop\",4)):(console.debug(\"slot-top-desktop\",5),a.dataset.state=\"inited\",setTimeout(function(){(function(b,c){b[c]=b[c]||[];b[c].push({ownerId:google_tag_manager[\"GTM-K65RXSJ\"].macro(4),containerId:a.id,params:{pp:\"g\",ps:\"csaf\",\n",
       "p2:\"ginl\",puid1:google_tag_manager[\"GTM-K65RXSJ\"].macro(5),puid2:google_tag_manager[\"GTM-K65RXSJ\"].macro(6),puid3:google_tag_manager[\"GTM-K65RXSJ\"].macro(7)},onLoad:function(){console.debug(a.id,\"load\",arguments)},onRender:function(){console.debug(a.id,\"render\")},onError:function(){console.debug(a.id,\"error\",arguments);Ya.adfoxCode.destroy(a.id);a.dataset.state=\"\"},onStub:function(){console.debug(a.id,\"stub\");Ya.adfoxCode.destroy(a.id);a.dataset.state=\"\"}})})(window,\"adfoxAsyncParams\")},1E3)))})();</script>\n",
       "<script id=\"\" type=\"text/javascript\">(function(){var a=document.getElementById(\"slot-top-mobile\");a&&(\"inited\"===a.dataset.state?window.Ya&&Ya.adfoxCode&&Ya.adfoxCode.reload&&window.Ya.adfoxCode.reload(a.id):(a.dataset.state=\"inited\",function(b,c){b[c]=b[c]||[];b[c].push({ownerId:google_tag_manager[\"GTM-K65RXSJ\"].macro(8),containerId:a.id,params:{pp:\"reg\",ps:\"csaf\",p2:\"ginl\",puid1:google_tag_manager[\"GTM-K65RXSJ\"].macro(9),puid2:google_tag_manager[\"GTM-K65RXSJ\"].macro(10),puid3:google_tag_manager[\"GTM-K65RXSJ\"].macro(11)},onLoad:function(){console.debug(a.id,\"load\",arguments)},onRender:function(){console.debug(a.id,\"render\")},\n",
       "onError:function(){console.debug(a.id,\"error\",arguments);Ya.adfoxCode.destroy(a.id);a.dataset.state=\"\"},onStub:function(){console.debug(a.id,\"stub\");Ya.adfoxCode.destroy(a.id);a.dataset.state=\"\"}})}(window,\"adfoxAsyncParams\")))})();</script>\n",
       "<script id=\"\" type=\"text/javascript\">var _tmr=window._tmr||(window._tmr=[]);_tmr.push({id:\"3080265\",type:\"pageView\"});</script>\n",
       "<script id=\"\" type=\"text/javascript\">(function(){var a=document.getElementById(\"slot-materials-feed-item\");a&&(\"inited\"===a.dataset.state?window.Ya&&Ya.adfoxCode&&Ya.adfoxCode.reload&&Ya.adfoxCode.reload(a.id):(a.dataset.state=\"inited\",function(b,c){b[c]=b[c]||[];b[c].push({ownerId:google_tag_manager[\"GTM-K65RXSJ\"].macro(12),containerId:a.id,params:{pp:\"h\",ps:\"csaf\",p2:\"gstr\"},onLoad:function(){console.debug(a.id,\"load\",arguments)},onRender:function(){console.debug(a.id,\"render\")},onError:function(){console.debug(a.id,\"error\",arguments);Ya.adfoxCode.destroy(a.id);\n",
       "a.dataset.state=\"\"},onStub:function(){console.debug(a.id,\"stub\");Ya.adfoxCode.destroy(a.id);a.dataset.state=\"\"}})}(window,\"adfoxAsyncParams\")))})();</script>\n",
       "<script id=\"\" type=\"text/javascript\">(function(){var a=document.getElementById(\"slot-top-menu-gift\");a&&\"inited\"!==a.dataset.state&&(a.dataset.state=\"inited\",setTimeout(function(){(function(b,c){b[c]=b[c]||[];b[c].push({ownerId:google_tag_manager[\"GTM-K65RXSJ\"].macro(13),containerId:a.id,params:{pp:\"g\",ps:\"csaf\",p2:\"gsxn\",puid1:google_tag_manager[\"GTM-K65RXSJ\"].macro(14),puid2:google_tag_manager[\"GTM-K65RXSJ\"].macro(15),puid3:google_tag_manager[\"GTM-K65RXSJ\"].macro(16)},onLoad:function(){console.debug(a.id,\"load\",arguments)},onRender:function(){console.debug(a.id,\"render\")},onError:function(){console.debug(a.id,\"error\",\n",
       "arguments);Ya.adfoxCode.destroy(a.id);a.dataset.state=\"\"},onStub:function(){console.debug(a.id,\"stub\");Ya.adfoxCode.destroy(a.id);a.dataset.state=\"\"}})})(window,\"adfoxAsyncParams\")},1E3))})();</script>\n",
       "<script id=\"\" type=\"text/javascript\">(function(){var a=document.getElementById(\"slot-top-menu\");a&&\"inited\"!==a.dataset.state&&(a.dataset.state=\"inited\",setTimeout(function(){(function(b,c){b[c]=b[c]||[];b[c].push({ownerId:google_tag_manager[\"GTM-K65RXSJ\"].macro(17),containerId:a.id,params:{pp:\"g\",ps:\"csaf\",p2:\"gtpf\",puid1:google_tag_manager[\"GTM-K65RXSJ\"].macro(18),puid2:google_tag_manager[\"GTM-K65RXSJ\"].macro(19),puid3:google_tag_manager[\"GTM-K65RXSJ\"].macro(20)},onLoad:function(){console.debug(a.id,\"load\",arguments)},onRender:function(){console.debug(a.id,\"render\")},onError:function(){console.debug(a.id,\"error\",arguments);\n",
       "Ya.adfoxCode.destroy(a.id);a.dataset.state=\"\"},onStub:function(){console.debug(a.id,\"stub\");Ya.adfoxCode.destroy(a.id);a.dataset.state=\"\"}})})(window,\"adfoxAsyncParams\")},1E3))})();</script>\n",
       "<script id=\"\" type=\"text/javascript\">(function(b,d,a){if(!b.getElementById(a)){var c=b.createElement(\"script\");c.id=a;c.src=\"https://top-fwz1.mail.ru/js/code.js\";a=function(){var a=b.getElementsByTagName(\"script\")[0];a.parentNode.insertBefore(c,a)};\"[object Opera]\"==d.opera?b.addEventListener(\"DOMContentLoaded\",a,!1):a()}})(document,window,\"topmailru-code\");</script><noscript><div>\n",
       "<img alt=\"Top.Mail.Ru\" src=\"https://top-fwz1.mail.ru/counter?id=3080265;js=na\"/>\n",
       "</div></noscript></body><iframe data-ad-client=\"ca-pub-8447216818130148\" id=\"google_esf\" name=\"google_esf\" src=\"https://googleads.g.doubleclick.net/pagead/html/r20200505/r20190131/zrt_lookup.html#\" style=\"display: none;\"></iframe></html>"
      ]
     },
     "execution_count": 75,
     "metadata": {},
     "output_type": "execute_result"
    }
   ],
   "source": [
    "soup"
   ]
  },
  {
   "cell_type": "code",
   "execution_count": 88,
   "metadata": {},
   "outputs": [
    {
     "data": {
      "text/plain": [
       "{'href=\"/news/football/2020-05-07-barselona-byla-by-dostoynym-chempionom-fabregas-otvetil-kurtua\"',\n",
       " 'href=\"/news/football/2020-05-07-eks-igrok-romy-nainggolan-vykhodil-iz-razdevalki-i-kuril-s-pomoshchnikom-glavnogo-trenera\"',\n",
       " 'href=\"/news/football/2020-05-07-errera-ya-ne-planiroval-pokidat-manchester-yunayted\"',\n",
       " 'href=\"/news/football/2020-05-07-niderlandy-obyavili-ob-oslablenii-karantina-eredivizi-mozhet-rasschityvat-na-polnotsennyy-sezon-202021\"',\n",
       " 'href=\"/news/football/2020-05-07-novosti-koronavirusa-uyefa-sostavlyayet-daty-matchey-ligi-chempionov-apl-mozhet-zavershitsya-dosrochno\"',\n",
       " 'href=\"/news/football/2020-05-07-perekhod-eks-forvarda-lokomotiva-niasse-v-everton-voshel-v-top-50-khudshikh-transferov-v-istorii-apl\"',\n",
       " 'href=\"/news/football/2020-05-07-pszh-pozhertvoval-100-tysyach-yevro-dlya-organizatsii-po-borbe-s-golodom\"',\n",
       " 'href=\"/news/hockey/2020-05-07-final-olimpiyskikh-igr-v-alberville-sng-kanada-video-zolotoy-gol-boldina-v-alberville-video\"',\n",
       " 'href=\"/news/hockey/2020-05-07-kkhl-utverdila-raspredeleniye-mest-po-itogam-sezona-chempiona-ne-budet\"',\n",
       " 'href=\"/news/hockey/2020-05-07-morozov-na-kubok-gagarina-v-ravnoy-stepeni-pretendovali-8-komand-kkhl-soblyula-sportivnyy-printsip\"',\n",
       " 'href=\"/news/hockey/2020-05-07-syn-larionova-yesli-by-moy-otets-stal-glavnym-trenerom-to-polnostyu-navsegda-by-pomenyal-khokkey\"',\n",
       " 'href=\"/news/hockey/2020-05-07-v-klubakh-vkhl-iz-za-pandemii-koronavirusa-sokratili-zarplaty-na-tret\"',\n",
       " 'href=\"/news/other/2020-05-07-kakiye-sudy-kogda-mir-rushitsya-zhulin-prizval-wada-zabyt-istoriyu-s-rossiyskim-dopingom\"',\n",
       " 'href=\"/news/other/2020-05-07-kvyat-rossiya--po-prezhnemu-vazhnaya-chast-menya\"',\n",
       " 'href=\"/news/other/2020-05-07-rudkovskaya-net-slov-daunenok-autist-zhirnyy-ochkarik-yest-lyudi-samyye-raznyye\"',\n",
       " 'href=\"/news/other/2020-05-07-tuktamysheva-o-konkurentsii-s-gruppoy-tutberidze-nuzhno-byt-geniyem-chtoby-seychas-byt-na-vysshey-stupeni-pyedestala\"',\n",
       " 'href=\"/news/other/2020-05-07-tuktamysheva-soglasna-snyatsya-v-otkrovennoy-fotosessii-naprimer-v-kakom-to-krasivom-nizhnem-belye\"',\n",
       " 'href=\"/news/other/2020-05-07-tuktamysheva-vyskazalas-o-rasstavanii-s-lazukinym\"',\n",
       " 'href=\"/news/other/2020-05-07-veronika-zhilina---perekhod-ot-tutberidze-k-plyushchenko\"',\n",
       " 'href=\"/news/other/2020-05-07-yevgeniy-plyushchenko-intervyu-o-perekhode-aleksandry-trusovoy-i-sergeya-rozanova\"'}"
      ]
     },
     "execution_count": 88,
     "metadata": {},
     "output_type": "execute_result"
    }
   ],
   "source": [
    "set([link for link in re.findall(r'href=[^>]*', browser.page_source) if '2020' in link or '2019' in link])"
   ]
  },
  {
   "cell_type": "code",
   "execution_count": null,
   "metadata": {},
   "outputs": [],
   "source": [
    "browser = webdriver.Chrome('C:\\\\Users\\\\manal\\\\chromedriver')\n",
    "browser.set_window_size(980, 924)\n",
    "browser.get(link)\n",
    "\n",
    "links = []\n",
    "while True:\n",
    "    time.sleep(0.3)\n",
    "    try:\n",
    "        \n",
    "        soup = BeautifulSoup(browser.page_source)\n",
    "        links.extend([a['href'] for a in soup.find_all('a', 'organic__url')])\n",
    "        browser.find_element_by_class_name('pager__item_kind_next').click()\n",
    "    except selenium.common.exceptions.NoSuchElementException:\n",
    "        break"
   ]
  },
  {
   "cell_type": "code",
   "execution_count": 89,
   "metadata": {},
   "outputs": [
    {
     "data": {
      "text/plain": [
       "set()"
      ]
     },
     "execution_count": 89,
     "metadata": {},
     "output_type": "execute_result"
    }
   ],
   "source": [
    "link = 'https://sport24.ru/search?text=%D1%87%D1%82%D0%BE&page=3'\n",
    "headers = {'User-Agent':'Mozilla/5.0 (Windows NT 10.0; Win64; x64; rv:76.0) Gecko/20100101 Firefox/76.0'}\n",
    "r = requests.get(link, headers=headers)\n",
    "set([link for link in re.findall(r'href=[^>]*', r.text) if '2020' in link or '2019' in link])"
   ]
  },
  {
   "cell_type": "code",
   "execution_count": null,
   "metadata": {},
   "outputs": [],
   "source": []
  },
  {
   "cell_type": "code",
   "execution_count": null,
   "metadata": {},
   "outputs": [],
   "source": []
  },
  {
   "cell_type": "code",
   "execution_count": 90,
   "metadata": {},
   "outputs": [],
   "source": [
    "link = 'https://sport24.ru/news/zozh/2020-05-07-koronavirus-v-rostove-i-rostovskoy-oblasti-novosti-na-segodnya-7-maya-statistika-zabolevshikh-na-karte-dinamika-novykh-sluchayev-zabolevaniya'\n",
    "r = requests.get(link)\n",
    "soup = BS(r.text)"
   ]
  },
  {
   "cell_type": "code",
   "execution_count": 91,
   "metadata": {},
   "outputs": [
    {
     "data": {
      "text/plain": [
       "<!DOCTYPE html>\n",
       "<html lang=\"ru\"><head>\n",
       "<meta charset=\"utf-8\" data-react-helmet=\"true\"/><meta content=\"width=device-width, initial-scale=1, maximum-scale=1, minimum-scale=1, user-scalable=no\" data-react-helmet=\"true\" name=\"viewport\"/><meta content=\"u9G2-RbHNa5sNGquexw5ukcZzwyZ2i4AoORmwwYP0B0\" data-react-helmet=\"true\" name=\"google-site-verification\"/><meta content=\"4zMZFhLQ1BuSx-gwwmVw3KxhHJczQFfQDXbUVNNmGGs\" data-react-helmet=\"true\" name=\"google-site-verification\"/><meta content=\"8163fad1b0115728\" data-react-helmet=\"true\" name=\"yandex-verification\"/><meta content=\"ef6768a2e4cc4d2c\" data-react-helmet=\"true\" name=\"yandex-verification\"/><meta content=\"517c3520dc2f1b47\" data-react-helmet=\"true\" name=\"yandex-verification\"/><meta content=\"2d4297732fdbd6af\" data-react-helmet=\"true\" name=\"yandex-verification\"/><meta content=\"26193f81f644da4a\" data-react-helmet=\"true\" name=\"yandex-verification\"/><meta content=\"dd4d5d3003dc071df4fefdc9e156b619\" data-react-helmet=\"true\" name=\"pmail-verification\"/><meta content=\"1200\" data-react-helmet=\"true\" property=\"og:image:width\"/><meta content=\"630\" data-react-helmet=\"true\" property=\"og:image:height\"/><meta content=\"summary_large_image\" data-react-helmet=\"true\" name=\"twitter:card\"/><meta content=\"@sport24_ru\" data-react-helmet=\"true\" name=\"twitter:site\"/><meta content=\"#ffffff\" data-react-helmet=\"true\" name=\"msapplication-TileColor\"/><meta content=\"https://s73937.cdn.ngenix.net/public/src/assets/favicon/mstile-150x150.png\" data-react-helmet=\"true\" name=\"msapplication-TileImage\"/><meta content=\"https://s73937.cdn.ngenix.net/public/src/assets/favicon/mstile-150x150.png\" data-react-helmet=\"true\" name=\"msapplication-square150x150logo\"/><meta content=\"https://s73937.cdn.ngenix.net/public/src/assets/favicon/browserconfig.xml\" data-react-helmet=\"true\" name=\"msapplication-config\"/><meta content=\"https://sport24.ru/news/zozh/2020-05-07-koronavirus-v-rostove-i-rostovskoy-oblasti-novosti-na-segodnya-7-maya-statistika-zabolevshikh-na-karte-dinamika-novykh-sluchayev-zabolevaniya\" data-react-helmet=\"true\" property=\"og:url\"/><meta content=\"Коронавирус в Ростове 7 мая: последние новости и статистика заболевших\" data-react-helmet=\"true\" property=\"og:title\"/><meta content=\"Коронавирус в Ростове 7 мая: последние новости и статистика заболевших\" data-react-helmet=\"true\" name=\"twitter:title\"/><meta content=\"Последние новости о COVID-19 в Ростове и Ростовской области за 7 мая. Общее число зараженных - 1 514. Количество новых случаев - 80. Количество умерших - 12. Выздоровело - 195. Подробная статистика о коронавирусе на графиках.\" data-react-helmet=\"true\" name=\"description\"/><meta content=\"Последние новости о COVID-19 в Ростове и Ростовской области за 7 мая. Общее число зараженных - 1 514. Количество новых случаев - 80. Количество умерших - 12. Выздоровело - 195. Подробная статистика о коронавирусе на графиках.\" data-react-helmet=\"true\" property=\"og:description\"/><meta content=\"Коронавирус в Ростове 7 мая: последние новости и статистика заболевших, 07.05.2020, новости спорта sport24\" data-react-helmet=\"true\" name=\"keywords\"/><meta content=\"https://s74794.cdn.ngenix.net/m/0f89/f396/fce6/4228/7f86/805a/8247/dfa7/1200_630.png\" data-react-helmet=\"true\" property=\"og:image\"/><meta content=\"https://s74794.cdn.ngenix.net/m/0f89/f396/fce6/4228/7f86/805a/8247/dfa7/1200_630.png\" data-react-helmet=\"true\" name=\"twitter:image\"/><meta content=\"https://s74794.cdn.ngenix.net/m/710a/781b/a39a/3636/c7f7/428a/ba30/4971/537_240.png\" data-react-helmet=\"true\" name=\"vk:image\"/><meta content=\"article\" data-react-helmet=\"true\" property=\"og:type\"/>\n",
       "<link data-react-helmet=\"true\" href=\"https://s73937.cdn.ngenix.net/public/src/assets/favicon/manifest.json\" rel=\"manifest\"/><link data-react-helmet=\"true\" href=\"https://s73937.cdn.ngenix.net/public/src/assets/favicon/favicon.ico\" rel=\"shortcut icon\" type=\"image/x-icon\"/><link data-react-helmet=\"true\" href=\"https://s73937.cdn.ngenix.net/public/src/assets/favicon/32x32.png\" rel=\"shortcut icon\" type=\"image/png\"/><link data-react-helmet=\"true\" href=\"https://s73937.cdn.ngenix.net/public/src/assets/favicon/192x192.png\" rel=\"icon\" sizes=\"192x192\" type=\"image/png\"/><link data-react-helmet=\"true\" href=\"https://s73937.cdn.ngenix.net/public/src/assets/favicon/512x512.png\" rel=\"icon\" sizes=\"512x512\" type=\"image/png\"/><link data-react-helmet=\"true\" href=\"https://s73937.cdn.ngenix.net/public/src/assets/favicon/180x180.png\" rel=\"apple-touch-icon\"/><link data-react-helmet=\"true\" href=\"https://s73937.cdn.ngenix.net/public/src/assets/favicon/180x180.png\" rel=\"apple-touch-icon-precomposed\" sizes=\"192x192\"/><link color=\"black\" data-react-helmet=\"true\" href=\"https://s73937.cdn.ngenix.net/public/src/assets/favicon/safari-pinned-tab.svg\" rel=\"mask-icon\"/><link data-react-helmet=\"true\" href=\"https://www.googletagmanager.com\" rel=\"dns-prefetch\"/><link data-react-helmet=\"true\" href=\"https://static.wi-fi.ru\" rel=\"dns-prefetch\"/><link data-react-helmet=\"true\" href=\"https://cdn01.nativeroll.tv\" rel=\"dns-prefetch\"/><link data-react-helmet=\"true\" href=\"https://counter.yadro.ru\" rel=\"dns-prefetch\"/><link data-react-helmet=\"true\" href=\"https://top-fwz1.mail.ru\" rel=\"dns-prefetch\"/><link data-react-helmet=\"true\" href=\"https://sport24.ru/news/zozh/2020-05-07-koronavirus-v-rostove-i-rostovskoy-oblasti-novosti-na-segodnya-7-maya-statistika-zabolevshikh-na-karte-dinamika-novykh-sluchayev-zabolevaniya\" rel=\"canonical\"/><link data-react-helmet=\"true\" href=\"https://amp.sport24.ru/news/zozh/2020-05-07-koronavirus-v-rostove-i-rostovskoy-oblasti-novosti-na-segodnya-7-maya-statistika-zabolevshikh-na-karte-dinamika-novykh-sluchayev-zabolevaniya\" rel=\"amphtml\"/>\n",
       "<title data-react-helmet=\"true\">Коронавирус в Ростове и Ростовской области: новости на сегодня 7 мая, статистика заболевших на карте, динамика новых случаев заболевания</title>\n",
       "<script>window.process = {\"env\":{\"BUILD_DATE\":\"2020-05-06T14:52:52+00:00\",\"IS_BROWSER\":true,\"API_END_POINT\":\"https://api0.sport24.ru\",\"CDN\":\"https://s74794.cdn.ngenix.net\",\"BASE_URL\":\"https://sport24.ru\",\"ASSETS_BASE_URL\":\"https://s73937.cdn.ngenix.net\",\"RENDER_URL\":\"https://api0.sport24.ru/api/sport24/render\",\"LIVE_API_URL\":\"wss://live.sport24.ru/connection/websocket\",\"AMP_BASE_URL\":\"https://amp.sport24.ru\",\"TV_GUIDE_API_END_POINT\":\"https://tv-guide-api.sport24.ru\"}}</script>\n",
       "<script>window.process.env.URL = \"/news/zozh/2020-05-07-koronavirus-v-rostove-i-rostovskoy-oblasti-novosti-na-segodnya-7-maya-statistika-zabolevshikh-na-karte-dinamika-novykh-sluchayev-zabolevaniya\"</script><script>(function(w,d,s,l,i){w[l]=w[l]||[];w[l].push({'gtm.start':\n",
       "      new Date().getTime(),event:'gtm.js'});var f=d.getElementsByTagName(s)[0],\n",
       "    j=d.createElement(s),dl=l!='dataLayer'?'&l='+l:'';j.src=\n",
       "    'https://www.googletagmanager.com/gtm.js?id='+i+dl;f.parentNode.insertBefore(j,f);\n",
       "  })(window,document,'script','dataLayer','GTM-K65RXSJ');</script><script>window.ga=window.ga||function(){(ga.q=ga.q||[]).push(arguments)};ga.l=+new Date;\n",
       "    ga(\"create\", \"UA-100282623-3\", \"auto\");\n",
       "    ga(\"set\", \"transport\", \"beacon\");\n",
       "    ga(\"require\", \"displayfeatures\");\n",
       "    ga(\"require\", \"linkid\");\n",
       "    ga(\"set\", \"dimension1\", window.process ? process.env.BUILD_DATE : \"\");\n",
       "    ga(\"set\", \"dimension2\", window.process ? process.env.ENV_NAME : \"\");</script><script async=\"\" src=\"https://www.google-analytics.com/analytics.js\"></script><script>try {\n",
       "      var className = window.localStorage.getItem(\"browser-prefix\");\n",
       "      if (className) {\n",
       "        document.documentElement.className = className;\n",
       "      }\n",
       "    } catch (e) {\n",
       "      console.log('Ошибка переменной \"browser-prefix\" из Local Storage');\n",
       "    }</script><script data-ad-client=\"ca-pub-8447216818130148\" defer=\"defer\" src=\"https://pagead2.googlesyndication.com/pagead/js/adsbygoogle.js\"></script><script defer=\"defer\" src=\"https://s73937.cdn.ngenix.net/public/main.1b1a3fc9a0e1835bb0b4.js\"></script><link href=\"https://s73937.cdn.ngenix.net/public/main.0eafbdb1691f27eac63d.css\" rel=\"stylesheet\"/></head><body><noscript><iframe height=\"0\" src=\"https://www.googletagmanager.com/ns.html?id=GTM-K65RXSJ\" style=\"display:none;visibility:hidden\" width=\"0\"></iframe></noscript><script async=\"\" src=\"https://yastatic.net/pcode/adfox/header-bidding.js\"></script><script crossorigin=\"anonymous\" src=\"https://yastatic.net/pcode/adfox/loader.js\"></script><script>function initLiveInternetCounter() {\n",
       "    new Image().src = \"//counter.yadro.ru/hit?r\"+\n",
       "      escape(document.referrer)+((typeof(screen)==\"undefined\")?\"\":\n",
       "        \";s\"+screen.width+\"*\"+screen.height+\"*\"+(screen.colorDepth?\n",
       "        screen.colorDepth:screen.pixelDepth))+\";u\"+escape(document.URL)+\n",
       "      \";h\"+escape(document.title.substring(0,150))+\n",
       "      \";\"+Math.random();\n",
       "  }\n",
       "  initLiveInternetCounter();</script><script>var ttsmi2_data = { siteid: 47422, count: \"site\" };</script><script defer=\"defer\" src=\"https://target.smi2.ru/client/target.js\"></script><script>(function(w,i){w[i]=w[i]||function(){(w[i].a=w[i].a||[]).push(arguments)};w[i].l=1*new Date();})\n",
       "  (window, \"ym\");\n",
       "\n",
       "  ym(47508568, \"init\", {\n",
       "    defer: true,\n",
       "    clickmap: true,\n",
       "    trackLinks: true,\n",
       "    accurateTrackBounce: true,\n",
       "  });</script><script defer=\"defer\" src=\"https://mc.yandex.ru/metrika/tag.js\"></script><noscript><div><img alt=\"\" src=\"https://mc.yandex.ru/watch/47508568\" style=\"position:absolute; left:-9999px;\"/></div></noscript><script>(function(win, doc, cb){\n",
       "    (win[cb] = win[cb] || []).push(function() {\n",
       "      try {\n",
       "        tnsCounterSport24_ru = new TNS.TnsCounter({\n",
       "          account: \"sport24_ru\",\n",
       "          tmsec: \"sport24_total\",\n",
       "        });\n",
       "      } catch(e) {}\n",
       "    });\n",
       "  })(window, this.document, \"tnscounter_callback\");</script><script defer=\"defer\" src=\"https://www.tns-counter.ru/tcounter.js\"></script><noscript><img alt=\"\" height=\"0\" src=\"//www.tns-counter.ru/V13a****sport24_ru/ru/UTF-8/tmsec=sport24_total/\" width=\"0\"/></noscript><script>(function(w,o){w[o] = w[o] || function(){(w[o].q = w[o].q || []).push(arguments)};})\n",
       "  (window, \"sendsay_push\");\n",
       "\n",
       "  sendsay_push(\"init\", {\n",
       "    v: \"1.0\",\n",
       "    fid: \"project888news\",\n",
       "    app_server_key: \"BF_KKSLFqXcv0AWhqNkZ7CKS1PNnJhLPgA9FKOjbz7J9-ULrEwB6vdO3WUwCSyd2RAbGkPd0iftM-8qKBm5ZKUs\",\n",
       "    backend: \"https://sendsay.ru/backend/push\",\n",
       "    sw: (window.process ? process.env.BASE_URL : \"\") + \"/sendsay_push_sw.js\",\n",
       "    delay: \"300\",\n",
       "  });</script><script defer=\"defer\" src=\"https://image.sendsay.ru/js/push/push.js\"></script><script>_atrk_opts = { atrk_acct:\"84Ggp1IW1d10T3\", domain:\"sport24.ru\", dynamic: true};</script><script defer=\"defer\" src=\"https://d31qbv1cthcecs.cloudfront.net/atrk.js\"></script><noscript><img alt=\"\" height=\"1\" src=\"https://d5nxst8fruw4z.cloudfront.net/atrk.gif?account=84Ggp1IW1d10T3\" style=\"display:none\" width=\"1\"/></noscript><script>new Image().src = \"https://sync.bumlam.com/?src=gp3&cmp=Sport24&act=a01&cid=A2D4FF&r64=\"+window.btoa(document.referrer)+\"&cb=\"+Math.random();</script><script>(function(w){\n",
       "    var wd = w.document;\n",
       "    w._mt_rnd = w._mt_rnd || Math.floor(Math.random() * 1000000);\n",
       "    w._mt_referrer = w._mt_referrer || escape(wd.referrer || '');\n",
       "    try { w._mt_location = w._mt_location || escape(w.top.location.href) }\n",
       "    catch (e) { w._mt_location = escape(w.location.href) }\n",
       "    w._MT_jsLoadDelayed = function(b,c,d){var a=wd.createElement(\"script\");\n",
       "      d&&(a.id=d);a.language=\"javascript\";a.type=\"text/javascript\";a.charset=\"utf-8\";a.async=1;\n",
       "      a.src=b;if(w.ActiveXObject){var e=!1;a.onload=a.onreadystatechange=function(){\n",
       "        if(!e&&(!this.readyState||this.readyState===\"complete\"||this.readyState===\"loaded\"&&\n",
       "          this.nextSibling!=null)){e=true;c&&c();a.onload=a.onreadystatechange=null}}}else\n",
       "        a.onload=c;b=wd.getElementsByTagName(\"script\")[0];b.parentNode.insertBefore(a,b)};\n",
       "    w._MT_jsLoadDelayed('//mediatoday.ru/core/code.js?pid=8815&rid=' + w._mt_rnd + '&rl=' +\n",
       "      w._mt_referrer + '&ll=' + w._mt_location + '&ow=' + w.outerWidth + '&oh=' + w.outerHeight + '&sw=' +\n",
       "      w.screen.width + '&sh=' + w.screen.height + '&pd=' + w.screen.pixelDepth);\n",
       "  })(window)</script><div id=\"app\"><div class=\"l_qn8N\"><header class=\"_1jxiL1\"><div class=\"_2TyXRE\"><div class=\"_2aKQZ6\"><div class=\"UDNH-5\"><a data-event-action=\"click\" data-event-category=\"mobile_sidebar\" data-event-label=\"logo\" href=\"/\"><img alt=\"logo\" src=\"data:image/svg+xml;base64,PHN2ZyB3aWR0aD0iMTY5IiBoZWlnaHQ9IjE3IiB4bWxucz0iaHR0cDovL3d3dy53My5vcmcvMjAwMC9zdmciPgogIDxnIGZpbGwtcnVsZT0ibm9uemVybyIgZmlsbD0ibm9uZSI+CiAgICA8cGF0aCBkPSJNMTY3LjYgMWgtNS45bC0xMS41IDcuN2MtMS4zIDEuMS0xLjUgMS42LTEuNyAyLjZsLS4zIDEuNmgxMS45bC0uOCA0LjFoNS4ybC44LTQuMWgyLjZsLjctMy42SDE2NmwxLjYtOC4zem0tNi44IDguM0gxNTVsNi41LTMuOS0uNyAzLjl6bS0yOSAyLjljLjMtMS4yLjgtMS40IDIuMS0xLjRoNS4xYzQuOCAwIDYuOC0xLjggNi44LTUuNyAwLTMuMS0zLjEtNC4yLTcuOS00LjJoLTguMmwtLjggNC4yaDEwYzEuMiAwIDEuNC4zIDEuNC45IDAgLjgtLjYgMS0yLjEgMWgtMy45Yy02LjUgMC03LjEgMS43LTcuNyA1bC0uOSA0LjhoMTQuNmMxLjggMCAyLjQtLjIgMi45LTIuMWwuNC0xLjloLTEyLjFsLjMtLjZ6IiBmaWxsPSIjRUFCRDAwIi8+CiAgICA8cGF0aCBkPSJNNjYuOCAxaC03LjJjLTQuOSAwLTUuOSAyLjYtNi43IDdsLS42IDMuMWMtMSA0LjggMS4zIDUuOSA1LjEgNS45aDcuMmM0LjkgMCA1LjktMi42IDYuNy03bC42LTMuMUM3MyAyIDcwLjcgMSA2Ni44IDFtLS4zIDYuOWwtLjIgMS4zYy0uNyAzLjUtMS43IDMuNy00IDMuN2gtMS44Yy0yLjMgMC0zLS40LTIuNS0yLjlsLjItMS4zYy43LTMuNSAxLjctMy43IDQtMy43SDY0YzIuMiAwIDMgLjUgMi41IDIuOU00MS45IDFIMjkuMmwtMi42IDEzLjZjLS40IDIuMS4yIDIuMyAxLjYgMi40aDMuMmwuOS00LjVoNC40YzUuMSAwIDkuOC0uNyA5LjgtNy0uMS0yLjUtMS40LTQuNC00LjYtNC41TTM4IDguNWgtNWwuNy0zLjVoNWMxLjEgMCAxLjguNSAxLjggMS40IDAgMS42LTEuMyAyLjEtMi41IDIuMW02MC0zLjRjMC0yLjQtMS4zLTQtNC42LTQuMUg4MC43bC0yLjYgMTMuNmMtLjQgMi4xLjIgMi4zIDEuNiAyLjRoMy4ybDEtNS4yaDVsMS4zIDMuM2MuNyAxLjcgMS40IDEuOSAzLjEgMS45aDMuNGwtMi44LTYuMmMxLjktLjYgNC4xLTIuMiA0LjEtNS43TTg5LjYgOGgtNWwuNi0zaDVjMS4xIDAgMS45LjMgMS45IDEuMiAwIDEuNy0xLjMgMS44LTIuNSAxLjhtMzIuMi03aC0xNi43bC0uMyAxLjhjLS40IDIgLjMgMi40IDIuMyAyLjRoMi45TDEwNy43IDE3aDUuM2wyLjMtMTEuOGg1LjdsLjgtNC4yek0xNCA3LjFIOS43Yy0xLjMgMC0xLjgtLjMtMS44LTEgMC0uOC41LTEgMi40LTFIMTdjMi43IDAgMi45LS41IDMuMi0yLjRsLjMtMS43SDkuOEM2LjQgMSAzLjYgMS4yIDMgNC4ybC0uNSAyLjZDMiA5LjYgNC4zIDExIDcuMiAxMWg0LjNjMS4zIDAgMS44LjMgMS44IDEgMCAuOC0uNSAxLTIuNCAxSDMuNmMtMi4zIDAtMyAuOC0zLjQgMi44TDAgMTdoOS4xYzYuMSAwIDkuNi0uNiA5LjYtNS44IDAtMi42LTEuOC00LjEtNC43LTQuMSIgZmlsbD0iI0ZGRiIvPgogIDwvZz4KPC9zdmc+Cg==\" style=\"margin:auto;width:169px;height:17px\" width=\"132\"/></a></div><div class=\"_1aC5GF\"><svg height=\"18\" viewbox=\"0 0 25 18\" width=\"25\"><path d=\"M25 14v.05C25 16.2 23.2 18 21.05 18H0v-.05C0 15.8 1.8 14 3.95 14H25zm0-7v.05C25 9.2 23.2 11 21.05 11H0v-.05C0 8.8 1.8 7 3.95 7H25zm0-7v.05C25 2.2 23.2 4 21.05 4H0v-.05C0 1.8 1.8 0 3.95 0H25z\" fill=\"#FFF\" fill-rule=\"nonzero\"></path></svg></div></div></div><nav class=\"right-scroll-bar-position Z3JcMS\"><div class=\"_2gGCx0\" data-lg-10=\"1\" data-md-10=\"1\" data-sm-8=\"1\" data-tiny-8=\"1\" data-xl-10=\"1\" data-xs-4=\"1\"><div class=\"_1errZT\" data-lg-10=\"1\" data-md-10=\"1\" data-sm-8=\"1\" data-tiny-8=\"1\" data-xl-10=\"1\" data-xs-4=\"1\"><div class=\"QwmhIB\"><div class=\"_3_A5k2\"><a data-event-action=\"click\" data-event-category=\"desktop_menu\" data-event-label=\"logo\" href=\"/\"><img alt=\"logo\" src=\"data:image/svg+xml;base64,PHN2ZyB3aWR0aD0iMTY5IiBoZWlnaHQ9IjE3IiB4bWxucz0iaHR0cDovL3d3dy53My5vcmcvMjAwMC9zdmciPgogIDxnIGZpbGwtcnVsZT0ibm9uemVybyIgZmlsbD0ibm9uZSI+CiAgICA8cGF0aCBkPSJNMTY3LjYgMWgtNS45bC0xMS41IDcuN2MtMS4zIDEuMS0xLjUgMS42LTEuNyAyLjZsLS4zIDEuNmgxMS45bC0uOCA0LjFoNS4ybC44LTQuMWgyLjZsLjctMy42SDE2NmwxLjYtOC4zem0tNi44IDguM0gxNTVsNi41LTMuOS0uNyAzLjl6bS0yOSAyLjljLjMtMS4yLjgtMS40IDIuMS0xLjRoNS4xYzQuOCAwIDYuOC0xLjggNi44LTUuNyAwLTMuMS0zLjEtNC4yLTcuOS00LjJoLTguMmwtLjggNC4yaDEwYzEuMiAwIDEuNC4zIDEuNC45IDAgLjgtLjYgMS0yLjEgMWgtMy45Yy02LjUgMC03LjEgMS43LTcuNyA1bC0uOSA0LjhoMTQuNmMxLjggMCAyLjQtLjIgMi45LTIuMWwuNC0xLjloLTEyLjFsLjMtLjZ6IiBmaWxsPSIjRUFCRDAwIi8+CiAgICA8cGF0aCBkPSJNNjYuOCAxaC03LjJjLTQuOSAwLTUuOSAyLjYtNi43IDdsLS42IDMuMWMtMSA0LjggMS4zIDUuOSA1LjEgNS45aDcuMmM0LjkgMCA1LjktMi42IDYuNy03bC42LTMuMUM3MyAyIDcwLjcgMSA2Ni44IDFtLS4zIDYuOWwtLjIgMS4zYy0uNyAzLjUtMS43IDMuNy00IDMuN2gtMS44Yy0yLjMgMC0zLS40LTIuNS0yLjlsLjItMS4zYy43LTMuNSAxLjctMy43IDQtMy43SDY0YzIuMiAwIDMgLjUgMi41IDIuOU00MS45IDFIMjkuMmwtMi42IDEzLjZjLS40IDIuMS4yIDIuMyAxLjYgMi40aDMuMmwuOS00LjVoNC40YzUuMSAwIDkuOC0uNyA5LjgtNy0uMS0yLjUtMS40LTQuNC00LjYtNC41TTM4IDguNWgtNWwuNy0zLjVoNWMxLjEgMCAxLjguNSAxLjggMS40IDAgMS42LTEuMyAyLjEtMi41IDIuMW02MC0zLjRjMC0yLjQtMS4zLTQtNC42LTQuMUg4MC43bC0yLjYgMTMuNmMtLjQgMi4xLjIgMi4zIDEuNiAyLjRoMy4ybDEtNS4yaDVsMS4zIDMuM2MuNyAxLjcgMS40IDEuOSAzLjEgMS45aDMuNGwtMi44LTYuMmMxLjktLjYgNC4xLTIuMiA0LjEtNS43TTg5LjYgOGgtNWwuNi0zaDVjMS4xIDAgMS45LjMgMS45IDEuMiAwIDEuNy0xLjMgMS44LTIuNSAxLjhtMzIuMi03aC0xNi43bC0uMyAxLjhjLS40IDIgLjMgMi40IDIuMyAyLjRoMi45TDEwNy43IDE3aDUuM2wyLjMtMTEuOGg1LjdsLjgtNC4yek0xNCA3LjFIOS43Yy0xLjMgMC0xLjgtLjMtMS44LTEgMC0uOC41LTEgMi40LTFIMTdjMi43IDAgMi45LS41IDMuMi0yLjRsLjMtMS43SDkuOEM2LjQgMSAzLjYgMS4yIDMgNC4ybC0uNSAyLjZDMiA5LjYgNC4zIDExIDcuMiAxMWg0LjNjMS4zIDAgMS44LjMgMS44IDEgMCAuOC0uNSAxLTIuNCAxSDMuNmMtMi4zIDAtMyAuOC0zLjQgMi44TDAgMTdoOS4xYzYuMSAwIDkuNi0uNiA5LjYtNS44IDAtMi42LTEuOC00LjEtNC43LTQuMSIgZmlsbD0iI0ZGRiIvPgogIDwvZz4KPC9zdmc+Cg==\" style=\"margin:auto;width:169px;height:17px\" width=\"132\"/></a></div><div class=\"yj6Frg\"><div class=\"_1zzzRS\"><div class=\"_1p-Rag\"><a data-event-action=\"click\" data-event-category=\"desktop_menu\" data-event-label=\"link_undefined\" href=\"/tags/koronavirus\">Коронавирус</a></div><div class=\"kp2K7-\"></div></div><div class=\"_1zzzRS\"><div class=\"_1p-Rag\"><a data-event-action=\"click\" data-event-category=\"desktop_menu\" data-event-label=\"link_football\" href=\"/football\">Футбол</a></div><div class=\"kp2K7-\"></div></div><div class=\"_1zzzRS\"><div class=\"_1p-Rag\"><a data-event-action=\"click\" data-event-category=\"desktop_menu\" data-event-label=\"link_hockey\" href=\"/hockey\">Хоккей</a></div><div class=\"kp2K7-\"></div></div><div class=\"_1zzzRS\"><div class=\"_1p-Rag\"><a data-event-action=\"click\" data-event-category=\"desktop_menu\" data-event-label=\"link_mma\" href=\"/mma\">Бокс и MMA</a></div><div class=\"kp2K7-\"></div></div><div class=\"_1zzzRS\"><div class=\"_1p-Rag\"><a data-event-action=\"click\" data-event-category=\"desktop_menu\" data-event-label=\"link_figureskating\" href=\"/figureskating\">Фигурное катание</a></div><div class=\"kp2K7-\"></div></div><div class=\"_1zzzRS\"><div class=\"_1p-Rag\"><a data-event-action=\"click\" data-event-category=\"desktop_menu\" data-event-label=\"link_betting\" href=\"/betting\">Ставки</a></div><div class=\"kp2K7-\"></div></div><div class=\"_1zzzRS\"><div class=\"_1p-Rag\"><a data-event-action=\"click\" data-event-category=\"desktop_menu\" data-event-label=\"link_rugby\" href=\"/rugby\">Регби</a></div><div class=\"kp2K7-\"></div></div><div class=\"_1zzzRS\"><div class=\"_1p-Rag\"><a data-event-action=\"click\" data-event-category=\"desktop_menu\" data-event-label=\"link_basketballl\" href=\"/zozh\">ЗОЖ</a></div><div class=\"kp2K7-\"></div></div><div class=\"_1zzzRS\"><div class=\"_1p-Rag\"><a data-event-action=\"click\" data-event-category=\"desktop_menu\" data-event-label=\"link_other\" href=\"/other\">Другое</a></div><div class=\"kp2K7-\"></div></div></div><div class=\"llnW7b\"><div class=\"_1zzzRS\"><div class=\"_1p-Rag\"><svg style=\"width:16px;height:16px\" viewbox=\"0 0 16 16\"><path clip-rule=\"evenodd\" d=\"M13 12h2c.6 0 1 .4 1 1v2c0 .6-.4 1-1 1h-2c-.6 0-1-.4-1-1v-2c0-.6.4-1 1-1zm-6 0h2c.6 0 1 .4 1 1v2c0 .6-.4 1-1 1H7c-.6 0-1-.4-1-1v-2c0-.6.4-1 1-1zm-6 0h2c.6 0 1 .4 1 1v2c0 .6-.4 1-1 1H1c-.6 0-1-.4-1-1v-2c0-.6.4-1 1-1zm12-6h2c.6 0 1 .4 1 1v2c0 .6-.4 1-1 1h-2c-.6 0-1-.4-1-1V7c0-.6.4-1 1-1zM7 6h2c.6 0 1 .4 1 1v2c0 .6-.4 1-1 1H7c-.6 0-1-.4-1-1V7c0-.6.4-1 1-1zM1 6h2c.6 0 1 .4 1 1v2c0 .6-.4 1-1 1H1c-.6 0-1-.4-1-1V7c0-.6.4-1 1-1zm12-6h2c.6 0 1 .4 1 1v2c0 .6-.4 1-1 1h-2c-.6 0-1-.4-1-1V1c0-.6.4-1 1-1zM7 0h2c.6 0 1 .4 1 1v2c0 .6-.4 1-1 1H7c-.6 0-1-.4-1-1V1c0-.6.4-1 1-1zM1 0h2c.6 0 1 .4 1 1v2c0 .6-.4 1-1 1H1c-.6 0-1-.4-1-1V1c0-.6.4-1 1-1z\" fill-rule=\"evenodd\"></path></svg></div><div class=\"kp2K7- _3LXB4V _3fxQNq\"></div></div><div class=\"_1zzzRS\"><div class=\"_1p-Rag\"><a href=\"/search\"><svg style=\"width:18px;height:18px\" viewbox=\"-50 14 18 18\"><path d=\"M-32.3 30.2l-3.7-3.7c-.2-.2-.4-.3-.7-.3 1.1-1.3 1.7-2.9 1.7-4.7 0-4-3.4-7.5-7.5-7.5s-7.5 3.4-7.5 7.5 3.4 7.5 7.5 7.5c1.8 0 3.5-.6 4.8-1.7 0 .2.1.5.3.7l3.8 3.7c.2.2.5.3.7.3.2 0 .5-.1.7-.3.3-.5.3-1.1-.1-1.5zM-42.5 27c-3 0-5.5-2.5-5.5-5.5s2.5-5.5 5.5-5.5 5.5 2.5 5.5 5.5-2.5 5.5-5.5 5.5z\"></path></svg></a></div></div><div class=\"_1zzzRS\"><div class=\"_1p-Rag\"><svg style=\"width:19px;height:20px\" viewbox=\"0 0 19 20\"><path d=\"M9.5 2c2 0 3.5 1.7 3.5 4 0 2.8-1.9 5-3.5 5S6 8.8 6 6c0-2.3 1.5-4 3.5-4m0-2C6.4 0 4 2.6 4 6c0 3.7 2.6 7 5.5 7S15 9.8 15 6c0-3.4-2.4-6-5.5-6zM19 19c0-3.2-3.5-5-9.5-5S0 15.8 0 19c0 .6.4 1 1 1s1-.4 1-1c0-2.2 3.9-3 7.5-3s7.5.8 7.5 3c0 .6.4 1 1 1s1-.4 1-1z\"></path></svg></div><div class=\"kp2K7- _3LXB4V _3fxQNq\"></div></div></div></div></div></div></nav></header><div data-slot=\"top-desktop\" id=\"slot-top-desktop\"></div><div data-slot=\"top-mobile\" id=\"slot-top-mobile\"></div><div class=\"_2wsl0S\"><div class=\"_23Moaw\"><div class=\"K9pUax\" data-current=\"1\" data-n=\"1\" data-type=\"news\" id=\"material-0c59ee48-0ca2-42b5-8df1-d58eaae59a0b\" itemscope=\"\" itemtype=\"https://schema.org/NewsArticle\"><meta content=\"https://sport24.ru/news/zozh/2020-05-07-koronavirus-v-rostove-i-rostovskoy-oblasti-novosti-na-segodnya-7-maya-statistika-zabolevshikh-na-karte-dinamika-novykh-sluchayev-zabolevaniya\" itemprop=\"identifier\"/><meta content=\"https://sport24.ru/news/zozh/2020-05-07-koronavirus-v-rostove-i-rostovskoy-oblasti-novosti-na-segodnya-7-maya-statistika-zabolevshikh-na-karte-dinamika-novykh-sluchayev-zabolevaniya\" itemprop=\"mainEntityOfPage\"/><div class=\"_1jz-nO\" itemprop=\"publisher\" itemscope=\"\" itemtype=\"https://schema.org/Organization\"><span itemprop=\"name\">Sport24</span><span itemprop=\"address\">109316, г. Москва, Волгоградский проспект, дом 43, корп. 3, этаж 6, пом. XXI, ком. 15Б</span><span itemprop=\"telephone\">+7 (499) 321-52-13</span><span itemprop=\"logo\" itemscope=\"\" itemtype=\"https://schema.org/ImageObject\"><img alt=\"logo\" itemprop=\"contentUrl\" src=\"https://s73937.cdn.ngenix.net/public/src/assets/favicon/512x512.png\"/><img alt=\"logo\" itemprop=\"url\" src=\"https://s73937.cdn.ngenix.net/public/src/assets/favicon/512x512.png\"/></span></div><div></div><div class=\"fNxVvh\"><div data-enable=\"\" data-loaded=\"\" data-slot=\"material-branding\" id=\"slot-material-branding-1\"></div><div data-loaded=\"\" data-slot=\"material-branding-mobile\" id=\"slot-material-branding-mobile-1\"></div><div class=\"_2gGCx0\" data-lg-10=\"1\" data-md-10=\"1\" data-sm-8=\"1\" data-tiny-8=\"1\" data-xl-10=\"1\" data-xs-4=\"1\"><div class=\"_1errZT\" data-lg-2=\"1\" data-md-2=\"1\" data-sm-2=\"1\" data-tiny-0=\"1\" data-xl-2=\"1\" data-xs-0=\"1\"><div class=\"_3T9qUz\"><div class=\"_1yUYZ6\"></div><div class=\"_2y2qM8\"></div></div></div><div class=\"_1errZT\" data-lg-1=\"1\" data-md-0=\"1\" data-sm-0=\"1\" data-tiny-0=\"1\" data-xl-1=\"1\" data-xs-0=\"1\"></div><div class=\"_1errZT\" data-lg-7=\"1\" data-md-8=\"1\" data-sm-6=\"1\" data-tiny-8=\"1\" data-xl-7=\"1\" data-xs-4=\"1\"><div class=\"_2gGCx0\" data-lg-7=\"1\" data-md-8=\"1\" data-sm-6=\"1\" data-tiny-8=\"1\" data-xl-7=\"1\" data-xs-4=\"1\"><div class=\"_1errZT\" data-lg-5=\"1\" data-md-6=\"1\" data-sm-5=\"1\" data-tiny-8=\"1\" data-xl-5=\"1\" data-xs-4=\"1\"><div class=\"_2mY3i8\"><div class=\"q6rWhB\" itemscope=\"\" itemtype=\"http://schema.org/BreadcrumbList\"><meta content=\"2020-05-07T09:13:00.000Z\" itemprop=\"datePublished\"/><span itemprop=\"itemListElement\" itemscope=\"\" itemtype=\"https://schema.org/ListItem\"><a href=\"/zozh\" itemprop=\"item\" sport=\"zozh\" style=\"color:#56CAE5\"><span itemprop=\"name\">ЗОЖ</span><meta content=\"1\" itemprop=\"position\"/></a></span><div class=\"_2VxcUV\" style=\"color:#A3A3A3\">7 мая 2020, Четверг, 09:13</div></div><h1 class=\"_2dV_2R\">Коронавирус в Ростове 7 мая: последние новости и статистика заболевших</h1><div class=\"_11SLIH\"></div></div><div class=\"_3EZZvk\"></div><div data-slot=\"material-before-content\" id=\"slot-material-before-content-1\"></div><div class=\"js-mediator-article _1YOxdQ\" itemprop=\"articleBody\"><p><span>Последние новости о COVID-19 в Ростове и Ростовской области за 7 мая. Общее число зараженных — 1 514. Количество новых случаев — 80. Количество умерших — 12. Выздоровело — 195. Подробная статистика о коронавирусе на графиках.</span></p><p><span>Что касается статистики по всей России, то было зафиксировано в общей сложности 177 160 случаев заболевания коронавирусом. 23 803 человек уже выздоровели. Официально зарегистрировано 1 625 летальных исходов.</span></p><h2 id=\"a7\"><strong><span>Новости коронавируса за 7 мая</span></strong></h2><div class=\"embed-responsive embed-responsive-16by9 _3H1VTE\"><iframe allowfullscreen=\"\" loading=\"lazy\" src=\"https://vk.com/video_ext.php?oid=-134705837&amp;id=456241966&amp;hash=5734d99c3795003a\"></iframe></div><p></p><p><span>По данным Worldometers, коронавирус распространился уже на 212 стран и территорий. В общей сложности было зафиксировано 3 834 300 случаев заболевания коронавирусом. Умерли 265 244 человека, выздоровели — 1 306 533.</span></p><p><span>Наибольшее количество случаев коронавируса было зафиксировано в США (1 263 224), Испании (253 682), Италии (214 457), Великобритании (201 101), России (177 160), Франции (174 191), Германии (168 162), Турции (131 744), Бразилии (126 611), Иране (101 650) и Китае (82 885).</span></p><div data-slot=\"material-inside-content\" id=\"slot-material-inside-content-1\"></div><p><span>Наибольшее количество смертей от коронавируса было зафиксировано в США — 74 809. На втором месте по этому показателю Великобритания (30 076). За ними следуют Италия (29 684), Испания (25 857), Франция (25 809), Бразилия (8 588), Бельгия (8 339), Германия (7 275), Иран (6 418), Нидерланды (5 204) и Китай (4 633).</span></p><p><span>Ознакомиться с подробной статистикой заболевших, умерших и вылечившихся по странам можно на Sport24 </span><a class=\"a--underline\" href=\"https://sport24.ru/news/zozh/2020-05-07-koronavirus-na-7-maya-statistika-v-mire-onlayn-rossiya-karta-na-segodnya\"><span>по данной ссылке</span></a><span>.</span></p><div data-slot=\"material-inside-content-70\" id=\"slot-material-inside-content-70-1\"></div><p><span>Последние новости о коронавирусе и его влиянии на спорт </span><a class=\"a--underline\" href=\"https://sport24.ru/tags/koronavirus\"><span>читайте в специальном разделе Sport24</span></a><span>.</span></p><div class=\"_3trnLJ\"><div><a class=\"GjopLk\" data-event-action=\"click\" data-event-category=\"inset\" data-event-label=\"Тест про коронавирус: правда или фейк? Пророчество Ванги, лечение трактором, бетонные саркофаги\" href=\"/news/zozh/2020-04-16-feyki-o-koronaviruse-covid-19---pravda-ili-mif-test-sport24\" sport=\"zozh\" target=\"_blank\" type=\"news\" urn=\"2020-04-16-feyki-o-koronaviruse-covid-19---pravda-ili-mif-test-sport24\"><div class=\"_2gGCx0\" data-lg-5=\"1\" data-md-6=\"1\" data-sm-5=\"1\" data-tiny-8=\"1\" data-xl-5=\"1\" data-xs-4=\"1\"><div class=\"_1errZT\" data-lg-1=\"1\" data-md-1=\"1\" data-sm-1=\"1\" data-tiny-1=\"1\" data-xl-1=\"1\" data-xs-1=\"1\"><img class=\"_1Jij5M\" loading=\"lazy\" sizes=\"(max-width: 767px) 25vw,(max-width: 1023px) 13vw,(max-width: 1279px) 13vw,(max-width: 1599px) 10vw,(max-width: 1919px) 10vw, 10vw\" src=\"https://s74794.cdn.ngenix.net/m/99e1/0e39/396e/fbbf/fecf/4101/ee59/d146/160_160_max.jpeg\" srcset=\"https://s74794.cdn.ngenix.net/m/99e1/0e39/396e/fbbf/fecf/4101/ee59/d146/160_160_max.jpeg 160w,https://s74794.cdn.ngenix.net/m/99e1/0e39/396e/fbbf/fecf/4101/ee59/d146/300_300_max.jpeg 300w,https://s74794.cdn.ngenix.net/m/99e1/0e39/396e/fbbf/fecf/4101/ee59/d146/400_400_max.jpeg 400w,https://s74794.cdn.ngenix.net/m/99e1/0e39/396e/fbbf/fecf/4101/ee59/d146/600_600_max.jpeg 600w,https://s74794.cdn.ngenix.net/m/99e1/0e39/396e/fbbf/fecf/4101/ee59/d146/800_800_max.jpeg 800w\"/></div><div class=\"_1p7DxM _1errZT\" data-lg-4=\"1\" data-md-5=\"1\" data-sm-4=\"1\" data-tiny-7=\"1\" data-xl-4=\"1\" data-xs-3=\"1\"><span>Тест про коронавирус: правда или фейк? Пророчество Ванги, лечение трактором, бетонные саркофаги</span></div></div></a></div></div><p></p><p><strong><span>Подписывайтесь на </span><a class=\"a--underline\" href=\"https://zen.yandex.ru/sport24.ru\" rel=\"noopener nofollow\" target=\"_blank\"><span>канал Sport24 в Яндекс.Дзене</span></a></strong></p></div><div data-slot=\"material-after-content\" id=\"slot-material-after-content-1\"></div><div class=\"v68zjf\"><div class=\"_2Xzl_V\"><div class=\"_3pUp1N\"><div class=\"_2uul5l\">Понравился материал?</div><div class=\"_2BL9OV\"><div class=\"_3ZJgBU\"><div class=\"_1SGQOs\" data-type=\"LIKE\"><div class=\"_31ZShc\"></div><div class=\"_21tKLN\"></div><div class=\"_3qQqKG\">0</div></div></div><div class=\"_3ZJgBU\"><div class=\"_1SGQOs\" data-type=\"LOL\"><div class=\"_31ZShc\"></div><div class=\"_21tKLN\"></div><div class=\"_3qQqKG\">0</div></div></div><div class=\"_3ZJgBU\"><div class=\"_1SGQOs\" data-type=\"SURPRISE\"><div class=\"_31ZShc\"></div><div class=\"_21tKLN\"></div><div class=\"_3qQqKG\">0</div></div></div><div class=\"_3ZJgBU\"><div class=\"_1SGQOs\" data-type=\"SADNESS\"><div class=\"_31ZShc\"></div><div class=\"_21tKLN\"></div><div class=\"_3qQqKG\">0</div></div></div><div class=\"_3ZJgBU\"><div class=\"_1SGQOs\" data-type=\"FACEPALM\"><div class=\"_31ZShc\"></div><div class=\"_21tKLN\"></div><div class=\"_3qQqKG\">0</div></div></div><div class=\"_3ZJgBU\"><div class=\"_1SGQOs\" data-type=\"DISLIKE\"><div class=\"_31ZShc\"></div><div class=\"_21tKLN\"></div><div class=\"_3qQqKG\">0</div></div></div></div></div></div><div class=\"_1-NGZ7\"><div class=\"_2eVZPa\"><meta content=\"Коронавирус (COVID-19)\" itemprop=\"about\"/><div class=\"_1cYa8g\"><div class=\"_1SLoN5\"><a class=\"_1tOH2r _2GJLt8 BHvB8i\" href=\"/tags/koronavirus\" item=\"koronavirus\"><div class=\"_1IA-mo\">Коронавирус (COVID-19)</div></a></div><div class=\"_1SLoN5 _35ow02\"><div class=\"_1tOH2r _2GJLt8 BHvB8i\"><div class=\"_1IA-mo\">...</div></div></div></div></div><div class=\"QIC-7o\"><div class=\"_1fnabf\"><div class=\"_1qd2Fb\"><div class=\"_1-hp85\"><span class=\"_3kx15w\">Поделиться</span><div class=\"_3zBMO3\"><svg height=\"20\" width=\"24\"><path d=\"M16.89.168c-.373-.38-1.157-.073-1.282.503l-.929 4.268C7.817 5.065 1.537 6.052.19 12.247c-.672 3.092.51 5.455 2.598 7.123.485.387 1.354-.154 1.248-.777-.254-1.483-.272-2.723-.088-3.57.53-2.432 2.162-4.173 9.506-4.45l-.928 4.267c-.125.577.524.884 1.064.503L23.635 8.26c.379-.267.482-.74.22-1.007L16.89.168z\" fill-rule=\"evenodd\"></path></svg></div></div></div></div></div></div></div></div><div class=\"_1errZT\" data-lg-2=\"1\" data-md-2=\"1\" data-sm-1=\"1\" data-tiny-0=\"1\" data-xl-2=\"1\" data-xs-0=\"1\"><div data-slot=\"material-right\" id=\"slot-material-right-1\"></div></div></div><div class=\"_2gGCx0\" data-lg-7=\"1\" data-md-8=\"1\" data-sm-6=\"1\" data-tiny-8=\"1\" data-xl-7=\"1\" data-xs-4=\"1\"><div class=\"_1errZT\" data-lg-5=\"1\" data-md-6=\"1\" data-sm-5=\"1\" data-tiny-8=\"1\" data-xl-5=\"1\" data-xs-4=\"1\"><div data-slot=\"material-bottom-1\" id=\"slot-material-bottom-1-1\"></div><div data-slot=\"material-bottom-2\" id=\"slot-material-bottom-2-1\"></div></div><div class=\"_1errZT\" data-lg-2=\"1\" data-md-2=\"1\" data-sm-1=\"1\" data-tiny-0=\"1\" data-xl-2=\"1\" data-xs-0=\"1\"></div></div></div></div></div></div><a class=\"_1rpLDw\" data-event-action=\"click\" data-event-category=\"Closing_page\" data-event-label=\"1\" href=\"/\"><svg height=\"25\" viewbox=\"0 0 26 25\" width=\"26\"><defs><path d=\"M37.489 16.1l-7.2-7.2 7.1-7.1c.4-.4.4-1 0-1.4-.4-.4-1-.4-1.4 0l-7.1 7.1-7.2-7.2c-.4-.4-1-.4-1.3 0-.5.4-.5 1-.1 1.4l7.2 7.2-7.1 7.1c-.4.4-.4 1 0 1.4.4.4 1 .4 1.4 0l7.1-7.1 7.2 7.2c.4.4 1 .4 1.4 0 .4-.4.4-1 0-1.4z\" id=\"b\"></path><filter filterunits=\"objectBoundingBox\" height=\"173%\" id=\"a\" width=\"173.1%\" x=\"-36.5%\" y=\"-30.9%\"><feoffset dy=\"1\" in=\"SourceAlpha\" result=\"shadowOffsetOuter1\"></feoffset><fegaussianblur in=\"shadowOffsetOuter1\" result=\"shadowBlurOuter1\" stddeviation=\"2\"></fegaussianblur><fecolormatrix in=\"shadowBlurOuter1\" values=\"0 0 0 0 0 0 0 0 0 0 0 0 0 0 0 0 0 0 1 0\"></fecolormatrix></filter></defs><g fill=\"none\" fill-rule=\"evenodd\" transform=\"translate(-16 3)\"><use fill=\"#000\" filter=\"url(#a)\" xlink:href=\"#b\"></use><use fill=\"#FFF\" xlink:href=\"#b\"></use></g></svg></a><div class=\"_3vXMv2\"><div class=\"_1MpjrT\" style=\"transform:translateY(0px)\"><div class=\"_2Zy-vj\" data-count=\"0\"><svg height=\"44\" viewbox=\"0 0 56 44\" width=\"56\"><path d=\"M0 4v31h9v9l14-9h29a4 4 0 0 0 4-4V0H4a4 4 0 0 0-4 4z\" fill-rule=\"nonzero\"></path></svg></div></div></div></div></div><footer class=\"_2nhzBA\"><div class=\"_2gGCx0\" data-lg-10=\"1\" data-md-10=\"1\" data-sm-8=\"1\" data-tiny-8=\"1\" data-xl-10=\"1\" data-xs-4=\"1\"><div class=\"_1errZT\" data-lg-2=\"1\" data-md-2=\"1\" data-sm-3=\"1\" data-tiny-4=\"1\" data-xl-2=\"1\" data-xs-4=\"1\"><div class=\"_1PrSKp\"><div class=\"_2VOcQ6\"><a data-event-action=\"click\" data-event-category=\"Footer_about\" href=\"/about\">О проекте</a></div><div class=\"_2VOcQ6\"><a data-event-action=\"click\" data-event-category=\"Footer_policy\" href=\"/policy\">О персональных данных</a></div><div class=\"_2VOcQ6\"><a data-event-action=\"click\" data-event-category=\"Footer_faq\" href=\"/faq\">FAQ</a></div><div class=\"_2VOcQ6\"><a data-event-action=\"click\" data-event-category=\"Footer_feedback\" href=\"/feedback\">Обратная связь</a></div></div><div class=\"tTplmI\"><div><span><!--noindex--></span><p>Сетевое издание Спорт24</p><p>Главный редактор: Авакян С.Г.</p><p>Телефон редакции СМИ: <a href=\"tel:+74959811297\">+7 (499) 321-52-13</a></p><p>Размещение рекламы: <a href=\"mailto:reklama@sport24.ru\">reklama@sport24.ru</a></p><p><a href=\"https://s73937.cdn.ngenix.net/public/src/assets/documents/media-kit-Sport24.pdf\">Скачать Медиа-кит</a></p><p>Email редакции СМИ: <a href=\"mailto:info@sport24.ru\">info@sport24.ru</a></p><p>Учредитель: ООО «Спорт24»</p><p>СМИ Зарегистрировано 17.05.2018 года Роскомнадзором за номером Эл № ФС77‑72812</p><span><!--/noindex--></span></div><p>© 2015–<!-- -->2020<!-- --> ООО «Спорт24»</p></div></div><div class=\"_1errZT\" data-lg-6=\"1\" data-md-6=\"1\" data-sm-3=\"1\" data-tiny-4=\"1\" data-xl-6=\"1\" data-xs-4=\"1\"><div class=\"_1_O8Ia\"><div class=\"_3T_bR3\"><a data-event-action=\"click\" data-event-category=\"Footer_youtube\" href=\"https://www.youtube.com/channel/UCvv3Wit_a18sM17CayokObQ?utm_term=footerblock\" rel=\"noopener nofollow\" target=\"_blank\"><svg height=\"17\" width=\"22\"><path d=\"M14.338 8.525L8.693 11.79V5.258l5.645 3.265zm6.94-5.24a2.725 2.725 0 0 0-1.922-1.925c-1.694-.455-8.49-.455-8.49-.455s-6.796 0-8.49.455A2.725 2.725 0 0 0 .453 3.284C0 4.982 0 8.524 0 8.524s0 3.542.454 5.24c.25.936.986 1.674 1.921 1.924 1.695.455 8.49.455 8.49.455s6.797 0 8.491-.455a2.724 2.724 0 0 0 1.922-1.925c.454-1.697.454-5.24.454-5.24s0-3.541-.454-5.239z\"></path></svg></a><a data-event-action=\"click\" data-event-category=\"Footer_facebook\" href=\"https://www.facebook.com/sport24.ru?utm_term=footerblock\" rel=\"noopener nofollow\" target=\"_blank\"><svg height=\"20\" width=\"11\"><path d=\"M9.514 9.53l.68-2.722H6.797v-2.72c0-.823.48-1.361 1.358-1.361h2.037V.005s-1.67-.012-2.716 0C4.843.038 3.402 1.842 3.402 4.087v2.721H.686V9.53h2.716v9.88c.877.18 3.169.01 3.396 0v-9.88h2.716z\"></path></svg></a><a data-event-action=\"click\" data-event-category=\"Footer_vk\" href=\"https://vk.com/sport24_ru?utm_term=footerblock\" rel=\"noopener nofollow\" target=\"_blank\"><svg height=\"13\" width=\"19\"><path d=\"M18.59 1.575c.132-.441 0-.765-.629-.765h-2.08c-.53 0-.773.28-.905.589 0 0-1.058 2.583-2.557 4.26-.485.486-.705.64-.97.64-.132 0-.323-.154-.323-.595V1.575c0-.53-.154-.765-.594-.765h-3.27c-.33 0-.529.245-.529.479 0 .502.75.618.827 2.03v3.07c0 .672-.122.794-.386.794-.705 0-2.42-2.595-3.438-5.563-.2-.577-.4-.81-.931-.81H.725C.13.81.01 1.09.01 1.399c0 .552.706 3.29 3.284 6.91 1.72 2.472 4.141 3.813 6.345 3.813 1.322 0 1.486-.298 1.486-.81v-1.87c0-.595.125-.714.544-.714.309 0 .837.155 2.072 1.347 1.41 1.413 1.643 2.047 2.436 2.047h2.08c.595 0 .892-.298.72-.886-.187-.585-.86-1.435-1.754-2.442-.485-.574-1.212-1.192-1.433-1.5-.308-.398-.22-.575 0-.928 0 0 2.535-3.576 2.8-4.79\"></path></svg></a><a data-event-action=\"click\" data-event-category=\"Footer_ok\" href=\"https://ok.ru/sport24ru?utm_term=footerblock\" rel=\"noopener nofollow\" target=\"_blank\"><svg height=\"20\" width=\"13\"><path d=\"M6.55 9.573c-2.755 0-4.995-2.147-4.995-4.787C1.555 2.147 3.795 0 6.55 0c2.755 0 4.991 2.147 4.991 4.786 0 2.64-2.236 4.787-4.99 4.787zm0-6.838c-1.18 0-2.142.92-2.142 2.051 0 1.131.961 2.052 2.141 2.052 1.178 0 2.138-.92 2.138-2.052 0-1.13-.96-2.05-2.138-2.05zm1.336 10.84a8.66 8.66 0 0 0 3.802-1.542 1.333 1.333 0 0 0 .279-1.914A1.467 1.467 0 0 0 9.97 9.85a5.793 5.793 0 0 1-3.418 1.092c-1.292 0-2.44-.365-3.41-1.081a1.464 1.464 0 0 0-1.999.247 1.326 1.326 0 0 0 .257 1.916 8.305 8.305 0 0 0 3.811 1.556L1.67 16.67a1.329 1.329 0 0 0-.095 1.931 1.47 1.47 0 0 0 2.015.092l2.959-2.623 2.962 2.62c.271.238.618.356.96.356.387 0 .775-.15 1.056-.446.53-.56.486-1.426-.096-1.934l-3.544-3.09z\"></path></svg></a><a data-event-action=\"click\" data-event-category=\"Footer_twi\" href=\"https://twitter.com/sport24_ru?utm_term=footerblock\" rel=\"noopener nofollow\" target=\"_blank\"><svg height=\"17\" width=\"19\"><path d=\"M17.31 4.8c.79-.406 1.406-1.322 1.728-2.164-.783.515-1.364.77-2.16.866 1.045-.65 1.7-1.38 2.16-2.597-.864.677-1.622 1.082-2.766 1.298C15.56 1.442 14.54.905 13.42.905c-2.363 0-3.89 1.463-3.89 3.896 0 .308.054.893.173 1.299C6.448 5.935 3.59 4.612 1.32 1.77.483 3.287.887 5.695 2.616 6.966a3.562 3.562 0 0 1-1.729-.433c.216 1.732 1.647 3.41 3.457 3.897-.73.188-1.462.17-2.16 0 .62 1.406 2.404 2.597 3.889 2.597-1.378 1.217-3.457 1.732-6.05 1.732 1.431 1.054 3.837 1.731 6.05 1.731 7.36 0 11.236-5.177 11.236-11.688z\"></path></svg></a><a data-event-action=\"click\" data-event-category=\"Footer_tgr\" href=\"https://t.me/sport24ru?utm_term=footerblock\" rel=\"noopener nofollow\" target=\"_blank\"><svg height=\"17\" width=\"20\"><path d=\"M6.193 8.67l8.563-5.282c.154-.095.312.113.18.236l-7.067 6.58a1.468 1.468 0 0 0-.454.878l-.24 1.787c-.033.24-.367.263-.433.032l-.926-3.259a.864.864 0 0 1 .377-.971M.389 7.904L4.77 9.543l1.696 5.463c.109.35.536.479.82.247l2.442-1.995a.728.728 0 0 1 .888-.024l4.405 3.203c.303.221.733.055.809-.313L19.057.576a.517.517 0 0 0-.692-.588L.384 6.937c-.444.171-.44.8.005.967\"></path></svg></a><a data-event-action=\"click\" data-event-category=\"Footer_inst\" href=\"https://www.instagram.com/sport24ru/?utm_term=footerblock\" rel=\"noopener nofollow\" target=\"_blank\"><svg height=\"20\" width=\"20\"><path d=\"M16.708 4.44a1.142 1.142 0 1 1-2.283.002 1.142 1.142 0 0 1 2.283-.002m-6.216 8.258a3.172 3.172 0 0 1-3.169-3.174 3.172 3.172 0 0 1 3.17-3.175c1.75 0 3.169 1.422 3.169 3.175a3.172 3.172 0 0 1-3.17 3.174m0-8.065a4.886 4.886 0 0 0-4.882 4.89 4.887 4.887 0 0 0 4.882 4.891 4.886 4.886 0 0 0 4.883-4.89 4.886 4.886 0 0 0-4.883-4.89m0-4.634C7.91 0 7.587.01 6.572.057 5.56.104 4.87.265 4.265.5A4.66 4.66 0 0 0 2.58 1.598a4.67 4.67 0 0 0-1.097 1.687c-.235.606-.396 1.298-.442 2.312C.996 6.613.985 6.937.985 9.524c0 2.586.01 2.91.057 3.926.046 1.014.207 1.706.442 2.312A4.67 4.67 0 0 0 2.58 17.45a4.66 4.66 0 0 0 1.684 1.099c.604.235 1.295.396 2.307.442 1.015.047 1.338.058 3.92.058s2.906-.011 3.92-.058c1.012-.046 1.703-.207 2.308-.442a4.66 4.66 0 0 0 1.684-1.099 4.67 4.67 0 0 0 1.097-1.687c.235-.606.396-1.298.442-2.312.046-1.015.057-1.34.057-3.926 0-2.587-.011-2.911-.057-3.927-.046-1.014-.207-1.706-.442-2.312a4.67 4.67 0 0 0-1.097-1.687A4.66 4.66 0 0 0 16.72.5c-.605-.235-1.296-.396-2.308-.443C13.398.011 13.074 0 10.492 0m0 1.716c2.539 0 2.84.01 3.842.056.927.042 1.43.197 1.766.327.443.173.76.38 1.093.713.333.333.539.65.711 1.095.13.336.285.84.327 1.768.046 1.005.056 1.306.056 3.849s-.01 2.844-.056 3.848c-.042.929-.197 1.433-.327 1.769a2.95 2.95 0 0 1-.711 1.095c-.333.333-.65.54-1.093.712-.335.13-.839.286-1.766.328-1.002.046-1.303.056-3.842.056-2.538 0-2.84-.01-3.841-.056-.927-.042-1.43-.197-1.766-.328a2.945 2.945 0 0 1-1.093-.712 2.952 2.952 0 0 1-.711-1.095c-.13-.336-.285-.84-.328-1.769-.045-1.004-.055-1.305-.055-3.848s.01-2.844.055-3.849c.043-.928.197-1.432.328-1.768.172-.445.378-.762.71-1.095.334-.333.65-.54 1.094-.713.335-.13.839-.285 1.765-.327 1.003-.046 1.304-.056 3.842-.056\"></path></svg></a></div></div></div><div class=\"_1errZT\" data-lg-2=\"1\" data-md-2=\"1\" data-sm-2=\"1\" data-tiny-8=\"1\" data-xl-2=\"1\" data-xs-4=\"1\"><div class=\"_3Ohjk4\"><a href=\"https://www.sportradar.com/digital/\" rel=\"noopener nofollow\" target=\"_blank\"><svg viewbox=\"0 0 627 60\"><path d=\"M137.8 36.5h5.3v1.7c0 4.2 2.2 5.9 8.1 5.9h12.3c8.6 0 11.3-.3 11.3-5.4v-.3c0-3.3-.9-5.1-7.8-5.1h-17.7c-8.1 0-11.1-2.6-11.1-9.1v-2c0-5.5 3.1-8.6 17.3-8.6h8.8c12.9 0 14.7 3.7 14.7 8.5v1.8h-5.3v-.3c0-5.2-3.5-5.3-9.7-5.3h-10c-8.2 0-10 .8-10 4.7v1.3c0 2.8.9 4.4 6.9 4.4h15.2c8.6 0 14.5.9 14.5 10.1v.1c0 9.5-8.8 9.9-15.8 9.9h-10.5c-8.5 0-16.4 0-16.4-10.2v-2.1zM188.3 14.2h5.3v5.4h.1c1.7-4.1 6.3-5.9 11.4-5.9h11c8.1 0 15.7 2.6 15.7 14.3v6c0 11-4.9 14.7-16.7 14.7h-10.9c-6.1 0-8.8-1.5-10-5.1h-.1V60h-5.7V14.2zm37.8 13.9c0-6.6-2.1-9.7-10.2-9.7h-11.4c-7.5 0-10.4 3.9-10.4 9.8v6.5c0 8.1 5.1 9.5 11.1 9.5h10.2c6.7 0 10.7-1.5 10.7-9.3v-6.8M304.6 14.2h5.3v4.9h.1c2.1-4.4 6.5-5.5 10.4-5.5h5.4c10.7 0 14.3 3.5 14.3 11.8v4.1h-5.3V28c0-8.4-1.7-9.7-11.9-9.7h-3.5c-6.1 0-9 3.9-9 8.3v21.6h-5.7v-34zM351.8 18.9h-7.5v-4.7h7.5V6.1h5.7v8.1h22.8v4.7h-22.8v16.9c0 6.3 2.2 8.3 8.5 8.3h1.8c7.6 0 8.8-1.6 8.8-8.7v-2.5h4.7v3.7c0 6.8-.7 12.2-13.1 12.2h-3.1c-10.7 0-13.3-5.2-13.3-10.7V18.9M388.6 14.2h12v6.5h.1c1.5-5.4 6.7-7 12.5-7 9.3 0 13 4 13 13.4 0 .9-.1 1.8-.1 3H415c0-4.3-1-6.4-6.1-6.4-4.4 0-7.5 1.7-7.5 5.7v18.8h-12.8v-34M430.9 36.3c0-9.3 6.4-9.8 18.8-9.8 7 0 10.9.2 13.3 2.7v-3c0-3.3-1-4.5-6-4.5h-7.5c-3.7 0-4.8.3-4.9 2.7h-12.4c0-9.2 4.5-10.7 15.3-10.7h14.9c8.8 0 13.5 4.2 13.5 12.2v22.3h-12.1v-3.9c-3.5 3.7-4.9 4.4-11.3 4.4h-8.7C436 48.8 431 47 431 39v-2.7zm22.8 4.5c8.8 0 9.6-1.3 9.6-3.6 0-2.5-.7-3.5-7.8-3.5h-5.7c-5.4 0-6.5 1.2-6.5 4 0 2.2 1.7 3.1 6.7 3.1h3.7M482.3 28.2c0-8.7 2-14.5 18.2-14.5h3.8c5.3 0 10.7 1.5 11.5 6.8h.1V0h12.8v48.3h-12V42h-.1c-1.4 4.2-4.6 6.8-12.3 6.8h-3.7c-16.2 0-18.2-5.8-18.2-14.5v-6.1zm12.5 5.1c0 3.8.6 5.9 6.7 5.9h7.5c5.1 0 7.7-1.1 7.7-6.3v-3.3c0-5.1-2.7-6.3-7.7-6.3h-7.5c-6.1 0-6.7 2.1-6.7 5.9v4.1M535.9 36.3c0-9.3 6.4-9.8 18.8-9.8 7 0 10.9.2 13.3 2.7v-3c0-3.3-1-4.5-6-4.5h-7.5c-3.7 0-4.8.3-4.9 2.7h-12.5c0-9.2 4.5-10.7 15.3-10.7h14.9c8.8 0 13.5 4.2 13.5 12.2v22.3h-12.1v-3.9c-3.5 3.7-4.9 4.4-11.3 4.4h-8.7c-7.8.1-12.8-1.7-12.8-9.7v-2.7m22.8 4.5c8.8 0 9.6-1.3 9.6-3.6 0-2.5-.7-3.5-7.8-3.5h-5.7c-5.4 0-6.5 1.2-6.5 4 0 2.2 1.7 3.1 6.7 3.1h3.7M589 14.2h12v6.5h.1c1.5-5.4 6.7-7 12.5-7 9.3 0 13 4 13 13.4 0 .9-.1 1.8-.1 3h-11.1c0-4.3-1-6.4-6.1-6.4-4.4 0-7.5 1.7-7.5 5.7v18.8H589v-34M273.7 18.3H262c-6.7 0-11.3 1.5-11.3 9.5v6.8c0 7.9 4.7 9.5 11.3 9.5h11.7c6.7 0 11.3-1.5 11.3-9.5v-6.8c0-8-4.6-9.5-11.3-9.5\"></path><path d=\"M273.1 8.7h-10.5c-13.9 0-24.1 3.3-24.1 17.7V36c0 14.3 10.1 17.7 24.1 17.7h10.5c13.9 0 24.1-3.3 24.1-17.7v-9.6c-.1-14.3-10.2-17.7-24.1-17.7m17.7 26.2c0 11.2-7.9 13.8-18.8 13.8h-8.2c-10.9 0-18.8-2.6-18.8-13.8v-7.5c0-11.2 7.9-13.8 18.8-13.8h8.2c10.9 0 18.8 2.6 18.8 13.8v7.5M0 38.8c0-2.8.7-5.1 2-6.9 1.3-1.7 3.1-2.6 5.3-2.6 2 0 3.5.7 4.8 2.1v-9.5h4.2v26.2h-3.8l-.2-1.9c-1.2 1.5-2.9 2.3-5 2.3-2.2 0-3.9-.9-5.3-2.6-1.3-1.7-2-4.1-2-7.1m4.2.4c0 1.9.4 3.3 1.1 4.4.7 1.1 1.8 1.6 3.1 1.6 1.7 0 2.9-.8 3.7-2.3V35c-.8-1.5-2-2.2-3.7-2.2-1.3 0-2.4.5-3.1 1.6-.8 1-1.1 2.6-1.1 4.8M32.3 48.2c-.2-.4-.3-.9-.5-1.7-1.3 1.4-2.9 2.1-4.9 2.1-1.9 0-3.4-.5-4.5-1.6-1.2-1.1-1.8-2.4-1.8-3.9 0-2 .7-3.5 2.2-4.5 1.5-1.1 3.6-1.6 6.3-1.6h2.5v-1.2c0-1-.3-1.7-.8-2.3-.5-.6-1.4-.9-2.4-.9-.9 0-1.7.2-2.3.7-.6.5-.9 1.1-.9 1.8h-4.1c0-1 .3-2 1-2.8.7-.9 1.6-1.6 2.7-2.1 1.2-.5 2.4-.8 3.9-.8 2.2 0 3.9.5 5.2 1.6 1.3 1.1 1.9 2.6 2 4.6v8.3c0 1.7.2 3 .7 4v.3h-4.3m-4.6-3c.8 0 1.6-.2 2.3-.6.7-.4 1.3-.9 1.6-1.6v-3.5h-2.2c-1.5 0-2.7.3-3.5.8-.8.5-1.2 1.3-1.2 2.3 0 .8.3 1.4.8 1.9.6.5 1.4.7 2.2.7M46.1 25.2v4.5h3.3v3.1h-3.3v10.3c0 .7.1 1.2.4 1.5.3.3.8.5 1.5.5.5 0 1-.1 1.5-.2v3.2c-.9.3-1.9.4-2.7.4-3.2 0-4.8-1.8-4.8-5.3V32.7h-3v-3.1h3v-4.5h4.1zM64.3 48.2c-.2-.4-.3-.9-.5-1.7-1.3 1.4-2.9 2.1-4.9 2.1-1.9 0-3.4-.5-4.5-1.6-1.2-1.1-1.8-2.4-1.8-3.9 0-2 .7-3.5 2.2-4.5 1.5-1.1 3.6-1.6 6.3-1.6h2.5v-1.2c0-1-.3-1.7-.8-2.3-.5-.6-1.4-.9-2.4-.9-.9 0-1.7.2-2.3.7-.6.5-.9 1.1-.9 1.8H53c0-1 .3-2 1-2.8.7-.9 1.6-1.6 2.7-2.1 1.2-.5 2.4-.8 3.9-.8 2.2 0 3.9.5 5.2 1.6 1.3 1.1 1.9 2.6 2 4.6v8.3c0 1.7.2 3 .7 4v.3h-4.2m-4.6-3c.8 0 1.6-.2 2.3-.6.7-.4 1.3-.9 1.6-1.6v-3.5h-2.2c-1.5 0-2.7.3-3.5.8-.8.5-1.2 1.3-1.2 2.3 0 .8.3 1.4.8 1.9.6.5 1.3.7 2.2.7M98.5 39.1c0 2.9-.6 5.2-1.9 6.9-1.3 1.7-3 2.5-5.3 2.5-2.2 0-3.9-.8-5.1-2.3l-.2 2h-3.8V22h4.2v9.5c1.2-1.4 2.8-2.1 4.8-2.1 2.3 0 4 .8 5.3 2.5 1.3 1.7 1.9 4 1.9 7v.2zm-4.1-.3c0-2-.4-3.5-1.1-4.5-.7-1-1.7-1.5-3.1-1.5-1.8 0-3.1.8-3.8 2.4v7.6c.7 1.6 2 2.4 3.8 2.4 1.3 0 2.3-.5 3-1.5.7-1 1.1-2.4 1.1-4.4v-.5zM109 42.2l3.8-12.5h4.4L109.9 51c-1.1 3.1-3 4.7-5.7 4.7-.6 0-1.3-.1-2-.3v-3.2l.8.1c1 0 1.8-.2 2.4-.6.5-.4.9-1 1.3-1.9l.6-1.6-6.5-18.4h4.5l3.7 12.4\"></path></svg></a></div><div class=\"_3B1uQp\"><svg height=\"35\" viewbox=\"0 0 100.495 100.346\" width=\"35\"><g fill=\"#B4B4B5\"><path d=\"M30.875 27.215h-6.918c-2.659 0-4.028.456-4.028 2.66v2.508c0 2.205 1.369 2.66 4.028 2.66h1.597c.988 0 1.443.533 1.443 2.053v32.84c0 2.661.457 4.029 2.662 4.029h2.583c2.205 0 2.662-1.368 2.662-4.029V29.875c0-2.204-1.369-2.66-4.029-2.66z\"></path><path d=\"M78.297 4.409C75.333 1.521 71.608 0 67.123 0H33.371c-4.485 0-8.286 1.521-11.174 4.409L4.332 22.197C1.521 25.01 0 28.734 0 32.84v34.283c0 4.713 1.597 8.362 4.789 11.479l16.952 16.951c3.344 3.345 7.068 4.865 11.858 4.789h33.296c4.637 0 8.438-1.369 11.858-4.789l16.952-16.951c3.116-3.117 4.789-6.843 4.789-11.479V32.84c0-4.105-1.521-7.83-4.333-10.643L78.297 4.409zm15.585 40.137c0 1.141-.533 1.748-1.597 1.748h-5.093v-3.572c0-2.66-.381-4.028-2.661-4.028H82.25c-2.279 0-2.66 1.368-2.66 4.028v3.572h-3.572c-2.66 0-4.029.381-4.029 2.661v2.433c0 2.28 1.369 2.661 4.029 2.661h3.572v3.572c0 2.66.381 4.028 2.66 4.028h2.281c2.28 0 2.661-1.368 2.661-4.028v-3.572h5.093c.988 0 1.521.532 1.597 1.52v11.555c0 2.812-.837 4.94-2.813 6.842l-16.952 16.95c-1.978 1.977-4.182 2.89-6.917 2.89H33.295c-2.736 0-4.94-.913-6.917-2.89L9.427 73.965c-1.977-1.977-2.891-4.029-2.813-6.842V33.6c0-2.812.913-5.246 2.966-7.298L26.834 8.817c1.749-1.747 3.953-2.28 6.461-2.28H67.2c2.508 0 4.712.533 6.461 2.28l17.256 17.484c1.976 2.052 2.965 4.485 2.965 7.298v10.947z\"></path><path d=\"M63.93 49.716c4.257-3.116 4.333-6.31 4.333-8.895v-2.584c-.456-8.591-3.344-11.859-13.303-11.859-9.957 0-12.846 3.269-13.303 11.859v2.584c0 2.585.076 5.778 4.333 8.895-5.093 1.976-5.473 6.31-5.473 12.01 0 8.438 2.964 12.619 14.442 12.848 11.479-.229 14.444-4.409 14.444-12.848.001-5.701-.379-10.035-5.473-12.01zm-8.97-16.345c4.182 0 5.854 1.521 5.854 6.614 0 4.94-1.673 6.614-5.854 6.614-4.18 0-5.853-1.674-5.853-6.614 0-5.093 1.673-6.614 5.853-6.614zm0 33.98c-4.864 0-6.613-1.899-6.613-6.689 0-4.789 1.749-6.993 6.613-6.993 4.865 0 6.614 2.204 6.614 6.993s-1.749 6.689-6.614 6.689z\"></path></g></svg>Для лиц старше 18 лет</div></div></div></footer></div><div data-slot=\"top-menu-gift\" id=\"slot-top-menu-gift\"></div></div>\n",
       "<script>window.__siteconfig__ = JSON.parse('{\"menu\":[{\"title\":\"Коронавирус\",\"url\":\"/tags/koronavirus\"},{\"title\":\"Футбол\",\"url\":\"/football\",\"image\":\"football\",\"rubric\":[{\"title\":\"РПЛ\",\"sport\":\"football\",\"tournament\":\"rpl\",\"icon\":\"/m/fab0/a9d5/ed42/1968/0758/bbaf/944f/f668/60_60.png\"},{\"title\":\"ФНЛ\",\"sport\":\"football\",\"tournament\":\"fnl\",\"icon\":\"/m/a71e/e439/d001/a763/64b0/0fa3/3658/cf39/60_60.png\"},{\"title\":\"Кубок России\",\"sport\":\"football\",\"tournament\":\"russia-cup\",\"icon\":\"/m/edbd/84a2/6255/3d89/ca11/75dc/5970/5c1b/60_60.png\"},{\"title\":\"Бундеслига\",\"sport\":\"football\",\"tournament\":\"bundesliga\",\"icon\":\"/m/20c1/3295/f689/b7a8/626f/ba0e/e354/e08b/60_60.png\"},{\"title\":\"АПЛ\",\"sport\":\"football\",\"tournament\":\"epl\",\"icon\":\"/m/a89a/1761/77d7/139d/04ac/45a5/b526/4d78/60_60.png\"},{\"title\":\"Ла Лига\",\"sport\":\"football\",\"tournament\":\"primera-division\",\"icon\":\"/m/2bac/587a/003a/4e11/ac5a/23f3/2a12/9c99/60_60.png\"},{\"title\":\"Серия А\",\"sport\":\"football\",\"tournament\":\"seria-a\",\"icon\":\"/m/7bc7/f758/9743/f7d1/de3b/890c/4ed6/60bb/60_60.png\"},{\"title\":\"Лига 1\",\"sport\":\"football\",\"tournament\":\"league-1\",\"icon\":\"/m/eecb/3d4c/0436/0d5a/1f9f/bddd/537f/c02c/60_60.png\"},{\"title\":\"Лига чемпионов\",\"sport\":\"football\",\"tournament\":\"uefa-champions-league\",\"icon\":\"/m/837a/7dd5/3db2/c9f7/4afd/a240/ebf0/799d/60_60.png\"},{\"title\":\"Лига Европы\",\"sport\":\"football\",\"tournament\":\"uefa-europa-league\",\"icon\":\"/m/d853/143f/1335/2ab9/c5b1/75d5/f31a/a255/60_60.png\"},{\"title\":\"Чемпионат Европы\",\"sport\":\"football\",\"tournament\":\"uefa-championship\",\"icon\":\"/m/01b7/3b63/0bf2/8934/d2aa/8a17/4131/5fd2/60_60.png\"},{\"title\":\"Квалификация ЧЕ-2020\",\"sport\":\"football\",\"tournament\":\"uefa-european-championship-qualifications\",\"icon\":\"/m/064d/dc32/3db7/8c2e/5b8a/294b/f9d6/ffe9/60_60.png\"},{\"title\":\"Чемпионат мира\",\"sport\":\"football\",\"tournament\":\"worldcup\",\"icon\":\"/m/617f/fb03/edb0/8865/7a0d/4424/ee13/6a72/60_60.png\"},{\"title\":\"Лига наций\",\"sport\":\"football\",\"tournament\":\"uefa-nations-league\",\"icon\":\"/m/6ff5/764c/e344/f82e/b1df/ae0d/a270/3ad8/60_60.png\"}]},{\"title\":\"Хоккей\",\"url\":\"/hockey\",\"image\":\"hockey\",\"rubric\":[{\"title\":\"КХЛ\",\"sport\":\"hockey\",\"tournament\":\"khl\",\"item\":\"review\",\"icon\":\"/m/1a63/d82e/a6ec/cbff/ce2d/0e52/da10/d4a2/60_60.png\"},{\"title\":\"НХЛ\",\"sport\":\"hockey\",\"tournament\":\"nhl\",\"icon\":\"/m/62ff/51d5/788b/0941/3f3c/f10e/9d0a/9ff4/60_60.png\"},{\"title\":\"ЧМ по хоккею\",\"sport\":\"hockey\",\"tournament\":\"ihwc\",\"icon\":\"/m/1ab9/c0be/8f72/2cdd/e4f1/612c/e6c8/0a3b/60_60.png\"},{\"title\":\"Еврохоккейтур\",\"sport\":\"hockey\",\"tournament\":\"eurohockeytour\",\"icon\":\"/m/7146/9312/5ec3/0369/7766/edcf/44cb/b8a2/60_60.png\"},{\"title\":\"ЧМ по хоккею U20\",\"sport\":\"hockey\",\"tournament\":\"whcu20\",\"icon\":\"/m/6c93/9142/37ca/2dbd/235e/a0f1/d366/d6c0/60_60.png\"},{\"title\":\"Матч звезд КХЛ\",\"sport\":\"hockey\",\"tournament\":\"all-star-game-khl\",\"item\":\"review\",\"icon\":\"/m/7286/7b05/71f0/19c2/52a1/3018/3357/e439/60_60.png\"},{\"title\":\"Матч звезд НХЛ\",\"sport\":\"hockey\",\"tournament\":\"all-star-game-nhl\",\"icon\":\"/m/dec4/9a9f/b8a1/93e2/02cd/dc22/f070/5512/60_60.png\"}]},{\"title\":\"Бокс и MMA\",\"url\":\"/mma\",\"image\":\"mma\"},{\"title\":\"Фигурное катание\",\"url\":\"/figureskating\",\"image\":\"figureskating\"},{\"title\":\"Ставки\",\"url\":\"/betting\",\"image\":\"betting\"},{\"title\":\"Регби\",\"url\":\"/rugby\",\"image\":\"rugby\",\"rubric\":[{\"title\":\"Континентальная клубная регбийная лига\",\"sport\":\"rugby\",\"tournament\":\"continental-club-rugby-league\",\"icon\":\"/m/bc70/8a22/3afa/78f0/b543/35c0/494f/66e3/60_60.png\"},{\"title\":\"Премьер-лига\",\"sport\":\"rugby\",\"tournament\":\"rugby-premier-league\",\"icon\":\"/m/eed9/1db6/882a/7051/5747/5762/c5fa/5860/60_60.png\"},{\"title\":\"Кубок России по регби\",\"sport\":\"rugby\",\"tournament\":\"rugby-russia-cup\",\"icon\":\"/m/eed9/1db6/882a/7051/5747/5762/c5fa/5860/60_60.png\"},{\"title\":\"Премьер-лига-7\",\"sport\":\"rugby\",\"tournament\":\"rugby-seven-premier-league\",\"icon\":\"/m/eed9/1db6/882a/7051/5747/5762/c5fa/5860/60_60.png\"},{\"title\":\"Кубок России по регби-7\",\"sport\":\"rugby\",\"tournament\":\"rugby-seven-russia-cup\",\"icon\":\"/m/eed9/1db6/882a/7051/5747/5762/c5fa/5860/60_60.png\"},{\"title\":\"Чемпионат мира по регби (м)\",\"sport\":\"rugby\",\"tournament\":\"rugby-world-cup-man\",\"icon\":\"/m/48da/7dde/beda/ca8e/1895/8a77/5d5f/695e/60_60.png\"},{\"title\":\"Кубок наций (м)\",\"sport\":\"rugby\",\"tournament\":\"cup_nations_world_rugby\",\"icon\":\"/m/4b1e/e93d/9ecd/3671/d228/4c80/2330/15a3/60_60.png\"},{\"title\":\"Чемпионат Европы по регби (м)\",\"sport\":\"rugby\",\"tournament\":\"rugby-europe-championship-man\",\"icon\":\"/m/2e37/d610/e3cf/0218/1fe1/db5b/9fa1/a73c/60_60.png\"},{\"title\":\"Чемпионат Европы по регби (ж)\",\"sport\":\"rugby\",\"tournament\":\"rugby-europe-championship-woman\",\"icon\":\"/m/b29a/35a8/7e65/0781/0c64/2a3b/c5e5/89ff/60_60.png\"},{\"title\":\"Мировая серия по регби-7 (ж)\",\"sport\":\"rugby\",\"tournament\":\"world-rugby-sevens-series-woman\",\"icon\":\"/m/71df/6f54/4869/39dc/2c20/2b33/3dcf/730b/60_60.png\"}]},{\"title\":\"ЗОЖ\",\"url\":\"/zozh\",\"image\":\"basketballl\"},{\"title\":\"Другое\",\"url\":\"/other\",\"image\":\"other\",\"rubric\":[{\"title\":\"Биатлон\",\"url\":\"/biathlon\",\"image\":\"biathlon\"},{\"title\":\"Ставки\",\"sport\":\"betting\"},{\"title\":\"Автоспорт\",\"sport\":\"auto\"},{\"title\":\"Гольф\",\"sport\":\"golf\"},{\"title\":\"Легкая атлетика\",\"sport\":\"athletics\"},{\"title\":\"Теннис\",\"sport\":\"tennis\"},{\"title\":\"Баскетбол\",\"sport\":\"basketball\"},{\"title\":\"Скачки\",\"sport\":\"skachki\"},{\"title\":\"Киберспорт\",\"sport\":\"cybersport\"},{\"title\":\"Олимпиада\",\"sport\":\"olympics-2018\"},{\"title\":\"Команда Sport24\",\"sport\":\"developers\"}]}],\"mobileMenu\":[{\"title\":\"Коронавирус\",\"url\":\"/tags/koronavirus\"},{\"title\":\"Футбол\",\"url\":\"/football\",\"image\":\"football\",\"rubric\":[{\"title\":\"РПЛ\",\"sport\":\"football\",\"tournament\":\"rpl\",\"icon\":\"/m/fab0/a9d5/ed42/1968/0758/bbaf/944f/f668/60_60.png\"},{\"title\":\"ФНЛ\",\"sport\":\"football\",\"tournament\":\"fnl\",\"icon\":\"/m/a71e/e439/d001/a763/64b0/0fa3/3658/cf39/60_60.png\"},{\"title\":\"Кубок России\",\"sport\":\"football\",\"tournament\":\"russia-cup\",\"icon\":\"/m/edbd/84a2/6255/3d89/ca11/75dc/5970/5c1b/60_60.png\"},{\"title\":\"Бундеслига\",\"sport\":\"football\",\"tournament\":\"bundesliga\",\"icon\":\"/m/20c1/3295/f689/b7a8/626f/ba0e/e354/e08b/60_60.png\"},{\"title\":\"АПЛ\",\"sport\":\"football\",\"tournament\":\"epl\",\"icon\":\"/m/a89a/1761/77d7/139d/04ac/45a5/b526/4d78/60_60.png\"},{\"title\":\"Ла Лига\",\"sport\":\"football\",\"tournament\":\"primera-division\",\"icon\":\"/m/2bac/587a/003a/4e11/ac5a/23f3/2a12/9c99/60_60.png\"},{\"title\":\"Серия А\",\"sport\":\"football\",\"tournament\":\"seria-a\",\"icon\":\"/m/7bc7/f758/9743/f7d1/de3b/890c/4ed6/60bb/60_60.png\"},{\"title\":\"Лига 1\",\"sport\":\"football\",\"tournament\":\"league-1\",\"icon\":\"/m/eecb/3d4c/0436/0d5a/1f9f/bddd/537f/c02c/60_60.png\"},{\"title\":\"Лига чемпионов\",\"sport\":\"football\",\"tournament\":\"uefa-champions-league\",\"icon\":\"/m/837a/7dd5/3db2/c9f7/4afd/a240/ebf0/799d/60_60.png\"},{\"title\":\"Лига Европы\",\"sport\":\"football\",\"tournament\":\"uefa-europa-league\",\"icon\":\"/m/d853/143f/1335/2ab9/c5b1/75d5/f31a/a255/60_60.png\"},{\"title\":\"Чемпионат Европы\",\"sport\":\"football\",\"tournament\":\"uefa-championship\",\"icon\":\"/m/01b7/3b63/0bf2/8934/d2aa/8a17/4131/5fd2/60_60.png\"},{\"title\":\"Квалификация ЧЕ-2020\",\"sport\":\"football\",\"tournament\":\"uefa-european-championship-qualifications\",\"icon\":\"/m/064d/dc32/3db7/8c2e/5b8a/294b/f9d6/ffe9/60_60.png\"},{\"title\":\"Чемпионат мира\",\"sport\":\"football\",\"tournament\":\"worldcup\",\"icon\":\"/m/617f/fb03/edb0/8865/7a0d/4424/ee13/6a72/60_60.png\"},{\"title\":\"Лига наций\",\"sport\":\"football\",\"tournament\":\"uefa-nations-league\",\"icon\":\"/m/6ff5/764c/e344/f82e/b1df/ae0d/a270/3ad8/60_60.png\"}]},{\"title\":\"Хоккей\",\"url\":\"/hockey\",\"image\":\"hockey\",\"rubric\":[{\"title\":\"КХЛ\",\"sport\":\"hockey\",\"tournament\":\"khl\",\"icon\":\"/m/1a63/d82e/a6ec/cbff/ce2d/0e52/da10/d4a2/60_60.png\"},{\"title\":\"НХЛ\",\"sport\":\"hockey\",\"tournament\":\"nhl\",\"icon\":\"/m/62ff/51d5/788b/0941/3f3c/f10e/9d0a/9ff4/60_60.png\"},{\"title\":\"ЧМ по хоккею\",\"sport\":\"hockey\",\"tournament\":\"ihwc\",\"icon\":\"/m/1ab9/c0be/8f72/2cdd/e4f1/612c/e6c8/0a3b/60_60.png\"},{\"title\":\"Еврохоккейтур\",\"sport\":\"hockey\",\"tournament\":\"eurohockeytour\",\"icon\":\"/m/7146/9312/5ec3/0369/7766/edcf/44cb/b8a2/60_60.png\"},{\"title\":\"ЧМ по хоккею U20\",\"sport\":\"hockey\",\"tournament\":\"whcu20\",\"icon\":\"/m/6c93/9142/37ca/2dbd/235e/a0f1/d366/d6c0/60_60.png\"},{\"title\":\"Матч звезд КХЛ\",\"sport\":\"hockey\",\"tournament\":\"all-star-game-khl\",\"icon\":\"/m/7286/7b05/71f0/19c2/52a1/3018/3357/e439/60_60.png\"},{\"title\":\"Матч звезд НХЛ\",\"sport\":\"hockey\",\"tournament\":\"all-star-game-nhl\",\"icon\":\"/m/dec4/9a9f/b8a1/93e2/02cd/dc22/f070/5512/60_60.png\"}]},{\"title\":\"Бокс и MMA\",\"url\":\"/mma\",\"image\":\"mma\"},{\"title\":\"Фигурное катание\",\"url\":\"/figureskating\",\"image\":\"figureskating\"},{\"title\":\"Биатлон\",\"url\":\"/biathlon\",\"image\":\"biathlon\"},{\"title\":\"Ставки\",\"url\":\"/betting\",\"image\":\"betting\"},{\"title\":\"ЗОЖ\",\"url\":\"/zozh\",\"image\":\"basketballl\"},{\"title\":\"Сторис\",\"url\":\"/tags/stories\"},{\"title\":\"Теннис\",\"url\":\"/tennis\",\"image\":\"cybersport\"},{\"title\":\"Регби\",\"url\":\"/rugby\",\"image\":\"rugby\"},{\"title\":\"Баскетбол\",\"url\":\"/basketball\",\"image\":\"cybersport\"},{\"title\":\"Автоспорт\",\"url\":\"/auto\",\"image\":\"other\"},{\"title\":\"Киберспорт\",\"url\":\"/cybersport\",\"image\":\"cybersport\"},{\"title\":\"Гольф\",\"url\":\"/golf\",\"image\":\"basketballl\"},{\"title\":\"Другое\",\"url\":\"/other\",\"image\":\"other\"},{\"title\":\"Спорт на ТВ\",\"url\":\"/tv\",\"image\":\"other\"},{\"title\":\"Фото\",\"url\":\"/photo\",\"image\":\"other\"}],\"topMenu\":[{\"title\":\"Фото\",\"name\":\"Photo\"},{\"title\":\"Подкасты\",\"name\":\"Video\"},{\"title\":\"Тесты\",\"name\":\"Tests\"},{\"title\":\"Подписка\",\"name\":\"Subscribe\"}],\"footer\":{\"links\":[{\"title\":\"О проекте\",\"url\":\"/about\"},{\"title\":\"О персональных данных\",\"url\":\"/policy\"},{\"title\":\"FAQ\",\"url\":\"/faq\"},{\"title\":\"Обратная связь\",\"url\":\"/feedback\"}]},\"smi2\":{\"url\":\"https://smi2.ru/data/js/92351.js\"},\"socialBanners\":[{\"enable\":true,\"type\":1,\"link\":\"https://twitter.com/sport24_ru/\",\"text\":\"Подписывайтесь на нас в Twitter и будьте в курсе всех спортивных новостей\",\"image\":\"b7cc/630c/924d/409d/4716/3a8f/b33a/9b44/1115_252.png\",\"gaEvent\":\"SocialBannerInArticle\",\"gaEventLabel\":\"1\"},{\"enable\":true,\"type\":1,\"link\":\"https://news.yandex.ru/index.html?from=rubric&favid=254154508\",\"text\":\"Подписывайтесь на нас в Яндекс.Новости и будьте в курсе всех спортивных новостей\",\"image\":\"4469/1d28/6ef6/59ba/0fa0/a38b/5245/7bf7/1115_252.png\",\"gaEvent\":\"SocialBannerInArticle\",\"gaEventLabel\":\"2\"},{\"enable\":true,\"type\":1,\"link\":\"https://www.youtube.com/channel/UCvv3Wit_a18sM17CayokObQ?sub_confirmation=1\",\"text\":\"Подписывайтесь на нас в Youtube и будьте в курсе всех спортивных новостей\",\"image\":\"0a68/2c87/d548/8299/3c34/6196/ce92/62c7/1115_252.png\",\"gaEvent\":\"SocialBannerInArticle\",\"gaEventLabel\":\"3\"},{\"enable\":true,\"type\":1,\"link\":\"https://vk.com/sport24_ru\",\"text\":\"Подписывайтесь на нас в VK и будьте в курсе всех спортивных новостей\",\"image\":\"106d/2378/b29b/6802/7fca/cbd5/4fcb/aa07/1115_252.png\",\"gaEvent\":\"SocialBannerInArticle\",\"gaEventLabel\":\"4\"},{\"enable\":true,\"type\":1,\"link\":\"https://tele.click/sport24ru\",\"text\":\"Подписывайтесь на нас в Telegram и будьте в курсе всех спортивных новостей\",\"image\":\"cd56/67c7/7075/a7ba/9b14/0548/6d22/dc7e/1115_252.png\",\"gaEvent\":\"SocialBannerInArticle\",\"gaEventLabel\":\"5\"},{\"enable\":true,\"type\":1,\"link\":\"http://ok.ru/sport24ru\",\"text\":\"Подписывайтесь на нас в OK и будьте в курсе всех спортивных новостей\",\"image\":\"1287/6ea4/aba0/1a40/e349/6f20/3c74/6826/1115_252.png\",\"gaEvent\":\"SocialBannerInArticle\",\"gaEventLabel\":\"6\"},{\"enable\":true,\"type\":1,\"link\":\"https://instagram.com/sport24ru/\",\"text\":\"Подписывайтесь на нас в Instagram и будьте в курсе всех спортивных новостей\",\"image\":\"c3cf/1bf5/bcef/90d6/03ba/6556/c542/1872/1115_252.png\",\"gaEvent\":\"SocialBannerInArticle\",\"gaEventLabel\":\"7\"},{\"enable\":true,\"type\":1,\"link\":\"https://www.facebook.com/sport24ru/\",\"text\":\"Подписывайтесь на нас в Facebook и будьте в курсе всех спортивных новостей\",\"image\":\"3237/bfe8/1f19/c41c/138f/c29d/b50c/1a54/1115_252.png\",\"gaEvent\":\"SocialBannerInArticle\",\"gaEventLabel\":\"8\"}],\"seo\":[{\"url\":\"/search\",\"title\":\"Поиск на сайте - Новости спорта Sport24\",\"description\":\"Поиск на сайте новостей спорта Sport24\",\"keywords\":\"поиск на сайте, новости спорта Sport24\"},{\"url\":\"/\",\"title\":\"Новости спорта - футбол, баскетбол, теннис, киберспорт на sport24 \",\"description\":\"Фото, видео, онлайн трансляции, самые свежие новости всех видов спорта сегодня. Аналитика, интервью, блоги. Расписание матчей, результаты, статистика.\",\"keywords\":\"новости спорта, Sport24\"},{\"url\":\"/teams/:team/calendar\",\"title\":\"{title} - турнирная таблица, календарь, расписание игр команды, когда и где играют в 2019 2020\",\"description\":\" {title} - календарь, расписание матчей в турнирах и лигах на сегодня, на месяц, на сезон, онлайн трансляции матчей команды {title}.\",\"keywords\":\"турнирная таблица {title}\"},{\"url\":\"/teams/:team/players\",\"title\":\"{title} - состав команды в сезоне 2019 2020 - нападающие, защитники, бомбардиры, новички\",\"description\":\"Состав команды {title} на сезон 2019/20 - переходы, трансферы, изменения в составе, кто играет\",\"keywords\":\"игроки {title}, состав {title}\"},{\"url\":\"/teams/:team/statistics\",\"title\":\"{title} - статистика по годам и лигам, турнирная история команды\",\"description\":\"Как сыграла команда {title} в сезоне 2019/20, голы, поражения, победы, какое место заняла, статистика команды, турнирная история, сколько игр за сезон\",\"keywords\":\"статистика {title}, турнирная история {title}\"},{\"url\":\"/teams/:team/materials\",\"title\":\"{title} - фото 2020, видео, новости команды, свежая информация, подборки, интервью с игроками\",\"description\":\"{title} - новости на сегодня, статьи, фото 2020, все факты и слухи на Sport24.ru\",\"keywords\":\"статьи {title}, интервью {title}, новости команды\"},{\"url\":\"/teams/:team\",\"title\":\"{title} - состав, новости команды на сегодня, матчи, статистика, расписание игр в сезоне 2019 2020, прямые трансляции онлайн\",\"description\":\"Последние новости команды {title} онлайн - слухи, фото, трансферы, игроки - защитники, вратарь, нападающие. Видео, интервью и статистика 2020. Онлайн-трансляции, репортажи и многое другое на Sport24.ru\",\"keywords\":\"{title}\"},{\"url\":\"/players/:player/calendar\",\"title\":\"{title} - где и за какие команды играет в сезоне, в каких турнирах и когда, календарь и расписание матчей на сезон\",\"description\":\"В каких командах играет игрок {title} в этом году, календарь и расписание турниров и матчей игрока\",\"keywords\":\"{title}\"},{\"url\":\"/players/:player/statistics\",\"title\":\"{title} - статистика в сезоне. Количество голов, пасов, желтые карточки, красные карточки, турнирная история и все мачти\",\"description\":\"Турнирная история, количество забитых голов, какие когда карточки получал, туры лиг, статистика по матчам за все время\",\"keywords\":\"{title}\"},{\"url\":\"/players/:player/materials\",\"title\":\"{title} -все интересные материалы об игроке, интервью, фото 2020, эксклюзивы, события из жизни, новости, факты, видео\",\"description\":\"Подборка всех материалов об игроке по имени {title}. Последние новости и иинтересные статьи.\",\"keywords\":\"{title}\"},{\"url\":\"/players/:player\",\"title\":\"{title} - где играет, биография, фото, интервью 2020, лучшие голы, статистика\",\"description\":\"Последние новости из жизни игрока {title}. В какой команде играет, инстаграм, личная жизнь, интервью и статистика 2020. \",\"keywords\":\"{title}\"},{\"url\":\"/tags/chempionat-mira-figurnoe-katanie\",\"title\":\"Чемпионат мира по фигурному катанию 2020 – расписание, женщины и мужчины – смотреть онлайн последние новости на Sport24.ru\",\"description\":\"Чемпионат мира по фигурному катанию 2020 – читать последние новости и смотреть трансляции онлайн на Sport24! Расписание, женщины и мужчины\"},{\"url\":\"/tags/koronavirus\",\"title\":\"{title} - статистика, последние новости, спортивные события на Sport24.ru\",\"description\":\"Статистика распространения Коронавируса COVID-19 в России и мире. Следите за событиями на Sport24.ru\"},{\"url\":\"/tags/:tag\",\"title\":\"{title} - подборка новостей по теме. Фото, видео, интервью 2020, события на Sport24.ru\",\"description\":\"Последние спортивные новости по теме {title}. Статистика, онлайн трансляции, репортажи и многое другое на Sport24.ru\",\"keywords\":\"{title}\"},{\"url\":\"/zozh\",\"title\":\"ЗОЖ: все про здоровый образ жизни на Sport24.ru\",\"description\":\"Правильное питание, избавиться от лишнего веса, как начать заниматься спортом, какой спорт лучше, режиме и распорядок дня, как быть продуктивным, заниматься ли фитнесом, как начать ходить в тренажерный зал, йога, силовые тренировки, кроссфит - на sport24.ru\",\"keywords\":\"зож, новости спорта Sport24.ru\",\"newsTitle\":\"Новости ЗОЖ\"},{\"url\":\"/football\",\"title\":\"Новости футбола России и мира сегодня - футбольные новости онлайн на Sport24.ru\",\"description\":\"У нас можно читать новости о футболе каждый день. Новости клубов, интервью игроков, интересные факты и события - главные футбольные новости сегодня, завтра и всегда. Мировой и Европеский футбол. У нас есть все про футбол - спорт на sport24.\",\"keywords\":\"футбол, новости спорта Sport24.ru\",\"newsTitle\":\"Новости футбола\"},{\"url\":\"/leagues/rpl\",\"title\":\"РПЛ (РФПЛ), Российская Премьер-Лига 2019/2020- расписание, турнирная таблица, календарь. Вся информация о РПЛ на Sport24.ru\",\"description\":\"РПЛ (РФПЛ), Российская Премьер-Лига 2019/20 - когда начнется, команды, турнирная таблица, матчи, кто играет, трансферы. Новости онлайн, интервью, турнирная таблица. Вся актуальная информация на Sport24.ru\",\"keywords\":\"РПЛ, РФПЛ, Российская Премьер-Лига\"},{\"url\":\"/leagues/kubok-mira-po-biatlonu\",\"title\":\"Кубок мира по биатлону 2019-2020 - расписание, календарь, трансляции, последние новости\",\"description\":\"Кубок мира по биатлону 2019-2020 - расписание и календарь, этапы гонок (мужчины и женщины), последние новости и онлайн-трансляции на Sport24.ru\"},{\"url\":\"/leagues/:league(/review/:season)\",\"title\":\"{tournament} - расписание, турнирная таблица, календарь. Вся информация о {tournament} на Sport24.ru\",\"description\":\"{tournament} - когда начнется, команды, турнирная таблица, матчи, кто играет, трансферы. Новости онлайн, интервью, турнирная таблица. Вся актуальная информация на Sport24.ru\",\"keywords\":\"{tournament}\"},{\"url\":\"/leagues/rpl/teams\",\"title\":\"РПЛ (РФПЛ), Российская Премьер-Лига 2019/2020 – какие команды играют, состав команд - защитники, нападающие, вратари на Sport24.ru\",\"description\":\"РПЛ (РФПЛ), Российская Премьер-Лига 2019/20 - кто играет, составы команд сезона, кто на вылет и другие новости на Sport24.ru\",\"keywords\":\"РПЛ, РФПЛ, Российская Премьер-Лига, турнирная таблица, расписание матчей\"},{\"url\":\"/leagues/:league/teams(/:season)\",\"title\":\"{tournament} – какие команды играют, состав команд - защитники, нападающие, вратари на Sport24.ru\",\"description\":\"{tournament} - кто играет, составы команд сезона, кто на вылет и другие новости на Sport24.ru\",\"keywords\":\"{tournament}, турнирная таблица, расписание матчей\"},{\"url\":\"/leagues/:league/calendar(/:season)\",\"title\":\"Турнирная таблица {tournament} – расписание матчей, календарь игр\",\"description\":\"{tournament} - таблицы, итоги матчей, кто играет, расписание игр, когда какой матч, результаты, счет, кто победил\",\"keywords\":\"{tournament}, турнирная таблица, расписание матчей\"},{\"url\":\"/leagues/:league/materials(/:season)\",\"title\":\"Последние новости про турнир {tournament} – интервью, статьи, итоги матчей, кто чемпион\",\"description\":\"{tournament} - все последние новости онлайн сегодня, обзоры, лучшие моменты \",\"keywords\":\"{tournament}, новости\"},{\"url\":\"/leagues/:league/transfers(/:season)\",\"title\":\"Трансферы {tournament} – таблица переходов на Sport24.ru\",\"description\":\"{tournament} - переходы, трансферы, последние новости, сезон 2019 2020\",\"keywords\":\"{tournament}, трансферы\"},{\"url\":\"/leagues/:league/statistics(/:season)\",\"title\":\"Статистика {tournament} – лучшие бомбардиры, статистика по карточкам, матчам, командам\",\"description\":\"Статистика {tournament} -матчи, команды, желтые и красные карточки, матчи, обзор статистики \",\"keywords\":\"{tournament}, статистика\"},{\"url\":\"/articles/teams/:team\",\"title\":\"Статьи {title} сегодня: статистика матчей, последние новости на сегодня за 1 час-новостное издание о российском футболе sport24.ru\",\"description\":\"{tournament}: новости на сегодня за 1 час - результаты матчей, последние новости, обзоры прошедших игр. Футбол на sport24.\",\"keywords\":\"Новости {tournament}, новости, сегодня, новости спорта Sport24.ru\"},{\"url\":\"/teams/fk-manchester-yunayted\",\"title\":\"ФК Манчестер Юнайтед (Manchester United)- последние новости, состав и трансферы 2018. Футбольный клуб МЮ: новости команды на сегодня, фото и видео на Sport24.ru\",\"description\":\"ФК Манчестер Юнайтед - результаты матчей, последние новости, обзоры прошедших игр. Футбол на sport24.\",\"keywords\":\"ФК Манчестер Юнайтед, новости, сегодня, новости спорта Sport24\"},{\"url\":\"/hockey/teams/dinamo_mn\",\"title\":\"Хоккейный клуб Динамо Минск - Информация о команде - Состав - Ближайшие матчи - Новости хоккей Sport24\",\"description\":\"Хоккейный клуб Динамо Минск - результаты матчей, последние новости, обзоры прошедших игр. Футбол на sport24.\",\"keywords\":\"Хоккейный клуб Динамо Минск, новости, сегодня, новости спорта Sport24\"},{\"url\":\"/players/daniil-kvyat\",\"title\":\"Даниил Квят - последние новости формулы 1, фото, видео, интервью 2018 Квята на Sport24\",\"description\":\"Даниил Квят - результаты гонок, последние новости, обзоры прошедших гонок. Футбол на sport24.\",\"keywords\":\"Даниил Квят, новости, сегодня, новости спорта Sport24\"},{\"url\":\"/hockey\",\"title\":\"Хоккей сегодня, главные новости хоккея России и мира - Sport24\",\"description\":\"Все о хоккее - новости хоккейных чемпионатов России и Мира. Результаты, аналитика, анонс предстоящих матчей. Новоти хоккея на спортивном портале Sport24.ru\",\"keywords\":\"хоккей, новости спорта Sport24\",\"newsTitle\":\"Новости хоккея\"},{\"url\":\"/biathlon\",\"title\":\"Новости биатлона на сегодня, результаты, рейтинг и новости биатлонных чемпионатов - Sport24\",\"description\":\"Последние новости биатлона - новости на сегодня. Результаты чемпионатов. Всё о биатлоне - sport24.ru.\",\"keywords\":\"биатлон, новости спорта Sport24\",\"newsTitle\":\"Новости биатлона\"},{\"url\":\"/other/cybersport\",\"title\":\"Киберспорт - The International 2020 - главный турнир по Dota 2. Новости, трансляция онлайн на Cybersport на Sport24.ru\",\"description\":\"Новости киберспорта (cybersport). The International 2020 - прямая трансляция из Шанхая, итоги отборочного, команды участники, рейтинг команд, призовой фонд, Virtus.pro на Интернейшнл. Прогнозы, распределенние prize pull, изменения фонда и другая информация на портале sport24.\",\"keywords\":\"Киберспорт, новости спорта sport24, International 2020\",\"newsTitle\":\"Новости киберспорта\"},{\"url\":\"/other/skachki\",\"title\":\"Лошадиные скачки - смотреть трансляцию онлайн, новости конного спорта на Sport24.ru\",\"description\":\"Где и как сделать ставки на конный спорт в 2020, прогноз ставок, новости, видео, трансляции, лайфхаки, правила ставок на скачки на лошадях.\",\"keywords\":\"скачки, конный спорт, новости онлайн\",\"newsTitle\":\"Новости конного спорта\"},{\"url\":\"/other/auto\",\"title\":\"Формула 1 - смотреть трансляцию онлайн, новости автоспорта на Sport24.ru\",\"description\":\"Новости Формулы 1, Гран-при Сочи, трансляции, результаты, календарь.\",\"keywords\":\"формула 1, гран при сочи, автоспорт, новости формулы 1\",\"newsTitle\":\"Новости автоспорта и Формулы 1\"},{\"url\":\"/other/tennis\",\"title\":\"Новости тенниса на сегодня, результаты, рейтинг и новости теннисных чемпионатов -Sport24\",\"description\":\"Последние новости большого тенниса - новости мирового тенниса на сегодня. Результаты чемпионатов. Всё о теннисе - Sport24.ru.\",\"keywords\":\"теннис, новости спорта Sport24.ru\",\"newsTitle\":\"Новости тенниса\"},{\"url\":\"/mma\",\"title\":\"Новости MMA(ММА) и UFC (ЮФС) - бои без правил, свежие новости на сегодня смешанных единоборств MMA и UFC на sport24 новости от экспертов\",\"description\":\"Новости единоборств MMA и боёв без правил. Последние новости организации UFC. Интервью экспертов, результаты боёв. Всё о MMA на портале sport24.\",\"keywords\":\"MMA, новости спорта Sport24\",\"newsTitle\":\"Новости бокса и ММА\"},{\"url\":\"/other/basketball\",\"title\":\"Баскетбол - последние новости баскетбола России и мира, трансферы, результаты на сегодня, фото\",\"description\":\"Все последние баскетбольные новости России и мира, обзоры прошедших матчей, аналитика, статьи и интервью. Всё о баскетболе на sport24.\",\"keywords\":\"баскетбол, новости спорта Sport24\",\"newsTitle\":\"Новости баскетбола\"},{\"url\":\"/other/betting\",\"title\":\"Ставки - новости, результаты, видео. Ставки на Sport24.ru\",\"description\":\"Все ставки, аналитика, статьи и интервью. Всё о ставках на sport24.\",\"keywords\":\"Ставки, новости спорта Sport24\"},{\"url\":\"/betting\",\"title\":\"Ставки - новости, результаты, видео. Ставки на Sport24.ru\",\"description\":\"Все ставки, аналитика, статьи и интервью. Всё о ставках на sport24.\",\"keywords\":\"Ставки, новости спорта Sport24\"},{\"url\":\"/about\",\"title\":\"О проекте - Новости спорта Sport24\",\"description\":\"Информация о проекте «Новости спорта sport24»\",\"keywords\":\"о проекте, новости спорта Sport24\"},{\"url\":\"/feedback\",\"title\":\"Обратная связь - Новости спорта Sport24\",\"description\":\"Связаться с нами - Обратная связь - Новости спорта Sport24\",\"keywords\":\"обратная связь, новости спорта Sport24\"},{\"url\":\"/faq\",\"title\":\"Часто задаваемые вопросы - Новости спорта Sport24\",\"description\":\"Часто задаваемые вопросы о проекте «Новости спорта sport24»\",\"keywords\":\"о проекте, новости спорта sport24\"},{\"url\":\"/tests\",\"title\":\"Тесты про спорт - Проверьте свои знания - Новости спорта Sport24\",\"description\":\"Тесты про спорт - Проверьте свои знания в занимательных тестах - Новости спорта Sport24\",\"keywords\":\"тесты, спорт, новости спорта sport24\"},{\"url\":\"/olympics-2018\",\"title\":\"Олимпиада 2018 Пхенчхан – расписание, новости, медальный зачет зимних Олимпийских игр – Sport24\",\"description\":\"Зимние Олимпийские игры 2018 года, Пхенчхан, Южная Корея – календарь и результаты, новости, онлайн-трансляции, медальные зачёты, статистика, выступление сборной России. Олимпиада 2018\",\"keywords\":\"олимпийские игры, Пхенчхан, Южная Корея\"},{\"url\":\"/comments/rules\",\"title\":\"Правила комментирования\",\"description\":\"Правила комментирования\",\"keywords\":\"правила, комментарии\"},{\"url\":\"/auth/restore/*\",\"title\":\"Восстановление пароля\",\"description\":\"Восстановление пароля\",\"keywords\":\"пароль, восстановление\"},{\"url\":\"/auth/confirm/*\",\"title\":\"Подтверждение регистрации\",\"description\":\"Подтверждение регистрации\",\"keywords\":\"регистрация, подтверждение\"},{\"url\":\"/auth/agreement\",\"title\":\"Публичная оферта\",\"description\":\"Публичная оферта\",\"keywords\":\"публичная, оферта\"},{\"url\":\"/subscribe/agreement\",\"title\":\"Оферта подписки\",\"description\":\"Оферта подписки\",\"keywords\":\"оферта, подписка\"},{\"url\":\"/transfers\",\"title\":\"Трансферы 2020. Межсезонье. Зимнее трансферное окно 2019/20. - Чемпионат России по футболу (РПЛ), европейский футбол. Все переходы футболистов на Sport24.ru\",\"description\":\"Трансферы 2020. Когда закрывается зимнее трансферное окно 2019/20. - РФПЛ, Премьер-Лига, Серия А, Ла Лига, Лига 1, Бундеслига. Все переходы футболистов на Sport24.ru\"},{\"url\":\"/photo\",\"title\":\"Спортивные фото. Альбомы спорт фотографий на Sport24.ru\",\"description\":\"Спортивные события в фотографиях. Лучшие футбольные, хоккейные и другие фото\",\"keywords\":\"фото, новости спорта sport24\"},{\"url\":\"/photo/other/:urn\",\"title\":\"Спортивные фото. Альбомы спорт фотографий на Sport24.ru\",\"description\":\"Спортивные события в фотографиях. Лучшие футбольные, хоккейные и другие фото\",\"keywords\":\"фото, новости спорта sport24\"},{\"url\":\"/photo/:sport/:urn\",\"title\":\"{title} - Спортивные фото. Альбомы спорт фотографий на Sport24.ru\",\"description\":\"{sport} - Спортивные события в фотографиях. Лучшие футбольные, хоккейные и другие фото\",\"keywords\":\"{sport}, фото, новости спорта sport24\"},{\"url\":\"/video/:sport/:urn\",\"title\":\"{title} - Видео - Новости спорта Sport24\",\"description\":\"{sport} - Видео - Аналитика событий - Новости спорта Sport24\",\"keywords\":\"{sport}, видео, новости спорта sport24\"},{\"url\":\"/video\",\"title\":\"Видео - Новости спорта Sport24\",\"description\":\"Видео - Аналитика событий - Новости спорта Sport24\",\"keywords\":\"видео, новости спорта sport24\"},{\"url\":\"/video/stories\",\"title\":\"Спортивные видео-сюжеты - смотреть онлайн на Sport24.ru\",\"description\":\"Смотреть спортивные видео-сюжеты онлайн на сайте Sport24.ru! Самые актуальные новости спорта.\"},{\"url\":\"/video/broadcast\",\"title\":\"Спортивные трансляции - смотреть онлайн на Sport24.ru\",\"description\":\"Смотреть спортивные трансляции онлайн на сайте Sport24.ru! Самые актуальные новости спорта.\"},{\"url\":\"/video/highlight\",\"title\":\"Хайлайты - смотреть онлайн на Sport24.ru\",\"description\":\"Смотреть хайлайты онлайн на сайте Sport24.ru! Самые актуальные новости спорта.\"},{\"url\":\"/video/:program\",\"title\":\"Видео - Новости спорта Sport24\",\"description\":\"Видео - Аналитика событий - Новости спорта Sport24\",\"keywords\":\"видео, новости спорта sport24\"},{\"url\":\"/audio(/:sport)\",\"title\":\"Слушать спортивные подкасты. Аудио-ролики о спортивных мероприятиях на Sport24.ru\",\"description\":\"Спортивные подкасты от Sport24. Свежие спортивные новости - Аналитика, интервью, фото, видео, статистика, блоги - Новости спорта Sport24\",\"keywords\":\"аудио, новости спорта sport24\"},{\"url\":\"/tv\",\"title\":\"Программа передач. Спорт на ТВ - телепрограмма\",\"description\":\"Телеканалы Матч ТВ, Наш спорт, Боец, Арена, Наш футбол, Матч Премьер - расписание трансляций. Календарь спортивных программ на телевидении\",\"keywords\":\"тв, новости спорта sport24\"},{\"url\":\"/tv/:program/:urn\",\"title\":\"Анонс трансляции. Спорт на ТВ - телепрограмма\",\"description\":\"Телеканалы Матч ТВ, Наш спорт, Боец, Арена, Наш футбол, Матч Премьер - анонс трансляции. Описание\",\"keywords\":\"аудио, новости спорта sport24\"},{\"url\":\"/news/:sport/:urn\",\"title\":\"{title} - {date} - Sport24\",\"ogTitle\":\"{title}\",\"description\":\"{description}\",\"keywords\":\"{title}, {date}, новости спорта sport24\"},{\"url\":\"/live/:sport/:urn\",\"title\":\"{title} - {date} - Live-трансляция - Sport24\",\"description\":\"{title} - онлайн, трансляция, live - Sport24\",\"keywords\":\"{title}, {date}, онлайн, трансляция, live, новости спорта sport24\"},{\"url\":\"/other\",\"title\":\"Новости других видов спорта на сегодня, результаты, рейтинг и новости чемпионатов - Sport24\",\"description\":\"Последние новости других видов спорта - новости на сегодня. Результаты чемпионатов. Всё о других видах спорта - sport24.ru.\",\"keywords\":\"новости спорта sport24\",\"newsTitle\":\"Новости других видов спорта\"},{\"url\":\"/other/biathlon\",\"title\":\"Новости биатлона на сегодня, результаты, рейтинг и новости биатлонных чемпионатов - Sport24\",\"description\":\"Последние новости биатлона - новости на сегодня. Результаты чемпионатов. Всё о биатлоне - sport24.ru.\",\"keywords\":\"биатлон, новости спорта sport24\",\"newsTitle\":\"Новости биатлона\"},{\"url\":\"/other/athletics\",\"title\":\"Новости легкой атлетики на сегодня, результаты, рейтинг и новости легкоатлетических чемпионатов - Sport24\",\"description\":\"Последние новости легкой атлетики - новости на сегодня. Результаты чемпионатов. Всё о легкой атлетике - sport24.ru.\",\"keywords\":\"легкая атлетика, новости спорта sport24\",\"newsTitle\":\"Новости легкой атлетики\"},{\"url\":\"/other/olympics-2018\",\"title\":\"Новости Олимпиады 2018 на сегодня, результаты, рейтинг и новости Олимпийских игр - Sport24\",\"description\":\"Последние новости Олимпиады - новости на сегодня. Результаты чемпионатов. Всё об Олимпиаде - sport24.ru.\",\"keywords\":\"Олимпиада, олимпийские игры, новости спорта sport24\",\"newsTitle\":\"Новости Олимпиады\"},{\"url\":\"/other/rugby\",\"title\":\"Новости регби на сегодня, результаты, рейтинг и новости чемпионатов по регби - Sport24\",\"description\":\"Последние новости регби - новости на сегодня. Результаты чемпионатов. Всё о  регби - sport24.ru.\",\"keywords\":\"регби, новости спорта sport24\",\"newsTitle\":\"Новости регби\"},{\"url\":\"/rugby\",\"title\":\"Новости регби на сегодня, результаты, рейтинг и новости чемпионатов по регби - sport24\",\"description\":\"Последние новости регби - новости на сегодня. Результаты чемпионатов. Всё о  регби - sport24.ru.\",\"keywords\":\"регби, новости спорта sport24\",\"newsTitle\":\"Новости регби\"},{\"url\":\"/golf\",\"title\":\"Новости гольфа на сегодня, результаты, рейтинг и новости чемпионатов по гольфу - Sport24\",\"description\":\"Последние новости гольфа - новости на сегодня. Результаты чемпионатов. Всё о  гольфе - sport24.ru.\",\"keywords\":\"гольф, новости спорта sport24\",\"newsTitle\":\"Новости гольфа\"},{\"url\":\"/tennis\",\"title\":\"Новости тенниса на сегодня, результаты, рейтинг и новости чемпионатов по теннису - Sport24\",\"description\":\"Последние новости тенниса - новости на сегодня. Результаты чемпионатов. Всё о теннисе - sport24.ru.\",\"keywords\":\"теннис, новости спорта sport24\",\"newsTitle\":\"Новости тенниса\"},{\"url\":\"/figureskating\",\"title\":\"Новости фигурного катания на сегодня, результаты, рейтинг и новости чемпионатов по фигурному катанию - Sport24\",\"description\":\"Последние новости фигурного катания - новости на сегодня. Результаты чемпионатов. Всё о фигурном катании - sport24.ru.\",\"keywords\":\"фигурное катание, новости спорта sport24\",\"newsTitle\":\"Новости фигурного катания\"},{\"url\":\"/other/developers\",\"title\":\"Новости разработки портала Sport24\",\"description\":\"Последние новости разработки - Sport24.ru\",\"keywords\":\"разработка, новости спорта sport24\",\"newsTitle\":\"Новости разработки\"},{\"url\":\"/user/*\",\"title\":\"Профиль пользователя Sport24.ru\",\"description\":\"Пользователський профиль на Sport24.ru\",\"keywords\":\"профиль, пользователь, новости спорта sport24\",\"newsTitle\":\"Профиль пользователя\"},{\"url\":\"/articles/:sport\",\"title\":\"{sport}: Статьи - Новости, результаты матчей, турнирная таблица, ставки - Новости спорта Sport24\",\"description\":\"{sport} - Статьи - Свежие новости - Результаты матчей, турнирная таблица - Ставки на спорт - Новости спорта Sport24\",\"keywords\":\"{sport}, Статьи, новости, ставки, турнирная таблица, результаты матчей, новости спорта sport24\"},{\"url\":\"/mobile-news/:sport\",\"description\":\"{sport} - Свежие новости - Результаты матчей, турнирная таблица - Ставки на спорт - Новости спорта Sport24\",\"keywords\":\"{sport}, новости, ставки, турнирная таблица, результаты матчей, новости спорта sport24\",\"title\":\"{sport} - Новости, результаты матчей, турнирная таблица, ставки - Новости спорта Sport24\"},{\"url\":\"/mobile-news/:sport/*\",\"description\":\"{sport} :{tournament} - Свежие новости - Результаты матчей, турнирная таблица - Ставки на спорт - Новости спорта Sport24\",\"keywords\":\"{sport}, {tournament}, новости, ставки, турнирная таблица, результаты матчей, новости спорта sport24\",\"title\":\"{sport}: {tournament} - Новости, результаты матчей, турнирная таблица, ставки - Новости спорта Sport24\"},{\"url\":\"/leagues/:league/match/:match\",\"title\":\"{home} - {away} матч {date} - Результаты, счет матча, {tournament} 2019-2020 - Новости спорта Sport24\",\"description\":\"Матч {home} - {away} {date} - Результаты и статистика - Составы команд - Новости спорта Sport24\",\"keywords\":\"матч {home} - {away} {date}, {sport}, результаты, статистика, новости спорта sport24\"},{\"url\":\"/leagues/:league/match/:match/roster\",\"title\":\"Состав команд {home} - {away} на матч {date} - {tournament} 2019-2020 - Новости спорта Sport24\",\"description\":\"Составы команд на матче {home} - {away} {date} - кто играет - читайте на Sport24.ru\",\"keywords\":\"матч {home} - {away} {date}, {sport}, результаты, статистика, новости спорта sport24\"},{\"url\":\"/leagues/:league/match/:match/materials\",\"title\":\"Последние новости матча {home} - {away} {date} - {tournament} 2019-2020 - Новости спорта Sport24\",\"description\":\"Все материалы о матче {home} - {away} {date} - читайте последние новости на Sport24.ru\",\"keywords\":\"матч {home} - {away} {date}, {sport}, результаты, статистика, новости спорта sport24\"},{\"url\":\"/leagues/:league/match/:match/broadcast\",\"title\":\"Смотреть матч онлайн {home} - {away} {date} - прямая текстовая трансляция матча {tournament} 2019-2020 - Новости спорта Sport24\",\"description\":\"Смотреть матч онлайн {home} - {away} {date} - на Sport24\",\"keywords\":\"матч {home} - {away} {date}, {sport}, результаты, статистика, новости спорта sport24\"},{\"url\":\"/leagues/:league/match/:match/text-online\",\"title\":\"Текстовая трансляция матча {home} - {away} {date} - читать онлайн на Sport24.ru\",\"description\":\"Полная текстовая трансляция матча {home} - {away} {date} - {tournament} 2019-2020 - читать онлайн на Sport24.ru\"},{\"url\":\"/leagues/:league/match/:match/statistics\",\"title\":\"Статистика матча {home} - {away} {date} - {tournament} 2019-2020 - Новости спорта Sport24\",\"description\":\"Матч {home} - {away} {date} - Результаты и статистика - Составы команд - Новости спорта Sport24\",\"keywords\":\"матч {home} - {away} {date}, {sport}, результаты, статистика, новости спорта sport24\"},{\"url\":\"/policy\"},{\"url\":\"/oferta-complete\"},{\"url\":\"/agreement\"},{\"url\":\"/matches\",\"title\":\"Расписание матчей - Вчера, Сегодня, Завтра - на Sport24\",\"description\":\"Расписание матчей - Вчера, Сегодня, Завтра - читайте на Sport24\"},{\"url\":\"/matches/*\"},{\"url\":\"/:sport\",\"title\":\"{sport} - Новости, фото, видео, статистика, таблицы, трансферы, онлайн - Sport24\",\"description\":\"{sport} - Новости, фото, видео, статистика, трансферы, онлайн - Новости спорта Sport24\",\"keywords\":\"{sport}, новости, сегодня, новости спорта sport24\"}]}')</script>\n",
       "<script>window.__model__ = JSON.parse('{\"meta\":{\"image\":\"/m/0f89/f396/fce6/4228/7f86/805a/8247/dfa7/1200_630.png\",\"metaTitle\":\"Коронавирус в Ростове и Ростовской области: новости на сегодня 7 мая, статистика заболевших на карте, динамика новых случаев заболевания\",\"description\":\"Последние новости о COVID-19 в Ростове и Ростовской области за 7 мая. Общее число зараженных - 1 514. Количество новых случаев - 80. Количество умерших - 12. Выздоровело - 195. Подробная статистика о коронавирусе на графиках.\",\"vkImage\":\"/m/710a/781b/a39a/3636/c7f7/428a/ba30/4971/537_240.png\",\"title\":\"Коронавирус в Ростове 7 мая: последние новости и статистика заболевших\"},\"etag\":\"1064186268\",\"list\":[{\"id\":\"0c59ee48-0ca2-42b5-8df1-d58eaae59a0b\",\"title\":\"Коронавирус в Ростове 7 мая: последние новости и статистика заболевших\",\"type\":\"news\",\"urn\":\"2020-05-07-koronavirus-v-rostove-i-rostovskoy-oblasti-novosti-na-segodnya-7-maya-statistika-zabolevshikh-na-karte-dinamika-novykh-sluchayev-zabolevaniya\",\"publishDate\":1588842780000,\"leadAnnouncement\":[],\"sport\":{\"id\":\"b1f18b05-6072-4a68-aedd-2cd6b31e8fbc\",\"title\":\"ЗОЖ\",\"name\":\"ЗОЖ\",\"urn\":\"zozh\",\"color\":\"#56CAE5\",\"sportImage\":\"/m/d3e2/0708/e3fc/b45b/1459/4e61/6198/e19a/1280_640_max.jpeg\",\"mobileBackground\":\"/m/f03a/acd5/9548/b645/a3fa/3723/ba5a/9fcf/400_400_max.png\"},\"competition\":null,\"author\":{\"firstName\":\"Редакция\",\"lastName\":\"Sport24\",\"image\":\"/m/f77b/7fd8/0867/a432/bae7/dbf6/5da1/44c1/1100_10000_max.jpeg\",\"birthday\":null,\"instagramLink\":null,\"twitterLink\":null,\"id\":\"86ed37a1-bd11-4a4e-bcc2-380f10dba84a\"},\"previewImage\":null,\"withVideo\":false,\"withAudio\":false,\"withGallery\":false,\"hideLive\":false,\"top\":false,\"withTest\":false,\"label\":null,\"commentsCount\":0,\"link\":null,\"status\":null,\"data\":null,\"videoImage\":null,\"meta\":{},\"topRightCornerCaption\":null,\"tags\":[{\"id\":\"1eb1b2d3-ca24-4aae-a327-057c44302ef6\",\"title\":\"Коронавирус (COVID-19)\",\"urn\":\"koronavirus\",\"type\":\"simple\"}],\"voiceOver\":null,\"readAlsoBlock\":null,\"hotNewsRenderCache\":false,\"content\":[[\"p\",[[\"Последние новости о&nbsp;COVID-19 в&nbsp;Ростове и&nbsp;Ростовской области за&nbsp;7&nbsp;мая. Общее число зараженных&nbsp;— 1 514. Количество новых случаев&nbsp;— 80. Количество умерших&nbsp;— 12. Выздоровело&nbsp;— 195. Подробная статистика о&nbsp;коронавирусе на&nbsp;графиках.\"]],{}],[\"p\",[[\"Что касается статистики по&nbsp;всей России, то&nbsp;было зафиксировано в&nbsp;общей сложности 177 160 случаев заболевания коронавирусом. 23 803 человек уже выздоровели. Официально зарегистрировано 1 625 летальных исходов.\"]],{}],[\"h2\",[[\"strong\",[[\"Новости коронавируса за&nbsp;7&nbsp;мая\"]],{}]],{\"id\":\"a7\"}],[\"p\",[[\"iframe\",[],{\"url\":\"https://vk.com/video_ext.php?oid=-134705837&id=456241966&hash=5734d99c3795003a\",\"description\":\"description\"}]],{\"class\":\"iframe\"}],[\"p\",[[\"По&nbsp;данным Worldometers, коронавирус распространился уже на&nbsp;212 стран и&nbsp;территорий. В&nbsp;общей сложности было зафиксировано 3 834 300 случаев заболевания коронавирусом. Умерли 265 244 человека, выздоровели&nbsp;— 1 306 533.\"]],{}],[\"p\",[[\"Наибольшее количество случаев коронавируса было зафиксировано в&nbsp;США (1 263 224), Испании (253 682), Италии (214 457), Великобритании (201 101), России (177 160), Франции (174 191), Германии (168 162), Турции (131 744), Бразилии (126 611), Иране (101 650) и&nbsp;Китае (82 885).\"]],{}],[\"p\",[[\"Наибольшее количество смертей от&nbsp;коронавируса было зафиксировано в&nbsp;США&nbsp;— 74 809. На&nbsp;втором месте по&nbsp;этому показателю Великобритания (30 076). За&nbsp;ними следуют Италия (29 684), Испания (25 857), Франция (25 809), Бразилия (8 588), Бельгия (8 339), Германия (7 275), Иран (6 418), Нидерланды (5 204) и&nbsp;Китай (4 633).\"]],{}],[\"p\",[[\"Ознакомиться с&nbsp;подробной статистикой заболевших, умерших и&nbsp;вылечившихся по&nbsp;странам можно на&nbsp;Sport24 \"],[\"a\",[[\"по&nbsp;данной ссылке\"]],{\"href\":\"https://sport24.ru/news/zozh/2020-05-07-koronavirus-na-7-maya-statistika-v-mire-onlayn-rossiya-karta-na-segodnya\"}],[\".\"]],{}],[\"p\",[[\"Последние новости о&nbsp;коронавирусе и&nbsp;его влиянии на&nbsp;спорт \"],[\"a\",[[\"читайте в&nbsp;специальном разделе Sport24\"]],{\"href\":\"https://sport24.ru/tags/koronavirus\"}],[\".\"]],{}],[\"p\",[[\"news\",[],{\"newsList\":[{\"urn\":\"2020-04-16-feyki-o-koronaviruse-covid-19---pravda-ili-mif-test-sport24\",\"type\":\"article\",\"image\":\"99e1/0e39/396e/fbbf/fecf/4101/ee59/d146/1600_900.jpeg\",\"title\":\"Тест про коронавирус: правда или фейк? Пророчество Ванги, лечение трактором, бетонные саркофаги\",\"sportUrn\":\"zozh\"}]}]],{}],[\"p\",[[\"strong\",[[\"Подписывайтесь на&nbsp;\"],[\"a\",[[\"канал Sport24 в&nbsp;Яндекс.Дзене\"]],{\"href\":\"https://zen.yandex.ru/sport24.ru\"}]],{}]],{}]]}]}')</script></body></html>"
      ]
     },
     "execution_count": 91,
     "metadata": {},
     "output_type": "execute_result"
    }
   ],
   "source": [
    "soup"
   ]
  },
  {
   "cell_type": "code",
   "execution_count": null,
   "metadata": {},
   "outputs": [],
   "source": []
  },
  {
   "cell_type": "code",
   "execution_count": null,
   "metadata": {},
   "outputs": [],
   "source": []
  },
  {
   "cell_type": "markdown",
   "metadata": {},
   "source": [
    "## Sports.ru"
   ]
  },
  {
   "cell_type": "code",
   "execution_count": 101,
   "metadata": {},
   "outputs": [],
   "source": [
    "link = 'https://www.sports.ru/stat/news/2019/4/08.html'\n",
    "r = requests.get(link)\n",
    "soup = BS(r.text)"
   ]
  },
  {
   "cell_type": "code",
   "execution_count": 103,
   "metadata": {},
   "outputs": [
    {
     "data": {
      "text/plain": [
       "['https://www.sports.ru/hockey/1073458057.html',\n",
       " 'https://www.sports.ru/football/1073458118.html',\n",
       " 'https://www.sports.ru/hockey/1073458267.html',\n",
       " 'https://www.sports.ru/football/1073458296.html',\n",
       " 'https://www.sports.ru/hockey/1073458432.html',\n",
       " 'https://www.sports.ru/football/1073458475.html',\n",
       " 'https://www.sports.ru/football/1073445641.html',\n",
       " 'https://www.sports.ru/football/1073458658.html',\n",
       " 'https://www.sports.ru/hockey/1073458620.html',\n",
       " 'https://www.sports.ru/football/1073458679.html',\n",
       " 'https://www.sports.ru/football/1073459666.html',\n",
       " 'https://www.sports.ru/football/1073459724.html',\n",
       " 'https://www.sports.ru/football/1073459752.html',\n",
       " 'https://www.sports.ru/football/1073459811.html',\n",
       " 'https://www.sports.ru/football/1073459917.html',\n",
       " 'https://www.sports.ru/football/1073459992.html',\n",
       " 'https://www.sports.ru/football/1073460078.html',\n",
       " 'https://www.sports.ru/hockey/1073460137.html',\n",
       " 'https://www.sports.ru/hockey/1073460189.html',\n",
       " 'https://www.sports.ru/hockey/1073460253.html',\n",
       " 'https://www.sports.ru/hockey/1073460338.html',\n",
       " 'https://www.sports.ru/hockey/1073460398.html',\n",
       " 'https://www.sports.ru/football/1073460538.html',\n",
       " 'https://www.sports.ru/basketball/1073460597.html',\n",
       " 'https://www.sports.ru/automoto/1073460551.html',\n",
       " 'https://www.sports.ru/basketball/1073460673.html',\n",
       " 'https://www.sports.ru/football/1073460674.html',\n",
       " 'https://www.sports.ru/basketball/1073460712.html',\n",
       " 'https://www.sports.ru/basketball/1073460777.html',\n",
       " 'https://www.sports.ru/football/1073460795.html',\n",
       " 'https://www.sports.ru/basketball/1073460933.html',\n",
       " 'https://www.sports.ru/football/1073460930.html',\n",
       " 'https://www.sports.ru/tennis/1073435295.html',\n",
       " 'https://www.sports.ru/basketball/1073460952.html',\n",
       " 'https://www.sports.ru/football/1073461076.html',\n",
       " 'https://www.sports.ru/basketball/1073461109.html',\n",
       " 'https://www.sports.ru/basketball/1073461173.html',\n",
       " 'https://www.sports.ru/basketball/1073461339.html',\n",
       " 'https://www.sports.ru/football/1073461324.html',\n",
       " 'https://www.sports.ru/basketball/1073461416.html',\n",
       " 'https://www.sports.ru/tennis/1073461447.html',\n",
       " 'https://www.sports.ru/football/1073461484.html',\n",
       " 'https://www.sports.ru/basketball/1073461499.html',\n",
       " 'https://www.sports.ru/tennis/1073461568.html',\n",
       " 'https://www.sports.ru/basketball/1073461616.html',\n",
       " 'https://www.sports.ru/tennis/1073461663.html',\n",
       " 'https://www.sports.ru/tennis/1073461778.html',\n",
       " 'https://www.sports.ru/basketball/1073461709.html',\n",
       " 'https://www.sports.ru/tennis/1073461864.html',\n",
       " 'https://www.sports.ru/football/1073461940.html',\n",
       " 'https://www.sports.ru/basketball/1073461936.html',\n",
       " 'https://www.sports.ru/football/1073458401.html',\n",
       " 'https://www.sports.ru/tennis/1073462062.html',\n",
       " 'https://www.sports.ru/automoto/1073462215.html',\n",
       " 'https://www.sports.ru/football/1073462322.html',\n",
       " 'https://www.sports.ru/tennis/1073462170.html',\n",
       " 'https://www.sports.ru/automoto/1073462448.html',\n",
       " 'https://www.sports.ru/football/1073462473.html',\n",
       " 'https://www.sports.ru/boxing/1073462649.html',\n",
       " 'https://www.sports.ru/football/1073462723.html',\n",
       " 'https://www.sports.ru/football/1073459860.html',\n",
       " 'https://www.sports.ru/basketball/1073462774.html',\n",
       " 'https://www.sports.ru/football/1073462904.html',\n",
       " 'https://www.sports.ru/basketball/1073462888.html',\n",
       " 'https://www.sports.ru/football/1073462958.html',\n",
       " 'https://www.sports.ru/football/1073463161.html',\n",
       " 'https://www.sports.ru/boxing/1073462907.html',\n",
       " 'https://www.sports.ru/basketball/1073463133.html',\n",
       " 'https://www.sports.ru/football/1073463201.html',\n",
       " 'https://www.sports.ru/football/1073463468.html',\n",
       " 'https://www.sports.ru/football/1073463427.html',\n",
       " 'https://www.sports.ru/automoto/1073463419.html',\n",
       " 'https://www.sports.ru/tennis/1073463528.html',\n",
       " 'https://www.sports.ru/basketball/1073463613.html',\n",
       " 'https://www.sports.ru/figure-skating/1073444676.html',\n",
       " 'https://www.sports.ru/basketball/1073463802.html',\n",
       " 'https://www.sports.ru/football/1073463835.html',\n",
       " 'https://www.sports.ru/others/aquatics/1073463797.html',\n",
       " 'https://www.sports.ru/football/1073464075.html',\n",
       " 'https://www.sports.ru/others/skiing/1073464127.html',\n",
       " 'https://www.sports.ru/basketball/1073464250.html',\n",
       " 'https://www.sports.ru/automoto/1073464207.html',\n",
       " 'https://www.sports.ru/football/1073464407.html',\n",
       " 'https://www.sports.ru/basketball/1073464379.html',\n",
       " 'https://www.sports.ru/basketball/1073464569.html',\n",
       " 'https://www.sports.ru/football/1073463708.html',\n",
       " 'https://www.sports.ru/others/curling/1073436814.html',\n",
       " 'https://www.sports.ru/football/1073463037.html',\n",
       " 'https://www.sports.ru/basketball/1073465057.html',\n",
       " 'https://www.sports.ru/basketball/1073465218.html',\n",
       " 'https://www.sports.ru/football/1073465255.html',\n",
       " 'https://www.sports.ru/basketball/1073465348.html',\n",
       " 'https://www.sports.ru/automoto/1073465490.html',\n",
       " 'https://www.sports.ru/others/skiing/1073465484.html',\n",
       " 'https://www.sports.ru/football/1073465612.html',\n",
       " 'https://www.sports.ru/basketball/1073465572.html',\n",
       " 'https://www.sports.ru/basketball/1073465707.html',\n",
       " 'https://www.sports.ru/football/1073465939.html',\n",
       " 'https://www.sports.ru/others/skiing/1073465767.html',\n",
       " 'https://www.sports.ru/basketball/1073465919.html',\n",
       " 'https://www.sports.ru/automoto/1073465954.html',\n",
       " 'https://www.sports.ru/basketball/1073464866.html',\n",
       " 'https://www.sports.ru/football/1073466106.html',\n",
       " 'https://www.sports.ru/others/skiing/1073466059.html',\n",
       " 'https://www.sports.ru/hockey/1073465913.html',\n",
       " 'https://www.sports.ru/basketball/1073466308.html',\n",
       " 'https://www.sports.ru/hockey/1073466234.html',\n",
       " 'https://www.sports.ru/football/1073462589.html',\n",
       " 'https://www.sports.ru/basketball/1073465368.html',\n",
       " 'https://www.sports.ru/hockey/1073466374.html',\n",
       " 'https://www.sports.ru/figure-skating/1073466582.html',\n",
       " 'https://www.sports.ru/football/1073466815.html',\n",
       " 'https://www.sports.ru/hockey/1073466671.html',\n",
       " 'https://www.sports.ru/basketball/1073466768.html',\n",
       " 'https://www.sports.ru/football/1073467161.html',\n",
       " 'https://www.sports.ru/basketball/1073467089.html',\n",
       " 'https://www.sports.ru/hockey/1073466840.html',\n",
       " 'https://www.sports.ru/automoto/1073467000.html',\n",
       " 'https://www.sports.ru/tennis/1073467229.html',\n",
       " 'https://www.sports.ru/basketball/1073467332.html',\n",
       " 'https://www.sports.ru/football/1073467517.html',\n",
       " 'https://www.sports.ru/hockey/1073467291.html',\n",
       " 'https://www.sports.ru/figure-skating/1073467209.html',\n",
       " 'https://www.sports.ru/football/1073467878.html',\n",
       " 'https://www.sports.ru/hockey/1073466205.html',\n",
       " 'https://www.sports.ru/automoto/1073467843.html',\n",
       " 'https://www.sports.ru/football/1073468090.html',\n",
       " 'https://www.sports.ru/figure-skating/1073468042.html',\n",
       " 'https://www.sports.ru/football/1073468337.html',\n",
       " 'https://www.sports.ru/automoto/1073468351.html',\n",
       " 'https://www.sports.ru/hockey/1073467925.html',\n",
       " 'https://www.sports.ru/boxing/1073468786.html',\n",
       " 'https://www.sports.ru/figure-skating/1073468435.html',\n",
       " 'https://www.sports.ru/hockey/1073467916.html',\n",
       " 'https://www.sports.ru/football/1073468765.html',\n",
       " 'https://www.sports.ru/automoto/1073468757.html',\n",
       " 'https://www.sports.ru/football/1073468914.html',\n",
       " 'https://www.sports.ru/tennis/1073435579.html',\n",
       " 'https://www.sports.ru/hockey/1073468804.html',\n",
       " 'https://www.sports.ru/automoto/1073469130.html',\n",
       " 'https://www.sports.ru/football/1073469358.html',\n",
       " 'https://www.sports.ru/hockey/1073469126.html',\n",
       " 'https://www.sports.ru/hockey/1073469430.html',\n",
       " 'https://www.sports.ru/automoto/1073469451.html',\n",
       " 'https://www.sports.ru/football/1073469705.html',\n",
       " 'https://www.sports.ru/tennis/1073469688.html',\n",
       " 'https://www.sports.ru/boxing/1073469895.html',\n",
       " 'https://www.sports.ru/boxing/1073469668.html',\n",
       " 'https://www.sports.ru/basketball/1073469879.html',\n",
       " 'https://www.sports.ru/basketball/1073469943.html',\n",
       " 'https://www.sports.ru/football/1073469956.html',\n",
       " 'https://www.sports.ru/hockey/1073469687.html',\n",
       " 'https://www.sports.ru/basketball/1073470073.html',\n",
       " 'https://www.sports.ru/hockey/1073469584.html',\n",
       " 'https://www.sports.ru/automoto/1073470188.html',\n",
       " 'https://www.sports.ru/football/1073470428.html',\n",
       " 'https://www.sports.ru/basketball/1073470382.html',\n",
       " 'https://www.sports.ru/hockey/1073470144.html',\n",
       " 'https://www.sports.ru/others/athletics/1073470392.html',\n",
       " 'https://www.sports.ru/football/1073470780.html',\n",
       " 'https://www.sports.ru/basketball/1073470314.html',\n",
       " 'https://www.sports.ru/hockey/1073470528.html',\n",
       " 'https://www.sports.ru/football/1073471062.html',\n",
       " 'https://www.sports.ru/hockey/1073470861.html',\n",
       " 'https://www.sports.ru/biathlon/1073471006.html',\n",
       " 'https://www.sports.ru/basketball/1073471211.html',\n",
       " 'https://www.sports.ru/hockey/1073471054.html',\n",
       " 'https://www.sports.ru/football/1073470836.html',\n",
       " 'https://www.sports.ru/basketball/1073471323.html',\n",
       " 'https://www.sports.ru/basketball/1073471411.html',\n",
       " 'https://www.sports.ru/basketball/1073471545.html',\n",
       " 'https://www.sports.ru/football/1073471152.html',\n",
       " 'https://www.sports.ru/hockey/1073471270.html',\n",
       " 'https://www.sports.ru/football/1073471761.html',\n",
       " 'https://www.sports.ru/hockey/1073471710.html',\n",
       " 'https://www.sports.ru/others/skiing/1073471905.html',\n",
       " 'https://www.sports.ru/football/1073470685.html',\n",
       " 'https://www.sports.ru/hockey/1073472138.html',\n",
       " 'https://www.sports.ru/basketball/1073472278.html',\n",
       " 'https://www.sports.ru/hockey/1073472421.html',\n",
       " 'https://www.sports.ru/football/1073472397.html',\n",
       " 'https://www.sports.ru/hockey/1073472940.html',\n",
       " 'https://www.sports.ru/football/1073473078.html',\n",
       " 'https://www.sports.ru/automoto/1073472990.html',\n",
       " 'https://www.sports.ru/boxing/1073472124.html',\n",
       " 'https://www.sports.ru/hockey/1073473049.html',\n",
       " 'https://www.sports.ru/basketball/1073473212.html',\n",
       " 'https://www.sports.ru/football/1073473151.html',\n",
       " 'https://www.sports.ru/football/1073473302.html',\n",
       " 'https://www.sports.ru/hockey/1073473403.html',\n",
       " 'https://www.sports.ru/basketball/1073473475.html',\n",
       " 'https://www.sports.ru/bet/1073473508.html',\n",
       " 'https://www.sports.ru/football/1073473820.html',\n",
       " 'https://www.sports.ru/hockey/1073473651.html',\n",
       " 'https://www.sports.ru/football/1073474019.html',\n",
       " 'https://www.sports.ru/basketball/1073473794.html',\n",
       " 'https://www.sports.ru/football/1073474161.html',\n",
       " 'https://www.sports.ru/basketball/1073474137.html',\n",
       " 'https://www.sports.ru/football/1073474382.html',\n",
       " 'https://www.sports.ru/hockey/1073474450.html',\n",
       " 'https://www.sports.ru/basketball/1073474304.html',\n",
       " 'https://www.sports.ru/basketball/1073474470.html',\n",
       " 'https://www.sports.ru/basketball/1073474592.html',\n",
       " 'https://www.sports.ru/hockey/1073474787.html',\n",
       " 'https://www.sports.ru/football/1073475041.html',\n",
       " 'https://www.sports.ru/football/1073474897.html',\n",
       " 'https://www.sports.ru/hockey/1073475118.html',\n",
       " 'https://www.sports.ru/others/skiing/1073474890.html',\n",
       " 'https://www.sports.ru/basketball/1073475293.html',\n",
       " 'https://www.sports.ru/football/1073475376.html',\n",
       " 'https://www.sports.ru/hockey/1073475632.html',\n",
       " 'https://www.sports.ru/others/heavyathletics/1073475400.html',\n",
       " 'https://www.sports.ru/football/1073475688.html',\n",
       " 'https://www.sports.ru/basketball/1073475570.html',\n",
       " 'https://www.sports.ru/football/1073475982.html',\n",
       " 'https://www.sports.ru/basketball/1073475917.html',\n",
       " 'https://www.sports.ru/hockey/1073476280.html',\n",
       " 'https://www.sports.ru/tennis/1073476097.html',\n",
       " 'https://www.sports.ru/basketball/1073476194.html',\n",
       " 'https://www.sports.ru/others/cycle-racing/1073475743.html',\n",
       " 'https://www.sports.ru/football/1073476353.html',\n",
       " 'https://www.sports.ru/others/chess/1073457748.html',\n",
       " 'https://www.sports.ru/football/1073476695.html',\n",
       " 'https://www.sports.ru/hockey/1073476720.html',\n",
       " 'https://www.sports.ru/football/1073472875.html',\n",
       " 'https://www.sports.ru/automoto/1073477070.html',\n",
       " 'https://www.sports.ru/basketball/1073477255.html',\n",
       " 'https://www.sports.ru/football/1073477667.html',\n",
       " 'https://www.sports.ru/hockey/1073477404.html',\n",
       " 'https://www.sports.ru/hockey/1073477606.html',\n",
       " 'https://www.sports.ru/basketball/1073477714.html',\n",
       " 'https://www.sports.ru/hockey/1073477993.html',\n",
       " 'https://www.sports.ru/football/1073478355.html',\n",
       " 'https://www.sports.ru/boxing/1073478272.html',\n",
       " 'https://www.sports.ru/hockey/1073478218.html',\n",
       " 'https://www.sports.ru/boxing/1073478689.html',\n",
       " 'https://www.sports.ru/football/1073478845.html',\n",
       " 'https://www.sports.ru/others/skiing/1073473917.html',\n",
       " 'https://www.sports.ru/hockey/1073478411.html',\n",
       " 'https://www.sports.ru/basketball/1073478860.html',\n",
       " 'https://www.sports.ru/others/skiing/1073478562.html',\n",
       " 'https://www.sports.ru/football/1073473367.html',\n",
       " 'https://www.sports.ru/hockey/1073478927.html',\n",
       " 'https://www.sports.ru/basketball/1073479062.html',\n",
       " 'https://www.sports.ru/basketball/1073479183.html',\n",
       " 'https://www.sports.ru/hockey/1073479090.html',\n",
       " 'https://www.sports.ru/basketball/1073479304.html',\n",
       " 'https://www.sports.ru/football/1073479589.html',\n",
       " 'https://www.sports.ru/others/skiing/1073479195.html',\n",
       " 'https://www.sports.ru/football/1073479711.html',\n",
       " 'https://www.sports.ru/hockey/1073479256.html',\n",
       " 'https://www.sports.ru/football/1073479866.html',\n",
       " 'https://www.sports.ru/basketball/1073479863.html',\n",
       " 'https://www.sports.ru/hockey/1073480092.html',\n",
       " 'https://www.sports.ru/basketball/1073476949.html',\n",
       " 'https://www.sports.ru/others/skiing/1073479840.html',\n",
       " 'https://www.sports.ru/football/1073480165.html',\n",
       " 'https://www.sports.ru/hockey/1073480276.html',\n",
       " 'https://www.sports.ru/basketball/1073480224.html',\n",
       " 'https://www.sports.ru/football/1073480259.html',\n",
       " 'https://www.sports.ru/basketball/1073480366.html',\n",
       " 'https://www.sports.ru/hockey/1073480391.html',\n",
       " 'https://www.sports.ru/football/1073480433.html',\n",
       " 'https://www.sports.ru/hockey/1073480811.html',\n",
       " 'https://www.sports.ru/basketball/1073480679.html',\n",
       " 'https://www.sports.ru/hockey/1073480987.html',\n",
       " 'https://www.sports.ru/football/1073480996.html',\n",
       " 'https://www.sports.ru/basketball/1073481084.html',\n",
       " 'https://www.sports.ru/hockey/1073481325.html',\n",
       " 'https://www.sports.ru/basketball/1073481199.html',\n",
       " 'https://www.sports.ru/football/1073481222.html']"
      ]
     },
     "execution_count": 103,
     "metadata": {},
     "output_type": "execute_result"
    }
   ],
   "source": [
    "['https://www.sports.ru'+li.a['href'] for li in soup.find('ul', 'archive-list').find_all('li') if 'https:' not in li.a['href']]"
   ]
  },
  {
   "cell_type": "code",
   "execution_count": 104,
   "metadata": {
    "scrolled": true
   },
   "outputs": [
    {
     "data": {
      "application/vnd.jupyter.widget-view+json": {
       "model_id": "ee94fc760ff44ef088f235ccbe7378df",
       "version_major": 2,
       "version_minor": 0
      },
      "text/plain": [
       "HBox(children=(IntProgress(value=0, max=2), HTML(value='')))"
      ]
     },
     "metadata": {},
     "output_type": "display_data"
    },
    {
     "data": {
      "application/vnd.jupyter.widget-view+json": {
       "model_id": "aef0cfebb5204ffc9a044ddd9957ae4d",
       "version_major": 2,
       "version_minor": 0
      },
      "text/plain": [
       "HBox(children=(IntProgress(value=0, max=31), HTML(value='')))"
      ]
     },
     "metadata": {},
     "output_type": "display_data"
    },
    {
     "name": "stdout",
     "output_type": "stream",
     "text": [
      "2020.01.01 158\n",
      "2020.01.02 229\n",
      "2020.01.03 269\n",
      "2020.01.04 259\n",
      "2020.01.05 296\n",
      "2020.01.06 297\n",
      "2020.01.07 223\n",
      "2020.01.08 317\n",
      "2020.01.09 307\n",
      "2020.01.10 315\n",
      "2020.01.11 334\n",
      "2020.01.12 331\n",
      "2020.01.13 299\n",
      "2020.01.14 313\n",
      "2020.01.15 310\n",
      "2020.01.16 333\n",
      "2020.01.17 311\n",
      "2020.01.18 341\n",
      "2020.01.19 305\n",
      "2020.01.20 293\n",
      "2020.01.21 299\n",
      "2020.01.22 312\n",
      "2020.01.23 366\n",
      "2020.01.24 361\n",
      "2020.01.25 385\n",
      "2020.01.26 348\n",
      "2020.01.27 298\n",
      "2020.01.28 310\n",
      "2020.01.29 291\n",
      "2020.01.30 317\n",
      "2020.01.31 317\n",
      "\n"
     ]
    },
    {
     "data": {
      "application/vnd.jupyter.widget-view+json": {
       "model_id": "6027792a5f774b2e9cb91c0bf82e52a3",
       "version_major": 2,
       "version_minor": 0
      },
      "text/plain": [
       "HBox(children=(IntProgress(value=0, max=28), HTML(value='')))"
      ]
     },
     "metadata": {},
     "output_type": "display_data"
    },
    {
     "name": "stdout",
     "output_type": "stream",
     "text": [
      "2020.02.01 267\n",
      "2020.02.02 296\n",
      "2020.02.03 296\n",
      "2020.02.04 296\n",
      "2020.02.05 297\n",
      "2020.02.06 321\n",
      "2020.02.07 337\n",
      "2020.02.08 306\n",
      "2020.02.09 329\n",
      "2020.02.10 323\n",
      "2020.02.11 305\n",
      "2020.02.12 303\n",
      "2020.02.13 375\n",
      "2020.02.14 321\n",
      "2020.02.15 328\n",
      "2020.02.16 405\n",
      "2020.02.17 353\n",
      "2020.02.18 351\n",
      "2020.02.19 333\n",
      "2020.02.20 320\n",
      "2020.02.21 322\n",
      "2020.02.22 349\n",
      "2020.02.23 320\n",
      "2020.02.24 338\n",
      "2020.02.25 340\n",
      "2020.02.26 360\n",
      "2020.02.27 356\n",
      "2020.02.28 311\n",
      "\n",
      "\n"
     ]
    }
   ],
   "source": [
    "months = {1:31, 2:28, 3:31, 4:30, 5:31, 6:30, 7:31, 8:31, 9:30, 10:31, 11:30, 12:31}\n",
    "sports_20 = dict()\n",
    "for month in tqdm_notebook(list(months.keys())[:2]):\n",
    "    for day in tqdm_notebook(list(range(months[month]))):\n",
    "        date = f'2020/{month}/{day+1:02d}'\n",
    "#         sports_20[f'2020.{month:02d}.{day+1:02d}'] = []\n",
    "        try:\n",
    "            url = f'https://www.sports.ru/stat/news/{date}.html'\n",
    "            r = requests.get(url)\n",
    "            soup = BeautifulSoup(r.text)\n",
    "            links = ['https://www.sports.ru'+li.a['href'] for li in \n",
    "                     soup.find('ul', 'archive-list').find_all('li') if 'https:' not in li.a['href']]\n",
    "            sports_20[f'2020.{month:02d}.{day+1:02d}'] = links\n",
    "            print(f'2020.{month:02d}.{day+1:02d}', len(links))\n",
    "        except (AttributeError, IndexError):\n",
    "            print(date)\n",
    "with open('sports_links_2020.json', 'w', encoding = 'utf-8') as f:\n",
    "    json.dump(sports_20, f)"
   ]
  },
  {
   "cell_type": "code",
   "execution_count": 105,
   "metadata": {
    "scrolled": true
   },
   "outputs": [
    {
     "data": {
      "application/vnd.jupyter.widget-view+json": {
       "model_id": "51a05d4f88c2434c848516245e9cf911",
       "version_major": 2,
       "version_minor": 0
      },
      "text/plain": [
       "HBox(children=(IntProgress(value=0, max=12), HTML(value='')))"
      ]
     },
     "metadata": {},
     "output_type": "display_data"
    },
    {
     "data": {
      "application/vnd.jupyter.widget-view+json": {
       "model_id": "08d5c03496e54106bd399cdaa008e18d",
       "version_major": 2,
       "version_minor": 0
      },
      "text/plain": [
       "HBox(children=(IntProgress(value=0, max=31), HTML(value='')))"
      ]
     },
     "metadata": {},
     "output_type": "display_data"
    },
    {
     "name": "stdout",
     "output_type": "stream",
     "text": [
      "2019.01.01 146\n",
      "2019.01.02 216\n",
      "2019.01.03 209\n",
      "2019.01.04 228\n",
      "2019.01.05 260\n",
      "2019.01.06 236\n",
      "2019.01.07 216\n",
      "2019.01.08 240\n",
      "2019.01.09 310\n",
      "2019.01.10 303\n",
      "2019.01.11 341\n",
      "2019.01.12 306\n",
      "2019.01.13 334\n",
      "2019.01.14 292\n",
      "2019.01.15 289\n",
      "2019.01.16 307\n",
      "2019.01.17 325\n",
      "2019.01.18 333\n",
      "2019.01.19 280\n",
      "2019.01.20 285\n",
      "2019.01.21 314\n",
      "2019.01.22 342\n",
      "2019.01.23 268\n",
      "2019.01.24 338\n",
      "2019.01.25 338\n",
      "2019.01.26 251\n",
      "2019.01.27 298\n",
      "2019.01.28 300\n",
      "2019.01.29 283\n",
      "2019.01.30 305\n",
      "2019.01.31 318\n",
      "\n"
     ]
    },
    {
     "data": {
      "application/vnd.jupyter.widget-view+json": {
       "model_id": "0e68b06117af47b5aaa24006da3e79f2",
       "version_major": 2,
       "version_minor": 0
      },
      "text/plain": [
       "HBox(children=(IntProgress(value=0, max=28), HTML(value='')))"
      ]
     },
     "metadata": {},
     "output_type": "display_data"
    },
    {
     "name": "stdout",
     "output_type": "stream",
     "text": [
      "2019.02.01 297\n",
      "2019.02.02 281\n",
      "2019.02.03 260\n",
      "2019.02.04 278\n",
      "2019.02.05 261\n",
      "2019.02.06 344\n",
      "2019.02.07 312\n",
      "2019.02.08 330\n",
      "2019.02.09 212\n",
      "2019.02.10 242\n",
      "2019.02.11 289\n",
      "2019.02.12 284\n",
      "2019.02.13 312\n",
      "2019.02.14 321\n",
      "2019.02.15 314\n",
      "2019.02.16 221\n",
      "2019.02.17 288\n",
      "2019.02.18 281\n",
      "2019.02.19 245\n",
      "2019.02.20 317\n",
      "2019.02.21 305\n",
      "2019.02.22 302\n",
      "2019.02.23 273\n",
      "2019.02.24 250\n",
      "2019.02.25 244\n",
      "2019.02.26 277\n",
      "2019.02.27 333\n",
      "2019.02.28 319\n",
      "\n"
     ]
    },
    {
     "data": {
      "application/vnd.jupyter.widget-view+json": {
       "model_id": "aa694b5386b8488f926087a0036e0677",
       "version_major": 2,
       "version_minor": 0
      },
      "text/plain": [
       "HBox(children=(IntProgress(value=0, max=31), HTML(value='')))"
      ]
     },
     "metadata": {},
     "output_type": "display_data"
    },
    {
     "name": "stdout",
     "output_type": "stream",
     "text": [
      "2019.03.01 309\n",
      "2019.03.02 239\n",
      "2019.03.03 298\n",
      "2019.03.04 278\n",
      "2019.03.05 246\n",
      "2019.03.06 326\n",
      "2019.03.07 342\n",
      "2019.03.08 301\n",
      "2019.03.09 249\n",
      "2019.03.10 296\n",
      "2019.03.11 281\n",
      "2019.03.12 269\n",
      "2019.03.13 332\n",
      "2019.03.14 325\n",
      "2019.03.15 305\n",
      "2019.03.16 260\n",
      "2019.03.17 298\n",
      "2019.03.18 294\n",
      "2019.03.19 250\n",
      "2019.03.20 292\n",
      "2019.03.21 292\n",
      "2019.03.22 318\n",
      "2019.03.23 268\n",
      "2019.03.24 274\n",
      "2019.03.25 281\n",
      "2019.03.26 281\n",
      "2019.03.27 262\n",
      "2019.03.28 285\n",
      "2019.03.29 325\n",
      "2019.03.30 304\n",
      "2019.03.31 261\n",
      "\n"
     ]
    },
    {
     "data": {
      "application/vnd.jupyter.widget-view+json": {
       "model_id": "37cccca3302349c38cc3a4badd76b500",
       "version_major": 2,
       "version_minor": 0
      },
      "text/plain": [
       "HBox(children=(IntProgress(value=0, max=30), HTML(value='')))"
      ]
     },
     "metadata": {},
     "output_type": "display_data"
    },
    {
     "name": "stdout",
     "output_type": "stream",
     "text": [
      "2019.04.01 284\n",
      "2019.04.02 315\n",
      "2019.04.03 277\n",
      "2019.04.04 290\n",
      "2019.04.05 270\n",
      "2019.04.06 259\n",
      "2019.04.07 222\n",
      "2019.04.08 271\n",
      "2019.04.09 252\n",
      "2019.04.10 273\n",
      "2019.04.11 299\n",
      "2019.04.12 303\n",
      "2019.04.13 246\n",
      "2019.04.14 271\n",
      "2019.04.15 267\n",
      "2019.04.16 284\n",
      "2019.04.17 297\n",
      "2019.04.18 265\n",
      "2019.04.19 280\n",
      "2019.04.20 193\n",
      "2019.04.21 234\n",
      "2019.04.22 263\n",
      "2019.04.23 264\n",
      "2019.04.24 300\n",
      "2019.04.25 299\n",
      "2019.04.26 277\n",
      "2019.04.27 286\n",
      "2019.04.28 236\n",
      "2019.04.29 275\n",
      "2019.04.30 303\n",
      "\n"
     ]
    },
    {
     "data": {
      "application/vnd.jupyter.widget-view+json": {
       "model_id": "f3a14e001a0a42ffb5bba60ed74d2869",
       "version_major": 2,
       "version_minor": 0
      },
      "text/plain": [
       "HBox(children=(IntProgress(value=0, max=31), HTML(value='')))"
      ]
     },
     "metadata": {},
     "output_type": "display_data"
    },
    {
     "name": "stdout",
     "output_type": "stream",
     "text": [
      "2019.05.01 307\n",
      "2019.05.02 237\n",
      "2019.05.03 256\n",
      "2019.05.04 257\n",
      "2019.05.05 228\n",
      "2019.05.06 284\n",
      "2019.05.07 261\n",
      "2019.05.08 301\n",
      "2019.05.09 286\n",
      "2019.05.10 265\n",
      "2019.05.11 255\n",
      "2019.05.12 254\n",
      "2019.05.13 281\n",
      "2019.05.14 279\n",
      "2019.05.15 263\n",
      "2019.05.16 311\n",
      "2019.05.17 289\n",
      "2019.05.18 266\n",
      "2019.05.19 212\n",
      "2019.05.20 273\n",
      "2019.05.21 257\n",
      "2019.05.22 306\n",
      "2019.05.23 255\n",
      "2019.05.24 293\n",
      "2019.05.25 288\n",
      "2019.05.26 263\n",
      "2019.05.27 283\n",
      "2019.05.28 295\n",
      "2019.05.29 268\n",
      "2019.05.30 323\n",
      "2019.05.31 292\n",
      "\n"
     ]
    },
    {
     "data": {
      "application/vnd.jupyter.widget-view+json": {
       "model_id": "65cac0456699412fbc06b3fc8c1afa73",
       "version_major": 2,
       "version_minor": 0
      },
      "text/plain": [
       "HBox(children=(IntProgress(value=0, max=30), HTML(value='')))"
      ]
     },
     "metadata": {},
     "output_type": "display_data"
    },
    {
     "name": "stdout",
     "output_type": "stream",
     "text": [
      "2019.06.01 234\n",
      "2019.06.02 267\n",
      "2019.06.03 300\n",
      "2019.06.04 297\n",
      "2019.06.05 262\n",
      "2019.06.06 291\n",
      "2019.06.07 302\n",
      "2019.06.08 265\n",
      "2019.06.09 256\n",
      "2019.06.10 286\n",
      "2019.06.11 275\n",
      "2019.06.12 253\n",
      "2019.06.13 286\n",
      "2019.06.14 287\n",
      "2019.06.15 194\n",
      "2019.06.16 219\n",
      "2019.06.17 242\n",
      "2019.06.18 255\n",
      "2019.06.19 274\n",
      "2019.06.20 273\n",
      "2019.06.21 279\n",
      "2019.06.22 256\n",
      "2019.06.23 273\n",
      "2019.06.24 243\n",
      "2019.06.25 278\n",
      "2019.06.26 273\n",
      "2019.06.27 305\n",
      "2019.06.28 282\n",
      "2019.06.29 216\n",
      "2019.06.30 274\n",
      "\n"
     ]
    },
    {
     "data": {
      "application/vnd.jupyter.widget-view+json": {
       "model_id": "fffda03651dd4829a12dc9d326ae0205",
       "version_major": 2,
       "version_minor": 0
      },
      "text/plain": [
       "HBox(children=(IntProgress(value=0, max=31), HTML(value='')))"
      ]
     },
     "metadata": {},
     "output_type": "display_data"
    },
    {
     "name": "stdout",
     "output_type": "stream",
     "text": [
      "2019.07.01 335\n",
      "2019.07.02 322\n",
      "2019.07.03 281\n",
      "2019.07.04 328\n",
      "2019.07.05 294\n",
      "2019.07.06 241\n",
      "2019.07.07 226\n",
      "2019.07.08 300\n",
      "2019.07.09 304\n",
      "2019.07.10 269\n",
      "2019.07.11 332\n",
      "2019.07.12 277\n",
      "2019.07.13 282\n",
      "2019.07.14 293\n",
      "2019.07.15 301\n",
      "2019.07.16 320\n",
      "2019.07.17 286\n",
      "2019.07.18 318\n",
      "2019.07.19 282\n",
      "2019.07.20 261\n",
      "2019.07.21 267\n",
      "2019.07.22 332\n",
      "2019.07.23 333\n",
      "2019.07.24 275\n",
      "2019.07.25 314\n",
      "2019.07.26 327\n",
      "2019.07.27 262\n",
      "2019.07.28 262\n",
      "2019.07.29 305\n",
      "2019.07.30 342\n",
      "2019.07.31 265\n",
      "\n"
     ]
    },
    {
     "data": {
      "application/vnd.jupyter.widget-view+json": {
       "model_id": "3d85ff108cf24596869422ff3f15c60f",
       "version_major": 2,
       "version_minor": 0
      },
      "text/plain": [
       "HBox(children=(IntProgress(value=0, max=31), HTML(value='')))"
      ]
     },
     "metadata": {},
     "output_type": "display_data"
    },
    {
     "name": "stdout",
     "output_type": "stream",
     "text": [
      "2019.08.01 348\n",
      "2019.08.02 302\n",
      "2019.08.03 247\n",
      "2019.08.04 273\n",
      "2019.08.05 299\n",
      "2019.08.06 309\n",
      "2019.08.07 267\n",
      "2019.08.08 348\n",
      "2019.08.09 288\n",
      "2019.08.10 237\n",
      "2019.08.11 244\n",
      "2019.08.12 318\n",
      "2019.08.13 309\n",
      "2019.08.14 260\n",
      "2019.08.15 328\n",
      "2019.08.16 253\n",
      "2019.08.17 282\n",
      "2019.08.18 270\n",
      "2019.08.19 345\n",
      "2019.08.20 306\n",
      "2019.08.21 293\n",
      "2019.08.22 330\n",
      "2019.08.23 337\n",
      "2019.08.24 322\n",
      "2019.08.25 333\n",
      "2019.08.26 312\n",
      "2019.08.27 316\n",
      "2019.08.28 348\n",
      "2019.08.29 375\n",
      "2019.08.30 316\n",
      "2019.08.31 297\n",
      "\n"
     ]
    },
    {
     "data": {
      "application/vnd.jupyter.widget-view+json": {
       "model_id": "ea681ee3f5a04daa9980ce6243df6b07",
       "version_major": 2,
       "version_minor": 0
      },
      "text/plain": [
       "HBox(children=(IntProgress(value=0, max=30), HTML(value='')))"
      ]
     },
     "metadata": {},
     "output_type": "display_data"
    },
    {
     "name": "stdout",
     "output_type": "stream",
     "text": [
      "2019.09.01 308\n",
      "2019.09.02 333\n",
      "2019.09.03 349\n",
      "2019.09.04 320\n",
      "2019.09.05 265\n",
      "2019.09.06 291\n",
      "2019.09.07 326\n",
      "2019.09.08 319\n",
      "2019.09.09 290\n",
      "2019.09.10 313\n",
      "2019.09.11 281\n",
      "2019.09.12 323\n",
      "2019.09.13 306\n",
      "2019.09.14 279\n",
      "2019.09.15 309\n",
      "2019.09.16 298\n",
      "2019.09.17 331\n",
      "2019.09.18 296\n",
      "2019.09.19 363\n",
      "2019.09.20 351\n",
      "2019.09.21 296\n",
      "2019.09.22 311\n",
      "2019.09.23 323\n",
      "2019.09.24 334\n",
      "2019.09.25 277\n",
      "2019.09.26 308\n",
      "2019.09.27 305\n",
      "2019.09.28 306\n",
      "2019.09.29 305\n",
      "2019.09.30 349\n",
      "\n"
     ]
    },
    {
     "data": {
      "application/vnd.jupyter.widget-view+json": {
       "model_id": "ab826aed0cb5459f8213bc457aee74d6",
       "version_major": 2,
       "version_minor": 0
      },
      "text/plain": [
       "HBox(children=(IntProgress(value=0, max=31), HTML(value='')))"
      ]
     },
     "metadata": {},
     "output_type": "display_data"
    },
    {
     "name": "stdout",
     "output_type": "stream",
     "text": [
      "2019.10.01 343\n",
      "2019.10.02 308\n",
      "2019.10.03 358\n",
      "2019.10.04 305\n",
      "2019.10.05 307\n",
      "2019.10.06 326\n",
      "2019.10.07 337\n",
      "2019.10.08 313\n",
      "2019.10.09 294\n",
      "2019.10.10 324\n",
      "2019.10.11 365\n",
      "2019.10.12 306\n",
      "2019.10.13 350\n",
      "2019.10.14 344\n",
      "2019.10.15 330\n",
      "2019.10.16 309\n",
      "2019.10.17 355\n",
      "2019.10.18 300\n",
      "2019.10.19 270\n",
      "2019.10.20 350\n",
      "2019.10.21 364\n",
      "2019.10.22 326\n",
      "2019.10.23 312\n",
      "2019.10.24 353\n",
      "2019.10.25 315\n",
      "2019.10.26 315\n",
      "2019.10.27 371\n",
      "2019.10.28 327\n",
      "2019.10.29 362\n",
      "2019.10.30 304\n",
      "2019.10.31 340\n",
      "\n"
     ]
    },
    {
     "data": {
      "application/vnd.jupyter.widget-view+json": {
       "model_id": "119e3b8a429649fb9c8c1f846f53cc18",
       "version_major": 2,
       "version_minor": 0
      },
      "text/plain": [
       "HBox(children=(IntProgress(value=0, max=30), HTML(value='')))"
      ]
     },
     "metadata": {},
     "output_type": "display_data"
    },
    {
     "name": "stdout",
     "output_type": "stream",
     "text": [
      "2019.11.01 301\n",
      "2019.11.02 323\n",
      "2019.11.03 320\n",
      "2019.11.04 372\n",
      "2019.11.05 350\n",
      "2019.11.06 332\n",
      "2019.11.07 304\n",
      "2019.11.08 322\n",
      "2019.11.09 337\n",
      "2019.11.10 319\n",
      "2019.11.11 284\n",
      "2019.11.12 271\n",
      "2019.11.13 262\n",
      "2019.11.14 336\n",
      "2019.11.15 343\n",
      "2019.11.16 344\n",
      "2019.11.17 340\n",
      "2019.11.18 318\n",
      "2019.11.19 326\n",
      "2019.11.20 320\n",
      "2019.11.21 290\n",
      "2019.11.22 345\n",
      "2019.11.23 304\n",
      "2019.11.24 333\n",
      "2019.11.25 286\n",
      "2019.11.26 330\n",
      "2019.11.27 334\n",
      "2019.11.28 343\n",
      "2019.11.29 286\n",
      "2019.11.30 327\n",
      "\n"
     ]
    },
    {
     "data": {
      "application/vnd.jupyter.widget-view+json": {
       "model_id": "799cbdda9bd54bfdafd11df341281ba1",
       "version_major": 2,
       "version_minor": 0
      },
      "text/plain": [
       "HBox(children=(IntProgress(value=0, max=31), HTML(value='')))"
      ]
     },
     "metadata": {},
     "output_type": "display_data"
    },
    {
     "name": "stdout",
     "output_type": "stream",
     "text": [
      "2019.12.01 351\n",
      "2019.12.02 327\n",
      "2019.12.03 313\n",
      "2019.12.04 342\n",
      "2019.12.05 358\n",
      "2019.12.06 364\n",
      "2019.12.07 280\n",
      "2019.12.08 299\n",
      "2019.12.09 344\n",
      "2019.12.10 289\n",
      "2019.12.11 319\n",
      "2019.12.12 328\n",
      "2019.12.13 320\n",
      "2019.12.14 244\n",
      "2019.12.15 327\n",
      "2019.12.16 327\n",
      "2019.12.17 340\n",
      "2019.12.18 295\n",
      "2019.12.19 305\n",
      "2019.12.20 297\n",
      "2019.12.21 302\n",
      "2019.12.22 292\n",
      "2019.12.23 341\n",
      "2019.12.24 321\n",
      "2019.12.25 261\n",
      "2019.12.26 274\n",
      "2019.12.27 319\n",
      "2019.12.28 298\n",
      "2019.12.29 280\n",
      "2019.12.30 264\n",
      "2019.12.31 171\n",
      "\n",
      "\n"
     ]
    }
   ],
   "source": [
    "months = {1:31, 2:28, 3:31, 4:30, 5:31, 6:30, 7:31, 8:31, 9:30, 10:31, 11:30, 12:31}\n",
    "sports_19 = dict()\n",
    "for month in tqdm_notebook(list(months.keys())):\n",
    "    for day in tqdm_notebook(list(range(months[month]))):\n",
    "        date = f'2019/{month}/{day+1:02d}'\n",
    "#         sports_20[f'2020.{month:02d}.{day+1:02d}'] = []\n",
    "        try:\n",
    "            url = f'https://www.sports.ru/stat/news/{date}.html'\n",
    "            r = requests.get(url)\n",
    "            soup = BeautifulSoup(r.text)\n",
    "            links = ['https://www.sports.ru'+li.a['href'] for li in \n",
    "                     soup.find('ul', 'archive-list').find_all('li') if 'https:' not in li.a['href']]\n",
    "            sports_19[f'2019.{month:02d}.{day+1:02d}'] = links\n",
    "            print(f'2019.{month:02d}.{day+1:02d}', len(links))\n",
    "        except (AttributeError, IndexError):\n",
    "            print(date)\n",
    "with open('sports_links_2019.json', 'w', encoding = 'utf-8') as f:\n",
    "    json.dump(sports_19, f)"
   ]
  },
  {
   "cell_type": "code",
   "execution_count": null,
   "metadata": {},
   "outputs": [],
   "source": []
  },
  {
   "cell_type": "code",
   "execution_count": 154,
   "metadata": {},
   "outputs": [
    {
     "data": {
      "text/plain": [
       "['https://www.sports.ru/automoto/1083308813.html',\n",
       " 'https://www.sports.ru/others/bobsleigh/1083308948.html',\n",
       " 'https://www.sports.ru/football/1083309068.html',\n",
       " 'https://www.sports.ru/football/1083309295.html',\n",
       " 'https://www.sports.ru/others/beach/1083246073.html',\n",
       " 'https://www.sports.ru/football/1083309668.html',\n",
       " 'https://www.sports.ru/football/1083309913.html',\n",
       " 'https://www.sports.ru/football/1083303420.html',\n",
       " 'https://www.sports.ru/football/1083304562.html',\n",
       " 'https://www.sports.ru/basketball/1083311864.html',\n",
       " 'https://www.sports.ru/others/skating/1083310256.html',\n",
       " 'https://www.sports.ru/basketball/1083312035.html',\n",
       " 'https://www.sports.ru/basketball/1083312089.html',\n",
       " 'https://www.sports.ru/basketball/1083312167.html',\n",
       " 'https://www.sports.ru/basketball/1083312203.html',\n",
       " 'https://www.sports.ru/basketball/1083312245.html',\n",
       " 'https://www.sports.ru/basketball/1083312306.html',\n",
       " 'https://www.sports.ru/basketball/1083312355.html',\n",
       " 'https://www.sports.ru/basketball/1083312411.html',\n",
       " 'https://www.sports.ru/others/skiing/1083312633.html',\n",
       " 'https://www.sports.ru/basketball/1083312725.html',\n",
       " 'https://www.sports.ru/biathlon/1083312778.html',\n",
       " 'https://www.sports.ru/basketball/1083312856.html',\n",
       " 'https://www.sports.ru/football/1083312803.html',\n",
       " 'https://www.sports.ru/basketball/1083312950.html',\n",
       " 'https://www.sports.ru/hockey/1083312862.html',\n",
       " 'https://www.sports.ru/hockey/1083313029.html',\n",
       " 'https://www.sports.ru/basketball/1083312992.html',\n",
       " 'https://www.sports.ru/football/1083312989.html',\n",
       " 'https://www.sports.ru/football/1083297619.html',\n",
       " 'https://www.sports.ru/basketball/1083313195.html',\n",
       " 'https://www.sports.ru/tennis/1083312878.html',\n",
       " 'https://www.sports.ru/hockey/1083313241.html',\n",
       " 'https://www.sports.ru/boxing/1083313311.html',\n",
       " 'https://www.sports.ru/football/1083313218.html',\n",
       " 'https://www.sports.ru/hockey/1083313139.html',\n",
       " 'https://www.sports.ru/boxing/1083313516.html',\n",
       " 'https://www.sports.ru/football/1083313396.html',\n",
       " 'https://www.sports.ru/hockey/1083313331.html',\n",
       " 'https://www.sports.ru/basketball/1083313581.html',\n",
       " 'https://www.sports.ru/hockey/1083313562.html',\n",
       " 'https://www.sports.ru/football/1083313664.html',\n",
       " 'https://www.sports.ru/basketball/1083313737.html',\n",
       " 'https://www.sports.ru/figure-skating/1083309897.html',\n",
       " 'https://www.sports.ru/football/1083313794.html',\n",
       " 'https://www.sports.ru/hockey/1083313455.html',\n",
       " 'https://www.sports.ru/biathlon/1083310134.html',\n",
       " 'https://www.sports.ru/basketball/1083314007.html',\n",
       " 'https://www.sports.ru/biathlon/1083314032.html',\n",
       " 'https://www.sports.ru/football/1083314031.html',\n",
       " 'https://www.sports.ru/hockey/1083314105.html',\n",
       " 'https://www.sports.ru/tennis/1083312793.html',\n",
       " 'https://www.sports.ru/football/1083314297.html',\n",
       " 'https://www.sports.ru/hockey/1083314442.html',\n",
       " 'https://www.sports.ru/basketball/1083314659.html',\n",
       " 'https://www.sports.ru/football/1083314499.html',\n",
       " 'https://www.sports.ru/hockey/1083314591.html',\n",
       " 'https://www.sports.ru/basketball/1083314406.html',\n",
       " 'https://www.sports.ru/biathlon/1083314700.html',\n",
       " 'https://www.sports.ru/hockey/1083314804.html',\n",
       " 'https://www.sports.ru/tennis/1083312867.html',\n",
       " 'https://www.sports.ru/football/1083314845.html',\n",
       " 'https://www.sports.ru/others/skating/1083314648.html',\n",
       " 'https://www.sports.ru/basketball/1083315597.html',\n",
       " 'https://www.sports.ru/football/1083315300.html',\n",
       " 'https://www.sports.ru/biathlon/1083315415.html',\n",
       " 'https://www.sports.ru/hockey/1083315138.html',\n",
       " 'https://www.sports.ru/hockey/1083314394.html',\n",
       " 'https://www.sports.ru/basketball/1083315851.html',\n",
       " 'https://www.sports.ru/biathlon/1083315739.html',\n",
       " 'https://www.sports.ru/football/1083315698.html',\n",
       " 'https://www.sports.ru/biathlon/1083315932.html',\n",
       " 'https://www.sports.ru/hockey/1083314974.html',\n",
       " 'https://www.sports.ru/basketball/1083316158.html',\n",
       " 'https://www.sports.ru/tennis/1083315688.html',\n",
       " 'https://www.sports.ru/football/1083316116.html',\n",
       " 'https://www.sports.ru/hockey/1083315458.html',\n",
       " 'https://www.sports.ru/basketball/1083316458.html',\n",
       " 'https://www.sports.ru/hockey/1083316384.html',\n",
       " 'https://www.sports.ru/automoto/1083316535.html',\n",
       " 'https://www.sports.ru/boxing/1083316249.html',\n",
       " 'https://www.sports.ru/basketball/1083316575.html',\n",
       " 'https://www.sports.ru/biathlon/1083316346.html',\n",
       " 'https://www.sports.ru/basketball/1083316784.html',\n",
       " 'https://www.sports.ru/football/1083316748.html',\n",
       " 'https://www.sports.ru/automoto/1083317062.html',\n",
       " 'https://www.sports.ru/biathlon/1083317149.html',\n",
       " 'https://www.sports.ru/hockey/1083316982.html',\n",
       " 'https://www.sports.ru/football/1083317219.html',\n",
       " 'https://www.sports.ru/basketball/1083317499.html',\n",
       " 'https://www.sports.ru/basketball/1083317472.html',\n",
       " 'https://www.sports.ru/biathlon/1083317630.html',\n",
       " 'https://www.sports.ru/boxing/1083317740.html',\n",
       " 'https://www.sports.ru/football/1083317673.html',\n",
       " 'https://www.sports.ru/hockey/1083317369.html',\n",
       " 'https://www.sports.ru/basketball/1083317959.html',\n",
       " 'https://www.sports.ru/biathlon/1083317818.html',\n",
       " 'https://www.sports.ru/hockey/1083317836.html',\n",
       " 'https://www.sports.ru/tennis/1083316899.html',\n",
       " 'https://www.sports.ru/hockey/1083318080.html',\n",
       " 'https://www.sports.ru/automoto/1083318689.html',\n",
       " 'https://www.sports.ru/hockey/1083318472.html',\n",
       " 'https://www.sports.ru/basketball/1083318844.html',\n",
       " 'https://www.sports.ru/hockey/1083318817.html',\n",
       " 'https://www.sports.ru/biathlon/1083318910.html',\n",
       " 'https://www.sports.ru/football/1083318513.html',\n",
       " 'https://www.sports.ru/boxing/1083318264.html',\n",
       " 'https://www.sports.ru/football/1083318079.html',\n",
       " 'https://www.sports.ru/basketball/1083319082.html',\n",
       " 'https://www.sports.ru/tennis/1083312917.html',\n",
       " 'https://www.sports.ru/biathlon/1083318774.html',\n",
       " 'https://www.sports.ru/hockey/1083319278.html',\n",
       " 'https://www.sports.ru/basketball/1083319342.html',\n",
       " 'https://www.sports.ru/football/1083319510.html',\n",
       " 'https://www.sports.ru/hockey/1083319698.html',\n",
       " 'https://www.sports.ru/basketball/1083320000.html',\n",
       " 'https://www.sports.ru/basketball/1083320117.html',\n",
       " 'https://www.sports.ru/football/1083319968.html',\n",
       " 'https://www.sports.ru/basketball/1083320244.html',\n",
       " 'https://www.sports.ru/biathlon/1083320282.html',\n",
       " 'https://www.sports.ru/biathlon/1083306581.html',\n",
       " 'https://www.sports.ru/basketball/1083320500.html',\n",
       " 'https://www.sports.ru/hockey/1083320162.html',\n",
       " 'https://www.sports.ru/basketball/1083320743.html',\n",
       " 'https://www.sports.ru/automoto/1083320787.html',\n",
       " 'https://www.sports.ru/tennis/1083320238.html',\n",
       " 'https://www.sports.ru/basketball/1083321043.html',\n",
       " 'https://www.sports.ru/biathlon/1083320925.html',\n",
       " 'https://www.sports.ru/hockey/1083321004.html',\n",
       " 'https://www.sports.ru/football/1083320412.html',\n",
       " 'https://www.sports.ru/boxing/1083318711.html',\n",
       " 'https://www.sports.ru/football/1083321136.html',\n",
       " 'https://www.sports.ru/biathlon/1083321161.html',\n",
       " 'https://www.sports.ru/automoto/1083321567.html',\n",
       " 'https://www.sports.ru/hockey/1083321363.html',\n",
       " 'https://www.sports.ru/football/1083321551.html',\n",
       " 'https://www.sports.ru/basketball/1083321151.html',\n",
       " 'https://www.sports.ru/hockey/1083321769.html',\n",
       " 'https://www.sports.ru/football/1083322050.html',\n",
       " 'https://www.sports.ru/basketball/1083321490.html',\n",
       " 'https://www.sports.ru/biathlon/1083322142.html',\n",
       " 'https://www.sports.ru/hockey/1083322137.html',\n",
       " 'https://www.sports.ru/football/1083322339.html',\n",
       " 'https://www.sports.ru/football/1083322695.html',\n",
       " 'https://www.sports.ru/hockey/1083322483.html',\n",
       " 'https://www.sports.ru/basketball/1083321922.html',\n",
       " 'https://www.sports.ru/figure-skating/1083322522.html',\n",
       " 'https://www.sports.ru/hockey/1083323078.html',\n",
       " 'https://www.sports.ru/basketball/1083322179.html',\n",
       " 'https://www.sports.ru/football/1083323699.html',\n",
       " 'https://www.sports.ru/football/1083323307.html',\n",
       " 'https://www.sports.ru/football/1083322978.html',\n",
       " 'https://www.sports.ru/biathlon/1083323385.html',\n",
       " 'https://www.sports.ru/basketball/1083323911.html',\n",
       " 'https://www.sports.ru/boxing/1083316691.html',\n",
       " 'https://www.sports.ru/football/1083323800.html',\n",
       " 'https://www.sports.ru/biathlon/1083323965.html',\n",
       " 'https://www.sports.ru/football/1083324177.html',\n",
       " 'https://www.sports.ru/basketball/1083324221.html',\n",
       " 'https://www.sports.ru/tennis/1083323883.html',\n",
       " 'https://www.sports.ru/basketball/1083324594.html',\n",
       " 'https://www.sports.ru/football/1083324703.html',\n",
       " 'https://www.sports.ru/others/skiing/1083304694.html',\n",
       " 'https://www.sports.ru/basketball/1083324831.html',\n",
       " 'https://www.sports.ru/biathlon/1083324974.html',\n",
       " 'https://www.sports.ru/basketball/1083325198.html',\n",
       " 'https://www.sports.ru/hockey/1083325135.html',\n",
       " 'https://www.sports.ru/basketball/1083319027.html',\n",
       " 'https://www.sports.ru/others/bandy/1083245790.html',\n",
       " 'https://www.sports.ru/hockey/1083325646.html',\n",
       " 'https://www.sports.ru/basketball/1083325729.html',\n",
       " 'https://www.sports.ru/hockey/1083326094.html',\n",
       " 'https://www.sports.ru/basketball/1083326385.html',\n",
       " 'https://www.sports.ru/biathlon/1083306942.html',\n",
       " 'https://www.sports.ru/boxing/1083317402.html',\n",
       " 'https://www.sports.ru/football/1083326836.html',\n",
       " 'https://www.sports.ru/automoto/1083327113.html',\n",
       " 'https://www.sports.ru/basketball/1083327207.html',\n",
       " 'https://www.sports.ru/football/1083327885.html',\n",
       " 'https://www.sports.ru/basketball/1083327997.html',\n",
       " 'https://www.sports.ru/biathlon/1083328165.html',\n",
       " 'https://www.sports.ru/biathlon/1083327582.html',\n",
       " 'https://www.sports.ru/basketball/1083328523.html',\n",
       " 'https://www.sports.ru/biathlon/1083328643.html',\n",
       " 'https://www.sports.ru/biathlon/1083328703.html',\n",
       " 'https://www.sports.ru/biathlon/1083328869.html',\n",
       " 'https://www.sports.ru/hockey/1083328714.html',\n",
       " 'https://www.sports.ru/biathlon/1083329142.html',\n",
       " 'https://www.sports.ru/football/1083329014.html',\n",
       " 'https://www.sports.ru/football/1083329060.html',\n",
       " 'https://www.sports.ru/biathlon/1083329639.html',\n",
       " 'https://www.sports.ru/hockey/1083329691.html',\n",
       " 'https://www.sports.ru/biathlon/1083329714.html',\n",
       " 'https://www.sports.ru/basketball/1083329693.html',\n",
       " 'https://www.sports.ru/hockey/1083329510.html',\n",
       " 'https://www.sports.ru/biathlon/1083330318.html',\n",
       " 'https://www.sports.ru/biathlon/1083329897.html',\n",
       " 'https://www.sports.ru/football/1083330203.html',\n",
       " 'https://www.sports.ru/football/1083329930.html',\n",
       " 'https://www.sports.ru/hockey/1083329311.html',\n",
       " 'https://www.sports.ru/football/1083329912.html',\n",
       " 'https://www.sports.ru/biathlon/1083331414.html',\n",
       " 'https://www.sports.ru/hockey/1083330693.html',\n",
       " 'https://www.sports.ru/football/1083331048.html',\n",
       " 'https://www.sports.ru/basketball/1083331355.html',\n",
       " 'https://www.sports.ru/biathlon/1083331286.html',\n",
       " 'https://www.sports.ru/football/1083332234.html',\n",
       " 'https://www.sports.ru/tennis/1083331737.html',\n",
       " 'https://www.sports.ru/hockey/1083332100.html',\n",
       " 'https://www.sports.ru/football/1083331896.html',\n",
       " 'https://www.sports.ru/biathlon/1083332517.html',\n",
       " 'https://www.sports.ru/football/1083332091.html',\n",
       " 'https://www.sports.ru/football/1083332558.html',\n",
       " 'https://www.sports.ru/biathlon/1083333093.html',\n",
       " 'https://www.sports.ru/hockey/1083332920.html',\n",
       " 'https://www.sports.ru/football/1083332882.html',\n",
       " 'https://www.sports.ru/football/1083333615.html',\n",
       " 'https://www.sports.ru/biathlon/1083333731.html',\n",
       " 'https://www.sports.ru/football/1083333017.html',\n",
       " 'https://www.sports.ru/tennis/1083333181.html',\n",
       " 'https://www.sports.ru/basketball/1083332123.html',\n",
       " 'https://www.sports.ru/hockey/1083332507.html',\n",
       " 'https://www.sports.ru/football/1083333860.html',\n",
       " 'https://www.sports.ru/others/skiing/1083303471.html',\n",
       " 'https://www.sports.ru/football/1083333986.html',\n",
       " 'https://www.sports.ru/football/1083334503.html',\n",
       " 'https://www.sports.ru/others/athletics/1083334628.html',\n",
       " 'https://www.sports.ru/football/1083322931.html',\n",
       " 'https://www.sports.ru/hockey/1083332643.html',\n",
       " 'https://www.sports.ru/football/1083335019.html',\n",
       " 'https://www.sports.ru/tennis/1083334710.html',\n",
       " 'https://www.sports.ru/hockey/1083333364.html',\n",
       " 'https://www.sports.ru/biathlon/1083335143.html',\n",
       " 'https://www.sports.ru/hockey/1083334545.html',\n",
       " 'https://www.sports.ru/football/1083334802.html',\n",
       " 'https://www.sports.ru/biathlon/1083335469.html',\n",
       " 'https://www.sports.ru/football/1083334840.html',\n",
       " 'https://www.sports.ru/biathlon/1083332050.html',\n",
       " 'https://www.sports.ru/hockey/1083335799.html',\n",
       " 'https://www.sports.ru/basketball/1083335900.html',\n",
       " 'https://www.sports.ru/football/1083335833.html',\n",
       " 'https://www.sports.ru/automoto/1083335674.html',\n",
       " 'https://www.sports.ru/biathlon/1083335990.html',\n",
       " 'https://www.sports.ru/others/bobsleigh/1083323612.html',\n",
       " 'https://www.sports.ru/basketball/1083336114.html',\n",
       " 'https://www.sports.ru/hockey/1083336122.html',\n",
       " 'https://www.sports.ru/football/1083335614.html',\n",
       " 'https://www.sports.ru/football/1083335810.html',\n",
       " 'https://www.sports.ru/football/1083336199.html',\n",
       " 'https://www.sports.ru/basketball/1083336297.html',\n",
       " 'https://www.sports.ru/football/1083336149.html',\n",
       " 'https://www.sports.ru/basketball/1083336503.html',\n",
       " 'https://www.sports.ru/football/1083336398.html',\n",
       " 'https://www.sports.ru/football/1083336558.html',\n",
       " 'https://www.sports.ru/biathlon/1083336803.html',\n",
       " 'https://www.sports.ru/football/1083336889.html',\n",
       " 'https://www.sports.ru/football/1083336715.html',\n",
       " 'https://www.sports.ru/basketball/1083337601.html',\n",
       " 'https://www.sports.ru/football/1083330857.html',\n",
       " 'https://www.sports.ru/boxing/1083319077.html',\n",
       " 'https://www.sports.ru/tennis/1083320017.html',\n",
       " 'https://www.sports.ru/football/1083336938.html',\n",
       " 'https://www.sports.ru/hockey/1083337285.html',\n",
       " 'https://www.sports.ru/hockey/1083336630.html',\n",
       " 'https://www.sports.ru/football/1083337635.html',\n",
       " 'https://www.sports.ru/football/1083338001.html',\n",
       " 'https://www.sports.ru/biathlon/1083338040.html',\n",
       " 'https://www.sports.ru/biathlon/1083338245.html',\n",
       " 'https://www.sports.ru/tennis/1083320123.html',\n",
       " 'https://www.sports.ru/hockey/1083337865.html',\n",
       " 'https://www.sports.ru/football/1083337591.html',\n",
       " 'https://www.sports.ru/basketball/1083338616.html',\n",
       " 'https://www.sports.ru/biathlon/1083338529.html',\n",
       " 'https://www.sports.ru/football/1083338467.html',\n",
       " 'https://www.sports.ru/football/1083338224.html',\n",
       " 'https://www.sports.ru/biathlon/1083338756.html',\n",
       " 'https://www.sports.ru/hockey/1083338401.html',\n",
       " 'https://www.sports.ru/biathlon/1083339053.html',\n",
       " 'https://www.sports.ru/football/1083338491.html',\n",
       " 'https://www.sports.ru/football/1083338999.html',\n",
       " 'https://www.sports.ru/hockey/1083339042.html',\n",
       " 'https://www.sports.ru/basketball/1083339495.html',\n",
       " 'https://www.sports.ru/football/1083338801.html',\n",
       " 'https://www.sports.ru/biathlon/1083339282.html',\n",
       " 'https://www.sports.ru/football/1083339318.html',\n",
       " 'https://www.sports.ru/hockey/1083338675.html',\n",
       " 'https://www.sports.ru/boxing/1083321622.html',\n",
       " 'https://www.sports.ru/biathlon/1083339819.html',\n",
       " 'https://www.sports.ru/basketball/1083339920.html',\n",
       " 'https://www.sports.ru/football/1083339613.html',\n",
       " 'https://www.sports.ru/hockey/1083340113.html',\n",
       " 'https://www.sports.ru/biathlon/1083340180.html',\n",
       " 'https://www.sports.ru/football/1083340090.html',\n",
       " 'https://www.sports.ru/basketball/1083340161.html',\n",
       " 'https://www.sports.ru/football/1083340042.html',\n",
       " 'https://www.sports.ru/hockey/1083340914.html',\n",
       " 'https://www.sports.ru/football/1083340315.html',\n",
       " 'https://www.sports.ru/basketball/1083340731.html',\n",
       " 'https://www.sports.ru/football/1083340680.html',\n",
       " 'https://www.sports.ru/basketball/1083340998.html',\n",
       " 'https://www.sports.ru/football/1083340534.html',\n",
       " 'https://www.sports.ru/biathlon/1083340791.html',\n",
       " 'https://www.sports.ru/football/1083340027.html',\n",
       " 'https://www.sports.ru/hockey/1083341344.html',\n",
       " 'https://www.sports.ru/football/1083341169.html',\n",
       " 'https://www.sports.ru/football/1083341126.html',\n",
       " 'https://www.sports.ru/biathlon/1083341439.html',\n",
       " 'https://www.sports.ru/football/1083341147.html',\n",
       " 'https://www.sports.ru/basketball/1083341554.html',\n",
       " 'https://www.sports.ru/football/1083341565.html',\n",
       " 'https://www.sports.ru/biathlon/1083341813.html',\n",
       " 'https://www.sports.ru/basketball/1083341876.html',\n",
       " 'https://www.sports.ru/hockey/1083341183.html',\n",
       " 'https://www.sports.ru/football/1083341633.html',\n",
       " 'https://www.sports.ru/biathlon/1083341991.html',\n",
       " 'https://www.sports.ru/football/1083341737.html',\n",
       " 'https://www.sports.ru/football/1083341874.html',\n",
       " 'https://www.sports.ru/automoto/1083342192.html',\n",
       " 'https://www.sports.ru/football/1083342035.html',\n",
       " 'https://www.sports.ru/football/1083342233.html',\n",
       " 'https://www.sports.ru/others/volleyball/1083247660.html',\n",
       " 'https://www.sports.ru/football/1083342390.html',\n",
       " 'https://www.sports.ru/football/1083342473.html',\n",
       " 'https://www.sports.ru/football/1083342742.html',\n",
       " 'https://www.sports.ru/football/1083342803.html',\n",
       " 'https://www.sports.ru/football/1083342920.html',\n",
       " 'https://www.sports.ru/basketball/1083341951.html',\n",
       " 'https://www.sports.ru/football/1083343278.html']"
      ]
     },
     "execution_count": 154,
     "metadata": {},
     "output_type": "execute_result"
    }
   ],
   "source": [
    "sports_20['2020.02.15']"
   ]
  },
  {
   "cell_type": "code",
   "execution_count": 165,
   "metadata": {},
   "outputs": [
    {
     "name": "stdout",
     "output_type": "stream",
     "text": [
      "https://www.sports.ru/biathlon/1083318910.html\n"
     ]
    },
    {
     "ename": "KeyboardInterrupt",
     "evalue": "",
     "output_type": "error",
     "traceback": [
      "\u001b[1;31m---------------------------------------------------------------------------\u001b[0m",
      "\u001b[1;31mTypeError\u001b[0m                                 Traceback (most recent call last)",
      "\u001b[1;32m~\\Anaconda3\\lib\\site-packages\\urllib3\\connectionpool.py\u001b[0m in \u001b[0;36m_make_request\u001b[1;34m(self, conn, method, url, timeout, chunked, **httplib_request_kw)\u001b[0m\n\u001b[0;32m    376\u001b[0m             \u001b[1;32mtry\u001b[0m\u001b[1;33m:\u001b[0m  \u001b[1;31m# Python 2.7, use buffering of HTTP responses\u001b[0m\u001b[1;33m\u001b[0m\u001b[1;33m\u001b[0m\u001b[0m\n\u001b[1;32m--> 377\u001b[1;33m                 \u001b[0mhttplib_response\u001b[0m \u001b[1;33m=\u001b[0m \u001b[0mconn\u001b[0m\u001b[1;33m.\u001b[0m\u001b[0mgetresponse\u001b[0m\u001b[1;33m(\u001b[0m\u001b[0mbuffering\u001b[0m\u001b[1;33m=\u001b[0m\u001b[1;32mTrue\u001b[0m\u001b[1;33m)\u001b[0m\u001b[1;33m\u001b[0m\u001b[1;33m\u001b[0m\u001b[0m\n\u001b[0m\u001b[0;32m    378\u001b[0m             \u001b[1;32mexcept\u001b[0m \u001b[0mTypeError\u001b[0m\u001b[1;33m:\u001b[0m  \u001b[1;31m# Python 3\u001b[0m\u001b[1;33m\u001b[0m\u001b[1;33m\u001b[0m\u001b[0m\n",
      "\u001b[1;31mTypeError\u001b[0m: getresponse() got an unexpected keyword argument 'buffering'",
      "\nDuring handling of the above exception, another exception occurred:\n",
      "\u001b[1;31mKeyboardInterrupt\u001b[0m                         Traceback (most recent call last)",
      "\u001b[1;32m<ipython-input-165-90d8ab191123>\u001b[0m in \u001b[0;36m<module>\u001b[1;34m\u001b[0m\n\u001b[0;32m      2\u001b[0m \u001b[1;31m# link = 'https://www.sports.ru/basketball/1083312089.html'\u001b[0m\u001b[1;33m\u001b[0m\u001b[1;33m\u001b[0m\u001b[1;33m\u001b[0m\u001b[0m\n\u001b[0;32m      3\u001b[0m     \u001b[1;32mtry\u001b[0m\u001b[1;33m:\u001b[0m\u001b[1;33m\u001b[0m\u001b[1;33m\u001b[0m\u001b[0m\n\u001b[1;32m----> 4\u001b[1;33m         \u001b[0mr\u001b[0m \u001b[1;33m=\u001b[0m \u001b[0mrequests\u001b[0m\u001b[1;33m.\u001b[0m\u001b[0mget\u001b[0m\u001b[1;33m(\u001b[0m\u001b[0mlink\u001b[0m\u001b[1;33m)\u001b[0m\u001b[1;33m\u001b[0m\u001b[1;33m\u001b[0m\u001b[0m\n\u001b[0m\u001b[0;32m      5\u001b[0m         \u001b[0msoup\u001b[0m \u001b[1;33m=\u001b[0m \u001b[0mBS\u001b[0m\u001b[1;33m(\u001b[0m\u001b[0mr\u001b[0m\u001b[1;33m.\u001b[0m\u001b[0mtext\u001b[0m\u001b[1;33m)\u001b[0m\u001b[1;33m\u001b[0m\u001b[1;33m\u001b[0m\u001b[0m\n\u001b[0;32m      6\u001b[0m \u001b[1;33m\u001b[0m\u001b[0m\n",
      "\u001b[1;32m~\\Anaconda3\\lib\\site-packages\\requests\\api.py\u001b[0m in \u001b[0;36mget\u001b[1;34m(url, params, **kwargs)\u001b[0m\n\u001b[0;32m     73\u001b[0m \u001b[1;33m\u001b[0m\u001b[0m\n\u001b[0;32m     74\u001b[0m     \u001b[0mkwargs\u001b[0m\u001b[1;33m.\u001b[0m\u001b[0msetdefault\u001b[0m\u001b[1;33m(\u001b[0m\u001b[1;34m'allow_redirects'\u001b[0m\u001b[1;33m,\u001b[0m \u001b[1;32mTrue\u001b[0m\u001b[1;33m)\u001b[0m\u001b[1;33m\u001b[0m\u001b[1;33m\u001b[0m\u001b[0m\n\u001b[1;32m---> 75\u001b[1;33m     \u001b[1;32mreturn\u001b[0m \u001b[0mrequest\u001b[0m\u001b[1;33m(\u001b[0m\u001b[1;34m'get'\u001b[0m\u001b[1;33m,\u001b[0m \u001b[0murl\u001b[0m\u001b[1;33m,\u001b[0m \u001b[0mparams\u001b[0m\u001b[1;33m=\u001b[0m\u001b[0mparams\u001b[0m\u001b[1;33m,\u001b[0m \u001b[1;33m**\u001b[0m\u001b[0mkwargs\u001b[0m\u001b[1;33m)\u001b[0m\u001b[1;33m\u001b[0m\u001b[1;33m\u001b[0m\u001b[0m\n\u001b[0m\u001b[0;32m     76\u001b[0m \u001b[1;33m\u001b[0m\u001b[0m\n\u001b[0;32m     77\u001b[0m \u001b[1;33m\u001b[0m\u001b[0m\n",
      "\u001b[1;32m~\\Anaconda3\\lib\\site-packages\\requests\\api.py\u001b[0m in \u001b[0;36mrequest\u001b[1;34m(method, url, **kwargs)\u001b[0m\n\u001b[0;32m     58\u001b[0m     \u001b[1;31m# cases, and look like a memory leak in others.\u001b[0m\u001b[1;33m\u001b[0m\u001b[1;33m\u001b[0m\u001b[1;33m\u001b[0m\u001b[0m\n\u001b[0;32m     59\u001b[0m     \u001b[1;32mwith\u001b[0m \u001b[0msessions\u001b[0m\u001b[1;33m.\u001b[0m\u001b[0mSession\u001b[0m\u001b[1;33m(\u001b[0m\u001b[1;33m)\u001b[0m \u001b[1;32mas\u001b[0m \u001b[0msession\u001b[0m\u001b[1;33m:\u001b[0m\u001b[1;33m\u001b[0m\u001b[1;33m\u001b[0m\u001b[0m\n\u001b[1;32m---> 60\u001b[1;33m         \u001b[1;32mreturn\u001b[0m \u001b[0msession\u001b[0m\u001b[1;33m.\u001b[0m\u001b[0mrequest\u001b[0m\u001b[1;33m(\u001b[0m\u001b[0mmethod\u001b[0m\u001b[1;33m=\u001b[0m\u001b[0mmethod\u001b[0m\u001b[1;33m,\u001b[0m \u001b[0murl\u001b[0m\u001b[1;33m=\u001b[0m\u001b[0murl\u001b[0m\u001b[1;33m,\u001b[0m \u001b[1;33m**\u001b[0m\u001b[0mkwargs\u001b[0m\u001b[1;33m)\u001b[0m\u001b[1;33m\u001b[0m\u001b[1;33m\u001b[0m\u001b[0m\n\u001b[0m\u001b[0;32m     61\u001b[0m \u001b[1;33m\u001b[0m\u001b[0m\n\u001b[0;32m     62\u001b[0m \u001b[1;33m\u001b[0m\u001b[0m\n",
      "\u001b[1;32m~\\Anaconda3\\lib\\site-packages\\requests\\sessions.py\u001b[0m in \u001b[0;36mrequest\u001b[1;34m(self, method, url, params, data, headers, cookies, files, auth, timeout, allow_redirects, proxies, hooks, stream, verify, cert, json)\u001b[0m\n\u001b[0;32m    531\u001b[0m         }\n\u001b[0;32m    532\u001b[0m         \u001b[0msend_kwargs\u001b[0m\u001b[1;33m.\u001b[0m\u001b[0mupdate\u001b[0m\u001b[1;33m(\u001b[0m\u001b[0msettings\u001b[0m\u001b[1;33m)\u001b[0m\u001b[1;33m\u001b[0m\u001b[1;33m\u001b[0m\u001b[0m\n\u001b[1;32m--> 533\u001b[1;33m         \u001b[0mresp\u001b[0m \u001b[1;33m=\u001b[0m \u001b[0mself\u001b[0m\u001b[1;33m.\u001b[0m\u001b[0msend\u001b[0m\u001b[1;33m(\u001b[0m\u001b[0mprep\u001b[0m\u001b[1;33m,\u001b[0m \u001b[1;33m**\u001b[0m\u001b[0msend_kwargs\u001b[0m\u001b[1;33m)\u001b[0m\u001b[1;33m\u001b[0m\u001b[1;33m\u001b[0m\u001b[0m\n\u001b[0m\u001b[0;32m    534\u001b[0m \u001b[1;33m\u001b[0m\u001b[0m\n\u001b[0;32m    535\u001b[0m         \u001b[1;32mreturn\u001b[0m \u001b[0mresp\u001b[0m\u001b[1;33m\u001b[0m\u001b[1;33m\u001b[0m\u001b[0m\n",
      "\u001b[1;32m~\\Anaconda3\\lib\\site-packages\\requests\\sessions.py\u001b[0m in \u001b[0;36msend\u001b[1;34m(self, request, **kwargs)\u001b[0m\n\u001b[0;32m    644\u001b[0m \u001b[1;33m\u001b[0m\u001b[0m\n\u001b[0;32m    645\u001b[0m         \u001b[1;31m# Send the request\u001b[0m\u001b[1;33m\u001b[0m\u001b[1;33m\u001b[0m\u001b[1;33m\u001b[0m\u001b[0m\n\u001b[1;32m--> 646\u001b[1;33m         \u001b[0mr\u001b[0m \u001b[1;33m=\u001b[0m \u001b[0madapter\u001b[0m\u001b[1;33m.\u001b[0m\u001b[0msend\u001b[0m\u001b[1;33m(\u001b[0m\u001b[0mrequest\u001b[0m\u001b[1;33m,\u001b[0m \u001b[1;33m**\u001b[0m\u001b[0mkwargs\u001b[0m\u001b[1;33m)\u001b[0m\u001b[1;33m\u001b[0m\u001b[1;33m\u001b[0m\u001b[0m\n\u001b[0m\u001b[0;32m    647\u001b[0m \u001b[1;33m\u001b[0m\u001b[0m\n\u001b[0;32m    648\u001b[0m         \u001b[1;31m# Total elapsed time of the request (approximately)\u001b[0m\u001b[1;33m\u001b[0m\u001b[1;33m\u001b[0m\u001b[1;33m\u001b[0m\u001b[0m\n",
      "\u001b[1;32m~\\Anaconda3\\lib\\site-packages\\requests\\adapters.py\u001b[0m in \u001b[0;36msend\u001b[1;34m(self, request, stream, timeout, verify, cert, proxies)\u001b[0m\n\u001b[0;32m    447\u001b[0m                     \u001b[0mdecode_content\u001b[0m\u001b[1;33m=\u001b[0m\u001b[1;32mFalse\u001b[0m\u001b[1;33m,\u001b[0m\u001b[1;33m\u001b[0m\u001b[1;33m\u001b[0m\u001b[0m\n\u001b[0;32m    448\u001b[0m                     \u001b[0mretries\u001b[0m\u001b[1;33m=\u001b[0m\u001b[0mself\u001b[0m\u001b[1;33m.\u001b[0m\u001b[0mmax_retries\u001b[0m\u001b[1;33m,\u001b[0m\u001b[1;33m\u001b[0m\u001b[1;33m\u001b[0m\u001b[0m\n\u001b[1;32m--> 449\u001b[1;33m                     \u001b[0mtimeout\u001b[0m\u001b[1;33m=\u001b[0m\u001b[0mtimeout\u001b[0m\u001b[1;33m\u001b[0m\u001b[1;33m\u001b[0m\u001b[0m\n\u001b[0m\u001b[0;32m    450\u001b[0m                 )\n\u001b[0;32m    451\u001b[0m \u001b[1;33m\u001b[0m\u001b[0m\n",
      "\u001b[1;32m~\\Anaconda3\\lib\\site-packages\\urllib3\\connectionpool.py\u001b[0m in \u001b[0;36murlopen\u001b[1;34m(self, method, url, body, headers, retries, redirect, assert_same_host, timeout, pool_timeout, release_conn, chunked, body_pos, **response_kw)\u001b[0m\n\u001b[0;32m    598\u001b[0m                                                   \u001b[0mtimeout\u001b[0m\u001b[1;33m=\u001b[0m\u001b[0mtimeout_obj\u001b[0m\u001b[1;33m,\u001b[0m\u001b[1;33m\u001b[0m\u001b[1;33m\u001b[0m\u001b[0m\n\u001b[0;32m    599\u001b[0m                                                   \u001b[0mbody\u001b[0m\u001b[1;33m=\u001b[0m\u001b[0mbody\u001b[0m\u001b[1;33m,\u001b[0m \u001b[0mheaders\u001b[0m\u001b[1;33m=\u001b[0m\u001b[0mheaders\u001b[0m\u001b[1;33m,\u001b[0m\u001b[1;33m\u001b[0m\u001b[1;33m\u001b[0m\u001b[0m\n\u001b[1;32m--> 600\u001b[1;33m                                                   chunked=chunked)\n\u001b[0m\u001b[0;32m    601\u001b[0m \u001b[1;33m\u001b[0m\u001b[0m\n\u001b[0;32m    602\u001b[0m             \u001b[1;31m# If we're going to release the connection in ``finally:``, then\u001b[0m\u001b[1;33m\u001b[0m\u001b[1;33m\u001b[0m\u001b[1;33m\u001b[0m\u001b[0m\n",
      "\u001b[1;32m~\\Anaconda3\\lib\\site-packages\\urllib3\\connectionpool.py\u001b[0m in \u001b[0;36m_make_request\u001b[1;34m(self, conn, method, url, timeout, chunked, **httplib_request_kw)\u001b[0m\n\u001b[0;32m    378\u001b[0m             \u001b[1;32mexcept\u001b[0m \u001b[0mTypeError\u001b[0m\u001b[1;33m:\u001b[0m  \u001b[1;31m# Python 3\u001b[0m\u001b[1;33m\u001b[0m\u001b[1;33m\u001b[0m\u001b[0m\n\u001b[0;32m    379\u001b[0m                 \u001b[1;32mtry\u001b[0m\u001b[1;33m:\u001b[0m\u001b[1;33m\u001b[0m\u001b[1;33m\u001b[0m\u001b[0m\n\u001b[1;32m--> 380\u001b[1;33m                     \u001b[0mhttplib_response\u001b[0m \u001b[1;33m=\u001b[0m \u001b[0mconn\u001b[0m\u001b[1;33m.\u001b[0m\u001b[0mgetresponse\u001b[0m\u001b[1;33m(\u001b[0m\u001b[1;33m)\u001b[0m\u001b[1;33m\u001b[0m\u001b[1;33m\u001b[0m\u001b[0m\n\u001b[0m\u001b[0;32m    381\u001b[0m                 \u001b[1;32mexcept\u001b[0m \u001b[0mException\u001b[0m \u001b[1;32mas\u001b[0m \u001b[0me\u001b[0m\u001b[1;33m:\u001b[0m\u001b[1;33m\u001b[0m\u001b[1;33m\u001b[0m\u001b[0m\n\u001b[0;32m    382\u001b[0m                     \u001b[1;31m# Remove the TypeError from the exception chain in Python 3;\u001b[0m\u001b[1;33m\u001b[0m\u001b[1;33m\u001b[0m\u001b[1;33m\u001b[0m\u001b[0m\n",
      "\u001b[1;32m~\\Anaconda3\\lib\\http\\client.py\u001b[0m in \u001b[0;36mgetresponse\u001b[1;34m(self)\u001b[0m\n\u001b[0;32m   1334\u001b[0m         \u001b[1;32mtry\u001b[0m\u001b[1;33m:\u001b[0m\u001b[1;33m\u001b[0m\u001b[1;33m\u001b[0m\u001b[0m\n\u001b[0;32m   1335\u001b[0m             \u001b[1;32mtry\u001b[0m\u001b[1;33m:\u001b[0m\u001b[1;33m\u001b[0m\u001b[1;33m\u001b[0m\u001b[0m\n\u001b[1;32m-> 1336\u001b[1;33m                 \u001b[0mresponse\u001b[0m\u001b[1;33m.\u001b[0m\u001b[0mbegin\u001b[0m\u001b[1;33m(\u001b[0m\u001b[1;33m)\u001b[0m\u001b[1;33m\u001b[0m\u001b[1;33m\u001b[0m\u001b[0m\n\u001b[0m\u001b[0;32m   1337\u001b[0m             \u001b[1;32mexcept\u001b[0m \u001b[0mConnectionError\u001b[0m\u001b[1;33m:\u001b[0m\u001b[1;33m\u001b[0m\u001b[1;33m\u001b[0m\u001b[0m\n\u001b[0;32m   1338\u001b[0m                 \u001b[0mself\u001b[0m\u001b[1;33m.\u001b[0m\u001b[0mclose\u001b[0m\u001b[1;33m(\u001b[0m\u001b[1;33m)\u001b[0m\u001b[1;33m\u001b[0m\u001b[1;33m\u001b[0m\u001b[0m\n",
      "\u001b[1;32m~\\Anaconda3\\lib\\http\\client.py\u001b[0m in \u001b[0;36mbegin\u001b[1;34m(self)\u001b[0m\n\u001b[0;32m    304\u001b[0m         \u001b[1;31m# read until we get a non-100 response\u001b[0m\u001b[1;33m\u001b[0m\u001b[1;33m\u001b[0m\u001b[1;33m\u001b[0m\u001b[0m\n\u001b[0;32m    305\u001b[0m         \u001b[1;32mwhile\u001b[0m \u001b[1;32mTrue\u001b[0m\u001b[1;33m:\u001b[0m\u001b[1;33m\u001b[0m\u001b[1;33m\u001b[0m\u001b[0m\n\u001b[1;32m--> 306\u001b[1;33m             \u001b[0mversion\u001b[0m\u001b[1;33m,\u001b[0m \u001b[0mstatus\u001b[0m\u001b[1;33m,\u001b[0m \u001b[0mreason\u001b[0m \u001b[1;33m=\u001b[0m \u001b[0mself\u001b[0m\u001b[1;33m.\u001b[0m\u001b[0m_read_status\u001b[0m\u001b[1;33m(\u001b[0m\u001b[1;33m)\u001b[0m\u001b[1;33m\u001b[0m\u001b[1;33m\u001b[0m\u001b[0m\n\u001b[0m\u001b[0;32m    307\u001b[0m             \u001b[1;32mif\u001b[0m \u001b[0mstatus\u001b[0m \u001b[1;33m!=\u001b[0m \u001b[0mCONTINUE\u001b[0m\u001b[1;33m:\u001b[0m\u001b[1;33m\u001b[0m\u001b[1;33m\u001b[0m\u001b[0m\n\u001b[0;32m    308\u001b[0m                 \u001b[1;32mbreak\u001b[0m\u001b[1;33m\u001b[0m\u001b[1;33m\u001b[0m\u001b[0m\n",
      "\u001b[1;32m~\\Anaconda3\\lib\\http\\client.py\u001b[0m in \u001b[0;36m_read_status\u001b[1;34m(self)\u001b[0m\n\u001b[0;32m    265\u001b[0m \u001b[1;33m\u001b[0m\u001b[0m\n\u001b[0;32m    266\u001b[0m     \u001b[1;32mdef\u001b[0m \u001b[0m_read_status\u001b[0m\u001b[1;33m(\u001b[0m\u001b[0mself\u001b[0m\u001b[1;33m)\u001b[0m\u001b[1;33m:\u001b[0m\u001b[1;33m\u001b[0m\u001b[1;33m\u001b[0m\u001b[0m\n\u001b[1;32m--> 267\u001b[1;33m         \u001b[0mline\u001b[0m \u001b[1;33m=\u001b[0m \u001b[0mstr\u001b[0m\u001b[1;33m(\u001b[0m\u001b[0mself\u001b[0m\u001b[1;33m.\u001b[0m\u001b[0mfp\u001b[0m\u001b[1;33m.\u001b[0m\u001b[0mreadline\u001b[0m\u001b[1;33m(\u001b[0m\u001b[0m_MAXLINE\u001b[0m \u001b[1;33m+\u001b[0m \u001b[1;36m1\u001b[0m\u001b[1;33m)\u001b[0m\u001b[1;33m,\u001b[0m \u001b[1;34m\"iso-8859-1\"\u001b[0m\u001b[1;33m)\u001b[0m\u001b[1;33m\u001b[0m\u001b[1;33m\u001b[0m\u001b[0m\n\u001b[0m\u001b[0;32m    268\u001b[0m         \u001b[1;32mif\u001b[0m \u001b[0mlen\u001b[0m\u001b[1;33m(\u001b[0m\u001b[0mline\u001b[0m\u001b[1;33m)\u001b[0m \u001b[1;33m>\u001b[0m \u001b[0m_MAXLINE\u001b[0m\u001b[1;33m:\u001b[0m\u001b[1;33m\u001b[0m\u001b[1;33m\u001b[0m\u001b[0m\n\u001b[0;32m    269\u001b[0m             \u001b[1;32mraise\u001b[0m \u001b[0mLineTooLong\u001b[0m\u001b[1;33m(\u001b[0m\u001b[1;34m\"status line\"\u001b[0m\u001b[1;33m)\u001b[0m\u001b[1;33m\u001b[0m\u001b[1;33m\u001b[0m\u001b[0m\n",
      "\u001b[1;32m~\\Anaconda3\\lib\\socket.py\u001b[0m in \u001b[0;36mreadinto\u001b[1;34m(self, b)\u001b[0m\n\u001b[0;32m    587\u001b[0m         \u001b[1;32mwhile\u001b[0m \u001b[1;32mTrue\u001b[0m\u001b[1;33m:\u001b[0m\u001b[1;33m\u001b[0m\u001b[1;33m\u001b[0m\u001b[0m\n\u001b[0;32m    588\u001b[0m             \u001b[1;32mtry\u001b[0m\u001b[1;33m:\u001b[0m\u001b[1;33m\u001b[0m\u001b[1;33m\u001b[0m\u001b[0m\n\u001b[1;32m--> 589\u001b[1;33m                 \u001b[1;32mreturn\u001b[0m \u001b[0mself\u001b[0m\u001b[1;33m.\u001b[0m\u001b[0m_sock\u001b[0m\u001b[1;33m.\u001b[0m\u001b[0mrecv_into\u001b[0m\u001b[1;33m(\u001b[0m\u001b[0mb\u001b[0m\u001b[1;33m)\u001b[0m\u001b[1;33m\u001b[0m\u001b[1;33m\u001b[0m\u001b[0m\n\u001b[0m\u001b[0;32m    590\u001b[0m             \u001b[1;32mexcept\u001b[0m \u001b[0mtimeout\u001b[0m\u001b[1;33m:\u001b[0m\u001b[1;33m\u001b[0m\u001b[1;33m\u001b[0m\u001b[0m\n\u001b[0;32m    591\u001b[0m                 \u001b[0mself\u001b[0m\u001b[1;33m.\u001b[0m\u001b[0m_timeout_occurred\u001b[0m \u001b[1;33m=\u001b[0m \u001b[1;32mTrue\u001b[0m\u001b[1;33m\u001b[0m\u001b[1;33m\u001b[0m\u001b[0m\n",
      "\u001b[1;32m~\\Anaconda3\\lib\\site-packages\\urllib3\\contrib\\pyopenssl.py\u001b[0m in \u001b[0;36mrecv_into\u001b[1;34m(self, *args, **kwargs)\u001b[0m\n\u001b[0;32m    295\u001b[0m     \u001b[1;32mdef\u001b[0m \u001b[0mrecv_into\u001b[0m\u001b[1;33m(\u001b[0m\u001b[0mself\u001b[0m\u001b[1;33m,\u001b[0m \u001b[1;33m*\u001b[0m\u001b[0margs\u001b[0m\u001b[1;33m,\u001b[0m \u001b[1;33m**\u001b[0m\u001b[0mkwargs\u001b[0m\u001b[1;33m)\u001b[0m\u001b[1;33m:\u001b[0m\u001b[1;33m\u001b[0m\u001b[1;33m\u001b[0m\u001b[0m\n\u001b[0;32m    296\u001b[0m         \u001b[1;32mtry\u001b[0m\u001b[1;33m:\u001b[0m\u001b[1;33m\u001b[0m\u001b[1;33m\u001b[0m\u001b[0m\n\u001b[1;32m--> 297\u001b[1;33m             \u001b[1;32mreturn\u001b[0m \u001b[0mself\u001b[0m\u001b[1;33m.\u001b[0m\u001b[0mconnection\u001b[0m\u001b[1;33m.\u001b[0m\u001b[0mrecv_into\u001b[0m\u001b[1;33m(\u001b[0m\u001b[1;33m*\u001b[0m\u001b[0margs\u001b[0m\u001b[1;33m,\u001b[0m \u001b[1;33m**\u001b[0m\u001b[0mkwargs\u001b[0m\u001b[1;33m)\u001b[0m\u001b[1;33m\u001b[0m\u001b[1;33m\u001b[0m\u001b[0m\n\u001b[0m\u001b[0;32m    298\u001b[0m         \u001b[1;32mexcept\u001b[0m \u001b[0mOpenSSL\u001b[0m\u001b[1;33m.\u001b[0m\u001b[0mSSL\u001b[0m\u001b[1;33m.\u001b[0m\u001b[0mSysCallError\u001b[0m \u001b[1;32mas\u001b[0m \u001b[0me\u001b[0m\u001b[1;33m:\u001b[0m\u001b[1;33m\u001b[0m\u001b[1;33m\u001b[0m\u001b[0m\n\u001b[0;32m    299\u001b[0m             \u001b[1;32mif\u001b[0m \u001b[0mself\u001b[0m\u001b[1;33m.\u001b[0m\u001b[0msuppress_ragged_eofs\u001b[0m \u001b[1;32mand\u001b[0m \u001b[0me\u001b[0m\u001b[1;33m.\u001b[0m\u001b[0margs\u001b[0m \u001b[1;33m==\u001b[0m \u001b[1;33m(\u001b[0m\u001b[1;33m-\u001b[0m\u001b[1;36m1\u001b[0m\u001b[1;33m,\u001b[0m \u001b[1;34m'Unexpected EOF'\u001b[0m\u001b[1;33m)\u001b[0m\u001b[1;33m:\u001b[0m\u001b[1;33m\u001b[0m\u001b[1;33m\u001b[0m\u001b[0m\n",
      "\u001b[1;32m~\\Anaconda3\\lib\\site-packages\\OpenSSL\\SSL.py\u001b[0m in \u001b[0;36mrecv_into\u001b[1;34m(self, buffer, nbytes, flags)\u001b[0m\n\u001b[0;32m   1819\u001b[0m             \u001b[0mresult\u001b[0m \u001b[1;33m=\u001b[0m \u001b[0m_lib\u001b[0m\u001b[1;33m.\u001b[0m\u001b[0mSSL_peek\u001b[0m\u001b[1;33m(\u001b[0m\u001b[0mself\u001b[0m\u001b[1;33m.\u001b[0m\u001b[0m_ssl\u001b[0m\u001b[1;33m,\u001b[0m \u001b[0mbuf\u001b[0m\u001b[1;33m,\u001b[0m \u001b[0mnbytes\u001b[0m\u001b[1;33m)\u001b[0m\u001b[1;33m\u001b[0m\u001b[1;33m\u001b[0m\u001b[0m\n\u001b[0;32m   1820\u001b[0m         \u001b[1;32melse\u001b[0m\u001b[1;33m:\u001b[0m\u001b[1;33m\u001b[0m\u001b[1;33m\u001b[0m\u001b[0m\n\u001b[1;32m-> 1821\u001b[1;33m             \u001b[0mresult\u001b[0m \u001b[1;33m=\u001b[0m \u001b[0m_lib\u001b[0m\u001b[1;33m.\u001b[0m\u001b[0mSSL_read\u001b[0m\u001b[1;33m(\u001b[0m\u001b[0mself\u001b[0m\u001b[1;33m.\u001b[0m\u001b[0m_ssl\u001b[0m\u001b[1;33m,\u001b[0m \u001b[0mbuf\u001b[0m\u001b[1;33m,\u001b[0m \u001b[0mnbytes\u001b[0m\u001b[1;33m)\u001b[0m\u001b[1;33m\u001b[0m\u001b[1;33m\u001b[0m\u001b[0m\n\u001b[0m\u001b[0;32m   1822\u001b[0m         \u001b[0mself\u001b[0m\u001b[1;33m.\u001b[0m\u001b[0m_raise_ssl_error\u001b[0m\u001b[1;33m(\u001b[0m\u001b[0mself\u001b[0m\u001b[1;33m.\u001b[0m\u001b[0m_ssl\u001b[0m\u001b[1;33m,\u001b[0m \u001b[0mresult\u001b[0m\u001b[1;33m)\u001b[0m\u001b[1;33m\u001b[0m\u001b[1;33m\u001b[0m\u001b[0m\n\u001b[0;32m   1823\u001b[0m \u001b[1;33m\u001b[0m\u001b[0m\n",
      "\u001b[1;31mKeyboardInterrupt\u001b[0m: "
     ]
    }
   ],
   "source": [
    "for link in sports_20['2020.02.15']:\n",
    "# link = 'https://www.sports.ru/basketball/1083312089.html'\n",
    "    try:\n",
    "        r = requests.get(link)\n",
    "        soup = BS(r.text)\n",
    "\n",
    "        soup.h1.text.strip()\n",
    "\n",
    "        ' '.join([p.text for p in soup.find('div', 'news-item__content').find_all('p') if 'Facebook' not in p.text][:-1])\n",
    "    except (AttributeError, IndexError):\n",
    "        print(link)"
   ]
  },
  {
   "cell_type": "code",
   "execution_count": 171,
   "metadata": {},
   "outputs": [],
   "source": [
    "def get_article_sports(link):\n",
    "    r = requests.get(link)\n",
    "    soup = BS(r.text)\n",
    "\n",
    "    title = soup.h1.text.strip()\n",
    "    text = ' '.join([p.text for p in soup.find('div', 'news-item__content').find_all('p') if 'Facebook' not in p.text][:-1])\n",
    "    return ' .'.join([title, text])"
   ]
  },
  {
   "cell_type": "code",
   "execution_count": 169,
   "metadata": {},
   "outputs": [
    {
     "data": {
      "application/vnd.jupyter.widget-view+json": {
       "model_id": "04239c9f68a94fd9b93f68f9683a1f64",
       "version_major": 2,
       "version_minor": 0
      },
      "text/plain": [
       "HBox(children=(IntProgress(value=0, max=59), HTML(value='')))"
      ]
     },
     "metadata": {},
     "output_type": "display_data"
    },
    {
     "data": {
      "application/vnd.jupyter.widget-view+json": {
       "model_id": "fa11c383c0bb4c988bc79f7c800ad621",
       "version_major": 2,
       "version_minor": 0
      },
      "text/plain": [
       "HBox(children=(IntProgress(value=0, max=158), HTML(value='')))"
      ]
     },
     "metadata": {},
     "output_type": "display_data"
    },
    {
     "name": "stdout",
     "output_type": "stream",
     "text": [
      "https://www.sports.ru/hockey/1081910385.html\n",
      "https://www.sports.ru/hockey/1081912026.html\n",
      "\n"
     ]
    },
    {
     "data": {
      "application/vnd.jupyter.widget-view+json": {
       "model_id": "cdc12f47f8e44cc79ac079728b94b1d3",
       "version_major": 2,
       "version_minor": 0
      },
      "text/plain": [
       "HBox(children=(IntProgress(value=0, max=229), HTML(value='')))"
      ]
     },
     "metadata": {},
     "output_type": "display_data"
    },
    {
     "name": "stdout",
     "output_type": "stream",
     "text": [
      "https://www.sports.ru/hockey/1081932639.html\n",
      "\n"
     ]
    },
    {
     "data": {
      "application/vnd.jupyter.widget-view+json": {
       "model_id": "f6fdac1f03c543149fd59d33a54b48ad",
       "version_major": 2,
       "version_minor": 0
      },
      "text/plain": [
       "HBox(children=(IntProgress(value=0, max=269), HTML(value='')))"
      ]
     },
     "metadata": {},
     "output_type": "display_data"
    },
    {
     "name": "stdout",
     "output_type": "stream",
     "text": [
      "https://www.sports.ru/boxing/1081938174.html\n",
      "\n"
     ]
    },
    {
     "data": {
      "application/vnd.jupyter.widget-view+json": {
       "model_id": "c664c957adb24e52a01946b637a6dce1",
       "version_major": 2,
       "version_minor": 0
      },
      "text/plain": [
       "HBox(children=(IntProgress(value=0, max=259), HTML(value='')))"
      ]
     },
     "metadata": {},
     "output_type": "display_data"
    },
    {
     "name": "stdout",
     "output_type": "stream",
     "text": [
      "\n"
     ]
    },
    {
     "data": {
      "application/vnd.jupyter.widget-view+json": {
       "model_id": "e152aa2ed0ff4c8a809aac9512ae6710",
       "version_major": 2,
       "version_minor": 0
      },
      "text/plain": [
       "HBox(children=(IntProgress(value=0, max=296), HTML(value='')))"
      ]
     },
     "metadata": {},
     "output_type": "display_data"
    },
    {
     "name": "stdout",
     "output_type": "stream",
     "text": [
      "https://www.sports.ru/tennis/1082002477.html\n",
      "\n"
     ]
    },
    {
     "data": {
      "application/vnd.jupyter.widget-view+json": {
       "model_id": "458eb06c321e48e6bccba1795878d88d",
       "version_major": 2,
       "version_minor": 0
      },
      "text/plain": [
       "HBox(children=(IntProgress(value=0, max=297), HTML(value='')))"
      ]
     },
     "metadata": {},
     "output_type": "display_data"
    },
    {
     "name": "stdout",
     "output_type": "stream",
     "text": [
      "\n"
     ]
    },
    {
     "data": {
      "application/vnd.jupyter.widget-view+json": {
       "model_id": "a251ec3c284147b99f03be1e1480e739",
       "version_major": 2,
       "version_minor": 0
      },
      "text/plain": [
       "HBox(children=(IntProgress(value=0, max=223), HTML(value='')))"
      ]
     },
     "metadata": {},
     "output_type": "display_data"
    },
    {
     "name": "stdout",
     "output_type": "stream",
     "text": [
      "\n"
     ]
    },
    {
     "data": {
      "application/vnd.jupyter.widget-view+json": {
       "model_id": "26a32579cbf74d16ad4099d30cc6ef6c",
       "version_major": 2,
       "version_minor": 0
      },
      "text/plain": [
       "HBox(children=(IntProgress(value=0, max=317), HTML(value='')))"
      ]
     },
     "metadata": {},
     "output_type": "display_data"
    },
    {
     "name": "stdout",
     "output_type": "stream",
     "text": [
      "\n"
     ]
    },
    {
     "data": {
      "application/vnd.jupyter.widget-view+json": {
       "model_id": "80962fcef09141cb8fda24cf017ec28f",
       "version_major": 2,
       "version_minor": 0
      },
      "text/plain": [
       "HBox(children=(IntProgress(value=0, max=307), HTML(value='')))"
      ]
     },
     "metadata": {},
     "output_type": "display_data"
    },
    {
     "name": "stdout",
     "output_type": "stream",
     "text": [
      "https://www.sports.ru/tennis/1082119303.html\n",
      "\n"
     ]
    },
    {
     "data": {
      "application/vnd.jupyter.widget-view+json": {
       "model_id": "85e62f5bf3c447ef8e4adcf7cc512bae",
       "version_major": 2,
       "version_minor": 0
      },
      "text/plain": [
       "HBox(children=(IntProgress(value=0, max=315), HTML(value='')))"
      ]
     },
     "metadata": {},
     "output_type": "display_data"
    },
    {
     "name": "stdout",
     "output_type": "stream",
     "text": [
      "\n"
     ]
    },
    {
     "data": {
      "application/vnd.jupyter.widget-view+json": {
       "model_id": "97dfd2320599483c94a97665d879722c",
       "version_major": 2,
       "version_minor": 0
      },
      "text/plain": [
       "HBox(children=(IntProgress(value=0, max=334), HTML(value='')))"
      ]
     },
     "metadata": {},
     "output_type": "display_data"
    },
    {
     "name": "stdout",
     "output_type": "stream",
     "text": [
      "\n"
     ]
    },
    {
     "data": {
      "application/vnd.jupyter.widget-view+json": {
       "model_id": "9e3074ebf39a41b68dda6375f544f2f7",
       "version_major": 2,
       "version_minor": 0
      },
      "text/plain": [
       "HBox(children=(IntProgress(value=0, max=331), HTML(value='')))"
      ]
     },
     "metadata": {},
     "output_type": "display_data"
    },
    {
     "name": "stdout",
     "output_type": "stream",
     "text": [
      "\n"
     ]
    },
    {
     "data": {
      "application/vnd.jupyter.widget-view+json": {
       "model_id": "46342d3c5ca0490d9a60a5e1b7653551",
       "version_major": 2,
       "version_minor": 0
      },
      "text/plain": [
       "HBox(children=(IntProgress(value=0, max=299), HTML(value='')))"
      ]
     },
     "metadata": {},
     "output_type": "display_data"
    },
    {
     "name": "stdout",
     "output_type": "stream",
     "text": [
      "https://www.sports.ru/hockey/1082244368.html\n",
      "\n"
     ]
    },
    {
     "data": {
      "application/vnd.jupyter.widget-view+json": {
       "model_id": "2f6de2a208124fffa73c5bd7089287c3",
       "version_major": 2,
       "version_minor": 0
      },
      "text/plain": [
       "HBox(children=(IntProgress(value=0, max=313), HTML(value='')))"
      ]
     },
     "metadata": {},
     "output_type": "display_data"
    },
    {
     "name": "stdout",
     "output_type": "stream",
     "text": [
      "https://www.sports.ru/others/skiing/1082283716.html\n",
      "https://www.sports.ru/tennis/1082289545.html\n",
      "\n"
     ]
    },
    {
     "data": {
      "application/vnd.jupyter.widget-view+json": {
       "model_id": "c825823b5f69407f971a1b567022e24f",
       "version_major": 2,
       "version_minor": 0
      },
      "text/plain": [
       "HBox(children=(IntProgress(value=0, max=310), HTML(value='')))"
      ]
     },
     "metadata": {},
     "output_type": "display_data"
    },
    {
     "name": "stdout",
     "output_type": "stream",
     "text": [
      "https://www.sports.ru/tennis/1082312941.html\n",
      "\n"
     ]
    },
    {
     "data": {
      "application/vnd.jupyter.widget-view+json": {
       "model_id": "6119f6ba8fba4599aa0d22ffc459bb72",
       "version_major": 2,
       "version_minor": 0
      },
      "text/plain": [
       "HBox(children=(IntProgress(value=0, max=333), HTML(value='')))"
      ]
     },
     "metadata": {},
     "output_type": "display_data"
    },
    {
     "name": "stdout",
     "output_type": "stream",
     "text": [
      "\n"
     ]
    },
    {
     "data": {
      "application/vnd.jupyter.widget-view+json": {
       "model_id": "28c128164b8e4ec18c2c4529e9cc9c13",
       "version_major": 2,
       "version_minor": 0
      },
      "text/plain": [
       "HBox(children=(IntProgress(value=0, max=311), HTML(value='')))"
      ]
     },
     "metadata": {},
     "output_type": "display_data"
    },
    {
     "name": "stdout",
     "output_type": "stream",
     "text": [
      "\n"
     ]
    },
    {
     "data": {
      "application/vnd.jupyter.widget-view+json": {
       "model_id": "372643daba1c4b868787c37906699d57",
       "version_major": 2,
       "version_minor": 0
      },
      "text/plain": [
       "HBox(children=(IntProgress(value=0, max=341), HTML(value='')))"
      ]
     },
     "metadata": {},
     "output_type": "display_data"
    },
    {
     "name": "stdout",
     "output_type": "stream",
     "text": [
      "\n"
     ]
    },
    {
     "data": {
      "application/vnd.jupyter.widget-view+json": {
       "model_id": "c23018f8191a4ddb8abbdb5f2796d271",
       "version_major": 2,
       "version_minor": 0
      },
      "text/plain": [
       "HBox(children=(IntProgress(value=0, max=305), HTML(value='')))"
      ]
     },
     "metadata": {},
     "output_type": "display_data"
    },
    {
     "name": "stdout",
     "output_type": "stream",
     "text": [
      "https://www.sports.ru/basketball/1082448383.html\n",
      "\n"
     ]
    },
    {
     "data": {
      "application/vnd.jupyter.widget-view+json": {
       "model_id": "fbb11256943649f2a87ac07b23cd8ebd",
       "version_major": 2,
       "version_minor": 0
      },
      "text/plain": [
       "HBox(children=(IntProgress(value=0, max=293), HTML(value='')))"
      ]
     },
     "metadata": {},
     "output_type": "display_data"
    },
    {
     "name": "stdout",
     "output_type": "stream",
     "text": [
      "https://www.sports.ru/football/1082499440.html\n",
      "https://www.sports.ru/hockey/1082514422.html\n",
      "\n"
     ]
    },
    {
     "data": {
      "application/vnd.jupyter.widget-view+json": {
       "model_id": "7be9eed226c34029ba3218de63a237e7",
       "version_major": 2,
       "version_minor": 0
      },
      "text/plain": [
       "HBox(children=(IntProgress(value=0, max=299), HTML(value='')))"
      ]
     },
     "metadata": {},
     "output_type": "display_data"
    },
    {
     "name": "stdout",
     "output_type": "stream",
     "text": [
      "https://www.sports.ru/tennis/1082532000.html\n",
      "https://www.sports.ru/football/1082546214.html\n",
      "https://www.sports.ru/basketball/1082547889.html\n",
      "\n"
     ]
    },
    {
     "data": {
      "application/vnd.jupyter.widget-view+json": {
       "model_id": "e6aa7dac56b54f8482825fd170a627ac",
       "version_major": 2,
       "version_minor": 0
      },
      "text/plain": [
       "HBox(children=(IntProgress(value=0, max=312), HTML(value='')))"
      ]
     },
     "metadata": {},
     "output_type": "display_data"
    },
    {
     "name": "stdout",
     "output_type": "stream",
     "text": [
      "https://www.sports.ru/football/1082555538.html\n",
      "\n"
     ]
    },
    {
     "data": {
      "application/vnd.jupyter.widget-view+json": {
       "model_id": "a3a5df43aa7a40bcbda70ccaae599243",
       "version_major": 2,
       "version_minor": 0
      },
      "text/plain": [
       "HBox(children=(IntProgress(value=0, max=366), HTML(value='')))"
      ]
     },
     "metadata": {},
     "output_type": "display_data"
    },
    {
     "name": "stdout",
     "output_type": "stream",
     "text": [
      "https://www.sports.ru/hockey/1082588117.html\n",
      "https://www.sports.ru/football/1082589202.html\n",
      "https://www.sports.ru/football/1082596863.html\n",
      "https://www.sports.ru/tennis/1082597130.html\n",
      "https://www.sports.ru/biathlon/1082610426.html\n",
      "\n"
     ]
    },
    {
     "data": {
      "application/vnd.jupyter.widget-view+json": {
       "model_id": "a6e51551551f4e88a824413858f6853b",
       "version_major": 2,
       "version_minor": 0
      },
      "text/plain": [
       "HBox(children=(IntProgress(value=0, max=361), HTML(value='')))"
      ]
     },
     "metadata": {},
     "output_type": "display_data"
    },
    {
     "name": "stdout",
     "output_type": "stream",
     "text": [
      "\n"
     ]
    },
    {
     "data": {
      "application/vnd.jupyter.widget-view+json": {
       "model_id": "e9d067e9d5684ff68ff0195373345b9c",
       "version_major": 2,
       "version_minor": 0
      },
      "text/plain": [
       "HBox(children=(IntProgress(value=0, max=385), HTML(value='')))"
      ]
     },
     "metadata": {},
     "output_type": "display_data"
    },
    {
     "name": "stdout",
     "output_type": "stream",
     "text": [
      "https://www.sports.ru/basketball/1082686972.html\n",
      "\n"
     ]
    },
    {
     "data": {
      "application/vnd.jupyter.widget-view+json": {
       "model_id": "c9d0afc3503142ea8c05b1e5e62957de",
       "version_major": 2,
       "version_minor": 0
      },
      "text/plain": [
       "HBox(children=(IntProgress(value=0, max=348), HTML(value='')))"
      ]
     },
     "metadata": {},
     "output_type": "display_data"
    },
    {
     "name": "stdout",
     "output_type": "stream",
     "text": [
      "https://www.sports.ru/biathlon/1082717261.html\n",
      "\n"
     ]
    },
    {
     "data": {
      "application/vnd.jupyter.widget-view+json": {
       "model_id": "c172af05505d42498f5aa7e818bb1eca",
       "version_major": 2,
       "version_minor": 0
      },
      "text/plain": [
       "HBox(children=(IntProgress(value=0, max=298), HTML(value='')))"
      ]
     },
     "metadata": {},
     "output_type": "display_data"
    },
    {
     "name": "stdout",
     "output_type": "stream",
     "text": [
      "\n"
     ]
    },
    {
     "data": {
      "application/vnd.jupyter.widget-view+json": {
       "model_id": "f9b3be6ac3c84bfaaa65d5fa68f6d3a1",
       "version_major": 2,
       "version_minor": 0
      },
      "text/plain": [
       "HBox(children=(IntProgress(value=0, max=310), HTML(value='')))"
      ]
     },
     "metadata": {},
     "output_type": "display_data"
    },
    {
     "name": "stdout",
     "output_type": "stream",
     "text": [
      "\n"
     ]
    },
    {
     "data": {
      "application/vnd.jupyter.widget-view+json": {
       "model_id": "f4b1d4899a2e45fe84905c3771bdc8a5",
       "version_major": 2,
       "version_minor": 0
      },
      "text/plain": [
       "HBox(children=(IntProgress(value=0, max=291), HTML(value='')))"
      ]
     },
     "metadata": {},
     "output_type": "display_data"
    },
    {
     "name": "stdout",
     "output_type": "stream",
     "text": [
      "\n"
     ]
    },
    {
     "data": {
      "application/vnd.jupyter.widget-view+json": {
       "model_id": "7072293191fd49f9bc1f44be1398e00e",
       "version_major": 2,
       "version_minor": 0
      },
      "text/plain": [
       "HBox(children=(IntProgress(value=0, max=317), HTML(value='')))"
      ]
     },
     "metadata": {},
     "output_type": "display_data"
    },
    {
     "name": "stdout",
     "output_type": "stream",
     "text": [
      "https://www.sports.ru/automoto/1082843599.html\n",
      "\n"
     ]
    },
    {
     "data": {
      "application/vnd.jupyter.widget-view+json": {
       "model_id": "3298466ad22a4690b4b2efead02e0729",
       "version_major": 2,
       "version_minor": 0
      },
      "text/plain": [
       "HBox(children=(IntProgress(value=0, max=317), HTML(value='')))"
      ]
     },
     "metadata": {},
     "output_type": "display_data"
    },
    {
     "name": "stdout",
     "output_type": "stream",
     "text": [
      "https://www.sports.ru/basketball/1082871543.html\n",
      "\n"
     ]
    },
    {
     "data": {
      "application/vnd.jupyter.widget-view+json": {
       "model_id": "ac48d0acb17a457392d0e7a4b1ec4a7b",
       "version_major": 2,
       "version_minor": 0
      },
      "text/plain": [
       "HBox(children=(IntProgress(value=0, max=267), HTML(value='')))"
      ]
     },
     "metadata": {},
     "output_type": "display_data"
    },
    {
     "name": "stdout",
     "output_type": "stream",
     "text": [
      "\n"
     ]
    },
    {
     "data": {
      "application/vnd.jupyter.widget-view+json": {
       "model_id": "97dc2197f3ad45b8b4c69db91cb808ee",
       "version_major": 2,
       "version_minor": 0
      },
      "text/plain": [
       "HBox(children=(IntProgress(value=0, max=296), HTML(value='')))"
      ]
     },
     "metadata": {},
     "output_type": "display_data"
    },
    {
     "name": "stdout",
     "output_type": "stream",
     "text": [
      "https://www.sports.ru/hockey/1082931059.html\n",
      "\n"
     ]
    },
    {
     "data": {
      "application/vnd.jupyter.widget-view+json": {
       "model_id": "6b856cf59925438cab798a9f4a6c4447",
       "version_major": 2,
       "version_minor": 0
      },
      "text/plain": [
       "HBox(children=(IntProgress(value=0, max=296), HTML(value='')))"
      ]
     },
     "metadata": {},
     "output_type": "display_data"
    },
    {
     "name": "stdout",
     "output_type": "stream",
     "text": [
      "\n"
     ]
    },
    {
     "data": {
      "application/vnd.jupyter.widget-view+json": {
       "model_id": "8bb743d15d1c4165990358923cb6ccac",
       "version_major": 2,
       "version_minor": 0
      },
      "text/plain": [
       "HBox(children=(IntProgress(value=0, max=296), HTML(value='')))"
      ]
     },
     "metadata": {},
     "output_type": "display_data"
    },
    {
     "name": "stdout",
     "output_type": "stream",
     "text": [
      "\n"
     ]
    },
    {
     "data": {
      "application/vnd.jupyter.widget-view+json": {
       "model_id": "7080795b700b49c3b1e45652763847ce",
       "version_major": 2,
       "version_minor": 0
      },
      "text/plain": [
       "HBox(children=(IntProgress(value=0, max=297), HTML(value='')))"
      ]
     },
     "metadata": {},
     "output_type": "display_data"
    },
    {
     "name": "stdout",
     "output_type": "stream",
     "text": [
      "\n"
     ]
    },
    {
     "data": {
      "application/vnd.jupyter.widget-view+json": {
       "model_id": "0f4ea2ec44c54e8091f19f1e6b85b672",
       "version_major": 2,
       "version_minor": 0
      },
      "text/plain": [
       "HBox(children=(IntProgress(value=0, max=321), HTML(value='')))"
      ]
     },
     "metadata": {},
     "output_type": "display_data"
    },
    {
     "name": "stdout",
     "output_type": "stream",
     "text": [
      "\n"
     ]
    },
    {
     "data": {
      "application/vnd.jupyter.widget-view+json": {
       "model_id": "e523134cdbd24a96a948705e3db16661",
       "version_major": 2,
       "version_minor": 0
      },
      "text/plain": [
       "HBox(children=(IntProgress(value=0, max=337), HTML(value='')))"
      ]
     },
     "metadata": {},
     "output_type": "display_data"
    },
    {
     "name": "stdout",
     "output_type": "stream",
     "text": [
      "\n"
     ]
    },
    {
     "data": {
      "application/vnd.jupyter.widget-view+json": {
       "model_id": "33bdac62a3954ae48d88b6910fec4d17",
       "version_major": 2,
       "version_minor": 0
      },
      "text/plain": [
       "HBox(children=(IntProgress(value=0, max=306), HTML(value='')))"
      ]
     },
     "metadata": {},
     "output_type": "display_data"
    },
    {
     "name": "stdout",
     "output_type": "stream",
     "text": [
      "\n"
     ]
    },
    {
     "data": {
      "application/vnd.jupyter.widget-view+json": {
       "model_id": "b1c8f91be7a74f7b84293a70a0081caa",
       "version_major": 2,
       "version_minor": 0
      },
      "text/plain": [
       "HBox(children=(IntProgress(value=0, max=329), HTML(value='')))"
      ]
     },
     "metadata": {},
     "output_type": "display_data"
    },
    {
     "name": "stdout",
     "output_type": "stream",
     "text": [
      "\n"
     ]
    },
    {
     "data": {
      "application/vnd.jupyter.widget-view+json": {
       "model_id": "d900198349994bf2b2dccd75eae6617b",
       "version_major": 2,
       "version_minor": 0
      },
      "text/plain": [
       "HBox(children=(IntProgress(value=0, max=323), HTML(value='')))"
      ]
     },
     "metadata": {},
     "output_type": "display_data"
    },
    {
     "name": "stdout",
     "output_type": "stream",
     "text": [
      "\n"
     ]
    },
    {
     "data": {
      "application/vnd.jupyter.widget-view+json": {
       "model_id": "dc7e900750b04b929df54dd8770e522e",
       "version_major": 2,
       "version_minor": 0
      },
      "text/plain": [
       "HBox(children=(IntProgress(value=0, max=305), HTML(value='')))"
      ]
     },
     "metadata": {},
     "output_type": "display_data"
    },
    {
     "name": "stdout",
     "output_type": "stream",
     "text": [
      "https://www.sports.ru/football/1083216347.html\n",
      "https://www.sports.ru/hockey/1083216832.html\n",
      "\n"
     ]
    },
    {
     "data": {
      "application/vnd.jupyter.widget-view+json": {
       "model_id": "9ad014d421f546d2b593a12b97f17aa7",
       "version_major": 2,
       "version_minor": 0
      },
      "text/plain": [
       "HBox(children=(IntProgress(value=0, max=303), HTML(value='')))"
      ]
     },
     "metadata": {},
     "output_type": "display_data"
    },
    {
     "name": "stdout",
     "output_type": "stream",
     "text": [
      "\n"
     ]
    },
    {
     "data": {
      "application/vnd.jupyter.widget-view+json": {
       "model_id": "e6804dfdda494df0b79be5f74eda1036",
       "version_major": 2,
       "version_minor": 0
      },
      "text/plain": [
       "HBox(children=(IntProgress(value=0, max=375), HTML(value='')))"
      ]
     },
     "metadata": {},
     "output_type": "display_data"
    },
    {
     "name": "stdout",
     "output_type": "stream",
     "text": [
      "\n"
     ]
    },
    {
     "data": {
      "application/vnd.jupyter.widget-view+json": {
       "model_id": "cc27ec9f938947028d127801393f6b0b",
       "version_major": 2,
       "version_minor": 0
      },
      "text/plain": [
       "HBox(children=(IntProgress(value=0, max=321), HTML(value='')))"
      ]
     },
     "metadata": {},
     "output_type": "display_data"
    },
    {
     "name": "stdout",
     "output_type": "stream",
     "text": [
      "\n"
     ]
    },
    {
     "data": {
      "application/vnd.jupyter.widget-view+json": {
       "model_id": "4908d0c150cc4af19e326917bfb92cd5",
       "version_major": 2,
       "version_minor": 0
      },
      "text/plain": [
       "HBox(children=(IntProgress(value=0, max=328), HTML(value='')))"
      ]
     },
     "metadata": {},
     "output_type": "display_data"
    },
    {
     "name": "stdout",
     "output_type": "stream",
     "text": [
      "\n"
     ]
    },
    {
     "data": {
      "application/vnd.jupyter.widget-view+json": {
       "model_id": "b6dcd5931bf94b0789077b72d80192d0",
       "version_major": 2,
       "version_minor": 0
      },
      "text/plain": [
       "HBox(children=(IntProgress(value=0, max=405), HTML(value='')))"
      ]
     },
     "metadata": {},
     "output_type": "display_data"
    },
    {
     "name": "stdout",
     "output_type": "stream",
     "text": [
      "\n"
     ]
    },
    {
     "data": {
      "application/vnd.jupyter.widget-view+json": {
       "model_id": "7d29c3d8cf174530bf5627b6c3e5d095",
       "version_major": 2,
       "version_minor": 0
      },
      "text/plain": [
       "HBox(children=(IntProgress(value=0, max=353), HTML(value='')))"
      ]
     },
     "metadata": {},
     "output_type": "display_data"
    },
    {
     "name": "stdout",
     "output_type": "stream",
     "text": [
      "\n"
     ]
    },
    {
     "data": {
      "application/vnd.jupyter.widget-view+json": {
       "model_id": "75a7d2bc3b6b4c46baa98bd29bb51767",
       "version_major": 2,
       "version_minor": 0
      },
      "text/plain": [
       "HBox(children=(IntProgress(value=0, max=351), HTML(value='')))"
      ]
     },
     "metadata": {},
     "output_type": "display_data"
    },
    {
     "name": "stdout",
     "output_type": "stream",
     "text": [
      "https://www.sports.ru/football/1083421401.html\n",
      "\n"
     ]
    },
    {
     "data": {
      "application/vnd.jupyter.widget-view+json": {
       "model_id": "860201e69eb8497b86444713b0d21f30",
       "version_major": 2,
       "version_minor": 0
      },
      "text/plain": [
       "HBox(children=(IntProgress(value=0, max=333), HTML(value='')))"
      ]
     },
     "metadata": {},
     "output_type": "display_data"
    },
    {
     "name": "stdout",
     "output_type": "stream",
     "text": [
      "\n"
     ]
    },
    {
     "data": {
      "application/vnd.jupyter.widget-view+json": {
       "model_id": "08a27529923e4816b4f782b4c1d30b04",
       "version_major": 2,
       "version_minor": 0
      },
      "text/plain": [
       "HBox(children=(IntProgress(value=0, max=320), HTML(value='')))"
      ]
     },
     "metadata": {},
     "output_type": "display_data"
    },
    {
     "name": "stdout",
     "output_type": "stream",
     "text": [
      "\n"
     ]
    },
    {
     "data": {
      "application/vnd.jupyter.widget-view+json": {
       "model_id": "0c846cf593d54aaaa3b93d7ca5a9902f",
       "version_major": 2,
       "version_minor": 0
      },
      "text/plain": [
       "HBox(children=(IntProgress(value=0, max=322), HTML(value='')))"
      ]
     },
     "metadata": {},
     "output_type": "display_data"
    },
    {
     "name": "stdout",
     "output_type": "stream",
     "text": [
      "\n"
     ]
    },
    {
     "data": {
      "application/vnd.jupyter.widget-view+json": {
       "model_id": "e8b5bd441b1944a8870c9d88e380b1d2",
       "version_major": 2,
       "version_minor": 0
      },
      "text/plain": [
       "HBox(children=(IntProgress(value=0, max=349), HTML(value='')))"
      ]
     },
     "metadata": {},
     "output_type": "display_data"
    },
    {
     "name": "stdout",
     "output_type": "stream",
     "text": [
      "\n"
     ]
    },
    {
     "data": {
      "application/vnd.jupyter.widget-view+json": {
       "model_id": "4417f29268fb47709da6bf5e1bffb18c",
       "version_major": 2,
       "version_minor": 0
      },
      "text/plain": [
       "HBox(children=(IntProgress(value=0, max=320), HTML(value='')))"
      ]
     },
     "metadata": {},
     "output_type": "display_data"
    },
    {
     "name": "stdout",
     "output_type": "stream",
     "text": [
      "\n"
     ]
    },
    {
     "data": {
      "application/vnd.jupyter.widget-view+json": {
       "model_id": "a78951abcf1744f5977b07e6c798f053",
       "version_major": 2,
       "version_minor": 0
      },
      "text/plain": [
       "HBox(children=(IntProgress(value=0, max=338), HTML(value='')))"
      ]
     },
     "metadata": {},
     "output_type": "display_data"
    },
    {
     "name": "stdout",
     "output_type": "stream",
     "text": [
      "https://www.sports.ru/basketball/1083642495.html\n",
      "\n"
     ]
    },
    {
     "data": {
      "application/vnd.jupyter.widget-view+json": {
       "model_id": "594b9af2008b4a36b21ac3929ee5168e",
       "version_major": 2,
       "version_minor": 0
      },
      "text/plain": [
       "HBox(children=(IntProgress(value=0, max=340), HTML(value='')))"
      ]
     },
     "metadata": {},
     "output_type": "display_data"
    },
    {
     "name": "stdout",
     "output_type": "stream",
     "text": [
      "\n"
     ]
    },
    {
     "data": {
      "application/vnd.jupyter.widget-view+json": {
       "model_id": "bff6a88e12b9497a82e40744437b7d73",
       "version_major": 2,
       "version_minor": 0
      },
      "text/plain": [
       "HBox(children=(IntProgress(value=0, max=360), HTML(value='')))"
      ]
     },
     "metadata": {},
     "output_type": "display_data"
    },
    {
     "name": "stdout",
     "output_type": "stream",
     "text": [
      "\n"
     ]
    },
    {
     "data": {
      "application/vnd.jupyter.widget-view+json": {
       "model_id": "6466ce3254114a9da6e7808678908ebc",
       "version_major": 2,
       "version_minor": 0
      },
      "text/plain": [
       "HBox(children=(IntProgress(value=0, max=356), HTML(value='')))"
      ]
     },
     "metadata": {},
     "output_type": "display_data"
    },
    {
     "name": "stdout",
     "output_type": "stream",
     "text": [
      "\n"
     ]
    },
    {
     "data": {
      "application/vnd.jupyter.widget-view+json": {
       "model_id": "6f1d925b628a472ba21426c064b42173",
       "version_major": 2,
       "version_minor": 0
      },
      "text/plain": [
       "HBox(children=(IntProgress(value=0, max=311), HTML(value='')))"
      ]
     },
     "metadata": {},
     "output_type": "display_data"
    },
    {
     "name": "stdout",
     "output_type": "stream",
     "text": [
      "\n",
      "\n"
     ]
    },
    {
     "data": {
      "text/html": [
       "<div>\n",
       "<style scoped>\n",
       "    .dataframe tbody tr th:only-of-type {\n",
       "        vertical-align: middle;\n",
       "    }\n",
       "\n",
       "    .dataframe tbody tr th {\n",
       "        vertical-align: top;\n",
       "    }\n",
       "\n",
       "    .dataframe thead th {\n",
       "        text-align: right;\n",
       "    }\n",
       "</style>\n",
       "<table border=\"1\" class=\"dataframe\">\n",
       "  <thead>\n",
       "    <tr style=\"text-align: right;\">\n",
       "      <th></th>\n",
       "      <th>Media</th>\n",
       "      <th>Date</th>\n",
       "      <th>Link</th>\n",
       "      <th>Text</th>\n",
       "      <th>Dep</th>\n",
       "      <th>Tags</th>\n",
       "    </tr>\n",
       "  </thead>\n",
       "  <tbody>\n",
       "    <tr>\n",
       "      <td>0</td>\n",
       "      <td>sports.ru</td>\n",
       "      <td>2020.01.01</td>\n",
       "      <td>https://www.sports.ru/hockey/1081900717.html</td>\n",
       "      <td>Россия сыграет со Швейцарией в 1/4 финала МЧМ ...</td>\n",
       "      <td></td>\n",
       "      <td>[]</td>\n",
       "    </tr>\n",
       "    <tr>\n",
       "      <td>1</td>\n",
       "      <td>sports.ru</td>\n",
       "      <td>2020.01.01</td>\n",
       "      <td>https://www.sports.ru/basketball/1081903293.html</td>\n",
       "      <td>Кристапс Порзингис пропустил матч с «Оклахомой...</td>\n",
       "      <td></td>\n",
       "      <td>[]</td>\n",
       "    </tr>\n",
       "    <tr>\n",
       "      <td>2</td>\n",
       "      <td>sports.ru</td>\n",
       "      <td>2020.01.01</td>\n",
       "      <td>https://www.sports.ru/basketball/1081903279.html</td>\n",
       "      <td>Расселл Уэстбрук изобразил Николу Йокичу после...</td>\n",
       "      <td></td>\n",
       "      <td>[]</td>\n",
       "    </tr>\n",
       "    <tr>\n",
       "      <td>3</td>\n",
       "      <td>sports.ru</td>\n",
       "      <td>2020.01.01</td>\n",
       "      <td>https://www.sports.ru/basketball/1081903424.html</td>\n",
       "      <td>Домантас Сабонис вколотил сверху через Норвела...</td>\n",
       "      <td></td>\n",
       "      <td>[]</td>\n",
       "    </tr>\n",
       "    <tr>\n",
       "      <td>4</td>\n",
       "      <td>sports.ru</td>\n",
       "      <td>2020.01.01</td>\n",
       "      <td>https://www.sports.ru/basketball/1081903442.html</td>\n",
       "      <td>Тим Хардуэй вернется в строй со дня на день .А...</td>\n",
       "      <td></td>\n",
       "      <td>[]</td>\n",
       "    </tr>\n",
       "    <tr>\n",
       "      <td>...</td>\n",
       "      <td>...</td>\n",
       "      <td>...</td>\n",
       "      <td>...</td>\n",
       "      <td>...</td>\n",
       "      <td>...</td>\n",
       "      <td>...</td>\n",
       "    </tr>\n",
       "    <tr>\n",
       "      <td>18566</td>\n",
       "      <td>sports.ru</td>\n",
       "      <td>2020.02.28</td>\n",
       "      <td>https://www.sports.ru/football/1083780576.html</td>\n",
       "      <td>Контракт Суареса с «Барсой» продлится, если он...</td>\n",
       "      <td></td>\n",
       "      <td>[]</td>\n",
       "    </tr>\n",
       "    <tr>\n",
       "      <td>18567</td>\n",
       "      <td>sports.ru</td>\n",
       "      <td>2020.02.28</td>\n",
       "      <td>https://www.sports.ru/tennis/1083780788.html</td>\n",
       "      <td>Светлана Кузнецова: «Нужно снова привыкнуть к ...</td>\n",
       "      <td></td>\n",
       "      <td>[]</td>\n",
       "    </tr>\n",
       "    <tr>\n",
       "      <td>18568</td>\n",
       "      <td>sports.ru</td>\n",
       "      <td>2020.02.28</td>\n",
       "      <td>https://www.sports.ru/hockey/1083780619.html</td>\n",
       "      <td>Малкин о Ковальчуке: «Не встречал человека с т...</td>\n",
       "      <td></td>\n",
       "      <td>[]</td>\n",
       "    </tr>\n",
       "    <tr>\n",
       "      <td>18569</td>\n",
       "      <td>sports.ru</td>\n",
       "      <td>2020.02.28</td>\n",
       "      <td>https://www.sports.ru/tennis/1083780939.html</td>\n",
       "      <td>Арина Соболенко: «Сейчас я не боюсь затяжных р...</td>\n",
       "      <td></td>\n",
       "      <td>[]</td>\n",
       "    </tr>\n",
       "    <tr>\n",
       "      <td>18570</td>\n",
       "      <td>sports.ru</td>\n",
       "      <td>2020.02.28</td>\n",
       "      <td>https://www.sports.ru/football/1083781284.html</td>\n",
       "      <td>«Атлетико» оспорит штраф в 12 тысяч евро за вы...</td>\n",
       "      <td></td>\n",
       "      <td>[]</td>\n",
       "    </tr>\n",
       "  </tbody>\n",
       "</table>\n",
       "<p>18571 rows × 6 columns</p>\n",
       "</div>"
      ],
      "text/plain": [
       "           Media        Date  \\\n",
       "0      sports.ru  2020.01.01   \n",
       "1      sports.ru  2020.01.01   \n",
       "2      sports.ru  2020.01.01   \n",
       "3      sports.ru  2020.01.01   \n",
       "4      sports.ru  2020.01.01   \n",
       "...          ...         ...   \n",
       "18566  sports.ru  2020.02.28   \n",
       "18567  sports.ru  2020.02.28   \n",
       "18568  sports.ru  2020.02.28   \n",
       "18569  sports.ru  2020.02.28   \n",
       "18570  sports.ru  2020.02.28   \n",
       "\n",
       "                                                   Link  \\\n",
       "0          https://www.sports.ru/hockey/1081900717.html   \n",
       "1      https://www.sports.ru/basketball/1081903293.html   \n",
       "2      https://www.sports.ru/basketball/1081903279.html   \n",
       "3      https://www.sports.ru/basketball/1081903424.html   \n",
       "4      https://www.sports.ru/basketball/1081903442.html   \n",
       "...                                                 ...   \n",
       "18566    https://www.sports.ru/football/1083780576.html   \n",
       "18567      https://www.sports.ru/tennis/1083780788.html   \n",
       "18568      https://www.sports.ru/hockey/1083780619.html   \n",
       "18569      https://www.sports.ru/tennis/1083780939.html   \n",
       "18570    https://www.sports.ru/football/1083781284.html   \n",
       "\n",
       "                                                    Text Dep Tags  \n",
       "0      Россия сыграет со Швейцарией в 1/4 финала МЧМ ...       []  \n",
       "1      Кристапс Порзингис пропустил матч с «Оклахомой...       []  \n",
       "2      Расселл Уэстбрук изобразил Николу Йокичу после...       []  \n",
       "3      Домантас Сабонис вколотил сверху через Норвела...       []  \n",
       "4      Тим Хардуэй вернется в строй со дня на день .А...       []  \n",
       "...                                                  ...  ..  ...  \n",
       "18566  Контракт Суареса с «Барсой» продлится, если он...       []  \n",
       "18567  Светлана Кузнецова: «Нужно снова привыкнуть к ...       []  \n",
       "18568  Малкин о Ковальчуке: «Не встречал человека с т...       []  \n",
       "18569  Арина Соболенко: «Сейчас я не боюсь затяжных р...       []  \n",
       "18570  «Атлетико» оспорит штраф в 12 тысяч евро за вы...       []  \n",
       "\n",
       "[18571 rows x 6 columns]"
      ]
     },
     "execution_count": 169,
     "metadata": {},
     "output_type": "execute_result"
    }
   ],
   "source": [
    "sports_2020 = []\n",
    "for date in tqdm_notebook(list(sports_20.keys())):\n",
    "    for link in tqdm_notebook(sports_20[date]):\n",
    "#         if link not in pd.DataFrame(gazeta_2020).Link:\n",
    "        try:\n",
    "            sports_2020.append({'Media':'sports.ru', 'Date':date, 'Link':link,\n",
    "                                       'Text':get_article_sports(link), 'Dep':'', 'Tags':[]})\n",
    "        except (requests.exceptions.ConnectionError, AttributeError, \n",
    "                IndexError, requests.exceptions.TooManyRedirects):\n",
    "            print(link)\n",
    "    if date.endswith('1'):\n",
    "        pd.DataFrame(sports_2020).to_csv('sports_2020.csv', encoding='utf-8')\n",
    "pd.DataFrame(sports_2020).to_csv('sports_2020.csv', encoding='utf-8')\n",
    "pd.DataFrame(sports_2020)"
   ]
  },
  {
   "cell_type": "code",
   "execution_count": 172,
   "metadata": {},
   "outputs": [],
   "source": [
    "with open('sports_links_2019.json') as f:\n",
    "    sports_19 = json.load(f)"
   ]
  },
  {
   "cell_type": "code",
   "execution_count": 175,
   "metadata": {},
   "outputs": [
    {
     "data": {
      "text/html": [
       "<div>\n",
       "<style scoped>\n",
       "    .dataframe tbody tr th:only-of-type {\n",
       "        vertical-align: middle;\n",
       "    }\n",
       "\n",
       "    .dataframe tbody tr th {\n",
       "        vertical-align: top;\n",
       "    }\n",
       "\n",
       "    .dataframe thead th {\n",
       "        text-align: right;\n",
       "    }\n",
       "</style>\n",
       "<table border=\"1\" class=\"dataframe\">\n",
       "  <thead>\n",
       "    <tr style=\"text-align: right;\">\n",
       "      <th></th>\n",
       "      <th>Media</th>\n",
       "      <th>Date</th>\n",
       "      <th>Link</th>\n",
       "      <th>Text</th>\n",
       "      <th>Dep</th>\n",
       "      <th>Tags</th>\n",
       "    </tr>\n",
       "  </thead>\n",
       "  <tbody>\n",
       "    <tr>\n",
       "      <td>0</td>\n",
       "      <td>sports.ru</td>\n",
       "      <td>2019.01.01</td>\n",
       "      <td>https://www.sports.ru/basketball/1070210279.html</td>\n",
       "      <td>Андре Игудала оштрафован на 25 000 долларов за...</td>\n",
       "      <td></td>\n",
       "      <td>[]</td>\n",
       "    </tr>\n",
       "    <tr>\n",
       "      <td>1</td>\n",
       "      <td>sports.ru</td>\n",
       "      <td>2019.01.01</td>\n",
       "      <td>https://www.sports.ru/basketball/1070210349.html</td>\n",
       "      <td>Джордан Кроуфорд подписал контракт с «Шаньси» ...</td>\n",
       "      <td></td>\n",
       "      <td>[]</td>\n",
       "    </tr>\n",
       "    <tr>\n",
       "      <td>2</td>\n",
       "      <td>sports.ru</td>\n",
       "      <td>2019.01.01</td>\n",
       "      <td>https://www.sports.ru/basketball/1070210397.html</td>\n",
       "      <td>Ян Веселы признан лучшим игроком Евролиги в де...</td>\n",
       "      <td></td>\n",
       "      <td>[]</td>\n",
       "    </tr>\n",
       "    <tr>\n",
       "      <td>3</td>\n",
       "      <td>sports.ru</td>\n",
       "      <td>2019.01.01</td>\n",
       "      <td>https://www.sports.ru/basketball/1070212957.html</td>\n",
       "      <td>Кайри Ирвинг повредил глаз в матче со «Сперс» ...</td>\n",
       "      <td></td>\n",
       "      <td>[]</td>\n",
       "    </tr>\n",
       "    <tr>\n",
       "      <td>4</td>\n",
       "      <td>sports.ru</td>\n",
       "      <td>2019.01.01</td>\n",
       "      <td>https://www.sports.ru/basketball/1070212996.html</td>\n",
       "      <td>Коди Зеллер получил перелом руки в матче с «Ор...</td>\n",
       "      <td></td>\n",
       "      <td>[]</td>\n",
       "    </tr>\n",
       "    <tr>\n",
       "      <td>...</td>\n",
       "      <td>...</td>\n",
       "      <td>...</td>\n",
       "      <td>...</td>\n",
       "      <td>...</td>\n",
       "      <td>...</td>\n",
       "      <td>...</td>\n",
       "    </tr>\n",
       "    <tr>\n",
       "      <td>66540</td>\n",
       "      <td>sports.ru</td>\n",
       "      <td>2019.08.25</td>\n",
       "      <td>https://www.sports.ru/football/1077549109.html</td>\n",
       "      <td>«Фиорентина» может обменять Джованни Симеоне в...</td>\n",
       "      <td></td>\n",
       "      <td>[]</td>\n",
       "    </tr>\n",
       "    <tr>\n",
       "      <td>66541</td>\n",
       "      <td>sports.ru</td>\n",
       "      <td>2019.08.25</td>\n",
       "      <td>https://www.sports.ru/football/1077549465.html</td>\n",
       "      <td>Гари Невилл: «Ливерпуль» очень хорош, и мне бо...</td>\n",
       "      <td></td>\n",
       "      <td>[]</td>\n",
       "    </tr>\n",
       "    <tr>\n",
       "      <td>66542</td>\n",
       "      <td>sports.ru</td>\n",
       "      <td>2019.08.25</td>\n",
       "      <td>https://www.sports.ru/football/1077549505.html</td>\n",
       "      <td>«Брешия» хочет подписать защитника Роланду .За...</td>\n",
       "      <td></td>\n",
       "      <td>[]</td>\n",
       "    </tr>\n",
       "    <tr>\n",
       "      <td>66543</td>\n",
       "      <td>sports.ru</td>\n",
       "      <td>2019.08.25</td>\n",
       "      <td>https://www.sports.ru/hockey/1077549423.html</td>\n",
       "      <td>Заварухин о возможном уходе Лофквиста: «Не буд...</td>\n",
       "      <td></td>\n",
       "      <td>[]</td>\n",
       "    </tr>\n",
       "    <tr>\n",
       "      <td>66544</td>\n",
       "      <td>sports.ru</td>\n",
       "      <td>2019.08.25</td>\n",
       "      <td>https://www.sports.ru/hockey/1077549581.html</td>\n",
       "      <td>Курт Фрэйзер о поражении от «Сибири»: «Куньлун...</td>\n",
       "      <td></td>\n",
       "      <td>[]</td>\n",
       "    </tr>\n",
       "  </tbody>\n",
       "</table>\n",
       "<p>66545 rows × 6 columns</p>\n",
       "</div>"
      ],
      "text/plain": [
       "           Media        Date  \\\n",
       "0      sports.ru  2019.01.01   \n",
       "1      sports.ru  2019.01.01   \n",
       "2      sports.ru  2019.01.01   \n",
       "3      sports.ru  2019.01.01   \n",
       "4      sports.ru  2019.01.01   \n",
       "...          ...         ...   \n",
       "66540  sports.ru  2019.08.25   \n",
       "66541  sports.ru  2019.08.25   \n",
       "66542  sports.ru  2019.08.25   \n",
       "66543  sports.ru  2019.08.25   \n",
       "66544  sports.ru  2019.08.25   \n",
       "\n",
       "                                                   Link  \\\n",
       "0      https://www.sports.ru/basketball/1070210279.html   \n",
       "1      https://www.sports.ru/basketball/1070210349.html   \n",
       "2      https://www.sports.ru/basketball/1070210397.html   \n",
       "3      https://www.sports.ru/basketball/1070212957.html   \n",
       "4      https://www.sports.ru/basketball/1070212996.html   \n",
       "...                                                 ...   \n",
       "66540    https://www.sports.ru/football/1077549109.html   \n",
       "66541    https://www.sports.ru/football/1077549465.html   \n",
       "66542    https://www.sports.ru/football/1077549505.html   \n",
       "66543      https://www.sports.ru/hockey/1077549423.html   \n",
       "66544      https://www.sports.ru/hockey/1077549581.html   \n",
       "\n",
       "                                                    Text Dep Tags  \n",
       "0      Андре Игудала оштрафован на 25 000 долларов за...       []  \n",
       "1      Джордан Кроуфорд подписал контракт с «Шаньси» ...       []  \n",
       "2      Ян Веселы признан лучшим игроком Евролиги в де...       []  \n",
       "3      Кайри Ирвинг повредил глаз в матче со «Сперс» ...       []  \n",
       "4      Коди Зеллер получил перелом руки в матче с «Ор...       []  \n",
       "...                                                  ...  ..  ...  \n",
       "66540  «Фиорентина» может обменять Джованни Симеоне в...       []  \n",
       "66541  Гари Невилл: «Ливерпуль» очень хорош, и мне бо...       []  \n",
       "66542  «Брешия» хочет подписать защитника Роланду .За...       []  \n",
       "66543  Заварухин о возможном уходе Лофквиста: «Не буд...       []  \n",
       "66544  Курт Фрэйзер о поражении от «Сибири»: «Куньлун...       []  \n",
       "\n",
       "[66545 rows x 6 columns]"
      ]
     },
     "execution_count": 175,
     "metadata": {},
     "output_type": "execute_result"
    }
   ],
   "source": [
    "# sports_2019 = []\n",
    "# for date in tqdm_notebook(list(sports_19.keys())[5:]):\n",
    "#     for link in tqdm_notebook(sports_19[date]):\n",
    "#         if link not in pd.DataFrame(sports_2019).Link:\n",
    "#             try:\n",
    "#                 sports_2019.append({'Media':'sports.ru', 'Date':date, 'Link':link,\n",
    "#                                            'Text':get_article_sports(link), 'Dep':'', 'Tags':[]})\n",
    "#             except (requests.exceptions.ConnectionError, AttributeError, \n",
    "#                     IndexError, requests.exceptions.TooManyRedirects):\n",
    "#                 print(link)\n",
    "#     if date.endswith('1'):\n",
    "#         pd.DataFrame(sports_2019).to_csv('sports_2019.csv', encoding='utf-8')\n",
    "pd.DataFrame(sports_2019).to_csv('sports_2019.csv', encoding='utf-8')\n",
    "pd.DataFrame(sports_2019)"
   ]
  },
  {
   "cell_type": "code",
   "execution_count": null,
   "metadata": {},
   "outputs": [],
   "source": []
  },
  {
   "cell_type": "markdown",
   "metadata": {},
   "source": [
    "## Motor"
   ]
  },
  {
   "cell_type": "code",
   "execution_count": 108,
   "metadata": {},
   "outputs": [],
   "source": [
    "date = '2020/03/06'\n",
    "link = f'https://motor.ru/pulse/{date}'\n",
    "headers = {'User-Agent':'Mozilla/5.0 (Windows NT 10.0; Win64; x64; rv:76.0) Gecko/20100101 Firefox/76.0'}\n",
    "r = requests.get(link, headers=headers)\n",
    "soup = BS(r.text)"
   ]
  },
  {
   "cell_type": "code",
   "execution_count": 117,
   "metadata": {},
   "outputs": [
    {
     "data": {
      "text/plain": [
       "['https://motor.ru/news/hybrid911-06-03-2020.htm',\n",
       " 'https://motor.ru/news/europetransport-06-03-2020.htm',\n",
       " 'https://motor.ru/news/new-a3-rus-06-03-2020.htm',\n",
       " 'https://motor.ru/news/newhyundaicreta-06-03-2020.htm',\n",
       " 'https://motor.ru/news/special-lexus-06-03-2020.htm',\n",
       " 'https://motor.ru/news/toyota-global-recall-06-03-2020.htm',\n",
       " 'https://motor.ru/news/lada-ukraine-06-03-2020.htm',\n",
       " 'https://motor.ru/news/koenigsegg-jesko-top-speed-06-03-2020.htm',\n",
       " 'https://motor.ru/news/gtavslife-06-03-2020.htm',\n",
       " 'https://motor.ru/news/mercedes-benz-gla-price-rus-06-03-2020.htm',\n",
       " 'https://motor.ru/news/ford-bronco-leaked-06-03-2020.htm',\n",
       " 'https://motor.ru/news/womendrivers-06-03-2020.htm',\n",
       " 'https://motor.ru/news/renault-fota-06-03-2020.htm',\n",
       " 'https://motor.ru/news/seat-project-06-03-2020.htm',\n",
       " 'https://motor.ru/news/mercedes-benz-glb-price-rus-06-03-2020.htm',\n",
       " 'https://motor.ru/news/chevrolet-camaro-ev-06-03-2020.htm',\n",
       " 'https://motor.ru/lab/wcoty-2020.htm',\n",
       " 'https://motor.ru/news/mini-bond-06-03-2020.htm']"
      ]
     },
     "execution_count": 117,
     "metadata": {},
     "output_type": "execute_result"
    }
   ],
   "source": [
    "['https://motor.ru'+a['href'] for a in soup.find_all('div', 'block')[1].find_all('a') \n",
    " if 'authors' not in a['href'] and 'pulse' not in a['href']]"
   ]
  },
  {
   "cell_type": "code",
   "execution_count": 118,
   "metadata": {
    "scrolled": true
   },
   "outputs": [
    {
     "data": {
      "application/vnd.jupyter.widget-view+json": {
       "model_id": "38c5c3379ade4153be7f8d33dc38dc08",
       "version_major": 2,
       "version_minor": 0
      },
      "text/plain": [
       "HBox(children=(IntProgress(value=0, max=2), HTML(value='')))"
      ]
     },
     "metadata": {},
     "output_type": "display_data"
    },
    {
     "data": {
      "application/vnd.jupyter.widget-view+json": {
       "model_id": "cb186f64f8f04b5a850fb5e8970aa6da",
       "version_major": 2,
       "version_minor": 0
      },
      "text/plain": [
       "HBox(children=(IntProgress(value=0, max=31), HTML(value='')))"
      ]
     },
     "metadata": {},
     "output_type": "display_data"
    },
    {
     "name": "stdout",
     "output_type": "stream",
     "text": [
      "2020.01.01 3\n",
      "2020.01.02 6\n",
      "2020.01.03 6\n",
      "2020.01.04 10\n",
      "2020.01.05 14\n",
      "2020.01.06 9\n",
      "2020.01.07 7\n",
      "2020.01.08 11\n",
      "2020.01.09 16\n",
      "2020.01.10 16\n",
      "2020.01.11 13\n",
      "2020.01.12 13\n",
      "2020.01.13 15\n",
      "2020.01.14 22\n",
      "2020.01.15 18\n",
      "2020.01.16 17\n",
      "2020.01.17 20\n",
      "2020.01.18 12\n",
      "2020.01.19 13\n",
      "2020.01.20 19\n",
      "2020.01.21 19\n",
      "2020.01.22 20\n",
      "2020.01.23 21\n",
      "2020.01.24 18\n",
      "2020.01.25 13\n",
      "2020.01.26 12\n",
      "2020.01.27 19\n",
      "2020.01.28 20\n",
      "2020.01.29 17\n",
      "2020.01.30 17\n",
      "2020.01.31 15\n",
      "\n"
     ]
    },
    {
     "data": {
      "application/vnd.jupyter.widget-view+json": {
       "model_id": "a5ff1b895487408a93446b698d5bf5d9",
       "version_major": 2,
       "version_minor": 0
      },
      "text/plain": [
       "HBox(children=(IntProgress(value=0, max=28), HTML(value='')))"
      ]
     },
     "metadata": {},
     "output_type": "display_data"
    },
    {
     "name": "stdout",
     "output_type": "stream",
     "text": [
      "2020.02.01 12\n",
      "2020.02.02 14\n",
      "2020.02.03 20\n",
      "2020.02.04 16\n",
      "2020.02.05 22\n",
      "2020.02.06 17\n",
      "2020.02.07 16\n",
      "2020.02.08 12\n",
      "2020.02.09 13\n",
      "2020.02.10 20\n",
      "2020.02.11 18\n",
      "2020.02.12 22\n",
      "2020.02.13 18\n",
      "2020.02.14 19\n",
      "2020.02.15 11\n",
      "2020.02.16 15\n",
      "2020.02.17 16\n",
      "2020.02.18 17\n",
      "2020.02.19 23\n",
      "2020.02.20 18\n",
      "2020.02.21 15\n",
      "2020.02.22 12\n",
      "2020.02.23 14\n",
      "2020.02.24 14\n",
      "2020.02.25 19\n",
      "2020.02.26 15\n",
      "2020.02.27 18\n",
      "2020.02.28 17\n",
      "\n",
      "\n"
     ]
    }
   ],
   "source": [
    "months = {1:31, 2:28, 3:31, 4:30, 5:31, 6:30, 7:31, 8:31, 9:30, 10:31, 11:30, 12:31}\n",
    "motor_20 = dict()\n",
    "for month in tqdm_notebook(list(months.keys())[:2]):\n",
    "    for day in tqdm_notebook(list(range(months[month]))):\n",
    "        date = f'2020/{month:02d}/{day+1:02d}'\n",
    "#         sports_20[f'2020.{month:02d}.{day+1:02d}'] = []\n",
    "        try:\n",
    "            url = f'https://motor.ru/pulse/{date}'\n",
    "            r = requests.get(url)\n",
    "            soup = BeautifulSoup(r.text)\n",
    "            links = ['https://motor.ru'+a['href'] for a in soup.find_all('div', 'block')[1].find_all('a') \n",
    "                     if 'authors' not in a['href'] and 'pulse' not in a['href']]\n",
    "            motor_20[f'2020.{month:02d}.{day+1:02d}'] = links\n",
    "            print(f'2020.{month:02d}.{day+1:02d}', len(links))\n",
    "        except (AttributeError, IndexError):\n",
    "            print(date)\n",
    "with open('motor_links_2020.json', 'w', encoding = 'utf-8') as f:\n",
    "    json.dump(motor_20, f)"
   ]
  },
  {
   "cell_type": "code",
   "execution_count": 119,
   "metadata": {
    "scrolled": true
   },
   "outputs": [
    {
     "data": {
      "application/vnd.jupyter.widget-view+json": {
       "model_id": "7107a51537244ad2a90dd59530fb663e",
       "version_major": 2,
       "version_minor": 0
      },
      "text/plain": [
       "HBox(children=(IntProgress(value=0, max=12), HTML(value='')))"
      ]
     },
     "metadata": {},
     "output_type": "display_data"
    },
    {
     "data": {
      "application/vnd.jupyter.widget-view+json": {
       "model_id": "200f7706a9e348478f0c4664c629341b",
       "version_major": 2,
       "version_minor": 0
      },
      "text/plain": [
       "HBox(children=(IntProgress(value=0, max=31), HTML(value='')))"
      ]
     },
     "metadata": {},
     "output_type": "display_data"
    },
    {
     "name": "stdout",
     "output_type": "stream",
     "text": [
      "2019.01.01 11\n",
      "2019.01.02 11\n",
      "2019.01.03 7\n",
      "2019.01.04 7\n",
      "2019.01.05 1\n",
      "2019.01.06 1\n",
      "2019.01.07 7\n",
      "2019.01.08 5\n",
      "2019.01.09 17\n",
      "2019.01.10 15\n",
      "2019.01.11 11\n",
      "2019.01.12 11\n",
      "2019.01.13 11\n",
      "2019.01.14 14\n",
      "2019.01.15 16\n",
      "2019.01.16 14\n",
      "2019.01.17 11\n",
      "2019.01.18 11\n",
      "2019.01.19 11\n",
      "2019.01.20 11\n",
      "2019.01.21 11\n",
      "2019.01.22 13\n",
      "2019.01.23 14\n",
      "2019.01.24 15\n",
      "2019.01.25 11\n",
      "2019.01.26 3\n",
      "2019.01.27 1\n",
      "2019.01.28 14\n",
      "2019.01.29 13\n",
      "2019.01.30 11\n",
      "2019.01.31 11\n",
      "\n"
     ]
    },
    {
     "data": {
      "application/vnd.jupyter.widget-view+json": {
       "model_id": "639b1d03f0664841abb080afaa2d5884",
       "version_major": 2,
       "version_minor": 0
      },
      "text/plain": [
       "HBox(children=(IntProgress(value=0, max=28), HTML(value='')))"
      ]
     },
     "metadata": {},
     "output_type": "display_data"
    },
    {
     "name": "stdout",
     "output_type": "stream",
     "text": [
      "2019.02.01 13\n",
      "2019.02.02 2\n",
      "2019.02.03 2\n",
      "2019.02.04 13\n",
      "2019.02.05 15\n",
      "2019.02.06 13\n",
      "2019.02.07 13\n",
      "2019.02.08 11\n",
      "2019.02.09 2\n",
      "2019.02.10 3\n",
      "2019.02.11 10\n",
      "2019.02.12 12\n",
      "2019.02.13 13\n",
      "2019.02.14 12\n",
      "2019.02.15 12\n",
      "2019.02.16 4\n",
      "2019.02.17 2\n",
      "2019.02.18 13\n",
      "2019.02.19 11\n",
      "2019.02.20 13\n",
      "2019.02.21 10\n",
      "2019.02.22 12\n",
      "2019.02.23 3\n",
      "2019.02.24 2\n",
      "2019.02.25 9\n",
      "2019.02.26 10\n",
      "2019.02.27 13\n",
      "2019.02.28 12\n",
      "\n"
     ]
    },
    {
     "data": {
      "application/vnd.jupyter.widget-view+json": {
       "model_id": "2e81da68fe4b499b90e10b1dd0200ff4",
       "version_major": 2,
       "version_minor": 0
      },
      "text/plain": [
       "HBox(children=(IntProgress(value=0, max=31), HTML(value='')))"
      ]
     },
     "metadata": {},
     "output_type": "display_data"
    },
    {
     "name": "stdout",
     "output_type": "stream",
     "text": [
      "2019.03.01 10\n",
      "2019.03.02 2\n",
      "2019.03.03 1\n",
      "2019.03.04 12\n",
      "2019.03.05 26\n",
      "2019.03.06 12\n",
      "2019.03.07 9\n",
      "2019.03.08 1\n",
      "2019.03.09 1\n",
      "2019.03.10 1\n",
      "2019.03.11 12\n",
      "2019.03.12 12\n",
      "2019.03.13 10\n",
      "2019.03.14 11\n",
      "2019.03.15 9\n",
      "2019.03.16 1\n",
      "2019.03.17 1\n",
      "2019.03.18 10\n",
      "2019.03.19 12\n",
      "2019.03.20 11\n",
      "2019.03.21 10\n",
      "2019.03.22 14\n",
      "2019.03.23 14\n",
      "2019.03.24 14\n",
      "2019.03.25 12\n",
      "2019.03.26 13\n",
      "2019.03.27 14\n",
      "2019.03.28 13\n",
      "2019.03.29 14\n",
      "2019.03.30 1\n",
      "2019.03.31 1\n",
      "\n"
     ]
    },
    {
     "data": {
      "application/vnd.jupyter.widget-view+json": {
       "model_id": "a08060196896434793f3b8b6480550da",
       "version_major": 2,
       "version_minor": 0
      },
      "text/plain": [
       "HBox(children=(IntProgress(value=0, max=30), HTML(value='')))"
      ]
     },
     "metadata": {},
     "output_type": "display_data"
    },
    {
     "name": "stdout",
     "output_type": "stream",
     "text": [
      "2019.04.01 13\n",
      "2019.04.02 14\n",
      "2019.04.03 15\n",
      "2019.04.04 13\n",
      "2019.04.05 10\n",
      "2019.04.06 10\n",
      "2019.04.07 10\n",
      "2019.04.08 13\n",
      "2019.04.09 12\n",
      "2019.04.10 12\n",
      "2019.04.11 13\n",
      "2019.04.12 12\n",
      "2019.04.13 12\n",
      "2019.04.14 12\n",
      "2019.04.15 11\n",
      "2019.04.16 13\n",
      "2019.04.17 14\n",
      "2019.04.18 13\n",
      "2019.04.19 12\n",
      "2019.04.20 5\n",
      "2019.04.21 4\n",
      "2019.04.22 11\n",
      "2019.04.23 14\n",
      "2019.04.24 15\n",
      "2019.04.25 12\n",
      "2019.04.26 13\n",
      "2019.04.27 6\n",
      "2019.04.28 3\n",
      "2019.04.29 13\n",
      "2019.04.30 12\n",
      "\n"
     ]
    },
    {
     "data": {
      "application/vnd.jupyter.widget-view+json": {
       "model_id": "5121952f50744cee88d5544240bf437f",
       "version_major": 2,
       "version_minor": 0
      },
      "text/plain": [
       "HBox(children=(IntProgress(value=0, max=31), HTML(value='')))"
      ]
     },
     "metadata": {},
     "output_type": "display_data"
    },
    {
     "name": "stdout",
     "output_type": "stream",
     "text": [
      "2019.05.01 5\n",
      "2019.05.02 5\n",
      "2019.05.03 4\n",
      "2019.05.04 4\n",
      "2019.05.05 4\n",
      "2019.05.06 11\n",
      "2019.05.07 10\n",
      "2019.05.08 12\n",
      "2019.05.09 5\n",
      "2019.05.10 3\n",
      "2019.05.11 3\n",
      "2019.05.12 2\n",
      "2019.05.13 13\n",
      "2019.05.14 13\n",
      "2019.05.15 11\n",
      "2019.05.16 11\n",
      "2019.05.17 9\n",
      "2019.05.18 5\n",
      "2019.05.19 1\n",
      "2019.05.20 13\n",
      "2019.05.21 9\n",
      "2019.05.22 10\n",
      "2019.05.23 11\n",
      "2019.05.24 12\n",
      "2019.05.25 4\n",
      "2019.05.26 3\n",
      "2019.05.27 9\n",
      "2019.05.28 8\n",
      "2019.05.29 9\n",
      "2019.05.30 9\n",
      "2019.05.31 10\n",
      "\n"
     ]
    },
    {
     "data": {
      "application/vnd.jupyter.widget-view+json": {
       "model_id": "64af50c72e8e4ccaaa2ee4368d8cc144",
       "version_major": 2,
       "version_minor": 0
      },
      "text/plain": [
       "HBox(children=(IntProgress(value=0, max=30), HTML(value='')))"
      ]
     },
     "metadata": {},
     "output_type": "display_data"
    },
    {
     "name": "stdout",
     "output_type": "stream",
     "text": [
      "2019.06.01 8\n",
      "2019.06.02 7\n",
      "2019.06.03 10\n",
      "2019.06.04 10\n",
      "2019.06.05 11\n",
      "2019.06.06 9\n",
      "2019.06.07 8\n",
      "2019.06.08 7\n",
      "2019.06.09 6\n",
      "2019.06.10 9\n",
      "2019.06.11 12\n",
      "2019.06.12 6\n",
      "2019.06.13 11\n",
      "2019.06.14 12\n",
      "2019.06.15 9\n",
      "2019.06.16 6\n",
      "2019.06.17 16\n",
      "2019.06.18 14\n",
      "2019.06.19 10\n",
      "2019.06.20 12\n",
      "2019.06.21 10\n",
      "2019.06.22 7\n",
      "2019.06.23 6\n",
      "2019.06.24 16\n",
      "2019.06.25 15\n",
      "2019.06.26 16\n",
      "2019.06.27 16\n",
      "2019.06.28 22\n",
      "2019.06.29 7\n",
      "2019.06.30 6\n",
      "\n"
     ]
    },
    {
     "data": {
      "application/vnd.jupyter.widget-view+json": {
       "model_id": "19bb50445df04bfd8b80ac863c33c211",
       "version_major": 2,
       "version_minor": 0
      },
      "text/plain": [
       "HBox(children=(IntProgress(value=0, max=31), HTML(value='')))"
      ]
     },
     "metadata": {},
     "output_type": "display_data"
    },
    {
     "name": "stdout",
     "output_type": "stream",
     "text": [
      "2019.07.01 18\n",
      "2019.07.02 17\n",
      "2019.07.03 17\n",
      "2019.07.04 17\n",
      "2019.07.05 16\n",
      "2019.07.06 7\n",
      "2019.07.07 6\n",
      "2019.07.08 20\n",
      "2019.07.09 17\n",
      "2019.07.10 14\n",
      "2019.07.11 18\n",
      "2019.07.12 16\n",
      "2019.07.13 10\n",
      "2019.07.14 7\n",
      "2019.07.15 21\n",
      "2019.07.16 19\n",
      "2019.07.17 20\n",
      "2019.07.18 18\n",
      "2019.07.19 20\n",
      "2019.07.20 8\n",
      "2019.07.21 6\n",
      "2019.07.22 19\n",
      "2019.07.23 19\n",
      "2019.07.24 18\n",
      "2019.07.25 18\n",
      "2019.07.26 19\n",
      "2019.07.27 10\n",
      "2019.07.28 8\n",
      "2019.07.29 20\n",
      "2019.07.30 18\n",
      "2019.07.31 21\n",
      "\n"
     ]
    },
    {
     "data": {
      "application/vnd.jupyter.widget-view+json": {
       "model_id": "bcb9a699ee3d4f0ba9e8fb96dfade339",
       "version_major": 2,
       "version_minor": 0
      },
      "text/plain": [
       "HBox(children=(IntProgress(value=0, max=31), HTML(value='')))"
      ]
     },
     "metadata": {},
     "output_type": "display_data"
    },
    {
     "name": "stdout",
     "output_type": "stream",
     "text": [
      "2019.08.01 19\n",
      "2019.08.02 16\n",
      "2019.08.03 14\n",
      "2019.08.04 10\n",
      "2019.08.05 23\n",
      "2019.08.06 20\n",
      "2019.08.07 20\n",
      "2019.08.08 21\n",
      "2019.08.09 17\n",
      "2019.08.10 13\n",
      "2019.08.11 12\n",
      "2019.08.12 16\n",
      "2019.08.13 16\n",
      "2019.08.14 18\n",
      "2019.08.15 16\n",
      "2019.08.16 19\n",
      "2019.08.17 12\n",
      "2019.08.18 14\n",
      "2019.08.19 17\n",
      "2019.08.20 14\n",
      "2019.08.21 20\n",
      "2019.08.22 18\n",
      "2019.08.23 15\n",
      "2019.08.24 11\n",
      "2019.08.25 12\n",
      "2019.08.26 13\n",
      "2019.08.27 14\n",
      "2019.08.28 19\n",
      "2019.08.29 19\n",
      "2019.08.30 16\n",
      "2019.08.31 12\n",
      "\n"
     ]
    },
    {
     "data": {
      "application/vnd.jupyter.widget-view+json": {
       "model_id": "7f6f152a66384e4cb937b0206bbd53d7",
       "version_major": 2,
       "version_minor": 0
      },
      "text/plain": [
       "HBox(children=(IntProgress(value=0, max=30), HTML(value='')))"
      ]
     },
     "metadata": {},
     "output_type": "display_data"
    },
    {
     "name": "stdout",
     "output_type": "stream",
     "text": [
      "2019.09.01 13\n",
      "2019.09.02 19\n",
      "2019.09.03 21\n",
      "2019.09.04 14\n",
      "2019.09.05 13\n",
      "2019.09.06 13\n",
      "2019.09.07 12\n",
      "2019.09.08 11\n",
      "2019.09.09 14\n",
      "2019.09.10 20\n",
      "2019.09.11 18\n",
      "2019.09.12 18\n",
      "2019.09.13 15\n",
      "2019.09.14 12\n",
      "2019.09.15 11\n",
      "2019.09.16 21\n",
      "2019.09.17 23\n",
      "2019.09.18 22\n",
      "2019.09.19 22\n",
      "2019.09.20 23\n",
      "2019.09.21 10\n",
      "2019.09.22 14\n",
      "2019.09.23 21\n",
      "2019.09.24 23\n",
      "2019.09.25 17\n",
      "2019.09.26 21\n",
      "2019.09.27 22\n",
      "2019.09.28 11\n",
      "2019.09.29 13\n",
      "2019.09.30 17\n",
      "\n"
     ]
    },
    {
     "data": {
      "application/vnd.jupyter.widget-view+json": {
       "model_id": "88178f789b4548eaa44089cfe0bf9ec9",
       "version_major": 2,
       "version_minor": 0
      },
      "text/plain": [
       "HBox(children=(IntProgress(value=0, max=31), HTML(value='')))"
      ]
     },
     "metadata": {},
     "output_type": "display_data"
    },
    {
     "name": "stdout",
     "output_type": "stream",
     "text": [
      "2019.10.01 16\n",
      "2019.10.02 16\n",
      "2019.10.03 18\n",
      "2019.10.04 14\n",
      "2019.10.05 11\n",
      "2019.10.06 11\n",
      "2019.10.07 13\n",
      "2019.10.08 16\n",
      "2019.10.09 18\n",
      "2019.10.10 18\n",
      "2019.10.11 17\n",
      "2019.10.12 11\n",
      "2019.10.13 12\n",
      "2019.10.14 20\n",
      "2019.10.15 23\n",
      "2019.10.16 18\n",
      "2019.10.17 19\n",
      "2019.10.18 22\n",
      "2019.10.19 11\n",
      "2019.10.20 11\n",
      "2019.10.21 20\n",
      "2019.10.22 21\n",
      "2019.10.23 20\n",
      "2019.10.24 21\n",
      "2019.10.25 17\n",
      "2019.10.26 11\n",
      "2019.10.27 12\n",
      "2019.10.28 15\n",
      "2019.10.29 17\n",
      "2019.10.30 16\n",
      "2019.10.31 16\n",
      "\n"
     ]
    },
    {
     "data": {
      "application/vnd.jupyter.widget-view+json": {
       "model_id": "b8c371ebd83548ea987fc57c3a63e60a",
       "version_major": 2,
       "version_minor": 0
      },
      "text/plain": [
       "HBox(children=(IntProgress(value=0, max=30), HTML(value='')))"
      ]
     },
     "metadata": {},
     "output_type": "display_data"
    },
    {
     "name": "stdout",
     "output_type": "stream",
     "text": [
      "2019.11.01 17\n",
      "2019.11.02 11\n",
      "2019.11.03 11\n",
      "2019.11.04 13\n",
      "2019.11.05 22\n",
      "2019.11.06 17\n",
      "2019.11.07 18\n",
      "2019.11.08 20\n",
      "2019.11.09 12\n",
      "2019.11.10 11\n",
      "2019.11.11 17\n",
      "2019.11.12 22\n",
      "2019.11.13 15\n",
      "2019.11.14 19\n",
      "2019.11.15 18\n",
      "2019.11.16 11\n",
      "2019.11.17 14\n",
      "2019.11.18 15\n",
      "2019.11.19 18\n",
      "2019.11.20 18\n",
      "2019.11.21 19\n",
      "2019.11.22 18\n",
      "2019.11.23 11\n",
      "2019.11.24 12\n",
      "2019.11.25 13\n",
      "2019.11.26 25\n",
      "2019.11.27 18\n",
      "2019.11.28 18\n",
      "2019.11.29 17\n",
      "2019.11.30 11\n",
      "\n"
     ]
    },
    {
     "data": {
      "application/vnd.jupyter.widget-view+json": {
       "model_id": "120bab404a854407bc3d7aa7e02e0f62",
       "version_major": 2,
       "version_minor": 0
      },
      "text/plain": [
       "HBox(children=(IntProgress(value=0, max=31), HTML(value='')))"
      ]
     },
     "metadata": {},
     "output_type": "display_data"
    },
    {
     "name": "stdout",
     "output_type": "stream",
     "text": [
      "2019.12.01 14\n",
      "2019.12.02 15\n",
      "2019.12.03 16\n",
      "2019.12.04 16\n",
      "2019.12.05 17\n",
      "2019.12.06 16\n",
      "2019.12.07 11\n",
      "2019.12.08 15\n",
      "2019.12.09 19\n",
      "2019.12.10 20\n",
      "2019.12.11 16\n",
      "2019.12.12 17\n",
      "2019.12.13 18\n",
      "2019.12.14 11\n",
      "2019.12.15 16\n",
      "2019.12.16 24\n",
      "2019.12.17 26\n",
      "2019.12.18 23\n",
      "2019.12.19 18\n",
      "2019.12.20 20\n",
      "2019.12.21 11\n",
      "2019.12.22 12\n",
      "2019.12.23 18\n",
      "2019.12.24 18\n",
      "2019.12.25 19\n",
      "2019.12.26 14\n",
      "2019.12.27 15\n",
      "2019.12.28 11\n",
      "2019.12.29 15\n",
      "2019.12.30 9\n",
      "2019.12.31 17\n",
      "\n",
      "\n"
     ]
    }
   ],
   "source": [
    "months = {1:31, 2:28, 3:31, 4:30, 5:31, 6:30, 7:31, 8:31, 9:30, 10:31, 11:30, 12:31}\n",
    "motor_19 = dict()\n",
    "for month in tqdm_notebook(list(months.keys())):\n",
    "    for day in tqdm_notebook(list(range(months[month]))):\n",
    "        date = f'2019/{month:02d}/{day+1:02d}'\n",
    "#         sports_20[f'2020.{month:02d}.{day+1:02d}'] = []\n",
    "        try:\n",
    "            url = f'https://motor.ru/pulse/{date}'\n",
    "            r = requests.get(url)\n",
    "            soup = BeautifulSoup(r.text)\n",
    "            links = ['https://motor.ru'+a['href'] for a in soup.find_all('div', 'block')[1].find_all('a') \n",
    "                     if 'authors' not in a['href'] and 'pulse' not in a['href']]\n",
    "            motor_19[f'2019.{month:02d}.{day+1:02d}'] = links\n",
    "            print(f'2019.{month:02d}.{day+1:02d}', len(links))\n",
    "        except (AttributeError, IndexError):\n",
    "            print(date)\n",
    "with open('motor_links_2019.json', 'w', encoding = 'utf-8') as f:\n",
    "    json.dump(motor_19, f)"
   ]
  },
  {
   "cell_type": "code",
   "execution_count": 120,
   "metadata": {},
   "outputs": [
    {
     "data": {
      "text/plain": [
       "['https://motor.ru/news/updatedxc90-03-04-2019.htm',\n",
       " 'https://motor.ru/news/merc-plant-03-04-2019.htm',\n",
       " 'https://motor.ru/news/granta-sport-03-04-2019.htm',\n",
       " 'https://motor.ru/testdrives/testcorolla.htm',\n",
       " 'https://motor.ru/testdrives/testevoque.htm',\n",
       " 'https://motor.ru/news/mclaren-gt-03-04-2019.htm',\n",
       " 'https://motor.ru/news/vinfast-russia-03-04-2019.htm',\n",
       " 'https://motor.ru/news/ghosn-truth-03-04-2019.htm',\n",
       " 'https://motor.ru/news/infiniti-qs-03-04-2019.htm',\n",
       " 'https://motor.ru/news/glb-teaser-03-04-2019.htm',\n",
       " 'https://motor.ru/news/hyundai-cockpit-03-04-2019.htm',\n",
       " 'https://motor.ru/news/fordgoeselectric-03-04-2019.htm',\n",
       " 'https://motor.ru/news/ford-puma-03-04-2019.htm',\n",
       " 'https://motor.ru/selector/ustarevshieconcepts.htm',\n",
       " 'https://motor.ru/selector/premerymotovesny.htm']"
      ]
     },
     "execution_count": 120,
     "metadata": {},
     "output_type": "execute_result"
    }
   ],
   "source": [
    "motor_19['2019.04.03']"
   ]
  },
  {
   "cell_type": "code",
   "execution_count": 149,
   "metadata": {},
   "outputs": [],
   "source": [
    "def get_article_motor(link):\n",
    "    r = requests.get(link)\n",
    "    soup = BS(r.text)\n",
    "    \n",
    "    try:\n",
    "        title = soup.h1.div.text\n",
    "        lead = soup.find('div', 'lead').div.text\n",
    "        text = ' '.join([p.text for div in soup.find_all('div', 'text') for p in div.find_all('p')])\n",
    "        return ' .'.join([title, lead, text])\n",
    "    except (AttributeError, IndexError):\n",
    "        title = soup.h1.div.text\n",
    "        text = ' '.join([p.text for div in soup.find_all('div', 'text') for p in div.find_all('p')])\n",
    "        return ' .'.join([title, text])"
   ]
  },
  {
   "cell_type": "code",
   "execution_count": 151,
   "metadata": {},
   "outputs": [],
   "source": [
    "for link in motor_19['2019.07.03']:\n",
    "    try:\n",
    "        get_article_motor(link)\n",
    "    except (AttributeError, IndexError):\n",
    "        print(link)"
   ]
  },
  {
   "cell_type": "code",
   "execution_count": 152,
   "metadata": {
    "scrolled": true
   },
   "outputs": [
    {
     "data": {
      "application/vnd.jupyter.widget-view+json": {
       "model_id": "311e3ea65f9b45c0967fea008140a2b4",
       "version_major": 2,
       "version_minor": 0
      },
      "text/plain": [
       "HBox(children=(IntProgress(value=0, max=59), HTML(value='')))"
      ]
     },
     "metadata": {},
     "output_type": "display_data"
    },
    {
     "data": {
      "application/vnd.jupyter.widget-view+json": {
       "model_id": "b07519f0716a4c03a85fd927de006326",
       "version_major": 2,
       "version_minor": 0
      },
      "text/plain": [
       "HBox(children=(IntProgress(value=0, max=3), HTML(value='')))"
      ]
     },
     "metadata": {},
     "output_type": "display_data"
    },
    {
     "name": "stdout",
     "output_type": "stream",
     "text": [
      "\n"
     ]
    },
    {
     "data": {
      "application/vnd.jupyter.widget-view+json": {
       "model_id": "b232a695df844ccba7f43e2f75530d0d",
       "version_major": 2,
       "version_minor": 0
      },
      "text/plain": [
       "HBox(children=(IntProgress(value=0, max=6), HTML(value='')))"
      ]
     },
     "metadata": {},
     "output_type": "display_data"
    },
    {
     "name": "stdout",
     "output_type": "stream",
     "text": [
      "\n"
     ]
    },
    {
     "data": {
      "application/vnd.jupyter.widget-view+json": {
       "model_id": "0361a63619984a58865a8b0226eb2b96",
       "version_major": 2,
       "version_minor": 0
      },
      "text/plain": [
       "HBox(children=(IntProgress(value=0, max=6), HTML(value='')))"
      ]
     },
     "metadata": {},
     "output_type": "display_data"
    },
    {
     "name": "stdout",
     "output_type": "stream",
     "text": [
      "\n"
     ]
    },
    {
     "data": {
      "application/vnd.jupyter.widget-view+json": {
       "model_id": "46303b81208848f78444eba7d87442d8",
       "version_major": 2,
       "version_minor": 0
      },
      "text/plain": [
       "HBox(children=(IntProgress(value=0, max=10), HTML(value='')))"
      ]
     },
     "metadata": {},
     "output_type": "display_data"
    },
    {
     "name": "stdout",
     "output_type": "stream",
     "text": [
      "\n"
     ]
    },
    {
     "data": {
      "application/vnd.jupyter.widget-view+json": {
       "model_id": "33c4fd88239f49d0adff98416ef87b3a",
       "version_major": 2,
       "version_minor": 0
      },
      "text/plain": [
       "HBox(children=(IntProgress(value=0, max=14), HTML(value='')))"
      ]
     },
     "metadata": {},
     "output_type": "display_data"
    },
    {
     "name": "stdout",
     "output_type": "stream",
     "text": [
      "\n"
     ]
    },
    {
     "data": {
      "application/vnd.jupyter.widget-view+json": {
       "model_id": "4d6a646827794f73b90fd410d92d6ee8",
       "version_major": 2,
       "version_minor": 0
      },
      "text/plain": [
       "HBox(children=(IntProgress(value=0, max=9), HTML(value='')))"
      ]
     },
     "metadata": {},
     "output_type": "display_data"
    },
    {
     "name": "stdout",
     "output_type": "stream",
     "text": [
      "\n"
     ]
    },
    {
     "data": {
      "application/vnd.jupyter.widget-view+json": {
       "model_id": "ff3716516e27439d81a9783adfe135da",
       "version_major": 2,
       "version_minor": 0
      },
      "text/plain": [
       "HBox(children=(IntProgress(value=0, max=7), HTML(value='')))"
      ]
     },
     "metadata": {},
     "output_type": "display_data"
    },
    {
     "name": "stdout",
     "output_type": "stream",
     "text": [
      "\n"
     ]
    },
    {
     "data": {
      "application/vnd.jupyter.widget-view+json": {
       "model_id": "8051351136924dc7be4792c90fd46137",
       "version_major": 2,
       "version_minor": 0
      },
      "text/plain": [
       "HBox(children=(IntProgress(value=0, max=11), HTML(value='')))"
      ]
     },
     "metadata": {},
     "output_type": "display_data"
    },
    {
     "name": "stdout",
     "output_type": "stream",
     "text": [
      "\n"
     ]
    },
    {
     "data": {
      "application/vnd.jupyter.widget-view+json": {
       "model_id": "321ae63499994228af4e03afea0165bd",
       "version_major": 2,
       "version_minor": 0
      },
      "text/plain": [
       "HBox(children=(IntProgress(value=0, max=16), HTML(value='')))"
      ]
     },
     "metadata": {},
     "output_type": "display_data"
    },
    {
     "name": "stdout",
     "output_type": "stream",
     "text": [
      "\n"
     ]
    },
    {
     "data": {
      "application/vnd.jupyter.widget-view+json": {
       "model_id": "9979336be5754b04ae6eefb3f0ceec82",
       "version_major": 2,
       "version_minor": 0
      },
      "text/plain": [
       "HBox(children=(IntProgress(value=0, max=16), HTML(value='')))"
      ]
     },
     "metadata": {},
     "output_type": "display_data"
    },
    {
     "name": "stdout",
     "output_type": "stream",
     "text": [
      "\n"
     ]
    },
    {
     "data": {
      "application/vnd.jupyter.widget-view+json": {
       "model_id": "9be791310d384d1580f04e15d3513b0e",
       "version_major": 2,
       "version_minor": 0
      },
      "text/plain": [
       "HBox(children=(IntProgress(value=0, max=13), HTML(value='')))"
      ]
     },
     "metadata": {},
     "output_type": "display_data"
    },
    {
     "name": "stdout",
     "output_type": "stream",
     "text": [
      "\n"
     ]
    },
    {
     "data": {
      "application/vnd.jupyter.widget-view+json": {
       "model_id": "d9be9ebd4e8a4a11bea88ce20eaa99b0",
       "version_major": 2,
       "version_minor": 0
      },
      "text/plain": [
       "HBox(children=(IntProgress(value=0, max=13), HTML(value='')))"
      ]
     },
     "metadata": {},
     "output_type": "display_data"
    },
    {
     "name": "stdout",
     "output_type": "stream",
     "text": [
      "\n"
     ]
    },
    {
     "data": {
      "application/vnd.jupyter.widget-view+json": {
       "model_id": "8abd3ac8f79240158743bd27df548949",
       "version_major": 2,
       "version_minor": 0
      },
      "text/plain": [
       "HBox(children=(IntProgress(value=0, max=15), HTML(value='')))"
      ]
     },
     "metadata": {},
     "output_type": "display_data"
    },
    {
     "name": "stdout",
     "output_type": "stream",
     "text": [
      "\n"
     ]
    },
    {
     "data": {
      "application/vnd.jupyter.widget-view+json": {
       "model_id": "b389cc52cbf542389d1c1face6112a8f",
       "version_major": 2,
       "version_minor": 0
      },
      "text/plain": [
       "HBox(children=(IntProgress(value=0, max=22), HTML(value='')))"
      ]
     },
     "metadata": {},
     "output_type": "display_data"
    },
    {
     "name": "stdout",
     "output_type": "stream",
     "text": [
      "\n"
     ]
    },
    {
     "data": {
      "application/vnd.jupyter.widget-view+json": {
       "model_id": "da4f21824b1f41b99dca86e63642df8b",
       "version_major": 2,
       "version_minor": 0
      },
      "text/plain": [
       "HBox(children=(IntProgress(value=0, max=18), HTML(value='')))"
      ]
     },
     "metadata": {},
     "output_type": "display_data"
    },
    {
     "name": "stdout",
     "output_type": "stream",
     "text": [
      "\n"
     ]
    },
    {
     "data": {
      "application/vnd.jupyter.widget-view+json": {
       "model_id": "0f9d6a5c7ced4010b92163bbe4d6742b",
       "version_major": 2,
       "version_minor": 0
      },
      "text/plain": [
       "HBox(children=(IntProgress(value=0, max=17), HTML(value='')))"
      ]
     },
     "metadata": {},
     "output_type": "display_data"
    },
    {
     "name": "stdout",
     "output_type": "stream",
     "text": [
      "\n"
     ]
    },
    {
     "data": {
      "application/vnd.jupyter.widget-view+json": {
       "model_id": "fd8ad4953f534eecbccd7ce4bcefc9d4",
       "version_major": 2,
       "version_minor": 0
      },
      "text/plain": [
       "HBox(children=(IntProgress(value=0, max=20), HTML(value='')))"
      ]
     },
     "metadata": {},
     "output_type": "display_data"
    },
    {
     "name": "stdout",
     "output_type": "stream",
     "text": [
      "\n"
     ]
    },
    {
     "data": {
      "application/vnd.jupyter.widget-view+json": {
       "model_id": "9353c117968f4820bf808785256cec1e",
       "version_major": 2,
       "version_minor": 0
      },
      "text/plain": [
       "HBox(children=(IntProgress(value=0, max=12), HTML(value='')))"
      ]
     },
     "metadata": {},
     "output_type": "display_data"
    },
    {
     "name": "stdout",
     "output_type": "stream",
     "text": [
      "\n"
     ]
    },
    {
     "data": {
      "application/vnd.jupyter.widget-view+json": {
       "model_id": "2ca45e42a1344540895de8f1fe80e22b",
       "version_major": 2,
       "version_minor": 0
      },
      "text/plain": [
       "HBox(children=(IntProgress(value=0, max=13), HTML(value='')))"
      ]
     },
     "metadata": {},
     "output_type": "display_data"
    },
    {
     "name": "stdout",
     "output_type": "stream",
     "text": [
      "\n"
     ]
    },
    {
     "data": {
      "application/vnd.jupyter.widget-view+json": {
       "model_id": "84aa53cd585245cb8ad6b4942dc70a38",
       "version_major": 2,
       "version_minor": 0
      },
      "text/plain": [
       "HBox(children=(IntProgress(value=0, max=19), HTML(value='')))"
      ]
     },
     "metadata": {},
     "output_type": "display_data"
    },
    {
     "name": "stdout",
     "output_type": "stream",
     "text": [
      "\n"
     ]
    },
    {
     "data": {
      "application/vnd.jupyter.widget-view+json": {
       "model_id": "8014e656aebb446bb2c6e12dbfa387de",
       "version_major": 2,
       "version_minor": 0
      },
      "text/plain": [
       "HBox(children=(IntProgress(value=0, max=19), HTML(value='')))"
      ]
     },
     "metadata": {},
     "output_type": "display_data"
    },
    {
     "name": "stdout",
     "output_type": "stream",
     "text": [
      "\n"
     ]
    },
    {
     "data": {
      "application/vnd.jupyter.widget-view+json": {
       "model_id": "d2248989e04541cd9258207093e6e822",
       "version_major": 2,
       "version_minor": 0
      },
      "text/plain": [
       "HBox(children=(IntProgress(value=0, max=20), HTML(value='')))"
      ]
     },
     "metadata": {},
     "output_type": "display_data"
    },
    {
     "name": "stdout",
     "output_type": "stream",
     "text": [
      "\n"
     ]
    },
    {
     "data": {
      "application/vnd.jupyter.widget-view+json": {
       "model_id": "d3fbaae9f3014411a5cb236e3f69c640",
       "version_major": 2,
       "version_minor": 0
      },
      "text/plain": [
       "HBox(children=(IntProgress(value=0, max=21), HTML(value='')))"
      ]
     },
     "metadata": {},
     "output_type": "display_data"
    },
    {
     "name": "stdout",
     "output_type": "stream",
     "text": [
      "\n"
     ]
    },
    {
     "data": {
      "application/vnd.jupyter.widget-view+json": {
       "model_id": "ec6981f2962a4a85b2c67bbcbe29b13a",
       "version_major": 2,
       "version_minor": 0
      },
      "text/plain": [
       "HBox(children=(IntProgress(value=0, max=18), HTML(value='')))"
      ]
     },
     "metadata": {},
     "output_type": "display_data"
    },
    {
     "name": "stdout",
     "output_type": "stream",
     "text": [
      "\n"
     ]
    },
    {
     "data": {
      "application/vnd.jupyter.widget-view+json": {
       "model_id": "5841d4238f5248419c392bf87140e35f",
       "version_major": 2,
       "version_minor": 0
      },
      "text/plain": [
       "HBox(children=(IntProgress(value=0, max=13), HTML(value='')))"
      ]
     },
     "metadata": {},
     "output_type": "display_data"
    },
    {
     "name": "stdout",
     "output_type": "stream",
     "text": [
      "\n"
     ]
    },
    {
     "data": {
      "application/vnd.jupyter.widget-view+json": {
       "model_id": "c7e80daddd1b4f23a6b16f82d38b1da5",
       "version_major": 2,
       "version_minor": 0
      },
      "text/plain": [
       "HBox(children=(IntProgress(value=0, max=12), HTML(value='')))"
      ]
     },
     "metadata": {},
     "output_type": "display_data"
    },
    {
     "name": "stdout",
     "output_type": "stream",
     "text": [
      "\n"
     ]
    },
    {
     "data": {
      "application/vnd.jupyter.widget-view+json": {
       "model_id": "0f3d45448011463682f2485c906fea89",
       "version_major": 2,
       "version_minor": 0
      },
      "text/plain": [
       "HBox(children=(IntProgress(value=0, max=19), HTML(value='')))"
      ]
     },
     "metadata": {},
     "output_type": "display_data"
    },
    {
     "name": "stdout",
     "output_type": "stream",
     "text": [
      "\n"
     ]
    },
    {
     "data": {
      "application/vnd.jupyter.widget-view+json": {
       "model_id": "241f43980c6541848c0131853e8bb673",
       "version_major": 2,
       "version_minor": 0
      },
      "text/plain": [
       "HBox(children=(IntProgress(value=0, max=20), HTML(value='')))"
      ]
     },
     "metadata": {},
     "output_type": "display_data"
    },
    {
     "name": "stdout",
     "output_type": "stream",
     "text": [
      "\n"
     ]
    },
    {
     "data": {
      "application/vnd.jupyter.widget-view+json": {
       "model_id": "8872e4d13d434f3f98800d5d10797f02",
       "version_major": 2,
       "version_minor": 0
      },
      "text/plain": [
       "HBox(children=(IntProgress(value=0, max=17), HTML(value='')))"
      ]
     },
     "metadata": {},
     "output_type": "display_data"
    },
    {
     "name": "stdout",
     "output_type": "stream",
     "text": [
      "\n"
     ]
    },
    {
     "data": {
      "application/vnd.jupyter.widget-view+json": {
       "model_id": "28eef8dccbcf4e07a13c882cc1fb7a3f",
       "version_major": 2,
       "version_minor": 0
      },
      "text/plain": [
       "HBox(children=(IntProgress(value=0, max=17), HTML(value='')))"
      ]
     },
     "metadata": {},
     "output_type": "display_data"
    },
    {
     "name": "stdout",
     "output_type": "stream",
     "text": [
      "\n"
     ]
    },
    {
     "data": {
      "application/vnd.jupyter.widget-view+json": {
       "model_id": "03cbafb2bf4847108df64b4c07f487ac",
       "version_major": 2,
       "version_minor": 0
      },
      "text/plain": [
       "HBox(children=(IntProgress(value=0, max=15), HTML(value='')))"
      ]
     },
     "metadata": {},
     "output_type": "display_data"
    },
    {
     "name": "stdout",
     "output_type": "stream",
     "text": [
      "\n"
     ]
    },
    {
     "data": {
      "application/vnd.jupyter.widget-view+json": {
       "model_id": "cbb53b83d682480984b2f91fe1bed143",
       "version_major": 2,
       "version_minor": 0
      },
      "text/plain": [
       "HBox(children=(IntProgress(value=0, max=12), HTML(value='')))"
      ]
     },
     "metadata": {},
     "output_type": "display_data"
    },
    {
     "name": "stdout",
     "output_type": "stream",
     "text": [
      "\n"
     ]
    },
    {
     "data": {
      "application/vnd.jupyter.widget-view+json": {
       "model_id": "0b925d6aea6744838baf9b3b4485c573",
       "version_major": 2,
       "version_minor": 0
      },
      "text/plain": [
       "HBox(children=(IntProgress(value=0, max=14), HTML(value='')))"
      ]
     },
     "metadata": {},
     "output_type": "display_data"
    },
    {
     "name": "stdout",
     "output_type": "stream",
     "text": [
      "\n"
     ]
    },
    {
     "data": {
      "application/vnd.jupyter.widget-view+json": {
       "model_id": "ee8dc6ebaa20472194f9e8b0d51ab842",
       "version_major": 2,
       "version_minor": 0
      },
      "text/plain": [
       "HBox(children=(IntProgress(value=0, max=20), HTML(value='')))"
      ]
     },
     "metadata": {},
     "output_type": "display_data"
    },
    {
     "name": "stdout",
     "output_type": "stream",
     "text": [
      "\n"
     ]
    },
    {
     "data": {
      "application/vnd.jupyter.widget-view+json": {
       "model_id": "2ffb840906414caf99513551bec96934",
       "version_major": 2,
       "version_minor": 0
      },
      "text/plain": [
       "HBox(children=(IntProgress(value=0, max=16), HTML(value='')))"
      ]
     },
     "metadata": {},
     "output_type": "display_data"
    },
    {
     "name": "stdout",
     "output_type": "stream",
     "text": [
      "\n"
     ]
    },
    {
     "data": {
      "application/vnd.jupyter.widget-view+json": {
       "model_id": "b2693415249e4e60846e410406c01258",
       "version_major": 2,
       "version_minor": 0
      },
      "text/plain": [
       "HBox(children=(IntProgress(value=0, max=22), HTML(value='')))"
      ]
     },
     "metadata": {},
     "output_type": "display_data"
    },
    {
     "name": "stdout",
     "output_type": "stream",
     "text": [
      "\n"
     ]
    },
    {
     "data": {
      "application/vnd.jupyter.widget-view+json": {
       "model_id": "8d3a3dc7d6404b1c8e4396dd2da8edd6",
       "version_major": 2,
       "version_minor": 0
      },
      "text/plain": [
       "HBox(children=(IntProgress(value=0, max=17), HTML(value='')))"
      ]
     },
     "metadata": {},
     "output_type": "display_data"
    },
    {
     "name": "stdout",
     "output_type": "stream",
     "text": [
      "\n"
     ]
    },
    {
     "data": {
      "application/vnd.jupyter.widget-view+json": {
       "model_id": "6e61ed3b1c42424bae7471e6e637739a",
       "version_major": 2,
       "version_minor": 0
      },
      "text/plain": [
       "HBox(children=(IntProgress(value=0, max=16), HTML(value='')))"
      ]
     },
     "metadata": {},
     "output_type": "display_data"
    },
    {
     "name": "stdout",
     "output_type": "stream",
     "text": [
      "\n"
     ]
    },
    {
     "data": {
      "application/vnd.jupyter.widget-view+json": {
       "model_id": "a5884ea5666c4180b8bc64e728ae318d",
       "version_major": 2,
       "version_minor": 0
      },
      "text/plain": [
       "HBox(children=(IntProgress(value=0, max=12), HTML(value='')))"
      ]
     },
     "metadata": {},
     "output_type": "display_data"
    },
    {
     "name": "stdout",
     "output_type": "stream",
     "text": [
      "\n"
     ]
    },
    {
     "data": {
      "application/vnd.jupyter.widget-view+json": {
       "model_id": "dd9692a9f4484b5c85ec6fac55c669b9",
       "version_major": 2,
       "version_minor": 0
      },
      "text/plain": [
       "HBox(children=(IntProgress(value=0, max=13), HTML(value='')))"
      ]
     },
     "metadata": {},
     "output_type": "display_data"
    },
    {
     "name": "stdout",
     "output_type": "stream",
     "text": [
      "\n"
     ]
    },
    {
     "data": {
      "application/vnd.jupyter.widget-view+json": {
       "model_id": "879aa83da0fa43a289a1e649360f8fc6",
       "version_major": 2,
       "version_minor": 0
      },
      "text/plain": [
       "HBox(children=(IntProgress(value=0, max=20), HTML(value='')))"
      ]
     },
     "metadata": {},
     "output_type": "display_data"
    },
    {
     "name": "stdout",
     "output_type": "stream",
     "text": [
      "\n"
     ]
    },
    {
     "data": {
      "application/vnd.jupyter.widget-view+json": {
       "model_id": "8d38247f83614977a1d8331ee00a6537",
       "version_major": 2,
       "version_minor": 0
      },
      "text/plain": [
       "HBox(children=(IntProgress(value=0, max=18), HTML(value='')))"
      ]
     },
     "metadata": {},
     "output_type": "display_data"
    },
    {
     "name": "stdout",
     "output_type": "stream",
     "text": [
      "\n"
     ]
    },
    {
     "data": {
      "application/vnd.jupyter.widget-view+json": {
       "model_id": "a99fb871268c4ca897f6c8b5e4b3de3c",
       "version_major": 2,
       "version_minor": 0
      },
      "text/plain": [
       "HBox(children=(IntProgress(value=0, max=22), HTML(value='')))"
      ]
     },
     "metadata": {},
     "output_type": "display_data"
    },
    {
     "name": "stdout",
     "output_type": "stream",
     "text": [
      "\n"
     ]
    },
    {
     "data": {
      "application/vnd.jupyter.widget-view+json": {
       "model_id": "a11b7789a12446309ea845b7548e076b",
       "version_major": 2,
       "version_minor": 0
      },
      "text/plain": [
       "HBox(children=(IntProgress(value=0, max=18), HTML(value='')))"
      ]
     },
     "metadata": {},
     "output_type": "display_data"
    },
    {
     "name": "stdout",
     "output_type": "stream",
     "text": [
      "\n"
     ]
    },
    {
     "data": {
      "application/vnd.jupyter.widget-view+json": {
       "model_id": "253c0b375659453ea1c5e75a18cc7eec",
       "version_major": 2,
       "version_minor": 0
      },
      "text/plain": [
       "HBox(children=(IntProgress(value=0, max=19), HTML(value='')))"
      ]
     },
     "metadata": {},
     "output_type": "display_data"
    },
    {
     "name": "stdout",
     "output_type": "stream",
     "text": [
      "\n"
     ]
    },
    {
     "data": {
      "application/vnd.jupyter.widget-view+json": {
       "model_id": "65252e1be02c4498995920a4a42189fc",
       "version_major": 2,
       "version_minor": 0
      },
      "text/plain": [
       "HBox(children=(IntProgress(value=0, max=11), HTML(value='')))"
      ]
     },
     "metadata": {},
     "output_type": "display_data"
    },
    {
     "name": "stdout",
     "output_type": "stream",
     "text": [
      "\n"
     ]
    },
    {
     "data": {
      "application/vnd.jupyter.widget-view+json": {
       "model_id": "4e21dc2864b14b68886a59893a085f6d",
       "version_major": 2,
       "version_minor": 0
      },
      "text/plain": [
       "HBox(children=(IntProgress(value=0, max=15), HTML(value='')))"
      ]
     },
     "metadata": {},
     "output_type": "display_data"
    },
    {
     "name": "stdout",
     "output_type": "stream",
     "text": [
      "\n"
     ]
    },
    {
     "data": {
      "application/vnd.jupyter.widget-view+json": {
       "model_id": "8a49d697ed6a4ca98e419976b2618a3a",
       "version_major": 2,
       "version_minor": 0
      },
      "text/plain": [
       "HBox(children=(IntProgress(value=0, max=16), HTML(value='')))"
      ]
     },
     "metadata": {},
     "output_type": "display_data"
    },
    {
     "name": "stdout",
     "output_type": "stream",
     "text": [
      "\n"
     ]
    },
    {
     "data": {
      "application/vnd.jupyter.widget-view+json": {
       "model_id": "4fcd48c2b912451d9855eb415bcadb18",
       "version_major": 2,
       "version_minor": 0
      },
      "text/plain": [
       "HBox(children=(IntProgress(value=0, max=17), HTML(value='')))"
      ]
     },
     "metadata": {},
     "output_type": "display_data"
    },
    {
     "name": "stdout",
     "output_type": "stream",
     "text": [
      "\n"
     ]
    },
    {
     "data": {
      "application/vnd.jupyter.widget-view+json": {
       "model_id": "230979250a0b41dd8045b7c3393dd8bd",
       "version_major": 2,
       "version_minor": 0
      },
      "text/plain": [
       "HBox(children=(IntProgress(value=0, max=23), HTML(value='')))"
      ]
     },
     "metadata": {},
     "output_type": "display_data"
    },
    {
     "name": "stdout",
     "output_type": "stream",
     "text": [
      "\n"
     ]
    },
    {
     "data": {
      "application/vnd.jupyter.widget-view+json": {
       "model_id": "8ac7eaf54bb547bd8f5c22ad1f682c16",
       "version_major": 2,
       "version_minor": 0
      },
      "text/plain": [
       "HBox(children=(IntProgress(value=0, max=18), HTML(value='')))"
      ]
     },
     "metadata": {},
     "output_type": "display_data"
    },
    {
     "name": "stdout",
     "output_type": "stream",
     "text": [
      "\n"
     ]
    },
    {
     "data": {
      "application/vnd.jupyter.widget-view+json": {
       "model_id": "6e1216cef49843c0b5cdd0da01ebe3fd",
       "version_major": 2,
       "version_minor": 0
      },
      "text/plain": [
       "HBox(children=(IntProgress(value=0, max=15), HTML(value='')))"
      ]
     },
     "metadata": {},
     "output_type": "display_data"
    },
    {
     "name": "stdout",
     "output_type": "stream",
     "text": [
      "\n"
     ]
    },
    {
     "data": {
      "application/vnd.jupyter.widget-view+json": {
       "model_id": "8dc5955cde6c449aad6ffcae316716e3",
       "version_major": 2,
       "version_minor": 0
      },
      "text/plain": [
       "HBox(children=(IntProgress(value=0, max=12), HTML(value='')))"
      ]
     },
     "metadata": {},
     "output_type": "display_data"
    },
    {
     "name": "stdout",
     "output_type": "stream",
     "text": [
      "\n"
     ]
    },
    {
     "data": {
      "application/vnd.jupyter.widget-view+json": {
       "model_id": "e4854b5822c248f6b9bb3d47f79cdda7",
       "version_major": 2,
       "version_minor": 0
      },
      "text/plain": [
       "HBox(children=(IntProgress(value=0, max=14), HTML(value='')))"
      ]
     },
     "metadata": {},
     "output_type": "display_data"
    },
    {
     "name": "stdout",
     "output_type": "stream",
     "text": [
      "\n"
     ]
    },
    {
     "data": {
      "application/vnd.jupyter.widget-view+json": {
       "model_id": "4acbe80711264bdea4c3d756a7bef8d9",
       "version_major": 2,
       "version_minor": 0
      },
      "text/plain": [
       "HBox(children=(IntProgress(value=0, max=14), HTML(value='')))"
      ]
     },
     "metadata": {},
     "output_type": "display_data"
    },
    {
     "name": "stdout",
     "output_type": "stream",
     "text": [
      "\n"
     ]
    },
    {
     "data": {
      "application/vnd.jupyter.widget-view+json": {
       "model_id": "0839aca25cc04693be23c5bb1c5f17a7",
       "version_major": 2,
       "version_minor": 0
      },
      "text/plain": [
       "HBox(children=(IntProgress(value=0, max=19), HTML(value='')))"
      ]
     },
     "metadata": {},
     "output_type": "display_data"
    },
    {
     "name": "stdout",
     "output_type": "stream",
     "text": [
      "\n"
     ]
    },
    {
     "data": {
      "application/vnd.jupyter.widget-view+json": {
       "model_id": "1ecd38da9c0641978a1891d707acd5f0",
       "version_major": 2,
       "version_minor": 0
      },
      "text/plain": [
       "HBox(children=(IntProgress(value=0, max=15), HTML(value='')))"
      ]
     },
     "metadata": {},
     "output_type": "display_data"
    },
    {
     "name": "stdout",
     "output_type": "stream",
     "text": [
      "\n"
     ]
    },
    {
     "data": {
      "application/vnd.jupyter.widget-view+json": {
       "model_id": "4d80ebc401ed4e168f376cf0e29fb13e",
       "version_major": 2,
       "version_minor": 0
      },
      "text/plain": [
       "HBox(children=(IntProgress(value=0, max=18), HTML(value='')))"
      ]
     },
     "metadata": {},
     "output_type": "display_data"
    },
    {
     "name": "stdout",
     "output_type": "stream",
     "text": [
      "\n"
     ]
    },
    {
     "data": {
      "application/vnd.jupyter.widget-view+json": {
       "model_id": "8b3155877c814e9d9bf52bbcd65fd78f",
       "version_major": 2,
       "version_minor": 0
      },
      "text/plain": [
       "HBox(children=(IntProgress(value=0, max=17), HTML(value='')))"
      ]
     },
     "metadata": {},
     "output_type": "display_data"
    },
    {
     "name": "stdout",
     "output_type": "stream",
     "text": [
      "\n",
      "\n"
     ]
    },
    {
     "data": {
      "text/html": [
       "<div>\n",
       "<style scoped>\n",
       "    .dataframe tbody tr th:only-of-type {\n",
       "        vertical-align: middle;\n",
       "    }\n",
       "\n",
       "    .dataframe tbody tr th {\n",
       "        vertical-align: top;\n",
       "    }\n",
       "\n",
       "    .dataframe thead th {\n",
       "        text-align: right;\n",
       "    }\n",
       "</style>\n",
       "<table border=\"1\" class=\"dataframe\">\n",
       "  <thead>\n",
       "    <tr style=\"text-align: right;\">\n",
       "      <th></th>\n",
       "      <th>Media</th>\n",
       "      <th>Date</th>\n",
       "      <th>Link</th>\n",
       "      <th>Text</th>\n",
       "      <th>Dep</th>\n",
       "      <th>Tags</th>\n",
       "    </tr>\n",
       "  </thead>\n",
       "  <tbody>\n",
       "    <tr>\n",
       "      <td>0</td>\n",
       "      <td>motor.ru</td>\n",
       "      <td>2020.01.01</td>\n",
       "      <td>https://motor.ru/news/genesis-gv80-01-01-2020.htm</td>\n",
       "      <td>Genesis раскрыл внешность кроссовера GV80 .В п...</td>\n",
       "      <td></td>\n",
       "      <td>[]</td>\n",
       "    </tr>\n",
       "    <tr>\n",
       "      <td>1</td>\n",
       "      <td>motor.ru</td>\n",
       "      <td>2020.01.01</td>\n",
       "      <td>https://motor.ru/news/beetle-tribute-01-01-202...</td>\n",
       "      <td>Видео: Volkswagen попрощался с Beetle под песн...</td>\n",
       "      <td></td>\n",
       "      <td>[]</td>\n",
       "    </tr>\n",
       "    <tr>\n",
       "      <td>2</td>\n",
       "      <td>motor.ru</td>\n",
       "      <td>2020.01.01</td>\n",
       "      <td>https://motor.ru/stories/best-longreads-2019.htm</td>\n",
       "      <td>Самое интересное на «Моторе» за год .Пока ещё...</td>\n",
       "      <td></td>\n",
       "      <td>[]</td>\n",
       "    </tr>\n",
       "    <tr>\n",
       "      <td>3</td>\n",
       "      <td>motor.ru</td>\n",
       "      <td>2020.01.02</td>\n",
       "      <td>https://motor.ru/news/chrysler-airflow-02-01-2...</td>\n",
       "      <td>Chrysler анонсировал концепт с «премиальным ди...</td>\n",
       "      <td></td>\n",
       "      <td>[]</td>\n",
       "    </tr>\n",
       "    <tr>\n",
       "      <td>4</td>\n",
       "      <td>motor.ru</td>\n",
       "      <td>2020.01.02</td>\n",
       "      <td>https://motor.ru/news/ghosn-conference-02-01-2...</td>\n",
       "      <td>Сбежавший из-под ареста Карлос Гон проведет пр...</td>\n",
       "      <td></td>\n",
       "      <td>[]</td>\n",
       "    </tr>\n",
       "    <tr>\n",
       "      <td>...</td>\n",
       "      <td>...</td>\n",
       "      <td>...</td>\n",
       "      <td>...</td>\n",
       "      <td>...</td>\n",
       "      <td>...</td>\n",
       "      <td>...</td>\n",
       "    </tr>\n",
       "    <tr>\n",
       "      <td>909</td>\n",
       "      <td>motor.ru</td>\n",
       "      <td>2020.02.28</td>\n",
       "      <td>https://motor.ru/news/lil-cybertruck-vs-f-150-...</td>\n",
       "      <td>Очень маленькая Tesla Cybertruck посоревновала...</td>\n",
       "      <td></td>\n",
       "      <td>[]</td>\n",
       "    </tr>\n",
       "    <tr>\n",
       "      <td>910</td>\n",
       "      <td>motor.ru</td>\n",
       "      <td>2020.02.28</td>\n",
       "      <td>https://motor.ru/news/electro5n7-28-02-2020.htm</td>\n",
       "      <td>BMW 5 и 7 серии станут дальнобойными электрока...</td>\n",
       "      <td></td>\n",
       "      <td>[]</td>\n",
       "    </tr>\n",
       "    <tr>\n",
       "      <td>911</td>\n",
       "      <td>motor.ru</td>\n",
       "      <td>2020.02.28</td>\n",
       "      <td>https://motor.ru/news/f150byhennessey-28-02-20...</td>\n",
       "      <td>Ford F-150 оснастили 786-сильной «восьмеркой» ...</td>\n",
       "      <td></td>\n",
       "      <td>[]</td>\n",
       "    </tr>\n",
       "    <tr>\n",
       "      <td>912</td>\n",
       "      <td>motor.ru</td>\n",
       "      <td>2020.02.28</td>\n",
       "      <td>https://motor.ru/news/uaz-hunter-ev-28-02-2020...</td>\n",
       "      <td>UAZ Hunter превратили в электромобиль .Чешская...</td>\n",
       "      <td></td>\n",
       "      <td>[]</td>\n",
       "    </tr>\n",
       "    <tr>\n",
       "      <td>913</td>\n",
       "      <td>motor.ru</td>\n",
       "      <td>2020.02.28</td>\n",
       "      <td>https://motor.ru/testdrives/300-kilometrov-v-z...</td>\n",
       "      <td>300 километров в заносе .К многочисленным води...</td>\n",
       "      <td></td>\n",
       "      <td>[]</td>\n",
       "    </tr>\n",
       "  </tbody>\n",
       "</table>\n",
       "<p>914 rows × 6 columns</p>\n",
       "</div>"
      ],
      "text/plain": [
       "        Media        Date                                               Link  \\\n",
       "0    motor.ru  2020.01.01  https://motor.ru/news/genesis-gv80-01-01-2020.htm   \n",
       "1    motor.ru  2020.01.01  https://motor.ru/news/beetle-tribute-01-01-202...   \n",
       "2    motor.ru  2020.01.01   https://motor.ru/stories/best-longreads-2019.htm   \n",
       "3    motor.ru  2020.01.02  https://motor.ru/news/chrysler-airflow-02-01-2...   \n",
       "4    motor.ru  2020.01.02  https://motor.ru/news/ghosn-conference-02-01-2...   \n",
       "..        ...         ...                                                ...   \n",
       "909  motor.ru  2020.02.28  https://motor.ru/news/lil-cybertruck-vs-f-150-...   \n",
       "910  motor.ru  2020.02.28    https://motor.ru/news/electro5n7-28-02-2020.htm   \n",
       "911  motor.ru  2020.02.28  https://motor.ru/news/f150byhennessey-28-02-20...   \n",
       "912  motor.ru  2020.02.28  https://motor.ru/news/uaz-hunter-ev-28-02-2020...   \n",
       "913  motor.ru  2020.02.28  https://motor.ru/testdrives/300-kilometrov-v-z...   \n",
       "\n",
       "                                                  Text Dep Tags  \n",
       "0    Genesis раскрыл внешность кроссовера GV80 .В п...       []  \n",
       "1    Видео: Volkswagen попрощался с Beetle под песн...       []  \n",
       "2     Самое интересное на «Моторе» за год .Пока ещё...       []  \n",
       "3    Chrysler анонсировал концепт с «премиальным ди...       []  \n",
       "4    Сбежавший из-под ареста Карлос Гон проведет пр...       []  \n",
       "..                                                 ...  ..  ...  \n",
       "909  Очень маленькая Tesla Cybertruck посоревновала...       []  \n",
       "910  BMW 5 и 7 серии станут дальнобойными электрока...       []  \n",
       "911  Ford F-150 оснастили 786-сильной «восьмеркой» ...       []  \n",
       "912  UAZ Hunter превратили в электромобиль .Чешская...       []  \n",
       "913  300 километров в заносе .К многочисленным води...       []  \n",
       "\n",
       "[914 rows x 6 columns]"
      ]
     },
     "execution_count": 152,
     "metadata": {},
     "output_type": "execute_result"
    }
   ],
   "source": [
    "motor_2020 = []\n",
    "for date in tqdm_notebook(list(motor_20.keys())):\n",
    "    for link in tqdm_notebook(motor_20[date]):\n",
    "#         if link not in pd.DataFrame(gazeta_2020).Link:\n",
    "        try:\n",
    "            motor_2020.append({'Media':'motor.ru', 'Date':date, 'Link':link,\n",
    "                                       'Text':get_article_motor(link), 'Dep':'', 'Tags':[]})\n",
    "        except (requests.exceptions.ConnectionError, AttributeError, \n",
    "                IndexError, requests.exceptions.TooManyRedirects):\n",
    "            print(link)\n",
    "    if date.endswith('1'):\n",
    "        pd.DataFrame(motor_2020).to_csv('motor_2020.csv', encoding='utf-8')\n",
    "pd.DataFrame(motor_2020).to_csv('motor_2020.csv', encoding='utf-8')\n",
    "pd.DataFrame(motor_2020)"
   ]
  },
  {
   "cell_type": "code",
   "execution_count": 153,
   "metadata": {},
   "outputs": [
    {
     "data": {
      "application/vnd.jupyter.widget-view+json": {
       "model_id": "be3086e9852c4aa68e939aedb7ed4de3",
       "version_major": 2,
       "version_minor": 0
      },
      "text/plain": [
       "HBox(children=(IntProgress(value=0, max=365), HTML(value='')))"
      ]
     },
     "metadata": {},
     "output_type": "display_data"
    },
    {
     "data": {
      "application/vnd.jupyter.widget-view+json": {
       "model_id": "ef37ecea4e1444dfae68e1123a0a9cc6",
       "version_major": 2,
       "version_minor": 0
      },
      "text/plain": [
       "HBox(children=(IntProgress(value=0, max=11), HTML(value='')))"
      ]
     },
     "metadata": {},
     "output_type": "display_data"
    },
    {
     "name": "stdout",
     "output_type": "stream",
     "text": [
      "\n"
     ]
    },
    {
     "data": {
      "application/vnd.jupyter.widget-view+json": {
       "model_id": "d8f09882811e49bd932d21272ef7c18f",
       "version_major": 2,
       "version_minor": 0
      },
      "text/plain": [
       "HBox(children=(IntProgress(value=0, max=11), HTML(value='')))"
      ]
     },
     "metadata": {},
     "output_type": "display_data"
    },
    {
     "name": "stdout",
     "output_type": "stream",
     "text": [
      "\n"
     ]
    },
    {
     "data": {
      "application/vnd.jupyter.widget-view+json": {
       "model_id": "87419671043641df9d1f651d80298526",
       "version_major": 2,
       "version_minor": 0
      },
      "text/plain": [
       "HBox(children=(IntProgress(value=0, max=7), HTML(value='')))"
      ]
     },
     "metadata": {},
     "output_type": "display_data"
    },
    {
     "name": "stdout",
     "output_type": "stream",
     "text": [
      "\n"
     ]
    },
    {
     "data": {
      "application/vnd.jupyter.widget-view+json": {
       "model_id": "a1e23af959724b0ca584aea2563e7465",
       "version_major": 2,
       "version_minor": 0
      },
      "text/plain": [
       "HBox(children=(IntProgress(value=0, max=7), HTML(value='')))"
      ]
     },
     "metadata": {},
     "output_type": "display_data"
    },
    {
     "name": "stdout",
     "output_type": "stream",
     "text": [
      "\n"
     ]
    },
    {
     "data": {
      "application/vnd.jupyter.widget-view+json": {
       "model_id": "28548424ca6049baa95d3a163823c0af",
       "version_major": 2,
       "version_minor": 0
      },
      "text/plain": [
       "HBox(children=(IntProgress(value=0, max=1), HTML(value='')))"
      ]
     },
     "metadata": {},
     "output_type": "display_data"
    },
    {
     "name": "stdout",
     "output_type": "stream",
     "text": [
      "\n"
     ]
    },
    {
     "data": {
      "application/vnd.jupyter.widget-view+json": {
       "model_id": "e34814143577414ca0f46ec60f1dbff2",
       "version_major": 2,
       "version_minor": 0
      },
      "text/plain": [
       "HBox(children=(IntProgress(value=0, max=1), HTML(value='')))"
      ]
     },
     "metadata": {},
     "output_type": "display_data"
    },
    {
     "name": "stdout",
     "output_type": "stream",
     "text": [
      "\n"
     ]
    },
    {
     "data": {
      "application/vnd.jupyter.widget-view+json": {
       "model_id": "883b523322674fc6812a2bca5a3a9f4a",
       "version_major": 2,
       "version_minor": 0
      },
      "text/plain": [
       "HBox(children=(IntProgress(value=0, max=7), HTML(value='')))"
      ]
     },
     "metadata": {},
     "output_type": "display_data"
    },
    {
     "name": "stdout",
     "output_type": "stream",
     "text": [
      "\n"
     ]
    },
    {
     "data": {
      "application/vnd.jupyter.widget-view+json": {
       "model_id": "92a55a35b27b44efa61b3269cb863048",
       "version_major": 2,
       "version_minor": 0
      },
      "text/plain": [
       "HBox(children=(IntProgress(value=0, max=5), HTML(value='')))"
      ]
     },
     "metadata": {},
     "output_type": "display_data"
    },
    {
     "name": "stdout",
     "output_type": "stream",
     "text": [
      "\n"
     ]
    },
    {
     "data": {
      "application/vnd.jupyter.widget-view+json": {
       "model_id": "538cdfa9473243da8147c59f6c938b12",
       "version_major": 2,
       "version_minor": 0
      },
      "text/plain": [
       "HBox(children=(IntProgress(value=0, max=17), HTML(value='')))"
      ]
     },
     "metadata": {},
     "output_type": "display_data"
    },
    {
     "name": "stdout",
     "output_type": "stream",
     "text": [
      "\n"
     ]
    },
    {
     "data": {
      "application/vnd.jupyter.widget-view+json": {
       "model_id": "1549eb9a481e4183bcecce21350f642b",
       "version_major": 2,
       "version_minor": 0
      },
      "text/plain": [
       "HBox(children=(IntProgress(value=0, max=15), HTML(value='')))"
      ]
     },
     "metadata": {},
     "output_type": "display_data"
    },
    {
     "name": "stdout",
     "output_type": "stream",
     "text": [
      "\n"
     ]
    },
    {
     "data": {
      "application/vnd.jupyter.widget-view+json": {
       "model_id": "850dad0573bc41b6bc9c4d7b6074fc73",
       "version_major": 2,
       "version_minor": 0
      },
      "text/plain": [
       "HBox(children=(IntProgress(value=0, max=11), HTML(value='')))"
      ]
     },
     "metadata": {},
     "output_type": "display_data"
    },
    {
     "name": "stdout",
     "output_type": "stream",
     "text": [
      "\n"
     ]
    },
    {
     "data": {
      "application/vnd.jupyter.widget-view+json": {
       "model_id": "06a4e214ed804a1cba92b37dcbbab280",
       "version_major": 2,
       "version_minor": 0
      },
      "text/plain": [
       "HBox(children=(IntProgress(value=0, max=11), HTML(value='')))"
      ]
     },
     "metadata": {},
     "output_type": "display_data"
    },
    {
     "name": "stdout",
     "output_type": "stream",
     "text": [
      "\n"
     ]
    },
    {
     "data": {
      "application/vnd.jupyter.widget-view+json": {
       "model_id": "e8dc0f49e00d4376b425db66f6852827",
       "version_major": 2,
       "version_minor": 0
      },
      "text/plain": [
       "HBox(children=(IntProgress(value=0, max=11), HTML(value='')))"
      ]
     },
     "metadata": {},
     "output_type": "display_data"
    },
    {
     "name": "stdout",
     "output_type": "stream",
     "text": [
      "\n"
     ]
    },
    {
     "data": {
      "application/vnd.jupyter.widget-view+json": {
       "model_id": "6291b18a300f4003a4cfc53c35207744",
       "version_major": 2,
       "version_minor": 0
      },
      "text/plain": [
       "HBox(children=(IntProgress(value=0, max=14), HTML(value='')))"
      ]
     },
     "metadata": {},
     "output_type": "display_data"
    },
    {
     "name": "stdout",
     "output_type": "stream",
     "text": [
      "\n"
     ]
    },
    {
     "data": {
      "application/vnd.jupyter.widget-view+json": {
       "model_id": "9096ca6eb297441786a2ba76cdab436a",
       "version_major": 2,
       "version_minor": 0
      },
      "text/plain": [
       "HBox(children=(IntProgress(value=0, max=16), HTML(value='')))"
      ]
     },
     "metadata": {},
     "output_type": "display_data"
    },
    {
     "name": "stdout",
     "output_type": "stream",
     "text": [
      "\n"
     ]
    },
    {
     "data": {
      "application/vnd.jupyter.widget-view+json": {
       "model_id": "675c3e3984324336a6b702cffcd0f680",
       "version_major": 2,
       "version_minor": 0
      },
      "text/plain": [
       "HBox(children=(IntProgress(value=0, max=14), HTML(value='')))"
      ]
     },
     "metadata": {},
     "output_type": "display_data"
    },
    {
     "name": "stdout",
     "output_type": "stream",
     "text": [
      "\n"
     ]
    },
    {
     "data": {
      "application/vnd.jupyter.widget-view+json": {
       "model_id": "5c953dbe7e434eb2a21c6b3145148701",
       "version_major": 2,
       "version_minor": 0
      },
      "text/plain": [
       "HBox(children=(IntProgress(value=0, max=11), HTML(value='')))"
      ]
     },
     "metadata": {},
     "output_type": "display_data"
    },
    {
     "name": "stdout",
     "output_type": "stream",
     "text": [
      "\n"
     ]
    },
    {
     "data": {
      "application/vnd.jupyter.widget-view+json": {
       "model_id": "6299980aa1b94cc9a9e2627bb397d690",
       "version_major": 2,
       "version_minor": 0
      },
      "text/plain": [
       "HBox(children=(IntProgress(value=0, max=11), HTML(value='')))"
      ]
     },
     "metadata": {},
     "output_type": "display_data"
    },
    {
     "name": "stdout",
     "output_type": "stream",
     "text": [
      "\n"
     ]
    },
    {
     "data": {
      "application/vnd.jupyter.widget-view+json": {
       "model_id": "f9037aff7f3548b1babf4f923310cda0",
       "version_major": 2,
       "version_minor": 0
      },
      "text/plain": [
       "HBox(children=(IntProgress(value=0, max=11), HTML(value='')))"
      ]
     },
     "metadata": {},
     "output_type": "display_data"
    },
    {
     "name": "stdout",
     "output_type": "stream",
     "text": [
      "\n"
     ]
    },
    {
     "data": {
      "application/vnd.jupyter.widget-view+json": {
       "model_id": "1926826f9094467b90153583e4966119",
       "version_major": 2,
       "version_minor": 0
      },
      "text/plain": [
       "HBox(children=(IntProgress(value=0, max=11), HTML(value='')))"
      ]
     },
     "metadata": {},
     "output_type": "display_data"
    },
    {
     "name": "stdout",
     "output_type": "stream",
     "text": [
      "\n"
     ]
    },
    {
     "data": {
      "application/vnd.jupyter.widget-view+json": {
       "model_id": "ca92de6918f84d6e94c452f8bbb49c28",
       "version_major": 2,
       "version_minor": 0
      },
      "text/plain": [
       "HBox(children=(IntProgress(value=0, max=11), HTML(value='')))"
      ]
     },
     "metadata": {},
     "output_type": "display_data"
    },
    {
     "name": "stdout",
     "output_type": "stream",
     "text": [
      "\n"
     ]
    },
    {
     "data": {
      "application/vnd.jupyter.widget-view+json": {
       "model_id": "82af5d6cbe75433a93ec9a6b44954b50",
       "version_major": 2,
       "version_minor": 0
      },
      "text/plain": [
       "HBox(children=(IntProgress(value=0, max=13), HTML(value='')))"
      ]
     },
     "metadata": {},
     "output_type": "display_data"
    },
    {
     "name": "stdout",
     "output_type": "stream",
     "text": [
      "\n"
     ]
    },
    {
     "data": {
      "application/vnd.jupyter.widget-view+json": {
       "model_id": "1d18bba743aa461daa711f1026c6925e",
       "version_major": 2,
       "version_minor": 0
      },
      "text/plain": [
       "HBox(children=(IntProgress(value=0, max=14), HTML(value='')))"
      ]
     },
     "metadata": {},
     "output_type": "display_data"
    },
    {
     "name": "stdout",
     "output_type": "stream",
     "text": [
      "\n"
     ]
    },
    {
     "data": {
      "application/vnd.jupyter.widget-view+json": {
       "model_id": "6b6fd1ed9eb34665828d644677c7c75a",
       "version_major": 2,
       "version_minor": 0
      },
      "text/plain": [
       "HBox(children=(IntProgress(value=0, max=15), HTML(value='')))"
      ]
     },
     "metadata": {},
     "output_type": "display_data"
    },
    {
     "name": "stdout",
     "output_type": "stream",
     "text": [
      "\n"
     ]
    },
    {
     "data": {
      "application/vnd.jupyter.widget-view+json": {
       "model_id": "c070c23e4930444796795cf4b4e7a8d2",
       "version_major": 2,
       "version_minor": 0
      },
      "text/plain": [
       "HBox(children=(IntProgress(value=0, max=11), HTML(value='')))"
      ]
     },
     "metadata": {},
     "output_type": "display_data"
    },
    {
     "name": "stdout",
     "output_type": "stream",
     "text": [
      "\n"
     ]
    },
    {
     "data": {
      "application/vnd.jupyter.widget-view+json": {
       "model_id": "b4bc54e724b3425c9d96c2c97ee14847",
       "version_major": 2,
       "version_minor": 0
      },
      "text/plain": [
       "HBox(children=(IntProgress(value=0, max=3), HTML(value='')))"
      ]
     },
     "metadata": {},
     "output_type": "display_data"
    },
    {
     "name": "stdout",
     "output_type": "stream",
     "text": [
      "\n"
     ]
    },
    {
     "data": {
      "application/vnd.jupyter.widget-view+json": {
       "model_id": "17be922f75ee4867b537ab32bc887105",
       "version_major": 2,
       "version_minor": 0
      },
      "text/plain": [
       "HBox(children=(IntProgress(value=0, max=1), HTML(value='')))"
      ]
     },
     "metadata": {},
     "output_type": "display_data"
    },
    {
     "name": "stdout",
     "output_type": "stream",
     "text": [
      "\n"
     ]
    },
    {
     "data": {
      "application/vnd.jupyter.widget-view+json": {
       "model_id": "89b8d5cb69704af6bd07a590625557d7",
       "version_major": 2,
       "version_minor": 0
      },
      "text/plain": [
       "HBox(children=(IntProgress(value=0, max=14), HTML(value='')))"
      ]
     },
     "metadata": {},
     "output_type": "display_data"
    },
    {
     "name": "stdout",
     "output_type": "stream",
     "text": [
      "\n"
     ]
    },
    {
     "data": {
      "application/vnd.jupyter.widget-view+json": {
       "model_id": "b40ec69e8c5c4247bec21432532359ca",
       "version_major": 2,
       "version_minor": 0
      },
      "text/plain": [
       "HBox(children=(IntProgress(value=0, max=13), HTML(value='')))"
      ]
     },
     "metadata": {},
     "output_type": "display_data"
    },
    {
     "name": "stdout",
     "output_type": "stream",
     "text": [
      "\n"
     ]
    },
    {
     "data": {
      "application/vnd.jupyter.widget-view+json": {
       "model_id": "b433a80a85bc4a6891f8ded186988192",
       "version_major": 2,
       "version_minor": 0
      },
      "text/plain": [
       "HBox(children=(IntProgress(value=0, max=11), HTML(value='')))"
      ]
     },
     "metadata": {},
     "output_type": "display_data"
    },
    {
     "name": "stdout",
     "output_type": "stream",
     "text": [
      "\n"
     ]
    },
    {
     "data": {
      "application/vnd.jupyter.widget-view+json": {
       "model_id": "eb7e3c330cdd4c93bfad0443c5781c77",
       "version_major": 2,
       "version_minor": 0
      },
      "text/plain": [
       "HBox(children=(IntProgress(value=0, max=11), HTML(value='')))"
      ]
     },
     "metadata": {},
     "output_type": "display_data"
    },
    {
     "name": "stdout",
     "output_type": "stream",
     "text": [
      "\n"
     ]
    },
    {
     "data": {
      "application/vnd.jupyter.widget-view+json": {
       "model_id": "94886529ab114a41abf08ff3a2a2a13b",
       "version_major": 2,
       "version_minor": 0
      },
      "text/plain": [
       "HBox(children=(IntProgress(value=0, max=13), HTML(value='')))"
      ]
     },
     "metadata": {},
     "output_type": "display_data"
    },
    {
     "name": "stdout",
     "output_type": "stream",
     "text": [
      "\n"
     ]
    },
    {
     "data": {
      "application/vnd.jupyter.widget-view+json": {
       "model_id": "17cda21325c64bbbada9f1e7a96e5130",
       "version_major": 2,
       "version_minor": 0
      },
      "text/plain": [
       "HBox(children=(IntProgress(value=0, max=2), HTML(value='')))"
      ]
     },
     "metadata": {},
     "output_type": "display_data"
    },
    {
     "name": "stdout",
     "output_type": "stream",
     "text": [
      "\n"
     ]
    },
    {
     "data": {
      "application/vnd.jupyter.widget-view+json": {
       "model_id": "934f250e084847c1a527d4ecbfe6b3e1",
       "version_major": 2,
       "version_minor": 0
      },
      "text/plain": [
       "HBox(children=(IntProgress(value=0, max=2), HTML(value='')))"
      ]
     },
     "metadata": {},
     "output_type": "display_data"
    },
    {
     "name": "stdout",
     "output_type": "stream",
     "text": [
      "\n"
     ]
    },
    {
     "data": {
      "application/vnd.jupyter.widget-view+json": {
       "model_id": "ef3712fa2343465f94ae135d5af09d8a",
       "version_major": 2,
       "version_minor": 0
      },
      "text/plain": [
       "HBox(children=(IntProgress(value=0, max=13), HTML(value='')))"
      ]
     },
     "metadata": {},
     "output_type": "display_data"
    },
    {
     "name": "stdout",
     "output_type": "stream",
     "text": [
      "\n"
     ]
    },
    {
     "data": {
      "application/vnd.jupyter.widget-view+json": {
       "model_id": "95e4306cc0f64873871508c10ca476e7",
       "version_major": 2,
       "version_minor": 0
      },
      "text/plain": [
       "HBox(children=(IntProgress(value=0, max=15), HTML(value='')))"
      ]
     },
     "metadata": {},
     "output_type": "display_data"
    },
    {
     "name": "stdout",
     "output_type": "stream",
     "text": [
      "\n"
     ]
    },
    {
     "data": {
      "application/vnd.jupyter.widget-view+json": {
       "model_id": "5b4b626a3c064d65890d4ed484c22f27",
       "version_major": 2,
       "version_minor": 0
      },
      "text/plain": [
       "HBox(children=(IntProgress(value=0, max=13), HTML(value='')))"
      ]
     },
     "metadata": {},
     "output_type": "display_data"
    },
    {
     "name": "stdout",
     "output_type": "stream",
     "text": [
      "\n"
     ]
    },
    {
     "data": {
      "application/vnd.jupyter.widget-view+json": {
       "model_id": "7e0379fa324f4dd09023afac131faf72",
       "version_major": 2,
       "version_minor": 0
      },
      "text/plain": [
       "HBox(children=(IntProgress(value=0, max=13), HTML(value='')))"
      ]
     },
     "metadata": {},
     "output_type": "display_data"
    },
    {
     "name": "stdout",
     "output_type": "stream",
     "text": [
      "\n"
     ]
    },
    {
     "data": {
      "application/vnd.jupyter.widget-view+json": {
       "model_id": "0039e3c46b9b408da9e591f8fc3f98aa",
       "version_major": 2,
       "version_minor": 0
      },
      "text/plain": [
       "HBox(children=(IntProgress(value=0, max=11), HTML(value='')))"
      ]
     },
     "metadata": {},
     "output_type": "display_data"
    },
    {
     "name": "stdout",
     "output_type": "stream",
     "text": [
      "\n"
     ]
    },
    {
     "data": {
      "application/vnd.jupyter.widget-view+json": {
       "model_id": "49c8a86a8ded4136bccf89e5878da4a9",
       "version_major": 2,
       "version_minor": 0
      },
      "text/plain": [
       "HBox(children=(IntProgress(value=0, max=2), HTML(value='')))"
      ]
     },
     "metadata": {},
     "output_type": "display_data"
    },
    {
     "name": "stdout",
     "output_type": "stream",
     "text": [
      "\n"
     ]
    },
    {
     "data": {
      "application/vnd.jupyter.widget-view+json": {
       "model_id": "adeb7fd596d844e49a19576c1660fe3a",
       "version_major": 2,
       "version_minor": 0
      },
      "text/plain": [
       "HBox(children=(IntProgress(value=0, max=3), HTML(value='')))"
      ]
     },
     "metadata": {},
     "output_type": "display_data"
    },
    {
     "name": "stdout",
     "output_type": "stream",
     "text": [
      "\n"
     ]
    },
    {
     "data": {
      "application/vnd.jupyter.widget-view+json": {
       "model_id": "b6700a71ea13499682338c0a0d002d94",
       "version_major": 2,
       "version_minor": 0
      },
      "text/plain": [
       "HBox(children=(IntProgress(value=0, max=10), HTML(value='')))"
      ]
     },
     "metadata": {},
     "output_type": "display_data"
    },
    {
     "name": "stdout",
     "output_type": "stream",
     "text": [
      "\n"
     ]
    },
    {
     "data": {
      "application/vnd.jupyter.widget-view+json": {
       "model_id": "b1a039cd6c2b419d8fa7743a2ee2ad46",
       "version_major": 2,
       "version_minor": 0
      },
      "text/plain": [
       "HBox(children=(IntProgress(value=0, max=12), HTML(value='')))"
      ]
     },
     "metadata": {},
     "output_type": "display_data"
    },
    {
     "name": "stdout",
     "output_type": "stream",
     "text": [
      "\n"
     ]
    },
    {
     "data": {
      "application/vnd.jupyter.widget-view+json": {
       "model_id": "6b08012a65214ef3978d3e13b94bf4db",
       "version_major": 2,
       "version_minor": 0
      },
      "text/plain": [
       "HBox(children=(IntProgress(value=0, max=13), HTML(value='')))"
      ]
     },
     "metadata": {},
     "output_type": "display_data"
    },
    {
     "name": "stdout",
     "output_type": "stream",
     "text": [
      "\n"
     ]
    },
    {
     "data": {
      "application/vnd.jupyter.widget-view+json": {
       "model_id": "bc5e8646a10e43e9b5fb09af87fd7892",
       "version_major": 2,
       "version_minor": 0
      },
      "text/plain": [
       "HBox(children=(IntProgress(value=0, max=12), HTML(value='')))"
      ]
     },
     "metadata": {},
     "output_type": "display_data"
    },
    {
     "name": "stdout",
     "output_type": "stream",
     "text": [
      "\n"
     ]
    },
    {
     "data": {
      "application/vnd.jupyter.widget-view+json": {
       "model_id": "d485abc298b247ada9a3e5189b79091b",
       "version_major": 2,
       "version_minor": 0
      },
      "text/plain": [
       "HBox(children=(IntProgress(value=0, max=12), HTML(value='')))"
      ]
     },
     "metadata": {},
     "output_type": "display_data"
    },
    {
     "name": "stdout",
     "output_type": "stream",
     "text": [
      "\n"
     ]
    },
    {
     "data": {
      "application/vnd.jupyter.widget-view+json": {
       "model_id": "80bcad8d3037454395cb1f7901b80e16",
       "version_major": 2,
       "version_minor": 0
      },
      "text/plain": [
       "HBox(children=(IntProgress(value=0, max=4), HTML(value='')))"
      ]
     },
     "metadata": {},
     "output_type": "display_data"
    },
    {
     "name": "stdout",
     "output_type": "stream",
     "text": [
      "\n"
     ]
    },
    {
     "data": {
      "application/vnd.jupyter.widget-view+json": {
       "model_id": "58d0436c43514fd3b6996840514a832f",
       "version_major": 2,
       "version_minor": 0
      },
      "text/plain": [
       "HBox(children=(IntProgress(value=0, max=2), HTML(value='')))"
      ]
     },
     "metadata": {},
     "output_type": "display_data"
    },
    {
     "name": "stdout",
     "output_type": "stream",
     "text": [
      "\n"
     ]
    },
    {
     "data": {
      "application/vnd.jupyter.widget-view+json": {
       "model_id": "31714e235b8a4529a1eabd24e8c24895",
       "version_major": 2,
       "version_minor": 0
      },
      "text/plain": [
       "HBox(children=(IntProgress(value=0, max=13), HTML(value='')))"
      ]
     },
     "metadata": {},
     "output_type": "display_data"
    },
    {
     "name": "stdout",
     "output_type": "stream",
     "text": [
      "\n"
     ]
    },
    {
     "data": {
      "application/vnd.jupyter.widget-view+json": {
       "model_id": "921f5808e749458ca25293d376fda03c",
       "version_major": 2,
       "version_minor": 0
      },
      "text/plain": [
       "HBox(children=(IntProgress(value=0, max=11), HTML(value='')))"
      ]
     },
     "metadata": {},
     "output_type": "display_data"
    },
    {
     "name": "stdout",
     "output_type": "stream",
     "text": [
      "\n"
     ]
    },
    {
     "data": {
      "application/vnd.jupyter.widget-view+json": {
       "model_id": "75a3cf315e754ae5b861e631cc1e7b48",
       "version_major": 2,
       "version_minor": 0
      },
      "text/plain": [
       "HBox(children=(IntProgress(value=0, max=13), HTML(value='')))"
      ]
     },
     "metadata": {},
     "output_type": "display_data"
    },
    {
     "name": "stdout",
     "output_type": "stream",
     "text": [
      "\n"
     ]
    },
    {
     "data": {
      "application/vnd.jupyter.widget-view+json": {
       "model_id": "c150a6e8e9c04032b8d56466b72c4f9f",
       "version_major": 2,
       "version_minor": 0
      },
      "text/plain": [
       "HBox(children=(IntProgress(value=0, max=10), HTML(value='')))"
      ]
     },
     "metadata": {},
     "output_type": "display_data"
    },
    {
     "name": "stdout",
     "output_type": "stream",
     "text": [
      "\n"
     ]
    },
    {
     "data": {
      "application/vnd.jupyter.widget-view+json": {
       "model_id": "0a27ccdaca9642a3a9b93396fb5fcfaa",
       "version_major": 2,
       "version_minor": 0
      },
      "text/plain": [
       "HBox(children=(IntProgress(value=0, max=12), HTML(value='')))"
      ]
     },
     "metadata": {},
     "output_type": "display_data"
    },
    {
     "name": "stdout",
     "output_type": "stream",
     "text": [
      "\n"
     ]
    },
    {
     "data": {
      "application/vnd.jupyter.widget-view+json": {
       "model_id": "ddae41438a3149448f1cf2b741dd8f9b",
       "version_major": 2,
       "version_minor": 0
      },
      "text/plain": [
       "HBox(children=(IntProgress(value=0, max=3), HTML(value='')))"
      ]
     },
     "metadata": {},
     "output_type": "display_data"
    },
    {
     "name": "stdout",
     "output_type": "stream",
     "text": [
      "\n"
     ]
    },
    {
     "data": {
      "application/vnd.jupyter.widget-view+json": {
       "model_id": "939eb58036e84cf99ec6734b1d9aec34",
       "version_major": 2,
       "version_minor": 0
      },
      "text/plain": [
       "HBox(children=(IntProgress(value=0, max=2), HTML(value='')))"
      ]
     },
     "metadata": {},
     "output_type": "display_data"
    },
    {
     "name": "stdout",
     "output_type": "stream",
     "text": [
      "\n"
     ]
    },
    {
     "data": {
      "application/vnd.jupyter.widget-view+json": {
       "model_id": "f52d347838714e46ae2621b758546944",
       "version_major": 2,
       "version_minor": 0
      },
      "text/plain": [
       "HBox(children=(IntProgress(value=0, max=9), HTML(value='')))"
      ]
     },
     "metadata": {},
     "output_type": "display_data"
    },
    {
     "name": "stdout",
     "output_type": "stream",
     "text": [
      "\n"
     ]
    },
    {
     "data": {
      "application/vnd.jupyter.widget-view+json": {
       "model_id": "ba2c9c9964b74b89a5ea4f50b55a5723",
       "version_major": 2,
       "version_minor": 0
      },
      "text/plain": [
       "HBox(children=(IntProgress(value=0, max=10), HTML(value='')))"
      ]
     },
     "metadata": {},
     "output_type": "display_data"
    },
    {
     "name": "stdout",
     "output_type": "stream",
     "text": [
      "\n"
     ]
    },
    {
     "data": {
      "application/vnd.jupyter.widget-view+json": {
       "model_id": "a5da47a7a3614cd8bd27112e4c612875",
       "version_major": 2,
       "version_minor": 0
      },
      "text/plain": [
       "HBox(children=(IntProgress(value=0, max=13), HTML(value='')))"
      ]
     },
     "metadata": {},
     "output_type": "display_data"
    },
    {
     "name": "stdout",
     "output_type": "stream",
     "text": [
      "\n"
     ]
    },
    {
     "data": {
      "application/vnd.jupyter.widget-view+json": {
       "model_id": "8022684ef01a4ff28a2d115e070da7bd",
       "version_major": 2,
       "version_minor": 0
      },
      "text/plain": [
       "HBox(children=(IntProgress(value=0, max=12), HTML(value='')))"
      ]
     },
     "metadata": {},
     "output_type": "display_data"
    },
    {
     "name": "stdout",
     "output_type": "stream",
     "text": [
      "\n"
     ]
    },
    {
     "data": {
      "application/vnd.jupyter.widget-view+json": {
       "model_id": "5cfc8cefbcf340efa6a9bc9cf299781a",
       "version_major": 2,
       "version_minor": 0
      },
      "text/plain": [
       "HBox(children=(IntProgress(value=0, max=10), HTML(value='')))"
      ]
     },
     "metadata": {},
     "output_type": "display_data"
    },
    {
     "name": "stdout",
     "output_type": "stream",
     "text": [
      "\n"
     ]
    },
    {
     "data": {
      "application/vnd.jupyter.widget-view+json": {
       "model_id": "2cefa99ccdf94400acef8b7abf297ad1",
       "version_major": 2,
       "version_minor": 0
      },
      "text/plain": [
       "HBox(children=(IntProgress(value=0, max=2), HTML(value='')))"
      ]
     },
     "metadata": {},
     "output_type": "display_data"
    },
    {
     "name": "stdout",
     "output_type": "stream",
     "text": [
      "\n"
     ]
    },
    {
     "data": {
      "application/vnd.jupyter.widget-view+json": {
       "model_id": "adc6c723aa4a430bb3e5250c55461f84",
       "version_major": 2,
       "version_minor": 0
      },
      "text/plain": [
       "HBox(children=(IntProgress(value=0, max=1), HTML(value='')))"
      ]
     },
     "metadata": {},
     "output_type": "display_data"
    },
    {
     "name": "stdout",
     "output_type": "stream",
     "text": [
      "\n"
     ]
    },
    {
     "data": {
      "application/vnd.jupyter.widget-view+json": {
       "model_id": "3ed1c1a009bf41259831d888b2950a10",
       "version_major": 2,
       "version_minor": 0
      },
      "text/plain": [
       "HBox(children=(IntProgress(value=0, max=12), HTML(value='')))"
      ]
     },
     "metadata": {},
     "output_type": "display_data"
    },
    {
     "name": "stdout",
     "output_type": "stream",
     "text": [
      "\n"
     ]
    },
    {
     "data": {
      "application/vnd.jupyter.widget-view+json": {
       "model_id": "d2b1336de572426fa3283f826c756d2c",
       "version_major": 2,
       "version_minor": 0
      },
      "text/plain": [
       "HBox(children=(IntProgress(value=0, max=26), HTML(value='')))"
      ]
     },
     "metadata": {},
     "output_type": "display_data"
    },
    {
     "name": "stdout",
     "output_type": "stream",
     "text": [
      "\n"
     ]
    },
    {
     "data": {
      "application/vnd.jupyter.widget-view+json": {
       "model_id": "ea1eeb48489643ebafe052f96d587bda",
       "version_major": 2,
       "version_minor": 0
      },
      "text/plain": [
       "HBox(children=(IntProgress(value=0, max=12), HTML(value='')))"
      ]
     },
     "metadata": {},
     "output_type": "display_data"
    },
    {
     "name": "stdout",
     "output_type": "stream",
     "text": [
      "\n"
     ]
    },
    {
     "data": {
      "application/vnd.jupyter.widget-view+json": {
       "model_id": "c64f0616af6249d4b0edd26761487b83",
       "version_major": 2,
       "version_minor": 0
      },
      "text/plain": [
       "HBox(children=(IntProgress(value=0, max=9), HTML(value='')))"
      ]
     },
     "metadata": {},
     "output_type": "display_data"
    },
    {
     "name": "stdout",
     "output_type": "stream",
     "text": [
      "\n"
     ]
    },
    {
     "data": {
      "application/vnd.jupyter.widget-view+json": {
       "model_id": "29182d704e4f45878f4f3a5ab34b1ed4",
       "version_major": 2,
       "version_minor": 0
      },
      "text/plain": [
       "HBox(children=(IntProgress(value=0, max=1), HTML(value='')))"
      ]
     },
     "metadata": {},
     "output_type": "display_data"
    },
    {
     "name": "stdout",
     "output_type": "stream",
     "text": [
      "\n"
     ]
    },
    {
     "data": {
      "application/vnd.jupyter.widget-view+json": {
       "model_id": "28095bebad4a45a59e3909fe1b29a0ac",
       "version_major": 2,
       "version_minor": 0
      },
      "text/plain": [
       "HBox(children=(IntProgress(value=0, max=1), HTML(value='')))"
      ]
     },
     "metadata": {},
     "output_type": "display_data"
    },
    {
     "name": "stdout",
     "output_type": "stream",
     "text": [
      "\n"
     ]
    },
    {
     "data": {
      "application/vnd.jupyter.widget-view+json": {
       "model_id": "00f7fb56bdef45ecb2337de534ad7227",
       "version_major": 2,
       "version_minor": 0
      },
      "text/plain": [
       "HBox(children=(IntProgress(value=0, max=1), HTML(value='')))"
      ]
     },
     "metadata": {},
     "output_type": "display_data"
    },
    {
     "name": "stdout",
     "output_type": "stream",
     "text": [
      "\n"
     ]
    },
    {
     "data": {
      "application/vnd.jupyter.widget-view+json": {
       "model_id": "6c63eb8382694fd5be7b0fd07144fdca",
       "version_major": 2,
       "version_minor": 0
      },
      "text/plain": [
       "HBox(children=(IntProgress(value=0, max=12), HTML(value='')))"
      ]
     },
     "metadata": {},
     "output_type": "display_data"
    },
    {
     "name": "stdout",
     "output_type": "stream",
     "text": [
      "\n"
     ]
    },
    {
     "data": {
      "application/vnd.jupyter.widget-view+json": {
       "model_id": "2c5e311598794603876685e99763976e",
       "version_major": 2,
       "version_minor": 0
      },
      "text/plain": [
       "HBox(children=(IntProgress(value=0, max=12), HTML(value='')))"
      ]
     },
     "metadata": {},
     "output_type": "display_data"
    },
    {
     "name": "stdout",
     "output_type": "stream",
     "text": [
      "\n"
     ]
    },
    {
     "data": {
      "application/vnd.jupyter.widget-view+json": {
       "model_id": "b5516d89dab44f78963c68c3e1af4d6a",
       "version_major": 2,
       "version_minor": 0
      },
      "text/plain": [
       "HBox(children=(IntProgress(value=0, max=10), HTML(value='')))"
      ]
     },
     "metadata": {},
     "output_type": "display_data"
    },
    {
     "name": "stdout",
     "output_type": "stream",
     "text": [
      "\n"
     ]
    },
    {
     "data": {
      "application/vnd.jupyter.widget-view+json": {
       "model_id": "fa7607c532d74940a85406f2305b75b8",
       "version_major": 2,
       "version_minor": 0
      },
      "text/plain": [
       "HBox(children=(IntProgress(value=0, max=11), HTML(value='')))"
      ]
     },
     "metadata": {},
     "output_type": "display_data"
    },
    {
     "name": "stdout",
     "output_type": "stream",
     "text": [
      "\n"
     ]
    },
    {
     "data": {
      "application/vnd.jupyter.widget-view+json": {
       "model_id": "617a03f928f943849021e1ecb1f19c4c",
       "version_major": 2,
       "version_minor": 0
      },
      "text/plain": [
       "HBox(children=(IntProgress(value=0, max=9), HTML(value='')))"
      ]
     },
     "metadata": {},
     "output_type": "display_data"
    },
    {
     "name": "stdout",
     "output_type": "stream",
     "text": [
      "\n"
     ]
    },
    {
     "data": {
      "application/vnd.jupyter.widget-view+json": {
       "model_id": "7ee199b39b634545ad4b5f92d96f19e1",
       "version_major": 2,
       "version_minor": 0
      },
      "text/plain": [
       "HBox(children=(IntProgress(value=0, max=1), HTML(value='')))"
      ]
     },
     "metadata": {},
     "output_type": "display_data"
    },
    {
     "name": "stdout",
     "output_type": "stream",
     "text": [
      "\n"
     ]
    },
    {
     "data": {
      "application/vnd.jupyter.widget-view+json": {
       "model_id": "00db8550f65047458ecc66fc0dd8f033",
       "version_major": 2,
       "version_minor": 0
      },
      "text/plain": [
       "HBox(children=(IntProgress(value=0, max=1), HTML(value='')))"
      ]
     },
     "metadata": {},
     "output_type": "display_data"
    },
    {
     "name": "stdout",
     "output_type": "stream",
     "text": [
      "\n"
     ]
    },
    {
     "data": {
      "application/vnd.jupyter.widget-view+json": {
       "model_id": "96312bfe3553416798880927c8a52804",
       "version_major": 2,
       "version_minor": 0
      },
      "text/plain": [
       "HBox(children=(IntProgress(value=0, max=10), HTML(value='')))"
      ]
     },
     "metadata": {},
     "output_type": "display_data"
    },
    {
     "name": "stdout",
     "output_type": "stream",
     "text": [
      "\n"
     ]
    },
    {
     "data": {
      "application/vnd.jupyter.widget-view+json": {
       "model_id": "d88c8e621d434f0a9c3c3089a986a05b",
       "version_major": 2,
       "version_minor": 0
      },
      "text/plain": [
       "HBox(children=(IntProgress(value=0, max=12), HTML(value='')))"
      ]
     },
     "metadata": {},
     "output_type": "display_data"
    },
    {
     "name": "stdout",
     "output_type": "stream",
     "text": [
      "\n"
     ]
    },
    {
     "data": {
      "application/vnd.jupyter.widget-view+json": {
       "model_id": "a958b9ca94f6491c970c7b9dd399e379",
       "version_major": 2,
       "version_minor": 0
      },
      "text/plain": [
       "HBox(children=(IntProgress(value=0, max=11), HTML(value='')))"
      ]
     },
     "metadata": {},
     "output_type": "display_data"
    },
    {
     "name": "stdout",
     "output_type": "stream",
     "text": [
      "\n"
     ]
    },
    {
     "data": {
      "application/vnd.jupyter.widget-view+json": {
       "model_id": "dc3c416191154f39a161b738b7ca3773",
       "version_major": 2,
       "version_minor": 0
      },
      "text/plain": [
       "HBox(children=(IntProgress(value=0, max=10), HTML(value='')))"
      ]
     },
     "metadata": {},
     "output_type": "display_data"
    },
    {
     "name": "stdout",
     "output_type": "stream",
     "text": [
      "\n"
     ]
    },
    {
     "data": {
      "application/vnd.jupyter.widget-view+json": {
       "model_id": "d05da6fe7152476389c99c8d6a78429c",
       "version_major": 2,
       "version_minor": 0
      },
      "text/plain": [
       "HBox(children=(IntProgress(value=0, max=14), HTML(value='')))"
      ]
     },
     "metadata": {},
     "output_type": "display_data"
    },
    {
     "name": "stdout",
     "output_type": "stream",
     "text": [
      "\n"
     ]
    },
    {
     "data": {
      "application/vnd.jupyter.widget-view+json": {
       "model_id": "e58985442b8c4ff7a3a5423d08779673",
       "version_major": 2,
       "version_minor": 0
      },
      "text/plain": [
       "HBox(children=(IntProgress(value=0, max=14), HTML(value='')))"
      ]
     },
     "metadata": {},
     "output_type": "display_data"
    },
    {
     "name": "stdout",
     "output_type": "stream",
     "text": [
      "\n"
     ]
    },
    {
     "data": {
      "application/vnd.jupyter.widget-view+json": {
       "model_id": "1840800209bf4aa7a0b2879c62546ccd",
       "version_major": 2,
       "version_minor": 0
      },
      "text/plain": [
       "HBox(children=(IntProgress(value=0, max=14), HTML(value='')))"
      ]
     },
     "metadata": {},
     "output_type": "display_data"
    },
    {
     "name": "stdout",
     "output_type": "stream",
     "text": [
      "\n"
     ]
    },
    {
     "data": {
      "application/vnd.jupyter.widget-view+json": {
       "model_id": "3cc4b88cc58d4fdf9ae9f52ba3f40a73",
       "version_major": 2,
       "version_minor": 0
      },
      "text/plain": [
       "HBox(children=(IntProgress(value=0, max=12), HTML(value='')))"
      ]
     },
     "metadata": {},
     "output_type": "display_data"
    },
    {
     "name": "stdout",
     "output_type": "stream",
     "text": [
      "\n"
     ]
    },
    {
     "data": {
      "application/vnd.jupyter.widget-view+json": {
       "model_id": "0dc32bb9c2ec470bb04bb2a3593643ff",
       "version_major": 2,
       "version_minor": 0
      },
      "text/plain": [
       "HBox(children=(IntProgress(value=0, max=13), HTML(value='')))"
      ]
     },
     "metadata": {},
     "output_type": "display_data"
    },
    {
     "name": "stdout",
     "output_type": "stream",
     "text": [
      "\n"
     ]
    },
    {
     "data": {
      "application/vnd.jupyter.widget-view+json": {
       "model_id": "0dbcb360e7f04a7093fcc2d0436f5a29",
       "version_major": 2,
       "version_minor": 0
      },
      "text/plain": [
       "HBox(children=(IntProgress(value=0, max=14), HTML(value='')))"
      ]
     },
     "metadata": {},
     "output_type": "display_data"
    },
    {
     "name": "stdout",
     "output_type": "stream",
     "text": [
      "\n"
     ]
    },
    {
     "data": {
      "application/vnd.jupyter.widget-view+json": {
       "model_id": "0aa59b65f70c4db18f5dae5cf666a6b5",
       "version_major": 2,
       "version_minor": 0
      },
      "text/plain": [
       "HBox(children=(IntProgress(value=0, max=13), HTML(value='')))"
      ]
     },
     "metadata": {},
     "output_type": "display_data"
    },
    {
     "name": "stdout",
     "output_type": "stream",
     "text": [
      "\n"
     ]
    },
    {
     "data": {
      "application/vnd.jupyter.widget-view+json": {
       "model_id": "e87c92adfb4749a5a401c50f93e9063f",
       "version_major": 2,
       "version_minor": 0
      },
      "text/plain": [
       "HBox(children=(IntProgress(value=0, max=14), HTML(value='')))"
      ]
     },
     "metadata": {},
     "output_type": "display_data"
    },
    {
     "name": "stdout",
     "output_type": "stream",
     "text": [
      "\n"
     ]
    },
    {
     "data": {
      "application/vnd.jupyter.widget-view+json": {
       "model_id": "3e29587f32704671a012cec3a0f9231f",
       "version_major": 2,
       "version_minor": 0
      },
      "text/plain": [
       "HBox(children=(IntProgress(value=0, max=1), HTML(value='')))"
      ]
     },
     "metadata": {},
     "output_type": "display_data"
    },
    {
     "name": "stdout",
     "output_type": "stream",
     "text": [
      "\n"
     ]
    },
    {
     "data": {
      "application/vnd.jupyter.widget-view+json": {
       "model_id": "f410d9c1014f4b6ea00f665ddcc1b247",
       "version_major": 2,
       "version_minor": 0
      },
      "text/plain": [
       "HBox(children=(IntProgress(value=0, max=1), HTML(value='')))"
      ]
     },
     "metadata": {},
     "output_type": "display_data"
    },
    {
     "name": "stdout",
     "output_type": "stream",
     "text": [
      "\n"
     ]
    },
    {
     "data": {
      "application/vnd.jupyter.widget-view+json": {
       "model_id": "272a5e81aade4e1397387eae4e15c55c",
       "version_major": 2,
       "version_minor": 0
      },
      "text/plain": [
       "HBox(children=(IntProgress(value=0, max=13), HTML(value='')))"
      ]
     },
     "metadata": {},
     "output_type": "display_data"
    },
    {
     "name": "stdout",
     "output_type": "stream",
     "text": [
      "\n"
     ]
    },
    {
     "data": {
      "application/vnd.jupyter.widget-view+json": {
       "model_id": "60af3bbafeb64286a6aec35804909360",
       "version_major": 2,
       "version_minor": 0
      },
      "text/plain": [
       "HBox(children=(IntProgress(value=0, max=14), HTML(value='')))"
      ]
     },
     "metadata": {},
     "output_type": "display_data"
    },
    {
     "name": "stdout",
     "output_type": "stream",
     "text": [
      "\n"
     ]
    },
    {
     "data": {
      "application/vnd.jupyter.widget-view+json": {
       "model_id": "0485a2570fa14e73ae40844157b020a2",
       "version_major": 2,
       "version_minor": 0
      },
      "text/plain": [
       "HBox(children=(IntProgress(value=0, max=15), HTML(value='')))"
      ]
     },
     "metadata": {},
     "output_type": "display_data"
    },
    {
     "name": "stdout",
     "output_type": "stream",
     "text": [
      "\n"
     ]
    },
    {
     "data": {
      "application/vnd.jupyter.widget-view+json": {
       "model_id": "b9ea632f2c4c45bab28d9a26276a7c5d",
       "version_major": 2,
       "version_minor": 0
      },
      "text/plain": [
       "HBox(children=(IntProgress(value=0, max=13), HTML(value='')))"
      ]
     },
     "metadata": {},
     "output_type": "display_data"
    },
    {
     "name": "stdout",
     "output_type": "stream",
     "text": [
      "\n"
     ]
    },
    {
     "data": {
      "application/vnd.jupyter.widget-view+json": {
       "model_id": "794592e19904451ea9554d6372f404e9",
       "version_major": 2,
       "version_minor": 0
      },
      "text/plain": [
       "HBox(children=(IntProgress(value=0, max=10), HTML(value='')))"
      ]
     },
     "metadata": {},
     "output_type": "display_data"
    },
    {
     "name": "stdout",
     "output_type": "stream",
     "text": [
      "\n"
     ]
    },
    {
     "data": {
      "application/vnd.jupyter.widget-view+json": {
       "model_id": "2684584c9d654deda4fbab207336553f",
       "version_major": 2,
       "version_minor": 0
      },
      "text/plain": [
       "HBox(children=(IntProgress(value=0, max=10), HTML(value='')))"
      ]
     },
     "metadata": {},
     "output_type": "display_data"
    },
    {
     "name": "stdout",
     "output_type": "stream",
     "text": [
      "\n"
     ]
    },
    {
     "data": {
      "application/vnd.jupyter.widget-view+json": {
       "model_id": "4c8e006bbb644b8699b24ce76e36e711",
       "version_major": 2,
       "version_minor": 0
      },
      "text/plain": [
       "HBox(children=(IntProgress(value=0, max=10), HTML(value='')))"
      ]
     },
     "metadata": {},
     "output_type": "display_data"
    },
    {
     "name": "stdout",
     "output_type": "stream",
     "text": [
      "\n"
     ]
    },
    {
     "data": {
      "application/vnd.jupyter.widget-view+json": {
       "model_id": "2cb4406e2887469daa8540defc9bd93a",
       "version_major": 2,
       "version_minor": 0
      },
      "text/plain": [
       "HBox(children=(IntProgress(value=0, max=13), HTML(value='')))"
      ]
     },
     "metadata": {},
     "output_type": "display_data"
    },
    {
     "name": "stdout",
     "output_type": "stream",
     "text": [
      "\n"
     ]
    },
    {
     "data": {
      "application/vnd.jupyter.widget-view+json": {
       "model_id": "a5f27aef9aa24f2b9c74a653a150a33e",
       "version_major": 2,
       "version_minor": 0
      },
      "text/plain": [
       "HBox(children=(IntProgress(value=0, max=12), HTML(value='')))"
      ]
     },
     "metadata": {},
     "output_type": "display_data"
    },
    {
     "name": "stdout",
     "output_type": "stream",
     "text": [
      "\n"
     ]
    },
    {
     "data": {
      "application/vnd.jupyter.widget-view+json": {
       "model_id": "30eb2cab76224aefb77f79a0b3f2c7a4",
       "version_major": 2,
       "version_minor": 0
      },
      "text/plain": [
       "HBox(children=(IntProgress(value=0, max=12), HTML(value='')))"
      ]
     },
     "metadata": {},
     "output_type": "display_data"
    },
    {
     "name": "stdout",
     "output_type": "stream",
     "text": [
      "\n"
     ]
    },
    {
     "data": {
      "application/vnd.jupyter.widget-view+json": {
       "model_id": "32f1f2cd744c40c5a04f1c4138f7a2aa",
       "version_major": 2,
       "version_minor": 0
      },
      "text/plain": [
       "HBox(children=(IntProgress(value=0, max=13), HTML(value='')))"
      ]
     },
     "metadata": {},
     "output_type": "display_data"
    },
    {
     "name": "stdout",
     "output_type": "stream",
     "text": [
      "\n"
     ]
    },
    {
     "data": {
      "application/vnd.jupyter.widget-view+json": {
       "model_id": "caf0c46e5acd4e28b4c848f6bd70bcb2",
       "version_major": 2,
       "version_minor": 0
      },
      "text/plain": [
       "HBox(children=(IntProgress(value=0, max=12), HTML(value='')))"
      ]
     },
     "metadata": {},
     "output_type": "display_data"
    },
    {
     "name": "stdout",
     "output_type": "stream",
     "text": [
      "\n"
     ]
    },
    {
     "data": {
      "application/vnd.jupyter.widget-view+json": {
       "model_id": "3e48ea36eb8b44c4a27b7a00a08fb0d3",
       "version_major": 2,
       "version_minor": 0
      },
      "text/plain": [
       "HBox(children=(IntProgress(value=0, max=12), HTML(value='')))"
      ]
     },
     "metadata": {},
     "output_type": "display_data"
    },
    {
     "name": "stdout",
     "output_type": "stream",
     "text": [
      "\n"
     ]
    },
    {
     "data": {
      "application/vnd.jupyter.widget-view+json": {
       "model_id": "8354f30417224c9184e412f7d98544e5",
       "version_major": 2,
       "version_minor": 0
      },
      "text/plain": [
       "HBox(children=(IntProgress(value=0, max=12), HTML(value='')))"
      ]
     },
     "metadata": {},
     "output_type": "display_data"
    },
    {
     "name": "stdout",
     "output_type": "stream",
     "text": [
      "\n"
     ]
    },
    {
     "data": {
      "application/vnd.jupyter.widget-view+json": {
       "model_id": "6dd0a3202c7c455b8f8f8544ec294110",
       "version_major": 2,
       "version_minor": 0
      },
      "text/plain": [
       "HBox(children=(IntProgress(value=0, max=11), HTML(value='')))"
      ]
     },
     "metadata": {},
     "output_type": "display_data"
    },
    {
     "name": "stdout",
     "output_type": "stream",
     "text": [
      "\n"
     ]
    },
    {
     "data": {
      "application/vnd.jupyter.widget-view+json": {
       "model_id": "b78b5237663d4a0a9f5e7b923cf334aa",
       "version_major": 2,
       "version_minor": 0
      },
      "text/plain": [
       "HBox(children=(IntProgress(value=0, max=13), HTML(value='')))"
      ]
     },
     "metadata": {},
     "output_type": "display_data"
    },
    {
     "name": "stdout",
     "output_type": "stream",
     "text": [
      "\n"
     ]
    },
    {
     "data": {
      "application/vnd.jupyter.widget-view+json": {
       "model_id": "9635aac0c322495ea620072bb18b99da",
       "version_major": 2,
       "version_minor": 0
      },
      "text/plain": [
       "HBox(children=(IntProgress(value=0, max=14), HTML(value='')))"
      ]
     },
     "metadata": {},
     "output_type": "display_data"
    },
    {
     "name": "stdout",
     "output_type": "stream",
     "text": [
      "\n"
     ]
    },
    {
     "data": {
      "application/vnd.jupyter.widget-view+json": {
       "model_id": "04ed42d7e70545dfb290788388c4f2ed",
       "version_major": 2,
       "version_minor": 0
      },
      "text/plain": [
       "HBox(children=(IntProgress(value=0, max=13), HTML(value='')))"
      ]
     },
     "metadata": {},
     "output_type": "display_data"
    },
    {
     "name": "stdout",
     "output_type": "stream",
     "text": [
      "\n"
     ]
    },
    {
     "data": {
      "application/vnd.jupyter.widget-view+json": {
       "model_id": "a239c66b97c648d1a2b1006d99a21334",
       "version_major": 2,
       "version_minor": 0
      },
      "text/plain": [
       "HBox(children=(IntProgress(value=0, max=12), HTML(value='')))"
      ]
     },
     "metadata": {},
     "output_type": "display_data"
    },
    {
     "name": "stdout",
     "output_type": "stream",
     "text": [
      "\n"
     ]
    },
    {
     "data": {
      "application/vnd.jupyter.widget-view+json": {
       "model_id": "de0c98ead5b04b6d9e24c2f3959362cf",
       "version_major": 2,
       "version_minor": 0
      },
      "text/plain": [
       "HBox(children=(IntProgress(value=0, max=5), HTML(value='')))"
      ]
     },
     "metadata": {},
     "output_type": "display_data"
    },
    {
     "name": "stdout",
     "output_type": "stream",
     "text": [
      "\n"
     ]
    },
    {
     "data": {
      "application/vnd.jupyter.widget-view+json": {
       "model_id": "1a804ccb4979448aaf4d414830c0c18a",
       "version_major": 2,
       "version_minor": 0
      },
      "text/plain": [
       "HBox(children=(IntProgress(value=0, max=4), HTML(value='')))"
      ]
     },
     "metadata": {},
     "output_type": "display_data"
    },
    {
     "name": "stdout",
     "output_type": "stream",
     "text": [
      "\n"
     ]
    },
    {
     "data": {
      "application/vnd.jupyter.widget-view+json": {
       "model_id": "783ae45ef50846278136e401e1507dad",
       "version_major": 2,
       "version_minor": 0
      },
      "text/plain": [
       "HBox(children=(IntProgress(value=0, max=11), HTML(value='')))"
      ]
     },
     "metadata": {},
     "output_type": "display_data"
    },
    {
     "name": "stdout",
     "output_type": "stream",
     "text": [
      "\n"
     ]
    },
    {
     "data": {
      "application/vnd.jupyter.widget-view+json": {
       "model_id": "940210041b6a420c85ed561d0a90a585",
       "version_major": 2,
       "version_minor": 0
      },
      "text/plain": [
       "HBox(children=(IntProgress(value=0, max=14), HTML(value='')))"
      ]
     },
     "metadata": {},
     "output_type": "display_data"
    },
    {
     "name": "stdout",
     "output_type": "stream",
     "text": [
      "\n"
     ]
    },
    {
     "data": {
      "application/vnd.jupyter.widget-view+json": {
       "model_id": "019402265aa9467982df67b42ba3a019",
       "version_major": 2,
       "version_minor": 0
      },
      "text/plain": [
       "HBox(children=(IntProgress(value=0, max=15), HTML(value='')))"
      ]
     },
     "metadata": {},
     "output_type": "display_data"
    },
    {
     "name": "stdout",
     "output_type": "stream",
     "text": [
      "\n"
     ]
    },
    {
     "data": {
      "application/vnd.jupyter.widget-view+json": {
       "model_id": "9aa19d3ce6224ee08d92ab6e5048345a",
       "version_major": 2,
       "version_minor": 0
      },
      "text/plain": [
       "HBox(children=(IntProgress(value=0, max=12), HTML(value='')))"
      ]
     },
     "metadata": {},
     "output_type": "display_data"
    },
    {
     "name": "stdout",
     "output_type": "stream",
     "text": [
      "\n"
     ]
    },
    {
     "data": {
      "application/vnd.jupyter.widget-view+json": {
       "model_id": "a10567c794074786b07de8d8b2356494",
       "version_major": 2,
       "version_minor": 0
      },
      "text/plain": [
       "HBox(children=(IntProgress(value=0, max=13), HTML(value='')))"
      ]
     },
     "metadata": {},
     "output_type": "display_data"
    },
    {
     "name": "stdout",
     "output_type": "stream",
     "text": [
      "\n"
     ]
    },
    {
     "data": {
      "application/vnd.jupyter.widget-view+json": {
       "model_id": "07e34da8fb164dcdbf026a9f22b309ce",
       "version_major": 2,
       "version_minor": 0
      },
      "text/plain": [
       "HBox(children=(IntProgress(value=0, max=6), HTML(value='')))"
      ]
     },
     "metadata": {},
     "output_type": "display_data"
    },
    {
     "name": "stdout",
     "output_type": "stream",
     "text": [
      "\n"
     ]
    },
    {
     "data": {
      "application/vnd.jupyter.widget-view+json": {
       "model_id": "c1767af8e44b414a87e94fda3f6ba5b8",
       "version_major": 2,
       "version_minor": 0
      },
      "text/plain": [
       "HBox(children=(IntProgress(value=0, max=3), HTML(value='')))"
      ]
     },
     "metadata": {},
     "output_type": "display_data"
    },
    {
     "name": "stdout",
     "output_type": "stream",
     "text": [
      "\n"
     ]
    },
    {
     "data": {
      "application/vnd.jupyter.widget-view+json": {
       "model_id": "f7a5d2250d7944b68ad47e0ecf1bcbe9",
       "version_major": 2,
       "version_minor": 0
      },
      "text/plain": [
       "HBox(children=(IntProgress(value=0, max=13), HTML(value='')))"
      ]
     },
     "metadata": {},
     "output_type": "display_data"
    },
    {
     "name": "stdout",
     "output_type": "stream",
     "text": [
      "\n"
     ]
    },
    {
     "data": {
      "application/vnd.jupyter.widget-view+json": {
       "model_id": "23468441e80b45c0a406336cff4f9df0",
       "version_major": 2,
       "version_minor": 0
      },
      "text/plain": [
       "HBox(children=(IntProgress(value=0, max=12), HTML(value='')))"
      ]
     },
     "metadata": {},
     "output_type": "display_data"
    },
    {
     "name": "stdout",
     "output_type": "stream",
     "text": [
      "\n"
     ]
    },
    {
     "data": {
      "application/vnd.jupyter.widget-view+json": {
       "model_id": "8ed0f163ad004a039f00e5ccb4c00470",
       "version_major": 2,
       "version_minor": 0
      },
      "text/plain": [
       "HBox(children=(IntProgress(value=0, max=5), HTML(value='')))"
      ]
     },
     "metadata": {},
     "output_type": "display_data"
    },
    {
     "name": "stdout",
     "output_type": "stream",
     "text": [
      "\n"
     ]
    },
    {
     "data": {
      "application/vnd.jupyter.widget-view+json": {
       "model_id": "e11a4510f7874c3cb31b6ea3a0043199",
       "version_major": 2,
       "version_minor": 0
      },
      "text/plain": [
       "HBox(children=(IntProgress(value=0, max=5), HTML(value='')))"
      ]
     },
     "metadata": {},
     "output_type": "display_data"
    },
    {
     "name": "stdout",
     "output_type": "stream",
     "text": [
      "\n"
     ]
    },
    {
     "data": {
      "application/vnd.jupyter.widget-view+json": {
       "model_id": "29a24509d00a4166a42f10ff54f7194f",
       "version_major": 2,
       "version_minor": 0
      },
      "text/plain": [
       "HBox(children=(IntProgress(value=0, max=4), HTML(value='')))"
      ]
     },
     "metadata": {},
     "output_type": "display_data"
    },
    {
     "name": "stdout",
     "output_type": "stream",
     "text": [
      "\n"
     ]
    },
    {
     "data": {
      "application/vnd.jupyter.widget-view+json": {
       "model_id": "40d80516b74447f5bb551899b87d0c3d",
       "version_major": 2,
       "version_minor": 0
      },
      "text/plain": [
       "HBox(children=(IntProgress(value=0, max=4), HTML(value='')))"
      ]
     },
     "metadata": {},
     "output_type": "display_data"
    },
    {
     "name": "stdout",
     "output_type": "stream",
     "text": [
      "\n"
     ]
    },
    {
     "data": {
      "application/vnd.jupyter.widget-view+json": {
       "model_id": "92f57b3bc4c54c5c8ace328a3d044995",
       "version_major": 2,
       "version_minor": 0
      },
      "text/plain": [
       "HBox(children=(IntProgress(value=0, max=4), HTML(value='')))"
      ]
     },
     "metadata": {},
     "output_type": "display_data"
    },
    {
     "name": "stdout",
     "output_type": "stream",
     "text": [
      "\n"
     ]
    },
    {
     "data": {
      "application/vnd.jupyter.widget-view+json": {
       "model_id": "f12438dba5644b45abd7c35fe4b86914",
       "version_major": 2,
       "version_minor": 0
      },
      "text/plain": [
       "HBox(children=(IntProgress(value=0, max=11), HTML(value='')))"
      ]
     },
     "metadata": {},
     "output_type": "display_data"
    },
    {
     "name": "stdout",
     "output_type": "stream",
     "text": [
      "\n"
     ]
    },
    {
     "data": {
      "application/vnd.jupyter.widget-view+json": {
       "model_id": "68162c13ae01431586f7db2684c9a764",
       "version_major": 2,
       "version_minor": 0
      },
      "text/plain": [
       "HBox(children=(IntProgress(value=0, max=10), HTML(value='')))"
      ]
     },
     "metadata": {},
     "output_type": "display_data"
    },
    {
     "name": "stdout",
     "output_type": "stream",
     "text": [
      "\n"
     ]
    },
    {
     "data": {
      "application/vnd.jupyter.widget-view+json": {
       "model_id": "b4dad6ca604c47c1a6d691f526364772",
       "version_major": 2,
       "version_minor": 0
      },
      "text/plain": [
       "HBox(children=(IntProgress(value=0, max=12), HTML(value='')))"
      ]
     },
     "metadata": {},
     "output_type": "display_data"
    },
    {
     "name": "stdout",
     "output_type": "stream",
     "text": [
      "\n"
     ]
    },
    {
     "data": {
      "application/vnd.jupyter.widget-view+json": {
       "model_id": "48fc8ca2680f4c1dad81e967fdf96557",
       "version_major": 2,
       "version_minor": 0
      },
      "text/plain": [
       "HBox(children=(IntProgress(value=0, max=5), HTML(value='')))"
      ]
     },
     "metadata": {},
     "output_type": "display_data"
    },
    {
     "name": "stdout",
     "output_type": "stream",
     "text": [
      "\n"
     ]
    },
    {
     "data": {
      "application/vnd.jupyter.widget-view+json": {
       "model_id": "03d3655ff7624c8c82e3abb2d4960adc",
       "version_major": 2,
       "version_minor": 0
      },
      "text/plain": [
       "HBox(children=(IntProgress(value=0, max=3), HTML(value='')))"
      ]
     },
     "metadata": {},
     "output_type": "display_data"
    },
    {
     "name": "stdout",
     "output_type": "stream",
     "text": [
      "\n"
     ]
    },
    {
     "data": {
      "application/vnd.jupyter.widget-view+json": {
       "model_id": "1bcbf8821a2845ea9a8111095cb78427",
       "version_major": 2,
       "version_minor": 0
      },
      "text/plain": [
       "HBox(children=(IntProgress(value=0, max=3), HTML(value='')))"
      ]
     },
     "metadata": {},
     "output_type": "display_data"
    },
    {
     "name": "stdout",
     "output_type": "stream",
     "text": [
      "\n"
     ]
    },
    {
     "data": {
      "application/vnd.jupyter.widget-view+json": {
       "model_id": "fba9ef18df384187804f905c565ad139",
       "version_major": 2,
       "version_minor": 0
      },
      "text/plain": [
       "HBox(children=(IntProgress(value=0, max=2), HTML(value='')))"
      ]
     },
     "metadata": {},
     "output_type": "display_data"
    },
    {
     "name": "stdout",
     "output_type": "stream",
     "text": [
      "\n"
     ]
    },
    {
     "data": {
      "application/vnd.jupyter.widget-view+json": {
       "model_id": "8fef7c032edb4cdca0b8740ffebe08d1",
       "version_major": 2,
       "version_minor": 0
      },
      "text/plain": [
       "HBox(children=(IntProgress(value=0, max=13), HTML(value='')))"
      ]
     },
     "metadata": {},
     "output_type": "display_data"
    },
    {
     "name": "stdout",
     "output_type": "stream",
     "text": [
      "\n"
     ]
    },
    {
     "data": {
      "application/vnd.jupyter.widget-view+json": {
       "model_id": "0796b8c8db184d10928e4ee1c59b0736",
       "version_major": 2,
       "version_minor": 0
      },
      "text/plain": [
       "HBox(children=(IntProgress(value=0, max=13), HTML(value='')))"
      ]
     },
     "metadata": {},
     "output_type": "display_data"
    },
    {
     "name": "stdout",
     "output_type": "stream",
     "text": [
      "\n"
     ]
    },
    {
     "data": {
      "application/vnd.jupyter.widget-view+json": {
       "model_id": "275d0be8b190473cb9dd8689c30df172",
       "version_major": 2,
       "version_minor": 0
      },
      "text/plain": [
       "HBox(children=(IntProgress(value=0, max=11), HTML(value='')))"
      ]
     },
     "metadata": {},
     "output_type": "display_data"
    },
    {
     "name": "stdout",
     "output_type": "stream",
     "text": [
      "\n"
     ]
    },
    {
     "data": {
      "application/vnd.jupyter.widget-view+json": {
       "model_id": "5450525aba164ed48ee6b4069138f07d",
       "version_major": 2,
       "version_minor": 0
      },
      "text/plain": [
       "HBox(children=(IntProgress(value=0, max=11), HTML(value='')))"
      ]
     },
     "metadata": {},
     "output_type": "display_data"
    },
    {
     "name": "stdout",
     "output_type": "stream",
     "text": [
      "\n"
     ]
    },
    {
     "data": {
      "application/vnd.jupyter.widget-view+json": {
       "model_id": "bc9a4b1e1a7a43e08abb15f1d205d4fc",
       "version_major": 2,
       "version_minor": 0
      },
      "text/plain": [
       "HBox(children=(IntProgress(value=0, max=9), HTML(value='')))"
      ]
     },
     "metadata": {},
     "output_type": "display_data"
    },
    {
     "name": "stdout",
     "output_type": "stream",
     "text": [
      "\n"
     ]
    },
    {
     "data": {
      "application/vnd.jupyter.widget-view+json": {
       "model_id": "8cf0b2bef0bb4f5bac5442e254097d42",
       "version_major": 2,
       "version_minor": 0
      },
      "text/plain": [
       "HBox(children=(IntProgress(value=0, max=5), HTML(value='')))"
      ]
     },
     "metadata": {},
     "output_type": "display_data"
    },
    {
     "name": "stdout",
     "output_type": "stream",
     "text": [
      "\n"
     ]
    },
    {
     "data": {
      "application/vnd.jupyter.widget-view+json": {
       "model_id": "7ab75ad96d6c46a5849719af09d969c9",
       "version_major": 2,
       "version_minor": 0
      },
      "text/plain": [
       "HBox(children=(IntProgress(value=0, max=1), HTML(value='')))"
      ]
     },
     "metadata": {},
     "output_type": "display_data"
    },
    {
     "name": "stdout",
     "output_type": "stream",
     "text": [
      "\n"
     ]
    },
    {
     "data": {
      "application/vnd.jupyter.widget-view+json": {
       "model_id": "ba4af4dbae2642f6b46d935ace602f41",
       "version_major": 2,
       "version_minor": 0
      },
      "text/plain": [
       "HBox(children=(IntProgress(value=0, max=13), HTML(value='')))"
      ]
     },
     "metadata": {},
     "output_type": "display_data"
    },
    {
     "name": "stdout",
     "output_type": "stream",
     "text": [
      "\n"
     ]
    },
    {
     "data": {
      "application/vnd.jupyter.widget-view+json": {
       "model_id": "c888f91934744971b71de3422a2bf63a",
       "version_major": 2,
       "version_minor": 0
      },
      "text/plain": [
       "HBox(children=(IntProgress(value=0, max=9), HTML(value='')))"
      ]
     },
     "metadata": {},
     "output_type": "display_data"
    },
    {
     "name": "stdout",
     "output_type": "stream",
     "text": [
      "\n"
     ]
    },
    {
     "data": {
      "application/vnd.jupyter.widget-view+json": {
       "model_id": "0ea6e9d5cc9f47dfa395f4d77e15475d",
       "version_major": 2,
       "version_minor": 0
      },
      "text/plain": [
       "HBox(children=(IntProgress(value=0, max=10), HTML(value='')))"
      ]
     },
     "metadata": {},
     "output_type": "display_data"
    },
    {
     "name": "stdout",
     "output_type": "stream",
     "text": [
      "\n"
     ]
    },
    {
     "data": {
      "application/vnd.jupyter.widget-view+json": {
       "model_id": "16211d81096e4bff98dfcd22a0693540",
       "version_major": 2,
       "version_minor": 0
      },
      "text/plain": [
       "HBox(children=(IntProgress(value=0, max=11), HTML(value='')))"
      ]
     },
     "metadata": {},
     "output_type": "display_data"
    },
    {
     "name": "stdout",
     "output_type": "stream",
     "text": [
      "\n"
     ]
    },
    {
     "data": {
      "application/vnd.jupyter.widget-view+json": {
       "model_id": "3ada3691c4484e1fa6b6ca6cb8c68f6b",
       "version_major": 2,
       "version_minor": 0
      },
      "text/plain": [
       "HBox(children=(IntProgress(value=0, max=12), HTML(value='')))"
      ]
     },
     "metadata": {},
     "output_type": "display_data"
    },
    {
     "name": "stdout",
     "output_type": "stream",
     "text": [
      "\n"
     ]
    },
    {
     "data": {
      "application/vnd.jupyter.widget-view+json": {
       "model_id": "0e1d15c016f04bc2ad928b2d6b14c403",
       "version_major": 2,
       "version_minor": 0
      },
      "text/plain": [
       "HBox(children=(IntProgress(value=0, max=4), HTML(value='')))"
      ]
     },
     "metadata": {},
     "output_type": "display_data"
    },
    {
     "name": "stdout",
     "output_type": "stream",
     "text": [
      "\n"
     ]
    },
    {
     "data": {
      "application/vnd.jupyter.widget-view+json": {
       "model_id": "4b51153a4191459aba9e250a44dbb68f",
       "version_major": 2,
       "version_minor": 0
      },
      "text/plain": [
       "HBox(children=(IntProgress(value=0, max=3), HTML(value='')))"
      ]
     },
     "metadata": {},
     "output_type": "display_data"
    },
    {
     "name": "stdout",
     "output_type": "stream",
     "text": [
      "\n"
     ]
    },
    {
     "data": {
      "application/vnd.jupyter.widget-view+json": {
       "model_id": "74d0f65b1b6a4e74a6d477d82a7d73bf",
       "version_major": 2,
       "version_minor": 0
      },
      "text/plain": [
       "HBox(children=(IntProgress(value=0, max=9), HTML(value='')))"
      ]
     },
     "metadata": {},
     "output_type": "display_data"
    },
    {
     "name": "stdout",
     "output_type": "stream",
     "text": [
      "\n"
     ]
    },
    {
     "data": {
      "application/vnd.jupyter.widget-view+json": {
       "model_id": "173b46d1a0cc4c22b743e47b7f245002",
       "version_major": 2,
       "version_minor": 0
      },
      "text/plain": [
       "HBox(children=(IntProgress(value=0, max=8), HTML(value='')))"
      ]
     },
     "metadata": {},
     "output_type": "display_data"
    },
    {
     "name": "stdout",
     "output_type": "stream",
     "text": [
      "\n"
     ]
    },
    {
     "data": {
      "application/vnd.jupyter.widget-view+json": {
       "model_id": "ae045ecfbd434115b0396a46b57b0691",
       "version_major": 2,
       "version_minor": 0
      },
      "text/plain": [
       "HBox(children=(IntProgress(value=0, max=9), HTML(value='')))"
      ]
     },
     "metadata": {},
     "output_type": "display_data"
    },
    {
     "name": "stdout",
     "output_type": "stream",
     "text": [
      "\n"
     ]
    },
    {
     "data": {
      "application/vnd.jupyter.widget-view+json": {
       "model_id": "1e4b6cfb5a614689a652b3126237e9e6",
       "version_major": 2,
       "version_minor": 0
      },
      "text/plain": [
       "HBox(children=(IntProgress(value=0, max=9), HTML(value='')))"
      ]
     },
     "metadata": {},
     "output_type": "display_data"
    },
    {
     "name": "stdout",
     "output_type": "stream",
     "text": [
      "\n"
     ]
    },
    {
     "data": {
      "application/vnd.jupyter.widget-view+json": {
       "model_id": "b04c3dd1717c4e6a808e725b238cfc15",
       "version_major": 2,
       "version_minor": 0
      },
      "text/plain": [
       "HBox(children=(IntProgress(value=0, max=10), HTML(value='')))"
      ]
     },
     "metadata": {},
     "output_type": "display_data"
    },
    {
     "name": "stdout",
     "output_type": "stream",
     "text": [
      "\n"
     ]
    },
    {
     "data": {
      "application/vnd.jupyter.widget-view+json": {
       "model_id": "f2cb1bf5e0e1473bb70ed0901e0c8512",
       "version_major": 2,
       "version_minor": 0
      },
      "text/plain": [
       "HBox(children=(IntProgress(value=0, max=8), HTML(value='')))"
      ]
     },
     "metadata": {},
     "output_type": "display_data"
    },
    {
     "name": "stdout",
     "output_type": "stream",
     "text": [
      "\n"
     ]
    },
    {
     "data": {
      "application/vnd.jupyter.widget-view+json": {
       "model_id": "0d352c6571364f59b1d44acfbdde046b",
       "version_major": 2,
       "version_minor": 0
      },
      "text/plain": [
       "HBox(children=(IntProgress(value=0, max=7), HTML(value='')))"
      ]
     },
     "metadata": {},
     "output_type": "display_data"
    },
    {
     "name": "stdout",
     "output_type": "stream",
     "text": [
      "\n"
     ]
    },
    {
     "data": {
      "application/vnd.jupyter.widget-view+json": {
       "model_id": "01e85d3c08694c2695cf8647e2b8369e",
       "version_major": 2,
       "version_minor": 0
      },
      "text/plain": [
       "HBox(children=(IntProgress(value=0, max=10), HTML(value='')))"
      ]
     },
     "metadata": {},
     "output_type": "display_data"
    },
    {
     "name": "stdout",
     "output_type": "stream",
     "text": [
      "\n"
     ]
    },
    {
     "data": {
      "application/vnd.jupyter.widget-view+json": {
       "model_id": "d1b4f1bb3a8845c0a351a8cd915efa47",
       "version_major": 2,
       "version_minor": 0
      },
      "text/plain": [
       "HBox(children=(IntProgress(value=0, max=10), HTML(value='')))"
      ]
     },
     "metadata": {},
     "output_type": "display_data"
    },
    {
     "name": "stdout",
     "output_type": "stream",
     "text": [
      "\n"
     ]
    },
    {
     "data": {
      "application/vnd.jupyter.widget-view+json": {
       "model_id": "bddc248781324ba79f75344d5508156e",
       "version_major": 2,
       "version_minor": 0
      },
      "text/plain": [
       "HBox(children=(IntProgress(value=0, max=11), HTML(value='')))"
      ]
     },
     "metadata": {},
     "output_type": "display_data"
    },
    {
     "name": "stdout",
     "output_type": "stream",
     "text": [
      "\n"
     ]
    },
    {
     "data": {
      "application/vnd.jupyter.widget-view+json": {
       "model_id": "a1ded4b488dd467483172ded19ae5631",
       "version_major": 2,
       "version_minor": 0
      },
      "text/plain": [
       "HBox(children=(IntProgress(value=0, max=9), HTML(value='')))"
      ]
     },
     "metadata": {},
     "output_type": "display_data"
    },
    {
     "name": "stdout",
     "output_type": "stream",
     "text": [
      "\n"
     ]
    },
    {
     "data": {
      "application/vnd.jupyter.widget-view+json": {
       "model_id": "131115478a1848d89a7f40f799e1985f",
       "version_major": 2,
       "version_minor": 0
      },
      "text/plain": [
       "HBox(children=(IntProgress(value=0, max=8), HTML(value='')))"
      ]
     },
     "metadata": {},
     "output_type": "display_data"
    },
    {
     "name": "stdout",
     "output_type": "stream",
     "text": [
      "\n"
     ]
    },
    {
     "data": {
      "application/vnd.jupyter.widget-view+json": {
       "model_id": "cb7961c229974fe48e179806fefe57be",
       "version_major": 2,
       "version_minor": 0
      },
      "text/plain": [
       "HBox(children=(IntProgress(value=0, max=7), HTML(value='')))"
      ]
     },
     "metadata": {},
     "output_type": "display_data"
    },
    {
     "name": "stdout",
     "output_type": "stream",
     "text": [
      "\n"
     ]
    },
    {
     "data": {
      "application/vnd.jupyter.widget-view+json": {
       "model_id": "7ed7bbeadd014f9aba03842bee5d84d2",
       "version_major": 2,
       "version_minor": 0
      },
      "text/plain": [
       "HBox(children=(IntProgress(value=0, max=6), HTML(value='')))"
      ]
     },
     "metadata": {},
     "output_type": "display_data"
    },
    {
     "name": "stdout",
     "output_type": "stream",
     "text": [
      "\n"
     ]
    },
    {
     "data": {
      "application/vnd.jupyter.widget-view+json": {
       "model_id": "d40f136132984a49aef31a863a356050",
       "version_major": 2,
       "version_minor": 0
      },
      "text/plain": [
       "HBox(children=(IntProgress(value=0, max=9), HTML(value='')))"
      ]
     },
     "metadata": {},
     "output_type": "display_data"
    },
    {
     "name": "stdout",
     "output_type": "stream",
     "text": [
      "\n"
     ]
    },
    {
     "data": {
      "application/vnd.jupyter.widget-view+json": {
       "model_id": "e13ab864b56d4fb3bf71e0a888fa2be2",
       "version_major": 2,
       "version_minor": 0
      },
      "text/plain": [
       "HBox(children=(IntProgress(value=0, max=12), HTML(value='')))"
      ]
     },
     "metadata": {},
     "output_type": "display_data"
    },
    {
     "name": "stdout",
     "output_type": "stream",
     "text": [
      "\n"
     ]
    },
    {
     "data": {
      "application/vnd.jupyter.widget-view+json": {
       "model_id": "b866c32493be4479b8a36b85624b6d3b",
       "version_major": 2,
       "version_minor": 0
      },
      "text/plain": [
       "HBox(children=(IntProgress(value=0, max=6), HTML(value='')))"
      ]
     },
     "metadata": {},
     "output_type": "display_data"
    },
    {
     "name": "stdout",
     "output_type": "stream",
     "text": [
      "\n"
     ]
    },
    {
     "data": {
      "application/vnd.jupyter.widget-view+json": {
       "model_id": "71fa998700e9429f9fb229cceff4c9a2",
       "version_major": 2,
       "version_minor": 0
      },
      "text/plain": [
       "HBox(children=(IntProgress(value=0, max=11), HTML(value='')))"
      ]
     },
     "metadata": {},
     "output_type": "display_data"
    },
    {
     "name": "stdout",
     "output_type": "stream",
     "text": [
      "\n"
     ]
    },
    {
     "data": {
      "application/vnd.jupyter.widget-view+json": {
       "model_id": "fbe486afbc0142fb85c8678e70a3ba01",
       "version_major": 2,
       "version_minor": 0
      },
      "text/plain": [
       "HBox(children=(IntProgress(value=0, max=12), HTML(value='')))"
      ]
     },
     "metadata": {},
     "output_type": "display_data"
    },
    {
     "name": "stdout",
     "output_type": "stream",
     "text": [
      "\n"
     ]
    },
    {
     "data": {
      "application/vnd.jupyter.widget-view+json": {
       "model_id": "eaa4bf2546b94cfeaca6dc54c9593025",
       "version_major": 2,
       "version_minor": 0
      },
      "text/plain": [
       "HBox(children=(IntProgress(value=0, max=9), HTML(value='')))"
      ]
     },
     "metadata": {},
     "output_type": "display_data"
    },
    {
     "name": "stdout",
     "output_type": "stream",
     "text": [
      "\n"
     ]
    },
    {
     "data": {
      "application/vnd.jupyter.widget-view+json": {
       "model_id": "28b4c9e4ebec44e7b0e832861699a583",
       "version_major": 2,
       "version_minor": 0
      },
      "text/plain": [
       "HBox(children=(IntProgress(value=0, max=6), HTML(value='')))"
      ]
     },
     "metadata": {},
     "output_type": "display_data"
    },
    {
     "name": "stdout",
     "output_type": "stream",
     "text": [
      "\n"
     ]
    },
    {
     "data": {
      "application/vnd.jupyter.widget-view+json": {
       "model_id": "08e835d05d1a43958ed39bfd598115d4",
       "version_major": 2,
       "version_minor": 0
      },
      "text/plain": [
       "HBox(children=(IntProgress(value=0, max=16), HTML(value='')))"
      ]
     },
     "metadata": {},
     "output_type": "display_data"
    },
    {
     "name": "stdout",
     "output_type": "stream",
     "text": [
      "\n"
     ]
    },
    {
     "data": {
      "application/vnd.jupyter.widget-view+json": {
       "model_id": "1ad7b0fe3de94787bc8444aadbbbc792",
       "version_major": 2,
       "version_minor": 0
      },
      "text/plain": [
       "HBox(children=(IntProgress(value=0, max=14), HTML(value='')))"
      ]
     },
     "metadata": {},
     "output_type": "display_data"
    },
    {
     "name": "stdout",
     "output_type": "stream",
     "text": [
      "\n"
     ]
    },
    {
     "data": {
      "application/vnd.jupyter.widget-view+json": {
       "model_id": "95d4ef0f154542aca544359afa3bf20a",
       "version_major": 2,
       "version_minor": 0
      },
      "text/plain": [
       "HBox(children=(IntProgress(value=0, max=10), HTML(value='')))"
      ]
     },
     "metadata": {},
     "output_type": "display_data"
    },
    {
     "name": "stdout",
     "output_type": "stream",
     "text": [
      "\n"
     ]
    },
    {
     "data": {
      "application/vnd.jupyter.widget-view+json": {
       "model_id": "1da80b4d218a4b52bdcdc0aee672007d",
       "version_major": 2,
       "version_minor": 0
      },
      "text/plain": [
       "HBox(children=(IntProgress(value=0, max=12), HTML(value='')))"
      ]
     },
     "metadata": {},
     "output_type": "display_data"
    },
    {
     "name": "stdout",
     "output_type": "stream",
     "text": [
      "\n"
     ]
    },
    {
     "data": {
      "application/vnd.jupyter.widget-view+json": {
       "model_id": "a0b7537024de47f7b2bf75113ae31b16",
       "version_major": 2,
       "version_minor": 0
      },
      "text/plain": [
       "HBox(children=(IntProgress(value=0, max=10), HTML(value='')))"
      ]
     },
     "metadata": {},
     "output_type": "display_data"
    },
    {
     "name": "stdout",
     "output_type": "stream",
     "text": [
      "\n"
     ]
    },
    {
     "data": {
      "application/vnd.jupyter.widget-view+json": {
       "model_id": "412cc32712f34dafacb1079d6fe6be16",
       "version_major": 2,
       "version_minor": 0
      },
      "text/plain": [
       "HBox(children=(IntProgress(value=0, max=7), HTML(value='')))"
      ]
     },
     "metadata": {},
     "output_type": "display_data"
    },
    {
     "name": "stdout",
     "output_type": "stream",
     "text": [
      "\n"
     ]
    },
    {
     "data": {
      "application/vnd.jupyter.widget-view+json": {
       "model_id": "7a12b9730f074213980ad7f0fb36aaf8",
       "version_major": 2,
       "version_minor": 0
      },
      "text/plain": [
       "HBox(children=(IntProgress(value=0, max=6), HTML(value='')))"
      ]
     },
     "metadata": {},
     "output_type": "display_data"
    },
    {
     "name": "stdout",
     "output_type": "stream",
     "text": [
      "\n"
     ]
    },
    {
     "data": {
      "application/vnd.jupyter.widget-view+json": {
       "model_id": "90a84d27787846fbb53ba16caca8273d",
       "version_major": 2,
       "version_minor": 0
      },
      "text/plain": [
       "HBox(children=(IntProgress(value=0, max=16), HTML(value='')))"
      ]
     },
     "metadata": {},
     "output_type": "display_data"
    },
    {
     "name": "stdout",
     "output_type": "stream",
     "text": [
      "\n"
     ]
    },
    {
     "data": {
      "application/vnd.jupyter.widget-view+json": {
       "model_id": "4f723007366f4849909e2395c5479eaf",
       "version_major": 2,
       "version_minor": 0
      },
      "text/plain": [
       "HBox(children=(IntProgress(value=0, max=15), HTML(value='')))"
      ]
     },
     "metadata": {},
     "output_type": "display_data"
    },
    {
     "name": "stdout",
     "output_type": "stream",
     "text": [
      "\n"
     ]
    },
    {
     "data": {
      "application/vnd.jupyter.widget-view+json": {
       "model_id": "aa380ed915da4a818891fe82b69f6978",
       "version_major": 2,
       "version_minor": 0
      },
      "text/plain": [
       "HBox(children=(IntProgress(value=0, max=16), HTML(value='')))"
      ]
     },
     "metadata": {},
     "output_type": "display_data"
    },
    {
     "name": "stdout",
     "output_type": "stream",
     "text": [
      "\n"
     ]
    },
    {
     "data": {
      "application/vnd.jupyter.widget-view+json": {
       "model_id": "46cadb63b1ef4abba9850644e76a98b5",
       "version_major": 2,
       "version_minor": 0
      },
      "text/plain": [
       "HBox(children=(IntProgress(value=0, max=16), HTML(value='')))"
      ]
     },
     "metadata": {},
     "output_type": "display_data"
    },
    {
     "name": "stdout",
     "output_type": "stream",
     "text": [
      "\n"
     ]
    },
    {
     "data": {
      "application/vnd.jupyter.widget-view+json": {
       "model_id": "e2cd9810119c4d09b2187f798bf5411a",
       "version_major": 2,
       "version_minor": 0
      },
      "text/plain": [
       "HBox(children=(IntProgress(value=0, max=22), HTML(value='')))"
      ]
     },
     "metadata": {},
     "output_type": "display_data"
    },
    {
     "name": "stdout",
     "output_type": "stream",
     "text": [
      "\n"
     ]
    },
    {
     "data": {
      "application/vnd.jupyter.widget-view+json": {
       "model_id": "765a5a3601a8466bbe35cf307da5be9c",
       "version_major": 2,
       "version_minor": 0
      },
      "text/plain": [
       "HBox(children=(IntProgress(value=0, max=7), HTML(value='')))"
      ]
     },
     "metadata": {},
     "output_type": "display_data"
    },
    {
     "name": "stdout",
     "output_type": "stream",
     "text": [
      "\n"
     ]
    },
    {
     "data": {
      "application/vnd.jupyter.widget-view+json": {
       "model_id": "d67b4c928fb14b0489a02eae1237ded1",
       "version_major": 2,
       "version_minor": 0
      },
      "text/plain": [
       "HBox(children=(IntProgress(value=0, max=6), HTML(value='')))"
      ]
     },
     "metadata": {},
     "output_type": "display_data"
    },
    {
     "name": "stdout",
     "output_type": "stream",
     "text": [
      "\n"
     ]
    },
    {
     "data": {
      "application/vnd.jupyter.widget-view+json": {
       "model_id": "08d1d893221449fe9119095708a882db",
       "version_major": 2,
       "version_minor": 0
      },
      "text/plain": [
       "HBox(children=(IntProgress(value=0, max=18), HTML(value='')))"
      ]
     },
     "metadata": {},
     "output_type": "display_data"
    },
    {
     "name": "stdout",
     "output_type": "stream",
     "text": [
      "\n"
     ]
    },
    {
     "data": {
      "application/vnd.jupyter.widget-view+json": {
       "model_id": "b21662a97a004480bcc7b27141bfd068",
       "version_major": 2,
       "version_minor": 0
      },
      "text/plain": [
       "HBox(children=(IntProgress(value=0, max=17), HTML(value='')))"
      ]
     },
     "metadata": {},
     "output_type": "display_data"
    },
    {
     "name": "stdout",
     "output_type": "stream",
     "text": [
      "\n"
     ]
    },
    {
     "data": {
      "application/vnd.jupyter.widget-view+json": {
       "model_id": "685721caf8fd47c7a4dceace9fca4f17",
       "version_major": 2,
       "version_minor": 0
      },
      "text/plain": [
       "HBox(children=(IntProgress(value=0, max=17), HTML(value='')))"
      ]
     },
     "metadata": {},
     "output_type": "display_data"
    },
    {
     "name": "stdout",
     "output_type": "stream",
     "text": [
      "\n"
     ]
    },
    {
     "data": {
      "application/vnd.jupyter.widget-view+json": {
       "model_id": "04d3f147f9254261a2f4d7651d81ebe2",
       "version_major": 2,
       "version_minor": 0
      },
      "text/plain": [
       "HBox(children=(IntProgress(value=0, max=17), HTML(value='')))"
      ]
     },
     "metadata": {},
     "output_type": "display_data"
    },
    {
     "name": "stdout",
     "output_type": "stream",
     "text": [
      "\n"
     ]
    },
    {
     "data": {
      "application/vnd.jupyter.widget-view+json": {
       "model_id": "5bce4d47efee489cbcb9ebaa54f195b8",
       "version_major": 2,
       "version_minor": 0
      },
      "text/plain": [
       "HBox(children=(IntProgress(value=0, max=16), HTML(value='')))"
      ]
     },
     "metadata": {},
     "output_type": "display_data"
    },
    {
     "name": "stdout",
     "output_type": "stream",
     "text": [
      "\n"
     ]
    },
    {
     "data": {
      "application/vnd.jupyter.widget-view+json": {
       "model_id": "de08d1ad45f1436fafb837c48b619e8a",
       "version_major": 2,
       "version_minor": 0
      },
      "text/plain": [
       "HBox(children=(IntProgress(value=0, max=7), HTML(value='')))"
      ]
     },
     "metadata": {},
     "output_type": "display_data"
    },
    {
     "name": "stdout",
     "output_type": "stream",
     "text": [
      "\n"
     ]
    },
    {
     "data": {
      "application/vnd.jupyter.widget-view+json": {
       "model_id": "ea5a933230a245e88a98fb66de5cb20f",
       "version_major": 2,
       "version_minor": 0
      },
      "text/plain": [
       "HBox(children=(IntProgress(value=0, max=6), HTML(value='')))"
      ]
     },
     "metadata": {},
     "output_type": "display_data"
    },
    {
     "name": "stdout",
     "output_type": "stream",
     "text": [
      "\n"
     ]
    },
    {
     "data": {
      "application/vnd.jupyter.widget-view+json": {
       "model_id": "43f3d9f67cd5422498c7739928f9dfb5",
       "version_major": 2,
       "version_minor": 0
      },
      "text/plain": [
       "HBox(children=(IntProgress(value=0, max=20), HTML(value='')))"
      ]
     },
     "metadata": {},
     "output_type": "display_data"
    },
    {
     "name": "stdout",
     "output_type": "stream",
     "text": [
      "\n"
     ]
    },
    {
     "data": {
      "application/vnd.jupyter.widget-view+json": {
       "model_id": "9bf4b880c58147fe9c9a6fcc14e539d1",
       "version_major": 2,
       "version_minor": 0
      },
      "text/plain": [
       "HBox(children=(IntProgress(value=0, max=17), HTML(value='')))"
      ]
     },
     "metadata": {},
     "output_type": "display_data"
    },
    {
     "name": "stdout",
     "output_type": "stream",
     "text": [
      "\n"
     ]
    },
    {
     "data": {
      "application/vnd.jupyter.widget-view+json": {
       "model_id": "91e7085132d0442f80a88cba5560196c",
       "version_major": 2,
       "version_minor": 0
      },
      "text/plain": [
       "HBox(children=(IntProgress(value=0, max=14), HTML(value='')))"
      ]
     },
     "metadata": {},
     "output_type": "display_data"
    },
    {
     "name": "stdout",
     "output_type": "stream",
     "text": [
      "\n"
     ]
    },
    {
     "data": {
      "application/vnd.jupyter.widget-view+json": {
       "model_id": "cf5f3572bd994ce3a3b8447ad38ec92e",
       "version_major": 2,
       "version_minor": 0
      },
      "text/plain": [
       "HBox(children=(IntProgress(value=0, max=18), HTML(value='')))"
      ]
     },
     "metadata": {},
     "output_type": "display_data"
    },
    {
     "name": "stdout",
     "output_type": "stream",
     "text": [
      "\n"
     ]
    },
    {
     "data": {
      "application/vnd.jupyter.widget-view+json": {
       "model_id": "d1f786cb07d1473eb76508db451b49c0",
       "version_major": 2,
       "version_minor": 0
      },
      "text/plain": [
       "HBox(children=(IntProgress(value=0, max=16), HTML(value='')))"
      ]
     },
     "metadata": {},
     "output_type": "display_data"
    },
    {
     "name": "stdout",
     "output_type": "stream",
     "text": [
      "\n"
     ]
    },
    {
     "data": {
      "application/vnd.jupyter.widget-view+json": {
       "model_id": "1f036170c5e044f1a238f81992242577",
       "version_major": 2,
       "version_minor": 0
      },
      "text/plain": [
       "HBox(children=(IntProgress(value=0, max=10), HTML(value='')))"
      ]
     },
     "metadata": {},
     "output_type": "display_data"
    },
    {
     "name": "stdout",
     "output_type": "stream",
     "text": [
      "\n"
     ]
    },
    {
     "data": {
      "application/vnd.jupyter.widget-view+json": {
       "model_id": "fb00e501665641f2b3f277afeca215f8",
       "version_major": 2,
       "version_minor": 0
      },
      "text/plain": [
       "HBox(children=(IntProgress(value=0, max=7), HTML(value='')))"
      ]
     },
     "metadata": {},
     "output_type": "display_data"
    },
    {
     "name": "stdout",
     "output_type": "stream",
     "text": [
      "\n"
     ]
    },
    {
     "data": {
      "application/vnd.jupyter.widget-view+json": {
       "model_id": "aee928df39b64bafa99418be179c8900",
       "version_major": 2,
       "version_minor": 0
      },
      "text/plain": [
       "HBox(children=(IntProgress(value=0, max=21), HTML(value='')))"
      ]
     },
     "metadata": {},
     "output_type": "display_data"
    },
    {
     "name": "stdout",
     "output_type": "stream",
     "text": [
      "\n"
     ]
    },
    {
     "data": {
      "application/vnd.jupyter.widget-view+json": {
       "model_id": "7cb737d418a04b71b59c50c660f4c564",
       "version_major": 2,
       "version_minor": 0
      },
      "text/plain": [
       "HBox(children=(IntProgress(value=0, max=19), HTML(value='')))"
      ]
     },
     "metadata": {},
     "output_type": "display_data"
    },
    {
     "name": "stdout",
     "output_type": "stream",
     "text": [
      "\n"
     ]
    },
    {
     "data": {
      "application/vnd.jupyter.widget-view+json": {
       "model_id": "e6da73c09160422cb23709a5cea15472",
       "version_major": 2,
       "version_minor": 0
      },
      "text/plain": [
       "HBox(children=(IntProgress(value=0, max=20), HTML(value='')))"
      ]
     },
     "metadata": {},
     "output_type": "display_data"
    },
    {
     "name": "stdout",
     "output_type": "stream",
     "text": [
      "\n"
     ]
    },
    {
     "data": {
      "application/vnd.jupyter.widget-view+json": {
       "model_id": "baf4994df49a43b4b65936487936f2ce",
       "version_major": 2,
       "version_minor": 0
      },
      "text/plain": [
       "HBox(children=(IntProgress(value=0, max=18), HTML(value='')))"
      ]
     },
     "metadata": {},
     "output_type": "display_data"
    },
    {
     "name": "stdout",
     "output_type": "stream",
     "text": [
      "\n"
     ]
    },
    {
     "data": {
      "application/vnd.jupyter.widget-view+json": {
       "model_id": "06b2e751b79b40bfb580635647d90c11",
       "version_major": 2,
       "version_minor": 0
      },
      "text/plain": [
       "HBox(children=(IntProgress(value=0, max=20), HTML(value='')))"
      ]
     },
     "metadata": {},
     "output_type": "display_data"
    },
    {
     "name": "stdout",
     "output_type": "stream",
     "text": [
      "\n"
     ]
    },
    {
     "data": {
      "application/vnd.jupyter.widget-view+json": {
       "model_id": "8556cc4cd16b4874979c03fc0a89c607",
       "version_major": 2,
       "version_minor": 0
      },
      "text/plain": [
       "HBox(children=(IntProgress(value=0, max=8), HTML(value='')))"
      ]
     },
     "metadata": {},
     "output_type": "display_data"
    },
    {
     "name": "stdout",
     "output_type": "stream",
     "text": [
      "\n"
     ]
    },
    {
     "data": {
      "application/vnd.jupyter.widget-view+json": {
       "model_id": "16e9ff311bb745c3991d2088ff9a995c",
       "version_major": 2,
       "version_minor": 0
      },
      "text/plain": [
       "HBox(children=(IntProgress(value=0, max=6), HTML(value='')))"
      ]
     },
     "metadata": {},
     "output_type": "display_data"
    },
    {
     "name": "stdout",
     "output_type": "stream",
     "text": [
      "\n"
     ]
    },
    {
     "data": {
      "application/vnd.jupyter.widget-view+json": {
       "model_id": "9ff300c232414c38a796f6ec0acf0b87",
       "version_major": 2,
       "version_minor": 0
      },
      "text/plain": [
       "HBox(children=(IntProgress(value=0, max=19), HTML(value='')))"
      ]
     },
     "metadata": {},
     "output_type": "display_data"
    },
    {
     "name": "stdout",
     "output_type": "stream",
     "text": [
      "\n"
     ]
    },
    {
     "data": {
      "application/vnd.jupyter.widget-view+json": {
       "model_id": "de3e1030f15b42e9a7d5225a7d1c538e",
       "version_major": 2,
       "version_minor": 0
      },
      "text/plain": [
       "HBox(children=(IntProgress(value=0, max=19), HTML(value='')))"
      ]
     },
     "metadata": {},
     "output_type": "display_data"
    },
    {
     "name": "stdout",
     "output_type": "stream",
     "text": [
      "\n"
     ]
    },
    {
     "data": {
      "application/vnd.jupyter.widget-view+json": {
       "model_id": "aabb40fb0af0436cbc9ad31a290fef26",
       "version_major": 2,
       "version_minor": 0
      },
      "text/plain": [
       "HBox(children=(IntProgress(value=0, max=18), HTML(value='')))"
      ]
     },
     "metadata": {},
     "output_type": "display_data"
    },
    {
     "name": "stdout",
     "output_type": "stream",
     "text": [
      "\n"
     ]
    },
    {
     "data": {
      "application/vnd.jupyter.widget-view+json": {
       "model_id": "4a9fa50116ba49bcb3080f69a0ae5846",
       "version_major": 2,
       "version_minor": 0
      },
      "text/plain": [
       "HBox(children=(IntProgress(value=0, max=18), HTML(value='')))"
      ]
     },
     "metadata": {},
     "output_type": "display_data"
    },
    {
     "name": "stdout",
     "output_type": "stream",
     "text": [
      "\n"
     ]
    },
    {
     "data": {
      "application/vnd.jupyter.widget-view+json": {
       "model_id": "d4922542f03749c184edbe86e76c671d",
       "version_major": 2,
       "version_minor": 0
      },
      "text/plain": [
       "HBox(children=(IntProgress(value=0, max=19), HTML(value='')))"
      ]
     },
     "metadata": {},
     "output_type": "display_data"
    },
    {
     "name": "stdout",
     "output_type": "stream",
     "text": [
      "\n"
     ]
    },
    {
     "data": {
      "application/vnd.jupyter.widget-view+json": {
       "model_id": "016753102afd4cc1b8dba29b7b1bb01d",
       "version_major": 2,
       "version_minor": 0
      },
      "text/plain": [
       "HBox(children=(IntProgress(value=0, max=10), HTML(value='')))"
      ]
     },
     "metadata": {},
     "output_type": "display_data"
    },
    {
     "name": "stdout",
     "output_type": "stream",
     "text": [
      "\n"
     ]
    },
    {
     "data": {
      "application/vnd.jupyter.widget-view+json": {
       "model_id": "ace0f9440e6c411292744d65c137bdf7",
       "version_major": 2,
       "version_minor": 0
      },
      "text/plain": [
       "HBox(children=(IntProgress(value=0, max=8), HTML(value='')))"
      ]
     },
     "metadata": {},
     "output_type": "display_data"
    },
    {
     "name": "stdout",
     "output_type": "stream",
     "text": [
      "\n"
     ]
    },
    {
     "data": {
      "application/vnd.jupyter.widget-view+json": {
       "model_id": "bddb40a65e4d4b7d914ba48620fe79c2",
       "version_major": 2,
       "version_minor": 0
      },
      "text/plain": [
       "HBox(children=(IntProgress(value=0, max=20), HTML(value='')))"
      ]
     },
     "metadata": {},
     "output_type": "display_data"
    },
    {
     "name": "stdout",
     "output_type": "stream",
     "text": [
      "\n"
     ]
    },
    {
     "data": {
      "application/vnd.jupyter.widget-view+json": {
       "model_id": "133094e81cd747609fe6a46b70fc1e13",
       "version_major": 2,
       "version_minor": 0
      },
      "text/plain": [
       "HBox(children=(IntProgress(value=0, max=18), HTML(value='')))"
      ]
     },
     "metadata": {},
     "output_type": "display_data"
    },
    {
     "name": "stdout",
     "output_type": "stream",
     "text": [
      "\n"
     ]
    },
    {
     "data": {
      "application/vnd.jupyter.widget-view+json": {
       "model_id": "01c5ab353ce0403faea0108bbf23fcaa",
       "version_major": 2,
       "version_minor": 0
      },
      "text/plain": [
       "HBox(children=(IntProgress(value=0, max=21), HTML(value='')))"
      ]
     },
     "metadata": {},
     "output_type": "display_data"
    },
    {
     "name": "stdout",
     "output_type": "stream",
     "text": [
      "\n"
     ]
    },
    {
     "data": {
      "application/vnd.jupyter.widget-view+json": {
       "model_id": "f72a45da043843e482017c1364095e35",
       "version_major": 2,
       "version_minor": 0
      },
      "text/plain": [
       "HBox(children=(IntProgress(value=0, max=19), HTML(value='')))"
      ]
     },
     "metadata": {},
     "output_type": "display_data"
    },
    {
     "name": "stdout",
     "output_type": "stream",
     "text": [
      "\n"
     ]
    },
    {
     "data": {
      "application/vnd.jupyter.widget-view+json": {
       "model_id": "ee2accc4b45d40d6af992f555f37b61d",
       "version_major": 2,
       "version_minor": 0
      },
      "text/plain": [
       "HBox(children=(IntProgress(value=0, max=16), HTML(value='')))"
      ]
     },
     "metadata": {},
     "output_type": "display_data"
    },
    {
     "name": "stdout",
     "output_type": "stream",
     "text": [
      "\n"
     ]
    },
    {
     "data": {
      "application/vnd.jupyter.widget-view+json": {
       "model_id": "7e95c20608b94c9ab4250e488417cda4",
       "version_major": 2,
       "version_minor": 0
      },
      "text/plain": [
       "HBox(children=(IntProgress(value=0, max=14), HTML(value='')))"
      ]
     },
     "metadata": {},
     "output_type": "display_data"
    },
    {
     "name": "stdout",
     "output_type": "stream",
     "text": [
      "\n"
     ]
    },
    {
     "data": {
      "application/vnd.jupyter.widget-view+json": {
       "model_id": "62f3a07c9f084f2c8740c777a2664539",
       "version_major": 2,
       "version_minor": 0
      },
      "text/plain": [
       "HBox(children=(IntProgress(value=0, max=10), HTML(value='')))"
      ]
     },
     "metadata": {},
     "output_type": "display_data"
    },
    {
     "name": "stdout",
     "output_type": "stream",
     "text": [
      "\n"
     ]
    },
    {
     "data": {
      "application/vnd.jupyter.widget-view+json": {
       "model_id": "48affeff641f47a6b951a358d2bf5b2e",
       "version_major": 2,
       "version_minor": 0
      },
      "text/plain": [
       "HBox(children=(IntProgress(value=0, max=23), HTML(value='')))"
      ]
     },
     "metadata": {},
     "output_type": "display_data"
    },
    {
     "name": "stdout",
     "output_type": "stream",
     "text": [
      "\n"
     ]
    },
    {
     "data": {
      "application/vnd.jupyter.widget-view+json": {
       "model_id": "bd0d4ceb12a4453fb0285c33c2c75e9f",
       "version_major": 2,
       "version_minor": 0
      },
      "text/plain": [
       "HBox(children=(IntProgress(value=0, max=20), HTML(value='')))"
      ]
     },
     "metadata": {},
     "output_type": "display_data"
    },
    {
     "name": "stdout",
     "output_type": "stream",
     "text": [
      "\n"
     ]
    },
    {
     "data": {
      "application/vnd.jupyter.widget-view+json": {
       "model_id": "26eeb14ca3114645a49e850666d6fcd9",
       "version_major": 2,
       "version_minor": 0
      },
      "text/plain": [
       "HBox(children=(IntProgress(value=0, max=20), HTML(value='')))"
      ]
     },
     "metadata": {},
     "output_type": "display_data"
    },
    {
     "name": "stdout",
     "output_type": "stream",
     "text": [
      "\n"
     ]
    },
    {
     "data": {
      "application/vnd.jupyter.widget-view+json": {
       "model_id": "a71de63202814d1396bb825c87c7c0ea",
       "version_major": 2,
       "version_minor": 0
      },
      "text/plain": [
       "HBox(children=(IntProgress(value=0, max=21), HTML(value='')))"
      ]
     },
     "metadata": {},
     "output_type": "display_data"
    },
    {
     "name": "stdout",
     "output_type": "stream",
     "text": [
      "\n"
     ]
    },
    {
     "data": {
      "application/vnd.jupyter.widget-view+json": {
       "model_id": "e9dfadeea3e144baa7d6b77cd9372aaf",
       "version_major": 2,
       "version_minor": 0
      },
      "text/plain": [
       "HBox(children=(IntProgress(value=0, max=17), HTML(value='')))"
      ]
     },
     "metadata": {},
     "output_type": "display_data"
    },
    {
     "name": "stdout",
     "output_type": "stream",
     "text": [
      "\n"
     ]
    },
    {
     "data": {
      "application/vnd.jupyter.widget-view+json": {
       "model_id": "3d07cc99d03240daaf9790f36e963858",
       "version_major": 2,
       "version_minor": 0
      },
      "text/plain": [
       "HBox(children=(IntProgress(value=0, max=13), HTML(value='')))"
      ]
     },
     "metadata": {},
     "output_type": "display_data"
    },
    {
     "name": "stdout",
     "output_type": "stream",
     "text": [
      "\n"
     ]
    },
    {
     "data": {
      "application/vnd.jupyter.widget-view+json": {
       "model_id": "2789a69a27884e05bb4c479356c59459",
       "version_major": 2,
       "version_minor": 0
      },
      "text/plain": [
       "HBox(children=(IntProgress(value=0, max=12), HTML(value='')))"
      ]
     },
     "metadata": {},
     "output_type": "display_data"
    },
    {
     "name": "stdout",
     "output_type": "stream",
     "text": [
      "\n"
     ]
    },
    {
     "data": {
      "application/vnd.jupyter.widget-view+json": {
       "model_id": "232ade53fde8424980a4f34a344263f5",
       "version_major": 2,
       "version_minor": 0
      },
      "text/plain": [
       "HBox(children=(IntProgress(value=0, max=16), HTML(value='')))"
      ]
     },
     "metadata": {},
     "output_type": "display_data"
    },
    {
     "name": "stdout",
     "output_type": "stream",
     "text": [
      "\n"
     ]
    },
    {
     "data": {
      "application/vnd.jupyter.widget-view+json": {
       "model_id": "e0bc9d0a14be422e8bf29336d4bc0fb2",
       "version_major": 2,
       "version_minor": 0
      },
      "text/plain": [
       "HBox(children=(IntProgress(value=0, max=16), HTML(value='')))"
      ]
     },
     "metadata": {},
     "output_type": "display_data"
    },
    {
     "name": "stdout",
     "output_type": "stream",
     "text": [
      "\n"
     ]
    },
    {
     "data": {
      "application/vnd.jupyter.widget-view+json": {
       "model_id": "4546b245f89c4138a965c8f41b77611e",
       "version_major": 2,
       "version_minor": 0
      },
      "text/plain": [
       "HBox(children=(IntProgress(value=0, max=18), HTML(value='')))"
      ]
     },
     "metadata": {},
     "output_type": "display_data"
    },
    {
     "name": "stdout",
     "output_type": "stream",
     "text": [
      "\n"
     ]
    },
    {
     "data": {
      "application/vnd.jupyter.widget-view+json": {
       "model_id": "48eb129568bf452cbcc525a739d106d8",
       "version_major": 2,
       "version_minor": 0
      },
      "text/plain": [
       "HBox(children=(IntProgress(value=0, max=16), HTML(value='')))"
      ]
     },
     "metadata": {},
     "output_type": "display_data"
    },
    {
     "name": "stdout",
     "output_type": "stream",
     "text": [
      "\n"
     ]
    },
    {
     "data": {
      "application/vnd.jupyter.widget-view+json": {
       "model_id": "5dfdd9f4e77c4e76bd40277aa86fb472",
       "version_major": 2,
       "version_minor": 0
      },
      "text/plain": [
       "HBox(children=(IntProgress(value=0, max=19), HTML(value='')))"
      ]
     },
     "metadata": {},
     "output_type": "display_data"
    },
    {
     "name": "stdout",
     "output_type": "stream",
     "text": [
      "\n"
     ]
    },
    {
     "data": {
      "application/vnd.jupyter.widget-view+json": {
       "model_id": "6b6112a0a57a4305bc72cb5a99bc7e37",
       "version_major": 2,
       "version_minor": 0
      },
      "text/plain": [
       "HBox(children=(IntProgress(value=0, max=12), HTML(value='')))"
      ]
     },
     "metadata": {},
     "output_type": "display_data"
    },
    {
     "name": "stdout",
     "output_type": "stream",
     "text": [
      "\n"
     ]
    },
    {
     "data": {
      "application/vnd.jupyter.widget-view+json": {
       "model_id": "c089b9a389504b9392878bc59d3de469",
       "version_major": 2,
       "version_minor": 0
      },
      "text/plain": [
       "HBox(children=(IntProgress(value=0, max=14), HTML(value='')))"
      ]
     },
     "metadata": {},
     "output_type": "display_data"
    },
    {
     "name": "stdout",
     "output_type": "stream",
     "text": [
      "\n"
     ]
    },
    {
     "data": {
      "application/vnd.jupyter.widget-view+json": {
       "model_id": "59b234e82a7f4ede97089d16abdfd2ea",
       "version_major": 2,
       "version_minor": 0
      },
      "text/plain": [
       "HBox(children=(IntProgress(value=0, max=17), HTML(value='')))"
      ]
     },
     "metadata": {},
     "output_type": "display_data"
    },
    {
     "name": "stdout",
     "output_type": "stream",
     "text": [
      "\n"
     ]
    },
    {
     "data": {
      "application/vnd.jupyter.widget-view+json": {
       "model_id": "e7f78239bce5417187871759ba6806ef",
       "version_major": 2,
       "version_minor": 0
      },
      "text/plain": [
       "HBox(children=(IntProgress(value=0, max=14), HTML(value='')))"
      ]
     },
     "metadata": {},
     "output_type": "display_data"
    },
    {
     "name": "stdout",
     "output_type": "stream",
     "text": [
      "\n"
     ]
    },
    {
     "data": {
      "application/vnd.jupyter.widget-view+json": {
       "model_id": "d77a3b47e27a44b4b83bc607ae8875cc",
       "version_major": 2,
       "version_minor": 0
      },
      "text/plain": [
       "HBox(children=(IntProgress(value=0, max=20), HTML(value='')))"
      ]
     },
     "metadata": {},
     "output_type": "display_data"
    },
    {
     "name": "stdout",
     "output_type": "stream",
     "text": [
      "\n"
     ]
    },
    {
     "data": {
      "application/vnd.jupyter.widget-view+json": {
       "model_id": "5e1ac9e3bf59442f9384a11566505f9e",
       "version_major": 2,
       "version_minor": 0
      },
      "text/plain": [
       "HBox(children=(IntProgress(value=0, max=18), HTML(value='')))"
      ]
     },
     "metadata": {},
     "output_type": "display_data"
    },
    {
     "name": "stdout",
     "output_type": "stream",
     "text": [
      "\n"
     ]
    },
    {
     "data": {
      "application/vnd.jupyter.widget-view+json": {
       "model_id": "0b54a20b08db4529890b24349634c82b",
       "version_major": 2,
       "version_minor": 0
      },
      "text/plain": [
       "HBox(children=(IntProgress(value=0, max=15), HTML(value='')))"
      ]
     },
     "metadata": {},
     "output_type": "display_data"
    },
    {
     "name": "stdout",
     "output_type": "stream",
     "text": [
      "\n"
     ]
    },
    {
     "data": {
      "application/vnd.jupyter.widget-view+json": {
       "model_id": "e162b54234c7417c8f46f1d4b580cc89",
       "version_major": 2,
       "version_minor": 0
      },
      "text/plain": [
       "HBox(children=(IntProgress(value=0, max=11), HTML(value='')))"
      ]
     },
     "metadata": {},
     "output_type": "display_data"
    },
    {
     "name": "stdout",
     "output_type": "stream",
     "text": [
      "\n"
     ]
    },
    {
     "data": {
      "application/vnd.jupyter.widget-view+json": {
       "model_id": "3886eb5b4e1d4c0391cc29207eb6f1b7",
       "version_major": 2,
       "version_minor": 0
      },
      "text/plain": [
       "HBox(children=(IntProgress(value=0, max=12), HTML(value='')))"
      ]
     },
     "metadata": {},
     "output_type": "display_data"
    },
    {
     "name": "stdout",
     "output_type": "stream",
     "text": [
      "\n"
     ]
    },
    {
     "data": {
      "application/vnd.jupyter.widget-view+json": {
       "model_id": "2e4a472b7f46406fb0cc5fc98f9c471a",
       "version_major": 2,
       "version_minor": 0
      },
      "text/plain": [
       "HBox(children=(IntProgress(value=0, max=13), HTML(value='')))"
      ]
     },
     "metadata": {},
     "output_type": "display_data"
    },
    {
     "name": "stdout",
     "output_type": "stream",
     "text": [
      "\n"
     ]
    },
    {
     "data": {
      "application/vnd.jupyter.widget-view+json": {
       "model_id": "7b1bd8b0466c4b3e865b4ede18d80f74",
       "version_major": 2,
       "version_minor": 0
      },
      "text/plain": [
       "HBox(children=(IntProgress(value=0, max=14), HTML(value='')))"
      ]
     },
     "metadata": {},
     "output_type": "display_data"
    },
    {
     "name": "stdout",
     "output_type": "stream",
     "text": [
      "\n"
     ]
    },
    {
     "data": {
      "application/vnd.jupyter.widget-view+json": {
       "model_id": "86aa342643734edca3fad3531064d05a",
       "version_major": 2,
       "version_minor": 0
      },
      "text/plain": [
       "HBox(children=(IntProgress(value=0, max=19), HTML(value='')))"
      ]
     },
     "metadata": {},
     "output_type": "display_data"
    },
    {
     "name": "stdout",
     "output_type": "stream",
     "text": [
      "\n"
     ]
    },
    {
     "data": {
      "application/vnd.jupyter.widget-view+json": {
       "model_id": "838ea1593ecc4035953ea17720e3bde5",
       "version_major": 2,
       "version_minor": 0
      },
      "text/plain": [
       "HBox(children=(IntProgress(value=0, max=19), HTML(value='')))"
      ]
     },
     "metadata": {},
     "output_type": "display_data"
    },
    {
     "name": "stdout",
     "output_type": "stream",
     "text": [
      "\n"
     ]
    },
    {
     "data": {
      "application/vnd.jupyter.widget-view+json": {
       "model_id": "f5e0144925a74340be0ffe3ce844f0d0",
       "version_major": 2,
       "version_minor": 0
      },
      "text/plain": [
       "HBox(children=(IntProgress(value=0, max=16), HTML(value='')))"
      ]
     },
     "metadata": {},
     "output_type": "display_data"
    },
    {
     "name": "stdout",
     "output_type": "stream",
     "text": [
      "\n"
     ]
    },
    {
     "data": {
      "application/vnd.jupyter.widget-view+json": {
       "model_id": "c722f49f596a472884988ebdf091b945",
       "version_major": 2,
       "version_minor": 0
      },
      "text/plain": [
       "HBox(children=(IntProgress(value=0, max=12), HTML(value='')))"
      ]
     },
     "metadata": {},
     "output_type": "display_data"
    },
    {
     "name": "stdout",
     "output_type": "stream",
     "text": [
      "\n"
     ]
    },
    {
     "data": {
      "application/vnd.jupyter.widget-view+json": {
       "model_id": "611911e62d114adeb194e7ceda35176e",
       "version_major": 2,
       "version_minor": 0
      },
      "text/plain": [
       "HBox(children=(IntProgress(value=0, max=13), HTML(value='')))"
      ]
     },
     "metadata": {},
     "output_type": "display_data"
    },
    {
     "name": "stdout",
     "output_type": "stream",
     "text": [
      "\n"
     ]
    },
    {
     "data": {
      "application/vnd.jupyter.widget-view+json": {
       "model_id": "d92a8d7ffea24245a9b80944296dc95f",
       "version_major": 2,
       "version_minor": 0
      },
      "text/plain": [
       "HBox(children=(IntProgress(value=0, max=19), HTML(value='')))"
      ]
     },
     "metadata": {},
     "output_type": "display_data"
    },
    {
     "name": "stdout",
     "output_type": "stream",
     "text": [
      "\n"
     ]
    },
    {
     "data": {
      "application/vnd.jupyter.widget-view+json": {
       "model_id": "65d3b7489f7b433b8d855b9e514f0768",
       "version_major": 2,
       "version_minor": 0
      },
      "text/plain": [
       "HBox(children=(IntProgress(value=0, max=21), HTML(value='')))"
      ]
     },
     "metadata": {},
     "output_type": "display_data"
    },
    {
     "name": "stdout",
     "output_type": "stream",
     "text": [
      "\n"
     ]
    },
    {
     "data": {
      "application/vnd.jupyter.widget-view+json": {
       "model_id": "62d536b6b6a347b78daaa905feb7cf75",
       "version_major": 2,
       "version_minor": 0
      },
      "text/plain": [
       "HBox(children=(IntProgress(value=0, max=14), HTML(value='')))"
      ]
     },
     "metadata": {},
     "output_type": "display_data"
    },
    {
     "name": "stdout",
     "output_type": "stream",
     "text": [
      "\n"
     ]
    },
    {
     "data": {
      "application/vnd.jupyter.widget-view+json": {
       "model_id": "731aba8086154e4890a0ad3f20f431f2",
       "version_major": 2,
       "version_minor": 0
      },
      "text/plain": [
       "HBox(children=(IntProgress(value=0, max=13), HTML(value='')))"
      ]
     },
     "metadata": {},
     "output_type": "display_data"
    },
    {
     "name": "stdout",
     "output_type": "stream",
     "text": [
      "\n"
     ]
    },
    {
     "data": {
      "application/vnd.jupyter.widget-view+json": {
       "model_id": "05c0d67c3a554697bb0905fd9c45a834",
       "version_major": 2,
       "version_minor": 0
      },
      "text/plain": [
       "HBox(children=(IntProgress(value=0, max=13), HTML(value='')))"
      ]
     },
     "metadata": {},
     "output_type": "display_data"
    },
    {
     "name": "stdout",
     "output_type": "stream",
     "text": [
      "\n"
     ]
    },
    {
     "data": {
      "application/vnd.jupyter.widget-view+json": {
       "model_id": "19517d5935c54f6c84710f0b2e652910",
       "version_major": 2,
       "version_minor": 0
      },
      "text/plain": [
       "HBox(children=(IntProgress(value=0, max=12), HTML(value='')))"
      ]
     },
     "metadata": {},
     "output_type": "display_data"
    },
    {
     "name": "stdout",
     "output_type": "stream",
     "text": [
      "\n"
     ]
    },
    {
     "data": {
      "application/vnd.jupyter.widget-view+json": {
       "model_id": "94168fb877394cba9d30b7683cd2478a",
       "version_major": 2,
       "version_minor": 0
      },
      "text/plain": [
       "HBox(children=(IntProgress(value=0, max=11), HTML(value='')))"
      ]
     },
     "metadata": {},
     "output_type": "display_data"
    },
    {
     "name": "stdout",
     "output_type": "stream",
     "text": [
      "\n"
     ]
    },
    {
     "data": {
      "application/vnd.jupyter.widget-view+json": {
       "model_id": "dcc44a9637704278b3e2951e92dcf168",
       "version_major": 2,
       "version_minor": 0
      },
      "text/plain": [
       "HBox(children=(IntProgress(value=0, max=14), HTML(value='')))"
      ]
     },
     "metadata": {},
     "output_type": "display_data"
    },
    {
     "name": "stdout",
     "output_type": "stream",
     "text": [
      "\n"
     ]
    },
    {
     "data": {
      "application/vnd.jupyter.widget-view+json": {
       "model_id": "638be8bf1ab545b99a51cf5c2431c86e",
       "version_major": 2,
       "version_minor": 0
      },
      "text/plain": [
       "HBox(children=(IntProgress(value=0, max=20), HTML(value='')))"
      ]
     },
     "metadata": {},
     "output_type": "display_data"
    },
    {
     "name": "stdout",
     "output_type": "stream",
     "text": [
      "\n"
     ]
    },
    {
     "data": {
      "application/vnd.jupyter.widget-view+json": {
       "model_id": "983f28aa4cea4524be6be0cbd65f4f6b",
       "version_major": 2,
       "version_minor": 0
      },
      "text/plain": [
       "HBox(children=(IntProgress(value=0, max=18), HTML(value='')))"
      ]
     },
     "metadata": {},
     "output_type": "display_data"
    },
    {
     "name": "stdout",
     "output_type": "stream",
     "text": [
      "\n"
     ]
    },
    {
     "data": {
      "application/vnd.jupyter.widget-view+json": {
       "model_id": "8ea0215bd3324a2287f960e934387a38",
       "version_major": 2,
       "version_minor": 0
      },
      "text/plain": [
       "HBox(children=(IntProgress(value=0, max=18), HTML(value='')))"
      ]
     },
     "metadata": {},
     "output_type": "display_data"
    },
    {
     "name": "stdout",
     "output_type": "stream",
     "text": [
      "\n"
     ]
    },
    {
     "data": {
      "application/vnd.jupyter.widget-view+json": {
       "model_id": "127952ce40474bd6946559a72c251065",
       "version_major": 2,
       "version_minor": 0
      },
      "text/plain": [
       "HBox(children=(IntProgress(value=0, max=15), HTML(value='')))"
      ]
     },
     "metadata": {},
     "output_type": "display_data"
    },
    {
     "name": "stdout",
     "output_type": "stream",
     "text": [
      "\n"
     ]
    },
    {
     "data": {
      "application/vnd.jupyter.widget-view+json": {
       "model_id": "92eff5dd02ce4cbebfc0784f7e9c0266",
       "version_major": 2,
       "version_minor": 0
      },
      "text/plain": [
       "HBox(children=(IntProgress(value=0, max=12), HTML(value='')))"
      ]
     },
     "metadata": {},
     "output_type": "display_data"
    },
    {
     "name": "stdout",
     "output_type": "stream",
     "text": [
      "\n"
     ]
    },
    {
     "data": {
      "application/vnd.jupyter.widget-view+json": {
       "model_id": "d3582f5876e74d79af3e26892352c9d0",
       "version_major": 2,
       "version_minor": 0
      },
      "text/plain": [
       "HBox(children=(IntProgress(value=0, max=11), HTML(value='')))"
      ]
     },
     "metadata": {},
     "output_type": "display_data"
    },
    {
     "name": "stdout",
     "output_type": "stream",
     "text": [
      "\n"
     ]
    },
    {
     "data": {
      "application/vnd.jupyter.widget-view+json": {
       "model_id": "e48e88498abf487e8b3680b2e8dd6eff",
       "version_major": 2,
       "version_minor": 0
      },
      "text/plain": [
       "HBox(children=(IntProgress(value=0, max=21), HTML(value='')))"
      ]
     },
     "metadata": {},
     "output_type": "display_data"
    },
    {
     "name": "stdout",
     "output_type": "stream",
     "text": [
      "\n"
     ]
    },
    {
     "data": {
      "application/vnd.jupyter.widget-view+json": {
       "model_id": "a0014a4c3a654b92bc2a1f7e52e335f2",
       "version_major": 2,
       "version_minor": 0
      },
      "text/plain": [
       "HBox(children=(IntProgress(value=0, max=23), HTML(value='')))"
      ]
     },
     "metadata": {},
     "output_type": "display_data"
    },
    {
     "name": "stdout",
     "output_type": "stream",
     "text": [
      "\n"
     ]
    },
    {
     "data": {
      "application/vnd.jupyter.widget-view+json": {
       "model_id": "02fe019a82e340b9a0e9a4b2efe70feb",
       "version_major": 2,
       "version_minor": 0
      },
      "text/plain": [
       "HBox(children=(IntProgress(value=0, max=22), HTML(value='')))"
      ]
     },
     "metadata": {},
     "output_type": "display_data"
    },
    {
     "name": "stdout",
     "output_type": "stream",
     "text": [
      "\n"
     ]
    },
    {
     "data": {
      "application/vnd.jupyter.widget-view+json": {
       "model_id": "23e3c18bf1cc4a51a20eff5c9b64a077",
       "version_major": 2,
       "version_minor": 0
      },
      "text/plain": [
       "HBox(children=(IntProgress(value=0, max=22), HTML(value='')))"
      ]
     },
     "metadata": {},
     "output_type": "display_data"
    },
    {
     "name": "stdout",
     "output_type": "stream",
     "text": [
      "\n"
     ]
    },
    {
     "data": {
      "application/vnd.jupyter.widget-view+json": {
       "model_id": "5cf4cbdbc5f9435594b7f125359d6201",
       "version_major": 2,
       "version_minor": 0
      },
      "text/plain": [
       "HBox(children=(IntProgress(value=0, max=23), HTML(value='')))"
      ]
     },
     "metadata": {},
     "output_type": "display_data"
    },
    {
     "name": "stdout",
     "output_type": "stream",
     "text": [
      "\n"
     ]
    },
    {
     "data": {
      "application/vnd.jupyter.widget-view+json": {
       "model_id": "1b7d2eabb03145bca11f597379df911b",
       "version_major": 2,
       "version_minor": 0
      },
      "text/plain": [
       "HBox(children=(IntProgress(value=0, max=10), HTML(value='')))"
      ]
     },
     "metadata": {},
     "output_type": "display_data"
    },
    {
     "name": "stdout",
     "output_type": "stream",
     "text": [
      "\n"
     ]
    },
    {
     "data": {
      "application/vnd.jupyter.widget-view+json": {
       "model_id": "858545505a1b4bca9619c22db275aa29",
       "version_major": 2,
       "version_minor": 0
      },
      "text/plain": [
       "HBox(children=(IntProgress(value=0, max=14), HTML(value='')))"
      ]
     },
     "metadata": {},
     "output_type": "display_data"
    },
    {
     "name": "stdout",
     "output_type": "stream",
     "text": [
      "\n"
     ]
    },
    {
     "data": {
      "application/vnd.jupyter.widget-view+json": {
       "model_id": "6f5cb395a3a8465db9c222ef20b21f1c",
       "version_major": 2,
       "version_minor": 0
      },
      "text/plain": [
       "HBox(children=(IntProgress(value=0, max=21), HTML(value='')))"
      ]
     },
     "metadata": {},
     "output_type": "display_data"
    },
    {
     "name": "stdout",
     "output_type": "stream",
     "text": [
      "\n"
     ]
    },
    {
     "data": {
      "application/vnd.jupyter.widget-view+json": {
       "model_id": "f8a43c8668cf49b8ac1c81df872bc1cb",
       "version_major": 2,
       "version_minor": 0
      },
      "text/plain": [
       "HBox(children=(IntProgress(value=0, max=23), HTML(value='')))"
      ]
     },
     "metadata": {},
     "output_type": "display_data"
    },
    {
     "name": "stdout",
     "output_type": "stream",
     "text": [
      "\n"
     ]
    },
    {
     "data": {
      "application/vnd.jupyter.widget-view+json": {
       "model_id": "2243875667ff4ea1a280a7c642d864c4",
       "version_major": 2,
       "version_minor": 0
      },
      "text/plain": [
       "HBox(children=(IntProgress(value=0, max=17), HTML(value='')))"
      ]
     },
     "metadata": {},
     "output_type": "display_data"
    },
    {
     "name": "stdout",
     "output_type": "stream",
     "text": [
      "\n"
     ]
    },
    {
     "data": {
      "application/vnd.jupyter.widget-view+json": {
       "model_id": "bd09ed6844d246b6bd64c4d6b31de92e",
       "version_major": 2,
       "version_minor": 0
      },
      "text/plain": [
       "HBox(children=(IntProgress(value=0, max=21), HTML(value='')))"
      ]
     },
     "metadata": {},
     "output_type": "display_data"
    },
    {
     "name": "stdout",
     "output_type": "stream",
     "text": [
      "\n"
     ]
    },
    {
     "data": {
      "application/vnd.jupyter.widget-view+json": {
       "model_id": "4b13e219da9e46b49cd77c745dd9e575",
       "version_major": 2,
       "version_minor": 0
      },
      "text/plain": [
       "HBox(children=(IntProgress(value=0, max=22), HTML(value='')))"
      ]
     },
     "metadata": {},
     "output_type": "display_data"
    },
    {
     "name": "stdout",
     "output_type": "stream",
     "text": [
      "\n"
     ]
    },
    {
     "data": {
      "application/vnd.jupyter.widget-view+json": {
       "model_id": "e002e06d817d43c98bf4ae54f5df21c2",
       "version_major": 2,
       "version_minor": 0
      },
      "text/plain": [
       "HBox(children=(IntProgress(value=0, max=11), HTML(value='')))"
      ]
     },
     "metadata": {},
     "output_type": "display_data"
    },
    {
     "name": "stdout",
     "output_type": "stream",
     "text": [
      "\n"
     ]
    },
    {
     "data": {
      "application/vnd.jupyter.widget-view+json": {
       "model_id": "5e8bd641a4d049d0a5598a5568847896",
       "version_major": 2,
       "version_minor": 0
      },
      "text/plain": [
       "HBox(children=(IntProgress(value=0, max=13), HTML(value='')))"
      ]
     },
     "metadata": {},
     "output_type": "display_data"
    },
    {
     "name": "stdout",
     "output_type": "stream",
     "text": [
      "\n"
     ]
    },
    {
     "data": {
      "application/vnd.jupyter.widget-view+json": {
       "model_id": "2c80c4cf2a0545b8ba657ca8697382fb",
       "version_major": 2,
       "version_minor": 0
      },
      "text/plain": [
       "HBox(children=(IntProgress(value=0, max=17), HTML(value='')))"
      ]
     },
     "metadata": {},
     "output_type": "display_data"
    },
    {
     "name": "stdout",
     "output_type": "stream",
     "text": [
      "\n"
     ]
    },
    {
     "data": {
      "application/vnd.jupyter.widget-view+json": {
       "model_id": "d1d38d3c2ded43e9b1e82c10ff2c27be",
       "version_major": 2,
       "version_minor": 0
      },
      "text/plain": [
       "HBox(children=(IntProgress(value=0, max=16), HTML(value='')))"
      ]
     },
     "metadata": {},
     "output_type": "display_data"
    },
    {
     "name": "stdout",
     "output_type": "stream",
     "text": [
      "\n"
     ]
    },
    {
     "data": {
      "application/vnd.jupyter.widget-view+json": {
       "model_id": "47c2231a4e0d4c8a8f8d626768a9e269",
       "version_major": 2,
       "version_minor": 0
      },
      "text/plain": [
       "HBox(children=(IntProgress(value=0, max=16), HTML(value='')))"
      ]
     },
     "metadata": {},
     "output_type": "display_data"
    },
    {
     "name": "stdout",
     "output_type": "stream",
     "text": [
      "\n"
     ]
    },
    {
     "data": {
      "application/vnd.jupyter.widget-view+json": {
       "model_id": "1947fbbb800a48bdbf7610edb3717c72",
       "version_major": 2,
       "version_minor": 0
      },
      "text/plain": [
       "HBox(children=(IntProgress(value=0, max=18), HTML(value='')))"
      ]
     },
     "metadata": {},
     "output_type": "display_data"
    },
    {
     "name": "stdout",
     "output_type": "stream",
     "text": [
      "\n"
     ]
    },
    {
     "data": {
      "application/vnd.jupyter.widget-view+json": {
       "model_id": "513fdcf49d864faf97f713a0905eb235",
       "version_major": 2,
       "version_minor": 0
      },
      "text/plain": [
       "HBox(children=(IntProgress(value=0, max=14), HTML(value='')))"
      ]
     },
     "metadata": {},
     "output_type": "display_data"
    },
    {
     "name": "stdout",
     "output_type": "stream",
     "text": [
      "\n"
     ]
    },
    {
     "data": {
      "application/vnd.jupyter.widget-view+json": {
       "model_id": "e55c9798278b4734bb42eafbdbe22bea",
       "version_major": 2,
       "version_minor": 0
      },
      "text/plain": [
       "HBox(children=(IntProgress(value=0, max=11), HTML(value='')))"
      ]
     },
     "metadata": {},
     "output_type": "display_data"
    },
    {
     "name": "stdout",
     "output_type": "stream",
     "text": [
      "\n"
     ]
    },
    {
     "data": {
      "application/vnd.jupyter.widget-view+json": {
       "model_id": "30218f3a8deb4821b03ceaacb0d3ed9d",
       "version_major": 2,
       "version_minor": 0
      },
      "text/plain": [
       "HBox(children=(IntProgress(value=0, max=11), HTML(value='')))"
      ]
     },
     "metadata": {},
     "output_type": "display_data"
    },
    {
     "name": "stdout",
     "output_type": "stream",
     "text": [
      "\n"
     ]
    },
    {
     "data": {
      "application/vnd.jupyter.widget-view+json": {
       "model_id": "bc799ea02b90406d97af0242e061fdcd",
       "version_major": 2,
       "version_minor": 0
      },
      "text/plain": [
       "HBox(children=(IntProgress(value=0, max=13), HTML(value='')))"
      ]
     },
     "metadata": {},
     "output_type": "display_data"
    },
    {
     "name": "stdout",
     "output_type": "stream",
     "text": [
      "\n"
     ]
    },
    {
     "data": {
      "application/vnd.jupyter.widget-view+json": {
       "model_id": "50edd6b6ecf34fe7af166e9a8940e5fb",
       "version_major": 2,
       "version_minor": 0
      },
      "text/plain": [
       "HBox(children=(IntProgress(value=0, max=16), HTML(value='')))"
      ]
     },
     "metadata": {},
     "output_type": "display_data"
    },
    {
     "name": "stdout",
     "output_type": "stream",
     "text": [
      "\n"
     ]
    },
    {
     "data": {
      "application/vnd.jupyter.widget-view+json": {
       "model_id": "90ece7daffd04a1997b726a41aba7709",
       "version_major": 2,
       "version_minor": 0
      },
      "text/plain": [
       "HBox(children=(IntProgress(value=0, max=18), HTML(value='')))"
      ]
     },
     "metadata": {},
     "output_type": "display_data"
    },
    {
     "name": "stdout",
     "output_type": "stream",
     "text": [
      "\n"
     ]
    },
    {
     "data": {
      "application/vnd.jupyter.widget-view+json": {
       "model_id": "8e0e4af863af46c985da8f0637911416",
       "version_major": 2,
       "version_minor": 0
      },
      "text/plain": [
       "HBox(children=(IntProgress(value=0, max=18), HTML(value='')))"
      ]
     },
     "metadata": {},
     "output_type": "display_data"
    },
    {
     "name": "stdout",
     "output_type": "stream",
     "text": [
      "\n"
     ]
    },
    {
     "data": {
      "application/vnd.jupyter.widget-view+json": {
       "model_id": "bc1c20b2e19347e48740489bb945f03a",
       "version_major": 2,
       "version_minor": 0
      },
      "text/plain": [
       "HBox(children=(IntProgress(value=0, max=17), HTML(value='')))"
      ]
     },
     "metadata": {},
     "output_type": "display_data"
    },
    {
     "name": "stdout",
     "output_type": "stream",
     "text": [
      "\n"
     ]
    },
    {
     "data": {
      "application/vnd.jupyter.widget-view+json": {
       "model_id": "773717670fab40b4a3e1bff625cb4baa",
       "version_major": 2,
       "version_minor": 0
      },
      "text/plain": [
       "HBox(children=(IntProgress(value=0, max=11), HTML(value='')))"
      ]
     },
     "metadata": {},
     "output_type": "display_data"
    },
    {
     "name": "stdout",
     "output_type": "stream",
     "text": [
      "\n"
     ]
    },
    {
     "data": {
      "application/vnd.jupyter.widget-view+json": {
       "model_id": "e85e1bbd0b3345a6a92e8e8313013288",
       "version_major": 2,
       "version_minor": 0
      },
      "text/plain": [
       "HBox(children=(IntProgress(value=0, max=12), HTML(value='')))"
      ]
     },
     "metadata": {},
     "output_type": "display_data"
    },
    {
     "name": "stdout",
     "output_type": "stream",
     "text": [
      "\n"
     ]
    },
    {
     "data": {
      "application/vnd.jupyter.widget-view+json": {
       "model_id": "c20b911cdde64e2f9845319d26f04cb3",
       "version_major": 2,
       "version_minor": 0
      },
      "text/plain": [
       "HBox(children=(IntProgress(value=0, max=20), HTML(value='')))"
      ]
     },
     "metadata": {},
     "output_type": "display_data"
    },
    {
     "name": "stdout",
     "output_type": "stream",
     "text": [
      "\n"
     ]
    },
    {
     "data": {
      "application/vnd.jupyter.widget-view+json": {
       "model_id": "370a00c0a7f0436db7b4b051ff0c48f0",
       "version_major": 2,
       "version_minor": 0
      },
      "text/plain": [
       "HBox(children=(IntProgress(value=0, max=23), HTML(value='')))"
      ]
     },
     "metadata": {},
     "output_type": "display_data"
    },
    {
     "name": "stdout",
     "output_type": "stream",
     "text": [
      "\n"
     ]
    },
    {
     "data": {
      "application/vnd.jupyter.widget-view+json": {
       "model_id": "5557ec24e5774540b904b4cb234b94e5",
       "version_major": 2,
       "version_minor": 0
      },
      "text/plain": [
       "HBox(children=(IntProgress(value=0, max=18), HTML(value='')))"
      ]
     },
     "metadata": {},
     "output_type": "display_data"
    },
    {
     "name": "stdout",
     "output_type": "stream",
     "text": [
      "\n"
     ]
    },
    {
     "data": {
      "application/vnd.jupyter.widget-view+json": {
       "model_id": "b2080746ec3246cd8564ad6c4c3096ed",
       "version_major": 2,
       "version_minor": 0
      },
      "text/plain": [
       "HBox(children=(IntProgress(value=0, max=19), HTML(value='')))"
      ]
     },
     "metadata": {},
     "output_type": "display_data"
    },
    {
     "name": "stdout",
     "output_type": "stream",
     "text": [
      "\n"
     ]
    },
    {
     "data": {
      "application/vnd.jupyter.widget-view+json": {
       "model_id": "5cb8c1d8a4ef42d1a1055d5871119e0b",
       "version_major": 2,
       "version_minor": 0
      },
      "text/plain": [
       "HBox(children=(IntProgress(value=0, max=22), HTML(value='')))"
      ]
     },
     "metadata": {},
     "output_type": "display_data"
    },
    {
     "name": "stdout",
     "output_type": "stream",
     "text": [
      "\n"
     ]
    },
    {
     "data": {
      "application/vnd.jupyter.widget-view+json": {
       "model_id": "9cc3a7f849dd4da7be59249d4fccd715",
       "version_major": 2,
       "version_minor": 0
      },
      "text/plain": [
       "HBox(children=(IntProgress(value=0, max=11), HTML(value='')))"
      ]
     },
     "metadata": {},
     "output_type": "display_data"
    },
    {
     "name": "stdout",
     "output_type": "stream",
     "text": [
      "\n"
     ]
    },
    {
     "data": {
      "application/vnd.jupyter.widget-view+json": {
       "model_id": "c96fec8ea5cb4e5aa155fa8d94c92490",
       "version_major": 2,
       "version_minor": 0
      },
      "text/plain": [
       "HBox(children=(IntProgress(value=0, max=11), HTML(value='')))"
      ]
     },
     "metadata": {},
     "output_type": "display_data"
    },
    {
     "name": "stdout",
     "output_type": "stream",
     "text": [
      "\n"
     ]
    },
    {
     "data": {
      "application/vnd.jupyter.widget-view+json": {
       "model_id": "b8e00fffe6dd45009a4b1ec3de6f84b8",
       "version_major": 2,
       "version_minor": 0
      },
      "text/plain": [
       "HBox(children=(IntProgress(value=0, max=20), HTML(value='')))"
      ]
     },
     "metadata": {},
     "output_type": "display_data"
    },
    {
     "name": "stdout",
     "output_type": "stream",
     "text": [
      "\n"
     ]
    },
    {
     "data": {
      "application/vnd.jupyter.widget-view+json": {
       "model_id": "5478c0528fdd458d8d1ffcd4e2df6932",
       "version_major": 2,
       "version_minor": 0
      },
      "text/plain": [
       "HBox(children=(IntProgress(value=0, max=21), HTML(value='')))"
      ]
     },
     "metadata": {},
     "output_type": "display_data"
    },
    {
     "name": "stdout",
     "output_type": "stream",
     "text": [
      "\n"
     ]
    },
    {
     "data": {
      "application/vnd.jupyter.widget-view+json": {
       "model_id": "884cd6c2a5204e97bb624adf5e9f933d",
       "version_major": 2,
       "version_minor": 0
      },
      "text/plain": [
       "HBox(children=(IntProgress(value=0, max=20), HTML(value='')))"
      ]
     },
     "metadata": {},
     "output_type": "display_data"
    },
    {
     "name": "stdout",
     "output_type": "stream",
     "text": [
      "\n"
     ]
    },
    {
     "data": {
      "application/vnd.jupyter.widget-view+json": {
       "model_id": "39f3b701b727429fa41f36696edd2686",
       "version_major": 2,
       "version_minor": 0
      },
      "text/plain": [
       "HBox(children=(IntProgress(value=0, max=21), HTML(value='')))"
      ]
     },
     "metadata": {},
     "output_type": "display_data"
    },
    {
     "name": "stdout",
     "output_type": "stream",
     "text": [
      "\n"
     ]
    },
    {
     "data": {
      "application/vnd.jupyter.widget-view+json": {
       "model_id": "b50f37ba7e9f43a198815c368aa15dc2",
       "version_major": 2,
       "version_minor": 0
      },
      "text/plain": [
       "HBox(children=(IntProgress(value=0, max=17), HTML(value='')))"
      ]
     },
     "metadata": {},
     "output_type": "display_data"
    },
    {
     "name": "stdout",
     "output_type": "stream",
     "text": [
      "\n"
     ]
    },
    {
     "data": {
      "application/vnd.jupyter.widget-view+json": {
       "model_id": "c7e7f8afed424bf694647f654bcb928a",
       "version_major": 2,
       "version_minor": 0
      },
      "text/plain": [
       "HBox(children=(IntProgress(value=0, max=11), HTML(value='')))"
      ]
     },
     "metadata": {},
     "output_type": "display_data"
    },
    {
     "name": "stdout",
     "output_type": "stream",
     "text": [
      "\n"
     ]
    },
    {
     "data": {
      "application/vnd.jupyter.widget-view+json": {
       "model_id": "bf84062e26ba4623942f1a938e337772",
       "version_major": 2,
       "version_minor": 0
      },
      "text/plain": [
       "HBox(children=(IntProgress(value=0, max=12), HTML(value='')))"
      ]
     },
     "metadata": {},
     "output_type": "display_data"
    },
    {
     "name": "stdout",
     "output_type": "stream",
     "text": [
      "\n"
     ]
    },
    {
     "data": {
      "application/vnd.jupyter.widget-view+json": {
       "model_id": "dfcab67b17f84a86b4a6e2c93e1d7e47",
       "version_major": 2,
       "version_minor": 0
      },
      "text/plain": [
       "HBox(children=(IntProgress(value=0, max=15), HTML(value='')))"
      ]
     },
     "metadata": {},
     "output_type": "display_data"
    },
    {
     "name": "stdout",
     "output_type": "stream",
     "text": [
      "\n"
     ]
    },
    {
     "data": {
      "application/vnd.jupyter.widget-view+json": {
       "model_id": "921d6ce82e044efba6e90d64dfef8e4c",
       "version_major": 2,
       "version_minor": 0
      },
      "text/plain": [
       "HBox(children=(IntProgress(value=0, max=17), HTML(value='')))"
      ]
     },
     "metadata": {},
     "output_type": "display_data"
    },
    {
     "name": "stdout",
     "output_type": "stream",
     "text": [
      "\n"
     ]
    },
    {
     "data": {
      "application/vnd.jupyter.widget-view+json": {
       "model_id": "f0b23f89fd0d4643a576bbc8698845c8",
       "version_major": 2,
       "version_minor": 0
      },
      "text/plain": [
       "HBox(children=(IntProgress(value=0, max=16), HTML(value='')))"
      ]
     },
     "metadata": {},
     "output_type": "display_data"
    },
    {
     "name": "stdout",
     "output_type": "stream",
     "text": [
      "\n"
     ]
    },
    {
     "data": {
      "application/vnd.jupyter.widget-view+json": {
       "model_id": "8b0181f2ac0e468b97c3336cbfc399fb",
       "version_major": 2,
       "version_minor": 0
      },
      "text/plain": [
       "HBox(children=(IntProgress(value=0, max=16), HTML(value='')))"
      ]
     },
     "metadata": {},
     "output_type": "display_data"
    },
    {
     "name": "stdout",
     "output_type": "stream",
     "text": [
      "\n"
     ]
    },
    {
     "data": {
      "application/vnd.jupyter.widget-view+json": {
       "model_id": "9e09f2fa3b0f452a90b53d5259ff50c9",
       "version_major": 2,
       "version_minor": 0
      },
      "text/plain": [
       "HBox(children=(IntProgress(value=0, max=17), HTML(value='')))"
      ]
     },
     "metadata": {},
     "output_type": "display_data"
    },
    {
     "name": "stdout",
     "output_type": "stream",
     "text": [
      "\n"
     ]
    },
    {
     "data": {
      "application/vnd.jupyter.widget-view+json": {
       "model_id": "aa61e6e58ae54c969a108556e79fee51",
       "version_major": 2,
       "version_minor": 0
      },
      "text/plain": [
       "HBox(children=(IntProgress(value=0, max=11), HTML(value='')))"
      ]
     },
     "metadata": {},
     "output_type": "display_data"
    },
    {
     "name": "stdout",
     "output_type": "stream",
     "text": [
      "\n"
     ]
    },
    {
     "data": {
      "application/vnd.jupyter.widget-view+json": {
       "model_id": "bbe1ee52689a4d1899e980caf7fcbfeb",
       "version_major": 2,
       "version_minor": 0
      },
      "text/plain": [
       "HBox(children=(IntProgress(value=0, max=11), HTML(value='')))"
      ]
     },
     "metadata": {},
     "output_type": "display_data"
    },
    {
     "name": "stdout",
     "output_type": "stream",
     "text": [
      "\n"
     ]
    },
    {
     "data": {
      "application/vnd.jupyter.widget-view+json": {
       "model_id": "54734c766d184a26b3b93f472826eb94",
       "version_major": 2,
       "version_minor": 0
      },
      "text/plain": [
       "HBox(children=(IntProgress(value=0, max=13), HTML(value='')))"
      ]
     },
     "metadata": {},
     "output_type": "display_data"
    },
    {
     "name": "stdout",
     "output_type": "stream",
     "text": [
      "\n"
     ]
    },
    {
     "data": {
      "application/vnd.jupyter.widget-view+json": {
       "model_id": "ab22cd8a0d7040288d413c2c2096fe60",
       "version_major": 2,
       "version_minor": 0
      },
      "text/plain": [
       "HBox(children=(IntProgress(value=0, max=22), HTML(value='')))"
      ]
     },
     "metadata": {},
     "output_type": "display_data"
    },
    {
     "name": "stdout",
     "output_type": "stream",
     "text": [
      "\n"
     ]
    },
    {
     "data": {
      "application/vnd.jupyter.widget-view+json": {
       "model_id": "3cd23b09321e4852a3ceb218beb5291f",
       "version_major": 2,
       "version_minor": 0
      },
      "text/plain": [
       "HBox(children=(IntProgress(value=0, max=17), HTML(value='')))"
      ]
     },
     "metadata": {},
     "output_type": "display_data"
    },
    {
     "name": "stdout",
     "output_type": "stream",
     "text": [
      "\n"
     ]
    },
    {
     "data": {
      "application/vnd.jupyter.widget-view+json": {
       "model_id": "767eaf87974c4b97914705cf90c71d3a",
       "version_major": 2,
       "version_minor": 0
      },
      "text/plain": [
       "HBox(children=(IntProgress(value=0, max=18), HTML(value='')))"
      ]
     },
     "metadata": {},
     "output_type": "display_data"
    },
    {
     "name": "stdout",
     "output_type": "stream",
     "text": [
      "\n"
     ]
    },
    {
     "data": {
      "application/vnd.jupyter.widget-view+json": {
       "model_id": "5b6aa3926442400ab0958ebe4df2ff88",
       "version_major": 2,
       "version_minor": 0
      },
      "text/plain": [
       "HBox(children=(IntProgress(value=0, max=20), HTML(value='')))"
      ]
     },
     "metadata": {},
     "output_type": "display_data"
    },
    {
     "name": "stdout",
     "output_type": "stream",
     "text": [
      "\n"
     ]
    },
    {
     "data": {
      "application/vnd.jupyter.widget-view+json": {
       "model_id": "50725aa03b9b4cd4ad689f79d0f880de",
       "version_major": 2,
       "version_minor": 0
      },
      "text/plain": [
       "HBox(children=(IntProgress(value=0, max=12), HTML(value='')))"
      ]
     },
     "metadata": {},
     "output_type": "display_data"
    },
    {
     "name": "stdout",
     "output_type": "stream",
     "text": [
      "\n"
     ]
    },
    {
     "data": {
      "application/vnd.jupyter.widget-view+json": {
       "model_id": "b2a1a40dcb3e4bebbddf12957e7ac813",
       "version_major": 2,
       "version_minor": 0
      },
      "text/plain": [
       "HBox(children=(IntProgress(value=0, max=11), HTML(value='')))"
      ]
     },
     "metadata": {},
     "output_type": "display_data"
    },
    {
     "name": "stdout",
     "output_type": "stream",
     "text": [
      "\n"
     ]
    },
    {
     "data": {
      "application/vnd.jupyter.widget-view+json": {
       "model_id": "ecd850ec354a48c4a7e52ec1de4239b7",
       "version_major": 2,
       "version_minor": 0
      },
      "text/plain": [
       "HBox(children=(IntProgress(value=0, max=17), HTML(value='')))"
      ]
     },
     "metadata": {},
     "output_type": "display_data"
    },
    {
     "name": "stdout",
     "output_type": "stream",
     "text": [
      "\n"
     ]
    },
    {
     "data": {
      "application/vnd.jupyter.widget-view+json": {
       "model_id": "2cf7be501285415783458b0b89f77089",
       "version_major": 2,
       "version_minor": 0
      },
      "text/plain": [
       "HBox(children=(IntProgress(value=0, max=22), HTML(value='')))"
      ]
     },
     "metadata": {},
     "output_type": "display_data"
    },
    {
     "name": "stdout",
     "output_type": "stream",
     "text": [
      "\n"
     ]
    },
    {
     "data": {
      "application/vnd.jupyter.widget-view+json": {
       "model_id": "b3e34c74f33943b6ad5b065910169e4f",
       "version_major": 2,
       "version_minor": 0
      },
      "text/plain": [
       "HBox(children=(IntProgress(value=0, max=15), HTML(value='')))"
      ]
     },
     "metadata": {},
     "output_type": "display_data"
    },
    {
     "name": "stdout",
     "output_type": "stream",
     "text": [
      "\n"
     ]
    },
    {
     "data": {
      "application/vnd.jupyter.widget-view+json": {
       "model_id": "d5c8c617de25421292ef7509d21ef50f",
       "version_major": 2,
       "version_minor": 0
      },
      "text/plain": [
       "HBox(children=(IntProgress(value=0, max=19), HTML(value='')))"
      ]
     },
     "metadata": {},
     "output_type": "display_data"
    },
    {
     "name": "stdout",
     "output_type": "stream",
     "text": [
      "\n"
     ]
    },
    {
     "data": {
      "application/vnd.jupyter.widget-view+json": {
       "model_id": "e62f671df66444beb5c28be22441aca8",
       "version_major": 2,
       "version_minor": 0
      },
      "text/plain": [
       "HBox(children=(IntProgress(value=0, max=18), HTML(value='')))"
      ]
     },
     "metadata": {},
     "output_type": "display_data"
    },
    {
     "name": "stdout",
     "output_type": "stream",
     "text": [
      "\n"
     ]
    },
    {
     "data": {
      "application/vnd.jupyter.widget-view+json": {
       "model_id": "16893610cbb640d984ee6badf23049be",
       "version_major": 2,
       "version_minor": 0
      },
      "text/plain": [
       "HBox(children=(IntProgress(value=0, max=11), HTML(value='')))"
      ]
     },
     "metadata": {},
     "output_type": "display_data"
    },
    {
     "name": "stdout",
     "output_type": "stream",
     "text": [
      "\n"
     ]
    },
    {
     "data": {
      "application/vnd.jupyter.widget-view+json": {
       "model_id": "7a3418d4147042f593e6c88678656b29",
       "version_major": 2,
       "version_minor": 0
      },
      "text/plain": [
       "HBox(children=(IntProgress(value=0, max=14), HTML(value='')))"
      ]
     },
     "metadata": {},
     "output_type": "display_data"
    },
    {
     "name": "stdout",
     "output_type": "stream",
     "text": [
      "\n"
     ]
    },
    {
     "data": {
      "application/vnd.jupyter.widget-view+json": {
       "model_id": "36c0ff28b7a84a14b5273a166baed3f7",
       "version_major": 2,
       "version_minor": 0
      },
      "text/plain": [
       "HBox(children=(IntProgress(value=0, max=15), HTML(value='')))"
      ]
     },
     "metadata": {},
     "output_type": "display_data"
    },
    {
     "name": "stdout",
     "output_type": "stream",
     "text": [
      "\n"
     ]
    },
    {
     "data": {
      "application/vnd.jupyter.widget-view+json": {
       "model_id": "a1cc13ed9d9e43e38492fe72a5d38b9e",
       "version_major": 2,
       "version_minor": 0
      },
      "text/plain": [
       "HBox(children=(IntProgress(value=0, max=18), HTML(value='')))"
      ]
     },
     "metadata": {},
     "output_type": "display_data"
    },
    {
     "name": "stdout",
     "output_type": "stream",
     "text": [
      "\n"
     ]
    },
    {
     "data": {
      "application/vnd.jupyter.widget-view+json": {
       "model_id": "7334fc812f764cc3bcd5dd64ce8172e9",
       "version_major": 2,
       "version_minor": 0
      },
      "text/plain": [
       "HBox(children=(IntProgress(value=0, max=18), HTML(value='')))"
      ]
     },
     "metadata": {},
     "output_type": "display_data"
    },
    {
     "name": "stdout",
     "output_type": "stream",
     "text": [
      "\n"
     ]
    },
    {
     "data": {
      "application/vnd.jupyter.widget-view+json": {
       "model_id": "277b26a27e494a16a7d6497969eafb55",
       "version_major": 2,
       "version_minor": 0
      },
      "text/plain": [
       "HBox(children=(IntProgress(value=0, max=19), HTML(value='')))"
      ]
     },
     "metadata": {},
     "output_type": "display_data"
    },
    {
     "name": "stdout",
     "output_type": "stream",
     "text": [
      "\n"
     ]
    },
    {
     "data": {
      "application/vnd.jupyter.widget-view+json": {
       "model_id": "750d06b26c024ac893888436415193c8",
       "version_major": 2,
       "version_minor": 0
      },
      "text/plain": [
       "HBox(children=(IntProgress(value=0, max=18), HTML(value='')))"
      ]
     },
     "metadata": {},
     "output_type": "display_data"
    },
    {
     "name": "stdout",
     "output_type": "stream",
     "text": [
      "\n"
     ]
    },
    {
     "data": {
      "application/vnd.jupyter.widget-view+json": {
       "model_id": "fddd97a2460a4b1c97b4d0c2acd45c64",
       "version_major": 2,
       "version_minor": 0
      },
      "text/plain": [
       "HBox(children=(IntProgress(value=0, max=11), HTML(value='')))"
      ]
     },
     "metadata": {},
     "output_type": "display_data"
    },
    {
     "name": "stdout",
     "output_type": "stream",
     "text": [
      "\n"
     ]
    },
    {
     "data": {
      "application/vnd.jupyter.widget-view+json": {
       "model_id": "4410754cfd624898bcb3e7e7e80f780d",
       "version_major": 2,
       "version_minor": 0
      },
      "text/plain": [
       "HBox(children=(IntProgress(value=0, max=12), HTML(value='')))"
      ]
     },
     "metadata": {},
     "output_type": "display_data"
    },
    {
     "name": "stdout",
     "output_type": "stream",
     "text": [
      "\n"
     ]
    },
    {
     "data": {
      "application/vnd.jupyter.widget-view+json": {
       "model_id": "e2fddf0b441c4ec9b256d50f80b19e79",
       "version_major": 2,
       "version_minor": 0
      },
      "text/plain": [
       "HBox(children=(IntProgress(value=0, max=13), HTML(value='')))"
      ]
     },
     "metadata": {},
     "output_type": "display_data"
    },
    {
     "name": "stdout",
     "output_type": "stream",
     "text": [
      "\n"
     ]
    },
    {
     "data": {
      "application/vnd.jupyter.widget-view+json": {
       "model_id": "608e10e27e5d491183ebf27021d06b20",
       "version_major": 2,
       "version_minor": 0
      },
      "text/plain": [
       "HBox(children=(IntProgress(value=0, max=25), HTML(value='')))"
      ]
     },
     "metadata": {},
     "output_type": "display_data"
    },
    {
     "name": "stdout",
     "output_type": "stream",
     "text": [
      "\n"
     ]
    },
    {
     "data": {
      "application/vnd.jupyter.widget-view+json": {
       "model_id": "65f7a8ad490d4c35b23f062c9a6ad9e7",
       "version_major": 2,
       "version_minor": 0
      },
      "text/plain": [
       "HBox(children=(IntProgress(value=0, max=18), HTML(value='')))"
      ]
     },
     "metadata": {},
     "output_type": "display_data"
    },
    {
     "name": "stdout",
     "output_type": "stream",
     "text": [
      "\n"
     ]
    },
    {
     "data": {
      "application/vnd.jupyter.widget-view+json": {
       "model_id": "ee42dcdf65874cac88a590bad52c10f4",
       "version_major": 2,
       "version_minor": 0
      },
      "text/plain": [
       "HBox(children=(IntProgress(value=0, max=18), HTML(value='')))"
      ]
     },
     "metadata": {},
     "output_type": "display_data"
    },
    {
     "name": "stdout",
     "output_type": "stream",
     "text": [
      "\n"
     ]
    },
    {
     "data": {
      "application/vnd.jupyter.widget-view+json": {
       "model_id": "db6b0c198ce04a22943d74722ec39321",
       "version_major": 2,
       "version_minor": 0
      },
      "text/plain": [
       "HBox(children=(IntProgress(value=0, max=17), HTML(value='')))"
      ]
     },
     "metadata": {},
     "output_type": "display_data"
    },
    {
     "name": "stdout",
     "output_type": "stream",
     "text": [
      "\n"
     ]
    },
    {
     "data": {
      "application/vnd.jupyter.widget-view+json": {
       "model_id": "521092972901462e91a797bd536fff32",
       "version_major": 2,
       "version_minor": 0
      },
      "text/plain": [
       "HBox(children=(IntProgress(value=0, max=11), HTML(value='')))"
      ]
     },
     "metadata": {},
     "output_type": "display_data"
    },
    {
     "name": "stdout",
     "output_type": "stream",
     "text": [
      "\n"
     ]
    },
    {
     "data": {
      "application/vnd.jupyter.widget-view+json": {
       "model_id": "af3f29115b034ff298bc3251b3a30592",
       "version_major": 2,
       "version_minor": 0
      },
      "text/plain": [
       "HBox(children=(IntProgress(value=0, max=14), HTML(value='')))"
      ]
     },
     "metadata": {},
     "output_type": "display_data"
    },
    {
     "name": "stdout",
     "output_type": "stream",
     "text": [
      "\n"
     ]
    },
    {
     "data": {
      "application/vnd.jupyter.widget-view+json": {
       "model_id": "6c7d86d86bab4b328bcf5ac3a26a273b",
       "version_major": 2,
       "version_minor": 0
      },
      "text/plain": [
       "HBox(children=(IntProgress(value=0, max=15), HTML(value='')))"
      ]
     },
     "metadata": {},
     "output_type": "display_data"
    },
    {
     "name": "stdout",
     "output_type": "stream",
     "text": [
      "\n"
     ]
    },
    {
     "data": {
      "application/vnd.jupyter.widget-view+json": {
       "model_id": "8843701228ce4a0382dd2194f3ffc2be",
       "version_major": 2,
       "version_minor": 0
      },
      "text/plain": [
       "HBox(children=(IntProgress(value=0, max=16), HTML(value='')))"
      ]
     },
     "metadata": {},
     "output_type": "display_data"
    },
    {
     "name": "stdout",
     "output_type": "stream",
     "text": [
      "\n"
     ]
    },
    {
     "data": {
      "application/vnd.jupyter.widget-view+json": {
       "model_id": "a85cbc3d45594c72beebb69dc1177c5d",
       "version_major": 2,
       "version_minor": 0
      },
      "text/plain": [
       "HBox(children=(IntProgress(value=0, max=16), HTML(value='')))"
      ]
     },
     "metadata": {},
     "output_type": "display_data"
    },
    {
     "name": "stdout",
     "output_type": "stream",
     "text": [
      "\n"
     ]
    },
    {
     "data": {
      "application/vnd.jupyter.widget-view+json": {
       "model_id": "caae97cf426b40219bdb66f023cd7c0d",
       "version_major": 2,
       "version_minor": 0
      },
      "text/plain": [
       "HBox(children=(IntProgress(value=0, max=17), HTML(value='')))"
      ]
     },
     "metadata": {},
     "output_type": "display_data"
    },
    {
     "name": "stdout",
     "output_type": "stream",
     "text": [
      "\n"
     ]
    },
    {
     "data": {
      "application/vnd.jupyter.widget-view+json": {
       "model_id": "f8a3362e00e2456494bb67f504452a4c",
       "version_major": 2,
       "version_minor": 0
      },
      "text/plain": [
       "HBox(children=(IntProgress(value=0, max=16), HTML(value='')))"
      ]
     },
     "metadata": {},
     "output_type": "display_data"
    },
    {
     "name": "stdout",
     "output_type": "stream",
     "text": [
      "\n"
     ]
    },
    {
     "data": {
      "application/vnd.jupyter.widget-view+json": {
       "model_id": "6ee3474237904781b0511c54e80a3497",
       "version_major": 2,
       "version_minor": 0
      },
      "text/plain": [
       "HBox(children=(IntProgress(value=0, max=11), HTML(value='')))"
      ]
     },
     "metadata": {},
     "output_type": "display_data"
    },
    {
     "name": "stdout",
     "output_type": "stream",
     "text": [
      "\n"
     ]
    },
    {
     "data": {
      "application/vnd.jupyter.widget-view+json": {
       "model_id": "f8c3683a8dea468a9d792798cdc03bc0",
       "version_major": 2,
       "version_minor": 0
      },
      "text/plain": [
       "HBox(children=(IntProgress(value=0, max=15), HTML(value='')))"
      ]
     },
     "metadata": {},
     "output_type": "display_data"
    },
    {
     "name": "stdout",
     "output_type": "stream",
     "text": [
      "\n"
     ]
    },
    {
     "data": {
      "application/vnd.jupyter.widget-view+json": {
       "model_id": "7a2f71f1c3bd4101b16459cc1f5f3192",
       "version_major": 2,
       "version_minor": 0
      },
      "text/plain": [
       "HBox(children=(IntProgress(value=0, max=19), HTML(value='')))"
      ]
     },
     "metadata": {},
     "output_type": "display_data"
    },
    {
     "name": "stdout",
     "output_type": "stream",
     "text": [
      "\n"
     ]
    },
    {
     "data": {
      "application/vnd.jupyter.widget-view+json": {
       "model_id": "561380f8deb84c8baffcfcfbcd374d9e",
       "version_major": 2,
       "version_minor": 0
      },
      "text/plain": [
       "HBox(children=(IntProgress(value=0, max=20), HTML(value='')))"
      ]
     },
     "metadata": {},
     "output_type": "display_data"
    },
    {
     "name": "stdout",
     "output_type": "stream",
     "text": [
      "\n"
     ]
    },
    {
     "data": {
      "application/vnd.jupyter.widget-view+json": {
       "model_id": "a8f5d87c7df242448ca986b286ba48be",
       "version_major": 2,
       "version_minor": 0
      },
      "text/plain": [
       "HBox(children=(IntProgress(value=0, max=16), HTML(value='')))"
      ]
     },
     "metadata": {},
     "output_type": "display_data"
    },
    {
     "name": "stdout",
     "output_type": "stream",
     "text": [
      "\n"
     ]
    },
    {
     "data": {
      "application/vnd.jupyter.widget-view+json": {
       "model_id": "e819fe62ef1f47b5b0d51479ae9aa6d0",
       "version_major": 2,
       "version_minor": 0
      },
      "text/plain": [
       "HBox(children=(IntProgress(value=0, max=17), HTML(value='')))"
      ]
     },
     "metadata": {},
     "output_type": "display_data"
    },
    {
     "name": "stdout",
     "output_type": "stream",
     "text": [
      "\n"
     ]
    },
    {
     "data": {
      "application/vnd.jupyter.widget-view+json": {
       "model_id": "c8baf6c47b604133965beaf11342934d",
       "version_major": 2,
       "version_minor": 0
      },
      "text/plain": [
       "HBox(children=(IntProgress(value=0, max=18), HTML(value='')))"
      ]
     },
     "metadata": {},
     "output_type": "display_data"
    },
    {
     "name": "stdout",
     "output_type": "stream",
     "text": [
      "\n"
     ]
    },
    {
     "data": {
      "application/vnd.jupyter.widget-view+json": {
       "model_id": "3dc29ad319e84f41b261f2a75a02d894",
       "version_major": 2,
       "version_minor": 0
      },
      "text/plain": [
       "HBox(children=(IntProgress(value=0, max=11), HTML(value='')))"
      ]
     },
     "metadata": {},
     "output_type": "display_data"
    },
    {
     "name": "stdout",
     "output_type": "stream",
     "text": [
      "\n"
     ]
    },
    {
     "data": {
      "application/vnd.jupyter.widget-view+json": {
       "model_id": "2c2f96c0cfcc4736897e0881b7303cc0",
       "version_major": 2,
       "version_minor": 0
      },
      "text/plain": [
       "HBox(children=(IntProgress(value=0, max=16), HTML(value='')))"
      ]
     },
     "metadata": {},
     "output_type": "display_data"
    },
    {
     "name": "stdout",
     "output_type": "stream",
     "text": [
      "\n"
     ]
    },
    {
     "data": {
      "application/vnd.jupyter.widget-view+json": {
       "model_id": "c78c32ff23f04d2189ad85a1dc4850af",
       "version_major": 2,
       "version_minor": 0
      },
      "text/plain": [
       "HBox(children=(IntProgress(value=0, max=24), HTML(value='')))"
      ]
     },
     "metadata": {},
     "output_type": "display_data"
    },
    {
     "name": "stdout",
     "output_type": "stream",
     "text": [
      "\n"
     ]
    },
    {
     "data": {
      "application/vnd.jupyter.widget-view+json": {
       "model_id": "9255914cf8a44fddb0c6f05d24dfcd02",
       "version_major": 2,
       "version_minor": 0
      },
      "text/plain": [
       "HBox(children=(IntProgress(value=0, max=26), HTML(value='')))"
      ]
     },
     "metadata": {},
     "output_type": "display_data"
    },
    {
     "name": "stdout",
     "output_type": "stream",
     "text": [
      "\n"
     ]
    },
    {
     "data": {
      "application/vnd.jupyter.widget-view+json": {
       "model_id": "70790fbb71e8437289d8bb7a0ffa3f30",
       "version_major": 2,
       "version_minor": 0
      },
      "text/plain": [
       "HBox(children=(IntProgress(value=0, max=23), HTML(value='')))"
      ]
     },
     "metadata": {},
     "output_type": "display_data"
    },
    {
     "name": "stdout",
     "output_type": "stream",
     "text": [
      "\n"
     ]
    },
    {
     "data": {
      "application/vnd.jupyter.widget-view+json": {
       "model_id": "4611933e474746c2bde28ed79885ad07",
       "version_major": 2,
       "version_minor": 0
      },
      "text/plain": [
       "HBox(children=(IntProgress(value=0, max=18), HTML(value='')))"
      ]
     },
     "metadata": {},
     "output_type": "display_data"
    },
    {
     "name": "stdout",
     "output_type": "stream",
     "text": [
      "\n"
     ]
    },
    {
     "data": {
      "application/vnd.jupyter.widget-view+json": {
       "model_id": "8bfac226dd3943c69a0d604bb7f5b7de",
       "version_major": 2,
       "version_minor": 0
      },
      "text/plain": [
       "HBox(children=(IntProgress(value=0, max=20), HTML(value='')))"
      ]
     },
     "metadata": {},
     "output_type": "display_data"
    },
    {
     "name": "stdout",
     "output_type": "stream",
     "text": [
      "\n"
     ]
    },
    {
     "data": {
      "application/vnd.jupyter.widget-view+json": {
       "model_id": "cbdcd0ba277e4970af17b3be782c67cb",
       "version_major": 2,
       "version_minor": 0
      },
      "text/plain": [
       "HBox(children=(IntProgress(value=0, max=11), HTML(value='')))"
      ]
     },
     "metadata": {},
     "output_type": "display_data"
    },
    {
     "name": "stdout",
     "output_type": "stream",
     "text": [
      "\n"
     ]
    },
    {
     "data": {
      "application/vnd.jupyter.widget-view+json": {
       "model_id": "2bec3903217e4c13b162e225a3daebcc",
       "version_major": 2,
       "version_minor": 0
      },
      "text/plain": [
       "HBox(children=(IntProgress(value=0, max=12), HTML(value='')))"
      ]
     },
     "metadata": {},
     "output_type": "display_data"
    },
    {
     "name": "stdout",
     "output_type": "stream",
     "text": [
      "\n"
     ]
    },
    {
     "data": {
      "application/vnd.jupyter.widget-view+json": {
       "model_id": "2f91c7ec21d74c789b37892af93b2279",
       "version_major": 2,
       "version_minor": 0
      },
      "text/plain": [
       "HBox(children=(IntProgress(value=0, max=18), HTML(value='')))"
      ]
     },
     "metadata": {},
     "output_type": "display_data"
    },
    {
     "name": "stdout",
     "output_type": "stream",
     "text": [
      "\n"
     ]
    },
    {
     "data": {
      "application/vnd.jupyter.widget-view+json": {
       "model_id": "3aaed7a782024a39a58942a6c54b90b7",
       "version_major": 2,
       "version_minor": 0
      },
      "text/plain": [
       "HBox(children=(IntProgress(value=0, max=18), HTML(value='')))"
      ]
     },
     "metadata": {},
     "output_type": "display_data"
    },
    {
     "name": "stdout",
     "output_type": "stream",
     "text": [
      "\n"
     ]
    },
    {
     "data": {
      "application/vnd.jupyter.widget-view+json": {
       "model_id": "a11dc381ed8a4a618a60b6e967215628",
       "version_major": 2,
       "version_minor": 0
      },
      "text/plain": [
       "HBox(children=(IntProgress(value=0, max=19), HTML(value='')))"
      ]
     },
     "metadata": {},
     "output_type": "display_data"
    },
    {
     "name": "stdout",
     "output_type": "stream",
     "text": [
      "\n"
     ]
    },
    {
     "data": {
      "application/vnd.jupyter.widget-view+json": {
       "model_id": "978209ab26c9461b88dab8cc5446efe6",
       "version_major": 2,
       "version_minor": 0
      },
      "text/plain": [
       "HBox(children=(IntProgress(value=0, max=14), HTML(value='')))"
      ]
     },
     "metadata": {},
     "output_type": "display_data"
    },
    {
     "name": "stdout",
     "output_type": "stream",
     "text": [
      "\n"
     ]
    },
    {
     "data": {
      "application/vnd.jupyter.widget-view+json": {
       "model_id": "cde44dd1f39b4f6e9f9761bbc29e26f5",
       "version_major": 2,
       "version_minor": 0
      },
      "text/plain": [
       "HBox(children=(IntProgress(value=0, max=15), HTML(value='')))"
      ]
     },
     "metadata": {},
     "output_type": "display_data"
    },
    {
     "name": "stdout",
     "output_type": "stream",
     "text": [
      "\n"
     ]
    },
    {
     "data": {
      "application/vnd.jupyter.widget-view+json": {
       "model_id": "811acc8710f64045a9e92119063eeaeb",
       "version_major": 2,
       "version_minor": 0
      },
      "text/plain": [
       "HBox(children=(IntProgress(value=0, max=11), HTML(value='')))"
      ]
     },
     "metadata": {},
     "output_type": "display_data"
    },
    {
     "name": "stdout",
     "output_type": "stream",
     "text": [
      "\n"
     ]
    },
    {
     "data": {
      "application/vnd.jupyter.widget-view+json": {
       "model_id": "4667601741e14d379d0d194d857077f4",
       "version_major": 2,
       "version_minor": 0
      },
      "text/plain": [
       "HBox(children=(IntProgress(value=0, max=15), HTML(value='')))"
      ]
     },
     "metadata": {},
     "output_type": "display_data"
    },
    {
     "name": "stdout",
     "output_type": "stream",
     "text": [
      "\n"
     ]
    },
    {
     "data": {
      "application/vnd.jupyter.widget-view+json": {
       "model_id": "c2672be4aea645ec9c564e64c402be46",
       "version_major": 2,
       "version_minor": 0
      },
      "text/plain": [
       "HBox(children=(IntProgress(value=0, max=9), HTML(value='')))"
      ]
     },
     "metadata": {},
     "output_type": "display_data"
    },
    {
     "name": "stdout",
     "output_type": "stream",
     "text": [
      "\n"
     ]
    },
    {
     "data": {
      "application/vnd.jupyter.widget-view+json": {
       "model_id": "f38653c843e640d6b7cf507c7b7aeb5e",
       "version_major": 2,
       "version_minor": 0
      },
      "text/plain": [
       "HBox(children=(IntProgress(value=0, max=17), HTML(value='')))"
      ]
     },
     "metadata": {},
     "output_type": "display_data"
    },
    {
     "name": "stdout",
     "output_type": "stream",
     "text": [
      "\n",
      "\n"
     ]
    },
    {
     "data": {
      "text/html": [
       "<div>\n",
       "<style scoped>\n",
       "    .dataframe tbody tr th:only-of-type {\n",
       "        vertical-align: middle;\n",
       "    }\n",
       "\n",
       "    .dataframe tbody tr th {\n",
       "        vertical-align: top;\n",
       "    }\n",
       "\n",
       "    .dataframe thead th {\n",
       "        text-align: right;\n",
       "    }\n",
       "</style>\n",
       "<table border=\"1\" class=\"dataframe\">\n",
       "  <thead>\n",
       "    <tr style=\"text-align: right;\">\n",
       "      <th></th>\n",
       "      <th>Media</th>\n",
       "      <th>Date</th>\n",
       "      <th>Link</th>\n",
       "      <th>Text</th>\n",
       "      <th>Dep</th>\n",
       "      <th>Tags</th>\n",
       "    </tr>\n",
       "  </thead>\n",
       "  <tbody>\n",
       "    <tr>\n",
       "      <td>0</td>\n",
       "      <td>motor.ru</td>\n",
       "      <td>2019.01.01</td>\n",
       "      <td>https://motor.ru/news/clarkson5-29-12-2018.htm</td>\n",
       "      <td>Джереми Кларксон выбрал пять лучших автомобиле...</td>\n",
       "      <td></td>\n",
       "      <td>[]</td>\n",
       "    </tr>\n",
       "    <tr>\n",
       "      <td>1</td>\n",
       "      <td>motor.ru</td>\n",
       "      <td>2019.01.01</td>\n",
       "      <td>https://motor.ru/lab/voprosypoosago.htm</td>\n",
       "      <td>Вопросы по ОСАГО? Сейчас все порешаем .«Мотор»...</td>\n",
       "      <td></td>\n",
       "      <td>[]</td>\n",
       "    </tr>\n",
       "    <tr>\n",
       "      <td>2</td>\n",
       "      <td>motor.ru</td>\n",
       "      <td>2019.01.01</td>\n",
       "      <td>https://motor.ru/news/bertone-ev-29-12-2018.htm</td>\n",
       "      <td>Марку Bertone возродят для выпуска электрическ...</td>\n",
       "      <td></td>\n",
       "      <td>[]</td>\n",
       "    </tr>\n",
       "    <tr>\n",
       "      <td>3</td>\n",
       "      <td>motor.ru</td>\n",
       "      <td>2019.01.01</td>\n",
       "      <td>https://motor.ru/news/jetta-polo-29-12-2018.htm</td>\n",
       "      <td>Стали известны сроки появления в России новых ...</td>\n",
       "      <td></td>\n",
       "      <td>[]</td>\n",
       "    </tr>\n",
       "    <tr>\n",
       "      <td>4</td>\n",
       "      <td>motor.ru</td>\n",
       "      <td>2019.01.01</td>\n",
       "      <td>https://motor.ru/news/belgium-barnfind-29-12-2...</td>\n",
       "      <td>В заваленном песком гараже нашли винтажные маш...</td>\n",
       "      <td></td>\n",
       "      <td>[]</td>\n",
       "    </tr>\n",
       "    <tr>\n",
       "      <td>...</td>\n",
       "      <td>...</td>\n",
       "      <td>...</td>\n",
       "      <td>...</td>\n",
       "      <td>...</td>\n",
       "      <td>...</td>\n",
       "      <td>...</td>\n",
       "    </tr>\n",
       "    <tr>\n",
       "      <td>4724</td>\n",
       "      <td>motor.ru</td>\n",
       "      <td>2019.12.31</td>\n",
       "      <td>https://motor.ru/news/mazda-fight-big-batterie...</td>\n",
       "      <td>Mazda: электрокары с большими батареями вредне...</td>\n",
       "      <td></td>\n",
       "      <td>[]</td>\n",
       "    </tr>\n",
       "    <tr>\n",
       "      <td>4725</td>\n",
       "      <td>motor.ru</td>\n",
       "      <td>2019.12.31</td>\n",
       "      <td>https://motor.ru/news/chinamodelthree-30-12-20...</td>\n",
       "      <td>Первые Tesla Model 3 китайской сборки передали...</td>\n",
       "      <td></td>\n",
       "      <td>[]</td>\n",
       "    </tr>\n",
       "    <tr>\n",
       "      <td>4726</td>\n",
       "      <td>motor.ru</td>\n",
       "      <td>2019.12.31</td>\n",
       "      <td>https://motor.ru/news/ghosn-leaves-japan-31-12...</td>\n",
       "      <td>Экс-глава Renault-Nissan сбежал из-под домашне...</td>\n",
       "      <td></td>\n",
       "      <td>[]</td>\n",
       "    </tr>\n",
       "    <tr>\n",
       "      <td>4727</td>\n",
       "      <td>motor.ru</td>\n",
       "      <td>2019.12.31</td>\n",
       "      <td>https://motor.ru/news/def-v8-30-12-2019.htm</td>\n",
       "      <td>Посмотрите на роскошный Land Rover Defender с ...</td>\n",
       "      <td></td>\n",
       "      <td>[]</td>\n",
       "    </tr>\n",
       "    <tr>\n",
       "      <td>4728</td>\n",
       "      <td>motor.ru</td>\n",
       "      <td>2019.12.31</td>\n",
       "      <td>https://motor.ru/news/chery-tiggo8-rus-31-12-2...</td>\n",
       "      <td>Самый большой кроссовер Chery сертифицировали ...</td>\n",
       "      <td></td>\n",
       "      <td>[]</td>\n",
       "    </tr>\n",
       "  </tbody>\n",
       "</table>\n",
       "<p>4729 rows × 6 columns</p>\n",
       "</div>"
      ],
      "text/plain": [
       "         Media        Date                                               Link  \\\n",
       "0     motor.ru  2019.01.01     https://motor.ru/news/clarkson5-29-12-2018.htm   \n",
       "1     motor.ru  2019.01.01            https://motor.ru/lab/voprosypoosago.htm   \n",
       "2     motor.ru  2019.01.01    https://motor.ru/news/bertone-ev-29-12-2018.htm   \n",
       "3     motor.ru  2019.01.01    https://motor.ru/news/jetta-polo-29-12-2018.htm   \n",
       "4     motor.ru  2019.01.01  https://motor.ru/news/belgium-barnfind-29-12-2...   \n",
       "...        ...         ...                                                ...   \n",
       "4724  motor.ru  2019.12.31  https://motor.ru/news/mazda-fight-big-batterie...   \n",
       "4725  motor.ru  2019.12.31  https://motor.ru/news/chinamodelthree-30-12-20...   \n",
       "4726  motor.ru  2019.12.31  https://motor.ru/news/ghosn-leaves-japan-31-12...   \n",
       "4727  motor.ru  2019.12.31        https://motor.ru/news/def-v8-30-12-2019.htm   \n",
       "4728  motor.ru  2019.12.31  https://motor.ru/news/chery-tiggo8-rus-31-12-2...   \n",
       "\n",
       "                                                   Text Dep Tags  \n",
       "0     Джереми Кларксон выбрал пять лучших автомобиле...       []  \n",
       "1     Вопросы по ОСАГО? Сейчас все порешаем .«Мотор»...       []  \n",
       "2     Марку Bertone возродят для выпуска электрическ...       []  \n",
       "3     Стали известны сроки появления в России новых ...       []  \n",
       "4     В заваленном песком гараже нашли винтажные маш...       []  \n",
       "...                                                 ...  ..  ...  \n",
       "4724  Mazda: электрокары с большими батареями вредне...       []  \n",
       "4725  Первые Tesla Model 3 китайской сборки передали...       []  \n",
       "4726  Экс-глава Renault-Nissan сбежал из-под домашне...       []  \n",
       "4727  Посмотрите на роскошный Land Rover Defender с ...       []  \n",
       "4728  Самый большой кроссовер Chery сертифицировали ...       []  \n",
       "\n",
       "[4729 rows x 6 columns]"
      ]
     },
     "execution_count": 153,
     "metadata": {},
     "output_type": "execute_result"
    }
   ],
   "source": [
    "motor_2019 = []\n",
    "for date in tqdm_notebook(list(motor_19.keys())):\n",
    "    for link in tqdm_notebook(motor_19[date]):\n",
    "#         if link not in pd.DataFrame(gazeta_2020).Link:\n",
    "        try:\n",
    "            motor_2019.append({'Media':'motor.ru', 'Date':date, 'Link':link,\n",
    "                                       'Text':get_article_motor(link), 'Dep':'', 'Tags':[]})\n",
    "        except (requests.exceptions.ConnectionError, AttributeError, \n",
    "                IndexError, requests.exceptions.TooManyRedirects):\n",
    "            print(link)\n",
    "    if date.endswith('1'):\n",
    "        pd.DataFrame(motor_2019).to_csv('motor_2019.csv', encoding='utf-8')\n",
    "pd.DataFrame(motor_2019).to_csv('motor_2019.csv', encoding='utf-8')\n",
    "pd.DataFrame(motor_2019)"
   ]
  },
  {
   "cell_type": "code",
   "execution_count": null,
   "metadata": {},
   "outputs": [],
   "source": []
  },
  {
   "cell_type": "code",
   "execution_count": null,
   "metadata": {},
   "outputs": [],
   "source": []
  },
  {
   "cell_type": "code",
   "execution_count": null,
   "metadata": {},
   "outputs": [],
   "source": []
  },
  {
   "cell_type": "code",
   "execution_count": null,
   "metadata": {},
   "outputs": [],
   "source": []
  }
 ],
 "metadata": {
  "kernelspec": {
   "display_name": "Python 3",
   "language": "python",
   "name": "python3"
  },
  "language_info": {
   "codemirror_mode": {
    "name": "ipython",
    "version": 3
   },
   "file_extension": ".py",
   "mimetype": "text/x-python",
   "name": "python",
   "nbconvert_exporter": "python",
   "pygments_lexer": "ipython3",
   "version": "3.7.4"
  }
 },
 "nbformat": 4,
 "nbformat_minor": 2
}
